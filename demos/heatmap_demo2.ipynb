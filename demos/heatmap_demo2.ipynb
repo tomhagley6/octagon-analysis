{
 "cells": [
  {
   "cell_type": "code",
   "execution_count": 11,
   "id": "d186826f-a807-49a8-b6f4-80d11df2c17c",
   "metadata": {},
   "outputs": [
    {
     "name": "stdout",
     "output_type": "stream",
     "text": [
      "The autoreload extension is already loaded. To reload it, use:\n",
      "  %reload_ext autoreload\n",
      "The autoreload extension is already loaded. To reload it, use:\n",
      "  %reload_ext autoreload\n"
     ]
    }
   ],
   "source": [
    "%load_ext autoreload\n",
    "%autoreload 2\n",
    "\n",
    "import parse_data.prepare_data as prepare_data\n",
    "import parse_data.flip_rotate_trajectories as flip_rotate_trajectories\n",
    "from analysis.response_times import calculate_response_times, plot_response_times\n",
    "import data_extraction.get_indices as get_indices\n",
    "import plotting.plot_octagon as plot_octagon\n",
    "import globals\n",
    "import numpy as np\n",
    "import pandas as pd\n",
    "import matplotlib.pyplot as plt\n",
    "from matplotlib.patches import Polygon\n",
    "import analysis.loser_inferred_choice as loser_inferred_choice\n",
    "import seaborn as sns\n",
    "import data_strings\n",
    "import data_extraction.trial_list_filters as trial_list_filters\n"
   ]
  },
  {
   "cell_type": "code",
   "execution_count": 3,
   "id": "67df156d-0d98-4906-b498-2a0f26988d14",
   "metadata": {},
   "outputs": [],
   "source": [
    "data_folder = data_strings.DATA_FOLDER\n",
    "json_filenames_all_social = data_strings.JSON_FILENAMES_SOCIAL\n",
    "json_filenames_all_solo = data_strings.JSON_FILENAMES_SOLO"
   ]
  },
  {
   "cell_type": "code",
   "execution_count": 4,
   "id": "fc95fc5b",
   "metadata": {},
   "outputs": [],
   "source": [
    "json_filenames = json_filenames_all_social"
   ]
  },
  {
   "cell_type": "code",
   "execution_count": 5,
   "id": "970a4369-7337-40e6-82d0-58e481b3e73e",
   "metadata": {},
   "outputs": [
    {
     "name": "stdout",
     "output_type": "stream",
     "text": [
      "filepath: D:\\Users\\Tom\\OneDrive\\PhD\\SWC\\data\\first_experiments_2409\\240913\\2024-09-13_11-31-00_YansuJerrySocial.json\n",
      "Data is from period before 2024-09-13 00:00:00\n",
      "Running dataframe through playerinfo_playerposition_conversion.\n",
      "Loading complete.\n",
      "filepath: D:\\Users\\Tom\\OneDrive\\PhD\\SWC\\data\\second_experiments_2409\\240927\\2024-09-27_14-25-20_SaraEmilySocial.json\n",
      "Loading complete.\n",
      "filepath: D:\\Users\\Tom\\OneDrive\\PhD\\SWC\\data\\third_experiments_2410\\241017\\2024-10-17_14-28-40_ShamirAbigailSocial.json\n",
      "Loading complete.\n",
      "filepath: D:\\Users\\Tom\\OneDrive\\PhD\\SWC\\data\\fourth_experiments_2410\\241017\\2024-10-17_16-41-38_ZimoElsaSocial.json\n",
      "Loading complete.\n",
      "filepath: D:\\Users\\Tom\\OneDrive\\PhD\\SWC\\data\\fifth_experiments_241112\\2024-11-12_13-31-14_KhadijaWendySocial.json\n",
      "Loading complete.\n",
      "filepath: D:\\Users\\Tom\\OneDrive\\PhD\\SWC\\data\\sixth_experiments_241112\\2024-11-12_15-23-24_FrancescaSenSzeSocial.json\n",
      "Loading complete.\n",
      "filepath: D:\\Users\\Tom\\OneDrive\\PhD\\SWC\\data\\seventh_experiments_241113\\2024-11-13_14-18-54_NasiaRyanSocial.json\n",
      "Loading complete.\n",
      "filepath: D:\\Users\\Tom\\OneDrive\\PhD\\SWC\\data\\eighth_experiments_241113\\2024-11-13_15-28-07_YichuanHoiSocial.json\n",
      "Loading complete.\n",
      "filepath: D:\\Users\\Tom\\OneDrive\\PhD\\SWC\\data\\ninth_experiments_241119\\2024-11-19_14-24-49_AmyXinyuanSocial.json\n",
      "Loading complete.\n",
      "filepath: D:\\Users\\Tom\\OneDrive\\PhD\\SWC\\data\\tenth_experiments_241119\\2024-11-19_15-22-56_SophiaHocineSocial.json\n",
      "Loading complete.\n",
      "filepath: D:\\Users\\Tom\\OneDrive\\PhD\\SWC\\data\\eleventh_experiments_241120\\2024-11-20_14-17-44_JasonRahulSocial.json\n",
      "Loading complete.\n",
      "filepath: D:\\Users\\Tom\\OneDrive\\PhD\\SWC\\data\\twelfth_experiments_241120\\2024-11-20_15-16-21_SunnyVinceSocial.json\n",
      "Loading complete.\n",
      "filepath: D:\\Users\\Tom\\OneDrive\\PhD\\SWC\\data\\241203_1\\2024-12-03_14-31-51_PaulNicoleSocial.json\n",
      "Loading complete.\n",
      "filepath: D:\\Users\\Tom\\OneDrive\\PhD\\SWC\\data\\241203_2\\2024-12-03_15-27-28_EstherBowimSocial.json\n",
      "Loading complete.\n",
      "filepath: D:\\Users\\Tom\\OneDrive\\PhD\\SWC\\data\\241210_1\\2024-12-10_14-21-17_TaqwaTasSocial.json\n",
      "Loading complete.\n",
      "filepath: D:\\Users\\Tom\\OneDrive\\PhD\\SWC\\data\\241210_2\\2024-12-10_15-20-11_RyanRoseSocial.json\n",
      "Loading complete.\n",
      "filepath: D:\\Users\\Tom\\OneDrive\\PhD\\SWC\\data\\241219_1\\2024-12-19_15-28-24_JingjingYeungSocial.json\n",
      "Loading complete.\n",
      "filepath: D:\\Users\\Tom\\OneDrive\\PhD\\SWC\\data\\250115_1\\2025-01-15_15-21-27_YixuanMarcoSocial.json\n",
      "Loading complete.\n",
      "filepath: D:\\Users\\Tom\\OneDrive\\PhD\\SWC\\data\\250115_2\\2025-01-15_16-27-23_YuChunRuiqingSocial.json\n",
      "Loading complete.\n",
      "Preprocessing complete.\n",
      "Preprocessing complete.\n",
      "Preprocessing complete.\n",
      "Preprocessing complete.\n",
      "Preprocessing complete.\n",
      "Preprocessing complete.\n",
      "Preprocessing complete.\n",
      "Preprocessing complete.\n",
      "Preprocessing complete.\n",
      "Preprocessing complete.\n",
      "Preprocessing complete.\n",
      "Preprocessing complete.\n",
      "Preprocessing complete.\n",
      "Preprocessing complete.\n",
      "Preprocessing complete.\n",
      "Preprocessing complete.\n",
      "Preprocessing complete.\n",
      "Preprocessing complete.\n",
      "Preprocessing complete.\n"
     ]
    }
   ],
   "source": [
    "# prepare the session dataframe and dataframes of each individual trial\n",
    "df, trial_lists = prepare_data.prepare_data(data_folder, json_filenames, combine=True)"
   ]
  },
  {
   "cell_type": "code",
   "execution_count": 6,
   "id": "bcc7f43c-b382-4766-8fa2-45d85d801a20",
   "metadata": {},
   "outputs": [
    {
     "data": {
      "text/plain": [
       "684"
      ]
     },
     "execution_count": 6,
     "metadata": {},
     "output_type": "execute_result"
    }
   ],
   "source": [
    "get_indices.get_trials_with_wall_sep(trial_list=trial_list, wall_sep=1).size"
   ]
  },
  {
   "cell_type": "code",
   "execution_count": 7,
   "id": "54ba6ba9-3d83-4cb0-ae7a-4d0835c6b6e6",
   "metadata": {},
   "outputs": [],
   "source": [
    "## HEATMAPS ##"
   ]
  },
  {
   "cell_type": "code",
   "execution_count": 8,
   "id": "c3db6b27-53f3-4fc9-8a57-b1c4e515dc84",
   "metadata": {},
   "outputs": [],
   "source": [
    "x_min = -20\n",
    "x_max = 20\n",
    "y_min = -20\n",
    "y_max = 20"
   ]
  },
  {
   "cell_type": "code",
   "execution_count": null,
   "id": "a5aa99b4",
   "metadata": {},
   "outputs": [],
   "source": [
    "## sandbox for P(wall | first vis) heatmap\n",
    "# first, write code to gather location counts data for one player\n",
    "# Then, allow looping over all players so that location counts can be summed together, but still retain the data\n",
    "# for individuals\n",
    "\n",
    "# The cleanest way to do this will be to work with dataframes directly\n",
    "# create a dictionary with nested dictionaries for session ids, which contain filtered lists of dataframes for each player\n",
    "# be aware of the df trail number misaligning with the trial df index if I was looping instead \n",
    "\n",
    "# when I do global analysis, I just take this dictionary, and flatten it, concatenating all of the lists"
   ]
  },
  {
   "cell_type": "code",
   "execution_count": 12,
   "id": "f2c7d3f1",
   "metadata": {},
   "outputs": [],
   "source": [
    "solo = False"
   ]
  },
  {
   "cell_type": "markdown",
   "id": "b953aa91",
   "metadata": {},
   "source": [
    "#### general analysis structure"
   ]
  },
  {
   "cell_type": "code",
   "execution_count": 18,
   "id": "305c346f",
   "metadata": {},
   "outputs": [],
   "source": [
    "# create dictionary to store filtered lists of dataframes for each player\n",
    "filtered_data = {}\n",
    "for session_id, trial_list in enumerate(trial_lists):\n",
    "    # create the nested dictionary for session_id\n",
    "    filtered_data[session_id] = {}\n",
    "\n",
    "    player_ids = [0] if solo else [0,1]\n",
    "    for player_id in player_ids:\n",
    "        # do some filtering to this trial list for this player_id\n",
    "        filtered_trial_list = []\n",
    "\n",
    "        # append the filtered trial list to the dictionary\n",
    "        filtered_data[session_id, player_id] = filtered_trial_list"
   ]
  },
  {
   "cell_type": "markdown",
   "id": "446fbd64",
   "metadata": {},
   "source": [
    "#### filtering to get P(H|H first vis) and P(H|L first vis) trials"
   ]
  },
  {
   "cell_type": "code",
   "execution_count": 19,
   "id": "e453eb34",
   "metadata": {},
   "outputs": [],
   "source": [
    "# variables for filtering function\n",
    "trial_list = trial_lists[6]\n",
    "player_id = 0\n",
    "inferred_choice = False\n",
    "current_fov =110\n",
    "wall_visible_index=0\n",
    "chosen_wall_index = 0"
   ]
  },
  {
   "cell_type": "code",
   "execution_count": 22,
   "id": "62df8a46",
   "metadata": {},
   "outputs": [],
   "source": [
    "def heatmap_trial_list_filterer(trial_list, player_id, inferred_choice, current_fov, wall_visible_index,\n",
    "                                chosen_wall_index, debug=False):    \n",
    "    \n",
    "\n",
    "    print(f\" trial list: {type(trial_list)}\")\n",
    "    print(f\"player_id: {type(player_id)})\n",
    "    # filter for retrievable choice, then where visible_wall_index becomes visible first, then where player chose High\n",
    "    trial_list_filtered, original_indices = trial_list_filters.filter_trials_retrievable_choice(trial_list, player_id, inferred_choice, original_indices=None,\n",
    "                                        debug=False)\n",
    "\n",
    "    trial_list_filtered, original_indices = trial_list_filters.filter_trials_one_wall_becomes_visible_first(trial_list_filtered, player_id,\n",
    "                                                    current_fov, wall_index=wall_visible_index,\n",
    "                                                    original_indices=original_indices,\n",
    "                                                    debug=False)\n",
    "\n",
    "    trial_list_filtered, original_indices = trial_list_filters.filter_trials_player_chose_given_wall(trial_list_filtered, player_id,\n",
    "                                                                inferred_choice,\n",
    "                                                                given_wall_index=chosen_wall_index,\n",
    "                                                                original_indices=original_indices,\n",
    "                                                                debug=False)\n",
    "    \n",
    "    return trial_list_filtered, original_indices\n"
   ]
  },
  {
   "cell_type": "markdown",
   "id": "60ae07e3",
   "metadata": {},
   "source": [
    "#### filtering applied to general structure"
   ]
  },
  {
   "cell_type": "code",
   "execution_count": 23,
   "id": "0ebcaad0",
   "metadata": {},
   "outputs": [
    {
     "name": "stdout",
     "output_type": "stream",
     "text": [
      "<class 'pandas.core.frame.DataFrame'>\n",
      "<class 'int'>\n"
     ]
    },
    {
     "ename": "TypeError",
     "evalue": "string indices must be integers, not 'str'",
     "output_type": "error",
     "traceback": [
      "\u001b[1;31m---------------------------------------------------------------------------\u001b[0m",
      "\u001b[1;31mTypeError\u001b[0m                                 Traceback (most recent call last)",
      "Cell \u001b[1;32mIn[23], line 10\u001b[0m\n\u001b[0;32m      7\u001b[0m player_ids \u001b[38;5;241m=\u001b[39m [\u001b[38;5;241m0\u001b[39m] \u001b[38;5;28;01mif\u001b[39;00m solo \u001b[38;5;28;01melse\u001b[39;00m [\u001b[38;5;241m0\u001b[39m,\u001b[38;5;241m1\u001b[39m]\n\u001b[0;32m      8\u001b[0m \u001b[38;5;28;01mfor\u001b[39;00m player_id \u001b[38;5;129;01min\u001b[39;00m player_ids:\n\u001b[0;32m      9\u001b[0m     \u001b[38;5;66;03m# do some filtering to this trial list for this player_id\u001b[39;00m\n\u001b[1;32m---> 10\u001b[0m     filtered_trial_list, _ \u001b[38;5;241m=\u001b[39m \u001b[43mheatmap_trial_list_filterer\u001b[49m\u001b[43m(\u001b[49m\u001b[43mtrial_list\u001b[49m\u001b[43m,\u001b[49m\u001b[43m \u001b[49m\u001b[43mplayer_id\u001b[49m\u001b[43m,\u001b[49m\u001b[43m \u001b[49m\n\u001b[0;32m     11\u001b[0m \u001b[43m                                \u001b[49m\u001b[43minferred_choice\u001b[49m\u001b[43m,\u001b[49m\u001b[43m \u001b[49m\u001b[43mcurrent_fov\u001b[49m\u001b[43m,\u001b[49m\u001b[43m \u001b[49m\u001b[43mwall_visible_index\u001b[49m\u001b[43m,\u001b[49m\n\u001b[0;32m     12\u001b[0m \u001b[43m                                \u001b[49m\u001b[43mchosen_wall_index\u001b[49m\u001b[43m,\u001b[49m\u001b[43m \u001b[49m\u001b[43mdebug\u001b[49m\u001b[38;5;241;43m=\u001b[39;49m\u001b[38;5;28;43;01mFalse\u001b[39;49;00m\u001b[43m)\u001b[49m\n\u001b[0;32m     14\u001b[0m     \u001b[38;5;66;03m# append the filtered trial list to the dictionary\u001b[39;00m\n\u001b[0;32m     15\u001b[0m     filtered_data[session_id, player_id] \u001b[38;5;241m=\u001b[39m filtered_trial_list\n",
      "Cell \u001b[1;32mIn[22], line 8\u001b[0m, in \u001b[0;36mheatmap_trial_list_filterer\u001b[1;34m(trial_list, player_id, inferred_choice, current_fov, wall_visible_index, chosen_wall_index, debug)\u001b[0m\n\u001b[0;32m      6\u001b[0m \u001b[38;5;28mprint\u001b[39m(\u001b[38;5;28mtype\u001b[39m(player_id))\n\u001b[0;32m      7\u001b[0m \u001b[38;5;66;03m# filter for retrievable choice, then where visible_wall_index becomes visible first, then where player chose High\u001b[39;00m\n\u001b[1;32m----> 8\u001b[0m trial_list_filtered, original_indices \u001b[38;5;241m=\u001b[39m \u001b[43mtrial_list_filters\u001b[49m\u001b[38;5;241;43m.\u001b[39;49m\u001b[43mfilter_trials_retrievable_choice\u001b[49m\u001b[43m(\u001b[49m\u001b[43mtrial_list\u001b[49m\u001b[43m,\u001b[49m\u001b[43m \u001b[49m\u001b[43mplayer_id\u001b[49m\u001b[43m,\u001b[49m\u001b[43m \u001b[49m\u001b[43minferred_choice\u001b[49m\u001b[43m,\u001b[49m\u001b[43m \u001b[49m\u001b[43moriginal_indices\u001b[49m\u001b[38;5;241;43m=\u001b[39;49m\u001b[38;5;28;43;01mNone\u001b[39;49;00m\u001b[43m,\u001b[49m\n\u001b[0;32m      9\u001b[0m \u001b[43m                                    \u001b[49m\u001b[43mdebug\u001b[49m\u001b[38;5;241;43m=\u001b[39;49m\u001b[38;5;28;43;01mFalse\u001b[39;49;00m\u001b[43m)\u001b[49m\n\u001b[0;32m     11\u001b[0m trial_list_filtered, original_indices \u001b[38;5;241m=\u001b[39m trial_list_filters\u001b[38;5;241m.\u001b[39mfilter_trials_one_wall_becomes_visible_first(trial_list_filtered, player_id,\n\u001b[0;32m     12\u001b[0m                                                 current_fov, wall_index\u001b[38;5;241m=\u001b[39mwall_visible_index,\n\u001b[0;32m     13\u001b[0m                                                 original_indices\u001b[38;5;241m=\u001b[39moriginal_indices,\n\u001b[0;32m     14\u001b[0m                                                 debug\u001b[38;5;241m=\u001b[39m\u001b[38;5;28;01mFalse\u001b[39;00m)\n\u001b[0;32m     16\u001b[0m trial_list_filtered, original_indices \u001b[38;5;241m=\u001b[39m trial_list_filters\u001b[38;5;241m.\u001b[39mfilter_trials_player_chose_given_wall(trial_list_filtered, player_id,\n\u001b[0;32m     17\u001b[0m                                                             inferred_choice,\n\u001b[0;32m     18\u001b[0m                                                             given_wall_index\u001b[38;5;241m=\u001b[39mchosen_wall_index,\n\u001b[0;32m     19\u001b[0m                                                             original_indices\u001b[38;5;241m=\u001b[39moriginal_indices,\n\u001b[0;32m     20\u001b[0m                                                             debug\u001b[38;5;241m=\u001b[39m\u001b[38;5;28;01mFalse\u001b[39;00m)\n",
      "File \u001b[1;32md:\\tom\\documents\\swc\\repos\\octagon_analysis\\data_extraction\\trial_list_filters.py:50\u001b[0m, in \u001b[0;36mfilter_trials_retrievable_choice\u001b[1;34m(trial_list, player_id, inferred_choice, original_indices, debug)\u001b[0m\n\u001b[0;32m     46\u001b[0m     original_indices \u001b[38;5;241m=\u001b[39m np\u001b[38;5;241m.\u001b[39marange(\u001b[38;5;28mlen\u001b[39m(trial_list))\n\u001b[0;32m     48\u001b[0m \u001b[38;5;66;03m# get player choice (wall number) for each trial\u001b[39;00m\n\u001b[0;32m     49\u001b[0m \u001b[38;5;66;03m# inferred choice can be used here\u001b[39;00m\n\u001b[1;32m---> 50\u001b[0m player_choice \u001b[38;5;241m=\u001b[39m \u001b[43mwall_visibility_and_choice\u001b[49m\u001b[38;5;241;43m.\u001b[39;49m\u001b[43mget_player_wall_choice\u001b[49m\u001b[43m(\u001b[49m\u001b[43mtrial_list\u001b[49m\u001b[43m,\u001b[49m\u001b[43m \u001b[49m\u001b[43mplayer_id\u001b[49m\u001b[43m,\u001b[49m\n\u001b[0;32m     51\u001b[0m \u001b[43m                                                                    \u001b[49m\u001b[43minferred_choice\u001b[49m\u001b[43m,\u001b[49m\u001b[43m \u001b[49m\u001b[43mdebug\u001b[49m\u001b[38;5;241;43m=\u001b[39;49m\u001b[38;5;28;43;01mFalse\u001b[39;49;00m\u001b[43m)\u001b[49m\n\u001b[0;32m     53\u001b[0m \u001b[38;5;28;01mif\u001b[39;00m debug:\n\u001b[0;32m     54\u001b[0m     \u001b[38;5;28mprint\u001b[39m(\u001b[38;5;124mf\u001b[39m\u001b[38;5;124m\"\u001b[39m\u001b[38;5;124mplayer_choice, inferred status \u001b[39m\u001b[38;5;132;01m{\u001b[39;00minferred_choice\u001b[38;5;132;01m}\u001b[39;00m\u001b[38;5;124m is:\u001b[39m\u001b[38;5;130;01m\\n\u001b[39;00m\u001b[38;5;132;01m{\u001b[39;00mplayer_choice\u001b[38;5;132;01m}\u001b[39;00m\u001b[38;5;124m\"\u001b[39m)\n",
      "File \u001b[1;32md:\\tom\\documents\\swc\\repos\\octagon_analysis\\analysis\\wall_visibility_and_choice.py:192\u001b[0m, in \u001b[0;36mget_player_wall_choice\u001b[1;34m(trial_list, player_id, inferred_choice, debug)\u001b[0m\n\u001b[0;32m    190\u001b[0m     player_wall_choice \u001b[38;5;241m=\u001b[39m loser_inferred_choice\u001b[38;5;241m.\u001b[39mplayer_wall_choice_win_or_loss(trial_list, player_id, debug\u001b[38;5;241m=\u001b[39mdebug)\n\u001b[0;32m    191\u001b[0m \u001b[38;5;28;01melse\u001b[39;00m:\n\u001b[1;32m--> 192\u001b[0m     player_wall_choice \u001b[38;5;241m=\u001b[39m \u001b[43mwall_choice\u001b[49m\u001b[38;5;241;43m.\u001b[39;49m\u001b[43mplayer_wall_choice_wins_only\u001b[49m\u001b[43m(\u001b[49m\u001b[43mtrial_list\u001b[49m\u001b[43m,\u001b[49m\u001b[43m \u001b[49m\u001b[43mplayer_id\u001b[49m\u001b[43m,\u001b[49m\u001b[43m \u001b[49m\u001b[43mdebug\u001b[49m\u001b[38;5;241;43m=\u001b[39;49m\u001b[43mdebug\u001b[49m\u001b[43m)\u001b[49m\n\u001b[0;32m    193\u001b[0m \u001b[38;5;28;01mif\u001b[39;00m debug:\n\u001b[0;32m    194\u001b[0m     \u001b[38;5;28mprint\u001b[39m(\u001b[38;5;124mf\u001b[39m\u001b[38;5;124m\"\u001b[39m\u001b[38;5;124minclude loser\u001b[39m\u001b[38;5;124m'\u001b[39m\u001b[38;5;124ms inferred choice status: \u001b[39m\u001b[38;5;132;01m{\u001b[39;00minferred_choice\u001b[38;5;132;01m}\u001b[39;00m\u001b[38;5;124m\"\u001b[39m)\n",
      "File \u001b[1;32md:\\tom\\documents\\swc\\repos\\octagon_analysis\\analysis\\wall_choice.py:19\u001b[0m, in \u001b[0;36mplayer_wall_choice_wins_only\u001b[1;34m(trials_list, player_id, debug)\u001b[0m\n\u001b[0;32m     16\u001b[0m \u001b[38;5;28;01mif\u001b[39;00m debug:\n\u001b[0;32m     17\u001b[0m     start_time \u001b[38;5;241m=\u001b[39m time\u001b[38;5;241m.\u001b[39mtime()\n\u001b[1;32m---> 19\u001b[0m winning_player \u001b[38;5;241m=\u001b[39m \u001b[43mget_indices\u001b[49m\u001b[38;5;241;43m.\u001b[39;49m\u001b[43mget_trigger_activators\u001b[49m\u001b[43m(\u001b[49m\u001b[43mtrials_list\u001b[49m\u001b[43m)\u001b[49m\n\u001b[0;32m     20\u001b[0m chosen_walls \u001b[38;5;241m=\u001b[39m get_indices\u001b[38;5;241m.\u001b[39mget_chosen_walls(trials_list)\n\u001b[0;32m     21\u001b[0m current_player_wall_choice \u001b[38;5;241m=\u001b[39m np\u001b[38;5;241m.\u001b[39mzeros(\u001b[38;5;28mlen\u001b[39m(trials_list))\n",
      "File \u001b[1;32md:\\tom\\documents\\swc\\repos\\octagon_analysis\\data_extraction\\get_indices.py:142\u001b[0m, in \u001b[0;36mget_trigger_activators\u001b[1;34m(trial_list)\u001b[0m\n\u001b[0;32m    139\u001b[0m trigger_activators \u001b[38;5;241m=\u001b[39m np\u001b[38;5;241m.\u001b[39mfull(\u001b[38;5;28mlen\u001b[39m(trial_list), np\u001b[38;5;241m.\u001b[39mnan)\n\u001b[0;32m    140\u001b[0m \u001b[38;5;28;01mfor\u001b[39;00m i, trial \u001b[38;5;129;01min\u001b[39;00m \u001b[38;5;28menumerate\u001b[39m(trial_list):\n\u001b[1;32m--> 142\u001b[0m     trigger_event \u001b[38;5;241m=\u001b[39m trial[\u001b[43mtrial\u001b[49m\u001b[43m[\u001b[49m\u001b[38;5;124;43m'\u001b[39;49m\u001b[38;5;124;43meventDescription\u001b[39;49m\u001b[38;5;124;43m'\u001b[39;49m\u001b[43m]\u001b[49m \u001b[38;5;241m==\u001b[39m \u001b[38;5;28mglobals\u001b[39m\u001b[38;5;241m.\u001b[39mSELECTED_TRIGGER_ACTIVATION]\n\u001b[0;32m    143\u001b[0m     trigger_activators[i] \u001b[38;5;241m=\u001b[39m \u001b[38;5;28mint\u001b[39m(trigger_event[\u001b[38;5;28mglobals\u001b[39m\u001b[38;5;241m.\u001b[39mTRIGGER_CLIENT]\u001b[38;5;241m.\u001b[39mitem())\n\u001b[0;32m    146\u001b[0m \u001b[38;5;28;01mreturn\u001b[39;00m np\u001b[38;5;241m.\u001b[39masarray(trigger_activators)\n",
      "\u001b[1;31mTypeError\u001b[0m: string indices must be integers, not 'str'"
     ]
    }
   ],
   "source": [
    "# create dictionary to store filtered lists of dataframes for each player\n",
    "filtered_data = {}\n",
    "for session_id, trial_list in enumerate(trial_lists):\n",
    "    # create the nested dictionary for session_id\n",
    "    filtered_data[session_id] = {}\n",
    "\n",
    "    player_ids = [0] if solo else [0,1]\n",
    "    for player_id in player_ids:\n",
    "        # do some filtering to this trial list for this player_id\n",
    "        filtered_trial_list, _ = heatmap_trial_list_filterer(trial_list, player_id, \n",
    "                                    inferred_choice, current_fov, wall_visible_index,\n",
    "                                    chosen_wall_index, debug=False)\n",
    "\n",
    "        # append the filtered trial list to the dictionary\n",
    "        filtered_data[session_id, player_id] = filtered_trial_list"
   ]
  },
  {
   "cell_type": "code",
   "execution_count": null,
   "id": "4603a846",
   "metadata": {},
   "outputs": [],
   "source": []
  }
 ],
 "metadata": {
  "kernelspec": {
   "display_name": "octagon_analysis",
   "language": "python",
   "name": "python3"
  },
  "language_info": {
   "codemirror_mode": {
    "name": "ipython",
    "version": 3
   },
   "file_extension": ".py",
   "mimetype": "text/x-python",
   "name": "python",
   "nbconvert_exporter": "python",
   "pygments_lexer": "ipython3",
   "version": "3.12.5"
  }
 },
 "nbformat": 4,
 "nbformat_minor": 5
}
