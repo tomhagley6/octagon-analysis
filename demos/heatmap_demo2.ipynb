{
 "cells": [
  {
   "cell_type": "code",
   "execution_count": 542,
   "id": "d186826f-a807-49a8-b6f4-80d11df2c17c",
   "metadata": {},
   "outputs": [
    {
     "name": "stdout",
     "output_type": "stream",
     "text": [
      "The autoreload extension is already loaded. To reload it, use:\n",
      "  %reload_ext autoreload\n"
     ]
    }
   ],
   "source": [
    "%load_ext autoreload\n",
    "%autoreload 2\n",
    "\n",
    "import parse_data.prepare_data as prepare_data\n",
    "import parse_data.flip_rotate_trajectories as rotate\n",
    "from analysis.response_times import calculate_response_times, plot_response_times\n",
    "import data_extraction.get_indices as get_indices\n",
    "import plotting.plot_octagon as plot_octagon\n",
    "import globals\n",
    "import numpy as np\n",
    "import pandas as pd\n",
    "import matplotlib.pyplot as plt\n",
    "from matplotlib.patches import Polygon\n",
    "import analysis.loser_inferred_choice as loser_inferred_choice\n",
    "import seaborn as sns\n",
    "import data_strings\n",
    "import data_extraction.trial_list_filters as trial_list_filters\n"
   ]
  },
  {
   "cell_type": "code",
   "execution_count": 543,
   "id": "67df156d-0d98-4906-b498-2a0f26988d14",
   "metadata": {},
   "outputs": [],
   "source": [
    "data_folder = data_strings.DATA_FOLDER\n",
    "json_filenames_all_social = data_strings.JSON_FILENAMES_SOCIAL\n",
    "json_filenames_all_solo = data_strings.JSON_FILENAMES_SOLO"
   ]
  },
  {
   "cell_type": "code",
   "execution_count": 544,
   "id": "8efa5983",
   "metadata": {},
   "outputs": [],
   "source": [
    "solo = False"
   ]
  },
  {
   "cell_type": "code",
   "execution_count": 545,
   "id": "fc95fc5b",
   "metadata": {},
   "outputs": [],
   "source": [
    "if solo:\n",
    "    json_filenames = json_filenames_all_solo\n",
    "    \n",
    "else:\n",
    "    json_filenames = json_filenames_all_social\n",
    "    "
   ]
  },
  {
   "cell_type": "code",
   "execution_count": 546,
   "id": "970a4369-7337-40e6-82d0-58e481b3e73e",
   "metadata": {},
   "outputs": [
    {
     "name": "stdout",
     "output_type": "stream",
     "text": [
      "filepath: D:\\Users\\Tom\\OneDrive\\PhD\\SWC\\data\\first_experiments_2409\\240913\\2024-09-13_11-31-00_YansuJerrySocial.json\n",
      "Data is from period before 2024-09-13 00:00:00\n",
      "Running dataframe through playerinfo_playerposition_conversion.\n",
      "Loading complete.\n",
      "Preprocessing complete.\n",
      "filepath: D:\\Users\\Tom\\OneDrive\\PhD\\SWC\\data\\second_experiments_2409\\240927\\2024-09-27_14-25-20_SaraEmilySocial.json\n",
      "Loading complete.\n",
      "Preprocessing complete.\n",
      "filepath: D:\\Users\\Tom\\OneDrive\\PhD\\SWC\\data\\third_experiments_2410\\241017\\2024-10-17_14-28-40_ShamirAbigailSocial.json\n",
      "Loading complete.\n",
      "Preprocessing complete.\n",
      "filepath: D:\\Users\\Tom\\OneDrive\\PhD\\SWC\\data\\fourth_experiments_2410\\241017\\2024-10-17_16-41-38_ZimoElsaSocial.json\n",
      "Loading complete.\n",
      "Preprocessing complete.\n",
      "filepath: D:\\Users\\Tom\\OneDrive\\PhD\\SWC\\data\\fifth_experiments_241112\\2024-11-12_13-31-14_KhadijaWendySocial.json\n",
      "Loading complete.\n",
      "Preprocessing complete.\n",
      "filepath: D:\\Users\\Tom\\OneDrive\\PhD\\SWC\\data\\sixth_experiments_241112\\2024-11-12_15-23-24_FrancescaSenSzeSocial.json\n",
      "Loading complete.\n",
      "Preprocessing complete.\n",
      "filepath: D:\\Users\\Tom\\OneDrive\\PhD\\SWC\\data\\seventh_experiments_241113\\2024-11-13_14-18-54_NasiaRyanSocial.json\n",
      "Loading complete.\n",
      "Preprocessing complete.\n",
      "filepath: D:\\Users\\Tom\\OneDrive\\PhD\\SWC\\data\\eighth_experiments_241113\\2024-11-13_15-28-07_YichuanHoiSocial.json\n",
      "Loading complete.\n",
      "Preprocessing complete.\n",
      "filepath: D:\\Users\\Tom\\OneDrive\\PhD\\SWC\\data\\ninth_experiments_241119\\2024-11-19_14-24-49_AmyXinyuanSocial.json\n",
      "Loading complete.\n",
      "Preprocessing complete.\n",
      "filepath: D:\\Users\\Tom\\OneDrive\\PhD\\SWC\\data\\tenth_experiments_241119\\2024-11-19_15-22-56_SophiaHocineSocial.json\n",
      "Loading complete.\n",
      "Preprocessing complete.\n",
      "filepath: D:\\Users\\Tom\\OneDrive\\PhD\\SWC\\data\\eleventh_experiments_241120\\2024-11-20_14-17-44_JasonRahulSocial.json\n",
      "Loading complete.\n",
      "Preprocessing complete.\n",
      "filepath: D:\\Users\\Tom\\OneDrive\\PhD\\SWC\\data\\twelfth_experiments_241120\\2024-11-20_15-16-21_SunnyVinceSocial.json\n",
      "Loading complete.\n",
      "Preprocessing complete.\n",
      "filepath: D:\\Users\\Tom\\OneDrive\\PhD\\SWC\\data\\241203_1\\2024-12-03_14-31-51_PaulNicoleSocial.json\n",
      "Loading complete.\n",
      "Preprocessing complete.\n",
      "filepath: D:\\Users\\Tom\\OneDrive\\PhD\\SWC\\data\\241203_2\\2024-12-03_15-27-28_EstherBowimSocial.json\n",
      "Loading complete.\n",
      "Preprocessing complete.\n",
      "filepath: D:\\Users\\Tom\\OneDrive\\PhD\\SWC\\data\\241210_1\\2024-12-10_14-21-17_TaqwaTasSocial.json\n",
      "Loading complete.\n",
      "Preprocessing complete.\n",
      "filepath: D:\\Users\\Tom\\OneDrive\\PhD\\SWC\\data\\241210_2\\2024-12-10_15-20-11_RyanRoseSocial.json\n",
      "Loading complete.\n",
      "Preprocessing complete.\n",
      "filepath: D:\\Users\\Tom\\OneDrive\\PhD\\SWC\\data\\241219_1\\2024-12-19_15-28-24_JingjingYeungSocial.json\n",
      "Loading complete.\n",
      "Preprocessing complete.\n",
      "filepath: D:\\Users\\Tom\\OneDrive\\PhD\\SWC\\data\\250115_1\\2025-01-15_15-21-27_YixuanMarcoSocial.json\n",
      "Loading complete.\n",
      "Preprocessing complete.\n",
      "filepath: D:\\Users\\Tom\\OneDrive\\PhD\\SWC\\data\\250115_2\\2025-01-15_16-27-23_YuChunRuiqingSocial.json\n",
      "Loading complete.\n",
      "Preprocessing complete.\n"
     ]
    }
   ],
   "source": [
    "# prepare the session dataframe and dataframes of each individual trial\n",
    "if solo:\n",
    "    df, trial_lists = prepare_data.prepare_data(data_folder, json_filenames, combine=False)\n",
    "    print(len(trial_lists))\n",
    "    trial_lists = [trial_lists[i] + trial_lists[i+1] for i in range(0, len(trial_lists), 2)]\n",
    "\n",
    "else:\n",
    "    df, trial_lists = prepare_data.prepare_data(data_folder, json_filenames, combine=False)"
   ]
  },
  {
   "cell_type": "code",
   "execution_count": 547,
   "id": "bcc7f43c-b382-4766-8fa2-45d85d801a20",
   "metadata": {},
   "outputs": [],
   "source": [
    "# get_indices.get_trials_with_wall_sep(trial_list=trial_lists, wall_sep=1).size"
   ]
  },
  {
   "cell_type": "code",
   "execution_count": 548,
   "id": "54ba6ba9-3d83-4cb0-ae7a-4d0835c6b6e6",
   "metadata": {},
   "outputs": [],
   "source": [
    "## HEATMAPS ##"
   ]
  },
  {
   "cell_type": "code",
   "execution_count": 549,
   "id": "a5aa99b4",
   "metadata": {},
   "outputs": [],
   "source": [
    "## sandbox for P(wall | first vis) heatmap\n",
    "# first, write code to gather location counts data for one player\n",
    "# Then, allow looping over all players so that location counts can be summed together, but still retain the data\n",
    "# for individuals\n",
    "\n",
    "# The cleanest way to do this will be to work with dataframes directly\n",
    "# create a dictionary with nested dictionaries for session ids, which contain filtered lists of dataframes for each player\n",
    "# be aware of the df trail number misaligning with the trial df index if I was looping instead \n",
    "\n",
    "# when I do global analysis, I just take this dictionary, and flatten it, concatenating all of the lists"
   ]
  },
  {
   "cell_type": "markdown",
   "id": "b953aa91",
   "metadata": {},
   "source": [
    "#### general analysis structure"
   ]
  },
  {
   "cell_type": "code",
   "execution_count": 550,
   "id": "305c346f",
   "metadata": {},
   "outputs": [],
   "source": [
    "# create dictionary to store filtered lists of dataframes for each player\n",
    "filtered_data = {}\n",
    "for session_id, trial_list in enumerate(trial_lists):\n",
    "    # create the nested dictionary for session_id\n",
    "    filtered_data[session_id] = {}\n",
    "\n",
    "    player_ids = [0] if solo else [0,1]\n",
    "    for player_id in player_ids:\n",
    "        # do some filtering to this trial list for this player_id\n",
    "        filtered_trial_list = []\n",
    "\n",
    "        # append the filtered trial list to the dictionary\n",
    "        filtered_data[session_id, player_id] = filtered_trial_list"
   ]
  },
  {
   "cell_type": "markdown",
   "id": "446fbd64",
   "metadata": {},
   "source": [
    "#### filtering functions used to get P(H|H first vis) and P(H|L first vis) trials"
   ]
  },
  {
   "cell_type": "code",
   "execution_count": 551,
   "id": "e453eb34",
   "metadata": {},
   "outputs": [],
   "source": [
    "# variables for filtering function\n",
    "trial_list = trial_lists[1]\n",
    "inferred_choice = True\n",
    "current_fov =110\n",
    "wall_visible_index= 1\n",
    "chosen_wall_index = 0\n",
    "wall_sep = 4"
   ]
  },
  {
   "cell_type": "code",
   "execution_count": 552,
   "id": "4024e835",
   "metadata": {},
   "outputs": [],
   "source": [
    "def heatmap_trial_list_filterer_numerator(trial_list, player_id, inferred_choice, current_fov, wall_visible_index,\n",
    "                                chosen_wall_index, debug=False):\n",
    "    ''' Filter all trials where player has a retrievable choice, saw the wall_visible_index wall first, and chose\n",
    "        the chosen_wall_index'''    \n",
    "    \n",
    "\n",
    "    print(f\" trial list: {type(trial_list)}, length {len(trial_list)}\")\n",
    "    print(f\"player_id: {type(player_id)}\")\n",
    "    # filter for retrievable choice, then where visible_wall_index becomes visible first, then where player chose High\n",
    "    trial_list_filtered, original_indices = trial_list_filters.filter_trials_retrievable_choice(trial_list, player_id, inferred_choice, original_indices=None,\n",
    "                                        debug=False)\n",
    "    \n",
    "    \n",
    "    if wall_visible_index is not None:\n",
    "        trial_list_filtered, original_indices = trial_list_filters.filter_trials_one_wall_becomes_visible_first(trial_list_filtered, player_id,\n",
    "                                                        current_fov, wall_index=wall_visible_index,\n",
    "                                                        original_indices=original_indices,\n",
    "                                                        debug=False)\n",
    "\n",
    "    trial_list_filtered, original_indices = trial_list_filters.filter_trials_player_chose_given_wall(trial_list_filtered, player_id,\n",
    "                                                                inferred_choice,\n",
    "                                                                given_wall_index=chosen_wall_index,\n",
    "                                                                original_indices=original_indices,\n",
    "                                                                debug=False)\n",
    "    \n",
    "    return trial_list_filtered, original_indices\n"
   ]
  },
  {
   "cell_type": "code",
   "execution_count": 553,
   "id": "154ea14e",
   "metadata": {},
   "outputs": [],
   "source": [
    "def heatmap_trial_list_filterer_denominator(trial_list, player_id, inferred_choice, current_fov, wall_visible_index,\n",
    "                                            debug=False):    \n",
    "    ''' Filter all trials where player has a retrievable choice, and saw the wall_visible_index wall first'''  \n",
    "\n",
    "    print(f\" trial list: {type(trial_list)}, length {len(trial_list)}\")\n",
    "    print(f\"player_id: {type(player_id)}\")\n",
    "    # filter for retrievable choice, then where visible_wall_index becomes visible first, then where player chose High\n",
    "    trial_list_filtered, original_indices = trial_list_filters.filter_trials_retrievable_choice(trial_list, player_id, inferred_choice, original_indices=None,\n",
    "                                        debug=False)\n",
    "    \n",
    "    \n",
    "    trial_list_filtered, original_indices = trial_list_filters.filter_trials_one_wall_becomes_visible_first(trial_list_filtered, player_id,\n",
    "                                                    current_fov, wall_index=wall_visible_index,\n",
    "                                                    original_indices=original_indices,\n",
    "                                                    debug=False)\n",
    "\n",
    "    return trial_list_filtered, original_indices\n"
   ]
  },
  {
   "cell_type": "markdown",
   "id": "60ae07e3",
   "metadata": {},
   "source": [
    "#### condition filtering applied to general structure"
   ]
  },
  {
   "cell_type": "code",
   "execution_count": 554,
   "id": "0ebcaad0",
   "metadata": {},
   "outputs": [
    {
     "name": "stdout",
     "output_type": "stream",
     "text": [
      " trial list: <class 'list'>, length 27\n",
      "player_id: <class 'int'>\n",
      "filter_trials_one_wall_becomes_visible_first - given_wall_first_visible_session array:\n",
      "[1. 1. 0. 1. 0. 0. 0. 1. 1. 0. 1. 1. 0. 0. 0. 0. 0. 1. 1. 1. 0. 1. 0. 0.]\n",
      "And the number of valid trials at this step is 11\n",
      "0 0\n",
      " trial list: <class 'list'>, length 27\n",
      "player_id: <class 'int'>\n",
      "filter_trials_one_wall_becomes_visible_first - given_wall_first_visible_session array:\n",
      "[1. 0. 1. 0. 1. 1. 0. 0. 0. 0. 0. 0. 0. 0. 1. 0. 1. 1. 0. 0. 1. 1. 0. 0.\n",
      " 1.]\n",
      "And the number of valid trials at this step is 10\n",
      "0 1\n",
      " trial list: <class 'list'>, length 17\n",
      "player_id: <class 'int'>\n"
     ]
    },
    {
     "name": "stderr",
     "output_type": "stream",
     "text": [
      "d:\\tom\\documents\\swc\\repos\\octagon_analysis\\trajectory_analysis\\trajectory_vectors.py:321: RuntimeWarning: invalid value encountered in scalar divide\n",
      "  cosine_similarity_this_wall = dot_product[wall_num]/(player_to_alcove_vector_norms[wall_num] * player_vector_norm)\n",
      "d:\\tom\\documents\\swc\\repos\\octagon_analysis\\analysis\\loser_inferred_choice.py:47: RuntimeWarning: Mean of empty slice\n",
      "  return np.argmax(np.nanmean(cosine_similarity_trajectory, axis=1))\n",
      "d:\\tom\\documents\\swc\\repos\\octagon_analysis\\analysis\\loser_inferred_choice.py:149: RuntimeWarning: Mean of empty slice\n",
      "  highest_alignment_val = np.max(np.nanmean(cosine_similarity_trajectory, axis=1))\n"
     ]
    },
    {
     "name": "stdout",
     "output_type": "stream",
     "text": [
      "filter_trials_one_wall_becomes_visible_first - given_wall_first_visible_session array:\n",
      "[0. 0. 0. 0. 1. 0. 0. 0. 0. 0.]\n",
      "And the number of valid trials at this step is 1\n",
      "1 0\n",
      " trial list: <class 'list'>, length 17\n",
      "player_id: <class 'int'>\n",
      "filter_trials_one_wall_becomes_visible_first - given_wall_first_visible_session array:\n",
      "[0. 0. 1. 0. 1. 0. 0. 0. 1. 1. 1. 0. 1. 1. 0. 0. 1.]\n",
      "And the number of valid trials at this step is 8\n",
      "1 1\n",
      " trial list: <class 'list'>, length 27\n",
      "player_id: <class 'int'>\n",
      "filter_trials_one_wall_becomes_visible_first - given_wall_first_visible_session array:\n",
      "[1. 0. 1. 0. 0. 0. 1. 0. 0. 1. 0. 0. 0. 0. 0. 1. 0. 0. 0. 1. 0. 0.]\n",
      "And the number of valid trials at this step is 6\n",
      "2 0\n",
      " trial list: <class 'list'>, length 27\n",
      "player_id: <class 'int'>\n",
      "filter_trials_one_wall_becomes_visible_first - given_wall_first_visible_session array:\n",
      "[1. 0. 0. 0. 0. 0. 1. 1. 0. 1. 1. 1. 0. 0. 0. 1. 1. 1. 0. 0. 1. 1. 0. 0.\n",
      " 0.]\n",
      "And the number of valid trials at this step is 11\n",
      "2 1\n",
      " trial list: <class 'list'>, length 40\n",
      "player_id: <class 'int'>\n",
      "filter_trials_one_wall_becomes_visible_first - given_wall_first_visible_session array:\n",
      "[1. 0. 1. 0. 0. 1. 1. 0. 1. 1. 1. 1. 0. 1. 1. 1. 0. 1. 1. 0. 0. 1. 0. 1.\n",
      " 1. 1. 0. 0. 0. 0.]\n",
      "And the number of valid trials at this step is 17\n",
      "3 0\n",
      " trial list: <class 'list'>, length 40\n",
      "player_id: <class 'int'>\n",
      "filter_trials_one_wall_becomes_visible_first - given_wall_first_visible_session array:\n",
      "[0. 1. 1. 1. 0. 0. 0. 1. 0. 0. 1. 0. 0. 0. 1. 0. 0. 1. 1. 1. 0. 0. 1. 1.\n",
      " 0. 0. 0. 1. 1. 0. 0. 0. 0. 1. 0. 0. 1. 1.]\n",
      "And the number of valid trials at this step is 16\n",
      "3 1\n",
      " trial list: <class 'list'>, length 20\n",
      "player_id: <class 'int'>\n",
      "filter_trials_one_wall_becomes_visible_first - given_wall_first_visible_session array:\n",
      "[1. 0. 1. 0. 1. 1. 0. 0. 0. 0.]\n",
      "And the number of valid trials at this step is 4\n",
      "4 0\n",
      " trial list: <class 'list'>, length 20\n",
      "player_id: <class 'int'>\n",
      "filter_trials_one_wall_becomes_visible_first - given_wall_first_visible_session array:\n",
      "[0. 0. 0. 0. 0. 1. 1. 1. 1. 0. 0. 0. 1. 0. 1.]\n",
      "And the number of valid trials at this step is 6\n",
      "4 1\n",
      " trial list: <class 'list'>, length 22\n",
      "player_id: <class 'int'>\n",
      "filter_trials_one_wall_becomes_visible_first - given_wall_first_visible_session array:\n",
      "[1. 1. 1. 0. 0. 1. 0. 0. 1. 0. 0. 0. 0. 0. 0. 0. 0. 1. 0. 1. 0.]\n",
      "And the number of valid trials at this step is 7\n",
      "5 0\n",
      " trial list: <class 'list'>, length 22\n",
      "player_id: <class 'int'>\n",
      "filter_trials_one_wall_becomes_visible_first - given_wall_first_visible_session array:\n",
      "[0. 0. 0. 1. 0. 1. 0. 1. 1. 1. 1. 0. 0. 1. 0. 0. 0. 0.]\n",
      "And the number of valid trials at this step is 7\n",
      "5 1\n",
      " trial list: <class 'list'>, length 24\n",
      "player_id: <class 'int'>\n",
      "filter_trials_one_wall_becomes_visible_first - given_wall_first_visible_session array:\n",
      "[1. 1. 1. 1. 0. 1. 1. 0. 1. 0. 1. 0. 0. 0. 1. 0. 1. 0. 0. 0. 1. 1.]\n",
      "And the number of valid trials at this step is 12\n",
      "6 0\n",
      " trial list: <class 'list'>, length 24\n",
      "player_id: <class 'int'>\n",
      "filter_trials_one_wall_becomes_visible_first - given_wall_first_visible_session array:\n",
      "[1. 0. 0. 1. 0. 0. 0. 0. 0. 1. 1. 1. 1. 0. 0. 0. 0. 1. 1. 1. 0. 0. 0. 0.]\n",
      "And the number of valid trials at this step is 9\n",
      "6 1\n",
      " trial list: <class 'list'>, length 27\n",
      "player_id: <class 'int'>\n",
      "filter_trials_one_wall_becomes_visible_first - given_wall_first_visible_session array:\n",
      "[0. 1. 1. 0. 0. 0. 0. 0. 1. 0. 1. 0. 0. 0. 0. 0. 0. 0.]\n",
      "And the number of valid trials at this step is 4\n",
      "7 0\n",
      " trial list: <class 'list'>, length 27\n",
      "player_id: <class 'int'>\n",
      "filter_trials_one_wall_becomes_visible_first - given_wall_first_visible_session array:\n",
      "[0. 0. 0. 0. 0. 1. 0. 1. 0. 1. 0. 1. 0. 0. 0. 1. 0. 0. 0. 0. 1. 1. 1. 0.\n",
      " 0. 0.]\n",
      "And the number of valid trials at this step is 8\n",
      "7 1\n",
      " trial list: <class 'list'>, length 28\n",
      "player_id: <class 'int'>\n",
      "filter_trials_one_wall_becomes_visible_first - given_wall_first_visible_session array:\n",
      "[1. 0. 0. 0. 0. 1. 0. 1. 0. 0. 1. 1. 1. 0. 1. 1. 1. 0. 0. 0. 0.]\n",
      "And the number of valid trials at this step is 9\n",
      "8 0\n",
      " trial list: <class 'list'>, length 28\n",
      "player_id: <class 'int'>\n",
      "filter_trials_one_wall_becomes_visible_first - given_wall_first_visible_session array:\n",
      "[0. 0. 0. 0. 0. 0. 0. 0. 1. 0. 0. 0. 1. 0. 0. 0. 0. 1. 0. 0. 0. 0. 1. 0.\n",
      " 0. 1. 1.]\n",
      "And the number of valid trials at this step is 6\n",
      "8 1\n",
      " trial list: <class 'list'>, length 31\n",
      "player_id: <class 'int'>\n",
      "filter_trials_one_wall_becomes_visible_first - given_wall_first_visible_session array:\n",
      "[1. 0. 1. 1. 0. 1. 0. 1. 0. 1. 0. 1. 1. 0. 0. 1. 0. 0. 1. 0. 0. 1. 1. 1.\n",
      " 1. 0.]\n",
      "And the number of valid trials at this step is 14\n",
      "9 0\n",
      " trial list: <class 'list'>, length 31\n",
      "player_id: <class 'int'>\n",
      "filter_trials_one_wall_becomes_visible_first - given_wall_first_visible_session array:\n",
      "[0. 0. 0. 0. 1. 0. 1. 0. 1. 0. 0. 0. 1. 0. 1. 0. 1. 1. 0. 0. 0.]\n",
      "And the number of valid trials at this step is 7\n",
      "9 1\n",
      " trial list: <class 'list'>, length 29\n",
      "player_id: <class 'int'>\n",
      "filter_trials_one_wall_becomes_visible_first - given_wall_first_visible_session array:\n",
      "[1. 1. 0. 1. 0. 0. 0. 0. 0. 1. 1. 0. 1. 0. 1. 0. 1. 0. 0. 0. 0. 0. 0. 1.\n",
      " 1.]\n",
      "And the number of valid trials at this step is 10\n",
      "10 0\n",
      " trial list: <class 'list'>, length 29\n",
      "player_id: <class 'int'>\n",
      "filter_trials_one_wall_becomes_visible_first - given_wall_first_visible_session array:\n",
      "[0. 0. 0. 0. 0. 0. 1. 1. 0. 1. 1. 1. 1. 0. 0. 1. 1. 1. 1. 0. 1. 1. 0. 1.\n",
      " 1. 0. 1.]\n",
      "And the number of valid trials at this step is 15\n",
      "10 1\n",
      " trial list: <class 'list'>, length 33\n",
      "player_id: <class 'int'>\n",
      "filter_trials_one_wall_becomes_visible_first - given_wall_first_visible_session array:\n",
      "[0. 0. 0. 0. 0. 0. 0. 0. 0. 0. 0. 0. 0. 1. 1. 1. 0. 0. 0. 1. 1. 0. 1. 1.\n",
      " 0. 1. 0. 1. 0.]\n",
      "And the number of valid trials at this step is 9\n",
      "11 0\n",
      " trial list: <class 'list'>, length 33\n",
      "player_id: <class 'int'>\n",
      "filter_trials_one_wall_becomes_visible_first - given_wall_first_visible_session array:\n",
      "[0. 1. 0. 1. 0. 0. 0. 0. 0. 0. 0. 0. 0. 0. 0. 0. 1. 0. 0. 1. 0. 0. 0. 0.\n",
      " 1. 0. 1. 0. 0. 0. 1. 0. 1.]\n",
      "And the number of valid trials at this step is 8\n",
      "11 1\n",
      " trial list: <class 'list'>, length 19\n",
      "player_id: <class 'int'>\n",
      "filter_trials_one_wall_becomes_visible_first - given_wall_first_visible_session array:\n",
      "[0. 0. 0. 0. 0. 1. 0. 1. 1. 1. 1. 0. 1. 1. 0. 0. 0. 0.]\n",
      "And the number of valid trials at this step is 7\n",
      "12 0\n",
      " trial list: <class 'list'>, length 19\n",
      "player_id: <class 'int'>\n",
      "filter_trials_one_wall_becomes_visible_first - given_wall_first_visible_session array:\n",
      "[1. 0. 1. 0. 0. 0. 1. 0. 0. 0. 0. 1. 0. 0. 0. 1.]\n",
      "And the number of valid trials at this step is 5\n",
      "12 1\n",
      " trial list: <class 'list'>, length 19\n",
      "player_id: <class 'int'>\n",
      "filter_trials_one_wall_becomes_visible_first - given_wall_first_visible_session array:\n",
      "[0. 0. 0. 0. 0. 0. 0. 1. 0. 0. 1. 1. 0. 0. 0.]\n",
      "And the number of valid trials at this step is 3\n",
      "13 0\n",
      " trial list: <class 'list'>, length 19\n",
      "player_id: <class 'int'>\n",
      "filter_trials_one_wall_becomes_visible_first - given_wall_first_visible_session array:\n",
      "[1. 0. 0. 0. 1. 0. 0. 1. 0. 0. 0. 0. 0. 1. 0. 0.]\n",
      "And the number of valid trials at this step is 4\n",
      "13 1\n",
      " trial list: <class 'list'>, length 49\n",
      "player_id: <class 'int'>\n",
      "filter_trials_one_wall_becomes_visible_first - given_wall_first_visible_session array:\n",
      "[1. 0. 1. 0. 0. 0. 0. 1. 1. 0. 0. 1. 1. 0. 0. 1. 1. 1. 1. 1. 0. 0. 1. 0.\n",
      " 0. 1. 0. 0. 0. 1. 0. 1. 1. 0. 0. 0. 1. 0. 0. 0. 0.]\n",
      "And the number of valid trials at this step is 17\n",
      "14 0\n",
      " trial list: <class 'list'>, length 49\n",
      "player_id: <class 'int'>\n",
      "filter_trials_one_wall_becomes_visible_first - given_wall_first_visible_session array:\n",
      "[1. 0. 1. 1. 1. 0. 1. 0. 0. 0. 0. 0. 1. 0. 1. 0. 1. 0. 0. 0. 1. 0. 1. 0.\n",
      " 0. 1. 0. 0. 0. 1. 1. 1. 0. 1. 0. 0. 1. 1. 0. 1. 1. 0. 1. 1. 1.]\n",
      "And the number of valid trials at this step is 22\n",
      "14 1\n",
      " trial list: <class 'list'>, length 61\n",
      "player_id: <class 'int'>\n",
      "filter_trials_one_wall_becomes_visible_first - given_wall_first_visible_session array:\n",
      "[1. 0. 0. 0. 0. 0. 0. 0. 1. 0. 1. 1. 0. 1. 0. 0. 0. 0. 0. 0. 0. 1. 1. 1.\n",
      " 0. 0. 0. 0. 1. 1. 0. 1. 0. 0. 0. 1. 1. 0. 0. 0. 0. 0. 0. 0. 1. 0. 1. 0.\n",
      " 0. 0. 0.]\n",
      "And the number of valid trials at this step is 15\n",
      "15 0\n",
      " trial list: <class 'list'>, length 61\n",
      "player_id: <class 'int'>\n",
      "filter_trials_one_wall_becomes_visible_first - given_wall_first_visible_session array:\n",
      "[0. 0. 1. 1. 0. 0. 0. 0. 0. 1. 1. 0. 0. 0. 0. 0. 0. 0. 0. 1. 1. 0. 0. 0.\n",
      " 1. 1. 1. 1. 1. 1. 1. 0. 1. 0. 0. 0. 0. 1. 1. 0. 1. 0. 0. 0. 1. 1. 1. 0.\n",
      " 0. 1. 0. 0. 0. 0. 0. 0. 0. 1. 0.]\n",
      "And the number of valid trials at this step is 22\n",
      "15 1\n",
      " trial list: <class 'list'>, length 48\n",
      "player_id: <class 'int'>\n",
      "filter_trials_one_wall_becomes_visible_first - given_wall_first_visible_session array:\n",
      "[0. 1. 0. 0. 0. 0. 1. 0. 0. 1. 1. 1. 0. 0. 0. 0. 0. 0. 1. 0. 1. 1. 1. 1.\n",
      " 1. 0. 1. 0. 0. 1. 0. 1. 0. 1. 0.]\n",
      "And the number of valid trials at this step is 15\n",
      "16 0\n",
      " trial list: <class 'list'>, length 48\n",
      "player_id: <class 'int'>\n",
      "filter_trials_one_wall_becomes_visible_first - given_wall_first_visible_session array:\n",
      "[1. 0. 0. 1. 1. 0. 1. 0. 1. 0. 0. 1. 1. 1. 0. 1. 1. 1. 0. 1. 0. 0. 0. 1.\n",
      " 0. 0. 0. 1. 0. 1. 0. 0. 1. 1. 1. 0. 0. 0. 0. 1. 1. 1. 1.]\n",
      "And the number of valid trials at this step is 22\n",
      "16 1\n",
      " trial list: <class 'list'>, length 24\n",
      "player_id: <class 'int'>\n",
      "filter_trials_one_wall_becomes_visible_first - given_wall_first_visible_session array:\n",
      "[1. 1. 0. 1. 1. 1. 0. 1. 1. 0. 0. 0. 1. 1. 1. 0. 0. 1.]\n",
      "And the number of valid trials at this step is 11\n",
      "17 0\n",
      " trial list: <class 'list'>, length 24\n",
      "player_id: <class 'int'>\n",
      "filter_trials_one_wall_becomes_visible_first - given_wall_first_visible_session array:\n",
      "[0. 1. 0. 1. 1. 0. 1. 0. 1. 1. 1. 1. 0. 1. 0. 1. 1. 1. 0. 0. 1. 0. 0. 0.]\n",
      "And the number of valid trials at this step is 13\n",
      "17 1\n",
      " trial list: <class 'list'>, length 28\n",
      "player_id: <class 'int'>\n",
      "filter_trials_one_wall_becomes_visible_first - given_wall_first_visible_session array:\n",
      "[1. 0. 1. 0. 0. 0. 1. 0. 0. 0. 0. 0. 0. 1. 0. 0. 0. 0.]\n",
      "And the number of valid trials at this step is 4\n",
      "18 0\n",
      " trial list: <class 'list'>, length 28\n",
      "player_id: <class 'int'>\n",
      "filter_trials_one_wall_becomes_visible_first - given_wall_first_visible_session array:\n",
      "[0. 0. 1. 1. 0. 1. 1. 0. 0. 0. 0. 1. 0. 0. 1. 0. 0. 0. 0. 0. 0. 0. 0. 0.\n",
      " 0. 0. 0.]\n",
      "And the number of valid trials at this step is 6\n",
      "18 1\n"
     ]
    }
   ],
   "source": [
    "# create dictionary to store filtered lists of dataframes for each player\n",
    "filtered_trials_denominator = {}\n",
    "for session_id, trial_list in enumerate(trial_lists):\n",
    "    # create the nested dictionary for session_id\n",
    "    filtered_trials_denominator[session_id] = {}\n",
    "\n",
    "    # filter trial list for specified trial type (e.g., HIGH_LOW)\n",
    "    trial_indices = get_indices.get_trials_trialtype(trial_list, trial_type=globals.HIGH_LOW)\n",
    "    trial_list = [trial_list[i] for i in trial_indices]\n",
    "\n",
    "    if wall_sep is not None:\n",
    "        # if notebook global variable for wall separation is True, also filter by this\n",
    "        trial_indices = get_indices.get_trials_with_wall_sep(trial_list, wall_sep=wall_sep)\n",
    "        trial_list = [trial_list[i] for i in trial_indices]\n",
    "\n",
    "    inferred_choice = False if solo else inferred_choice\n",
    "    player_ids = [0] if solo else [0,1]\n",
    "    for player_id in player_ids:\n",
    "        # do some filtering to this trial list for this player_id\n",
    "        trial_list_filtered, _ = heatmap_trial_list_filterer_denominator(trial_list, player_id, \n",
    "                                    inferred_choice, current_fov, wall_visible_index, debug=False)\n",
    "\n",
    "        # append the filtered trial list to the dictionary\n",
    "        print(session_id, player_id)\n",
    "        filtered_trials_denominator[session_id][player_id] = trial_list_filtered"
   ]
  },
  {
   "cell_type": "markdown",
   "id": "04eeb604",
   "metadata": {},
   "source": [
    "#### condition + choice filtering applied to general structure"
   ]
  },
  {
   "cell_type": "code",
   "execution_count": 555,
   "id": "4007286f",
   "metadata": {},
   "outputs": [
    {
     "name": "stdout",
     "output_type": "stream",
     "text": [
      " trial list: <class 'list'>, length 27\n",
      "player_id: <class 'int'>\n",
      "filter_trials_one_wall_becomes_visible_first - given_wall_first_visible_session array:\n",
      "[1. 1. 0. 1. 0. 0. 0. 1. 1. 0. 1. 1. 0. 0. 0. 0. 0. 1. 1. 1. 0. 1. 0. 0.]\n",
      "And the number of valid trials at this step is 11\n",
      "0 0\n",
      " trial list: <class 'list'>, length 27\n",
      "player_id: <class 'int'>\n",
      "filter_trials_one_wall_becomes_visible_first - given_wall_first_visible_session array:\n",
      "[1. 0. 1. 0. 1. 1. 0. 0. 0. 0. 0. 0. 0. 0. 1. 0. 1. 1. 0. 0. 1. 1. 0. 0.\n",
      " 1.]\n",
      "And the number of valid trials at this step is 10\n",
      "0 1\n",
      " trial list: <class 'list'>, length 17\n",
      "player_id: <class 'int'>\n",
      "filter_trials_one_wall_becomes_visible_first - given_wall_first_visible_session array:\n",
      "[0. 0. 0. 0. 1. 0. 0. 0. 0. 0.]\n",
      "And the number of valid trials at this step is 1\n",
      "1 0\n",
      " trial list: <class 'list'>, length 17\n",
      "player_id: <class 'int'>\n",
      "filter_trials_one_wall_becomes_visible_first - given_wall_first_visible_session array:\n",
      "[0. 0. 1. 0. 1. 0. 0. 0. 1. 1. 1. 0. 1. 1. 0. 0. 1.]\n",
      "And the number of valid trials at this step is 8\n",
      "1 1\n",
      " trial list: <class 'list'>, length 27\n",
      "player_id: <class 'int'>\n",
      "filter_trials_one_wall_becomes_visible_first - given_wall_first_visible_session array:\n",
      "[1. 0. 1. 0. 0. 0. 1. 0. 0. 1. 0. 0. 0. 0. 0. 1. 0. 0. 0. 1. 0. 0.]\n",
      "And the number of valid trials at this step is 6\n",
      "2 0\n",
      " trial list: <class 'list'>, length 27\n",
      "player_id: <class 'int'>\n",
      "filter_trials_one_wall_becomes_visible_first - given_wall_first_visible_session array:\n",
      "[1. 0. 0. 0. 0. 0. 1. 1. 0. 1. 1. 1. 0. 0. 0. 1. 1. 1. 0. 0. 1. 1. 0. 0.\n",
      " 0.]\n",
      "And the number of valid trials at this step is 11\n",
      "2 1\n",
      " trial list: <class 'list'>, length 40\n",
      "player_id: <class 'int'>\n",
      "filter_trials_one_wall_becomes_visible_first - given_wall_first_visible_session array:\n",
      "[1. 0. 1. 0. 0. 1. 1. 0. 1. 1. 1. 1. 0. 1. 1. 1. 0. 1. 1. 0. 0. 1. 0. 1.\n",
      " 1. 1. 0. 0. 0. 0.]\n",
      "And the number of valid trials at this step is 17\n",
      "3 0\n",
      " trial list: <class 'list'>, length 40\n",
      "player_id: <class 'int'>\n",
      "filter_trials_one_wall_becomes_visible_first - given_wall_first_visible_session array:\n",
      "[0. 1. 1. 1. 0. 0. 0. 1. 0. 0. 1. 0. 0. 0. 1. 0. 0. 1. 1. 1. 0. 0. 1. 1.\n",
      " 0. 0. 0. 1. 1. 0. 0. 0. 0. 1. 0. 0. 1. 1.]\n",
      "And the number of valid trials at this step is 16\n",
      "3 1\n",
      " trial list: <class 'list'>, length 20\n",
      "player_id: <class 'int'>\n",
      "filter_trials_one_wall_becomes_visible_first - given_wall_first_visible_session array:\n",
      "[1. 0. 1. 0. 1. 1. 0. 0. 0. 0.]\n",
      "And the number of valid trials at this step is 4\n",
      "4 0\n",
      " trial list: <class 'list'>, length 20\n",
      "player_id: <class 'int'>\n",
      "filter_trials_one_wall_becomes_visible_first - given_wall_first_visible_session array:\n",
      "[0. 0. 0. 0. 0. 1. 1. 1. 1. 0. 0. 0. 1. 0. 1.]\n",
      "And the number of valid trials at this step is 6\n",
      "4 1\n",
      " trial list: <class 'list'>, length 22\n",
      "player_id: <class 'int'>\n",
      "filter_trials_one_wall_becomes_visible_first - given_wall_first_visible_session array:\n",
      "[1. 1. 1. 0. 0. 1. 0. 0. 1. 0. 0. 0. 0. 0. 0. 0. 0. 1. 0. 1. 0.]\n",
      "And the number of valid trials at this step is 7\n",
      "5 0\n",
      " trial list: <class 'list'>, length 22\n",
      "player_id: <class 'int'>\n",
      "filter_trials_one_wall_becomes_visible_first - given_wall_first_visible_session array:\n",
      "[0. 0. 0. 1. 0. 1. 0. 1. 1. 1. 1. 0. 0. 1. 0. 0. 0. 0.]\n",
      "And the number of valid trials at this step is 7\n",
      "5 1\n",
      " trial list: <class 'list'>, length 24\n",
      "player_id: <class 'int'>\n",
      "filter_trials_one_wall_becomes_visible_first - given_wall_first_visible_session array:\n",
      "[1. 1. 1. 1. 0. 1. 1. 0. 1. 0. 1. 0. 0. 0. 1. 0. 1. 0. 0. 0. 1. 1.]\n",
      "And the number of valid trials at this step is 12\n",
      "6 0\n",
      " trial list: <class 'list'>, length 24\n",
      "player_id: <class 'int'>\n",
      "filter_trials_one_wall_becomes_visible_first - given_wall_first_visible_session array:\n",
      "[1. 0. 0. 1. 0. 0. 0. 0. 0. 1. 1. 1. 1. 0. 0. 0. 0. 1. 1. 1. 0. 0. 0. 0.]\n",
      "And the number of valid trials at this step is 9\n",
      "6 1\n",
      " trial list: <class 'list'>, length 27\n",
      "player_id: <class 'int'>\n",
      "filter_trials_one_wall_becomes_visible_first - given_wall_first_visible_session array:\n",
      "[0. 1. 1. 0. 0. 0. 0. 0. 1. 0. 1. 0. 0. 0. 0. 0. 0. 0.]\n",
      "And the number of valid trials at this step is 4\n",
      "7 0\n",
      " trial list: <class 'list'>, length 27\n",
      "player_id: <class 'int'>\n",
      "filter_trials_one_wall_becomes_visible_first - given_wall_first_visible_session array:\n",
      "[0. 0. 0. 0. 0. 1. 0. 1. 0. 1. 0. 1. 0. 0. 0. 1. 0. 0. 0. 0. 1. 1. 1. 0.\n",
      " 0. 0.]\n",
      "And the number of valid trials at this step is 8\n",
      "7 1\n",
      " trial list: <class 'list'>, length 28\n",
      "player_id: <class 'int'>\n",
      "filter_trials_one_wall_becomes_visible_first - given_wall_first_visible_session array:\n",
      "[1. 0. 0. 0. 0. 1. 0. 1. 0. 0. 1. 1. 1. 0. 1. 1. 1. 0. 0. 0. 0.]\n",
      "And the number of valid trials at this step is 9\n",
      "8 0\n",
      " trial list: <class 'list'>, length 28\n",
      "player_id: <class 'int'>\n",
      "filter_trials_one_wall_becomes_visible_first - given_wall_first_visible_session array:\n",
      "[0. 0. 0. 0. 0. 0. 0. 0. 1. 0. 0. 0. 1. 0. 0. 0. 0. 1. 0. 0. 0. 0. 1. 0.\n",
      " 0. 1. 1.]\n",
      "And the number of valid trials at this step is 6\n",
      "8 1\n",
      " trial list: <class 'list'>, length 31\n",
      "player_id: <class 'int'>\n",
      "filter_trials_one_wall_becomes_visible_first - given_wall_first_visible_session array:\n",
      "[1. 0. 1. 1. 0. 1. 0. 1. 0. 1. 0. 1. 1. 0. 0. 1. 0. 0. 1. 0. 0. 1. 1. 1.\n",
      " 1. 0.]\n",
      "And the number of valid trials at this step is 14\n",
      "9 0\n",
      " trial list: <class 'list'>, length 31\n",
      "player_id: <class 'int'>\n",
      "filter_trials_one_wall_becomes_visible_first - given_wall_first_visible_session array:\n",
      "[0. 0. 0. 0. 1. 0. 1. 0. 1. 0. 0. 0. 1. 0. 1. 0. 1. 1. 0. 0. 0.]\n",
      "And the number of valid trials at this step is 7\n",
      "9 1\n",
      " trial list: <class 'list'>, length 29\n",
      "player_id: <class 'int'>\n",
      "filter_trials_one_wall_becomes_visible_first - given_wall_first_visible_session array:\n",
      "[1. 1. 0. 1. 0. 0. 0. 0. 0. 1. 1. 0. 1. 0. 1. 0. 1. 0. 0. 0. 0. 0. 0. 1.\n",
      " 1.]\n",
      "And the number of valid trials at this step is 10\n",
      "10 0\n",
      " trial list: <class 'list'>, length 29\n",
      "player_id: <class 'int'>\n",
      "filter_trials_one_wall_becomes_visible_first - given_wall_first_visible_session array:\n",
      "[0. 0. 0. 0. 0. 0. 1. 1. 0. 1. 1. 1. 1. 0. 0. 1. 1. 1. 1. 0. 1. 1. 0. 1.\n",
      " 1. 0. 1.]\n",
      "And the number of valid trials at this step is 15\n",
      "10 1\n",
      " trial list: <class 'list'>, length 33\n",
      "player_id: <class 'int'>\n",
      "filter_trials_one_wall_becomes_visible_first - given_wall_first_visible_session array:\n",
      "[0. 0. 0. 0. 0. 0. 0. 0. 0. 0. 0. 0. 0. 1. 1. 1. 0. 0. 0. 1. 1. 0. 1. 1.\n",
      " 0. 1. 0. 1. 0.]\n",
      "And the number of valid trials at this step is 9\n",
      "11 0\n",
      " trial list: <class 'list'>, length 33\n",
      "player_id: <class 'int'>\n",
      "filter_trials_one_wall_becomes_visible_first - given_wall_first_visible_session array:\n",
      "[0. 1. 0. 1. 0. 0. 0. 0. 0. 0. 0. 0. 0. 0. 0. 0. 1. 0. 0. 1. 0. 0. 0. 0.\n",
      " 1. 0. 1. 0. 0. 0. 1. 0. 1.]\n",
      "And the number of valid trials at this step is 8\n",
      "11 1\n",
      " trial list: <class 'list'>, length 19\n",
      "player_id: <class 'int'>\n",
      "filter_trials_one_wall_becomes_visible_first - given_wall_first_visible_session array:\n",
      "[0. 0. 0. 0. 0. 1. 0. 1. 1. 1. 1. 0. 1. 1. 0. 0. 0. 0.]\n",
      "And the number of valid trials at this step is 7\n",
      "12 0\n",
      " trial list: <class 'list'>, length 19\n",
      "player_id: <class 'int'>\n",
      "filter_trials_one_wall_becomes_visible_first - given_wall_first_visible_session array:\n",
      "[1. 0. 1. 0. 0. 0. 1. 0. 0. 0. 0. 1. 0. 0. 0. 1.]\n",
      "And the number of valid trials at this step is 5\n",
      "12 1\n",
      " trial list: <class 'list'>, length 19\n",
      "player_id: <class 'int'>\n",
      "filter_trials_one_wall_becomes_visible_first - given_wall_first_visible_session array:\n",
      "[0. 0. 0. 0. 0. 0. 0. 1. 0. 0. 1. 1. 0. 0. 0.]\n",
      "And the number of valid trials at this step is 3\n",
      "13 0\n",
      " trial list: <class 'list'>, length 19\n",
      "player_id: <class 'int'>\n",
      "filter_trials_one_wall_becomes_visible_first - given_wall_first_visible_session array:\n",
      "[1. 0. 0. 0. 1. 0. 0. 1. 0. 0. 0. 0. 0. 1. 0. 0.]\n",
      "And the number of valid trials at this step is 4\n",
      "13 1\n",
      " trial list: <class 'list'>, length 49\n",
      "player_id: <class 'int'>\n",
      "filter_trials_one_wall_becomes_visible_first - given_wall_first_visible_session array:\n",
      "[1. 0. 1. 0. 0. 0. 0. 1. 1. 0. 0. 1. 1. 0. 0. 1. 1. 1. 1. 1. 0. 0. 1. 0.\n",
      " 0. 1. 0. 0. 0. 1. 0. 1. 1. 0. 0. 0. 1. 0. 0. 0. 0.]\n",
      "And the number of valid trials at this step is 17\n",
      "14 0\n",
      " trial list: <class 'list'>, length 49\n",
      "player_id: <class 'int'>\n",
      "filter_trials_one_wall_becomes_visible_first - given_wall_first_visible_session array:\n",
      "[1. 0. 1. 1. 1. 0. 1. 0. 0. 0. 0. 0. 1. 0. 1. 0. 1. 0. 0. 0. 1. 0. 1. 0.\n",
      " 0. 1. 0. 0. 0. 1. 1. 1. 0. 1. 0. 0. 1. 1. 0. 1. 1. 0. 1. 1. 1.]\n",
      "And the number of valid trials at this step is 22\n",
      "14 1\n",
      " trial list: <class 'list'>, length 61\n",
      "player_id: <class 'int'>\n",
      "filter_trials_one_wall_becomes_visible_first - given_wall_first_visible_session array:\n",
      "[1. 0. 0. 0. 0. 0. 0. 0. 1. 0. 1. 1. 0. 1. 0. 0. 0. 0. 0. 0. 0. 1. 1. 1.\n",
      " 0. 0. 0. 0. 1. 1. 0. 1. 0. 0. 0. 1. 1. 0. 0. 0. 0. 0. 0. 0. 1. 0. 1. 0.\n",
      " 0. 0. 0.]\n",
      "And the number of valid trials at this step is 15\n",
      "15 0\n",
      " trial list: <class 'list'>, length 61\n",
      "player_id: <class 'int'>\n",
      "filter_trials_one_wall_becomes_visible_first - given_wall_first_visible_session array:\n",
      "[0. 0. 1. 1. 0. 0. 0. 0. 0. 1. 1. 0. 0. 0. 0. 0. 0. 0. 0. 1. 1. 0. 0. 0.\n",
      " 1. 1. 1. 1. 1. 1. 1. 0. 1. 0. 0. 0. 0. 1. 1. 0. 1. 0. 0. 0. 1. 1. 1. 0.\n",
      " 0. 1. 0. 0. 0. 0. 0. 0. 0. 1. 0.]\n",
      "And the number of valid trials at this step is 22\n",
      "15 1\n",
      " trial list: <class 'list'>, length 48\n",
      "player_id: <class 'int'>\n",
      "filter_trials_one_wall_becomes_visible_first - given_wall_first_visible_session array:\n",
      "[0. 1. 0. 0. 0. 0. 1. 0. 0. 1. 1. 1. 0. 0. 0. 0. 0. 0. 1. 0. 1. 1. 1. 1.\n",
      " 1. 0. 1. 0. 0. 1. 0. 1. 0. 1. 0.]\n",
      "And the number of valid trials at this step is 15\n",
      "16 0\n",
      " trial list: <class 'list'>, length 48\n",
      "player_id: <class 'int'>\n",
      "filter_trials_one_wall_becomes_visible_first - given_wall_first_visible_session array:\n",
      "[1. 0. 0. 1. 1. 0. 1. 0. 1. 0. 0. 1. 1. 1. 0. 1. 1. 1. 0. 1. 0. 0. 0. 1.\n",
      " 0. 0. 0. 1. 0. 1. 0. 0. 1. 1. 1. 0. 0. 0. 0. 1. 1. 1. 1.]\n",
      "And the number of valid trials at this step is 22\n",
      "16 1\n",
      " trial list: <class 'list'>, length 24\n",
      "player_id: <class 'int'>\n",
      "filter_trials_one_wall_becomes_visible_first - given_wall_first_visible_session array:\n",
      "[1. 1. 0. 1. 1. 1. 0. 1. 1. 0. 0. 0. 1. 1. 1. 0. 0. 1.]\n",
      "And the number of valid trials at this step is 11\n",
      "17 0\n",
      " trial list: <class 'list'>, length 24\n",
      "player_id: <class 'int'>\n",
      "filter_trials_one_wall_becomes_visible_first - given_wall_first_visible_session array:\n",
      "[0. 1. 0. 1. 1. 0. 1. 0. 1. 1. 1. 1. 0. 1. 0. 1. 1. 1. 0. 0. 1. 0. 0. 0.]\n",
      "And the number of valid trials at this step is 13\n",
      "17 1\n",
      " trial list: <class 'list'>, length 28\n",
      "player_id: <class 'int'>\n",
      "filter_trials_one_wall_becomes_visible_first - given_wall_first_visible_session array:\n",
      "[1. 0. 1. 0. 0. 0. 1. 0. 0. 0. 0. 0. 0. 1. 0. 0. 0. 0.]\n",
      "And the number of valid trials at this step is 4\n",
      "18 0\n",
      " trial list: <class 'list'>, length 28\n",
      "player_id: <class 'int'>\n",
      "filter_trials_one_wall_becomes_visible_first - given_wall_first_visible_session array:\n",
      "[0. 0. 1. 1. 0. 1. 1. 0. 0. 0. 0. 1. 0. 0. 1. 0. 0. 0. 0. 0. 0. 0. 0. 0.\n",
      " 0. 0. 0.]\n",
      "And the number of valid trials at this step is 6\n",
      "18 1\n"
     ]
    }
   ],
   "source": [
    "# create dictionary to store filtered lists of dataframes for each player\n",
    "filtered_trials_numerator = {}\n",
    "for session_id, trial_list in enumerate(trial_lists):\n",
    "    # create the nested dictionary for session_id\n",
    "    filtered_trials_numerator[session_id] = {}\n",
    "\n",
    "    # filter trial list for specified trial type (e.g., HIGH_LOW)\n",
    "    trial_indices = get_indices.get_trials_trialtype(trial_list, trial_type=globals.HIGH_LOW)\n",
    "    trial_list = [trial_list[i] for i in trial_indices]\n",
    "\n",
    "    if wall_sep is not None:\n",
    "        # if notebook global variable for wall separation is True, also filter by this\n",
    "        trial_indices = get_indices.get_trials_with_wall_sep(trial_list, wall_sep=wall_sep)\n",
    "        trial_list = [trial_list[i] for i in trial_indices]\n",
    "\n",
    "    inferred_choice = False if solo else inferred_choice\n",
    "    player_ids = [0] if solo else [0,1]\n",
    "    for player_id in player_ids:\n",
    "        # do some filtering to this trial list for this player_id\n",
    "        trial_list_filtered, _ = heatmap_trial_list_filterer_numerator(trial_list, player_id, \n",
    "                                    inferred_choice, current_fov, wall_visible_index,\n",
    "                                    chosen_wall_index, debug=False)\n",
    "\n",
    "        # append the filtered trial list to the dictionary\n",
    "        print(session_id, player_id)\n",
    "        filtered_trials_numerator[session_id][player_id] = trial_list_filtered"
   ]
  },
  {
   "cell_type": "markdown",
   "id": "3ff02c2d",
   "metadata": {},
   "source": [
    "#### With the raw (filtered) trials, create an overall analysis dictionary"
   ]
  },
  {
   "cell_type": "code",
   "execution_count": 556,
   "id": "de7de17d",
   "metadata": {},
   "outputs": [
    {
     "name": "stdout",
     "output_type": "stream",
     "text": [
      "12\n",
      "2\n",
      "10\n",
      "13\n",
      "4\n",
      "18\n",
      "11\n",
      "9\n",
      "11\n",
      "17\n"
     ]
    }
   ],
   "source": [
    "for i in range(10):\n",
    "    print(len(analysis_results[i][0]['filtered_trials']['denominator']))"
   ]
  },
  {
   "cell_type": "code",
   "execution_count": 557,
   "id": "a1daf2e2",
   "metadata": {},
   "outputs": [],
   "source": [
    "analysis_results = {\n",
    "    session_id: {\n",
    "        player_id: {\n",
    "\n",
    "            # filtered, then flipped-and-rotated trial dataframes\n",
    "            'filtered_trials': {\n",
    "                'numerator': filtered_trials_numerator[session_id][player_id],\n",
    "                'denominator': filtered_trials_denominator[session_id][player_id],\n",
    "                'numerator_flipped_rotated': None,\n",
    "                'denominator_flipped_rotated': None\n",
    "            },\n",
    "\n",
    "            # trial start positions\n",
    "            'positions': {\n",
    "                'positions_numerator': None,\n",
    "                'positions_denominator': None,\n",
    "            },\n",
    "\n",
    "            # grids of count data per trial\n",
    "            'grids': {\n",
    "                'grid_numerator': None,\n",
    "                'grid_denominator': None,\n",
    "                'grid_ratio': None # ratio of numerator to denominator grids\n",
    "            }\n",
    "        }\n",
    "        for player_id in filtered_trials_numerator[session_id]\n",
    "    }\n",
    "    for session_id in filtered_trials_numerator\n",
    "}"
   ]
  },
  {
   "cell_type": "markdown",
   "id": "43695166",
   "metadata": {},
   "source": [
    "#### flip and rotate filtered trials so that trial positions are comparable"
   ]
  },
  {
   "cell_type": "code",
   "execution_count": 558,
   "id": "fbf0aaf4",
   "metadata": {},
   "outputs": [],
   "source": [
    "# Add the flipped-rotated version of the trials to the dictionary\n",
    "for session_id, players in analysis_results.items():\n",
    "    for player_id, data in players.items():\n",
    "        player_data = analysis_results[session_id][player_id]\n",
    "        player_trials_numerator = data['filtered_trials']['numerator']\n",
    "        player_data['filtered_trials']['numerator_flipped_rotated'] = [rotate.flip_rotate_trajectories(trial=trial) \n",
    "                                                            for trial in player_trials_numerator]\n",
    "for session_id, players in analysis_results.items():\n",
    "    for player_id, data in players.items():\n",
    "        player_data = analysis_results[session_id][player_id]\n",
    "        player_trials_denominator = data['filtered_trials']['denominator']\n",
    "        player_data['filtered_trials']['denominator_flipped_rotated'] = [rotate.flip_rotate_trajectories(trial=trial) \n",
    "                                                            for trial in player_trials_denominator]"
   ]
  },
  {
   "cell_type": "markdown",
   "id": "3d044ff4",
   "metadata": {},
   "source": [
    "#### Store location at trial start for each trial in denominator and numerator trials"
   ]
  },
  {
   "cell_type": "code",
   "execution_count": 559,
   "id": "bc96104b",
   "metadata": {},
   "outputs": [
    {
     "name": "stdout",
     "output_type": "stream",
     "text": [
      "11\n",
      "10\n",
      "1\n",
      "8\n",
      "6\n",
      "11\n",
      "17\n",
      "16\n",
      "4\n",
      "6\n",
      "7\n",
      "7\n",
      "12\n",
      "9\n",
      "4\n",
      "8\n",
      "9\n",
      "6\n",
      "14\n",
      "7\n",
      "10\n",
      "15\n",
      "9\n",
      "8\n",
      "7\n",
      "5\n",
      "3\n",
      "4\n",
      "17\n",
      "22\n",
      "15\n",
      "22\n",
      "15\n",
      "22\n",
      "11\n",
      "13\n",
      "4\n",
      "6\n",
      "381\n"
     ]
    }
   ],
   "source": [
    "test_sum = 0\n",
    "for session_id, players in analysis_results.items():\n",
    "    for player_id, data in players.items():\n",
    "        print(len(data['filtered_trials']['denominator']))\n",
    "        test_sum += len(data['filtered_trials']['denominator'])\n",
    "\n",
    "print(test_sum)\n"
   ]
  },
  {
   "cell_type": "code",
   "execution_count": 560,
   "id": "4f61cd0a",
   "metadata": {},
   "outputs": [],
   "source": [
    "# for each session id and then for each player id in the dictionary\n",
    "# access the relevant player slice onset location and create a list entry storing these locations\n",
    "\n",
    "for session_id, players in analysis_results.items():\n",
    "    for player_id, data in players.items():\n",
    "        player_data = analysis_results[session_id][player_id]\n",
    "        player_trials_numerator = data['filtered_trials']['numerator_flipped_rotated']\n",
    "        player_data['positions']['positions_numerator'] = np.array(\n",
    "                                                        [get_indices.get_player_slice_onset_loc(trial, player_id) \n",
    "                                                         for trial in player_trials_numerator],\n",
    "                                                        dtype=np.float32\n",
    "                                                        )\n",
    "\n",
    "        \n",
    "for session_id, players in analysis_results.items():\n",
    "    for player_id, data in players.items():\n",
    "        player_data = analysis_results[session_id][player_id]\n",
    "        player_trials_denominator = data['filtered_trials']['denominator_flipped_rotated']\n",
    "        player_data['positions']['positions_denominator'] = np.array(\n",
    "                                                        [get_indices.get_player_slice_onset_loc(trial, player_id)\n",
    "                                                          for trial in player_trials_denominator],\n",
    "                                                        dtype=np.float32\n",
    "                                                        )"
   ]
  },
  {
   "cell_type": "code",
   "execution_count": 561,
   "id": "1c435c73",
   "metadata": {},
   "outputs": [
    {
     "data": {
      "text/plain": [
       "array([[-0.28,  4.02]], dtype=float32)"
      ]
     },
     "execution_count": 561,
     "metadata": {},
     "output_type": "execute_result"
    }
   ],
   "source": [
    "analysis_results[5][0]['positions']['positions_numerator']"
   ]
  },
  {
   "cell_type": "markdown",
   "id": "c4f2dd56",
   "metadata": {},
   "source": [
    "#### Sort slice onset locations into spatially-binned count arrays (function and logic)"
   ]
  },
  {
   "cell_type": "code",
   "execution_count": 562,
   "id": "546bd1df",
   "metadata": {},
   "outputs": [],
   "source": [
    "x_min = -20\n",
    "x_max = 20\n",
    "y_min = -20\n",
    "y_max = 20"
   ]
  },
  {
   "cell_type": "code",
   "execution_count": 563,
   "id": "95414956",
   "metadata": {},
   "outputs": [],
   "source": [
    "def heatmap_counts_from_location_data(location_array, n_rows=10, n_cols=10, x_min=x_min, x_max=x_max, \n",
    "                                      y_min=y_min, y_max=y_max):\n",
    "    ''' Produce a matrix of counts across spatial location from n*2 location data '''\n",
    "\n",
    "    # define a grid of counts\n",
    "    grid_width = (x_max - x_min)/n_cols\n",
    "    grid_height = (y_max - y_min)/n_rows\n",
    "    grid = np.zeros([n_rows, n_cols])\n",
    "\n",
    "    try:\n",
    "        # Create a matrix of heatmap counts based on which bin starting location fits into\n",
    "        for i in range(len(location_array[:,0])):\n",
    "            x_val = location_array[i,0]\n",
    "            y_val = location_array[i,1]\n",
    "            x_bin = int((x_val - x_min)/grid_width)\n",
    "            y_bin = int((y_val - y_min)/grid_height)\n",
    "\n",
    "            if 0 <= y_bin < n_rows and 0 <= x_bin < n_cols:\n",
    "                grid[y_bin, x_bin] += 1\n",
    "    except IndexError:\n",
    "        grid = grid # no values in location array\n",
    "\n",
    "    return grid"
   ]
  },
  {
   "cell_type": "code",
   "execution_count": 564,
   "id": "1dc55358",
   "metadata": {},
   "outputs": [],
   "source": [
    "n_rows = 8\n",
    "n_cols = 8"
   ]
  },
  {
   "cell_type": "code",
   "execution_count": 565,
   "id": "f527a6c0",
   "metadata": {},
   "outputs": [],
   "source": [
    "# create new dictionaries to store a grid of slice-onset location count arrays \n",
    "\n",
    "for session_id, players in analysis_results.items():\n",
    "    for player_id, data in players.items():\n",
    "        player_data = analysis_results[session_id][player_id]\n",
    "        location_array = player_data['positions']['positions_numerator']\n",
    "        player_data['grids']['grid_numerator'] = heatmap_counts_from_location_data(location_array,n_rows=n_rows, n_cols=n_cols,\n",
    "                                                                        x_min=x_min, x_max=x_max, \n",
    "                                                                        y_min=y_min, y_max=y_max)\n",
    "for session_id, players in analysis_results.items():\n",
    "    for player_id, data in players.items():\n",
    "        player_data = analysis_results[session_id][player_id]\n",
    "        location_array = player_data['positions']['positions_denominator']\n",
    "        player_data['grids']['grid_denominator'] = heatmap_counts_from_location_data(location_array,n_rows=n_rows, n_cols=n_cols,\n",
    "                                                                        x_min=x_min, x_max=x_max, \n",
    "                                                                        y_min=y_min, y_max=y_max)\n"
   ]
  },
  {
   "cell_type": "markdown",
   "id": "2188d742",
   "metadata": {},
   "source": [
    "#### Calculate numerator/denominator ratio for each bin"
   ]
  },
  {
   "cell_type": "code",
   "execution_count": 566,
   "id": "7e348656",
   "metadata": {},
   "outputs": [
    {
     "name": "stderr",
     "output_type": "stream",
     "text": [
      "C:\\Users\\Tom\\AppData\\Local\\Temp\\ipykernel_1588\\2111596262.py:4: RuntimeWarning: invalid value encountered in divide\n",
      "  player_data['grids']['grid_ratio'] = player_data['grids']['grid_numerator']/player_data['grids']['grid_denominator']\n"
     ]
    }
   ],
   "source": [
    "for session_id, players in analysis_results.items():\n",
    "    for player_id, data in players.items():\n",
    "        player_data = analysis_results[session_id][player_id]\n",
    "        player_data['grids']['grid_ratio'] = player_data['grids']['grid_numerator']/player_data['grids']['grid_denominator']"
   ]
  },
  {
   "cell_type": "markdown",
   "id": "153b940d",
   "metadata": {},
   "source": [
    "#### find the average grid across all data"
   ]
  },
  {
   "cell_type": "code",
   "execution_count": 567,
   "id": "1feaec60",
   "metadata": {},
   "outputs": [],
   "source": [
    "numerator_array_list = [analysis_results[session_id][player_id]['grids']['grid_numerator']\n",
    " for session_id in analysis_results\n",
    " for player_id in analysis_results[session_id]\n",
    " ]\n",
    "denominator_array_list = [analysis_results[session_id][player_id]['grids']['grid_denominator']\n",
    " for session_id in analysis_results\n",
    " for player_id in analysis_results[session_id]\n",
    " ]\n"
   ]
  },
  {
   "cell_type": "code",
   "execution_count": 568,
   "id": "11eefdf5",
   "metadata": {},
   "outputs": [],
   "source": [
    "flipped_rotated_denominator_array_list = [analysis_results[session_id][player_id]['filtered_trials']['denominator_flipped_rotated']\n",
    " for session_id in analysis_results\n",
    " for player_id in analysis_results[session_id]\n",
    " ]\n",
    "\n",
    "flipped_rotated_denominator_array_list = [trial\n",
    "                                        for player in flipped_rotated_denominator_array_list\n",
    "                                        for trial in player\n",
    "]"
   ]
  },
  {
   "cell_type": "code",
   "execution_count": 569,
   "id": "ad0cbf8c",
   "metadata": {},
   "outputs": [],
   "source": [
    "raw_denominator_array_list = [analysis_results[session_id][player_id]['filtered_trials']['denominator']\n",
    " for session_id in analysis_results\n",
    " for player_id in analysis_results[session_id]\n",
    " ]\n",
    "\n",
    "raw_denominator_array_list = [trial\n",
    "                            for player in raw_denominator_array_list\n",
    "                            for trial in player\n",
    "]"
   ]
  },
  {
   "cell_type": "code",
   "execution_count": 570,
   "id": "c873d49c",
   "metadata": {},
   "outputs": [],
   "source": [
    "# type(raw_denominator_array_list[0])"
   ]
  },
  {
   "cell_type": "code",
   "execution_count": 571,
   "id": "d974a174",
   "metadata": {},
   "outputs": [
    {
     "data": {
      "text/plain": [
       "381"
      ]
     },
     "execution_count": 571,
     "metadata": {},
     "output_type": "execute_result"
    }
   ],
   "source": [
    "len(raw_denominator_array_list)"
   ]
  },
  {
   "cell_type": "code",
   "execution_count": 572,
   "id": "7b3989cc",
   "metadata": {},
   "outputs": [],
   "source": [
    "flipped_rotated_denominator_array_list_short = flipped_rotated_denominator_array_list[700:800]"
   ]
  },
  {
   "cell_type": "code",
   "execution_count": 573,
   "id": "e923ddf9",
   "metadata": {},
   "outputs": [],
   "source": [
    "import pickle\n",
    "import os\n",
    "my_variable = flipped_rotated_denominator_array_list_short\n",
    "shared_path = os.path.join(\"..\", \"shared_data\", \"my_variable.pkl\")\n",
    "with open(\"my_variable.pkl\", \"wb\") as f:\n",
    "    pickle.dump(my_variable, f)"
   ]
  },
  {
   "cell_type": "code",
   "execution_count": 574,
   "id": "d38a9c82",
   "metadata": {},
   "outputs": [
    {
     "name": "stderr",
     "output_type": "stream",
     "text": [
      "C:\\Users\\Tom\\AppData\\Local\\Temp\\ipykernel_1588\\3986122267.py:4: RuntimeWarning: invalid value encountered in divide\n",
      "  ratio_array_aggregate = summed_numerator/summed_denominator\n"
     ]
    }
   ],
   "source": [
    "n = len(numerator_array_list)\n",
    "summed_numerator = np.nansum(numerator_array_list, axis=0)\n",
    "summed_denominator =  np.nansum(denominator_array_list, axis=0)\n",
    "ratio_array_aggregate = summed_numerator/summed_denominator\n"
   ]
  },
  {
   "cell_type": "code",
   "execution_count": 575,
   "id": "a93ca6e8",
   "metadata": {},
   "outputs": [
    {
     "data": {
      "text/plain": [
       "array([[ 0.,  0.,  0.,  1.,  0.,  0.,  0.,  0.],\n",
       "       [ 0.,  1.,  0.,  3.,  2.,  1.,  0.,  0.],\n",
       "       [ 0.,  3.,  8.,  7., 10.,  1.,  1.,  0.],\n",
       "       [ 0.,  1.,  9., 43., 48.,  9.,  4.,  0.],\n",
       "       [ 0.,  6., 14., 55., 62., 15.,  1.,  1.],\n",
       "       [ 0.,  3.,  5., 14., 20.,  5.,  4.,  2.],\n",
       "       [ 0.,  4.,  4.,  3.,  2.,  3.,  1.,  0.],\n",
       "       [ 0.,  0.,  0.,  2.,  2.,  1.,  0.,  0.]])"
      ]
     },
     "execution_count": 575,
     "metadata": {},
     "output_type": "execute_result"
    }
   ],
   "source": [
    "summed_denominator"
   ]
  },
  {
   "cell_type": "code",
   "execution_count": 576,
   "id": "14b26824",
   "metadata": {},
   "outputs": [
    {
     "data": {
      "text/plain": [
       "array([[ nan,  nan,  nan, 0.  ,  nan,  nan,  nan,  nan],\n",
       "       [ nan, 0.  ,  nan, 0.67, 0.  , 0.  ,  nan,  nan],\n",
       "       [ nan, 0.33, 0.  , 0.29, 0.2 , 0.  , 0.  ,  nan],\n",
       "       [ nan, 0.  , 0.44, 0.42, 0.33, 0.22, 0.  ,  nan],\n",
       "       [ nan, 0.17, 0.14, 0.42, 0.26, 0.07, 0.  , 0.  ],\n",
       "       [ nan, 0.  , 0.4 , 0.21, 0.1 , 0.  , 0.  , 0.  ],\n",
       "       [ nan, 0.75, 0.5 , 1.  , 0.  , 0.  , 0.  ,  nan],\n",
       "       [ nan,  nan,  nan, 0.5 , 0.  , 1.  ,  nan,  nan]])"
      ]
     },
     "execution_count": 576,
     "metadata": {},
     "output_type": "execute_result"
    }
   ],
   "source": [
    "np.set_printoptions(precision=2, suppress=True)  # Format numbers\n",
    "ratio_array_aggregate"
   ]
  },
  {
   "cell_type": "markdown",
   "id": "3c935995",
   "metadata": {},
   "source": [
    "#### Use a cut-off for bins with fewer data-points"
   ]
  },
  {
   "cell_type": "code",
   "execution_count": 577,
   "id": "14a9d6b1",
   "metadata": {},
   "outputs": [
    {
     "data": {
      "text/plain": [
       "array([[ nan,  nan,  nan,  nan,  nan,  nan,  nan,  nan],\n",
       "       [ nan,  nan,  nan,  nan,  nan,  nan,  nan,  nan],\n",
       "       [ nan,  nan, 0.  , 0.29, 0.2 ,  nan,  nan,  nan],\n",
       "       [ nan,  nan, 0.44, 0.42, 0.33, 0.22,  nan,  nan],\n",
       "       [ nan,  nan, 0.14, 0.42, 0.26, 0.07,  nan,  nan],\n",
       "       [ nan,  nan,  nan, 0.21, 0.1 ,  nan,  nan,  nan],\n",
       "       [ nan,  nan,  nan,  nan,  nan,  nan,  nan,  nan],\n",
       "       [ nan,  nan,  nan,  nan,  nan,  nan,  nan,  nan]])"
      ]
     },
     "execution_count": 577,
     "metadata": {},
     "output_type": "execute_result"
    }
   ],
   "source": [
    "ratio_array_aggregate_data_size_cutoff = ratio_array_aggregate.copy()\n",
    "ratio_array_aggregate_data_size_cutoff[summed_denominator < 7] = np.nan\n",
    "ratio_array_aggregate_data_size_cutoff"
   ]
  },
  {
   "cell_type": "markdown",
   "id": "7fa464a2",
   "metadata": {},
   "source": [
    "#### Optionally mask this array to the central 4x4 grid for cleaning up solo plots"
   ]
  },
  {
   "cell_type": "code",
   "execution_count": 593,
   "id": "d5c4f51c",
   "metadata": {},
   "outputs": [],
   "source": [
    "# ratio_array_aggregate_data_size_cutoff[:,0:2] = np.nan\n",
    "# ratio_array_aggregate_data_size_cutoff[:,6:8] = np.nan\n",
    "# ratio_array_aggregate_data_size_cutoff[0:2,:] = np.nan\n",
    "# ratio_array_aggregate_data_size_cutoff[6:8,:] = np.nan"
   ]
  },
  {
   "cell_type": "code",
   "execution_count": 586,
   "id": "153fde77",
   "metadata": {},
   "outputs": [
    {
     "data": {
      "text/plain": [
       "array([[ nan,  nan,  nan,  nan,  nan,  nan,  nan,  nan],\n",
       "       [ nan,  nan,  nan,  nan,  nan,  nan,  nan,  nan],\n",
       "       [ nan,  nan, 0.  , 0.29, 0.2 ,  nan,  nan,  nan],\n",
       "       [ nan,  nan, 0.44, 0.42, 0.33, 0.22,  nan,  nan],\n",
       "       [ nan,  nan, 0.14, 0.42, 0.26, 0.07,  nan,  nan],\n",
       "       [ nan,  nan,  nan, 0.21, 0.1 ,  nan,  nan,  nan],\n",
       "       [ nan,  nan,  nan,  nan,  nan,  nan,  nan,  nan],\n",
       "       [ nan,  nan,  nan,  nan,  nan,  nan,  nan,  nan]])"
      ]
     },
     "execution_count": 586,
     "metadata": {},
     "output_type": "execute_result"
    }
   ],
   "source": [
    "ratio_array_aggregate_data_size_cutoff"
   ]
  },
  {
   "cell_type": "code",
   "execution_count": 587,
   "id": "9a8798a9",
   "metadata": {},
   "outputs": [],
   "source": [
    "probability_array_list = [analysis_results[session_id][player_id]['grids']['grid_ratio']\n",
    " for session_id in analysis_results\n",
    " for player_id in analysis_results[session_id]\n",
    " ]"
   ]
  },
  {
   "cell_type": "markdown",
   "id": "624475cc",
   "metadata": {},
   "source": [
    "#### plot P(H | H first vis/L first vis heatmap)"
   ]
  },
  {
   "cell_type": "code",
   "execution_count": 588,
   "id": "2f0f0784",
   "metadata": {},
   "outputs": [],
   "source": [
    "def plot_heatmap_from_count_array(ax, count_array, x_min=x_min, x_max=x_max, \n",
    "                                      y_min=y_min, y_max=y_max, vmin=None, vmax=None):\n",
    "\n",
    "    # get the zipped coordinate list of octagon x and y vertex points\n",
    "    octagon_vertex_coordinates = plot_octagon.return_octagon_path_points()\n",
    "\n",
    "    if vmin is None:\n",
    "        # display heatmap, covering the full graph\n",
    "        im = ax.imshow(count_array, extent=[x_min, x_max, y_min, y_max],\n",
    "                   origin='lower', cmap='plasma')\n",
    "\n",
    "    else:\n",
    "        # display heatmap, covering the full graph\n",
    "        im = ax.imshow(count_array, extent=[x_min, x_max, y_min, y_max],\n",
    "                   origin='lower', cmap='plasma', vmin=0, vmax=1)  \n",
    "    \n",
    "    # a matplotlib Artist with an edge and face colour\n",
    "    patch = Polygon(octagon_vertex_coordinates, edgecolor='black', facecolor='none', lw=2)\n",
    "    \n",
    "\n",
    "    ax.add_patch(patch)         # make octagon outline visible\n",
    "    im.set_clip_path(patch)     # crop image to coordinates inside the outline\n",
    "    \n",
    "    # Set aspect ratio to be square\n",
    "    ax.set_aspect(1.)\n",
    "    \n",
    "    plt.colorbar(im)\n",
    "\n",
    "    # ax.set_title(\"Count heatmap of winner location at the start of each trial\")\n",
    "\n",
    "    \n",
    "    # give some white border to the graph\n",
    "    ax.set_xlim([-22,22])\n",
    "    ax.set_ylim([-22,22])\n",
    "\n",
    "\n",
    "    print(\"total counts by location:\\n\", count_array)\n",
    "\n",
    "    return ax"
   ]
  },
  {
   "cell_type": "code",
   "execution_count": 589,
   "id": "3d078126",
   "metadata": {},
   "outputs": [],
   "source": [
    "# This one should do bincounts\n",
    "\n",
    "def plot_heatmap_from_count_array_sns(ax, count_array, bin_counts, x_min=x_min, x_max=x_max, \n",
    "                                      y_min=y_min, y_max=y_max, vmin=None, vmax=None,\n",
    "                                      xticklabels=False, yticklabels=False):\n",
    "    ''' Heatmap annotated with bin counts, no longer plotted over the octagon shape '''\n",
    "    \n",
    "    # probability data\n",
    "    heatmap_data = count_array\n",
    "    \n",
    "    # count data\n",
    "    annotation_data = bin_counts \n",
    "\n",
    "    # flip the y-axis\n",
    "    heatmap_data = np.flipud(heatmap_data)\n",
    "    annotation_data = np.flipud(bin_counts)\n",
    "    \n",
    "    # set up the x and y ranges for labeling bins from -20 to +20\n",
    "    x_bins = np.linspace(-20, 20, 9)\n",
    "    y_bins = np.linspace(-20, 20, 9)\n",
    "    \n",
    "    # create the heatmap\n",
    "    plt.figure(figsize=(8, 6))\n",
    "    # ax = sns.heatmap(heatmap_data, annot=annotation_data, fmt=\".0f\", cmap=\"plasma\", \n",
    "    #                  xticklabels=np.round(x_bins, 2), yticklabels=np.round(y_bins, 2),\n",
    "    #                  vmin=0, vmax=1, # colourbar range\n",
    "    #                  cbar_kws={'label': 'Heatmap Intensity'}, ax=ax)\n",
    "    ax = sns.heatmap(heatmap_data, annot=annotation_data, fmt=\".0f\", cmap=\"plasma\", \n",
    "                     xticklabels=xticklabels, yticklabels=yticklabels,\n",
    "                     vmin=0, vmax=1, # colourbar range\n",
    "                      ax=ax)\n",
    "\n",
    "\n",
    "    # get the zipped coordinate list of octagon x and y vertex points\n",
    "    octagon_vertex_coordinates = plot_octagon.return_octagon_path_points()\n",
    "\n",
    "    # a matplotlib Artist with an edge and face colour\n",
    "    patch = Polygon(octagon_vertex_coordinates, edgecolor='black', facecolor='none', lw=2)\n",
    "    \n",
    "\n",
    "    ax.add_patch(patch)         # make octagon outline visible\n",
    "    \n",
    "    # # Set labels\n",
    "    # ax.set_xlabel(\"X-axis\")\n",
    "    # ax.set_ylabel(\"Y-axis\")\n",
    "    # ax.set_title(\"Heatmap with Separate Annotation Values\")\n",
    "    \n",
    "    plt.show()"
   ]
  },
  {
   "cell_type": "code",
   "execution_count": 591,
   "id": "5fc4bb76",
   "metadata": {},
   "outputs": [
    {
     "name": "stdout",
     "output_type": "stream",
     "text": [
      "total counts by location:\n",
      " [[ nan  nan  nan  nan  nan  nan  nan  nan]\n",
      " [ nan  nan  nan  nan  nan  nan  nan  nan]\n",
      " [ nan  nan 0.   0.29 0.2   nan  nan  nan]\n",
      " [ nan  nan 0.44 0.42 0.33 0.22  nan  nan]\n",
      " [ nan  nan 0.14 0.42 0.26 0.07  nan  nan]\n",
      " [ nan  nan  nan 0.21 0.1   nan  nan  nan]\n",
      " [ nan  nan  nan  nan  nan  nan  nan  nan]\n",
      " [ nan  nan  nan  nan  nan  nan  nan  nan]]\n"
     ]
    },
    {
     "data": {
      "image/png": "[encoded data removed]",
      "text/plain": [
       "<Figure size 640x480 with 2 Axes>"
      ]
     },
     "metadata": {},
     "output_type": "display_data"
    }
   ],
   "source": [
    "ax = plot_octagon.plot_octagon()\n",
    "ax = plot_heatmap_from_count_array(ax, ratio_array_aggregate_data_size_cutoff, vmin=1)\n",
    "for spine in plt.gca().spines.values():\n",
    "    spine.set_visible(False)\n",
    "plt.gca().tick_params(left=False, bottom=False)  # Turn off major ticks\n",
    "plt.gca().set_xticklabels([])\n",
    "plt.gca().set_yticklabels([])\n",
    "plt.show()"
   ]
  },
  {
   "cell_type": "code",
   "execution_count": 592,
   "id": "43d0bed5",
   "metadata": {},
   "outputs": [
    {
     "data": {
      "image/png": "[encoded data removed]",
      "text/plain": [
       "<Figure size 640x480 with 2 Axes>"
      ]
     },
     "metadata": {},
     "output_type": "display_data"
    },
    {
     "data": {
      "text/plain": [
       "<Figure size 800x600 with 0 Axes>"
      ]
     },
     "metadata": {},
     "output_type": "display_data"
    },
    {
     "data": {
      "text/plain": [
       "[Text(0, 0.0, ''),\n",
       " Text(0, 0.2, ''),\n",
       " Text(0, 0.4, ''),\n",
       " Text(0, 0.6000000000000001, ''),\n",
       " Text(0, 0.8, ''),\n",
       " Text(0, 1.0, '')]"
      ]
     },
     "execution_count": 592,
     "metadata": {},
     "output_type": "execute_result"
    },
    {
     "data": {
      "image/png": "[encoded data removed]",
      "text/plain": [
       "<Figure size 640x480 with 1 Axes>"
      ]
     },
     "metadata": {},
     "output_type": "display_data"
    }
   ],
   "source": [
    "ax = plot_octagon.plot_octagon()\n",
    "ax = plot_heatmap_from_count_array_sns(ax, ratio_array_aggregate_data_size_cutoff, summed_denominator, vmin=0, vmax=1)\n",
    "for spine in plt.gca().spines.values():\n",
    "    spine.set_visible(False)\n",
    "plt.gca().tick_params(left=False, bottom=False)  # Turn off major ticks\n",
    "plt.gca().set_xticklabels([])\n",
    "plt.gca().set_yticklabels([])\n"
   ]
  },
  {
   "cell_type": "markdown",
   "id": "ee3bb0a4",
   "metadata": {},
   "source": [
    "#### TODO:\n",
    "- check logic to make sure we're selecting trials and flipping/rotating correctly (This can be done by using tests/flipped_rotated_trajectory_testing.ipynb on the flattened list of trials that are going into this current analysis)\n",
    "- repeat for solo\n",
    "- repeat for P(H|L first vis)"
   ]
  },
  {
   "cell_type": "markdown",
   "id": "bfecdeb7",
   "metadata": {},
   "source": [
    "#### For solo"
   ]
  },
  {
   "cell_type": "code",
   "execution_count": null,
   "id": "4abfa2da",
   "metadata": {},
   "outputs": [],
   "source": []
  }
 ],
 "metadata": {
  "kernelspec": {
   "display_name": "octagon_analysis",
   "language": "python",
   "name": "python3"
  },
  "language_info": {
   "codemirror_mode": {
    "name": "ipython",
    "version": 3
   },
   "file_extension": ".py",
   "mimetype": "text/x-python",
   "name": "python",
   "nbconvert_exporter": "python",
   "pygments_lexer": "ipython3",
   "version": "3.12.5"
  }
 },
 "nbformat": 4,
 "nbformat_minor": 5
}
