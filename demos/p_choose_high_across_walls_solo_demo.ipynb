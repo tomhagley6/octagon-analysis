{
 "cells": [
  {
   "cell_type": "code",
   "execution_count": 123,
   "metadata": {},
   "outputs": [],
   "source": [
    "import parse_data.prepare_data as prepare_data\n",
    "import numpy as np\n",
    "import pandas as pd\n",
    "import matplotlib.pyplot as plt\n",
    "import globals\n",
    "import data_strings\n",
    "import data_extraction.get_indices as get_indices\n",
    "import seaborn as sns"
   ]
  },
  {
   "cell_type": "markdown",
   "metadata": {},
   "source": [
    "## Plot a heatmap of P(Choose High) for each individual wall in solo sessions\n",
    "- Two variants: pooled data across all individuals (error is the standard error of a proportion, see below), and means of data across individuals (error is SEM)"
   ]
  },
  {
   "cell_type": "markdown",
   "metadata": {},
   "source": [
    "### Access data"
   ]
  },
  {
   "cell_type": "code",
   "execution_count": 124,
   "metadata": {},
   "outputs": [],
   "source": [
    "data_folder = data_strings.DATA_FOLDER\n",
    "json_filenames_all_social = data_strings.JSON_FILENAMES_SOCIAL\n",
    "json_filenames_all_solo = data_strings.JSON_FILENAMES_SOLO"
   ]
  },
  {
   "cell_type": "code",
   "execution_count": 125,
   "metadata": {},
   "outputs": [],
   "source": [
    "json_filenames = json_filenames_all_solo"
   ]
  },
  {
   "cell_type": "code",
   "execution_count": null,
   "metadata": {},
   "outputs": [
    {
     "name": "stdout",
     "output_type": "stream",
     "text": [
      "filepath: D:\\Users\\Tom\\OneDrive\\PhD\\SWC\\data\\first_experiments_2409\\240913\\2024-09-13_11-23-37_YansuFirstSolo.json\n",
      "Data is from period before 2024-09-13 00:00:00\n",
      "Running dataframe through playerinfo_playerposition_conversion.\n",
      "Loading complete.\n",
      "Preprocessing complete.\n",
      "filepath: D:\\Users\\Tom\\OneDrive\\PhD\\SWC\\data\\first_experiments_2409\\240913\\2024-09-13_11-53-34_YansuSecondSolo.json\n",
      "Data is from period before 2024-09-13 00:00:00\n",
      "Running dataframe through playerinfo_playerposition_conversion.\n",
      "Loading complete.\n",
      "Preprocessing complete.\n",
      "filepath: D:\\Users\\Tom\\OneDrive\\PhD\\SWC\\data\\first_experiments_2409\\240913\\2024-09-13_11-23-50_JerryFirstSolo.json\n",
      "Data is from period before 2024-09-13 00:00:00\n",
      "Running dataframe through playerinfo_playerposition_conversion.\n",
      "Loading complete.\n",
      "Preprocessing complete.\n",
      "filepath: D:\\Users\\Tom\\OneDrive\\PhD\\SWC\\data\\first_experiments_2409\\240913\\2024-09-13_11-53-56_JerrySecondSolo.json\n",
      "Data is from period before 2024-09-13 00:00:00\n",
      "Running dataframe through playerinfo_playerposition_conversion.\n",
      "Loading complete.\n",
      "Preprocessing complete.\n",
      "filepath: D:\\Users\\Tom\\OneDrive\\PhD\\SWC\\data\\second_experiments_2409\\240927\\2024-09-27_14-14-31_SaraFirstSolo.json\n",
      "Loading complete.\n",
      "Preprocessing complete.\n",
      "filepath: D:\\Users\\Tom\\OneDrive\\PhD\\SWC\\data\\second_experiments_2409\\240927\\2024-09-27_14-45-55_SaraSecondSolo.json\n",
      "Loading complete.\n",
      "Preprocessing complete.\n",
      "filepath: D:\\Users\\Tom\\OneDrive\\PhD\\SWC\\data\\second_experiments_2409\\240927\\2024-09-27_14-14-42_EmilyFirstSolo.json\n",
      "Loading complete.\n",
      "Preprocessing complete.\n",
      "filepath: D:\\Users\\Tom\\OneDrive\\PhD\\SWC\\data\\second_experiments_2409\\240927\\2024-09-27_14-45-46_EmilySecondSolo.json\n",
      "Loading complete.\n",
      "Preprocessing complete.\n",
      "filepath: D:\\Users\\Tom\\OneDrive\\PhD\\SWC\\data\\third_experiments_2410\\241017\\2024-10-17_14-20-28_ShamirFirstSolo.json\n",
      "Loading complete.\n",
      "Preprocessing complete.\n",
      "filepath: D:\\Users\\Tom\\OneDrive\\PhD\\SWC\\data\\third_experiments_2410\\241017\\2024-10-17_14-50-03_ShamirSecondSolo.json\n",
      "Loading complete.\n",
      "Preprocessing complete.\n",
      "filepath: D:\\Users\\Tom\\OneDrive\\PhD\\SWC\\data\\third_experiments_2410\\241017\\2024-10-17_14-20-50_AbigailFirstSolo.json\n",
      "Loading complete.\n",
      "Preprocessing complete.\n",
      "filepath: D:\\Users\\Tom\\OneDrive\\PhD\\SWC\\data\\third_experiments_2410\\241017\\2024-10-17_14-51-22_AbigailSecondSolo.json\n",
      "Loading complete.\n",
      "Preprocessing complete.\n",
      "filepath: D:\\Users\\Tom\\OneDrive\\PhD\\SWC\\data\\fourth_experiments_2410\\241017\\2024-10-17_16-35-45_ElsaFirstSolo.json\n",
      "Loading complete.\n",
      "Preprocessing complete.\n",
      "filepath: D:\\Users\\Tom\\OneDrive\\PhD\\SWC\\data\\fourth_experiments_2410\\241017\\2024-10-17_17-12-29_ElsaSecondSolo.json\n",
      "Loading complete.\n",
      "Preprocessing complete.\n",
      "filepath: D:\\Users\\Tom\\OneDrive\\PhD\\SWC\\data\\fourth_experiments_2410\\241017\\2024-10-17_16-36-0_ZimoFirstSolo.json\n",
      "Loading complete.\n",
      "Preprocessing complete.\n",
      "filepath: D:\\Users\\Tom\\OneDrive\\PhD\\SWC\\data\\fourth_experiments_2410\\241017\\2024-10-17_17-11-46_ZimoSecondSolo.json\n",
      "Loading complete.\n",
      "Preprocessing complete.\n",
      "filepath: D:\\Users\\Tom\\OneDrive\\PhD\\SWC\\data\\fifth_experiments_241112\\2024-11-12_13-19-22_KhadijaFirstSolo.json\n",
      "Loading complete.\n",
      "Preprocessing complete.\n",
      "filepath: D:\\Users\\Tom\\OneDrive\\PhD\\SWC\\data\\fifth_experiments_241112\\2024-11-12_13-50-23_KhadijaSecondSolo.json\n",
      "Loading complete.\n",
      "Preprocessing complete.\n",
      "filepath: D:\\Users\\Tom\\OneDrive\\PhD\\SWC\\data\\fifth_experiments_241112\\2024-11-12_13-18-59_WendyFirstSolo.json\n",
      "Loading complete.\n",
      "Preprocessing complete.\n",
      "filepath: D:\\Users\\Tom\\OneDrive\\PhD\\SWC\\data\\fifth_experiments_241112\\2024-11-12_13-50-20_WendySecondSolo.json\n",
      "Loading complete.\n",
      "Preprocessing complete.\n",
      "filepath: D:\\Users\\Tom\\OneDrive\\PhD\\SWC\\data\\sixth_experiments_241112\\2024-11-12_15-13-34_FrancescaFirstSolo.json\n",
      "Loading complete.\n",
      "Preprocessing complete.\n",
      "filepath: D:\\Users\\Tom\\OneDrive\\PhD\\SWC\\data\\sixth_experiments_241112\\2024-11-12_15-44-54_FrancescaSecondSolo.json\n",
      "Loading complete.\n",
      "Preprocessing complete.\n",
      "filepath: D:\\Users\\Tom\\OneDrive\\PhD\\SWC\\data\\sixth_experiments_241112\\2024-11-12_15-11-45_SenFirstSolo.json\n",
      "Loading complete.\n",
      "Preprocessing complete.\n",
      "filepath: D:\\Users\\Tom\\OneDrive\\PhD\\SWC\\data\\sixth_experiments_241112\\2024-11-12_15-45-35_SenSecondSolo.json\n",
      "Loading complete.\n",
      "Preprocessing complete.\n",
      "filepath: D:\\Users\\Tom\\OneDrive\\PhD\\SWC\\data\\seventh_experiments_241113\\2024-11-13_14-12-43_NasiaFirstSolo.json\n",
      "Loading complete.\n",
      "Preprocessing complete.\n",
      "filepath: D:\\Users\\Tom\\OneDrive\\PhD\\SWC\\data\\seventh_experiments_241113\\2024-11-13_14-37-06_NasiaSecondSolo.json\n",
      "Loading complete.\n",
      "Preprocessing complete.\n",
      "filepath: D:\\Users\\Tom\\OneDrive\\PhD\\SWC\\data\\seventh_experiments_241113\\2024-11-13_14-12-41_RyanFirstSolo.json\n",
      "Loading complete.\n",
      "Preprocessing complete.\n",
      "filepath: D:\\Users\\Tom\\OneDrive\\PhD\\SWC\\data\\seventh_experiments_241113\\2024-11-13_14-37-20_RyanSecondSolo.json\n",
      "Loading complete.\n",
      "Preprocessing complete.\n",
      "filepath: D:\\Users\\Tom\\OneDrive\\PhD\\SWC\\data\\eighth_experiments_241113\\2024-11-13_15-22-20_YichuanFirstSolo.json\n",
      "Loading complete.\n",
      "Preprocessing complete.\n",
      "filepath: D:\\Users\\Tom\\OneDrive\\PhD\\SWC\\data\\eighth_experiments_241113\\2024-11-13_15-51-39_YichuanSecondSolo.json\n",
      "Loading complete.\n",
      "Preprocessing complete.\n",
      "filepath: D:\\Users\\Tom\\OneDrive\\PhD\\SWC\\data\\eighth_experiments_241113\\2024-11-13_15-21-50_HoiFirstSolo.json\n",
      "Loading complete.\n",
      "Preprocessing complete.\n",
      "filepath: D:\\Users\\Tom\\OneDrive\\PhD\\SWC\\data\\eighth_experiments_241113\\2024-11-13_15-51-16_HoiSecondSolo.json\n",
      "Loading complete.\n",
      "Preprocessing complete.\n",
      "filepath: D:\\Users\\Tom\\OneDrive\\PhD\\SWC\\data\\ninth_experiments_241119\\2024-11-19_14-18-18_AmyFirstSolo.json\n",
      "Loading complete.\n",
      "Preprocessing complete.\n",
      "filepath: D:\\Users\\Tom\\OneDrive\\PhD\\SWC\\data\\ninth_experiments_241119\\2024-11-19_14-44-00_AmySecondSolo.json\n",
      "Loading complete.\n",
      "Preprocessing complete.\n",
      "filepath: D:\\Users\\Tom\\OneDrive\\PhD\\SWC\\data\\ninth_experiments_241119\\2024-11-19_14-18-44_XinyuanFirstSolo.json\n",
      "Loading complete.\n",
      "Preprocessing complete.\n",
      "filepath: D:\\Users\\Tom\\OneDrive\\PhD\\SWC\\data\\ninth_experiments_241119\\2024-11-19_14-44-31_XinyuanSecondSolo.json\n",
      "Loading complete.\n",
      "Preprocessing complete.\n",
      "filepath: D:\\Users\\Tom\\OneDrive\\PhD\\SWC\\data\\tenth_experiments_241119\\2024-11-19_15-15-53_SophiaFirstSolo.json\n",
      "Loading complete.\n",
      "Preprocessing complete.\n",
      "filepath: D:\\Users\\Tom\\OneDrive\\PhD\\SWC\\data\\tenth_experiments_241119\\2024-11-19_15-47-53_SophiaSecondSolo.json\n",
      "Loading complete.\n",
      "Preprocessing complete.\n",
      "filepath: D:\\Users\\Tom\\OneDrive\\PhD\\SWC\\data\\tenth_experiments_241119\\2024-11-19_15-14-19_HocineFirstSolo.json\n",
      "Loading complete.\n",
      "Preprocessing complete.\n",
      "filepath: D:\\Users\\Tom\\OneDrive\\PhD\\SWC\\data\\tenth_experiments_241119\\2024-11-19_15-47-29_HocineSecondSolo.json\n",
      "Loading complete.\n",
      "Preprocessing complete.\n",
      "filepath: D:\\Users\\Tom\\OneDrive\\PhD\\SWC\\data\\eleventh_experiments_241120\\2024-11-20_14-12-06_JasonFirstSolo.json\n",
      "Loading complete.\n",
      "Preprocessing complete.\n",
      "filepath: D:\\Users\\Tom\\OneDrive\\PhD\\SWC\\data\\eleventh_experiments_241120\\2024-11-20_14-42-16_JasonSecondSolo.json\n",
      "Loading complete.\n",
      "Preprocessing complete.\n",
      "filepath: D:\\Users\\Tom\\OneDrive\\PhD\\SWC\\data\\eleventh_experiments_241120\\2024-11-20_14-12-33_RahulFirstSolo.json\n",
      "Loading complete.\n",
      "Preprocessing complete.\n",
      "filepath: D:\\Users\\Tom\\OneDrive\\PhD\\SWC\\data\\eleventh_experiments_241120\\2024-11-20_14-41-56_RahulSecondSolo.json\n",
      "Loading complete.\n",
      "Preprocessing complete.\n",
      "filepath: D:\\Users\\Tom\\OneDrive\\PhD\\SWC\\data\\twelfth_experiments_241120\\2024-11-20_15-10-00_SunnyFirstSolo.json\n",
      "Loading complete.\n",
      "Preprocessing complete.\n",
      "filepath: D:\\Users\\Tom\\OneDrive\\PhD\\SWC\\data\\twelfth_experiments_241120\\2024-11-20_15-40-08_SunnySecondSolo.json\n",
      "Loading complete.\n",
      "Preprocessing complete.\n",
      "filepath: D:\\Users\\Tom\\OneDrive\\PhD\\SWC\\data\\twelfth_experiments_241120\\2024-11-20_15-10-17_VinceFirstSolo.json\n",
      "Loading complete.\n",
      "Preprocessing complete.\n",
      "filepath: D:\\Users\\Tom\\OneDrive\\PhD\\SWC\\data\\twelfth_experiments_241120\\2024-11-20_15-39-49_VinceSecondSolo.json\n",
      "Loading complete.\n",
      "Preprocessing complete.\n",
      "filepath: D:\\Users\\Tom\\OneDrive\\PhD\\SWC\\data\\241203_1\\2024-12-03_14-20-13_PaulFirstSolo.json\n",
      "Loading complete.\n",
      "Preprocessing complete.\n",
      "filepath: D:\\Users\\Tom\\OneDrive\\PhD\\SWC\\data\\241203_1\\2024-12-03_14-52-05_PaulSecondSolo.json\n",
      "Loading complete.\n",
      "Preprocessing complete.\n",
      "filepath: D:\\Users\\Tom\\OneDrive\\PhD\\SWC\\data\\241203_1\\2024-12-03_14-19-21_NicoleFirstSolo.json\n",
      "Loading complete.\n",
      "Preprocessing complete.\n",
      "filepath: D:\\Users\\Tom\\OneDrive\\PhD\\SWC\\data\\241203_1\\2024-12-03_14-52-30_NicoleSecondSolo.json\n",
      "Loading complete.\n",
      "Preprocessing complete.\n",
      "filepath: D:\\Users\\Tom\\OneDrive\\PhD\\SWC\\data\\241203_2\\2024-12-03_15-19-51_EstherFirstSolo.json\n",
      "Loading complete.\n",
      "Preprocessing complete.\n",
      "filepath: D:\\Users\\Tom\\OneDrive\\PhD\\SWC\\data\\241203_2\\2024-12-03_15-53-11_EstherSecondSolo.json\n",
      "Loading complete.\n",
      "Preprocessing complete.\n",
      "filepath: D:\\Users\\Tom\\OneDrive\\PhD\\SWC\\data\\241203_2\\2024-12-03_15-20-09_BowinFirstSolo.json\n",
      "Loading complete.\n",
      "Preprocessing complete.\n",
      "filepath: D:\\Users\\Tom\\OneDrive\\PhD\\SWC\\data\\241203_2\\2024-12-03_15-52-57_BowinSecondSolo.json\n",
      "Loading complete.\n",
      "Preprocessing complete.\n",
      "filepath: D:\\Users\\Tom\\OneDrive\\PhD\\SWC\\data\\241210_1\\2024-12-10_14-13-47_TaqwaFirstSolo.json\n",
      "Loading complete.\n",
      "Preprocessing complete.\n",
      "filepath: D:\\Users\\Tom\\OneDrive\\PhD\\SWC\\data\\241210_1\\2024-12-10_14-45-41_TaqwaSecondSolo.json\n",
      "Loading complete.\n",
      "Preprocessing complete.\n",
      "filepath: D:\\Users\\Tom\\OneDrive\\PhD\\SWC\\data\\241210_1\\2024-12-10_14-12-58_TasFirstSolo.json\n",
      "Loading complete.\n",
      "Preprocessing complete.\n",
      "filepath: D:\\Users\\Tom\\OneDrive\\PhD\\SWC\\data\\241210_1\\2024-12-10_14-45-09_TasSecondSolo.json\n",
      "Loading complete.\n",
      "Preprocessing complete.\n",
      "filepath: D:\\Users\\Tom\\OneDrive\\PhD\\SWC\\data\\241210_2\\2024-12-10_15-12-18_RyanFirstSolo.json\n",
      "Loading complete.\n",
      "Preprocessing complete.\n",
      "filepath: D:\\Users\\Tom\\OneDrive\\PhD\\SWC\\data\\241210_2\\2024-12-10_15-42-27_RyanSecondSolo.json\n",
      "Loading complete.\n",
      "Preprocessing complete.\n",
      "filepath: D:\\Users\\Tom\\OneDrive\\PhD\\SWC\\data\\241210_2\\2024-12-10_15-11-46_RoseFirstSolo.json\n",
      "Loading complete.\n",
      "Preprocessing complete.\n",
      "filepath: D:\\Users\\Tom\\OneDrive\\PhD\\SWC\\data\\241210_2\\2024-12-10_15-41-53_RoseSecondSolo.json\n",
      "Loading complete.\n",
      "Preprocessing complete.\n",
      "filepath: D:\\Users\\Tom\\OneDrive\\PhD\\SWC\\data\\241219_1\\2024-12-19_15-20-18_JingjingFirstSolo.json\n",
      "Loading complete.\n",
      "Preprocessing complete.\n",
      "filepath: D:\\Users\\Tom\\OneDrive\\PhD\\SWC\\data\\241219_1\\2024-12-19_15-51-58_JingjingSecondSolo.json\n",
      "Loading complete.\n",
      "Preprocessing complete.\n",
      "filepath: D:\\Users\\Tom\\OneDrive\\PhD\\SWC\\data\\241219_1\\2024-12-19_15-22-13_YeungFirstSolo.json\n",
      "Loading complete.\n",
      "Preprocessing complete.\n",
      "filepath: D:\\Users\\Tom\\OneDrive\\PhD\\SWC\\data\\241219_1\\2024-12-19_15-51-33_YeungSecondSolo.json\n",
      "Loading complete.\n",
      "Preprocessing complete.\n",
      "filepath: D:\\Users\\Tom\\OneDrive\\PhD\\SWC\\data\\250115_1\\2025-01-15_15-12-13_YixuanFirstSolo.json\n",
      "Loading complete.\n",
      "Preprocessing complete.\n",
      "filepath: D:\\Users\\Tom\\OneDrive\\PhD\\SWC\\data\\250115_1\\2025-01-15_15-47-11_YixuanSecondSolo.json\n",
      "Loading complete.\n",
      "Preprocessing complete.\n",
      "filepath: D:\\Users\\Tom\\OneDrive\\PhD\\SWC\\data\\250115_1\\2025-01-15_15-12-39_MarcoFirstSolo.json\n",
      "Loading complete.\n",
      "Preprocessing complete.\n",
      "filepath: D:\\Users\\Tom\\OneDrive\\PhD\\SWC\\data\\250115_1\\2025-01-15_15-46-04_MarcoSecondSolo.json\n",
      "Loading complete.\n",
      "Preprocessing complete.\n",
      "filepath: D:\\Users\\Tom\\OneDrive\\PhD\\SWC\\data\\250115_2\\2025-01-15_16-14-40_YuChunFirstSolo.json\n",
      "Loading complete.\n",
      "Preprocessing complete.\n",
      "filepath: D:\\Users\\Tom\\OneDrive\\PhD\\SWC\\data\\250115_2\\2025-01-15_16-50-13_YuChunSecondSocial.json\n",
      "Loading complete.\n",
      "Preprocessing complete.\n",
      "filepath: D:\\Users\\Tom\\OneDrive\\PhD\\SWC\\data\\250115_2\\2025-01-15_16-14-58_RuiqingFirstSolo.json\n",
      "Loading complete.\n",
      "Preprocessing complete.\n",
      "filepath: D:\\Users\\Tom\\OneDrive\\PhD\\SWC\\data\\250115_2\\2025-01-15_16-50-37_RuiqingSecondSolo.json\n",
      "Loading complete.\n",
      "Preprocessing complete.\n",
      "76\n"
     ]
    }
   ],
   "source": [
    "# combine consecutive solo sessions (pre- and post- for an individual player)\n",
    "_, trial_lists = prepare_data.prepare_data(data_folder, json_filenames, combine=False)\n",
    "print(len(trial_lists))\n",
    "trial_lists = [trial_lists[i] + trial_lists[i+1] for i in range(0, len(trial_lists), 2)]\n"
   ]
  },
  {
   "cell_type": "markdown",
   "metadata": {},
   "source": [
    "### Filter the data\n",
    "- Only include HighLow trials\n",
    "- Remove the first 5 trials of each pre- sessions (even numbered indices only)"
   ]
  },
  {
   "cell_type": "code",
   "execution_count": 127,
   "metadata": {},
   "outputs": [],
   "source": [
    "dropped_trials = 5"
   ]
  },
  {
   "cell_type": "code",
   "execution_count": null,
   "metadata": {},
   "outputs": [],
   "source": [
    "analysis_results = {\n",
    "    session_id: {\n",
    "\n",
    "            # trial list and filtered trial indices\n",
    "            'trial_lists': {\n",
    "                'full_session': None,\n",
    "                'drop_first_5': None,\n",
    "                'high_low_filtered': None,\n",
    "            },\n",
    "\n",
    "            # chosen wall numbers and whether high or low\n",
    "            'choice_data' : {\n",
    "                'wall_numbers': None,\n",
    "                'chose_high': None,\n",
    "                'probability_chose_high': None  # array of values from walls 1 to 8\n",
    "            }\n",
    "            \n",
    "\n",
    "        }\n",
    "    for session_id in np.arange(len(trial_lists))\n",
    "}"
   ]
  },
  {
   "cell_type": "code",
   "execution_count": null,
   "metadata": {},
   "outputs": [],
   "source": [
    "for session_id in analysis_results.keys():\n",
    "    \n",
    "    player_data = analysis_results[session_id]\n",
    "    trial_list = trial_lists[session_id]\n",
    "\n",
    "    player_data['trial_lists']['full_session'] = trial_list\n",
    "    player_data['trial_lists']['drop_first_5'] = trial_list[dropped_trials:] \n",
    "\n",
    "    trial_list_filtered = player_data['trial_lists']['drop_first_5']\n",
    "    player_data['trial_lists']['high_low_filtered'] = [trial_list_filtered[i]\n",
    "                                                        for i in get_indices.get_trials_trialtype(trial_list_filtered, globals.HIGH_LOW)]\n",
    "    \n",
    "    # print(len(player_data['trial_lists']['high_low_filtered']))"
   ]
  },
  {
   "cell_type": "markdown",
   "metadata": {},
   "source": [
    "### Find the wall numbers chosen and whether these were high or low"
   ]
  },
  {
   "cell_type": "code",
   "execution_count": 145,
   "metadata": {},
   "outputs": [],
   "source": [
    "for session_id in analysis_results.keys():\n",
    "    \n",
    "    player_data = analysis_results[session_id]\n",
    "    trial_list = player_data['trial_lists']['high_low_filtered']\n",
    "\n",
    "    player_data['choice_data']['wall_numbers'] = get_indices.get_chosen_walls(trial_list).astype(int)\n",
    "    player_data['choice_data']['chose_high'] = get_indices.was_high_wall_chosen(trial_list)\n",
    "\n",
    "    # print(len(player_data['choice_data']['chose_high']))"
   ]
  },
  {
   "cell_type": "markdown",
   "metadata": {},
   "source": [
    "### Find each player's probability of choosing High"
   ]
  },
  {
   "cell_type": "code",
   "execution_count": 146,
   "metadata": {},
   "outputs": [],
   "source": [
    "for session_id in analysis_results.keys():\n",
    "    \n",
    "    player_data = analysis_results[session_id]\n",
    "    wall_numbers = player_data['choice_data']['wall_numbers']\n",
    "    chose_high = player_data['choice_data']['chose_high']\n",
    "\n",
    "    wall_probabilities = np.full(8, np.nan)\n",
    "\n",
    "    # specify min bins == highest integer value + 1\n",
    "    # slice from index 1 because 0 will always be counted, but is not relevant\n",
    "    counts = np.bincount(wall_numbers, minlength=9)[1:]  # count occurrences of 1-8\n",
    "    chosen_counts = np.bincount(wall_numbers[chose_high], minlength=9)[1:]  # count True occurrences\n",
    "\n",
    "    mask = counts > 0  # Avoid division by zero\n",
    "    wall_probabilities[mask] = chosen_counts[mask] / counts[mask]\n",
    "\n",
    "    player_data['choice_data']['probability_chose_high'] = wall_probabilities"
   ]
  },
  {
   "cell_type": "code",
   "execution_count": null,
   "metadata": {},
   "outputs": [
    {
     "data": {
      "text/plain": [
       "(array([3., 5., 6., 1., 6., 3., 8., 5., 5., 4., 8., 5., 4., 5., 1., 1., 3.,\n",
       "        3., 8., 4., 2., 7., 3., 1., 2., 3., 8., 6., 4., 1., 5., 2., 6., 2.,\n",
       "        6., 3., 8., 4., 3., 1., 1., 6., 4., 7., 8., 1., 1., 5., 2., 8., 6.]),\n",
       " array([ True,  True, False,  True,  True,  True,  True,  True,  True,\n",
       "         True,  True,  True,  True,  True,  True,  True,  True, False,\n",
       "         True,  True,  True,  True,  True,  True,  True,  True, False,\n",
       "        False,  True,  True,  True,  True,  True, False,  True,  True,\n",
       "         True, False,  True,  True,  True,  True,  True,  True,  True,\n",
       "        False,  True,  True,  True,  True,  True]))"
      ]
     },
     "execution_count": 132,
     "metadata": {},
     "output_type": "execute_result"
    }
   ],
   "source": [
    "# quick tests\n",
    "\n",
    "# # analysis_results[1]['choice_data']['wall_numbers'],analysis_results[1]['choice_data']['chose_high']\n",
    "\n",
    "# # np.sum(analysis_results[1]['choice_data']['chose_high'])/analysis_results[1]['choice_data']['chose_high'].size\n",
    "\n",
    "# # np.sum(analysis_results[1]['choice_data']['wall_numbers'] == 8)"
   ]
  },
  {
   "cell_type": "markdown",
   "metadata": {},
   "source": [
    "### Flatten data across players for pooled mean"
   ]
  },
  {
   "cell_type": "code",
   "execution_count": null,
   "metadata": {},
   "outputs": [],
   "source": [
    "wall_number_list = [analysis_results[session_id]['choice_data']['wall_numbers']\n",
    " for session_id in analysis_results\n",
    " ]\n",
    "chose_high_list = [analysis_results[session_id]['choice_data']['chose_high']\n",
    " for session_id in analysis_results\n",
    " ]\n",
    "\n",
    "\n",
    "wall_numbers = np.concatenate(wall_number_list).astype(int)\n",
    "chose_high = np.concatenate(chose_high_list)"
   ]
  },
  {
   "cell_type": "code",
   "execution_count": null,
   "metadata": {},
   "outputs": [],
   "source": [
    "# # with for loops\n",
    "\n",
    "# wall_probabilities_test = np.full(8, np.nan)\n",
    "# for wall_num in range(1,9):\n",
    "#     wall_num_mask = wall_numbers == wall_num\n",
    "#     relevant_chose_high = chose_high[wall_num_mask]\n",
    "#     probability_chose_high = np.sum(relevant_chose_high)/relevant_chose_high.size\n",
    "\n",
    "#     wall_index = wall_num - 1\n",
    "#     wall_probabilities_test[wall_index] = probability_chose_high\n",
    "\n"
   ]
  },
  {
   "cell_type": "code",
   "execution_count": null,
   "metadata": {},
   "outputs": [],
   "source": [
    "# more efficient code with vectorised functions\n",
    "\n",
    "wall_probabilities = np.full(8, np.nan)\n",
    "\n",
    "# specify min bins == highest integer value + 1\n",
    "# slice from index 1 because 0 will always be counted, but is not relevant\n",
    "counts = np.bincount(wall_numbers, minlength=9)[1:]  # count occurrences of 1-8\n",
    "chosen_counts = np.bincount(wall_numbers[chose_high], minlength=9)[1:]  # count True occurrences\n",
    "\n",
    "mask = counts > 0  # Avoid division by zero\n",
    "wall_probabilities[mask] = chosen_counts[mask] / counts[mask]"
   ]
  },
  {
   "attachments": {
    "image.png": {
     "image/png": "[encoded data removed]"
    }
   },
   "cell_type": "markdown",
   "metadata": {},
   "source": [
    "#### Get errors bars for pooled mean\n",
    "- following the formula:\n",
    " ![image.png](attachment:image.png)"
   ]
  },
  {
   "cell_type": "code",
   "execution_count": 200,
   "metadata": {},
   "outputs": [],
   "source": [
    "# get error bars\n",
    "\n",
    "standard_error = np.sqrt((wall_probabilities * (1 - wall_probabilities)) / len(wall_number_list))"
   ]
  },
  {
   "cell_type": "markdown",
   "metadata": {},
   "source": [
    "#### Plot for pooled mean"
   ]
  },
  {
   "cell_type": "code",
   "execution_count": null,
   "metadata": {},
   "outputs": [
    {
     "data": {
      "image/png": "[encoded data removed]",
      "text/plain": [
       "<Figure size 800x500 with 1 Axes>"
      ]
     },
     "metadata": {},
     "output_type": "display_data"
    }
   ],
   "source": [
    "wall_numbers = np.arange(1,9)\n",
    "wall_probabilities = wall_probabilities\n",
    "\n",
    "# set seaborn style\n",
    "sns.set_style(\"white\", {\"axes.grid\": False})\n",
    "\n",
    "# create figure and axis\n",
    "plt.figure(figsize=(8, 5))\n",
    "\n",
    "# plot vertical dashed grey lines for each categorical x value\n",
    "for x in wall_numbers:\n",
    "    plt.axvline(x=x+0.5, color='grey', linestyle='dashed', alpha=0.5)\n",
    "\n",
    "# plot the probability line with markers\n",
    "sns.lineplot(x=wall_numbers, y=wall_probabilities, marker='o', markersize=8, linewidth=2.5, color=\"b\")\n",
    "\n",
    "# Customize labels and title\n",
    "plt.xlabel(\"Wall Number\", fontsize=12)\n",
    "plt.ylabel(\"Probability\", fontsize=12)\n",
    "# plt.title(\"Probability of Choosing High by Wall Number\", fontsize=14)\n",
    "\n",
    "# set y-axis for probability\n",
    "plt.ylim([0,1])\n",
    "\n",
    "# adjust x-axis ticks to match categorical values\n",
    "plt.xticks(wall_numbers)\n",
    "\n",
    "# Remove top and right borders\n",
    "sns.despine(top=True, right=True)\n",
    "\n",
    "# show the plot\n",
    "plt.show()"
   ]
  },
  {
   "cell_type": "code",
   "execution_count": 202,
   "metadata": {},
   "outputs": [
    {
     "data": {
      "image/png": "[encoded data removed]",
      "text/plain": [
       "<Figure size 800x500 with 1 Axes>"
      ]
     },
     "metadata": {},
     "output_type": "display_data"
    }
   ],
   "source": [
    "# repeated but for mpl\n",
    "\n",
    "# Sample probability data (replace with actual values)\n",
    "wall_numbers = np.arange(1,9)\n",
    "wall_probabilities = wall_probabilities\n",
    "errors = standard_error\n",
    "\n",
    "# Create figure and axis\n",
    "fig, ax = plt.subplots(figsize=(8, 5))\n",
    "\n",
    "# Plot vertical dashed grey lines for each categorical x value\n",
    "for x in wall_numbers:\n",
    "    ax.axvline(x=x+0.5, color='grey', linestyle='dashed', alpha=0.5)\n",
    "\n",
    "# Plot the probability line with markers\n",
    "# ax.plot(wall_numbers, wall_probabilities, marker='o', markersize=8, linewidth=2.5, color=\"b\")\n",
    "plt.errorbar(wall_numbers, wall_probabilities, yerr=errors, fmt='-o', capsize=5, color='b', label=\"Mean of Means\", markersize=8)\n",
    "\n",
    "\n",
    "# Customize labels and title\n",
    "ax.set_xlabel(\"Wall Number\", fontsize=16)\n",
    "ax.set_ylabel(\"Probability of choosing High\", fontsize=16)\n",
    "# ax.set_title(\"Probability of Choosing High by Wall Number\", fontsize=14)\n",
    "\n",
    "# Adjust x-axis ticks to match categorical values\n",
    "ax.set_xticks(wall_numbers)\n",
    "\n",
    "# set y-axis for probability\n",
    "plt.ylim([0,1])\n",
    "\n",
    "# Remove top and right borders\n",
    "ax.spines[\"top\"].set_visible(False)\n",
    "ax.spines[\"right\"].set_visible(False)\n",
    "\n",
    "# Show the plot\n",
    "plt.show()"
   ]
  },
  {
   "cell_type": "markdown",
   "metadata": {},
   "source": [
    "### repeat for mean of individual player means"
   ]
  },
  {
   "cell_type": "code",
   "execution_count": 189,
   "metadata": {},
   "outputs": [],
   "source": [
    "mean_probability_list = [analysis_results[session_id]['choice_data']['probability_chose_high']\n",
    " for session_id in analysis_results\n",
    " ]\n",
    "mean_probability_array = np.asarray(mean_probability_list)"
   ]
  },
  {
   "cell_type": "code",
   "execution_count": 194,
   "metadata": {},
   "outputs": [],
   "source": [
    "wall_probabilities_overall = np.nanmean(mean_probability_array, axis=0)\n",
    "std_dev_overall = np.nanstd(mean_probability_array, ddof=1, axis=0)  # Standard deviation\n",
    "sem_overall = std_dev_overall / np.sqrt(len(mean_probability_list))  # Standard error of mean"
   ]
  },
  {
   "cell_type": "markdown",
   "metadata": {},
   "source": [
    "#### Plot for mean of individual player means "
   ]
  },
  {
   "cell_type": "code",
   "execution_count": 203,
   "metadata": {},
   "outputs": [
    {
     "data": {
      "image/png": "[encoded data removed]",
      "text/plain": [
       "<Figure size 800x500 with 1 Axes>"
      ]
     },
     "metadata": {},
     "output_type": "display_data"
    }
   ],
   "source": [
    "# repeated but for mpl\n",
    "\n",
    "# Sample probability data (replace with actual values)\n",
    "wall_numbers = np.arange(1,9)\n",
    "wall_probabilities = wall_probabilities_overall\n",
    "errors = sem_overall\n",
    "\n",
    "# Create figure and axis\n",
    "fig, ax = plt.subplots(figsize=(8, 5))\n",
    "\n",
    "# Plot vertical dashed grey lines for each categorical x value\n",
    "for x in wall_numbers:\n",
    "    ax.axvline(x=x+0.5, color='grey', linestyle='dashed', alpha=0.5)\n",
    "\n",
    "# Plot the probability line with markers\n",
    "# ax.plot(wall_numbers, wall_probabilities, marker='o', markersize=8, linewidth=2.5, color=\"b\")\n",
    "\n",
    "plt.errorbar(wall_numbers, wall_probabilities, yerr=errors, fmt='-o', capsize=5, color='b', label=\"Mean of Means\", markersize=8)\n",
    "\n",
    "\n",
    "# Customize labels and title\n",
    "ax.set_xlabel(\"Wall Number\", fontsize=16)\n",
    "ax.set_ylabel(\"Probability of choosing High\", fontsize=16)\n",
    "# ax.set_title(\"Probability of Choosing High by Wall Number\", fontsize=14)\n",
    "\n",
    "# Adjust x-axis ticks to match categorical values\n",
    "ax.set_xticks(wall_numbers)\n",
    "\n",
    "# set y-axis for probability\n",
    "plt.ylim([0,1])\n",
    "\n",
    "# Remove top and right borders\n",
    "ax.spines[\"top\"].set_visible(False)\n",
    "ax.spines[\"right\"].set_visible(False)\n",
    "\n",
    "# Show the plot\n",
    "plt.show()"
   ]
  }
 ],
 "metadata": {
  "kernelspec": {
   "display_name": "octagon_analysis",
   "language": "python",
   "name": "python3"
  },
  "language_info": {
   "codemirror_mode": {
    "name": "ipython",
    "version": 3
   },
   "file_extension": ".py",
   "mimetype": "text/x-python",
   "name": "python",
   "nbconvert_exporter": "python",
   "pygments_lexer": "ipython3",
   "version": "3.12.5"
  }
 },
 "nbformat": 4,
 "nbformat_minor": 2
}
