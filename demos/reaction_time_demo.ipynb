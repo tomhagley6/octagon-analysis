{
 "cells": [
  {
   "cell_type": "code",
   "execution_count": 22,
   "id": "49fed9e7-a64c-41d9-99aa-d6b431ce71b7",
   "metadata": {},
   "outputs": [],
   "source": [
    "import parse_data.preprocess as preprocess\n",
    "import parse_data.loading as loading\n",
    "from analysis.response_times import calculate_response_times, plot_response_times\n",
    "from datetime import datetime, timedelta\n",
    "import numpy as np\n",
    "import pandas as pd\n",
    "import scipy\n",
    "import matplotlib.pyplot as plt"
   ]
  },
  {
   "cell_type": "code",
   "execution_count": 23,
   "id": "211890ce-fb1c-42f4-a637-9dec09a01f4f",
   "metadata": {},
   "outputs": [],
   "source": [
    "# paths\n",
    "data_folder = '/home/tom/Documents/SWC/data' # desktop Duan Lab\n",
    "# json_filename = '240913_Yansu_Jerry/2024-09-13_11-53-34_YansuSecondSolo.json' \n",
    "json_filename = '240913_Yansu_Jerry/2024-09-13_11-31-00_YansuJerrySocial.json'\n",
    "# data_folder = r'D:\\Users\\Tom\\OneDrive\\PhD\\SWC\\data' # desktop home\n",
    "# json_filename = r'first_experiments_2409\\240913\\2024-09-13_11-23-37_YansuFirstSolo.json'\n"
   ]
  },
  {
   "cell_type": "code",
   "execution_count": 24,
   "id": "554c1206-9903-4faa-81b7-1b5e4ebbb55e",
   "metadata": {},
   "outputs": [
    {
     "name": "stdout",
     "output_type": "stream",
     "text": [
      "Data is from period before 2024-09-13 11:31:00\n",
      "Running dataframe through playerinfo_playerposition_conversion.\n",
      "Loading complete.\n"
     ]
    }
   ],
   "source": [
    "# Load JSON file into pandas df with collapsed data dictionary and adjustments based on date of recording \n",
    "df = loading.loading_pipeline(data_folder, json_filename)"
   ]
  },
  {
   "cell_type": "code",
   "execution_count": 25,
   "id": "4455af94-404b-4b1d-b2fa-c1e9f25ff01e",
   "metadata": {},
   "outputs": [
    {
     "name": "stdout",
     "output_type": "stream",
     "text": [
      "Preprocessing complete.\n"
     ]
    }
   ],
   "source": [
    "# Pre-process data \n",
    "df = preprocess.standard_preprocessing(df)"
   ]
  },
  {
   "cell_type": "code",
   "execution_count": 28,
   "id": "f8d4e900-d045-4b35-887f-c75266f5c6a5",
   "metadata": {},
   "outputs": [
    {
     "name": "stdout",
     "output_type": "stream",
     "text": [
      "Calculating response times of social session.\n"
     ]
    }
   ],
   "source": [
    "response_times = calculate_response_times(df)\n"
   ]
  },
  {
   "cell_type": "code",
   "execution_count": 8,
   "id": "3009f722-c3a2-44c0-9cec-b651aeafc237",
   "metadata": {},
   "outputs": [
    {
     "name": "stdout",
     "output_type": "stream",
     "text": [
      "Mean response time: p1 - 2582 milliseconds, p2  - 2536 milliseconds.\n",
      "Median response time: p1 - 2543 milliseconds, p2  - 2453 milliseconds\n",
      "Response time range: p1 - 685 milliseconds, p2  - 659 milliseconds\n",
      "Mean response time (combined): 2556 milliseconds.\n",
      "Median response time (combined): 2481 milliseconds.\n",
      "Response time range (combined): 671 milliseconds.\n",
      "\n"
     ]
    }
   ],
   "source": [
    "response_times.print_summary_stats()"
   ]
  },
  {
   "cell_type": "code",
   "execution_count": 6,
   "id": "f7ac31f8-ee4a-45d2-89cb-514ebf1993c7",
   "metadata": {},
   "outputs": [
    {
     "ename": "AttributeError",
     "evalue": "'ResponseTimes' object has no attribute 'response_times_p1'",
     "output_type": "error",
     "traceback": [
      "\u001b[0;31m---------------------------------------------------------------------------\u001b[0m",
      "\u001b[0;31mAttributeError\u001b[0m                            Traceback (most recent call last)",
      "Cell \u001b[0;32mIn[6], line 1\u001b[0m\n\u001b[0;32m----> 1\u001b[0m \u001b[43mplot_response_times\u001b[49m\u001b[43m(\u001b[49m\u001b[43mresponse_times\u001b[49m\u001b[43m)\u001b[49m\n",
      "File \u001b[0;32m~/repos/octagon_analysis/analysis/response_times.py:136\u001b[0m, in \u001b[0;36mplot_response_times\u001b[0;34m(response_times)\u001b[0m\n\u001b[1;32m    133\u001b[0m \u001b[38;5;28;01mdef\u001b[39;00m \u001b[38;5;21mplot_response_times\u001b[39m(response_times):\n\u001b[1;32m    135\u001b[0m     \u001b[38;5;28;01mif\u001b[39;00m response_times\u001b[38;5;241m.\u001b[39mis_social():\n\u001b[0;32m--> 136\u001b[0m         plt\u001b[38;5;241m.\u001b[39mplot(\u001b[43mresponse_times\u001b[49m\u001b[38;5;241;43m.\u001b[39;49m\u001b[43mresponse_times_p1\u001b[49m\u001b[38;5;241m.\u001b[39mastype(\u001b[38;5;124m'\u001b[39m\u001b[38;5;124mtimedelta64[ms]\u001b[39m\u001b[38;5;124m'\u001b[39m)) \u001b[38;5;66;03m# plot in milliseconds (default ns)\u001b[39;00m\n\u001b[1;32m    137\u001b[0m         plt\u001b[38;5;241m.\u001b[39mplot(response_times\u001b[38;5;241m.\u001b[39mresponse_times_p2\u001b[38;5;241m.\u001b[39mastype(\u001b[38;5;124m'\u001b[39m\u001b[38;5;124mtimedelta64[ms]\u001b[39m\u001b[38;5;124m'\u001b[39m))\n\u001b[1;32m    138\u001b[0m     \u001b[38;5;28;01melse\u001b[39;00m:\n",
      "\u001b[0;31mAttributeError\u001b[0m: 'ResponseTimes' object has no attribute 'response_times_p1'"
     ]
    }
   ],
   "source": [
    "plot_response_times(response_times)"
   ]
  }
 ],
 "metadata": {
  "kernelspec": {
   "display_name": "Python 3 (ipykernel)",
   "language": "python",
   "name": "python3"
  },
  "language_info": {
   "codemirror_mode": {
    "name": "ipython",
    "version": 3
   },
   "file_extension": ".py",
   "mimetype": "text/x-python",
   "name": "python",
   "nbconvert_exporter": "python",
   "pygments_lexer": "ipython3",
   "version": "3.12.5"
  }
 },
 "nbformat": 4,
 "nbformat_minor": 5
}
