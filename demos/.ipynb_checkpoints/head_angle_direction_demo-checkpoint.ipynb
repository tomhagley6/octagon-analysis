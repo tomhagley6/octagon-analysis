{
 "cells": [
  {
   "cell_type": "code",
   "execution_count": 1,
   "id": "d4992911-7b02-448c-8ee5-c89c228ad2ed",
   "metadata": {},
   "outputs": [],
   "source": [
    "import parse_data.prepare_data as prepare_data\n",
    "import numpy as np\n",
    "import pandas as pd\n",
    "import matplotlib.pyplot as plt\n",
    "import globals\n",
    "import plotting.plot_trajectory as plot_trajectory\n",
    "import plotting.plot_octagon as plot_octagon\n",
    "import data_extraction.extract_trial as extract_trial\n",
    "import math\n",
    "import trajectory_analysis.trajectory_vectors as trajectory_vectors\n",
    "import trajectory_analysis.trajectory_headangle as trajectory_headangle"
   ]
  },
  {
   "cell_type": "code",
   "execution_count": 2,
   "id": "011c819a-ab6d-4c42-8ab8-c35d0824fbfa",
   "metadata": {},
   "outputs": [],
   "source": [
    "# paths\n",
    "# data_folder = '/home/tom/Documents/SWC/data' # desktop Duan Lab\n",
    "# data_folder = r'D:\\Users\\Tom\\OneDrive\\PhD\\SWC\\data' # desktop home\n",
    "data_folder = r'C:\\Users\\tomha\\OneDrive\\PhD\\SWC\\data' # octagon laptop\n",
    "# json_filename = '240913_Yansu_Jerry/2024-09-13_11-53-34_YansuSecondSolo.json' \n",
    "# json_filename = '240913_Yansu_Jerry/2024-09-13_11-31-00_YansuJerrySocial.json'\n",
    "# json_filenames = [r'first_experiments_2409\\240913\\2024-09-13_11-23-37_YansuFirstSolo.json']\n",
    "json_filenames = [r'fourth_experiments_2410\\241017\\2024-10-17_16-41-38_ZimoElsaSocial.json']"
   ]
  },
  {
   "cell_type": "code",
   "execution_count": 3,
   "id": "167898aa-3073-479e-8eef-6c579c67c7f4",
   "metadata": {},
   "outputs": [
    {
     "ename": "FileNotFoundError",
     "evalue": "[Errno 2] No such file or directory: 'D:\\\\Users\\\\Tom\\\\OneDrive\\\\PhD\\\\SWC\\\\data\\\\fourth_experiments_2410\\\\241017\\\\2024-10-17_16-41-38_ZimoElsaSocial.json'",
     "output_type": "error",
     "traceback": [
      "\u001b[1;31m---------------------------------------------------------------------------\u001b[0m",
      "\u001b[1;31mFileNotFoundError\u001b[0m                         Traceback (most recent call last)",
      "Cell \u001b[1;32mIn[3], line 1\u001b[0m\n\u001b[1;32m----> 1\u001b[0m df, trials_list \u001b[38;5;241m=\u001b[39m \u001b[43mprepare_data\u001b[49m\u001b[38;5;241;43m.\u001b[39;49m\u001b[43mprepare_data\u001b[49m\u001b[43m(\u001b[49m\u001b[43mdata_folder\u001b[49m\u001b[43m,\u001b[49m\u001b[43m \u001b[49m\u001b[43mjson_filenames\u001b[49m\u001b[43m)\u001b[49m\n",
      "File \u001b[1;32mc:\\users\\tomha\\repos\\octagon_analysis\\parse_data\\prepare_data.py:62\u001b[0m, in \u001b[0;36mprepare_data\u001b[1;34m(data_folder, json_filenames)\u001b[0m\n\u001b[0;32m     57\u001b[0m \u001b[38;5;250m\u001b[39m\u001b[38;5;124;03m''' Prepare a full dataframe and list of trial dataframe from either a single\u001b[39;00m\n\u001b[0;32m     58\u001b[0m \u001b[38;5;124;03m    or set of sessions, given as filepaths '''\u001b[39;00m\n\u001b[0;32m     60\u001b[0m \u001b[38;5;28;01mif\u001b[39;00m \u001b[38;5;28mlen\u001b[39m(json_filenames) \u001b[38;5;241m==\u001b[39m \u001b[38;5;241m1\u001b[39m:\n\u001b[0;32m     61\u001b[0m     \u001b[38;5;66;03m# index the list for its only item\u001b[39;00m\n\u001b[1;32m---> 62\u001b[0m     df, trial_list \u001b[38;5;241m=\u001b[39m \u001b[43mprepare_single_session_data\u001b[49m\u001b[43m(\u001b[49m\u001b[43mdata_folder\u001b[49m\u001b[43m,\u001b[49m\u001b[43m \u001b[49m\u001b[43mjson_filenames\u001b[49m\u001b[43m[\u001b[49m\u001b[38;5;241;43m0\u001b[39;49m\u001b[43m]\u001b[49m\u001b[43m)\u001b[49m\n\u001b[0;32m     63\u001b[0m \u001b[38;5;28;01melif\u001b[39;00m \u001b[38;5;28mlen\u001b[39m(json_filenames) \u001b[38;5;241m>\u001b[39m \u001b[38;5;241m1\u001b[39m:\n\u001b[0;32m     64\u001b[0m     df, trial_list \u001b[38;5;241m=\u001b[39m prepare_combined_session_data(data_folder, json_filenames)\n",
      "File \u001b[1;32mc:\\users\\tomha\\repos\\octagon_analysis\\parse_data\\prepare_data.py:28\u001b[0m, in \u001b[0;36mprepare_single_session_data\u001b[1;34m(data_folder, json_filename)\u001b[0m\n\u001b[0;32m     24\u001b[0m \u001b[38;5;250m\u001b[39m\u001b[38;5;124;03m''' Load and preprocess a single dataframe\u001b[39;00m\n\u001b[0;32m     25\u001b[0m \u001b[38;5;124;03m    Return the full dataframe and a list of trials '''\u001b[39;00m\n\u001b[0;32m     27\u001b[0m \u001b[38;5;66;03m# Load JSON file into pandas df with collapsed data dictionary and adjustments based on date of recording \u001b[39;00m\n\u001b[1;32m---> 28\u001b[0m df \u001b[38;5;241m=\u001b[39m \u001b[43mloading\u001b[49m\u001b[38;5;241;43m.\u001b[39;49m\u001b[43mloading_pipeline\u001b[49m\u001b[43m(\u001b[49m\u001b[43mdata_folder\u001b[49m\u001b[43m,\u001b[49m\u001b[43m \u001b[49m\u001b[43mjson_filename\u001b[49m\u001b[43m)\u001b[49m\n\u001b[0;32m     30\u001b[0m \u001b[38;5;66;03m# Pre-process data \u001b[39;00m\n\u001b[0;32m     31\u001b[0m df \u001b[38;5;241m=\u001b[39m preprocess\u001b[38;5;241m.\u001b[39mstandard_preprocessing(df)\n",
      "File \u001b[1;32mc:\\users\\tomha\\repos\\octagon_analysis\\parse_data\\loading.py:90\u001b[0m, in \u001b[0;36mloading_pipeline\u001b[1;34m(data_folder, json_filename, json_normalise)\u001b[0m\n\u001b[0;32m     89\u001b[0m \u001b[38;5;28;01mdef\u001b[39;00m \u001b[38;5;21mloading_pipeline\u001b[39m(data_folder, json_filename, json_normalise\u001b[38;5;241m=\u001b[39m\u001b[38;5;28;01mTrue\u001b[39;00m):\n\u001b[1;32m---> 90\u001b[0m     df \u001b[38;5;241m=\u001b[39m \u001b[43mload_df_from_file\u001b[49m\u001b[43m(\u001b[49m\u001b[43mdata_folder\u001b[49m\u001b[43m,\u001b[49m\u001b[43m \u001b[49m\u001b[43mjson_filename\u001b[49m\u001b[43m,\u001b[49m\u001b[43m \u001b[49m\u001b[43mjson_normalise\u001b[49m\u001b[38;5;241;43m=\u001b[39;49m\u001b[38;5;28;43;01mTrue\u001b[39;49;00m\u001b[43m)\u001b[49m\n\u001b[0;32m     91\u001b[0m     df \u001b[38;5;241m=\u001b[39m convert_time_strings(df)\n\u001b[0;32m     92\u001b[0m     df \u001b[38;5;241m=\u001b[39m handle_date_sensitive_processing(df, json_filename)\n",
      "File \u001b[1;32mc:\\users\\tomha\\repos\\octagon_analysis\\parse_data\\loading.py:22\u001b[0m, in \u001b[0;36mload_df_from_file\u001b[1;34m(data_folder, json_filename, json_normalise)\u001b[0m\n\u001b[0;32m     20\u001b[0m filepath \u001b[38;5;241m=\u001b[39m data_folder \u001b[38;5;241m+\u001b[39m os\u001b[38;5;241m.\u001b[39msep \u001b[38;5;241m+\u001b[39m json_filename\n\u001b[0;32m     21\u001b[0m \u001b[38;5;28;01mif\u001b[39;00m json_normalise \u001b[38;5;241m==\u001b[39m \u001b[38;5;28;01mTrue\u001b[39;00m:\n\u001b[1;32m---> 22\u001b[0m     \u001b[38;5;28;01mwith\u001b[39;00m \u001b[38;5;28;43mopen\u001b[39;49m\u001b[43m(\u001b[49m\u001b[43mfilepath\u001b[49m\u001b[43m)\u001b[49m \u001b[38;5;28;01mas\u001b[39;00m f:\n\u001b[0;32m     23\u001b[0m         file \u001b[38;5;241m=\u001b[39m json\u001b[38;5;241m.\u001b[39mload(f)\n\u001b[0;32m     24\u001b[0m         df \u001b[38;5;241m=\u001b[39m pd\u001b[38;5;241m.\u001b[39mjson_normalize(file)\n",
      "\u001b[1;31mFileNotFoundError\u001b[0m: [Errno 2] No such file or directory: 'D:\\\\Users\\\\Tom\\\\OneDrive\\\\PhD\\\\SWC\\\\data\\\\fourth_experiments_2410\\\\241017\\\\2024-10-17_16-41-38_ZimoElsaSocial.json'"
     ]
    }
   ],
   "source": [
    "df, trials_list = prepare_data.prepare_data(data_folder, json_filenames)"
   ]
  },
  {
   "cell_type": "code",
   "execution_count": null,
   "id": "1e9032a8-780f-4991-85b1-84c7e8572439",
   "metadata": {},
   "outputs": [],
   "source": [
    "trial = trials_list[56]"
   ]
  },
  {
   "cell_type": "code",
   "execution_count": null,
   "id": "5fb8e5b6-49bd-461d-8d00-7e15ffa97bfc",
   "metadata": {},
   "outputs": [],
   "source": [
    "# plot both trajectories from a single trial\n",
    "ax = plot_octagon.plot_octagon()\n",
    "plot_trajectory.plot_trial_trajectory(ax, trial=trial)"
   ]
  },
  {
   "cell_type": "code",
   "execution_count": null,
   "id": "84402419-86f0-4e7d-8d2b-42cf35867dc5",
   "metadata": {},
   "outputs": [],
   "source": [
    "ax = plot_octagon.plot_octagon()\n",
    "plot_trajectory.plot_trial_trajectory_colour_map(ax, trial=trial)"
   ]
  },
  {
   "cell_type": "code",
   "execution_count": null,
   "id": "8338d83e-8d09-43d8-a0f6-6a05f7270d11",
   "metadata": {},
   "outputs": [],
   "source": [
    "trajectory = trajectory_vectors.extract_trial_player_trajectory(trial=trial, player_id=1)\n",
    "trial_player_headangles = trajectory_headangle.extract_trial_player_headangles(trial=trial, player_id=1)\n",
    "trial_player_headangles_smoothed = trajectory_headangle.get_smoothed_player_head_angle_vectors_for_trajectory(trial_player_headangles)\n"
   ]
  },
  {
   "cell_type": "code",
   "execution_count": null,
   "id": "aef955fc-dfb0-4027-a987-ef3e93b81436",
   "metadata": {},
   "outputs": [],
   "source": [
    "# plot only a single trajectory from this trial\n",
    "ax = plot_octagon.plot_octagon()\n",
    "ax.scatter(trajectory[0,:], trajectory[1,:], s=0.5)"
   ]
  },
  {
   "cell_type": "code",
   "execution_count": null,
   "id": "cada4669-aadb-4b0c-917c-a78fc408ebba",
   "metadata": {},
   "outputs": [],
   "source": [
    "# example plotting head angle direction vector\n",
    "start_index=100\n",
    "x_start = trajectory[0,start_index]\n",
    "y_start = trajectory[1,start_index]\n",
    "x_gradient = trial_player_headangles_smoothed[0,start_index]\n",
    "y_gradient = trial_player_headangles_smoothed[1,start_index]\n",
    "vector_length = 10\n",
    "\n",
    "start = [x_start, y_start]\n",
    "print(x_start, y_start)\n",
    "end = [x_start + x_gradient*vector_length, y_start + y_gradient*vector_length]\n",
    "\n",
    "head_direction_vector_coordinates = np.array(list(zip(start,end)))\n",
    "\n",
    "ax = plot_octagon.plot_octagon()\n",
    "ax.scatter(trajectory[0,:], trajectory[1,:], s=0.5)\n",
    "ax.plot(head_direction_vector_coordinates[0,:], head_direction_vector_coordinates[1,:], c='r', linewidth=2)"
   ]
  },
  {
   "cell_type": "code",
   "execution_count": null,
   "id": "cc32238c-eb34-4073-932d-0941cefb1097",
   "metadata": {},
   "outputs": [],
   "source": [
    "## Find the average head angle vector at equally-spaced points throughout the trajectory \n",
    "ax = plot_octagon.plot_octagon()\n",
    "ax.scatter(trajectory[0,:], trajectory[1,:], s=0.5)\n",
    "\n",
    "for time_index in range(0, trial_player_headangles_smoothed.shape[1], 40):\n",
    "    x_start = trajectory[0,time_index]\n",
    "    y_start = trajectory[1,time_index]\n",
    "    x_gradient = trial_player_headangles_smoothed[0,time_index]\n",
    "    y_gradient = trial_player_headangles_smoothed[1,time_index]\n",
    "    vector_length = 3\n",
    "    \n",
    "    start = [x_start, y_start]\n",
    "    end = [x_start + x_gradient*vector_length, y_start + y_gradient*vector_length]\n",
    "    \n",
    "    this_head_angle_vector_coordinates = np.array(list(zip(start,end)))\n",
    "    ax.plot(this_head_angle_vector_coordinates[0,:], this_head_angle_vector_coordinates[1,:], c='r', linewidth=2)"
   ]
  },
  {
   "cell_type": "code",
   "execution_count": null,
   "id": "e6cd89e0-3520-4100-9934-f557e77941ee",
   "metadata": {},
   "outputs": [],
   "source": [
    "## Find the average head angle vector at all points throughout trajectory \n",
    "ax = plot_octagon.plot_octagon()\n",
    "ax.scatter(trajectory[0,:], trajectory[1,:], s=0.5)\n",
    "\n",
    "for time_index in range(0, trial_player_headangles_smoothed.shape[1],3):\n",
    "    x_start = trajectory[0,time_index]\n",
    "    y_start = trajectory[1,time_index]\n",
    "    x_gradient = trial_player_headangles_smoothed[0,time_index]\n",
    "    y_gradient = trial_player_headangles_smoothed[1,time_index]\n",
    "    vector_length = 3\n",
    "    \n",
    "    start = [x_start, y_start]\n",
    "    end = [x_start + x_gradient*vector_length, y_start + y_gradient*vector_length]\n",
    "    \n",
    "    this_head_angle_vector_coordinates = np.array(list(zip(start,end)))\n",
    "    ax.plot(this_head_angle_vector_coordinates[0,:], this_head_angle_vector_coordinates[1,:], c='r', linewidth=1.3)"
   ]
  },
  {
   "cell_type": "code",
   "execution_count": null,
   "id": "fe4b1837-03ac-4f57-99f2-b9445a4f57d0",
   "metadata": {},
   "outputs": [],
   "source": [
    "# Find the angles between the head direction and the walls for each timepoint in the trajectory\n",
    "thetas_trajectory = trajectory_headangle.head_angle_to_walls_throughout_trajectory(trajectory,\n",
    "                                                                                   trial_player_headangles,\n",
    "                                                                                   window_size=10, num_walls=8)\n",
    "\n",
    "thetas_trajectory = np.rad2deg(thetas_trajectory)"
   ]
  },
  {
   "cell_type": "code",
   "execution_count": null,
   "id": "cb8c3544-691f-4530-8ead-6c363d4e9dc6",
   "metadata": {},
   "outputs": [],
   "source": [
    "# compare the headangle vector and player-to-alcove vectors for a run of timepoints\n",
    "smoothed_trial_player_headangles = trajectory_headangle.get_smoothed_player_head_angle_vectors_for_trajectory(trial_player_headangles,\n",
    "                                                                                                              window_size=10)\n",
    "player_to_alcove_vectors = trajectory_vectors.get_player_to_alcove_direction_vectors_for_trajectory(trajectory,\n",
    "                                                                                     num_walls=8)\n",
    "smoothed_trial_player_headangles[:,110:120]"
   ]
  },
  {
   "cell_type": "code",
   "execution_count": null,
   "id": "8310e9f6-df42-424f-807e-ca5b3c646da0",
   "metadata": {},
   "outputs": [],
   "source": [
    "player_to_alcove_vectors[:,1,110:120]"
   ]
  }
 ],
 "metadata": {
  "kernelspec": {
   "display_name": "Python 3 (ipykernel)",
   "language": "python",
   "name": "python3"
  },
  "language_info": {
   "codemirror_mode": {
    "name": "ipython",
    "version": 3
   },
   "file_extension": ".py",
   "mimetype": "text/x-python",
   "name": "python",
   "nbconvert_exporter": "python",
   "pygments_lexer": "ipython3",
   "version": "3.11.10"
  }
 },
 "nbformat": 4,
 "nbformat_minor": 5
}
