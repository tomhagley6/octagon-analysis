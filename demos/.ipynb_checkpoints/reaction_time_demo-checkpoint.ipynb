{
 "cells": [
  {
   "cell_type": "code",
   "execution_count": 24,
   "id": "49fed9e7-a64c-41d9-99aa-d6b431ce71b7",
   "metadata": {},
   "outputs": [],
   "source": [
    "import parse_data.preprocess as preprocess\n",
    "import parse_data.loading as loading\n",
    "from analysis.response_times import calculate_response_times, plot_response_times\n",
    "from datetime import datetime, timedelta\n",
    "import numpy as np\n",
    "import pandas as pd\n",
    "import scipy\n",
    "import matplotlib.pyplot as plt"
   ]
  },
  {
   "cell_type": "code",
   "execution_count": 25,
   "id": "211890ce-fb1c-42f4-a637-9dec09a01f4f",
   "metadata": {},
   "outputs": [],
   "source": [
    "# paths\n",
    "# data_folder = '/home/tom/Documents/SWC/data' # desktop Duan Lab\n",
    "# json_filename = '240913_Yansu_Jerry/2024-09-13_11-53-34_YansuSecondSolo.json' \n",
    "# json_filename = '240913_Yansu_Jerry/2024-09-13_11-31-00_YansuJerrySocial.json'\n",
    "data_folder = r'D:\\Users\\Tom\\OneDrive\\PhD\\SWC\\data' # desktop home\n",
    "# json_filename = r'first_experiments_2409\\240913\\2024-09-13_11-23-37_YansuFirstSolo.json'\n",
    "json_filename = r'first_experiments_2409\\240913\\2024-09-13_11-31-00_YansuJerrySocial.json'\n"
   ]
  },
  {
   "cell_type": "code",
   "execution_count": 26,
   "id": "554c1206-9903-4faa-81b7-1b5e4ebbb55e",
   "metadata": {},
   "outputs": [
    {
     "ename": "FileNotFoundError",
     "evalue": "[Errno 2] No such file or directory: 'D:\\\\Users\\\\Tom\\\\OneDrive\\\\PhD\\\\SWC\\\\data\\\\first_experiments_2409\\\\240913\\\\240913_Yansu_Jerry\\\\2024-09-13_11-31-00_YansuJerrySocial.json'",
     "output_type": "error",
     "traceback": [
      "\u001b[1;31m---------------------------------------------------------------------------\u001b[0m",
      "\u001b[1;31mFileNotFoundError\u001b[0m                         Traceback (most recent call last)",
      "Cell \u001b[1;32mIn[26], line 2\u001b[0m\n\u001b[0;32m      1\u001b[0m \u001b[38;5;66;03m# Load JSON file into pandas df with collapsed data dictionary and adjustments based on date of recording \u001b[39;00m\n\u001b[1;32m----> 2\u001b[0m df \u001b[38;5;241m=\u001b[39m \u001b[43mloading\u001b[49m\u001b[38;5;241;43m.\u001b[39;49m\u001b[43mloading_pipeline\u001b[49m\u001b[43m(\u001b[49m\u001b[43mdata_folder\u001b[49m\u001b[43m,\u001b[49m\u001b[43m \u001b[49m\u001b[43mjson_filename\u001b[49m\u001b[43m)\u001b[49m\n",
      "File \u001b[1;32md:\\tom\\documents\\swc\\repos\\octagon_analysis\\parse_data\\loading.py:79\u001b[0m, in \u001b[0;36mloading_pipeline\u001b[1;34m(data_folder, json_filename, json_normalise)\u001b[0m\n\u001b[0;32m     78\u001b[0m \u001b[38;5;28;01mdef\u001b[39;00m \u001b[38;5;21mloading_pipeline\u001b[39m(data_folder, json_filename, json_normalise\u001b[38;5;241m=\u001b[39m\u001b[38;5;28;01mTrue\u001b[39;00m):\n\u001b[1;32m---> 79\u001b[0m     df \u001b[38;5;241m=\u001b[39m \u001b[43mload_df_from_file\u001b[49m\u001b[43m(\u001b[49m\u001b[43mdata_folder\u001b[49m\u001b[43m,\u001b[49m\u001b[43m \u001b[49m\u001b[43mjson_filename\u001b[49m\u001b[43m,\u001b[49m\u001b[43m \u001b[49m\u001b[43mjson_normalise\u001b[49m\u001b[38;5;241;43m=\u001b[39;49m\u001b[38;5;28;43;01mTrue\u001b[39;49;00m\u001b[43m)\u001b[49m\n\u001b[0;32m     80\u001b[0m     df \u001b[38;5;241m=\u001b[39m convert_time_strings(df)\n\u001b[0;32m     81\u001b[0m     df \u001b[38;5;241m=\u001b[39m handle_date_sensitive_processing(df, json_filename)\n",
      "File \u001b[1;32md:\\tom\\documents\\swc\\repos\\octagon_analysis\\parse_data\\loading.py:22\u001b[0m, in \u001b[0;36mload_df_from_file\u001b[1;34m(data_folder, json_filename, json_normalise)\u001b[0m\n\u001b[0;32m     20\u001b[0m filepath \u001b[38;5;241m=\u001b[39m data_folder \u001b[38;5;241m+\u001b[39m os\u001b[38;5;241m.\u001b[39msep \u001b[38;5;241m+\u001b[39m json_filename\n\u001b[0;32m     21\u001b[0m \u001b[38;5;28;01mif\u001b[39;00m json_normalise \u001b[38;5;241m==\u001b[39m \u001b[38;5;28;01mTrue\u001b[39;00m:\n\u001b[1;32m---> 22\u001b[0m     \u001b[38;5;28;01mwith\u001b[39;00m \u001b[38;5;28;43mopen\u001b[39;49m\u001b[43m(\u001b[49m\u001b[43mfilepath\u001b[49m\u001b[43m)\u001b[49m \u001b[38;5;28;01mas\u001b[39;00m f:\n\u001b[0;32m     23\u001b[0m         file \u001b[38;5;241m=\u001b[39m json\u001b[38;5;241m.\u001b[39mload(f)\n\u001b[0;32m     24\u001b[0m         df \u001b[38;5;241m=\u001b[39m pd\u001b[38;5;241m.\u001b[39mjson_normalize(file)\n",
      "\u001b[1;31mFileNotFoundError\u001b[0m: [Errno 2] No such file or directory: 'D:\\\\Users\\\\Tom\\\\OneDrive\\\\PhD\\\\SWC\\\\data\\\\first_experiments_2409\\\\240913\\\\240913_Yansu_Jerry\\\\2024-09-13_11-31-00_YansuJerrySocial.json'"
     ]
    }
   ],
   "source": [
    "# Load JSON file into pandas df with collapsed data dictionary and adjustments based on date of recording \n",
    "df = loading.loading_pipeline(data_folder, json_filename)"
   ]
  },
  {
   "cell_type": "code",
   "execution_count": null,
   "id": "4455af94-404b-4b1d-b2fa-c1e9f25ff01e",
   "metadata": {},
   "outputs": [],
   "source": [
    "# Pre-process data \n",
    "df = preprocess.standard_preprocessing(df)"
   ]
  },
  {
   "cell_type": "code",
   "execution_count": null,
   "id": "f8d4e900-d045-4b35-887f-c75266f5c6a5",
   "metadata": {},
   "outputs": [],
   "source": [
    "response_times = calculate_response_times(df)\n"
   ]
  },
  {
   "cell_type": "code",
   "execution_count": null,
   "id": "3009f722-c3a2-44c0-9cec-b651aeafc237",
   "metadata": {},
   "outputs": [],
   "source": [
    "response_times.print_summary_stats()"
   ]
  },
  {
   "cell_type": "code",
   "execution_count": null,
   "id": "f7ac31f8-ee4a-45d2-89cb-514ebf1993c7",
   "metadata": {},
   "outputs": [],
   "source": [
    "plot_response_times(response_times)"
   ]
  }
 ],
 "metadata": {
  "kernelspec": {
   "display_name": "Python 3 (ipykernel)",
   "language": "python",
   "name": "python3"
  },
  "language_info": {
   "codemirror_mode": {
    "name": "ipython",
    "version": 3
   },
   "file_extension": ".py",
   "mimetype": "text/x-python",
   "name": "python",
   "nbconvert_exporter": "python",
   "pygments_lexer": "ipython3",
   "version": "3.12.5"
  }
 },
 "nbformat": 4,
 "nbformat_minor": 5
}
