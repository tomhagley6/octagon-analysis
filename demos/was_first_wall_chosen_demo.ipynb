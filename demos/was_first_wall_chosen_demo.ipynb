{
 "cells": [
  {
   "cell_type": "code",
   "execution_count": 1,
   "id": "7b1a4652-2e20-4efe-a6de-806c45b6ef36",
   "metadata": {},
   "outputs": [],
   "source": [
    "import parse_data.prepare_data as prepare_data\n",
    "import numpy as np\n",
    "import pandas as pd\n",
    "import matplotlib.pyplot as plt\n",
    "import data_extraction.get_indices as get_indices\n",
    "import trajectory_analysis.trajectory_vectors as trajectory_vectors\n",
    "import trajectory_analysis.trajectory_headangle as trajectory_headangle\n",
    "\n",
    "import globals"
   ]
  },
  {
   "cell_type": "code",
   "execution_count": 2,
   "id": "d2ae7ffb-5f9d-4f9e-b9de-c4231b775eff",
   "metadata": {},
   "outputs": [],
   "source": [
    "# paths\n",
    "# data_folder = '/home/tom/Documents/SWC/data' # desktop Duan Lab\n",
    "data_folder = r'D:\\Users\\Tom\\OneDrive\\PhD\\SWC\\data' # desktop home\n",
    "# data_folder = r'C:\\Users\\tomha\\OneDrive\\PhD\\SWC\\data' # octagon laptop\n",
    "# json_filename = '240913_Yansu_Jerry/2024-09-13_11-53-34_YansuSecondSolo.json' \n",
    "# json_filename = '240913_Yansu_Jerry/2024-09-13_11-31-00_YansuJerrySocial.json'\n",
    "# json_filenames = [r'first_experiments_2409\\240913\\2024-09-13_11-23-37_YansuFirstSolo.json']\n",
    "json_filenames = [r'first_experiments_2409\\240913\\2024-09-13_11-31-00_YansuJerrySocial.json',\n",
    "                  r'second_experiments_2409\\240927\\2024-09-27_14-25-20_SaraEmilySocial.json']"
   ]
  },
  {
   "cell_type": "code",
   "execution_count": 3,
   "id": "3c883377-7cec-47af-9050-210028b34af9",
   "metadata": {
    "scrolled": true
   },
   "outputs": [
    {
     "name": "stdout",
     "output_type": "stream",
     "text": [
      "Data is from period before 2024-09-13 00:00:00\n",
      "Running dataframe through playerinfo_playerposition_conversion.\n",
      "Loading complete.\n",
      "Loading complete.\n",
      "Preprocessing complete.\n",
      "Preprocessing complete.\n"
     ]
    }
   ],
   "source": [
    "df, trials_list = prepare_data.prepare_data(data_folder, json_filenames)"
   ]
  },
  {
   "cell_type": "code",
   "execution_count": 4,
   "id": "468b31fd-d016-47d2-bd25-0e54e2c3ecd0",
   "metadata": {},
   "outputs": [],
   "source": [
    "current_fov = 110.36"
   ]
  },
  {
   "cell_type": "code",
   "execution_count": 5,
   "id": "72f80910-274b-45fa-9fdf-1c18b9db29a7",
   "metadata": {},
   "outputs": [],
   "source": [
    "trial_num = 30\n",
    "player_id = get_indices.get_trigger_activators(trials_list)[trial_num]"
   ]
  },
  {
   "cell_type": "code",
   "execution_count": 6,
   "id": "960cd69f-8316-4883-9b5a-9a5d05d8a46f",
   "metadata": {},
   "outputs": [],
   "source": [
    "trial = trials_list[trial_num]"
   ]
  },
  {
   "cell_type": "code",
   "execution_count": 9,
   "id": "89c64f02-caf0-4d1c-81e5-3d0f41ce057b",
   "metadata": {},
   "outputs": [],
   "source": [
    "trajectory = trajectory_vectors.extract_trial_player_trajectory(trial=trial, player_id=player_id)\n",
    "trial_player_headangles = trajectory_headangle.extract_trial_player_headangles(trial=trial, player_id=player_id)"
   ]
  },
  {
   "cell_type": "code",
   "execution_count": 10,
   "id": "dbc7db33-aff4-4ae8-b2d3-58d33d6a8320",
   "metadata": {},
   "outputs": [],
   "source": [
    "wall_coords_cross_product_dependent = trajectory_headangle.wall_coords_cross_product_dependent(trial=trial, player_id=player_id)"
   ]
  },
  {
   "cell_type": "code",
   "execution_count": 11,
   "id": "5c9b7f3e-56bf-40fd-ba72-c225d460569a",
   "metadata": {},
   "outputs": [
    {
     "name": "stdout",
     "output_type": "stream",
     "text": [
      "smoothed_player_head_angles.shape:  (2, 130)\n",
      "smoothed_player_head_angles\n",
      " [[ 0.99330984  0.99335389  0.9934042   0.99346459  0.99353474  0.99361348\n",
      "   0.99369634  0.99378153  0.99386683  0.99395256]\n",
      " [-0.11547568 -0.11509491 -0.1146577  -0.11412961 -0.1135125  -0.11281633\n",
      "  -0.11207988 -0.11131937 -0.11055443 -0.10978228]]\n",
      "at 10, wall 0\n",
      "vector_to_closest_wall_section:  [11.81893593 15.06791483]\n",
      "wall_coords_cross_product_dependent[0, 10, :] - trajectory[:, 10]:  [11.81893593 15.06791483]\n",
      "vector_to_closest_wall_sections[:,0,10]:  [11.81893593 15.06791483]\n",
      "player_to_closest_wall_section.shape:  (2, 8, 130)\n",
      "player_to_closest_wall_section\n",
      " [[5.32424246 5.13380896 4.91317545 4.7104653  4.50503432 4.28593813\n",
      "  4.08544718 3.88084208 3.66969763 3.47860514]\n",
      " [5.29705602 5.32126015 5.34855324 5.37344056 5.39836913 5.42464965\n",
      "  5.44855529 5.47272473 5.49744028 5.51972919]]\n",
      "player_to_closest_wall_section at 10\n",
      " [11.81893593 15.06791483]\n",
      "dot_products_trajectory.shape:  (8, 130)\n",
      "dot_products_trajectory\n",
      " [[ -6.1873333   -6.37373616  -6.58966794  -6.7861898   -6.98411653\n",
      "   -7.19461559  -7.38576797  -7.58068242  -7.78208768  -7.96318621]\n",
      " [  4.67694129   4.48723915   4.26751636   4.06641179   3.86312574\n",
      "    3.64657685   3.44902048   3.2474889    3.03942437   2.85160002]\n",
      " [  4.67694129   4.48723915   4.26751636   4.06641179   3.86312574\n",
      "    3.64657685   3.44902048   3.2474889    3.03942437   2.85160002]\n",
      " [  6.27708399   6.08210554   5.85632428   5.64790205   5.43606467\n",
      "    5.20986897   5.00210774   4.79003773   4.5713735    4.37284948]\n",
      " [ -2.32424711  -2.52338808  -2.75394631  -2.96813457  -3.18670602\n",
      "   -3.42049456  -3.63628365  -3.85664011  -4.08363531  -4.29056514]\n",
      " [-16.08850889 -16.28826028 -16.51951567 -16.73454067 -16.95408421\n",
      "  -17.18896383 -17.40590116 -17.62743802 -17.85561529 -18.06373304]\n",
      " [-26.95278348 -27.14923559 -27.37669997 -27.58714226 -27.80132647\n",
      "  -28.03015627 -28.24068962 -28.45560934 -28.67712735 -28.87851928]\n",
      " [-19.95159508 -20.13860836 -20.3552373  -20.5525959  -20.75149472\n",
      "  -20.96308485 -21.15538549 -21.35148032 -21.55406766 -21.73635412]]\n",
      "head_angle_vector_norms_trajectory\n",
      " [0.99999954 0.9999994  0.99999915 0.99999873 0.99999818 0.99999763\n",
      " 0.99999716 0.99999686 0.99999678 0.99999692]\n",
      "player_to_closest_wall_section_vector_norms_trajectory\n",
      " [[15.7444953  15.82279266 15.91520732 16.00218791 16.09222434 16.19032509\n",
      "  16.28206392 16.37751056 16.47791889 16.57054491]\n",
      " [ 7.51041678  7.39403841  7.26266582  7.14579225  7.03119645  6.9134716\n",
      "   6.81011258  6.70907231  6.60972997  6.52442366]\n",
      " [ 7.51041678  7.39403841  7.26266582  7.14579225  7.03119645  6.9134716\n",
      "   6.81011258  6.70907231  6.60972997  6.52442366]\n",
      " [10.08065649  9.96063689  9.82509029  9.70354088  9.5834865   9.45902971\n",
      "   9.34838316  9.23885572  9.1295328   9.03383802]\n",
      " [18.89559827 18.91813508 18.94736876 18.97666546 19.00882936 19.04584405\n",
      "  19.08202536 19.12129244 19.16426706 19.20518126]\n",
      " [25.94329282 26.06116468 26.19934876 26.32745373 26.45845578 26.59944514\n",
      "  26.72950412 26.86330091 27.00247927 27.12931378]\n",
      " [29.40301369 29.57825668 29.78176262 29.96902553 30.15910879 30.36216426\n",
      "  30.54823011 30.73838214 30.93488593 31.11293173]\n",
      " [23.74657744 23.9091873  24.09765375 24.27119704 24.44737149 24.63560295\n",
      "  24.80823058 24.98471459 25.16717238 25.33265951]]\n",
      "head_angle_vector_norms_trajectory.shape:  (130,)\n",
      "player_to_closest_wall_section_vector_norms_trajectory.shape:  (8, 130)\n",
      "cosine_similairities_trajectory.shape:  (8, 130)\n"
     ]
    }
   ],
   "source": [
    "thetas = trajectory_headangle.head_angle_to_closest_wall_section_throughout_trajectory(trajectory,\n",
    "                                                                  trial_player_headangles,\n",
    "                                                                  wall_coords_cross_product_dependent)\n",
    "thetas = np.rad2deg(thetas)"
   ]
  },
  {
   "cell_type": "code",
   "execution_count": 12,
   "id": "5c8df109-6883-4280-9e1f-9ff75d49f664",
   "metadata": {},
   "outputs": [],
   "source": [
    "wall_visible = thetas < current_fov/2"
   ]
  },
  {
   "cell_type": "code",
   "execution_count": 13,
   "id": "611908b5-ee49-4318-8283-89332b698ad4",
   "metadata": {},
   "outputs": [
    {
     "name": "stdout",
     "output_type": "stream",
     "text": [
      "only one wall visible at trial start\n",
      "and this was wall2\n",
      "first visible wall was the one chosen\n"
     ]
    }
   ],
   "source": [
    "first_visible_wall_chosen, first_visible_wall_high = trajectory_headangle.was_first_visible_wall_chosen_player(wall_visible, trial)"
   ]
  },
  {
   "cell_type": "code",
   "execution_count": 14,
   "id": "b02ce52f-e8c8-4cbe-b22b-cf2033bc8e8c",
   "metadata": {},
   "outputs": [
    {
     "data": {
      "text/plain": [
       "(True, False, False)"
      ]
     },
     "execution_count": 14,
     "metadata": {},
     "output_type": "execute_result"
    }
   ],
   "source": [
    "high_wall_chosen_array = get_indices.was_high_wall_chosen(trials_list)\n",
    "first_visible_wall_chosen, first_visible_wall_high, high_wall_chosen_array[trial_num].item()"
   ]
  }
 ],
 "metadata": {
  "kernelspec": {
   "display_name": "Python 3 (ipykernel)",
   "language": "python",
   "name": "python3"
  },
  "language_info": {
   "codemirror_mode": {
    "name": "ipython",
    "version": 3
   },
   "file_extension": ".py",
   "mimetype": "text/x-python",
   "name": "python",
   "nbconvert_exporter": "python",
   "pygments_lexer": "ipython3",
   "version": "3.12.5"
  }
 },
 "nbformat": 4,
 "nbformat_minor": 5
}
