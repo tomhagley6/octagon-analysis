{
 "cells": [
  {
   "cell_type": "code",
   "execution_count": 1,
   "id": "7b1a4652-2e20-4efe-a6de-806c45b6ef36",
   "metadata": {},
   "outputs": [],
   "source": [
    "import parse_data.prepare_data as prepare_data\n",
    "import numpy as np\n",
    "import pandas as pd\n",
    "import matplotlib.pyplot as plt\n",
    "import data_extraction.get_indices as get_indices\n",
    "import trajectory_analysis.trajectory_vectors as trajectory_vectors\n",
    "import trajectory_analysis.trajectory_headangle as trajectory_headangle\n",
    "\n",
    "import globals"
   ]
  },
  {
   "cell_type": "code",
   "execution_count": 2,
   "id": "d2ae7ffb-5f9d-4f9e-b9de-c4231b775eff",
   "metadata": {},
   "outputs": [],
   "source": [
    "# paths\n",
    "# data_folder = '/home/tom/Documents/SWC/data' # desktop Duan Lab\n",
    "data_folder = r'D:\\Users\\Tom\\OneDrive\\PhD\\SWC\\data' # desktop home\n",
    "# data_folder = r'C:\\Users\\tomha\\OneDrive\\PhD\\SWC\\data' # octagon laptop\n",
    "# json_filename = '240913_Yansu_Jerry/2024-09-13_11-53-34_YansuSecondSolo.json' \n",
    "# json_filename = '240913_Yansu_Jerry/2024-09-13_11-31-00_YansuJerrySocial.json'\n",
    "# json_filenames = [r'first_experiments_2409\\240913\\2024-09-13_11-23-37_YansuFirstSolo.json']\n",
    "json_filenames = [r'first_experiments_2409\\240913\\2024-09-13_11-31-00_YansuJerrySocial.json',\n",
    "                  r'second_experiments_2409\\240927\\2024-09-27_14-25-20_SaraEmilySocial.json']"
   ]
  },
  {
   "cell_type": "code",
   "execution_count": 3,
   "id": "3c883377-7cec-47af-9050-210028b34af9",
   "metadata": {
    "scrolled": true
   },
   "outputs": [
    {
     "name": "stdout",
     "output_type": "stream",
     "text": [
      "filepath: D:\\Users\\Tom\\OneDrive\\PhD\\SWC\\data\\first_experiments_2409\\240913\\2024-09-13_11-31-00_YansuJerrySocial.json\n",
      "Data is from period before 2024-09-13 00:00:00\n",
      "Running dataframe through playerinfo_playerposition_conversion.\n",
      "Loading complete.\n",
      "filepath: D:\\Users\\Tom\\OneDrive\\PhD\\SWC\\data\\second_experiments_2409\\240927\\2024-09-27_14-25-20_SaraEmilySocial.json\n",
      "Loading complete.\n",
      "Preprocessing complete.\n",
      "Preprocessing complete.\n"
     ]
    }
   ],
   "source": [
    "df, trials_list = prepare_data.prepare_data(data_folder, json_filenames, combine=True)"
   ]
  },
  {
   "cell_type": "code",
   "execution_count": 4,
   "id": "468b31fd-d016-47d2-bd25-0e54e2c3ecd0",
   "metadata": {},
   "outputs": [],
   "source": [
    "current_fov = 110.36"
   ]
  },
  {
   "cell_type": "code",
   "execution_count": 5,
   "id": "72f80910-274b-45fa-9fdf-1c18b9db29a7",
   "metadata": {},
   "outputs": [],
   "source": [
    "trial_num = 30\n",
    "player_id = get_indices.get_trigger_activators(trials_list)[trial_num]"
   ]
  },
  {
   "cell_type": "code",
   "execution_count": 6,
   "id": "960cd69f-8316-4883-9b5a-9a5d05d8a46f",
   "metadata": {},
   "outputs": [],
   "source": [
    "trial = trials_list[trial_num]"
   ]
  },
  {
   "cell_type": "code",
   "execution_count": 7,
   "id": "89c64f02-caf0-4d1c-81e5-3d0f41ce057b",
   "metadata": {},
   "outputs": [],
   "source": [
    "headangles = trajectory_vectors.extract_trial_player_headangles(trial=trial, player_id=player_id)\n",
    "trial_player_headangles = trajectory_headangle.get_player_headangle_vectors_for_trial(headangles)"
   ]
  },
  {
   "cell_type": "code",
   "execution_count": 8,
   "id": "dbc7db33-aff4-4ae8-b2d3-58d33d6a8320",
   "metadata": {},
   "outputs": [],
   "source": [
    "wall_coords_cross_product_dependent = trajectory_headangle.get_wall_coords_cross_product_dependent(trial=trial, player_id=player_id)"
   ]
  },
  {
   "cell_type": "code",
   "execution_count": 9,
   "id": "5c9b7f3e-56bf-40fd-ba72-c225d460569a",
   "metadata": {},
   "outputs": [],
   "source": [
    "thetas = trajectory_headangle.head_angle_to_closest_wall_section_throughout_trajectory(trial=trial,\n",
    "                                                                  player_id=player_id)\n",
    "thetas = np.rad2deg(thetas)"
   ]
  },
  {
   "cell_type": "code",
   "execution_count": 10,
   "id": "5c8df109-6883-4280-9e1f-9ff75d49f664",
   "metadata": {},
   "outputs": [],
   "source": [
    "wall_visible = thetas < current_fov/2"
   ]
  },
  {
   "cell_type": "code",
   "execution_count": 11,
   "id": "611908b5-ee49-4318-8283-89332b698ad4",
   "metadata": {},
   "outputs": [
    {
     "name": "stdout",
     "output_type": "stream",
     "text": [
      "only one wall visible at trial start\n",
      "and this was wall2\n",
      "[3.]\n",
      "first visible wall was the one chosen\n"
     ]
    }
   ],
   "source": [
    "first_visible_wall_chosen, first_visible_wall_high = trajectory_headangle.was_first_visible_wall_chosen_player(wall_visible, trial)"
   ]
  },
  {
   "cell_type": "code",
   "execution_count": 12,
   "id": "b02ce52f-e8c8-4cbe-b22b-cf2033bc8e8c",
   "metadata": {},
   "outputs": [
    {
     "data": {
      "text/plain": [
       "(True, False, False)"
      ]
     },
     "execution_count": 12,
     "metadata": {},
     "output_type": "execute_result"
    }
   ],
   "source": [
    "high_wall_chosen_array = get_indices.was_high_wall_chosen(trials_list)\n",
    "first_visible_wall_chosen, first_visible_wall_high, high_wall_chosen_array[trial_num].item()"
   ]
  }
 ],
 "metadata": {
  "kernelspec": {
   "display_name": "octagon_analysis",
   "language": "python",
   "name": "python3"
  },
  "language_info": {
   "codemirror_mode": {
    "name": "ipython",
    "version": 3
   },
   "file_extension": ".py",
   "mimetype": "text/x-python",
   "name": "python",
   "nbconvert_exporter": "python",
   "pygments_lexer": "ipython3",
   "version": "3.12.5"
  }
 },
 "nbformat": 4,
 "nbformat_minor": 5
}
