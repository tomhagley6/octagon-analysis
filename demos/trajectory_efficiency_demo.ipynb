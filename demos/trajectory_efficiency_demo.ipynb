{
 "cells": [
  {
   "cell_type": "code",
   "execution_count": 16,
   "id": "d4992911-7b02-448c-8ee5-c89c228ad2ed",
   "metadata": {},
   "outputs": [
    {
     "name": "stdout",
     "output_type": "stream",
     "text": [
      "The autoreload extension is already loaded. To reload it, use:\n",
      "  %reload_ext autoreload\n"
     ]
    }
   ],
   "source": [
    "%load_ext autoreload\n",
    "%autoreload 2\n",
    "\n",
    "import parse_data.prepare_data as prepare_data\n",
    "import numpy as np\n",
    "import pandas as pd\n",
    "import matplotlib.pyplot as plt\n",
    "import globals\n",
    "import data_strings\n",
    "import trajectory_analysis.trajectory_vectors as trajectory_vectors\n",
    "import data_extraction.get_indices as get_indices\n",
    "import analysis.trajectory_efficiency as trajectory_efficiency\n",
    "import analysis.player_scores as player_scores"
   ]
  },
  {
   "cell_type": "markdown",
   "id": "7a24b223",
   "metadata": {},
   "source": [
    "### Calculate trajectory efficiency ratios for each player in a session, for all sessions, and separating wins from losses"
   ]
  },
  {
   "cell_type": "code",
   "execution_count": 8,
   "id": "011c819a-ab6d-4c42-8ab8-c35d0824fbfa",
   "metadata": {},
   "outputs": [],
   "source": [
    "data_folder = data_strings.DATA_FOLDER\n",
    "json_filenames_all_social = data_strings.JSON_FILENAMES_SOCIAL"
   ]
  },
  {
   "cell_type": "code",
   "execution_count": 9,
   "id": "c07cb011",
   "metadata": {},
   "outputs": [],
   "source": [
    "json_filenames = json_filenames_all_social"
   ]
  },
  {
   "cell_type": "code",
   "execution_count": 10,
   "id": "4f9c484c",
   "metadata": {},
   "outputs": [
    {
     "name": "stdout",
     "output_type": "stream",
     "text": [
      "filepath: D:\\Users\\Tom\\OneDrive\\PhD\\SWC\\data\\first_experiments_2409\\240913\\2024-09-13_11-31-00_YansuJerrySocial.json\n",
      "Data is from period before 2024-09-13 00:00:00\n",
      "Running dataframe through playerinfo_playerposition_conversion.\n",
      "Loading complete.\n",
      "Preprocessing complete.\n",
      "filepath: D:\\Users\\Tom\\OneDrive\\PhD\\SWC\\data\\second_experiments_2409\\240927\\2024-09-27_14-25-20_SaraEmilySocial.json\n",
      "Loading complete.\n",
      "Preprocessing complete.\n",
      "filepath: D:\\Users\\Tom\\OneDrive\\PhD\\SWC\\data\\third_experiments_2410\\241017\\2024-10-17_14-28-40_ShamirAbigailSocial.json\n",
      "Loading complete.\n",
      "Preprocessing complete.\n",
      "filepath: D:\\Users\\Tom\\OneDrive\\PhD\\SWC\\data\\fourth_experiments_2410\\241017\\2024-10-17_16-41-38_ZimoElsaSocial.json\n",
      "Loading complete.\n",
      "Preprocessing complete.\n",
      "filepath: D:\\Users\\Tom\\OneDrive\\PhD\\SWC\\data\\fifth_experiments_241112\\2024-11-12_13-31-14_KhadijaWendySocial.json\n",
      "Loading complete.\n",
      "Preprocessing complete.\n",
      "filepath: D:\\Users\\Tom\\OneDrive\\PhD\\SWC\\data\\sixth_experiments_241112\\2024-11-12_15-23-24_FrancescaSenSzeSocial.json\n",
      "Loading complete.\n",
      "Preprocessing complete.\n",
      "filepath: D:\\Users\\Tom\\OneDrive\\PhD\\SWC\\data\\seventh_experiments_241113\\2024-11-13_14-18-54_NasiaRyanSocial.json\n",
      "Loading complete.\n",
      "Preprocessing complete.\n",
      "filepath: D:\\Users\\Tom\\OneDrive\\PhD\\SWC\\data\\eighth_experiments_241113\\2024-11-13_15-28-07_YichuanHoiSocial.json\n",
      "Loading complete.\n",
      "Preprocessing complete.\n",
      "filepath: D:\\Users\\Tom\\OneDrive\\PhD\\SWC\\data\\ninth_experiments_241119\\2024-11-19_14-24-49_AmyXinyuanSocial.json\n",
      "Loading complete.\n",
      "Preprocessing complete.\n",
      "filepath: D:\\Users\\Tom\\OneDrive\\PhD\\SWC\\data\\tenth_experiments_241119\\2024-11-19_15-22-56_SophiaHocineSocial.json\n",
      "Loading complete.\n",
      "Preprocessing complete.\n",
      "filepath: D:\\Users\\Tom\\OneDrive\\PhD\\SWC\\data\\eleventh_experiments_241120\\2024-11-20_14-17-44_JasonRahulSocial.json\n",
      "Loading complete.\n",
      "Preprocessing complete.\n",
      "filepath: D:\\Users\\Tom\\OneDrive\\PhD\\SWC\\data\\twelfth_experiments_241120\\2024-11-20_15-16-21_SunnyVinceSocial.json\n",
      "Loading complete.\n",
      "Preprocessing complete.\n"
     ]
    }
   ],
   "source": [
    "_, trial_lists = prepare_data.prepare_data(data_folder, data_strings.JSON_FILENAMES_SOCIAL, combine=False)"
   ]
  },
  {
   "cell_type": "code",
   "execution_count": null,
   "id": "306bbdfd",
   "metadata": {},
   "outputs": [
    {
     "data": {
      "text/plain": [
       "(np.float64(0.8180543609037378),\n",
       " np.float64(0.7526065258454677),\n",
       " np.float64(0.7695818626503675),\n",
       " np.float64(0.6271476309674597))"
      ]
     },
     "execution_count": 14,
     "metadata": {},
     "output_type": "execute_result"
    }
   ],
   "source": [
    "(ratio_player_0_win, ratio_player_0_loss, ratio_player_1_win, ratio_player_1_loss) = trajectory_efficiency.ratio_direct_to_absolute_distances_session(trial_lists[0])"
   ]
  },
  {
   "cell_type": "code",
   "execution_count": null,
   "id": "e4aa63c2",
   "metadata": {},
   "outputs": [],
   "source": [
    "ratio_player_0_win, ratio_player_0_loss, ratio_player_1_win, ratio_player_1_loss"
   ]
  },
  {
   "cell_type": "code",
   "execution_count": 12,
   "id": "8fb945e1",
   "metadata": {},
   "outputs": [
    {
     "name": "stderr",
     "output_type": "stream",
     "text": [
      "d:\\tom\\documents\\swc\\repos\\octagon_analysis\\analysis\\trajectory_efficiency.py:145: RuntimeWarning: invalid value encountered in divide\n",
      "  ratio_player_0_loss =  np.nanmean(player_0_loss_direct_distances/player_0_loss_actual_distances)\n",
      "d:\\tom\\documents\\swc\\repos\\octagon_analysis\\analysis\\trajectory_efficiency.py:144: RuntimeWarning: invalid value encountered in divide\n",
      "  ratio_player_0_win =  np.nanmean(player_0_win_direct_distances/player_0_win_actual_distances)\n",
      "d:\\tom\\documents\\swc\\repos\\octagon_analysis\\analysis\\trajectory_efficiency.py:147: RuntimeWarning: invalid value encountered in divide\n",
      "  ratio_player_1_loss =  np.nanmean(player_1_loss_direct_distances/player_1_loss_actual_distances)\n",
      "d:\\tom\\documents\\swc\\repos\\octagon_analysis\\analysis\\trajectory_efficiency.py:146: RuntimeWarning: invalid value encountered in divide\n",
      "  ratio_player_1_win = np.nanmean(player_1_win_direct_distances/player_1_win_actual_distances)\n"
     ]
    }
   ],
   "source": [
    "trajectory_efficiency_ratios = trajectory_efficiency.ratio_direct_to_absolute_distances_multiple_sessions(trial_lists)"
   ]
  },
  {
   "cell_type": "code",
   "execution_count": 13,
   "id": "5afbd82a",
   "metadata": {},
   "outputs": [
    {
     "data": {
      "text/plain": [
       "array([[0.81805436, 0.75260653, 0.76958186, 0.62714763],\n",
       "       [0.8528626 , 0.74524714, 0.97358384, 0.97010905],\n",
       "       [0.80857126, 0.75096426, 0.96135905, 0.93467841],\n",
       "       [0.91968453, 0.76394457, 0.97535918, 0.92923553],\n",
       "       [0.73610489, 0.70538151, 0.8661736 , 0.86554128],\n",
       "       [0.91374202, 0.84900348, 0.88118037, 0.84936182],\n",
       "       [0.93627636, 0.92750364, 0.95772683, 0.94869054],\n",
       "       [0.94167449, 0.94123678, 0.80581444, 0.70804739],\n",
       "       [0.87646966, 0.82234305, 0.85116921, 0.58362716],\n",
       "       [0.88844501, 0.8352379 , 0.77381439, 0.76717592],\n",
       "       [0.9787667 , 0.96694637, 0.78405313, 0.6277685 ],\n",
       "       [0.89376756, 0.924481  , 0.98079487, 0.98913242]])"
      ]
     },
     "execution_count": 13,
     "metadata": {},
     "output_type": "execute_result"
    }
   ],
   "source": [
    "trajectory_efficiency_ratios"
   ]
  },
  {
   "cell_type": "code",
   "execution_count": 17,
   "id": "13103de7",
   "metadata": {},
   "outputs": [],
   "source": [
    "proportion_score_array = player_scores.proportion_score_sessions_df(trial_lists)"
   ]
  },
  {
   "cell_type": "code",
   "execution_count": 18,
   "id": "e18ff84c",
   "metadata": {},
   "outputs": [
    {
     "data": {
      "text/plain": [
       "array([[0.42406312, 0.57593688],\n",
       "       [0.37438424, 0.62561576],\n",
       "       [0.42009132, 0.57990868],\n",
       "       [0.33567416, 0.66432584],\n",
       "       [0.37628866, 0.62371134],\n",
       "       [0.79399142, 0.20600858],\n",
       "       [0.492569  , 0.507431  ],\n",
       "       [0.38533835, 0.61466165],\n",
       "       [0.32718894, 0.67281106],\n",
       "       [0.78571429, 0.21428571],\n",
       "       [0.24919094, 0.75080906],\n",
       "       [0.29604131, 0.70395869]])"
      ]
     },
     "execution_count": 18,
     "metadata": {},
     "output_type": "execute_result"
    }
   ],
   "source": [
    "proportion_score_array"
   ]
  },
  {
   "cell_type": "code",
   "execution_count": 21,
   "id": "fade8ed4",
   "metadata": {},
   "outputs": [
    {
     "data": {
      "image/png": "[encoded data removed]",
      "text/plain": [
       "<Figure size 640x480 with 1 Axes>"
      ]
     },
     "metadata": {},
     "output_type": "display_data"
    }
   ],
   "source": [
    "\n",
    "plt.scatter(trajectory_efficiency_ratios[:,0], proportion_score_array[:,0], marker=\"o\",  color='r')\n",
    "plt.scatter(trajectory_efficiency_ratios[:,1], proportion_score_array[:,0], marker=\"o\",  color='b')\n",
    "\n",
    "\n",
    "plt.scatter(trajectory_efficiency_ratios[:,2], proportion_score_array[:,1], marker=\"v\",  color='r')\n",
    "plt.scatter(trajectory_efficiency_ratios[:,3], proportion_score_array[:,1], marker=\"v\",  color='b')\n",
    "\n",
    "\n",
    "plt.title(\"Trajectory efficiency against performance\")\n",
    "plt.xlabel(\"Trajectory efficiency\")\n",
    "plt.ylabel(\"Performance\")\n",
    "\n",
    "# Remove top and bottom spines\n",
    "plt.gca().spines['top'].set_visible(False)\n",
    "plt.gca().spines['right'].set_visible(False)"
   ]
  }
 ],
 "metadata": {
  "kernelspec": {
   "display_name": "octagon_analysis",
   "language": "python",
   "name": "python3"
  },
  "language_info": {
   "codemirror_mode": {
    "name": "ipython",
    "version": 3
   },
   "file_extension": ".py",
   "mimetype": "text/x-python",
   "name": "python",
   "nbconvert_exporter": "python",
   "pygments_lexer": "ipython3",
   "version": "3.12.5"
  }
 },
 "nbformat": 4,
 "nbformat_minor": 5
}
