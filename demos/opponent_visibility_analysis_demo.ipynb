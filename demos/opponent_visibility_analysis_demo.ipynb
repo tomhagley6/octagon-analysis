{
 "cells": [
  {
   "cell_type": "code",
   "execution_count": 21,
   "id": "d4992911-7b02-448c-8ee5-c89c228ad2ed",
   "metadata": {},
   "outputs": [
    {
     "name": "stdout",
     "output_type": "stream",
     "text": [
      "The autoreload extension is already loaded. To reload it, use:\n",
      "  %reload_ext autoreload\n"
     ]
    }
   ],
   "source": [
    "%load_ext autoreload\n",
    "%autoreload 2\n",
    "\n",
    "import parse_data.prepare_data as prepare_data\n",
    "import numpy as np\n",
    "import pandas as pd\n",
    "import matplotlib.pyplot as plt\n",
    "import globals\n",
    "import data_strings\n",
    "import data_extraction.extract_trial as extract_trial\n",
    "import utils.cosine_similarity as cosine_similarity\n",
    "import analysis.wall_visibility_and_choice as wall_visibility_and_choice\n",
    "import data_extraction.get_indices as get_indices\n",
    "import plotting.plot_probability_chose_wall as plot_probability_chose_wall\n",
    "import plotting.flipped_rotated_trajectory_testing_functions as fr_funcs\n",
    "import analysis.opponent_visibility as opponent_visibility"
   ]
  },
  {
   "cell_type": "markdown",
   "id": "7a24b223",
   "metadata": {},
   "source": [
    "### Notebook to identify opponent visibility at trial start "
   ]
  },
  {
   "cell_type": "code",
   "execution_count": 15,
   "id": "0ac5dc31",
   "metadata": {},
   "outputs": [],
   "source": [
    "## Load data files"
   ]
  },
  {
   "cell_type": "code",
   "execution_count": 22,
   "id": "011c819a-ab6d-4c42-8ab8-c35d0824fbfa",
   "metadata": {},
   "outputs": [],
   "source": [
    "data_folder = data_strings.DATA_FOLDER\n",
    "json_filenames_all_social = data_strings.JSON_FILENAMES_SOCIAL\n",
    "json_filenames_all_solo = data_strings.JSON_FILENAMES_SOLO"
   ]
  },
  {
   "cell_type": "code",
   "execution_count": 23,
   "id": "c07cb011",
   "metadata": {},
   "outputs": [],
   "source": [
    "json_filenames = json_filenames_all_social"
   ]
  },
  {
   "cell_type": "code",
   "execution_count": null,
   "id": "167898aa-3073-479e-8eef-6c579c67c7f4",
   "metadata": {
    "scrolled": true
   },
   "outputs": [
    {
     "name": "stdout",
     "output_type": "stream",
     "text": [
      "filepath: D:\\Users\\Tom\\OneDrive\\PhD\\SWC\\data\\first_experiments_2409\\240913\\2024-09-13_11-31-00_YansuJerrySocial.json\n"
     ]
    }
   ],
   "source": [
    "df, trial_list = prepare_data.prepare_data(data_folder, json_filenames, combine=False)"
   ]
  },
  {
   "cell_type": "code",
   "execution_count": 16,
   "id": "c5b02a55",
   "metadata": {},
   "outputs": [],
   "source": [
    "## calculate probabilities for specified conditions"
   ]
  },
  {
   "cell_type": "code",
   "execution_count": 11,
   "id": "e19df442",
   "metadata": {},
   "outputs": [],
   "source": [
    "# analysis variables\n",
    "inferred_choice = True\n",
    "current_fov = 110\n",
    "chosen_wall_index=0\n",
    "visible_wall_index=None\n",
    "wall_sep = None"
   ]
  },
  {
   "cell_type": "code",
   "execution_count": null,
   "id": "74f3afb4",
   "metadata": {},
   "outputs": [],
   "source": [
    "(probabilities,\n",
    " trial_data) = opponent_visibility.probability_trial_outcome_given_conditions_all_sessions(trial_list, inferred_choice, current_fov,\n",
    "                                                            chosen_wall_index=chosen_wall_index, visible_wall_index=visible_wall_index,\n",
    "                                                            trial_type=globals.HIGH_LOW, debug=False)\n",
    "\n",
    "wall_choice_probabilities = [probabilities['other_visible'].ravel(), probabilities['other_not_visible'].ravel()]"
   ]
  },
  {
   "cell_type": "code",
   "execution_count": 17,
   "id": "7e083595",
   "metadata": {},
   "outputs": [],
   "source": [
    "## Plot probabilities for this condition across visibility of Other"
   ]
  },
  {
   "cell_type": "code",
   "execution_count": null,
   "id": "5bad28d9",
   "metadata": {},
   "outputs": [],
   "source": [
    "plot_probability_chose_wall.boxplot_probability_choose_wall(wall_choice_probabilities, ['Other visible', 'Other not visible'], ylabel=\"P(Choose Low)\")"
   ]
  },
  {
   "cell_type": "markdown",
   "id": "c0ef5df9",
   "metadata": {},
   "source": [
    "### End of Demo"
   ]
  },
  {
   "cell_type": "markdown",
   "id": "dae3dea1",
   "metadata": {},
   "source": [
    "### Sandbox"
   ]
  },
  {
   "cell_type": "code",
   "execution_count": null,
   "id": "ca082515",
   "metadata": {},
   "outputs": [],
   "source": [
    "## Testing atomic function outputs for a single trial"
   ]
  },
  {
   "cell_type": "code",
   "execution_count": null,
   "id": "126b7949",
   "metadata": {},
   "outputs": [],
   "source": [
    "player_id = 0"
   ]
  },
  {
   "cell_type": "code",
   "execution_count": 21,
   "id": "adaa1e67",
   "metadata": {},
   "outputs": [],
   "source": [
    "# filter the trial list for trialtype and wallsep\n",
    "\n",
    "# filter trial list for HighLow trialtype\n",
    "trial_indices = get_indices.get_trials_trialtype(trial_list, trial_type=globals.HIGH_LOW)\n",
    "trial_list_filtered = [trial_list[i] for i in trial_indices]\n",
    "\n",
    "# filter trial list for wall separations if specified\n",
    "if wall_sep:\n",
    "    trial_indices = get_indices.get_trials_with_wall_sep(trial_list_filtered, wall_sep=None)\n",
    "    trial_list_filtered = [trial_list_filtered[i] for i in trial_indices]\n"
   ]
  },
  {
   "cell_type": "code",
   "execution_count": 22,
   "id": "3c667429",
   "metadata": {},
   "outputs": [],
   "source": [
    "trial_list_one = [trial_list_filtered[0]]\n",
    "sandbox_trial_list = trial_list_filtered"
   ]
  },
  {
   "cell_type": "code",
   "execution_count": null,
   "id": "2b81c2db",
   "metadata": {},
   "outputs": [],
   "source": [
    "head_angle_vector = opponent_visibility.get_player_headangle_vector_slice_onset(player_id, trial_list=sandbox_trial_list, trial_index=0)\n",
    "head_angle_vector"
   ]
  },
  {
   "cell_type": "code",
   "execution_count": null,
   "id": "c7011020",
   "metadata": {},
   "outputs": [],
   "source": [
    "self_position, other_position = opponent_visibility.get_two_player_positions_slice_onset(player_id, trial_list=sandbox_trial_list, trial_index=0)\n",
    "self_position, other_position"
   ]
  },
  {
   "cell_type": "code",
   "execution_count": null,
   "id": "7826b377",
   "metadata": {},
   "outputs": [],
   "source": [
    "orientation_angle_to_other_session = opponent_visibility.get_angle_of_opponent_from_player_session(player_id, sandbox_trial_list)\n",
    "np.rad2deg(orientation_angle_to_other_session)"
   ]
  },
  {
   "cell_type": "code",
   "execution_count": null,
   "id": "a2f9db92",
   "metadata": {},
   "outputs": [],
   "source": [
    "other_visible_session = opponent_visibility.get_other_visible_session(orientation_angle_to_other_session, current_fov=110)\n",
    "other_visible_session"
   ]
  },
  {
   "cell_type": "markdown",
   "id": "67938eff",
   "metadata": {},
   "source": [
    "Walking through the process for getting P(Choose High) for trials where the opponent is visible and High is first seen"
   ]
  },
  {
   "cell_type": "code",
   "execution_count": null,
   "id": "65c53303",
   "metadata": {},
   "outputs": [],
   "source": [
    "# filter Other initially visible\n",
    "(trial_list_filtered_other_visible,\n",
    "  other_visible_trial_indices) = opponent_visibility.filter_trials_other_visible(sandbox_trial_list, other_visible_session)\n",
    "len(other_visible_trial_indices)"
   ]
  },
  {
   "cell_type": "code",
   "execution_count": null,
   "id": "92152342",
   "metadata": {},
   "outputs": [],
   "source": [
    "# filter both walls initially visible\n",
    "(trial_list_filtered_both_walls_visible,\n",
    "  both_walls_visible_indices) = opponent_visibility.filter_trials_both_walls_initially_visible(trial_list_filtered_other_visible, player_id, current_fov)\n",
    "both_walls_visible_indices"
   ]
  },
  {
   "cell_type": "code",
   "execution_count": null,
   "id": "07bbc981",
   "metadata": {},
   "outputs": [],
   "source": [
    "# filter high wall initially visible\n",
    "(trial_list_filtered_high_wall_initially_visible,\n",
    "  high_wall_initially_visible_indices) = opponent_visibility.filter_trials_one_wall_initially_visible(trial_list_filtered_other_visible, player_id,\n",
    "                                                                                   wall_index=0, current_fov=current_fov)\n",
    "len(high_wall_initially_visible_indices)"
   ]
  },
  {
   "cell_type": "code",
   "execution_count": null,
   "id": "c34f7242",
   "metadata": {},
   "outputs": [],
   "source": [
    "(trial_list_filtered_player_choice,\n",
    "  player_chose_given_wall_indices) = opponent_visibility.filter_trials_player_chose_given_wall(trial_list_filtered_high_wall_initially_visible, player_id,\n",
    "                                                                            inferred_choice=True, given_wall_index=0)\n",
    "len(player_chose_given_wall_indices)"
   ]
  },
  {
   "cell_type": "code",
   "execution_count": null,
   "id": "49eb5b86",
   "metadata": {},
   "outputs": [],
   "source": [
    "# test the player choice function is working correctly by printing the player choice array\n",
    "# and the high wall number for all trials of this session\n",
    "\n",
    "player_choice = wall_visibility_and_choice.get_player_wall_choice(sandbox_trial_list, player_id,\n",
    "                                                                    inferred_choice=False, debug=False)\n",
    "\n",
    "high_wall = np.full(len(sandbox_trial_list), np.nan)\n",
    "for i, trial in enumerate(sandbox_trial_list):\n",
    "    high_wall[i] = get_indices.get_walls(trial)[0]\n",
    "\n",
    "player_choice, high_wall"
   ]
  },
  {
   "cell_type": "code",
   "execution_count": null,
   "id": "88dd710d",
   "metadata": {},
   "outputs": [],
   "source": [
    "probability_chose_wall = opponent_visibility.calculate_probability_choose_wall(trial_list_filtered_high_wall_initially_visible, trial_list_filtered_player_choice)\n",
    "probability_chose_wall"
   ]
  },
  {
   "cell_type": "code",
   "execution_count": 20,
   "id": "6b37b3c5",
   "metadata": {},
   "outputs": [],
   "source": [
    "## Testing for single trials"
   ]
  },
  {
   "cell_type": "code",
   "execution_count": null,
   "id": "f438d298",
   "metadata": {},
   "outputs": [],
   "source": [
    "# # Single trials\n",
    "# P(H | H first visible; Other visible)\n",
    "a = opponent_visibility.probability_chose_wall_conditioned_on_wall_and_other_visibility(sandbox_trial_list, other_visible_session,\n",
    "                                                                    player_id=0, visible_wall_index=0,\n",
    "                                                                    chosen_wall_index=0, inferred_choice=False,\n",
    "                                                                    current_fov=current_fov,\n",
    "                                                                    inverse_other_visible=False)\n",
    "# P(H | H first visible; Other not visible)\n",
    "b = opponent_visibility.probability_chose_wall_conditioned_on_wall_and_other_visibility(sandbox_trial_list, other_visible_session,\n",
    "                                                                    player_id=0, visible_wall_index=0,\n",
    "                                                                    chosen_wall_index=0, inferred_choice=False,\n",
    "                                                                    current_fov=current_fov,\n",
    "                                                                    inverse_other_visible=True)\n",
    "wall_choice_probabilities = np.array([a,b])"
   ]
  },
  {
   "cell_type": "code",
   "execution_count": null,
   "id": "2061db02",
   "metadata": {},
   "outputs": [],
   "source": [
    "# Test plot for single trials\n",
    "plot_probability_chose_wall.boxplot_probability_choose_wall(wall_choice_probabilities, ['Other visible', 'Other not visible'], ylabel=\"P(Choose High | first visible)\")"
   ]
  },
  {
   "cell_type": "code",
   "execution_count": null,
   "id": "f4b4cb0a",
   "metadata": {},
   "outputs": [],
   "source": [
    "# plot trial start positions for self and other, combining both players in a session, \n",
    "# only for trials with Other visible and H visible at trial start\n",
    "# TODO rewrite cleanly to avoid \n",
    "# TODO repeat for the list of trials where Other is NOT visible\n",
    "# TODO see 250123 octagon meeting notes for how to polish these plots and best use them\n",
    "\n",
    "chosen_walls_session = np.zeros(len(filtered_trail_list_a_list[0]))  # unused for this analysis\n",
    "\n",
    "# trial lists\n",
    "filtered_trail_list_a_list          # all trials with Other and High visible\n",
    "filtered_trial_list_choice_a_list   # all trials with Other not viisble and High visible\n",
    "\n",
    "# starting with player 0, the first index \n",
    "player_id = 0\n",
    "\n",
    "# Run the first trial out of the loop to generate the plotted octagon axes\n",
    "trial = filtered_trail_list_a_list[12][0]\n",
    "(_, _, \n",
    "rotated_flipped_trial, _,\n",
    "chosen_wall) = fr_funcs.get_trajectory_information_trial(chosen_walls_session, trial=trial, player_id=0)\n",
    "ax = fr_funcs.plot_player_start_positions(rotated_flipped_trial, chosen_player=player_id, label=False, axes=None)\n",
    "\n",
    "# now loop the rest of player_id 0 trials\n",
    "for i, trial in enumerate(filtered_trail_list_a_list[12][1:]):\n",
    "    (_, _, \n",
    "    rotated_flipped_trial, _,\n",
    "    chosen_wall) = fr_funcs.get_trajectory_information_trial(chosen_walls_session, trial=trial, player_id=player_id)\n",
    "    ax = fr_funcs.plot_player_start_positions(rotated_flipped_trial, chosen_player=player_id, label=False, axes=ax)\n",
    "# now loop all player_id 1 trials\n",
    "player_id = 1\n",
    "for i, trial in enumerate(filtered_trail_list_a_list[13]):\n",
    "    (_, _, \n",
    "    rotated_flipped_trial, _,\n",
    "    chosen_wall) = fr_funcs.get_trajectory_information_trial(chosen_walls_session, trial=trial, player_id=player_id)\n",
    "    ax = fr_funcs.plot_player_start_positions(rotated_flipped_trial, chosen_player=player_id, label=False, axes=ax)\n"
   ]
  },
  {
   "cell_type": "code",
   "execution_count": null,
   "id": "076401db",
   "metadata": {},
   "outputs": [],
   "source": [
    "filtered_trail_list_a_list[17][0]['data.trialNum'].unique().item()"
   ]
  }
 ],
 "metadata": {
  "kernelspec": {
   "display_name": "octagon_analysis",
   "language": "python",
   "name": "python3"
  },
  "language_info": {
   "codemirror_mode": {
    "name": "ipython",
    "version": 3
   },
   "file_extension": ".py",
   "mimetype": "text/x-python",
   "name": "python",
   "nbconvert_exporter": "python",
   "pygments_lexer": "ipython3",
   "version": "3.12.5"
  }
 },
 "nbformat": 4,
 "nbformat_minor": 5
}
