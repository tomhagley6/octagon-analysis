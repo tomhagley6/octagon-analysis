{
 "cells": [
  {
   "cell_type": "code",
   "execution_count": 1,
   "id": "7b1a4652-2e20-4efe-a6de-806c45b6ef36",
   "metadata": {},
   "outputs": [],
   "source": [
    "import parse_data.prepare_data as prepare_data\n",
    "import numpy as np\n",
    "import pandas as pd\n",
    "import matplotlib.pyplot as plt\n",
    "import data_extraction.get_indices as get_indices\n",
    "import trajectory_analysis.trajectory_vectors as trajectory_vectors\n",
    "import trajectory_analysis.trajectory_headangle as trajectory_headangle\n",
    "import analysis.loser_inferred_choice as loser_inferred_choice\n",
    "\n",
    "import globals"
   ]
  },
  {
   "cell_type": "code",
   "execution_count": 2,
   "id": "d2ae7ffb-5f9d-4f9e-b9de-c4231b775eff",
   "metadata": {},
   "outputs": [],
   "source": [
    "# paths\n",
    "# data_folder = '/home/tom/Documents/SWC/data' # desktop Duan Lab\n",
    "data_folder = r'D:\\Users\\Tom\\OneDrive\\PhD\\SWC\\data' # desktop home\n",
    "# data_folder = r'C:\\Users\\tomha\\OneDrive\\PhD\\SWC\\data' # octagon laptop\n",
    "# json_filename = '240913_Yansu_Jerry/2024-09-13_11-53-34_YansuSecondSolo.json' \n",
    "# json_filename = '240913_Yansu_Jerry/2024-09-13_11-31-00_YansuJerrySocial.json'\n",
    "# json_filenames = [r'first_experiments_2409\\240913\\2024-09-13_11-23-37_YansuFirstSolo.json']\n",
    "# json_filenames = [r'first_experiments_2409\\240913\\2024-09-13_11-31-00_YansuJerrySocial.json',\n",
    "#                   r'second_experiments_2409\\240927\\2024-09-27_14-25-20_SaraEmilySocial.json']\n",
    "json_filenames = [r'fourth_experiments_2410\\241017\\2024-10-17_16-41-38_ZimoElsaSocial.json']"
   ]
  },
  {
   "cell_type": "code",
   "execution_count": 3,
   "id": "3c883377-7cec-47af-9050-210028b34af9",
   "metadata": {
    "scrolled": true
   },
   "outputs": [
    {
     "name": "stdout",
     "output_type": "stream",
     "text": [
      "filepath: D:\\Users\\Tom\\OneDrive\\PhD\\SWC\\data\\fourth_experiments_2410\\241017\\2024-10-17_16-41-38_ZimoElsaSocial.json\n",
      "Loading complete.\n",
      "Preprocessing complete.\n"
     ]
    }
   ],
   "source": [
    "df, trials_list = prepare_data.prepare_data(data_folder, json_filenames)"
   ]
  },
  {
   "cell_type": "code",
   "execution_count": 4,
   "id": "468b31fd-d016-47d2-bd25-0e54e2c3ecd0",
   "metadata": {},
   "outputs": [],
   "source": [
    "current_fov = 110.36"
   ]
  },
  {
   "cell_type": "code",
   "execution_count": 5,
   "id": "72f80910-274b-45fa-9fdf-1c18b9db29a7",
   "metadata": {},
   "outputs": [],
   "source": [
    "trial_index = 30\n",
    "player_id = get_indices.get_trigger_activators(trials_list)[trial_index]"
   ]
  },
  {
   "cell_type": "code",
   "execution_count": 6,
   "id": "960cd69f-8316-4883-9b5a-9a5d05d8a46f",
   "metadata": {},
   "outputs": [],
   "source": [
    "trial = trials_list[trial_index]"
   ]
  },
  {
   "cell_type": "code",
   "execution_count": 7,
   "id": "89c64f02-caf0-4d1c-81e5-3d0f41ce057b",
   "metadata": {},
   "outputs": [],
   "source": [
    "trajectory = trajectory_vectors.extract_trial_player_trajectory(trial=trial, player_id=player_id)\n",
    "trial_player_headangles = trajectory_headangle.extract_trial_player_headangles(trial=trial, player_id=player_id)"
   ]
  },
  {
   "cell_type": "code",
   "execution_count": 8,
   "id": "dbc7db33-aff4-4ae8-b2d3-58d33d6a8320",
   "metadata": {},
   "outputs": [],
   "source": [
    "wall_coords_cross_product_dependent = trajectory_headangle.wall_coords_cross_product_dependent(trial=trial, player_id=player_id)"
   ]
  },
  {
   "cell_type": "code",
   "execution_count": 9,
   "id": "5c9b7f3e-56bf-40fd-ba72-c225d460569a",
   "metadata": {},
   "outputs": [],
   "source": [
    "thetas = trajectory_headangle.head_angle_to_closest_wall_section_throughout_trajectory(trajectory,\n",
    "                                                                  trial_player_headangles,\n",
    "                                                                  wall_coords_cross_product_dependent)\n",
    "thetas = np.rad2deg(thetas)"
   ]
  },
  {
   "cell_type": "code",
   "execution_count": 10,
   "id": "5c8df109-6883-4280-9e1f-9ff75d49f664",
   "metadata": {},
   "outputs": [],
   "source": [
    "wall_visible = thetas < current_fov/2"
   ]
  },
  {
   "cell_type": "code",
   "execution_count": 11,
   "id": "2f0bc383-cb20-41ad-8177-874121fb8b7f",
   "metadata": {},
   "outputs": [],
   "source": [
    "def get_wall_visible(trial_list, trial_index, player_id, current_fov=110.36):\n",
    "    ''' Return the wall_visible array (boolean array of whether each wall is visible for\n",
    "        the player at each timepoint, shape num_walls*timepoints), for a chosen player and \n",
    "        chosen trial '''\n",
    "    \n",
    "    trial = trial_list[trial_index]\n",
    "\n",
    "    trajectory = trajectory_vectors.extract_trial_player_trajectory(trial=trial, player_id=player_id)\n",
    "    trial_player_headangles = trajectory_headangle.extract_trial_player_headangles(trial=trial, player_id=player_id)\n",
    "\n",
    "    wall_coords_cross_product_dependent = trajectory_headangle.wall_coords_cross_product_dependent(trial=trial, player_id=player_id)\n",
    "\n",
    "    thetas = trajectory_headangle.head_angle_to_closest_wall_section_throughout_trajectory(trajectory,\n",
    "                                                                      trial_player_headangles,\n",
    "                                                                      wall_coords_cross_product_dependent)\n",
    "    thetas = np.rad2deg(thetas)\n",
    "\n",
    "    wall_visible = thetas < current_fov/2\n",
    "\n",
    "    return wall_visible"
   ]
  },
  {
   "cell_type": "code",
   "execution_count": 12,
   "id": "d5f6e56d-fd35-4659-b177-129c3b4a19e8",
   "metadata": {},
   "outputs": [],
   "source": [
    "wall_visible = get_wall_visible(trials_list, trial_index, player_id, current_fov=110.36)"
   ]
  },
  {
   "cell_type": "code",
   "execution_count": 13,
   "id": "611908b5-ee49-4318-8283-89332b698ad4",
   "metadata": {},
   "outputs": [
    {
     "name": "stdout",
     "output_type": "stream",
     "text": [
      "only one wall visible at trial start\n",
      "and this was wall2\n",
      "first visible wall was the one chosen\n"
     ]
    }
   ],
   "source": [
    "first_visible_wall_chosen, first_visible_wall_high = trajectory_headangle.was_first_visible_wall_chosen_player(wall_visible, trial)"
   ]
  },
  {
   "cell_type": "code",
   "execution_count": 14,
   "id": "b02ce52f-e8c8-4cbe-b22b-cf2033bc8e8c",
   "metadata": {},
   "outputs": [
    {
     "data": {
      "text/plain": [
       "(True, False, False)"
      ]
     },
     "execution_count": 14,
     "metadata": {},
     "output_type": "execute_result"
    }
   ],
   "source": [
    "high_wall_chosen_array = get_indices.was_high_wall_chosen(trials_list)\n",
    "first_visible_wall_chosen, first_visible_wall_high, high_wall_chosen_array[trial_index].item()"
   ]
  },
  {
   "cell_type": "code",
   "execution_count": 15,
   "id": "45930e98-c416-4040-9b99-e09bf1caea0e",
   "metadata": {},
   "outputs": [],
   "source": [
    "def player_wall_choice_win_or_loss(trials_list, player_id):\n",
    "    # logic for identifying the player's chosen wall whether they lost the trial or not\n",
    "    winning_player = get_indices.get_trigger_activators(trials_list)\n",
    "    chosen_walls = get_indices.get_chosen_walls(trials_list)\n",
    "    loser_inferred_choices, loser_inferred_choice_confidences = loser_inferred_choice.infer_loser_choice_session(trials_list)\n",
    "    current_player_wall_choice = np.zeros(len(trials_list))\n",
    "    \n",
    "    for i in range(len(trials_list)):\n",
    "        if player_id!= winning_player[i]:\n",
    "            if loser_inferred_choice_confidences[i] == False:\n",
    "                wall_chosen = np.nan\n",
    "            elif loser_inferred_choice_confidences[i] == True:\n",
    "                wall_chosen = loser_inferred_choices[i] # check this is wall num and not index\n",
    "            else:\n",
    "                raise ValueError(\"Boolean array must be given for loser_inferred_choice_confidences\")\n",
    "        elif player_id == winning_player[i]:\n",
    "            wall_chosen = chosen_walls[i]\n",
    "    \n",
    "        current_player_wall_choice[i] = wall_chosen\n",
    "\n",
    "    return current_player_wall_choice\n",
    "            \n"
   ]
  },
  {
   "cell_type": "code",
   "execution_count": 16,
   "id": "80c7bf28-db8b-4323-a9b5-7f98137971bf",
   "metadata": {},
   "outputs": [],
   "source": [
    "player_id = 0"
   ]
  },
  {
   "cell_type": "code",
   "execution_count": 17,
   "id": "6769968b-5450-47aa-8b57-906387f429f5",
   "metadata": {},
   "outputs": [
    {
     "name": "stderr",
     "output_type": "stream",
     "text": [
      "d:\\tom\\documents\\swc\\repos\\octagon_analysis\\trajectory_analysis\\trajectory_vectors.py:193: RuntimeWarning: invalid value encountered in scalar divide\n",
      "  cosine_similarity_this_wall = dot_product[wall_num]/(player_to_alcove_vector_norms[wall_num] * direction_vector_norm)\n",
      "d:\\tom\\documents\\swc\\repos\\octagon_analysis\\analysis\\loser_inferred_choice.py:42: RuntimeWarning: Mean of empty slice\n",
      "  return np.argmax(np.nanmean(cosine_similarity_trajectory, axis=1))\n",
      "d:\\tom\\documents\\swc\\repos\\octagon_analysis\\analysis\\loser_inferred_choice.py:121: RuntimeWarning: Mean of empty slice\n",
      "  highest_alignment_val = np.max(np.nanmean(cosine_similarity_trajectory, axis=1))\n",
      "d:\\tom\\documents\\swc\\repos\\octagon_analysis\\analysis\\loser_inferred_choice.py:77: RuntimeWarning: Mean of empty slice\n",
      "  average_cosine_similarities = np.nanmean(cosine_similarity_trajectory, axis=1)\n"
     ]
    },
    {
     "data": {
      "text/plain": [
       "array([ 6.,  1.,  3.,  8.,  3.,  2.,  7.,  3.,  6., nan,  1.,  6.,  1.,\n",
       "       nan, nan,  2., nan, nan,  4., nan,  2.,  8., nan, nan,  2.,  4.,\n",
       "       nan,  4., nan, nan,  4., nan,  8.,  6., nan,  3.,  8., nan,  3.,\n",
       "        5., nan, nan, nan, nan,  8.,  8.,  5.,  6.,  8.,  4.,  4.,  1.,\n",
       "       nan,  6.,  7.,  4.,  2.,  6.,  3., nan,  5.,  2.,  3.,  3.,  8.,\n",
       "        4.,  1.,  7.,  1.,  3.,  3.,  1.,  7.,  1.,  2.,  2.,  6.,  5.,\n",
       "        4., nan,  6., nan,  3.,  7.,  8.,  4., nan, nan,  6.,  3., nan,\n",
       "        7.,  7.,  1.,  4.,  6.,  5., nan, nan,  4.,  4.,  6.,  4.,  4.,\n",
       "        4., nan, nan,  5.,  4., nan, nan,  6.,  5., nan,  5.,  6.,  5.,\n",
       "        1.,  1.,  8.,  3., nan,  1.,  5.,  5.,  2.,  5.,  2.,  5.,  3.,\n",
       "        3.,  3., nan,  4.,  5.,  4.,  4.,  8.,  8.,  7.,  7., nan,  7.,\n",
       "       nan, nan,  2.,  1.,  6.,  1.,  5.,  2.,  2.,  7.,  8.,  6.,  2.,\n",
       "        4.,  8.,  8.,  2.,  2.,  1.,  3.,  7.,  2., nan,  6.,  8.,  1.,\n",
       "        7., nan, nan,  1., nan, nan,  3.])"
      ]
     },
     "execution_count": 17,
     "metadata": {},
     "output_type": "execute_result"
    }
   ],
   "source": [
    "current_player_wall_choice = player_wall_choice_win_or_loss(trials_list, player_id)\n",
    "current_player_wall_choice"
   ]
  },
  {
   "cell_type": "code",
   "execution_count": 18,
   "id": "5fb194c5-b358-43a9-91cd-3ab770b938f3",
   "metadata": {},
   "outputs": [
    {
     "data": {
      "text/plain": [
       "np.False_"
      ]
     },
     "execution_count": 18,
     "metadata": {},
     "output_type": "execute_result"
    }
   ],
   "source": [
    "np.isnan(current_player_wall_choice[0])"
   ]
  },
  {
   "cell_type": "code",
   "execution_count": 19,
   "id": "db410497-fd71-4d54-a393-8cab6b268127",
   "metadata": {},
   "outputs": [
    {
     "data": {
      "text/plain": [
       "np.float64(6.0)"
      ]
     },
     "execution_count": 19,
     "metadata": {},
     "output_type": "execute_result"
    }
   ],
   "source": [
    "current_player_wall_choice[0]"
   ]
  },
  {
   "cell_type": "code",
   "execution_count": 20,
   "id": "57d98eaa-6a5e-455a-89ca-5c8b17bf193c",
   "metadata": {},
   "outputs": [
    {
     "data": {
      "text/plain": [
       "0.7613636363636364"
      ]
     },
     "execution_count": 20,
     "metadata": {},
     "output_type": "execute_result"
    }
   ],
   "source": [
    "current_player_wall_choice[~np.isnan(current_player_wall_choice)].size/current_player_wall_choice.size"
   ]
  },
  {
   "cell_type": "code",
   "execution_count": 21,
   "id": "f3da8869-ec7f-403f-aaf9-1c8d72e144a6",
   "metadata": {},
   "outputs": [
    {
     "name": "stdout",
     "output_type": "stream",
     "text": [
      " wall1 initially vis: True, wall2 initially vis: True\n",
      " first vis wall of trial for player: both\n",
      "neither or both\n",
      " first_vis_wall_chosen: False, first_vis_wall_high: False\n",
      " player_wall_choice[i]: 6.0\n",
      " this_player_this_trial_first_visible_wall_chosen: False, high wall: 6\n"
     ]
    }
   ],
   "source": [
    "# full logic for identfying first visible and chosen wall for a single player\n",
    "\n",
    "i = 80\n",
    "player_id = 0\n",
    "trial_list = trials_list\n",
    "\n",
    "# we want to find whether the first visible wall was chosen (or 'inferred chosen'), and whether it was the High wall\n",
    "first_visible_wall_chosen = np.zeros(len(trial_list), dtype=np.bool)\n",
    "first_visible_wall_high = np.zeros(len(trial_list), dtype=np.bool)\n",
    "\n",
    "# get the players choice, whether this is empirical, inferred, or nan\n",
    "player_wall_choice = player_wall_choice_win_or_loss(trials_list, player_id)\n",
    "\n",
    "    \n",
    "# get the walls for this trial\n",
    "trial = trial_list[i]\n",
    "walls = get_indices.get_walls(trial=trial)\n",
    "wall1 = walls[0]\n",
    "wall2 = walls[1]\n",
    "\n",
    "# wall_visible array for this trial \n",
    "this_player_this_trial_wall_visible = get_wall_visible(trial_list, i, player_id, current_fov=110.36)\n",
    "(this_player_this_trial_wall1_visible,\n",
    " this_player_this_trial_wall2_visible) = trajectory_headangle.wall_visibility_player_slice_onset(this_player_this_trial_wall_visible,\n",
    "                                                                            trial)\n",
    "print(f\" wall1 initially vis: {this_player_this_trial_wall1_visible}, wall2 initially vis: {this_player_this_trial_wall2_visible}\")\n",
    "this_player_this_trial_first_visible_wall = trajectory_headangle.which_wall_becomes_visible_first(this_player_this_trial_wall_visible,\n",
    "                                                                                                     this_player_this_trial_wall1_visible,\n",
    "                                                                                                     this_player_this_trial_wall2_visible,\n",
    "                                                                                                  trial)\n",
    "\n",
    "print(f\" first vis wall of trial for player: {this_player_this_trial_first_visible_wall}\")\n",
    "if this_player_this_trial_first_visible_wall == 'neither' or this_player_this_trial_first_visible_wall == 'both':\n",
    "    # TODO handle this\n",
    "    print(\"neither or both\")\n",
    "    this_player_this_trial_first_visible_wall_num = np.nan\n",
    "else:\n",
    "    if this_player_this_trial_first_visible_wall == 'wall1':\n",
    "        first_visible_wall_high[i] = True\n",
    "        this_player_this_trial_first_visible_wall_num = wall1\n",
    "    elif this_player_this_trial_first_visible_wall == 'wall2':\n",
    "        first_visible_wall_high[i] = False\n",
    "        this_player_this_trial_first_visible_wall_num = wall2\n",
    "    else:\n",
    "        raise ValueError(\"value must be either wall1, wall2, neither, or both\")\n",
    "    \n",
    "if np.isnan(player_wall_choice[i]):\n",
    "    # TODO handle this\n",
    "    print(\"not confident in loser's choice\")\n",
    "    this_player_this_trial_first_visible_wall_num = np.nan\n",
    "else:\n",
    "    this_player_this_trial_first_visible_wall_chosen = True if player_wall_choice[i] == this_player_this_trial_first_visible_wall_num else False\n",
    "    first_visible_wall_chosen[i] = this_player_this_trial_first_visible_wall_chosen\n",
    "\n",
    "print(f\" first_vis_wall_chosen: {first_visible_wall_chosen[i]}, first_vis_wall_high: {first_visible_wall_high[i]}\")\n",
    "print(f\" player_wall_choice[i]: {player_wall_choice[i]}\")\n",
    "print(f\" this_player_this_trial_first_visible_wall_chosen: {this_player_this_trial_first_visible_wall_chosen}, high wall: {wall1}\")\n"
   ]
  },
  {
   "cell_type": "code",
   "execution_count": 22,
   "id": "e150ef2a-1ab0-4f60-8016-347d2ae482f3",
   "metadata": {},
   "outputs": [],
   "source": [
    "def probability_first_visible_wall_chosen_and_low(first_visible_wall_chosen, first_visible_wall_high, debug=True):\n",
    "\n",
    "    if debug:\n",
    "        print(f\"Number of trials total is: {first_visible_wall_chosen.size}\")\n",
    "    \n",
    "    # remove nans from the analysis\n",
    "    first_visible_wall_chosen_not_nan = first_visible_wall_chosen[~np.isnan(first_visible_wall_chosen)]\n",
    "    first_visible_wall_high_not_nan = first_visible_wall_high[~np.isnan(first_visible_wall_high)]\n",
    "    first_visible_wall_low_not_nan = (first_visible_wall_high_not_nan -1) * -1\n",
    "    if debug:\n",
    "        print(f\"Number of trials for this player that begin with one wall visible and end with a retrievable choice is: \" +\n",
    "                f\"{first_visible_wall_high_not_nan.size}\")\n",
    "\n",
    "    # restrict data to the first visible wall being low, and also being chosen\n",
    "    first_visible_low_and_also_chosen= np.where(\n",
    "                    np.isnan(first_visible_wall_chosen) | np.isnan(first_visible_wall_high),   # If either element is nan\n",
    "                    np.nan,                                           # Set to np.nan\n",
    "                    np.where((first_visible_wall_chosen == 1.) & (first_visible_wall_high == 0.), 1., 0.)  # Else set to 1. or 0.\n",
    "     )\n",
    "    # again, clear nans\n",
    "    first_visible_low_and_also_chosen_not_nan = first_visible_low_and_also_chosen[~np.isnan(first_visible_low_and_also_chosen)]\n",
    "    \n",
    "    if debug:\n",
    "        print(f\"Number of trials for this player that begin with Low wall visible and end with a retrievable choice is: \" +\n",
    "                f\"{first_visible_wall_low_not_nan[first_visible_wall_low_not_nan ==1].size}\")\n",
    "        print(f\"Number of trials for this player that begin with Low wall visible and end with Low wall chosen is: \" +\n",
    "                f\"{first_visible_low_and_also_chosen_not_nan[first_visible_low_and_also_chosen_not_nan ==1].size}\")\n",
    "        print(f\"Number of trials for this player that begin with High wall visible and end with a retrievable choice is: \" +\n",
    "                f\"{first_visible_wall_high_not_nan[first_visible_wall_high_not_nan ==1].size}\")\n",
    "        \n",
    "    # probability of first wall being chosen when the first wall is low\n",
    "    num_walls_first_visible_low_and_also_chosen_not_nan = first_visible_low_and_also_chosen[first_visible_low_and_also_chosen ==1].size\n",
    "    num_walls_first_visible_low_not_nan = first_visible_wall_low_not_nan[first_visible_wall_low_not_nan ==1].size\n",
    "    num_walls_first_visible_high_not_nan = first_visible_wall_low_not_nan[first_visible_wall_low_not_nan ==0].size\n",
    "    probability_first_wall_chosen_when_low = num_walls_first_visible_low_and_also_chosen_not_nan/num_walls_first_visible_low_not_nan\n",
    "    num_trials_first_visible_low_chose_high = num_walls_first_visible_low_not_nan - num_walls_first_visible_low_and_also_chosen_not_nan\n",
    "    \n",
    "    if debug:\n",
    "        print(f\"num_walls_first_visible_low_and_also_chosen_not_nan = {num_walls_first_visible_low_and_also_chosen_not_nan}\")\n",
    "        print(f\"num_walls_first_visible_low_not_nan = {num_walls_first_visible_low_not_nan}\")\n",
    "        print(f\"Probability of first wall being chosen when the first wall is low: \" + f\"{probability_first_wall_chosen_when_low}\")\n",
    "        print(f\"trials where low was seen first but high was chosen: {num_trials_first_visible_low_chose_high}\")\n",
    "    \n",
    "    return probability_first_wall_chosen_when_low, num_trials_first_visible_low_chose_high\n",
    "    \n",
    "    \n",
    "\n",
    "    "
   ]
  },
  {
   "cell_type": "code",
   "execution_count": 23,
   "id": "17b2d125-c6ce-4b52-90fc-239120722005",
   "metadata": {},
   "outputs": [
    {
     "name": "stdout",
     "output_type": "stream",
     "text": [
      "Number of trials total is: 176\n",
      "Number of trials for this player that begin with one wall visible and end with a retrievable choice is: 176\n",
      "Number of trials for this player that begin with Low wall visible and end with a retrievable choice is: 176\n",
      "Number of trials for this player that begin with Low wall visible and end with Low wall chosen is: 0\n",
      "Number of trials for this player that begin with High wall visible and end with a retrievable choice is: 0\n",
      "num_walls_first_visible_low_and_also_chosen_not_nan = 0\n",
      "num_walls_first_visible_low_not_nan = 176\n",
      "Probability of first wall being chosen when the first wall is low: 0.0\n",
      "trials where low was seen first but high was chosen: 176\n"
     ]
    }
   ],
   "source": [
    "probability_first_wall_chosen_when_low = probability_first_visible_wall_chosen_and_low(first_visible_wall_chosen, first_visible_wall_high)"
   ]
  },
  {
   "cell_type": "code",
   "execution_count": 24,
   "id": "84dd526a-d361-4ca7-a71a-3d08728adc72",
   "metadata": {},
   "outputs": [
    {
     "data": {
      "text/plain": [
       "np.float64(0.0)"
      ]
     },
     "execution_count": 24,
     "metadata": {},
     "output_type": "execute_result"
    }
   ],
   "source": [
    "np.sum(first_visible_wall_chosen[first_visible_wall_chosen ==1])/first_visible_wall_chosen.size # nans included"
   ]
  },
  {
   "cell_type": "code",
   "execution_count": 25,
   "id": "9f6ed0c3-1ef0-40b0-935a-bd75aeb069fb",
   "metadata": {},
   "outputs": [
    {
     "data": {
      "text/plain": [
       "np.float64(0.0)"
      ]
     },
     "execution_count": 25,
     "metadata": {},
     "output_type": "execute_result"
    }
   ],
   "source": [
    "first_visible_wall_chosen_not_nan = first_visible_wall_chosen[~np.isnan(first_visible_wall_chosen)]\n",
    "np.sum(first_visible_wall_chosen_not_nan[first_visible_wall_chosen_not_nan ==1])/first_visible_wall_chosen_not_nan.size"
   ]
  },
  {
   "cell_type": "code",
   "execution_count": 26,
   "id": "051723ce-600c-4c6e-be6e-0123d3e9209f",
   "metadata": {},
   "outputs": [
    {
     "data": {
      "text/plain": [
       "np.float64(0.0)"
      ]
     },
     "execution_count": 26,
     "metadata": {},
     "output_type": "execute_result"
    }
   ],
   "source": [
    "np.sum(first_visible_wall_high[first_visible_wall_high ==1])/first_visible_wall_high.size # nans included"
   ]
  },
  {
   "cell_type": "code",
   "execution_count": 27,
   "id": "1a016e03-fdf6-4417-9641-bee10f51f5e0",
   "metadata": {},
   "outputs": [
    {
     "data": {
      "text/plain": [
       "np.float64(0.0)"
      ]
     },
     "execution_count": 27,
     "metadata": {},
     "output_type": "execute_result"
    }
   ],
   "source": [
    "first_visible_wall_high_not_nan = first_visible_wall_high[~np.isnan(first_visible_wall_high)]\n",
    "np.sum(first_visible_wall_high_not_nan[first_visible_wall_high_not_nan ==1])/first_visible_wall_high_not_nan.size"
   ]
  },
  {
   "cell_type": "code",
   "execution_count": 28,
   "id": "e8b50d68-36f9-4b80-a424-977a484dbbc2",
   "metadata": {},
   "outputs": [
    {
     "data": {
      "text/plain": [
       "array([False, False, False, False, False, False, False, False, False,\n",
       "       False, False, False, False, False, False, False, False, False,\n",
       "       False, False, False, False, False, False, False, False, False,\n",
       "       False, False, False, False, False, False, False, False, False,\n",
       "       False, False, False, False, False, False, False, False, False,\n",
       "       False, False, False, False, False, False, False, False, False,\n",
       "       False, False, False, False, False, False, False, False, False,\n",
       "       False, False, False, False, False, False, False, False, False,\n",
       "       False, False, False, False, False, False, False, False, False,\n",
       "       False, False, False, False, False, False, False, False, False,\n",
       "       False, False, False, False, False, False, False, False, False,\n",
       "       False, False, False, False, False, False, False, False, False,\n",
       "       False, False, False, False, False, False, False, False, False,\n",
       "       False, False, False, False, False, False, False, False, False,\n",
       "       False, False, False, False, False, False, False, False, False,\n",
       "       False, False, False, False, False, False, False, False, False,\n",
       "       False, False, False, False, False, False, False, False, False,\n",
       "       False, False, False, False, False, False, False, False, False,\n",
       "       False, False, False, False, False, False, False, False, False,\n",
       "       False, False, False, False, False])"
      ]
     },
     "execution_count": 28,
     "metadata": {},
     "output_type": "execute_result"
    }
   ],
   "source": [
    "first_visible_wall_chosen"
   ]
  },
  {
   "cell_type": "code",
   "execution_count": 29,
   "id": "0cfe9909-a048-4463-81b1-a4e51ff0ecd3",
   "metadata": {},
   "outputs": [
    {
     "data": {
      "text/plain": [
       "array([False, False, False, False, False, False, False, False, False,\n",
       "       False, False, False, False, False, False, False, False, False,\n",
       "       False, False, False, False, False, False, False, False, False,\n",
       "       False, False, False, False, False, False, False, False, False,\n",
       "       False, False, False, False, False, False, False, False, False,\n",
       "       False, False, False, False, False, False, False, False, False,\n",
       "       False, False, False, False, False, False, False, False, False,\n",
       "       False, False, False, False, False, False, False, False, False,\n",
       "       False, False, False, False, False, False, False, False, False,\n",
       "       False, False, False, False, False, False, False, False, False,\n",
       "       False, False, False, False, False, False, False, False, False,\n",
       "       False, False, False, False, False, False, False, False, False,\n",
       "       False, False, False, False, False, False, False, False, False,\n",
       "       False, False, False, False, False, False, False, False, False,\n",
       "       False, False, False, False, False, False, False, False, False,\n",
       "       False, False, False, False, False, False, False, False, False,\n",
       "       False, False, False, False, False, False, False, False, False,\n",
       "       False, False, False, False, False, False, False, False, False,\n",
       "       False, False, False, False, False, False, False, False, False,\n",
       "       False, False, False, False, False])"
      ]
     },
     "execution_count": 29,
     "metadata": {},
     "output_type": "execute_result"
    }
   ],
   "source": [
    "first_visible_wall_high_not_nan"
   ]
  },
  {
   "cell_type": "code",
   "execution_count": 30,
   "id": "47695909-c8d9-4a7b-841b-1f1c8e92c707",
   "metadata": {},
   "outputs": [],
   "source": [
    "first_visible_wall_low_not_nan = (first_visible_wall_high_not_nan -1) * -1"
   ]
  },
  {
   "cell_type": "code",
   "execution_count": 31,
   "id": "cd4424e7-5ecf-40f7-ae8b-785fcf8d630a",
   "metadata": {},
   "outputs": [
    {
     "data": {
      "text/plain": [
       "(np.False_, np.False_)"
      ]
     },
     "execution_count": 31,
     "metadata": {},
     "output_type": "execute_result"
    }
   ],
   "source": [
    "first_visible_wall_chosen[81], first_visible_wall_high[81]"
   ]
  },
  {
   "cell_type": "code",
   "execution_count": 32,
   "id": "b07edea3-77e0-4343-8a41-f351a8fdf0aa",
   "metadata": {},
   "outputs": [],
   "source": [
    " first_visible_low_and_also_chosen= np.where(\n",
    "                        np.isnan(first_visible_wall_chosen) | np.isnan(first_visible_wall_high),   # If either element is nan\n",
    "                        np.nan,                                           # Set to np.nan\n",
    "                        np.where((first_visible_wall_chosen == 1.) & (first_visible_wall_high == 0.), 1., 0.)  # Else set to 1. or 0.\n",
    ")"
   ]
  },
  {
   "cell_type": "code",
   "execution_count": 33,
   "id": "09cae7ac-1187-47ca-ae4f-8d9b25c01d2b",
   "metadata": {},
   "outputs": [
    {
     "data": {
      "text/plain": [
       "0.0"
      ]
     },
     "execution_count": 33,
     "metadata": {},
     "output_type": "execute_result"
    }
   ],
   "source": [
    "# probability of picking the low wall if the low wall was seen first (loser's inferred choice or winner's choice, single player)\n",
    "first_visible_low_and_also_chosen_not_nan = first_visible_low_and_also_chosen[~np.isnan(first_visible_low_and_also_chosen)]\n",
    "num_walls_first_visible_low = first_visible_wall_low_not_nan[first_visible_wall_low_not_nan==1].size\n",
    "num_walls_first_visible_low_also_chosen = first_visible_low_and_also_chosen_not_nan[first_visible_low_and_also_chosen_not_nan ==1].size\n",
    "num_walls_first_visible_low_also_chosen/num_walls_first_visible_low"
   ]
  },
  {
   "cell_type": "code",
   "execution_count": 34,
   "id": "23b3b3d4-d8e2-4d24-b030-366987b0de0f",
   "metadata": {},
   "outputs": [
    {
     "data": {
      "text/plain": [
       "0"
      ]
     },
     "execution_count": 34,
     "metadata": {},
     "output_type": "execute_result"
    }
   ],
   "source": [
    "first_visible_low_and_also_chosen_not_nan[first_visible_low_and_also_chosen_not_nan ==1].size"
   ]
  },
  {
   "cell_type": "code",
   "execution_count": 35,
   "id": "47fe1c62-fe5c-4b60-a74c-3f546b54e64f",
   "metadata": {},
   "outputs": [
    {
     "data": {
      "text/plain": [
       "176"
      ]
     },
     "execution_count": 35,
     "metadata": {},
     "output_type": "execute_result"
    }
   ],
   "source": [
    "first_visible_low_and_also_chosen_not_nan.size"
   ]
  },
  {
   "cell_type": "code",
   "execution_count": 36,
   "id": "6c276998-44e5-4af8-b62a-0fa64adf7948",
   "metadata": {},
   "outputs": [
    {
     "data": {
      "text/plain": [
       "176"
      ]
     },
     "execution_count": 36,
     "metadata": {},
     "output_type": "execute_result"
    }
   ],
   "source": [
    "first_visible_low_and_also_chosen.size"
   ]
  },
  {
   "cell_type": "code",
   "execution_count": 37,
   "id": "726fb0e9-dc41-46e7-bc16-d1ab3566fcbc",
   "metadata": {},
   "outputs": [
    {
     "data": {
      "text/plain": [
       "array([ 6.,  1.,  3.,  8.,  3.,  2.,  7.,  3.,  6., nan,  1.,  6.,  1.,\n",
       "       nan, nan,  2., nan, nan,  4., nan,  2.,  8., nan, nan,  2.,  4.,\n",
       "       nan,  4., nan, nan,  4., nan,  8.,  6., nan,  3.,  8., nan,  3.,\n",
       "        5., nan, nan, nan, nan,  8.,  8.,  5.,  6.,  8.,  4.,  4.,  1.,\n",
       "       nan,  6.,  7.,  4.,  2.,  6.,  3., nan,  5.,  2.,  3.,  3.,  8.,\n",
       "        4.,  1.,  7.,  1.,  3.,  3.,  1.,  7.,  1.,  2.,  2.,  6.,  5.,\n",
       "        4., nan,  6., nan,  3.,  7.,  8.,  4., nan, nan,  6.,  3., nan,\n",
       "        7.,  7.,  1.,  4.,  6.,  5., nan, nan,  4.,  4.,  6.,  4.,  4.,\n",
       "        4., nan, nan,  5.,  4., nan, nan,  6.,  5., nan,  5.,  6.,  5.,\n",
       "        1.,  1.,  8.,  3., nan,  1.,  5.,  5.,  2.,  5.,  2.,  5.,  3.,\n",
       "        3.,  3., nan,  4.,  5.,  4.,  4.,  8.,  8.,  7.,  7., nan,  7.,\n",
       "       nan, nan,  2.,  1.,  6.,  1.,  5.,  2.,  2.,  7.,  8.,  6.,  2.,\n",
       "        4.,  8.,  8.,  2.,  2.,  1.,  3.,  7.,  2., nan,  6.,  8.,  1.,\n",
       "        7., nan, nan,  1., nan, nan,  3.])"
      ]
     },
     "execution_count": 37,
     "metadata": {},
     "output_type": "execute_result"
    }
   ],
   "source": [
    "player_wall_choice"
   ]
  },
  {
   "cell_type": "code",
   "execution_count": 38,
   "id": "05aef6a1-09e1-405d-92ef-00d57f11ff29",
   "metadata": {},
   "outputs": [],
   "source": [
    "# full logic for identfying first visible and chosen wall for a single player\n",
    "def walls_seen_and_chosen_session(trial_list, player_id, debug=False):\n",
    "    ''' Across a whole session, return 2 arrays:\n",
    "        first_visible_wall_chosen - was the first visible wall on this trial (for this player) chosen?\n",
    "        first_visible_wall_high - was the first visible wall on this trial (for this player) the High wall? \n",
    "        Inferred choice is used here, not just the actual outcome of the trial\n",
    "        Where inferred choice is missing, or there was not exactly one wall visible at the start of a trial, \n",
    "        array elements are np.nan '''\n",
    "    \n",
    "    player_id = player_id\n",
    "    trial_list = trial_list\n",
    "\n",
    "    # filter trial list for HighLow trialtype\n",
    "    trial_indices = get_indices.get_trials_trialtype(trial_list, trial_type=globals.HIGH_LOW)\n",
    "    trial_list = [trial_list[i] for i in trial_indices]\n",
    "    \n",
    "    # we want to find whether the first visible wall was chosen (or 'inferred chosen'), and whether it was the High wall\n",
    "    first_visible_wall_chosen = np.ones(len(trial_list))*2\n",
    "    first_visible_wall_high = np.ones(len(trial_list))*2\n",
    "    \n",
    "    # get the players choice, whether this is empirical, inferred, or nan\n",
    "    player_wall_choice = player_wall_choice_win_or_loss(trial_list, player_id)\n",
    "    \n",
    "    for i in range(len(trial_list)):\n",
    "        \n",
    "        # get the walls for this trial\n",
    "        trial = trial_list[i]\n",
    "        walls = get_indices.get_walls(trial=trial)\n",
    "        wall1 = walls[0]\n",
    "        wall2 = walls[1]\n",
    "    \n",
    "        # wall_visible array for this trial \n",
    "        # boolean array of which walls are visible at each timepoint\n",
    "        this_player_this_trial_wall_visible = get_wall_visible(trial_list, i, player_id, current_fov=110.36)\n",
    "        \n",
    "        # check for wall1 and wall2 being visible at the start of the trial\n",
    "        (this_player_this_trial_wall1_visible,\n",
    "         this_player_this_trial_wall2_visible) = trajectory_headangle.wall_visibility_player_slice_onset(this_player_this_trial_wall_visible,\n",
    "                                                                                    trial)\n",
    "        \n",
    "        # identify which wall first becomes visible in the trial (could alternatively be neither, or both visible at the start)\n",
    "        this_player_this_trial_first_visible_wall = trajectory_headangle.which_wall_becomes_visible_first(this_player_this_trial_wall_visible,\n",
    "                                                                                                             this_player_this_trial_wall1_visible,\n",
    "                                                                                                             this_player_this_trial_wall2_visible,\n",
    "                                                                                                             trial)\n",
    "        if debug:\n",
    "            print(f\" first vis wall of trial for player: {this_player_this_trial_first_visible_wall}\")\n",
    "    \n",
    "        # stop analysis if there is the player never sees walls or sees both at once. Set output as NaN\n",
    "        if this_player_this_trial_first_visible_wall == 'neither' or this_player_this_trial_first_visible_wall == 'both':\n",
    "            # set values in array to np.nan if both or neither wall are visible at the start of the trial\n",
    "            if debug:\n",
    "                print(\"neither or both\")\n",
    "            first_visible_wall_high[i] = np.nan\n",
    "            first_visible_wall_chosen[i] = np.nan\n",
    "            this_player_this_trial_first_visible_wall_chosen = np.nan\n",
    "    \n",
    "        # condition: only one wall initially visible\n",
    "        else:\n",
    "            # check which wall is visible initially\n",
    "            if this_player_this_trial_first_visible_wall == 'wall1':\n",
    "                first_visible_wall_high[i] = 1\n",
    "                this_player_this_trial_first_visible_wall_num = wall1\n",
    "            elif this_player_this_trial_first_visible_wall == 'wall2':\n",
    "                first_visible_wall_high[i] = 0\n",
    "                this_player_this_trial_first_visible_wall_num = wall2\n",
    "            else:\n",
    "                raise ValueError(\"value must be either wall1, wall2, neither, or both\")\n",
    "    \n",
    "            # check whether player choice can be retrieved\n",
    "            if np.isnan(player_wall_choice[i]):\n",
    "                # set values in array to np.nan if there is no choice available\n",
    "                first_visible_wall_high[i] = np.nan\n",
    "                first_visible_wall_chosen[i] = np.nan\n",
    "                this_player_this_trial_first_visible_wall_chosen = np.nan\n",
    "                if debug:\n",
    "                    print(\"not confident in loser's choice\")\n",
    "                    print(f\" first_vis_wall_chosen: {first_visible_wall_chosen[i]}, first_vis_wall_high: {first_visible_wall_high[i]}\")\n",
    "            \n",
    "            else: # player choice is retrievable\n",
    "                this_player_this_trial_first_visible_wall_chosen = True if player_wall_choice[i] == this_player_this_trial_first_visible_wall_num else False\n",
    "                first_visible_wall_chosen[i] = this_player_this_trial_first_visible_wall_chosen\n",
    "        if debug:\n",
    "            print(f\" first_vis_wall_chosen: {first_visible_wall_chosen[i]}, first_vis_wall_high: {first_visible_wall_high[i]}\")\n",
    "            print(f\" player_wall_choice[i]: {player_wall_choice[i]}\")\n",
    "            print(f\" this_player_this_trial_first_visible_wall_chosen: {this_player_this_trial_first_visible_wall_chosen}, high wall: {wall1}\")\n",
    "\n",
    "    return first_visible_wall_chosen, first_visible_wall_high"
   ]
  },
  {
   "cell_type": "code",
   "execution_count": 39,
   "id": "3c58ba9c-27c0-4fc6-93a1-e988c249817b",
   "metadata": {},
   "outputs": [
    {
     "ename": "NameError",
     "evalue": "name 'get_trials_trialtype' is not defined",
     "output_type": "error",
     "traceback": [
      "\u001b[1;31m---------------------------------------------------------------------------\u001b[0m",
      "\u001b[1;31mNameError\u001b[0m                                 Traceback (most recent call last)",
      "Cell \u001b[1;32mIn[39], line 1\u001b[0m\n\u001b[1;32m----> 1\u001b[0m first_visible_wall_chosen, first_visible_wall_high \u001b[38;5;241m=\u001b[39m \u001b[43mwalls_seen_and_chosen_session\u001b[49m\u001b[43m(\u001b[49m\u001b[43mtrial_list\u001b[49m\u001b[43m,\u001b[49m\u001b[43m \u001b[49m\u001b[43mplayer_id\u001b[49m\u001b[38;5;241;43m=\u001b[39;49m\u001b[38;5;241;43m0\u001b[39;49m\u001b[43m)\u001b[49m\n",
      "Cell \u001b[1;32mIn[38], line 14\u001b[0m, in \u001b[0;36mwalls_seen_and_chosen_session\u001b[1;34m(trial_list, player_id, debug)\u001b[0m\n\u001b[0;32m     11\u001b[0m trial_list \u001b[38;5;241m=\u001b[39m trial_list\n\u001b[0;32m     13\u001b[0m \u001b[38;5;66;03m# filter trial list for HighLow trialtype\u001b[39;00m\n\u001b[1;32m---> 14\u001b[0m trial_indices \u001b[38;5;241m=\u001b[39m \u001b[43mget_trials_trialtype\u001b[49m(trial_list, trial_type\u001b[38;5;241m=\u001b[39m\u001b[38;5;28mglobals\u001b[39m\u001b[38;5;241m.\u001b[39mHIGH_LOW)\n\u001b[0;32m     15\u001b[0m trial_list \u001b[38;5;241m=\u001b[39m [trial_list[i] \u001b[38;5;28;01mfor\u001b[39;00m i \u001b[38;5;129;01min\u001b[39;00m trial_indices]\n\u001b[0;32m     17\u001b[0m \u001b[38;5;66;03m# we want to find whether the first visible wall was chosen (or 'inferred chosen'), and whether it was the High wall\u001b[39;00m\n",
      "\u001b[1;31mNameError\u001b[0m: name 'get_trials_trialtype' is not defined"
     ]
    }
   ],
   "source": [
    "%%capture  \n",
    "first_visible_wall_chosen, first_visible_wall_high = walls_seen_and_chosen_session(trial_list, player_id=0)"
   ]
  },
  {
   "cell_type": "code",
   "execution_count": 40,
   "id": "bc8abc34-f99d-47a5-b106-ca5a2757e569",
   "metadata": {},
   "outputs": [
    {
     "data": {
      "text/plain": [
       "(array([False, False, False, False, False, False, False, False, False,\n",
       "        False, False, False, False, False, False, False, False, False,\n",
       "        False, False, False, False, False, False, False, False, False,\n",
       "        False, False, False, False, False, False, False, False, False,\n",
       "        False, False, False, False, False, False, False, False, False,\n",
       "        False, False, False, False, False, False, False, False, False,\n",
       "        False, False, False, False, False, False, False, False, False,\n",
       "        False, False, False, False, False, False, False, False, False,\n",
       "        False, False, False, False, False, False, False, False, False,\n",
       "        False, False, False, False, False, False, False, False, False,\n",
       "        False, False, False, False, False, False, False, False, False,\n",
       "        False, False, False, False, False, False, False, False, False,\n",
       "        False, False, False, False, False, False, False, False, False,\n",
       "        False, False, False, False, False, False, False, False, False,\n",
       "        False, False, False, False, False, False, False, False, False,\n",
       "        False, False, False, False, False, False, False, False, False,\n",
       "        False, False, False, False, False, False, False, False, False,\n",
       "        False, False, False, False, False, False, False, False, False,\n",
       "        False, False, False, False, False, False, False, False, False,\n",
       "        False, False, False, False, False]),\n",
       " array([False, False, False, False, False, False, False, False, False,\n",
       "        False, False, False, False, False, False, False, False, False,\n",
       "        False, False, False, False, False, False, False, False, False,\n",
       "        False, False, False, False, False, False, False, False, False,\n",
       "        False, False, False, False, False, False, False, False, False,\n",
       "        False, False, False, False, False, False, False, False, False,\n",
       "        False, False, False, False, False, False, False, False, False,\n",
       "        False, False, False, False, False, False, False, False, False,\n",
       "        False, False, False, False, False, False, False, False, False,\n",
       "        False, False, False, False, False, False, False, False, False,\n",
       "        False, False, False, False, False, False, False, False, False,\n",
       "        False, False, False, False, False, False, False, False, False,\n",
       "        False, False, False, False, False, False, False, False, False,\n",
       "        False, False, False, False, False, False, False, False, False,\n",
       "        False, False, False, False, False, False, False, False, False,\n",
       "        False, False, False, False, False, False, False, False, False,\n",
       "        False, False, False, False, False, False, False, False, False,\n",
       "        False, False, False, False, False, False, False, False, False,\n",
       "        False, False, False, False, False, False, False, False, False,\n",
       "        False, False, False, False, False]))"
      ]
     },
     "execution_count": 40,
     "metadata": {},
     "output_type": "execute_result"
    }
   ],
   "source": [
    "first_visible_wall_chosen, first_visible_wall_high"
   ]
  },
  {
   "cell_type": "code",
   "execution_count": 41,
   "id": "cce900b1-0d4a-4672-8bde-f2bf3abccf63",
   "metadata": {},
   "outputs": [],
   "source": [
    "## LOOP THROUGH ALL DATA AND GET PROBABILITY "
   ]
  },
  {
   "cell_type": "code",
   "execution_count": 42,
   "id": "a4f03048-d4fc-4c7e-89c8-9c88a22c90ad",
   "metadata": {},
   "outputs": [],
   "source": [
    "# paths\n",
    "# data_folder = '/home/tom/Documents/SWC/data' # desktop Duan Lab\n",
    "data_folder = r'D:\\Users\\Tom\\OneDrive\\PhD\\SWC\\data' # desktop home\n",
    "# data_folder = r'C:\\Users\\tomha\\OneDrive\\PhD\\SWC\\data' # octagon laptop\n",
    "\n",
    "# all socials\n",
    "json_filenames_all = [r'first_experiments_2409\\240913\\2024-09-13_11-31-00_YansuJerrySocial.json',\n",
    "               r'second_experiments_2409\\240927\\2024-09-27_14-25-20_SaraEmilySocial.json',\n",
    "               r'third_experiments_2410\\241017\\2024-10-17_14-28-40_ShamirAbigailSocial.json',\n",
    "               r'fourth_experiments_2410\\241017\\2024-10-17_16-41-38_ZimoElsaSocial.json']"
   ]
  },
  {
   "cell_type": "code",
   "execution_count": 43,
   "id": "6520c5a5-f88f-43ab-943a-003cf922cfda",
   "metadata": {},
   "outputs": [],
   "source": [
    "import os"
   ]
  },
  {
   "cell_type": "code",
   "execution_count": 44,
   "id": "556c6fb0-ba4b-4f59-9f90-27adbf5fcfd6",
   "metadata": {},
   "outputs": [
    {
     "name": "stdout",
     "output_type": "stream",
     "text": [
      "0\n",
      "first_experiments_2409\\240913\\2024-09-13_11-31-00_YansuJerrySocial.json\n",
      "1\n",
      "second_experiments_2409\\240927\\2024-09-27_14-25-20_SaraEmilySocial.json\n",
      "2\n",
      "third_experiments_2410\\241017\\2024-10-17_14-28-40_ShamirAbigailSocial.json\n",
      "3\n",
      "fourth_experiments_2410\\241017\\2024-10-17_16-41-38_ZimoElsaSocial.json\n"
     ]
    }
   ],
   "source": [
    "for json_filenames_index in range(len(json_filenames_all)):\n",
    "    print(json_filenames_index)\n",
    "    json_filenames = json_filenames_all[json_filenames_index]\n",
    "    print(json_filenames)"
   ]
  },
  {
   "cell_type": "code",
   "execution_count": 45,
   "id": "1ea84df0-ae1d-4929-ab48-eed6650540bf",
   "metadata": {},
   "outputs": [
    {
     "name": "stdout",
     "output_type": "stream",
     "text": [
      "D:\\Users\\Tom\\OneDrive\\PhD\\SWC\\data\\first_experiments_2409\\240913\\2024-09-13_11-31-00_YansuJerrySocial.json\n",
      "filepath: D:\\Users\\Tom\\OneDrive\\PhD\\SWC\\data\\first_experiments_2409\\240913\\2024-09-13_11-31-00_YansuJerrySocial.json\n",
      "Data is from period before 2024-09-13 00:00:00\n",
      "Running dataframe through playerinfo_playerposition_conversion.\n",
      "Loading complete.\n",
      "Preprocessing complete.\n",
      "129\n"
     ]
    },
    {
     "ename": "NameError",
     "evalue": "name 'get_trials_trialtype' is not defined",
     "output_type": "error",
     "traceback": [
      "\u001b[1;31m---------------------------------------------------------------------------\u001b[0m",
      "\u001b[1;31mNameError\u001b[0m                                 Traceback (most recent call last)",
      "Cell \u001b[1;32mIn[45], line 12\u001b[0m\n\u001b[0;32m     10\u001b[0m \u001b[38;5;28;01mfor\u001b[39;00m player_id \u001b[38;5;129;01min\u001b[39;00m \u001b[38;5;28mrange\u001b[39m(\u001b[38;5;241m2\u001b[39m):\n\u001b[0;32m     11\u001b[0m     \u001b[38;5;28mprint\u001b[39m(\u001b[38;5;28mlen\u001b[39m(trials_list2))\n\u001b[1;32m---> 12\u001b[0m     first_visible_wall_chosen, first_visible_wall_high \u001b[38;5;241m=\u001b[39m \u001b[43mwalls_seen_and_chosen_session\u001b[49m\u001b[43m(\u001b[49m\u001b[43mtrials_list2\u001b[49m\u001b[43m,\u001b[49m\u001b[43m \u001b[49m\u001b[43mplayer_id\u001b[49m\u001b[38;5;241;43m=\u001b[39;49m\u001b[43mplayer_id\u001b[49m\u001b[43m)\u001b[49m\n\u001b[0;32m     14\u001b[0m     \u001b[38;5;66;03m# quick detour to get the probability of choosing the first visible wall\u001b[39;00m\n\u001b[0;32m     15\u001b[0m     first_visible_wall_chosen_not_nan\u001b[38;5;241m=\u001b[39m first_visible_wall_chosen[\u001b[38;5;241m~\u001b[39mnp\u001b[38;5;241m.\u001b[39misnan(first_visible_wall_chosen)]\n",
      "Cell \u001b[1;32mIn[38], line 14\u001b[0m, in \u001b[0;36mwalls_seen_and_chosen_session\u001b[1;34m(trial_list, player_id, debug)\u001b[0m\n\u001b[0;32m     11\u001b[0m trial_list \u001b[38;5;241m=\u001b[39m trial_list\n\u001b[0;32m     13\u001b[0m \u001b[38;5;66;03m# filter trial list for HighLow trialtype\u001b[39;00m\n\u001b[1;32m---> 14\u001b[0m trial_indices \u001b[38;5;241m=\u001b[39m \u001b[43mget_trials_trialtype\u001b[49m(trial_list, trial_type\u001b[38;5;241m=\u001b[39m\u001b[38;5;28mglobals\u001b[39m\u001b[38;5;241m.\u001b[39mHIGH_LOW)\n\u001b[0;32m     15\u001b[0m trial_list \u001b[38;5;241m=\u001b[39m [trial_list[i] \u001b[38;5;28;01mfor\u001b[39;00m i \u001b[38;5;129;01min\u001b[39;00m trial_indices]\n\u001b[0;32m     17\u001b[0m \u001b[38;5;66;03m# we want to find whether the first visible wall was chosen (or 'inferred chosen'), and whether it was the High wall\u001b[39;00m\n",
      "\u001b[1;31mNameError\u001b[0m: name 'get_trials_trialtype' is not defined"
     ]
    }
   ],
   "source": [
    "probability_first_wall_chosen_array = np.zeros((len(json_filenames_all),2))\n",
    "probability_first_wall_chosen_when_low_array = np.zeros((len(json_filenames_all),2))\n",
    "times_first_wall_chosen_when_low_array = np.zeros((len(json_filenames_all),2))\n",
    "\n",
    "\n",
    "for json_filenames_index in range(len(json_filenames_all)):\n",
    "    json_filenames = json_filenames_all[json_filenames_index]\n",
    "    print(data_folder + os.sep + json_filenames)\n",
    "    df2, trials_list2 = prepare_data.prepare_data(data_folder, [json_filenames])\n",
    "    for player_id in range(2):\n",
    "        print(len(trials_list2))\n",
    "        first_visible_wall_chosen, first_visible_wall_high = walls_seen_and_chosen_session(trials_list2, player_id=player_id)\n",
    "\n",
    "        # quick detour to get the probability of choosing the first visible wall\n",
    "        first_visible_wall_chosen_not_nan= first_visible_wall_chosen[~np.isnan(first_visible_wall_chosen)]\n",
    "        num_first_visible_wall_chosen = first_visible_wall_chosen_not_nan[first_visible_wall_chosen_not_nan == 1].size\n",
    "        probability_first_wall_chosen_array[json_filenames_index, player_id] = num_first_visible_wall_chosen/first_visible_wall_chosen_not_nan.size\n",
    "        # print(first_visible_wall_chosen)\n",
    "        \n",
    "        probability_first_wall_chosen_when_low, times_first_wall_chosen_when_low = probability_first_visible_wall_chosen_and_low(first_visible_wall_chosen, first_visible_wall_high)\n",
    "        probability_first_wall_chosen_when_low_array[json_filenames_index, player_id] = probability_first_wall_chosen_when_low\n",
    "        times_first_wall_chosen_when_low_array[json_filenames_index, player_id] = times_first_wall_chosen_when_low"
   ]
  },
  {
   "cell_type": "code",
   "execution_count": null,
   "id": "db9dd395-6a69-49fa-8e47-2e34a72658cf",
   "metadata": {},
   "outputs": [],
   "source": [
    "probability_first_wall_chosen_array"
   ]
  },
  {
   "cell_type": "code",
   "execution_count": null,
   "id": "0c101667-7f79-433b-b461-73c2df41e5e7",
   "metadata": {},
   "outputs": [],
   "source": [
    "probability_first_wall_chosen_when_low_array"
   ]
  },
  {
   "cell_type": "code",
   "execution_count": null,
   "id": "b6e6ea2f-f2ff-4349-8655-f9b66c84bf3c",
   "metadata": {},
   "outputs": [],
   "source": [
    "times_first_wall_chosen_when_low_array"
   ]
  },
  {
   "cell_type": "code",
   "execution_count": null,
   "id": "ab7e12ac-486e-4832-b55b-6d36babac37e",
   "metadata": {},
   "outputs": [],
   "source": [
    "## Should also create an array of the number of trials that the player saw low and a choice was recorded\n",
    "## then just get the proportion of score for each player\n",
    "## plot probability of first wall being chosen when low against proportion of score"
   ]
  },
  {
   "cell_type": "code",
   "execution_count": null,
   "id": "9693d689-3aef-4479-8da2-f8ee7f24a91d",
   "metadata": {},
   "outputs": [],
   "source": [
    "probability_first_wall_chosen_when_low = probability_first_visible_wall_chosen_and_low(first_visible_wall_chosen, first_visible_wall_high)"
   ]
  },
  {
   "cell_type": "code",
   "execution_count": null,
   "id": "538dd6d6-a5ee-4c6c-ab4a-6c62c991ee6c",
   "metadata": {},
   "outputs": [],
   "source": [
    "import numpy as np\n",
    "import pandas as pd\n",
    "import seaborn as sns\n",
    "import matplotlib.pyplot as plt\n",
    "from matplotlib.cm import get_cmap\n",
    "\n",
    "\n",
    "# Data arrays\n",
    "first_wall_seen = np.array([\n",
    "    [0.76923077, 0.75490196],\n",
    "    [0.78378378, 0.67088608],\n",
    "    [0.609375, 0.85714286],\n",
    "    [0.69911504, 0.78014184]\n",
    "])\n",
    "\n",
    "first_wall_low = np.array([\n",
    "    [0.75, 0.73913043],\n",
    "    [0.86363636, 0.53846154],\n",
    "    [0.46428571, 0.82051282],\n",
    "    [0.70689655, 0.671875]\n",
    "])\n",
    "\n",
    "# Reshape data and create labels\n",
    "data = np.concatenate([first_wall_seen.flatten(), first_wall_low.flatten()])\n",
    "labels = [\"First Wall Seen\"] * first_wall_seen.size + [\"First Wall Seen (Low)\"] * first_wall_low.size\n",
    "\n",
    "# Create DataFrame for Seaborn\n",
    "df = pd.DataFrame({\n",
    "    \"Probability\": data,\n",
    "    \"Condition\": labels\n",
    "})\n",
    "\n",
    "# Generate distinct colors for each individual\n",
    "colors = plt.cm.viridis(np.linspace(0, 1, (first_wall_seen).size))\n",
    "\n",
    "# Plot\n",
    "plt.figure(figsize=(8, 5))\n",
    "sns.boxplot(x=\"Condition\", y=\"Probability\", data=df, palette=\"Paired\")\n",
    "# Draw lines connecting paired data points\n",
    "for i in range(first_wall_seen.size):\n",
    "    plt.plot(\n",
    "        [\"First Wall Seen\", \"First Wall Seen (Low)\"],  # x-coordinates\n",
    "        [first_wall_seen.ravel()[i], first_wall_low.ravel()[i]],  # y-coordinates (mean of each pair)\n",
    "        color='k',  # Get color from colormap\n",
    "        linestyle='-',  # Solid line\n",
    "        marker='x',  # Marker for the endpoints\n",
    "        linewidth=1\n",
    "    )\n",
    "\n",
    "# plt.title(\"Probability of Choosing First Wall Seen vs. First Wall Seen (Low)\")\n",
    "plt.ylabel(\"P(Choose first wall seen)\")\n",
    "plt.xlabel(\"\")\n",
    "plt.ylim(0.3, 1)  # Set y-axis limits for probabilities\n",
    "plt.gca().set_aspect(3)\n",
    "\n",
    "# Remove top and bottom spines\n",
    "plt.gca().spines['top'].set_visible(False)\n",
    "plt.gca().spines['right'].set_visible(False)\n",
    "\n",
    "plt.show()"
   ]
  }
 ],
 "metadata": {
  "kernelspec": {
   "display_name": "Python 3 (ipykernel)",
   "language": "python",
   "name": "python3"
  },
  "language_info": {
   "codemirror_mode": {
    "name": "ipython",
    "version": 3
   },
   "file_extension": ".py",
   "mimetype": "text/x-python",
   "name": "python",
   "nbconvert_exporter": "python",
   "pygments_lexer": "ipython3",
   "version": "3.12.5"
  }
 },
 "nbformat": 4,
 "nbformat_minor": 5
}
