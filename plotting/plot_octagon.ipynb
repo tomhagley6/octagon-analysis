{
 "cells": [
  {
   "cell_type": "code",
   "execution_count": 29,
   "id": "53637e0e-30ba-4999-ba1e-7c44f0af6459",
   "metadata": {},
   "outputs": [],
   "source": [
    "import math\n",
    "import numpy as np\n",
    "from matplotlib import pyplot as plt"
   ]
  },
  {
   "cell_type": "code",
   "execution_count": 30,
   "id": "a7749956",
   "metadata": {},
   "outputs": [],
   "source": [
    "# default arguments\n",
    "num_walls = 8\n",
    "diameter = 36.21\n",
    "radius = diameter/2\n",
    "angle_sep = 2*math.pi/num_walls  # angle between walls\n",
    "vertex_offset = angle_sep/2      # angular distance between centre-wall and vertex \n",
    "\n",
    "# alcoves\n",
    "alcove_length_scaled = 3.0       # depth of alcove in Blender/Unity units after scaling \n",
    "                                 # of Octagon in Unity\n",
    "alcove_length_axis_projection = (alcove_length_scaled*math.sin(math.pi/4))/math.sin(math.pi/2) # Sin rule to find x and y coordinate\n",
    "                                                                                               # offset from values in vertex_x/y\n",
    "                                                                                               # This is the projection of the diagonal\n",
    "                                                                                               # alcove walls onto the x and y axis"
   ]
  },
  {
   "cell_type": "code",
   "execution_count": 31,
   "id": "e157cbbd-ec31-4a74-ba54-b5438752eeb8",
   "metadata": {},
   "outputs": [],
   "source": [
    "## Functions ##"
   ]
  },
  {
   "cell_type": "code",
   "execution_count": 32,
   "id": "d081e7b4-65dc-471c-8e2d-a77f8b52cad5",
   "metadata": {},
   "outputs": [],
   "source": [
    "# coordinate generation # "
   ]
  },
  {
   "cell_type": "code",
   "execution_count": 33,
   "id": "0ca1b316-da53-4cbf-85f1-ebdb312db96a",
   "metadata": {},
   "outputs": [],
   "source": [
    "# this will return lists of x and y coordinates, for vertices if vertex=True, and for\n",
    "# wall centres if vertex=False\n",
    "def calculate_coordinates(vertex=True, angle_sep=angle_sep, vertex_offset=vertex_offset, num_walls=num_walls, radius=radius):\n",
    "    coords_x = []\n",
    "    coords_y = []\n",
    "    # offset the angle to find vertex coordinates\n",
    "    ang_offset = vertex_offset if vertex else 0\n",
    "    \n",
    "    for i in range(num_walls):\n",
    "        ang = i*angle_sep\n",
    "        # find the value of the x-coordinate on the unit circle, scaled by radius\n",
    "        coord = math.sin(ang + ang_offset)*radius  \n",
    "        coords_x.append(coord)\n",
    "    coords_x.append(coords_x[0]) # repeat starting point for plotting\n",
    "    \n",
    "    # for vertex coordinates: y\n",
    "    for i in range(num_walls):\n",
    "        ang = i*angle_sep\n",
    "        # find the value of the y-coordinate on the unit circle, scaled by radius\n",
    "        coord = math.cos(ang + ang_offset)*radius\n",
    "        coords_y.append(coord)\n",
    "    coords_y.append(coords_y[0]) # repeat starting point for plotting\n",
    "\n",
    "    return [coords_x, coords_y]"
   ]
  },
  {
   "cell_type": "code",
   "execution_count": 34,
   "id": "00b0ea93-1379-4c20-9d96-36d1173f8a86",
   "metadata": {},
   "outputs": [],
   "source": [
    "# find 1/3 and 2/3 coordinates along each wall\n",
    "def calculate_wall_thirds_coordinates(vertex_x, vertex_y):\n",
    "\n",
    "    # use linear interpolation to find 1/3 and 2/3 coordinates for each wall (16 points)\n",
    "    wall_one_third_x = []\n",
    "    wall_one_third_y = []\n",
    "    for i in range(num_walls):\n",
    "        wall_one_third_x.append((2/3)*vertex_x[i] + (1/3)*vertex_x[i+1])\n",
    "        wall_one_third_y.append((2/3)*vertex_y[i] + (1/3)*vertex_y[i+1])\n",
    "    \n",
    "    wall_two_thirds_x = []\n",
    "    wall_two_thirds_y = []\n",
    "    for i in range(num_walls):\n",
    "        wall_two_thirds_x.append((1/3)*vertex_x[i] + (2/3)*vertex_x[i+1])\n",
    "        wall_two_thirds_y.append((1/3)*vertex_y[i] + (2/3)*vertex_y[i+1])\n",
    "    \n",
    "    # interleave the one-thirds and two-thirds lists\n",
    "    # first zip them together and then flatten the pairs\n",
    "    lists_x = [wall_one_third_x, wall_two_thirds_x]\n",
    "    wall_thirds_x = [val for tup in zip(*lists_x) for val in tup] \n",
    "    \n",
    "    # repeat for y\n",
    "    lists_y = [wall_one_third_y, wall_two_thirds_y]\n",
    "    wall_thirds_y = [val for tup in zip(*lists_y) for val in tup] \n",
    "\n",
    "    return [wall_thirds_x, wall_thirds_y]"
   ]
  },
  {
   "cell_type": "code",
   "execution_count": 35,
   "id": "d957db2d-cc28-4728-9b6f-736321024b8c",
   "metadata": {},
   "outputs": [],
   "source": [
    "# generate alcove end-points\n",
    "def generate_alcove_endpoints(vertex_x_thirds, vertex_y_thirds, alcove_length_scaled=alcove_length_scaled,\n",
    "                              alcove_length_axis_projection=alcove_length_axis_projection):\n",
    "    \n",
    "    # create lists for alcove x and y coordinates, for diagonal and horizontal walls\n",
    "    alcove_x_coords_diag = []\n",
    "    alcove_x_coords_hori_vert = []\n",
    "    alcove_y_coords_diag = []\n",
    "    alcove_y_coords_hori_vert = []\n",
    "    \n",
    "    # scale coordinate values by quadrant signs (going clockwise)\n",
    "    # for diagonal walls\n",
    "    x_axis_quadrant_coeff_diag = [1,1,-1,-1]\n",
    "    y_axis_quadrant_coeff_diag = [1,-1,-1,1]\n",
    "    \n",
    "    # for horizontal/vertical walls\n",
    "    x_axis_quadrant_coeff_hori_vert = [1,0,-1,0]\n",
    "    y_axis_quadrant_coeff_hori_vert = [0,-1,0,1]\n",
    "    \n",
    "    # loop through each diagonal wall and generate coefficient-scaled coordinate values for x and y\n",
    "    # by taking the initial coordinate and adding the alcove projection length, quadrant sign-scaled \n",
    "    for i in range(0,len(vertex_x_thirds),4): # step by 4 to iter through diagonal walls\n",
    "        \n",
    "        # for x coordinates\n",
    "        x_coordinate_delta = alcove_length_axis_projection*x_axis_quadrant_coeff_diag[int(i/4)]\n",
    "        alcove_x_coords_diag.append([vertex_x_thirds[i] + x_coordinate_delta,\n",
    "                                     vertex_x_thirds[i+1] + x_coordinate_delta])\n",
    "        \n",
    "        # for y coordinates\n",
    "        y_coordinate_delta = alcove_length_axis_projection*y_axis_quadrant_coeff_diag[int(i/4)]\n",
    "        alcove_y_coords_diag.append([vertex_y_thirds[i] + y_coordinate_delta,\n",
    "                                     vertex_y_thirds[i+1] + y_coordinate_delta]) \n",
    "    \n",
    "    \n",
    "    # loop through each hori/vert wall and generate coefficient-scaled coordinate values for x and y\n",
    "    # by taking the initial coordinate and adding the alcove projection length, quadrant sign-scaled \n",
    "    for i in range(2,len(vertex_x_thirds),4): # step by 4 to iter through horizontal/vertical walls\n",
    "    \n",
    "        # for x coordinates\n",
    "        x_coordinate_delta = alcove_length_scaled*x_axis_quadrant_coeff_hori_vert[int(i/4)]\n",
    "        alcove_x_coords_hori_vert.append([vertex_x_thirds[i] + x_coordinate_delta,\n",
    "                                          vertex_x_thirds[i+1] + x_coordinate_delta])\n",
    "    \n",
    "        # for y coordinates\n",
    "        y_coordinate_delta = alcove_length_scaled*y_axis_quadrant_coeff_hori_vert[int(i/4)]\n",
    "        alcove_y_coords_hori_vert.append([vertex_y_thirds[i] + y_coordinate_delta,\n",
    "                                          vertex_y_thirds[i+1] + y_coordinate_delta])\n",
    "    \n",
    "    # interleave the vertical and horizontal coordinates\n",
    "    x_lists = [alcove_x_coords_diag, alcove_x_coords_hori_vert]\n",
    "    alcove_x_coords = [val for tup in zip(*x_lists) for val in tup]   \n",
    "    \n",
    "    y_lists = [alcove_y_coords_diag, alcove_y_coords_hori_vert]\n",
    "    alcove_y_coords = [val for tup in zip(*y_lists) for val in tup]  \n",
    "    \n",
    "    # flatten the interleaved lists\n",
    "    alcove_x_coords = [val for tup in alcove_x_coords for val in tup]\n",
    "    alcove_y_coords = [val for tup in alcove_y_coords for val in tup]\n",
    "\n",
    "    return [alcove_x_coords, alcove_y_coords]"
   ]
  },
  {
   "cell_type": "code",
   "execution_count": 36,
   "id": "3b6f8dcc-c359-4dc8-96c2-f7d8f6f934cc",
   "metadata": {},
   "outputs": [],
   "source": [
    "# concatenate all of the coordinate lists together in order\n",
    "\n",
    "def concatenate_all_coord_lists(vertex_x, vertex_x_thirds, alcove_x_coords,\n",
    "                                vertex_y, vertex_y_thirds, alcove_y_coords):\n",
    "    \n",
    "    final_x_coords = []\n",
    "    i,j,k = 0,0,0\n",
    "\n",
    "    # using separate counters for vertex, wall thirds, and alcove coordinate lists,\n",
    "    # append them to the final x coordinate list in the correct order\n",
    "    while i < len(vertex_x) and j < len(vertex_x_thirds) and k < len(alcove_x_coords):\n",
    "        final_x_coords.append(vertex_x[i])\n",
    "        i+=1\n",
    "    \n",
    "        final_x_coords.append(vertex_x_thirds[j])\n",
    "        j+=1\n",
    "    \n",
    "        final_x_coords.extend(alcove_x_coords[k:k+2])\n",
    "        k+=2\n",
    "    \n",
    "        final_x_coords.append(vertex_x_thirds[j])\n",
    "        j+=1\n",
    "    \n",
    "    final_x_coords.append(vertex_x[0]) # repeat initial point to complete the line when plotting\n",
    "\n",
    "    # repeat for y\n",
    "    final_y_coords = []\n",
    "    i,j,k = 0,0,0\n",
    "\n",
    "    # using separate counters for vertex, wall thirds, and alcove coordinate lists,\n",
    "    # append them to the final x coordinate list in the correct order\n",
    "    while i < len(vertex_y) and j < len(vertex_y_thirds) and k < len(alcove_y_coords):\n",
    "        final_y_coords.append(vertex_y[i])\n",
    "        i+=1\n",
    "    \n",
    "        final_y_coords.append(vertex_y_thirds[j])\n",
    "        j+=1\n",
    "    \n",
    "        final_y_coords.extend(alcove_y_coords[k:k+2])\n",
    "        k+=2\n",
    "    \n",
    "        final_y_coords.append(vertex_y_thirds[j])\n",
    "        j+=1\n",
    "    \n",
    "    final_y_coords.append(vertex_y[0]) # repeat initial point to complete the line when plotting\n",
    "\n",
    "    return [final_x_coords, final_y_coords]\n"
   ]
  },
  {
   "cell_type": "code",
   "execution_count": 37,
   "id": "9428b1d0-27fd-444e-ba40-a82fb62f0aaf",
   "metadata": {},
   "outputs": [],
   "source": [
    "# plotting # "
   ]
  },
  {
   "cell_type": "code",
   "execution_count": 22,
   "id": "d6dd9a47-6bd1-4977-aab4-eab889098686",
   "metadata": {},
   "outputs": [],
   "source": [
    "# plot the full alcove octagon outline shape\n",
    "def plot_octagon_from_coords(x_coords, y_coords, ax=None):\n",
    "\n",
    "    if ax is None:\n",
    "        fig, ax = plt.subplots()\n",
    "        ax.plot(x_coords, y_coords)\n",
    "        ax.set_aspect(1.)\n",
    "\n",
    "    return ax "
   ]
  },
  {
   "cell_type": "code",
   "execution_count": 20,
   "id": "8ab40c3b-8f7e-4582-b9cf-5e3136500679",
   "metadata": {},
   "outputs": [],
   "source": [
    "# plot all coordinates, including the wall thirds points\n",
    "def plot_all_octagon_coordinates(vertex_x, wall_thirds_x, alcoves_x,\n",
    "                                 vertex_y, wall_thirds_y, alcoves_y,\n",
    "                                ax=None):\n",
    "\n",
    "    if ax is None:\n",
    "        fig, ax = plt.subplots()\n",
    "        ax.plot(vertex_x, vertex_y)\n",
    "        ax.plot(wall_thirds_x, wall_thirds_y)\n",
    "        ax.scatter(alcoves_x, alcoves_y)\n",
    "        ax.gca().set_aspect(1.)\n",
    "\n",
    "        return ax"
   ]
  },
  {
   "cell_type": "code",
   "execution_count": 40,
   "id": "cdfa1377-21fa-4d86-afdc-aaf9067df4d4",
   "metadata": {},
   "outputs": [],
   "source": [
    "## Execution ## "
   ]
  },
  {
   "cell_type": "code",
   "execution_count": 18,
   "id": "f963ba20-c969-4cde-8b26-b2f62d15d3a2",
   "metadata": {},
   "outputs": [],
   "source": [
    "# umbrella function\n",
    "def plot_octagon():\n",
    "    # get vertex coordinates\n",
    "    vertex_x, vertex_y = calculate_coordinates(vertex=True)\n",
    "\n",
    "    # get coordinates for the points 1/3 and 2/3 along each wall\n",
    "    wall_thirds_x, wall_thirds_y = calculate_wall_thirds_coordinates(vertex_x, vertex_y)\n",
    "\n",
    "    # get coordinates for the alcove endpoints\n",
    "    alcove_x, alcove_y = generate_alcove_endpoints(wall_thirds_x, wall_thirds_y, alcove_length_axis_projection)\n",
    "\n",
    "    # concatenate all coordinate lists together\n",
    "    x_coords, y_coords = concatenate_all_coord_lists(vertex_x, wall_thirds_x, alcove_x,\n",
    "                                                    vertex_y, wall_thirds_y, alcove_y)\n",
    "\n",
    "    # plot octagon \n",
    "    ax = plot_octagon_from_coords(x_coords, y_coords)\n",
    "\n",
    "    # return axes for further plotting\n",
    "    return ax \n"
   ]
  },
  {
   "cell_type": "code",
   "execution_count": 17,
   "id": "4f24be4b-3f9a-4b64-a602-81cc56d7ef1e",
   "metadata": {},
   "outputs": [
    {
     "ename": "SyntaxError",
     "evalue": "'return' outside function (1602118219.py, line 35)",
     "output_type": "error",
     "traceback": [
      "\u001b[0;36m  Cell \u001b[0;32mIn[17], line 35\u001b[0;36m\u001b[0m\n\u001b[0;31m    return ax\u001b[0m\n\u001b[0m    ^\u001b[0m\n\u001b[0;31mSyntaxError\u001b[0m\u001b[0;31m:\u001b[0m 'return' outside function\n"
     ]
    }
   ],
   "source": [
    "\n",
    "if __name__ == \"__main__\":\n",
    "\n",
    "    # variables\n",
    "    # basic\n",
    "    num_walls = 8\n",
    "    diameter = 36.21\n",
    "    radius = diameter/2\n",
    "    angle_sep = 2*math.pi/num_walls  # angle between walls\n",
    "    vertex_offset = angle_sep/2      # angular distance between centre-wall and vertex \n",
    "\n",
    "    # alcoves\n",
    "    alcove_length_scaled = 3.0       # depth of alcove in Blender/Unity units after scaling \n",
    "                                    # of Octagon in Unity\n",
    "    alcove_length_axis_projection = (alcove_length_scaled*math.sin(math.pi/4))/math.sin(math.pi/2) # Sin rule to find x and y coordinate\n",
    "                                                                                                # offset from values in vertex_x/y\n",
    "                                                                                                # This is the projection of the diagonal\n",
    "                                                                                                # alcove walls onto the x and y axis\n",
    "    # get vertex coordinates\n",
    "    vertex_x, vertex_y = calculate_coordinates(vertex=True)\n",
    "\n",
    "    # get coordinates for the points 1/3 and 2/3 along each wall\n",
    "    wall_thirds_x, wall_thirds_y = calculate_wall_thirds_coordinates(vertex_x, vertex_y)\n",
    "\n",
    "    # get coordinates for the alcove endpoints\n",
    "    alcove_x, alcove_y = generate_alcove_endpoints(wall_thirds_x, wall_thirds_y, alcove_length_axis_projection)\n",
    "\n",
    "    # concatenate all coordinate lists together\n",
    "    x_coords, y_coords = concatenate_all_coord_lists(vertex_x, wall_thirds_x, alcove_x,\n",
    "                                                    vertex_y, wall_thirds_y, alcove_y)\n",
    "\n",
    "    # plot octagon \n",
    "    ax = plot_octagon_from_coords(x_coords, y_coords)\n",
    "    plt.show()\n"
   ]
  },
  {
   "cell_type": "code",
   "execution_count": 43,
   "id": "06184127-3efe-44df-a947-a2425ad35145",
   "metadata": {},
   "outputs": [
    {
     "data": {
      "image/png": "[encoded data removed]",
      "text/plain": [
       "<Figure size 640x480 with 1 Axes>"
      ]
     },
     "metadata": {},
     "output_type": "display_data"
    },
    {
     "name": "stdout",
     "output_type": "stream",
     "text": [
      "Octagon plotted!\n"
     ]
    }
   ],
   "source": [
    "plot_octagon()"
   ]
  }
 ],
 "metadata": {
  "kernelspec": {
   "display_name": "Python 3 (ipykernel)",
   "language": "python",
   "name": "python3"
  },
  "language_info": {
   "codemirror_mode": {
    "name": "ipython",
    "version": 3
   },
   "file_extension": ".py",
   "mimetype": "text/x-python",
   "name": "python",
   "nbconvert_exporter": "python",
   "pygments_lexer": "ipython3",
   "version": "3.12.5"
  }
 },
 "nbformat": 4,
 "nbformat_minor": 5
}
