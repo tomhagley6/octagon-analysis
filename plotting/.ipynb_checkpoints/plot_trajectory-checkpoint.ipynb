{
 "cells": [
  {
   "cell_type": "code",
   "execution_count": 1,
   "id": "333030b8-5579-4178-a504-69f52d5412db",
   "metadata": {},
   "outputs": [
    {
     "data": {
      "image/png": "[encoded data removed]",
      "text/plain": [
       "<Figure size 640x480 with 1 Axes>"
      ]
     },
     "metadata": {},
     "output_type": "display_data"
    }
   ],
   "source": [
    "import globals\n",
    "from plotting import plot_octagon\n",
    "import matplotlib as mpl\n",
    "import numpy as np\n",
    "import matplotlib.pyplot as plt\n"
   ]
  },
  {
   "cell_type": "code",
   "execution_count": 3,
   "id": "69f638e5-0cd8-4719-86a4-1d89ff049bf1",
   "metadata": {},
   "outputs": [],
   "source": [
    "def plot_trajectory(trials_list, trial_index=0, cmap_winner=mpl.cm.spring, cmap_loser=mpl.cm.summer,\n",
    "                   s=0.5, social=False, trial=None):\n",
    "    \n",
    "    # isolate trial\n",
    "    if not trial is None:\n",
    "        this_trial = trial\n",
    "    else:\n",
    "        this_trial = trials_list[trial_index]\n",
    "\n",
    "    # isolate trigger event and activating client\n",
    "    trigger_event = this_trial[this_trial['eventDescription'] == globals.SELECTED_TRIGGER_ACTIVATION]\n",
    "    trigger_activating_client = trigger_event['data.triggerClient'].values[0]\n",
    "    \n",
    "    # find index of trigger event normalised to this trial\n",
    "    trigger_idx = trigger_event.index[0]\n",
    "    trigger_idx = int(trigger_idx - this_trial.index[0])\n",
    "\n",
    "    # set index for number of players to extract data for \n",
    "    end_idx = 1\n",
    "    if social:\n",
    "        end_idx = 3\n",
    "        \n",
    "    # extract position data for 1 or 2 players\n",
    "    coordinate_array_labels = [globals.PLAYER_0_XLOC, globals.PLAYER_0_YLOC, globals.PLAYER_1_XLOC, globals.PLAYER_1_YLOC]\n",
    "    coordinate_arrays = {label : this_trial[label].values[:trigger_idx] for label in coordinate_array_labels[0:end_idx+1]}\n",
    "    \n",
    "    # create colormap data\n",
    "    cmap_winner = mpl.cm.spring \n",
    "    cmap_loser = mpl.cm.summer\n",
    "    timestamps = np.arange(len(coordinate_arrays[globals.PLAYER_0_XLOC]))\n",
    "    min_val, max_val = min(timestamps), max(timestamps)\n",
    "    norm = mpl.colors.Normalize(vmin=min_val, vmax=max_val)\n",
    "\n",
    "    # plot trajectory data\n",
    "    ax = plot_octagon.plot_octagon()\n",
    "\n",
    "    if social:\n",
    "        if trigger_activating_client == 0:\n",
    "            cmaps = [cmap_winner, cmap_loser]\n",
    "        else:\n",
    "            cmaps = [cmap_loser, cmap_winner]\n",
    "        ax.scatter(coordinate_arrays[globals.PLAYER_0_XLOC], coordinate_arrays[globals.PLAYER_0_YLOC], s=0.5, c=timestamps, cmap=cmaps[0], norm=norm)\n",
    "        ax.scatter(coordinate_arrays[globals.PLAYER_1_XLOC],coordinate_arrays[globals.PLAYER_1_YLOC], s=0.5, c=timestamps, cmap=cmaps[1], norm=norm)\n",
    "        plt.show()\n",
    "    else:\n",
    "        ax.scatter(coordinate_arrays[globals.PLAYER_0_XLOC], coordinate_arrays[globals.PLAYER_0_YLOC], s=0.5, c=timestamps, cmap=cmap_winner, norm=norm)\n",
    "        plt.show()\n",
    "    \n",
    "    "
   ]
  },
  {
   "cell_type": "code",
   "execution_count": null,
   "id": "24ef9321-34b8-46d6-9e72-018a71d34cc9",
   "metadata": {},
   "outputs": [],
   "source": []
  }
 ],
 "metadata": {
  "kernelspec": {
   "display_name": "Python 3 (ipykernel)",
   "language": "python",
   "name": "python3"
  },
  "language_info": {
   "codemirror_mode": {
    "name": "ipython",
    "version": 3
   },
   "file_extension": ".py",
   "mimetype": "text/x-python",
   "name": "python",
   "nbconvert_exporter": "python",
   "pygments_lexer": "ipython3",
   "version": "3.12.5"
  }
 },
 "nbformat": 4,
 "nbformat_minor": 5
}
