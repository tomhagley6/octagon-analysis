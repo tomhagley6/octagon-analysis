{
 "cells": [
  {
   "cell_type": "code",
   "execution_count": 3,
   "id": "9afe9865-70bc-4ea5-a895-16150896086c",
   "metadata": {},
   "outputs": [],
   "source": [
    "import parse_data.preprocess as preprocess\n",
    "import parse_data.loading as loading\n",
    "from datetime import datetime, timedelta\n",
    "import numpy as np\n",
    "import pandas as pd"
   ]
  },
  {
   "cell_type": "code",
   "execution_count": 4,
   "id": "3d5173d8-1e30-4e3a-8a66-c6962ff433fb",
   "metadata": {},
   "outputs": [],
   "source": [
    "# paths\n",
    "# data_folder = '/home/tom/Documents/SWC/data' # desktop Duan Lab\n",
    "# json_filename = '240913_Yansu_Jerry/2024-09-13_11-23-37_YansuFirstSolo.json' \n",
    "data_folder = r'D:\\Users\\Tom\\OneDrive\\PhD\\SWC\\data' # desktop home\n",
    "json_filename = r'first_experiments_2409\\240913\\2024-09-13_11-23-37_YansuFirstSolo.json'\n"
   ]
  },
  {
   "cell_type": "code",
   "execution_count": 5,
   "id": "fcbdc360-7f71-42ce-9698-5ea705d1e7d2",
   "metadata": {},
   "outputs": [
    {
     "name": "stdout",
     "output_type": "stream",
     "text": [
      "Data is from period before 2024-09-13 11:23:37\n",
      "Running dataframe through playerinfo_playerposition_conversion.\n",
      "Loading complete.\n"
     ]
    }
   ],
   "source": [
    "# Load JSON file into pandas df with collapsed data dictionary and adjustments based on date of recording \n",
    "df = loading.loading_pipeline(data_folder, json_filename)"
   ]
  },
  {
   "cell_type": "code",
   "execution_count": 6,
   "id": "e2d08ab2-ebd1-4c62-b697-b21a8b673360",
   "metadata": {},
   "outputs": [
    {
     "name": "stdout",
     "output_type": "stream",
     "text": [
      "Preprocessing complete.\n"
     ]
    }
   ],
   "source": [
    "# Pre-process data \n",
    "df = preprocess.standard_preprocessing(df)"
   ]
  },
  {
   "cell_type": "code",
   "execution_count": null,
   "id": "7a811074-f378-458a-8e6e-58d0a5989beb",
   "metadata": {},
   "outputs": [],
   "source": [
    "## analyse"
   ]
  },
  {
   "cell_type": "code",
   "execution_count": 12,
   "id": "64d52e75-cb8b-4a64-955e-7752dc517959",
   "metadata": {},
   "outputs": [
    {
     "data": {
      "text/plain": [
       "array(['logging start', 'time', 'trial start', 'slice onset',\n",
       "       'server-selected trigger activation', 'trial end',\n",
       "       'trigger activation', 'logging end'], dtype=object)"
      ]
     },
     "execution_count": 12,
     "metadata": {},
     "output_type": "execute_result"
    }
   ],
   "source": [
    "df['eventDescription'].unique()"
   ]
  },
  {
   "cell_type": "code",
   "execution_count": 18,
   "id": "c54ec0b3-ebb8-4a88-b5e9-cb006ed8e340",
   "metadata": {},
   "outputs": [],
   "source": [
    "df_slice_onset = df[df['eventDescription'] == 'slice onset']\n",
    "df_selected_trigger_activation = df[df['eventDescription'] == 'server-selected trigger activation']"
   ]
  },
  {
   "cell_type": "code",
   "execution_count": 44,
   "id": "05b6fba5-f752-42b5-bdca-126f43aaaeaf",
   "metadata": {},
   "outputs": [
    {
     "data": {
      "text/plain": [
       "Timedelta('0 days 00:00:03.960448275')"
      ]
     },
     "execution_count": 44,
     "metadata": {},
     "output_type": "execute_result"
    }
   ],
   "source": [
    "num_triggers = len(df_selected_trigger_activation['timeApplication'].values)\n",
    "response_times = df_selected_trigger_activation['timeApplication'].values - df_slice_onset['timeApplication'].values[:num_triggers]\n",
    "response_times = pd.Series(response_times)\n",
    "response_times.iloc[1:].mean()\n"
   ]
  }
 ],
 "metadata": {
  "kernelspec": {
   "display_name": "Python 3 (ipykernel)",
   "language": "python",
   "name": "python3"
  },
  "language_info": {
   "codemirror_mode": {
    "name": "ipython",
    "version": 3
   },
   "file_extension": ".py",
   "mimetype": "text/x-python",
   "name": "python",
   "nbconvert_exporter": "python",
   "pygments_lexer": "ipython3",
   "version": "3.12.5"
  }
 },
 "nbformat": 4,
 "nbformat_minor": 5
}
