{
 "cells": [
  {
   "cell_type": "code",
   "execution_count": 19,
   "id": "9afe9865-70bc-4ea5-a895-16150896086c",
   "metadata": {},
   "outputs": [],
   "source": [
    "import parse_data.preprocess as preprocess\n",
    "import parse_data.loading as loading\n",
    "from datetime import datetime, timedelta\n",
    "import numpy as np\n",
    "import pandas as pd\n",
    "import scipy\n",
    "import matplotlib.pyplot as plt"
   ]
  },
  {
   "cell_type": "code",
   "execution_count": 2,
   "id": "3d5173d8-1e30-4e3a-8a66-c6962ff433fb",
   "metadata": {},
   "outputs": [],
   "source": [
    "# paths\n",
    "data_folder = '/home/tom/Documents/SWC/data' # desktop Duan Lab\n",
    "# json_filename = '240913_Yansu_Jerry/2024-09-13_11-23-37_YansuFirstSolo.json' \n",
    "json_filename = '240913_Yansu_Jerry/2024-09-13_11-31-00_YansuJerrySocial.json'\n",
    "# data_folder = r'D:\\Users\\Tom\\OneDrive\\PhD\\SWC\\data' # desktop home\n",
    "# json_filename = r'first_experiments_2409\\240913\\2024-09-13_11-23-37_YansuFirstSolo.json'\n"
   ]
  },
  {
   "cell_type": "code",
   "execution_count": 3,
   "id": "fcbdc360-7f71-42ce-9698-5ea705d1e7d2",
   "metadata": {},
   "outputs": [
    {
     "name": "stdout",
     "output_type": "stream",
     "text": [
      "Data is from period before 2024-09-13 11:23:37\n",
      "Running dataframe through playerinfo_playerposition_conversion.\n",
      "Loading complete.\n"
     ]
    }
   ],
   "source": [
    "# Load JSON file into pandas df with collapsed data dictionary and adjustments based on date of recording \n",
    "df = loading.loading_pipeline(data_folder, json_filename)"
   ]
  },
  {
   "cell_type": "code",
   "execution_count": 4,
   "id": "e2d08ab2-ebd1-4c62-b697-b21a8b673360",
   "metadata": {},
   "outputs": [
    {
     "name": "stdout",
     "output_type": "stream",
     "text": [
      "Preprocessing complete.\n"
     ]
    }
   ],
   "source": [
    "# Pre-process data \n",
    "df = preprocess.standard_preprocessing(df)"
   ]
  },
  {
   "cell_type": "code",
   "execution_count": 5,
   "id": "7a811074-f378-458a-8e6e-58d0a5989beb",
   "metadata": {},
   "outputs": [],
   "source": [
    "## analyse"
   ]
  },
  {
   "cell_type": "code",
   "execution_count": null,
   "id": "6202fdc7",
   "metadata": {},
   "outputs": [],
   "source": [
    "## Reaction times ## "
   ]
  },
  {
   "cell_type": "code",
   "execution_count": 43,
   "id": "21b29aa9-6573-4f46-baba-bfb342db8c6f",
   "metadata": {},
   "outputs": [],
   "source": [
    "class ResponseTimes:\n",
    "\n",
    "    def __init__(self, response_times, mean, median, iqr,\n",
    "                 *social_response_times, **social_stats):\n",
    "        self.response_times = response_times\n",
    "        self.mean = mean\n",
    "        self.median = median\n",
    "        self.iqr = iqr\n",
    "\n",
    "        # store extra social information\n",
    "        self.social_response_times = social_response_times\n",
    "        self.social_summary_stats = social_stats\n",
    "\n",
    "        # validate structure\n",
    "        self._validate()\n",
    "\n",
    "    def _validate(self):\n",
    "        # ensure only one extra response_times list for each player\n",
    "        if len(self.social_response_times) not in [0,2]:\n",
    "            raise ValueError(\"Require exactly 2 extra positional response_times Series for social,\" +\n",
    "                             \" p1 followed by p2\")\n",
    "        if len(self.social_summary_stats) not in [0,6]:\n",
    "            raise ValueError(\"Require mean_p1, mean_p2, median_p1, median_p2, and iqr_p1, iqr_p2 keyword arguments\"\n",
    "                             + \" for each player for social\")\n",
    "\n",
    "    def is_social(self):\n",
    "        return bool(self.social_response_times or self.social_summary_stats)\n",
    "\n",
    "    def print_summary_stats(self):\n",
    "        \n",
    "        if self.is_social():\n",
    "\n",
    "            summary_labels = ['mean_p1', 'mean_p2', 'median_p1', 'median_p2', 'iqr_p1', 'iqr_p2']\n",
    "            summary_stats = {label: self.social_summary_stats.get(label, 'Not provided') for label in summary_labels}\n",
    "\n",
    "\n",
    "            print(f\"Mean response time: p1 - {summary_stats['mean_p1']}, p2  - {summary_stats['mean_p2']}.\")\n",
    "            print(f\"Median response time: p1 - {summary_stats['median_p1']}, p2  - {summary_stats['median_p2']}\")\n",
    "            print(f\"Response time range: p1 - {summary_stats['iqr_p1']}, p2  - {summary_stats['iqr_p2']}\")\n",
    "\n",
    "            print(f\"Mean response time (combined): {self.mean}.\")\n",
    "            print(f\"Median response time (combined): {self.median}.\")\n",
    "            print(f\"Response time range (combined): {self.iqr}.\\n\")\n",
    "    \n",
    "        else:\n",
    "\n",
    "            print(f\"Mean response time: {self.mean}.\")\n",
    "            print(f\"Median response time: {self.median}.\")\n",
    "            print(f\"Response time range: {self.iqr}.\")"
   ]
  },
  {
   "cell_type": "code",
   "execution_count": 39,
   "id": "05b6fba5-f752-42b5-bdca-126f43aaaeaf",
   "metadata": {},
   "outputs": [],
   "source": [
    "def calculate_response_times(df):\n",
    "    \n",
    "    # response times are calculated as difference between slice onset and selected trigger activation\n",
    "    # discard the first trial \n",
    "    df_slice_onset = df[df['eventDescription'] == 'slice onset'].iloc[1:]\n",
    "    df_selected_trigger_activation = df[df['eventDescription'] == 'server-selected trigger activation'].iloc[1:]\n",
    "\n",
    "    # only index as many values as there were triggers (completed trials)\n",
    "    num_triggers = len(df_selected_trigger_activation['timeApplication'].values)\n",
    "\n",
    "    # calcuate rt\n",
    "    response_times = df_selected_trigger_activation['timeApplication'].values - df_slice_onset['timeApplication'].values[:num_triggers]\n",
    "    response_times = pd.Series(response_times)\n",
    "\n",
    "    # handle social\n",
    "    trigger_activating_client = df_selected_trigger_activation['data.triggerClient'].values\n",
    "    \n",
    "    if 1 in trigger_activating_client:\n",
    "        social = True\n",
    "    else:\n",
    "        social = False\n",
    "\n",
    "    # create separate response times Series for each player in social\n",
    "    if social:\n",
    "        trial_idxs_p1 = np.where(trigger_activating_client == 0)[0]\n",
    "        trial_idxs_p2 = np.where(trigger_activating_client == 1)[0]\n",
    "\n",
    "        response_times_p1 = response_times[trial_idxs_p1]\n",
    "        response_times_p2 = response_times[trial_idxs_p2]\n",
    "\n",
    "    # summary statistics (general)\n",
    "    mean = np.mean(response_times).to_timedelta64().astype('timedelta64[ms]')\n",
    "    median = np.median(response_times).astype('timedelta64[ms]')\n",
    "    iqr = scipy.stats.iqr(response_times).astype('timedelta64[ms]')\n",
    "\n",
    "    # separate summary statistics for each player (social)\n",
    "    if social:\n",
    "        mean_p1 = np.mean(response_times_p1).astype('timedelta64[ms]')\n",
    "        mean_p2 = np.mean(response_times_p2).astype('timedelta64[ms]')\n",
    "\n",
    "        median_p1 = np.median(response_times_p1).astype('timedelta64[ms]')\n",
    "        median_p2 = np.median(response_times_p2).astype('timedelta64[ms]')\n",
    "\n",
    "        iqr_p1 = scipy.stats.iqr(response_times_p1).astype('timedelta64[ms]')\n",
    "        iqr_p2 = scipy.stats.iqr(response_times_p2).astype('timedelta64[ms]')\n",
    "\n",
    "\n",
    "    # Return an instance of ResponseTimes class which handles social vs solo\n",
    "    if social:\n",
    "        return ResponseTimes(response_times, mean, median, iqr, response_times_p1, response_times_p2, \n",
    "                             mean_p1=mean_p1, mean_p2=mean_p2, median_p1=median_p1, median_p2=median_p2, \n",
    "                             iqr_p1=iqr_p1, iqr_p2=iqr_p2)\n",
    "    else:\n",
    "        return ResponseTimes(response_times, mean, median, iqr)"
   ]
  },
  {
   "cell_type": "code",
   "execution_count": 40,
   "id": "783117d9",
   "metadata": {},
   "outputs": [
    {
     "name": "stdout",
     "output_type": "stream",
     "text": [
      "Mean response time: 3960 milliseconds.\n",
      "Median response time: 3891 milliseconds.\n",
      "Response time range: 1219 milliseconds.\n"
     ]
    }
   ],
   "source": [
    "response_times = calculate_response_times(df)\n",
    "response_times.print_summary_stats()\n"
   ]
  },
  {
   "cell_type": "code",
   "execution_count": 34,
   "id": "1af9a86a",
   "metadata": {},
   "outputs": [
    {
     "data": {
      "text/plain": [
       "Text(0.5, 0, 'Trial num')"
      ]
     },
     "execution_count": 34,
     "metadata": {},
     "output_type": "execute_result"
    },
    {
     "data": {
      "image/png": "[encoded data removed]",
      "text/plain": [
       "<Figure size 640x480 with 1 Axes>"
      ]
     },
     "metadata": {},
     "output_type": "display_data"
    }
   ],
   "source": [
    "plt.plot(response_times.response_times.astype('timedelta64[ms]')) # plot in milliseconds (default ns)\n",
    "plt.ylabel('Time (ms)')\n",
    "plt.xlabel('Trial num')\n"
   ]
  }
 ],
 "metadata": {
  "kernelspec": {
   "display_name": "Python 3 (ipykernel)",
   "language": "python",
   "name": "python3"
  },
  "language_info": {
   "codemirror_mode": {
    "name": "ipython",
    "version": 3
   },
   "file_extension": ".py",
   "mimetype": "text/x-python",
   "name": "python",
   "nbconvert_exporter": "python",
   "pygments_lexer": "ipython3",
   "version": "3.12.5"
  }
 },
 "nbformat": 4,
 "nbformat_minor": 5
}
