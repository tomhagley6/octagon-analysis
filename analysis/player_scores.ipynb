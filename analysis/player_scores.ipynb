{
 "cells": [
  {
   "cell_type": "code",
   "execution_count": 1,
   "metadata": {},
   "outputs": [],
   "source": [
    "import parse_data.prepare_data as prepare_data\n",
    "import numpy as np\n",
    "import pandas as pd\n",
    "import matplotlib.pyplot as plt\n",
    "import globals\n",
    "import os\n",
    "import data_extraction.get_indices as get_indices\n",
    "\n"
   ]
  },
  {
   "cell_type": "code",
   "execution_count": null,
   "metadata": {},
   "outputs": [],
   "source": [
    "def proportion_score_sessions(data_folder, json_filenames):\n",
    "    ''' Return num_sessions*num_players array for proportion of score\n",
    "        each player earned in a session.\n",
    "        Takes the data folder and a list of session filenames '''\n",
    "\n",
    "    proportion_scores_all_sessions = np.zeros((len(json_filenames), 2))\n",
    "    for json_filenames_index in range(len(json_filenames)):\n",
    "        json_filename = json_filenames[json_filenames_index]\n",
    "        print(data_folder + os.sep + json_filename)\n",
    "        _, trials_list = prepare_data.prepare_data(data_folder, json_filename)\n",
    "        \n",
    "        # access final trial event log event for the final player scores\n",
    "        final_trial = trials_list[-1]\n",
    "        final_trial_trial_end = final_trial[final_trial['eventDescription'] == 'trial end']\n",
    "        \n",
    "        # flexibly index player scores\n",
    "        player0_score = final_trial_trial_end[globals.PLAYER_SCORE_DICT[0]['score']].item()\n",
    "        player1_score = final_trial_trial_end[globals.PLAYER_SCORE_DICT[1]['score']].item()\n",
    "        total_score = player0_score + player1_score\n",
    "        \n",
    "        proportion_score_player0 = player0_score/total_score\n",
    "        proportion_score_player1 = player1_score/total_score\n",
    "\n",
    "        proportion_scores_all_sessions[json_filenames_index, 0] = proportion_score_player0\n",
    "        proportion_scores_all_sessions[json_filenames_index, 1] = proportion_score_player1\n",
    "\n",
    "    return proportion_scores_all_sessions"
   ]
  },
  {
   "cell_type": "code",
   "execution_count": null,
   "metadata": {},
   "outputs": [],
   "source": [
    "def proportion_score_sessions_df(trial_lists):\n",
    "    ''' Return num_sessions*num_players array for proportion of score\n",
    "        each player earned in a session.\n",
    "        Takes a list of pre-processed trial lists '''\n",
    "    \n",
    "    proportion_scores_all_sessions = np.zeros((len(trial_lists), 2))\n",
    "    for trial_list_index in range(len(trial_lists)):\n",
    "        trial_list = trial_lists[trial_list_index]\n",
    "\n",
    "        # access final trial event log event for the final player scores\n",
    "        final_trial = trial_list[-1]\n",
    "        final_trial_trial_end = final_trial[final_trial['eventDescription'] == 'trial end']\n",
    "        \n",
    "        # flexibly index player scores\n",
    "        player0_score = final_trial_trial_end[globals.PLAYER_SCORE_DICT[0]['score']].item()\n",
    "        player1_score = final_trial_trial_end[globals.PLAYER_SCORE_DICT[1]['score']].item()\n",
    "        total_score = player0_score + player1_score\n",
    "        \n",
    "        proportion_score_player0 = player0_score/total_score\n",
    "        proportion_score_player1 = player1_score/total_score\n",
    "\n",
    "        proportion_scores_all_sessions[trial_list_index, 0] = proportion_score_player0\n",
    "        proportion_scores_all_sessions[trial_list_index, 1] = proportion_score_player1\n",
    "\n",
    "    return proportion_scores_all_sessions"
   ]
  },
  {
   "cell_type": "code",
   "execution_count": null,
   "metadata": {},
   "outputs": [],
   "source": [
    "def player_scores_sessions_df(trial_lists):\n",
    "    ''' Return num_sessions*num_players array of player score vals\n",
    "        each player earned in a session.\n",
    "        Takes a list of pre-processed trial lists '''\n",
    "    \n",
    "    player_scores_all_sessions = np.zeros((len(trial_lists), 2))\n",
    "    for trial_list_index in range(len(trial_lists)):\n",
    "        trial_list = trial_lists[trial_list_index]\n",
    "        \n",
    "        # access final trial event log event for the final player scores\n",
    "        final_trial = trial_list[-1]\n",
    "        final_trial_trial_end = final_trial[final_trial['eventDescription'] == 'trial end']\n",
    "        \n",
    "        # flexibly index player scores\n",
    "        player0_score = final_trial_trial_end[globals.PLAYER_SCORE_DICT[0]['score']].item()\n",
    "        player1_score = final_trial_trial_end[globals.PLAYER_SCORE_DICT[1]['score']].item()\n",
    "\n",
    "        player_scores_all_sessions[trial_list_index, 0] = player0_score\n",
    "        player_scores_all_sessions[trial_list_index, 1] = player1_score\n",
    "\n",
    "    return player_scores_all_sessions"
   ]
  },
  {
   "cell_type": "code",
   "execution_count": null,
   "metadata": {},
   "outputs": [],
   "source": [
    "def proportion_wins_sessions(trial_lists):\n",
    "    ''' Return num_sessions*num_players array of proportion wins \n",
    "        each player earned in a session.\n",
    "        Takes a list of pre-processed trial lists '''\n",
    "\n",
    "    proportion_wins_array = np.zeros((len(trial_lists), 2))\n",
    "    for i in range(len(trial_lists)):\n",
    "        trial_list = trial_lists[i]\n",
    "        winners = get_indices.get_trigger_activators(trial_list)\n",
    "        proportion_wins_player_0 = np.sum(winners == 0)/winners.size\n",
    "        proportion_wins_player_1 = 1 - proportion_wins_player_0\n",
    "        proportion_wins_array[i, :] = proportion_wins_player_0, proportion_wins_player_1\n",
    "\n",
    "    return proportion_wins_array"
   ]
  }
 ],
 "metadata": {
  "kernelspec": {
   "display_name": "octagon_analysis",
   "language": "python",
   "name": "python3"
  },
  "language_info": {
   "codemirror_mode": {
    "name": "ipython",
    "version": 3
   },
   "file_extension": ".py",
   "mimetype": "text/x-python",
   "name": "python",
   "nbconvert_exporter": "python",
   "pygments_lexer": "ipython3",
   "version": "3.12.5"
  }
 },
 "nbformat": 4,
 "nbformat_minor": 2
}
