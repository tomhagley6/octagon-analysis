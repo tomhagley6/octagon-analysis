{
 "cells": [
  {
   "cell_type": "code",
   "execution_count": 2,
   "id": "5a3de924-c01b-4ba9-9cdd-a7b51b7c7e30",
   "metadata": {},
   "outputs": [],
   "source": [
    "import math\n",
    "import numpy as np\n",
    "from matplotlib import pyplot as plt"
   ]
  },
  {
   "cell_type": "code",
   "execution_count": 3,
   "id": "cdb8ece3-0a14-411a-b6e5-6898589c4212",
   "metadata": {},
   "outputs": [],
   "source": [
    "#### Plot octagon arena ####"
   ]
  },
  {
   "cell_type": "code",
   "execution_count": 4,
   "id": "ddace2ed-a1ce-44c6-bcf9-3e523048ea1f",
   "metadata": {},
   "outputs": [],
   "source": [
    "### define octagon coordinates"
   ]
  },
  {
   "cell_type": "code",
   "execution_count": 23,
   "id": "bccda105-e974-4a09-98ca-92ee74a63104",
   "metadata": {},
   "outputs": [
    {
     "name": "stdout",
     "output_type": "stream",
     "text": [
      "2.1213203435596424\n"
     ]
    }
   ],
   "source": [
    "## variables\n",
    "\n",
    "# basic\n",
    "num_walls = 8\n",
    "diameter = 36.21\n",
    "radius = diameter/2\n",
    "angle_sep = 2*math.pi/num_walls  # angle between walls\n",
    "vertex_offset = angle_sep/2      # angular distance between centre-wall and vertex \n",
    "\n",
    "# alcoves\n",
    "alcove_length_scaled = 3.0       # depth of alcove in Blender/Unity units after scaling \n",
    "                                 # of Octagon in Unity\n",
    "alcove_length_axis_projection = (3*math.sin(math.pi/4))/math.sin(math.pi/2) # sin rule to find x and y coordinate\n",
    "                                                                            # offset from values in vertex_x/y\n",
    "print(alcove_length_axis_projection)\n",
    "\n"
   ]
  },
  {
   "cell_type": "code",
   "execution_count": 6,
   "id": "2761494f-03d8-49da-a128-620044550930",
   "metadata": {},
   "outputs": [],
   "source": [
    "## calculate vertex coordinates\n",
    "\n",
    "# for vertex coordinates: x\n",
    "vertex_x = []\n",
    "\n",
    "for i in range(num_walls):\n",
    "    ang = i*angle_sep\n",
    "    coord = math.sin(ang + vertex_offset)*radius\n",
    "    vertex_x.append(coord)\n",
    "vertex_x.append(vertex_x[0]) # repeat starting point for plotting\n",
    "\n",
    "# for vertex coordinates: y\n",
    "vertex_y = []\n",
    "for i in range(num_walls):\n",
    "    ang = i*angle_sep\n",
    "    coord = math.cos(ang + vertex_offset)*radius\n",
    "    vertex_y.append(coord)\n",
    "vertex_y.append(vertex_y[0]) # repeat starting point for plotting"
   ]
  },
  {
   "cell_type": "code",
   "execution_count": 7,
   "id": "268128c4-b68f-44a4-b5df-ce90f0d215f2",
   "metadata": {},
   "outputs": [
    {
     "name": "stdout",
     "output_type": "stream",
     "text": [
      "[0.0, 12.802168273382442, 18.105, 12.802168273382444, 2.217223029856283e-15, -12.802168273382442, -18.105, -12.802168273382446, 0.0]\n"
     ]
    }
   ],
   "source": [
    "## calculate centre-wall coordinates\n",
    "# Note that this is just a rotation of vertex coordinates by vertex_offset\n",
    "\n",
    "# for centre-wall coordinates: x\n",
    "centre_wall_x = []\n",
    "\n",
    "for i in range(num_walls):\n",
    "    ang = i*angle_sep\n",
    "    coord = math.sin(ang)*radius\n",
    "    centre_wall_x.append(coord)\n",
    "centre_wall_x.append(centre_wall_x[0]) # repeat starting point for plotting\n",
    "print(centre_wall_x)\n",
    "\n",
    "# for centre-wall coordinates: y\n",
    "centre_wall_y = []\n",
    "for i in range(num_walls):\n",
    "    ang = i*angle_sep\n",
    "    coord = math.cos(ang)*radius\n",
    "    centre_wall_y.append(coord)\n",
    "centre_wall_y.append(centre_wall_y[0]) # repeat starting point for plotting"
   ]
  },
  {
   "cell_type": "code",
   "execution_count": 8,
   "id": "f749a54f-46de-411c-a969-b682e551dc89",
   "metadata": {},
   "outputs": [],
   "source": [
    "### plot standard octagon"
   ]
  },
  {
   "cell_type": "code",
   "execution_count": 28,
   "id": "ff11ee1b-0164-4520-b4ae-1af7ceb293b5",
   "metadata": {},
   "outputs": [
    {
     "data": {
      "image/png": "[encoded data removed]",
      "text/plain": [
       "<Figure size 640x480 with 1 Axes>"
      ]
     },
     "metadata": {},
     "output_type": "display_data"
    }
   ],
   "source": [
    "plt.plot(vertex_x, vertex_y)\n",
    "plt.gca().set_aspect(1.)"
   ]
  },
  {
   "cell_type": "code",
   "execution_count": null,
   "id": "ea3b1983-e0b7-46b9-81a0-245b99e83ef3",
   "metadata": {},
   "outputs": [],
   "source": [
    "### define octagon coordinates with alcoves"
   ]
  },
  {
   "cell_type": "code",
   "execution_count": 10,
   "id": "6f04793f-2107-4fe4-a0f7-7599eef0a11e",
   "metadata": {},
   "outputs": [],
   "source": [
    "## use linear interpolation to find 1/3 and 2/3 coordinates for each wall (16 points)\n",
    "vertex_x_one_third = []\n",
    "vertex_y_one_third = []\n",
    "for i in range(num_walls):\n",
    "    vertex_x_one_third.append((2/3)*vertex_x[i] + (1/3)*vertex_x[i+1])\n",
    "    vertex_y_one_third.append((2/3)*vertex_y[i] + (1/3)*vertex_y[i+1])\n",
    "\n",
    "vertex_x_two_thirds = []\n",
    "vertex_y_two_thirds = []\n",
    "for i in range(num_walls):\n",
    "    vertex_x_two_thirds.append((1/3)*vertex_x[i] + (2/3)*vertex_x[i+1])\n",
    "    vertex_y_two_thirds.append((1/3)*vertex_y[i] + (2/3)*vertex_y[i+1])\n",
    "\n",
    "vertex_x_thirds = vertex_x_one_third + vertex_x_two_thirds\n",
    "vertex_y_thirds = vertex_y_one_third + vertex_y_two_thirds\n",
    "\n",
    "# interleave the one-thirds and two-thirds lists\n",
    "lists_x = [vertex_x_one_third, vertex_x_two_thirds]\n",
    "vertex_x_thirds = [val for tup in zip(*lists_x) for val in tup] \n",
    "\n",
    "# repeat for y\n",
    "lists_y = [vertex_y_one_third, vertex_y_two_thirds]\n",
    "vertex_y_thirds = [val for tup in zip(*lists_y) for val in tup] \n"
   ]
  },
  {
   "cell_type": "code",
   "execution_count": 26,
   "id": "55d5b286-f04b-4766-b9e8-6bc95a729d50",
   "metadata": {},
   "outputs": [
    {
     "data": {
      "image/png": "[encoded data removed]",
      "text/plain": [
       "<Figure size 640x480 with 1 Axes>"
      ]
     },
     "metadata": {},
     "output_type": "display_data"
    }
   ],
   "source": [
    "## plot WIP alcove octagon\n",
    "plt.plot(vertex_x, vertex_y)\n",
    "plt.plot(vertex_x_thirds, vertex_y_thirds)\n",
    "plt.scatter(vertex_x_thirds[0]+2.121, vertex_y_thirds[0]+2.121) # sin rule\n",
    "plt.scatter(vertex_x_thirds[1]+2.121, vertex_y_thirds[1]+2.121)\n",
    "plt.gca().set_aspect(1.)"
   ]
  },
  {
   "cell_type": "code",
   "execution_count": 15,
   "id": "a887d877-014e-4018-b0bd-4d2a81db4844",
   "metadata": {},
   "outputs": [
    {
     "data": {
      "text/plain": [
       "[10.194602007352248,\n",
       " 13.460720471734547,\n",
       " 16.726838936116845,\n",
       " 16.726838936116845,\n",
       " 13.460720471734547,\n",
       " 10.194602007352248,\n",
       " 2.309494514323318,\n",
       " -2.3094945143233154,\n",
       " -10.194602007352247,\n",
       " -13.460720471734543,\n",
       " -16.72683893611684,\n",
       " -16.72683893611684,\n",
       " -13.46072047173455,\n",
       " -10.194602007352255,\n",
       " -2.309494514323324,\n",
       " 2.309494514323313]"
      ]
     },
     "execution_count": 15,
     "metadata": {},
     "output_type": "execute_result"
    }
   ],
   "source": [
    "vertex_x_thirds"
   ]
  },
  {
   "cell_type": "code",
   "execution_count": 17,
   "id": "536c96bc-88fb-453d-b4e2-adb6c999cb6b",
   "metadata": {},
   "outputs": [
    {
     "data": {
      "text/plain": [
       "3.2661184643822985"
      ]
     },
     "execution_count": 17,
     "metadata": {},
     "output_type": "execute_result"
    }
   ],
   "source": [
    "( vertex_x_thirds[1] - vertex_x_thirds[0])"
   ]
  },
  {
   "cell_type": "code",
   "execution_count": 19,
   "id": "1e5cfbe9-61f8-45a2-b601-785b8ebfcd09",
   "metadata": {},
   "outputs": [
    {
     "name": "stdout",
     "output_type": "stream",
     "text": [
      "0\n",
      "2\n",
      "4\n",
      "6\n",
      "8\n",
      "10\n",
      "12\n",
      "14\n",
      "[ 3.26611846  0.         -3.26611846 -4.61898903 -3.26611846  0.\n",
      "  3.26611846  4.61898903]\n",
      "[-3.26611846 -4.61898903 -3.26611846  0.          3.26611846  4.61898903\n",
      "  3.26611846  0.        ]\n",
      "[ -1. -inf   1.  -0.  -1.  inf   1.   0.]\n",
      "[  1.   0.  -1.  inf   1.  -0.  -1. -inf]\n"
     ]
    },
    {
     "name": "stderr",
     "output_type": "stream",
     "text": [
      "/tmp/ipykernel_64471/3009826850.py:26: RuntimeWarning: divide by zero encountered in divide\n",
      "  gradients = y_diffs/x_diffs\n",
      "/tmp/ipykernel_64471/3009826850.py:27: RuntimeWarning: divide by zero encountered in divide\n",
      "  inverse_gradients = -(1/gradients)\n"
     ]
    }
   ],
   "source": [
    "## calculate gradient of tangent\n",
    "# first calculate gradient of each wall \n",
    "gradients = []\n",
    "inverse_gradients = []\n",
    "x_diffs = []\n",
    "y_diffs =[]\n",
    "\n",
    "for i in range(0,len(vertex_x_thirds), 2):   # step 2 to iter through walls\n",
    "    print(i)\n",
    "    diff_x = vertex_x_thirds[i+1] - vertex_x_thirds[i]\n",
    "    diff_y = vertex_y_thirds[i+1] - vertex_y_thirds[i]\n",
    "    x_diffs.append(diff_x)\n",
    "    y_diffs.append(diff_y)\n",
    "\n",
    "x_diffs = np.array(x_diffs)\n",
    "y_diffs = np.array(y_diffs)\n",
    "print(x_diffs)\n",
    "print(y_diffs)\n",
    "gradients = np.zeros(len(x_diffs))\n",
    "inverse_gradients = np.zeros(len(x_diffs))\n",
    "\n",
    "\n",
    "# for i in range(len(x_diffs)):\n",
    "#     gradients.append(y_diffs[i]/x_diffs[i])\n",
    "\n",
    "gradients = y_diffs/x_diffs\n",
    "inverse_gradients = -(1/gradients)\n",
    "\n",
    "print(gradients)\n",
    "print(inverse_gradients)\n",
    "\n",
    "## find coordinates that follow the inverse gradients from 1/3 and 2/3 along each line\n",
    "## for a length equal to 1/3 line\n",
    "        ## TODO\n",
    "    "
   ]
  },
  {
   "cell_type": "code",
   "execution_count": 24,
   "id": "b4232639-4cc3-435a-9732-62cc3839da0e",
   "metadata": {},
   "outputs": [
    {
     "data": {
      "text/plain": [
       "np.float64(inf)"
      ]
     },
     "execution_count": 24,
     "metadata": {},
     "output_type": "execute_result"
    }
   ],
   "source": [
    "inverse_gradients[3]"
   ]
  },
  {
   "cell_type": "code",
   "execution_count": 72,
   "id": "d7b2195c-ed15-4c2f-b357-62a902ec554e",
   "metadata": {},
   "outputs": [],
   "source": [
    "## generate alcove end-points\n",
    "\n",
    "alcove_x_coords_diag = []\n",
    "alcove_x_coords_hori_vert = []\n",
    "alcove_y_coords_diag = []\n",
    "alcove_y_coords_hori_vert = []\n",
    "\n",
    "# scale coordinate values by quadrant signs (going clockwise)\n",
    "x_axis_quadrant_coeff_diag = [1,1,-1,-1]\n",
    "y_axis_quadrant_coeff_diag = [1,-1,-1,1]\n",
    "\n",
    "x_axis_quadrant_coeff_hori_vert = [1,0,-1,0]\n",
    "y_axis_quadrant_coeff_hori_vert = [0,-1,0,1]\n",
    "\n",
    "# loop through each diagonal wall and generate coefficient-scaled coordinate values for x and y\n",
    "for i in range(0,len(vertex_x_thirds),4):  # step by 4 to iter through diagonal walls\n",
    "    alcove_x_coords_diag.append([vertex_x_thirds[i] + alcove_length_axis_projection*x_axis_quadrant_coeff[int(i/4)], vertex_x_thirds[i+1] + alcove_length_axis_projection*x_axis_quadrant_coeff[int(i/4)]])\n",
    "    # alcove_x_coords.append(vertex_x_thirds[i+1] + alcove_length_axis_projection*x_axis_quadrant_coeff[int(i/4)])\n",
    "    \n",
    "    alcove_y_coords_diag.append([vertex_y_thirds[i] + alcove_length_axis_projection*y_axis_quadrant_coeff[int(i/4)], vertex_y_thirds[i+1] + alcove_length_axis_projection*y_axis_quadrant_coeff[int(i/4)]]) \n",
    "    # alcove_y_coords.append(vertex_y_thirds[i+1] + alcove_length_axis_projection*y_axis_quadrant_coeff[int(i/4)])\n",
    "\n",
    "\n",
    "# loop through each diagonal wall and generate coefficient-scaled coordinate values for x and y\n",
    "for i in range(2,len(vertex_x_thirds),4):   # step by 4 to iter through horizontal/vertical walls\n",
    "    x_coordinate_delta = alcove_length_scaled*x_axis_quadrant_coeff_hori_vert[int(i/4)]\n",
    "    alcove_x_coords_hori_vert.append([vertex_x_thirds[i] + x_coordinate_delta, vertex_x_thirds[i+1] + x_coordinate_delta])\n",
    "\n",
    "    y_coordinate_delta = alcove_length_scaled*y_axis_quadrant_coeff_hori_vert[int(i/4)]\n",
    "    alcove_y_coords_hori_vert.append([vertex_y_thirds[i] + y_coordinate_delta, vertex_y_thirds[i+1] + y_coordinate_delta])\n",
    "\n",
    "# interleave the vertical and horizontal coordinates\n",
    "x_lists = [alcove_x_coords_diag, alcove_x_coords_hori_vert]\n",
    "alcove_x_coords = [val for tup in zip(*x_lists) for val in tup]   \n",
    "\n",
    "y_lists = [alcove_y_coords_diag, alcove_y_coords_hori_vert]\n",
    "alcove_y_coords = [val for tup in zip(*y_lists) for val in tup]  "
   ]
  },
  {
   "cell_type": "code",
   "execution_count": 73,
   "id": "8cb19be8-1cd0-431e-b12f-d07f67012001",
   "metadata": {},
   "outputs": [
    {
     "data": {
      "text/plain": [
       "[[15.582040815294189, 12.31592235091189],\n",
       " [-12.31592235091189, -15.582040815294189],\n",
       " [-15.582040815294192, -12.315922350911897],\n",
       " [12.315922350911892, 15.582040815294189]]"
      ]
     },
     "execution_count": 73,
     "metadata": {},
     "output_type": "execute_result"
    }
   ],
   "source": [
    "alcove_y_coords_diag"
   ]
  },
  {
   "cell_type": "code",
   "execution_count": 74,
   "id": "dc0f98c0-c60a-4ce9-adb8-cc1e3c5fae07",
   "metadata": {},
   "outputs": [
    {
     "data": {
      "text/plain": [
       "[[12.31592235091189, 15.582040815294189],\n",
       " [15.582040815294189, 12.31592235091189],\n",
       " [-12.315922350911888, -15.582040815294185],\n",
       " [-15.582040815294192, -12.315922350911897]]"
      ]
     },
     "execution_count": 74,
     "metadata": {},
     "output_type": "execute_result"
    }
   ],
   "source": [
    "alcove_x_coords_diag"
   ]
  },
  {
   "cell_type": "code",
   "execution_count": 75,
   "id": "e28f8d38-8734-4310-8b5f-880bdd4a795f",
   "metadata": {},
   "outputs": [
    {
     "data": {
      "text/plain": [
       "[[19.726838936116845, 19.726838936116845],\n",
       " [2.309494514323318, -2.3094945143233154],\n",
       " [-19.72683893611684, -19.72683893611684],\n",
       " [-2.309494514323324, 2.309494514323313]]"
      ]
     },
     "execution_count": 75,
     "metadata": {},
     "output_type": "execute_result"
    }
   ],
   "source": [
    "alcove_x_coords_hori_vert"
   ]
  },
  {
   "cell_type": "code",
   "execution_count": 76,
   "id": "b865b618-0abb-4f4d-97a5-faee5d68fd36",
   "metadata": {},
   "outputs": [
    {
     "data": {
      "text/plain": [
       "[[2.309494514323318, -2.3094945143233154],\n",
       " [-19.726838936116845, -19.726838936116845],\n",
       " [-2.3094945143233216, 2.3094945143233163],\n",
       " [19.72683893611684, 19.72683893611684]]"
      ]
     },
     "execution_count": 76,
     "metadata": {},
     "output_type": "execute_result"
    }
   ],
   "source": [
    "alcove_y_coords_hori_vert"
   ]
  },
  {
   "cell_type": "code",
   "execution_count": 77,
   "id": "11b53f41-8d21-4e51-a286-28a0cb08682c",
   "metadata": {},
   "outputs": [
    {
     "data": {
      "text/plain": [
       "[[12.31592235091189, 15.582040815294189],\n",
       " [19.726838936116845, 19.726838936116845],\n",
       " [15.582040815294189, 12.31592235091189],\n",
       " [2.309494514323318, -2.3094945143233154],\n",
       " [-12.315922350911888, -15.582040815294185],\n",
       " [-19.72683893611684, -19.72683893611684],\n",
       " [-15.582040815294192, -12.315922350911897],\n",
       " [-2.309494514323324, 2.309494514323313]]"
      ]
     },
     "execution_count": 77,
     "metadata": {},
     "output_type": "execute_result"
    }
   ],
   "source": [
    "alcove_x_coords"
   ]
  },
  {
   "cell_type": "code",
   "execution_count": 78,
   "id": "945f6847-c705-4a40-95f6-80fa1c654486",
   "metadata": {},
   "outputs": [
    {
     "data": {
      "text/plain": [
       "[[15.582040815294189, 12.31592235091189],\n",
       " [2.309494514323318, -2.3094945143233154],\n",
       " [-12.31592235091189, -15.582040815294189],\n",
       " [-19.726838936116845, -19.726838936116845],\n",
       " [-15.582040815294192, -12.315922350911897],\n",
       " [-2.3094945143233216, 2.3094945143233163],\n",
       " [12.315922350911892, 15.582040815294189],\n",
       " [19.72683893611684, 19.72683893611684]]"
      ]
     },
     "execution_count": 78,
     "metadata": {},
     "output_type": "execute_result"
    }
   ],
   "source": [
    "alcove_y_coords"
   ]
  },
  {
   "cell_type": "code",
   "execution_count": 79,
   "id": "e5610ba4-fa94-4330-b0b8-ed49a7e8191d",
   "metadata": {},
   "outputs": [],
   "source": [
    "## flatten the interleaved lists\n",
    "\n",
    "flattened_alcove_x_coords = [val for tup in alcove_x_coords for val in tup]\n",
    "flattened_alcove_y_coords = [val for tup in alcove_y_coords for val in tup]\n"
   ]
  },
  {
   "cell_type": "code",
   "execution_count": 80,
   "id": "7b74a836-dbd8-43e8-b5d0-b675c6b571e8",
   "metadata": {},
   "outputs": [
    {
     "data": {
      "text/plain": [
       "16"
      ]
     },
     "execution_count": 80,
     "metadata": {},
     "output_type": "execute_result"
    }
   ],
   "source": [
    "len(flattened_alcove_y_coords)"
   ]
  },
  {
   "cell_type": "code",
   "execution_count": null,
   "id": "b7f2a634-4093-4642-b788-c3d14f5de3d3",
   "metadata": {},
   "outputs": [],
   "source": []
  },
  {
   "cell_type": "code",
   "execution_count": 81,
   "id": "8c444e9d-5a53-41b1-a7b4-35c3aa4cf48d",
   "metadata": {},
   "outputs": [
    {
     "data": {
      "image/png": "[encoded data removed]",
      "text/plain": [
       "<Figure size 640x480 with 1 Axes>"
      ]
     },
     "metadata": {},
     "output_type": "display_data"
    }
   ],
   "source": [
    "plt.plot(vertex_x, vertex_y)\n",
    "plt.plot(vertex_x_thirds, vertex_y_thirds)\n",
    "plt.scatter(alcove_x_coords, alcove_y_coords)\n",
    "plt.gca().set_aspect(1.)"
   ]
  },
  {
   "cell_type": "code",
   "execution_count": 101,
   "id": "90eca484-6185-4aba-b2d1-7c4e6a32bc49",
   "metadata": {},
   "outputs": [
    {
     "data": {
      "image/png": "[encoded data removed]",
      "text/plain": [
       "<Figure size 640x480 with 1 Axes>"
      ]
     },
     "metadata": {},
     "output_type": "display_data"
    }
   ],
   "source": [
    "plt.plot(vertex_x[0:2], vertex_y[0:2])\n",
    "plt.plot(vertex_x_thirds[0:2], vertex_y_thirds[0:2])\n",
    "plt.scatter(alcove_x_coords[0:1], alcove_y_coords[0:1])\n",
    "plt.gca().set_aspect(1.)"
   ]
  },
  {
   "cell_type": "code",
   "execution_count": 83,
   "id": "b13c9373-7d22-4300-bbe4-5c15a5690e20",
   "metadata": {},
   "outputs": [
    {
     "data": {
      "image/png": "[encoded data removed]",
      "text/plain": [
       "<Figure size 640x480 with 1 Axes>"
      ]
     },
     "metadata": {},
     "output_type": "display_data"
    }
   ],
   "source": [
    "plt.plot(vertex_x, vertex_y)\n",
    "# plt.plot(vertex_x_thirds, vertex_y_thirds)\n",
    "plt.scatter(flattened_alcove_x_coords, flattened_alcove_y_coords)\n",
    "plt.gca().set_aspect(1.)"
   ]
  },
  {
   "cell_type": "code",
   "execution_count": 114,
   "id": "6a244bbf-33a4-4c3f-8582-ae59021b9ef3",
   "metadata": {},
   "outputs": [],
   "source": [
    "# concatenate all of the coordinate lists together in order\n",
    "\n",
    "final_x_coords = []\n",
    "i,j,k = 0,0,0\n",
    "\n",
    "while i < len(vertex_x) and j < len(vertex_x_thirds) and k < len(flattened_alcove_x_coords):\n",
    "    final_x_coords.append(vertex_x[i])\n",
    "    i+=1\n",
    "\n",
    "    final_x_coords.append(vertex_x_thirds[j])\n",
    "    j+=1\n",
    "\n",
    "    final_x_coords.extend(flattened_alcove_x_coords[k:k+2])\n",
    "    k+=2\n",
    "\n",
    "    final_x_coords.append(vertex_x_thirds[j])\n",
    "    j+=1\n",
    "\n",
    "final_x_coords.append(vertex_x[0])\n",
    "\n",
    "final_y_coords = []\n",
    "i,j,k = 0,0,0\n",
    "\n",
    "while i < len(vertex_y) and j < len(vertex_y_thirds) and k < len(flattened_alcove_y_coords):\n",
    "    final_y_coords.append(vertex_y[i])\n",
    "    i+=1\n",
    "\n",
    "    final_y_coords.append(vertex_y_thirds[j])\n",
    "    j+=1\n",
    "\n",
    "    final_y_coords.extend(flattened_alcove_y_coords[k:k+2])\n",
    "    k+=2\n",
    "\n",
    "    final_y_coords.append(vertex_y_thirds[j])\n",
    "    j+=1\n",
    "\n",
    "final_y_coords.append(vertex_y[0])\n",
    "\n",
    "    "
   ]
  },
  {
   "cell_type": "code",
   "execution_count": 115,
   "id": "0ca4fa69-096e-44e3-9018-c62721571c41",
   "metadata": {},
   "outputs": [
    {
     "data": {
      "image/png": "[encoded data removed]",
      "text/plain": [
       "<Figure size 640x480 with 1 Axes>"
      ]
     },
     "metadata": {},
     "output_type": "display_data"
    }
   ],
   "source": [
    "plt.plot(final_x_coords, final_y_coords)\n",
    "plt.gca().set_aspect(1.)"
   ]
  }
 ],
 "metadata": {
  "kernelspec": {
   "display_name": "Python 3 (ipykernel)",
   "language": "python",
   "name": "python3"
  },
  "language_info": {
   "codemirror_mode": {
    "name": "ipython",
    "version": 3
   },
   "file_extension": ".py",
   "mimetype": "text/x-python",
   "name": "python",
   "nbconvert_exporter": "python",
   "pygments_lexer": "ipython3",
   "version": "3.12.5"
  }
 },
 "nbformat": 4,
 "nbformat_minor": 5
}
