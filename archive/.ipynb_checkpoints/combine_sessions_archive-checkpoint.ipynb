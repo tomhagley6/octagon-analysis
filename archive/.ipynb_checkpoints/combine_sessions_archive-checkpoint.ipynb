{
 "cells": [
  {
   "cell_type": "code",
   "execution_count": 1,
   "id": "9f1a43db-a0a7-4c53-bd5e-7bd9d75f9560",
   "metadata": {},
   "outputs": [],
   "source": [
    "import parse_data.preprocess as preprocess\n",
    "import parse_data.loading as loading\n",
    "import parse_data.split_session_by_trial as split_session_by_trial\n",
    "from analysis.response_times import calculate_response_times, plot_response_times\n",
    "from datetime import datetime, timedelta\n",
    "import numpy as np\n",
    "import pandas as pd\n",
    "import scipy\n",
    "import matplotlib.pyplot as plt\n",
    "import globals"
   ]
  },
  {
   "cell_type": "code",
   "execution_count": 2,
   "id": "5a25ec65-0029-45b9-9add-a1b9342821df",
   "metadata": {},
   "outputs": [],
   "source": [
    "# paths\n",
    "# data_folder = '/home/tom/Documents/SWC/data' # desktop Duan Lab\n",
    "# json_filename = '240913_Yansu_Jerry/2024-09-13_11-53-34_YansuSecondSolo.json' \n",
    "# json_filename = '240913_Yansu_Jerry/2024-09-13_11-31-00_YansuJerrySocial.json'\n",
    "data_folder = r'D:\\Users\\Tom\\OneDrive\\PhD\\SWC\\data' # desktop home\n",
    "json_filenames = [r'first_experiments_2409\\240913\\2024-09-13_11-31-00_YansuJerrySocial.json',\n",
    "                  r'second_experiments_2409\\240927\\2024-09-27_14-25-20_SaraEmilySocial.json']\n"
   ]
  },
  {
   "cell_type": "code",
   "execution_count": 3,
   "id": "daf25a71-cecb-4159-b73c-0932c72fb74d",
   "metadata": {},
   "outputs": [
    {
     "name": "stdout",
     "output_type": "stream",
     "text": [
      "Data is from period before 2024-09-13 11:31:00\n",
      "Running dataframe through playerinfo_playerposition_conversion.\n",
      "Loading complete.\n",
      "Loading complete.\n"
     ]
    }
   ],
   "source": [
    "# Load JSON file into pandas df with collapsed data dictionary and adjustments based on date of recording \n",
    "sessions = []\n",
    "for json_filename in json_filenames:\n",
    "    df = loading.loading_pipeline(data_folder, json_filename)\n",
    "    sessions.append(df)"
   ]
  },
  {
   "cell_type": "code",
   "execution_count": 4,
   "id": "216cda91-882e-4b7d-9f86-7131da70bc20",
   "metadata": {},
   "outputs": [
    {
     "name": "stdout",
     "output_type": "stream",
     "text": [
      "Preprocessing complete.\n",
      "Preprocessing complete.\n"
     ]
    }
   ],
   "source": [
    "# Pre-process data \n",
    "preprocessed_sessions = []\n",
    "for session in sessions:\n",
    "    df = preprocess.standard_preprocessing(session)\n",
    "    preprocessed_sessions.append(df)"
   ]
  },
  {
   "cell_type": "code",
   "execution_count": 5,
   "id": "62ec8495-c1fa-4618-94be-7feaf282b8cf",
   "metadata": {},
   "outputs": [],
   "source": [
    "# split trials and remove the first (and last, if incomplete) of each session before re-concatenating\n",
    "split_trial_sessions = []\n",
    "for session in preprocessed_sessions:\n",
    "    trial_list = split_session_by_trial.split_session_by_trial(session) # This will remove the first trial and any unfinished final trial\n",
    "    split_trial_sessions.append(trial_list)\n",
    "\n",
    "reconcatenated_sessions = []\n",
    "for trial_list in split_trial_sessions:\n",
    "    reconcatenated_session = pd.concat(trial_list)\n",
    "    reconcatenated_sessions.append(reconcatenated_session)\n",
    "\n",
    "    "
   ]
  },
  {
   "cell_type": "code",
   "execution_count": 6,
   "id": "63a73a6f-fd72-4eb0-8399-7a2b5fa52cea",
   "metadata": {},
   "outputs": [],
   "source": [
    "# Create continuity between sessions in \n",
    "# find final time of session\n",
    "\n",
    "sessions_with_continuity = []\n",
    "for i in range(len(reconcatenated_sessions)):\n",
    "\n",
    "    # copy dataframe to edit\n",
    "    df = reconcatenated_sessions[i].copy()\n",
    "\n",
    "    # increment current dataframe's data values by previous dataframe's final values\n",
    "    if i > 0:\n",
    "        # df['timeLocal'] = df['timeLocal'] + final_local_time\n",
    "        df['timeApplication'] = df['timeApplication'] + final_application_time\n",
    "        df['timeReferenced'] = df['timeReferenced'] + final_relative_time\n",
    "        df[globals.TRIAL_NUM] = df[globals.TRIAL_NUM] + final_trial_num\n",
    "\n",
    "    # record final data values for the current dataframe\n",
    "    # final_local_time = df['timeLocal'].iloc[-1]\n",
    "    final_application_time = df['timeApplication'].iloc[-1]\n",
    "    final_relative_time = df['timeReferenced'].iloc[-1]\n",
    "    final_trial_num = df[globals.TRIAL_NUM].iloc[-1]\n",
    "\n",
    "    sessions_with_continuity.append(df)"
   ]
  },
  {
   "cell_type": "code",
   "execution_count": 8,
   "id": "c8ffa87b-09c7-4498-88af-5ceee54b80b0",
   "metadata": {},
   "outputs": [],
   "source": [
    "df1 = sessions_with_continuity[0]\n",
    "df2 = sessions_with_continuity[1]\n"
   ]
  },
  {
   "cell_type": "code",
   "execution_count": 9,
   "id": "acbce453-de35-4bcf-9e7e-9d61aa2101c7",
   "metadata": {},
   "outputs": [
    {
     "data": {
      "text/plain": [
       "61978   0 days 00:22:16.422000\n",
       "61979   0 days 00:22:16.442000\n",
       "61980   0 days 00:22:16.463000\n",
       "61981   0 days 00:22:16.484000\n",
       "61982   0 days 00:22:16.505000\n",
       "Name: timeApplication, dtype: timedelta64[ns]"
      ]
     },
     "execution_count": 9,
     "metadata": {},
     "output_type": "execute_result"
    }
   ],
   "source": [
    "df1['timeApplication'].tail()"
   ]
  },
  {
   "cell_type": "code",
   "execution_count": 10,
   "id": "bf8500a2-4a1b-4f2c-aadd-66b890e0100e",
   "metadata": {},
   "outputs": [
    {
     "data": {
      "text/plain": [
       "51617   0 days 00:40:26.556000\n",
       "51618   0 days 00:40:26.577000\n",
       "51619   0 days 00:40:26.598000\n",
       "51620   0 days 00:40:26.619000\n",
       "51621   0 days 00:40:26.640000\n",
       "Name: timeApplication, dtype: timedelta64[ns]"
      ]
     },
     "execution_count": 10,
     "metadata": {},
     "output_type": "execute_result"
    }
   ],
   "source": [
    "df2['timeApplication'].tail()"
   ]
  },
  {
   "cell_type": "code",
   "execution_count": 11,
   "id": "4cd59c4f-b108-4ff4-aa1a-389cfd45d234",
   "metadata": {},
   "outputs": [],
   "source": [
    "# combine the dataframes\n",
    "combined_sessions = pd.concat(sessions_with_continuity)\n",
    "    "
   ]
  },
  {
   "cell_type": "code",
   "execution_count": 12,
   "id": "467a5356-5049-4a0f-a8d1-2e129147aeab",
   "metadata": {},
   "outputs": [
    {
     "data": {
      "text/html": [
       "<div>\n",
       "<style scoped>\n",
       "    .dataframe tbody tr th:only-of-type {\n",
       "        vertical-align: middle;\n",
       "    }\n",
       "\n",
       "    .dataframe tbody tr th {\n",
       "        vertical-align: top;\n",
       "    }\n",
       "\n",
       "    .dataframe thead th {\n",
       "        text-align: right;\n",
       "    }\n",
       "</style>\n",
       "<table border=\"1\" class=\"dataframe\">\n",
       "  <thead>\n",
       "    <tr style=\"text-align: right;\">\n",
       "      <th></th>\n",
       "      <th>timeLocal</th>\n",
       "      <th>timeApplication</th>\n",
       "      <th>eventDescription</th>\n",
       "      <th>data.playerPosition.0.clientId</th>\n",
       "      <th>data.playerPosition.0.location.x</th>\n",
       "      <th>data.playerPosition.0.location.y</th>\n",
       "      <th>data.playerPosition.0.location.z</th>\n",
       "      <th>data.playerPosition.0.rotation.x</th>\n",
       "      <th>data.playerPosition.0.rotation.y</th>\n",
       "      <th>data.playerPosition.0.rotation.z</th>\n",
       "      <th>data.playerPosition.1.clientId</th>\n",
       "      <th>data.playerPosition.1.location.x</th>\n",
       "      <th>data.playerPosition.1.location.y</th>\n",
       "      <th>data.playerPosition.1.location.z</th>\n",
       "      <th>data.playerPosition.1.rotation.x</th>\n",
       "      <th>data.playerPosition.1.rotation.y</th>\n",
       "      <th>data.playerPosition.1.rotation.z</th>\n",
       "      <th>data.trialNum</th>\n",
       "      <th>data.trialType</th>\n",
       "      <th>data.wall1</th>\n",
       "      <th>data.wall2</th>\n",
       "      <th>data.wallTriggered</th>\n",
       "      <th>data.triggerClient</th>\n",
       "      <th>data.playerScores.0</th>\n",
       "      <th>data.playerScores.1</th>\n",
       "      <th>timeReferenced</th>\n",
       "      <th>trial_epoch</th>\n",
       "    </tr>\n",
       "  </thead>\n",
       "  <tbody>\n",
       "    <tr>\n",
       "      <th>51617</th>\n",
       "      <td>1900-01-01 14:43:21.813</td>\n",
       "      <td>0 days 00:40:26.556000</td>\n",
       "      <td>time</td>\n",
       "      <td>0.0</td>\n",
       "      <td>0.879479706</td>\n",
       "      <td>1.984999657</td>\n",
       "      <td>-19.674154282</td>\n",
       "      <td>2.956711531</td>\n",
       "      <td>188.982650757</td>\n",
       "      <td>0.0</td>\n",
       "      <td>1.0</td>\n",
       "      <td>0.209914446</td>\n",
       "      <td>1.985000014</td>\n",
       "      <td>-6.164743423</td>\n",
       "      <td>2.956711531</td>\n",
       "      <td>178.103149414</td>\n",
       "      <td>0.0</td>\n",
       "      <td>233.0</td>\n",
       "      <td>post-trials</td>\n",
       "      <td>NaN</td>\n",
       "      <td>NaN</td>\n",
       "      <td>NaN</td>\n",
       "      <td>NaN</td>\n",
       "      <td>1520.0</td>\n",
       "      <td>NaN</td>\n",
       "      <td>0 days 00:39:21.317000</td>\n",
       "      <td>ITI</td>\n",
       "    </tr>\n",
       "    <tr>\n",
       "      <th>51618</th>\n",
       "      <td>1900-01-01 14:43:21.835</td>\n",
       "      <td>0 days 00:40:26.577000</td>\n",
       "      <td>time</td>\n",
       "      <td>0.0</td>\n",
       "      <td>0.879479706</td>\n",
       "      <td>1.984999657</td>\n",
       "      <td>-19.674154282</td>\n",
       "      <td>2.956711531</td>\n",
       "      <td>188.982650757</td>\n",
       "      <td>0.0</td>\n",
       "      <td>1.0</td>\n",
       "      <td>0.209914446</td>\n",
       "      <td>1.985000014</td>\n",
       "      <td>-6.164743423</td>\n",
       "      <td>2.956711531</td>\n",
       "      <td>178.103149414</td>\n",
       "      <td>0.0</td>\n",
       "      <td>233.0</td>\n",
       "      <td>post-trials</td>\n",
       "      <td>NaN</td>\n",
       "      <td>NaN</td>\n",
       "      <td>NaN</td>\n",
       "      <td>NaN</td>\n",
       "      <td>1520.0</td>\n",
       "      <td>NaN</td>\n",
       "      <td>0 days 00:39:21.338000</td>\n",
       "      <td>ITI</td>\n",
       "    </tr>\n",
       "    <tr>\n",
       "      <th>51619</th>\n",
       "      <td>1900-01-01 14:43:21.855</td>\n",
       "      <td>0 days 00:40:26.598000</td>\n",
       "      <td>time</td>\n",
       "      <td>0.0</td>\n",
       "      <td>0.879479706</td>\n",
       "      <td>1.984999657</td>\n",
       "      <td>-19.674154282</td>\n",
       "      <td>2.956711531</td>\n",
       "      <td>188.982650757</td>\n",
       "      <td>0.0</td>\n",
       "      <td>1.0</td>\n",
       "      <td>0.209914446</td>\n",
       "      <td>1.985000014</td>\n",
       "      <td>-6.164743423</td>\n",
       "      <td>2.956711531</td>\n",
       "      <td>178.103149414</td>\n",
       "      <td>0.0</td>\n",
       "      <td>233.0</td>\n",
       "      <td>post-trials</td>\n",
       "      <td>NaN</td>\n",
       "      <td>NaN</td>\n",
       "      <td>NaN</td>\n",
       "      <td>NaN</td>\n",
       "      <td>1520.0</td>\n",
       "      <td>NaN</td>\n",
       "      <td>0 days 00:39:21.359000</td>\n",
       "      <td>ITI</td>\n",
       "    </tr>\n",
       "    <tr>\n",
       "      <th>51620</th>\n",
       "      <td>1900-01-01 14:43:21.877</td>\n",
       "      <td>0 days 00:40:26.619000</td>\n",
       "      <td>time</td>\n",
       "      <td>0.0</td>\n",
       "      <td>0.879479706</td>\n",
       "      <td>1.984999657</td>\n",
       "      <td>-19.674154282</td>\n",
       "      <td>2.956711531</td>\n",
       "      <td>188.982650757</td>\n",
       "      <td>0.0</td>\n",
       "      <td>1.0</td>\n",
       "      <td>0.209914446</td>\n",
       "      <td>1.985000014</td>\n",
       "      <td>-6.164743423</td>\n",
       "      <td>2.956711531</td>\n",
       "      <td>178.103149414</td>\n",
       "      <td>0.0</td>\n",
       "      <td>233.0</td>\n",
       "      <td>post-trials</td>\n",
       "      <td>NaN</td>\n",
       "      <td>NaN</td>\n",
       "      <td>NaN</td>\n",
       "      <td>NaN</td>\n",
       "      <td>1520.0</td>\n",
       "      <td>NaN</td>\n",
       "      <td>0 days 00:39:21.380000</td>\n",
       "      <td>ITI</td>\n",
       "    </tr>\n",
       "    <tr>\n",
       "      <th>51621</th>\n",
       "      <td>1900-01-01 14:43:21.897</td>\n",
       "      <td>0 days 00:40:26.640000</td>\n",
       "      <td>time</td>\n",
       "      <td>0.0</td>\n",
       "      <td>0.879479706</td>\n",
       "      <td>1.984999657</td>\n",
       "      <td>-19.674154282</td>\n",
       "      <td>2.956711531</td>\n",
       "      <td>188.982650757</td>\n",
       "      <td>0.0</td>\n",
       "      <td>1.0</td>\n",
       "      <td>0.209914446</td>\n",
       "      <td>1.985000014</td>\n",
       "      <td>-6.164743423</td>\n",
       "      <td>2.956711531</td>\n",
       "      <td>178.103149414</td>\n",
       "      <td>0.0</td>\n",
       "      <td>233.0</td>\n",
       "      <td>post-trials</td>\n",
       "      <td>NaN</td>\n",
       "      <td>NaN</td>\n",
       "      <td>NaN</td>\n",
       "      <td>NaN</td>\n",
       "      <td>1520.0</td>\n",
       "      <td>NaN</td>\n",
       "      <td>0 days 00:39:21.401000</td>\n",
       "      <td>ITI</td>\n",
       "    </tr>\n",
       "  </tbody>\n",
       "</table>\n",
       "</div>"
      ],
      "text/plain": [
       "                    timeLocal        timeApplication eventDescription  data.playerPosition.0.clientId  data.playerPosition.0.location.x  data.playerPosition.0.location.y  data.playerPosition.0.location.z  data.playerPosition.0.rotation.x  data.playerPosition.0.rotation.y  data.playerPosition.0.rotation.z  data.playerPosition.1.clientId  data.playerPosition.1.location.x  data.playerPosition.1.location.y  data.playerPosition.1.location.z  data.playerPosition.1.rotation.x  data.playerPosition.1.rotation.y  data.playerPosition.1.rotation.z  data.trialNum data.trialType  data.wall1  data.wall2  data.wallTriggered  data.triggerClient  data.playerScores.0  data.playerScores.1         timeReferenced trial_epoch\n",
       "51617 1900-01-01 14:43:21.813 0 days 00:40:26.556000             time                             0.0                       0.879479706                       1.984999657                     -19.674154282                       2.956711531                     188.982650757                               0.0                             1.0                       0.209914446                       1.985000014                      -6.164743423                       2.956711531                     178.103149414                               0.0          233.0    post-trials         NaN         NaN                 NaN                 NaN               1520.0                  NaN 0 days 00:39:21.317000         ITI\n",
       "51618 1900-01-01 14:43:21.835 0 days 00:40:26.577000             time                             0.0                       0.879479706                       1.984999657                     -19.674154282                       2.956711531                     188.982650757                               0.0                             1.0                       0.209914446                       1.985000014                      -6.164743423                       2.956711531                     178.103149414                               0.0          233.0    post-trials         NaN         NaN                 NaN                 NaN               1520.0                  NaN 0 days 00:39:21.338000         ITI\n",
       "51619 1900-01-01 14:43:21.855 0 days 00:40:26.598000             time                             0.0                       0.879479706                       1.984999657                     -19.674154282                       2.956711531                     188.982650757                               0.0                             1.0                       0.209914446                       1.985000014                      -6.164743423                       2.956711531                     178.103149414                               0.0          233.0    post-trials         NaN         NaN                 NaN                 NaN               1520.0                  NaN 0 days 00:39:21.359000         ITI\n",
       "51620 1900-01-01 14:43:21.877 0 days 00:40:26.619000             time                             0.0                       0.879479706                       1.984999657                     -19.674154282                       2.956711531                     188.982650757                               0.0                             1.0                       0.209914446                       1.985000014                      -6.164743423                       2.956711531                     178.103149414                               0.0          233.0    post-trials         NaN         NaN                 NaN                 NaN               1520.0                  NaN 0 days 00:39:21.380000         ITI\n",
       "51621 1900-01-01 14:43:21.897 0 days 00:40:26.640000             time                             0.0                       0.879479706                       1.984999657                     -19.674154282                       2.956711531                     188.982650757                               0.0                             1.0                       0.209914446                       1.985000014                      -6.164743423                       2.956711531                     178.103149414                               0.0          233.0    post-trials         NaN         NaN                 NaN                 NaN               1520.0                  NaN 0 days 00:39:21.401000         ITI"
      ]
     },
     "execution_count": 12,
     "metadata": {},
     "output_type": "execute_result"
    }
   ],
   "source": [
    "combined_sessions.tail()"
   ]
  },
  {
   "cell_type": "code",
   "execution_count": 13,
   "id": "e697148e-8c52-424e-b854-91ba7c72fed6",
   "metadata": {},
   "outputs": [
    {
     "data": {
      "text/plain": [
       "61973    ITI\n",
       "61974    ITI\n",
       "61975    ITI\n",
       "61976    ITI\n",
       "61977    ITI\n",
       "61978    ITI\n",
       "61979    ITI\n",
       "61980    ITI\n",
       "61981    ITI\n",
       "61982    ITI\n",
       "Name: trial_epoch, dtype: object"
      ]
     },
     "execution_count": 13,
     "metadata": {},
     "output_type": "execute_result"
    }
   ],
   "source": [
    "df1[df1[globals.TRIAL_NUM] == 129.0]['trial_epoch'].tail(10)"
   ]
  },
  {
   "cell_type": "code",
   "execution_count": null,
   "id": "0e81aae7-a5c2-4140-87f9-0e75e11849a3",
   "metadata": {},
   "outputs": [],
   "source": []
  }
 ],
 "metadata": {
  "kernelspec": {
   "display_name": "Python 3 (ipykernel)",
   "language": "python",
   "name": "python3"
  },
  "language_info": {
   "codemirror_mode": {
    "name": "ipython",
    "version": 3
   },
   "file_extension": ".py",
   "mimetype": "text/x-python",
   "name": "python",
   "nbconvert_exporter": "python",
   "pygments_lexer": "ipython3",
   "version": "3.12.5"
  }
 },
 "nbformat": 4,
 "nbformat_minor": 5
}
