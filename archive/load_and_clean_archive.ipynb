{
 "cells": [
  {
   "cell_type": "code",
   "execution_count": 1,
   "id": "53db7428-6b0d-4707-967d-fc5bb3d6ceb1",
   "metadata": {},
   "outputs": [],
   "source": [
    "import json\n",
    "import os\n",
    "import re\n",
    "from datetime import datetime, timedelta\n",
    "import numpy as np\n",
    "import pandas as pd\n",
    "from matplotlib import pyplot as plt\n",
    "from handle_specific_datasets import playerinfo_playerposition_conversion\n",
    "\n",
    "pd.set_option('display.precision', 9)\n",
    "pd.set_option('display.width', 1000)  # Adjust to ensure there's enough room for all data\n",
    "pd.set_option('display.max_columns', None)  # Show all columns\n",
    "\n",
    "json_normalise = True"
   ]
  },
  {
   "cell_type": "code",
   "execution_count": 2,
   "id": "7639dcce-66cf-49db-9d93-d1132339f013",
   "metadata": {},
   "outputs": [],
   "source": [
    "### Load JSON data and prepare it for analysis ###"
   ]
  },
  {
   "cell_type": "code",
   "execution_count": 3,
   "id": "814b72e3-c240-4a5e-ace1-0b481dfacf9e",
   "metadata": {},
   "outputs": [],
   "source": [
    "# paths\n",
    "# data_folder = '/home/tom/Documents/SWC/data' # desktop Duan Lab\n",
    "# json_filename = '240913_Yansu_Jerry/2024-09-13_11-23-37_YansuFirstSolo.json' \n",
    "data_folder = r'D:\\Users\\Tom\\OneDrive\\PhD\\SWC\\data' # desktop home\n",
    "json_filename = r'first_experiments_2409\\240913\\2024-09-13_11-23-37_YansuFirstSolo.json'\n",
    "filepath = data_folder + os.sep + json_filename\n"
   ]
  },
  {
   "cell_type": "code",
   "execution_count": 4,
   "id": "4d8aecb5-988e-4fb6-b6ca-ee1c1c727642",
   "metadata": {},
   "outputs": [],
   "source": [
    "## Load JSON file into pandas df with collapsed data dictionary ##"
   ]
  },
  {
   "cell_type": "code",
   "execution_count": 5,
   "id": "63a68126-aa42-47ba-96f6-457bb7e35b05",
   "metadata": {},
   "outputs": [],
   "source": [
    "# Note json_normalize requires the json file, whereas read_json requires the filepath\n",
    "if json_normalise == True:\n",
    "    with open(filepath) as f:\n",
    "        file = json.load(f)\n",
    "        df = pd.json_normalize(file)\n",
    "else:\n",
    "    with open(filepath) as f:\n",
    "        df = pd.read_json(f)\n",
    "        print(type(df))"
   ]
  },
  {
   "cell_type": "code",
   "execution_count": 6,
   "id": "aae275fc-b493-45de-812e-05cf40246f9b",
   "metadata": {},
   "outputs": [],
   "source": [
    "# Convert time columns into datetime format\n",
    "df['timeLocal'] = pd.to_datetime(df['timeLocal'], format='%H:%M:%S:%f')\n",
    "\n",
    "# Use to_timedelta instead as a vectorised function (lambdas are python loops)\n",
    "# df['timeApplication'] = df['timeApplication'].apply(lambda x: timedelta(seconds=int(x) + (x - int(x))))\n",
    "df['timeApplication'] = pd.to_numeric(df['timeApplication']) \n",
    "df['timeApplication'] = pd.to_timedelta(df['timeApplication'], unit='s')"
   ]
  },
  {
   "cell_type": "code",
   "execution_count": 7,
   "id": "1be002b3-bfee-40b8-9f65-1c436c6de844",
   "metadata": {},
   "outputs": [],
   "source": [
    "## handle data based on date ##"
   ]
  },
  {
   "cell_type": "code",
   "execution_count": 8,
   "id": "e0ecd5f4-b736-4b1e-a604-3dd636943ffa",
   "metadata": {},
   "outputs": [
    {
     "name": "stdout",
     "output_type": "stream",
     "text": [
      "Data is from period before 2024-09-13 11:23:37\n",
      "Running dataframe through playerinfo_playerposition_conversion.\n"
     ]
    }
   ],
   "source": [
    "# find date string in filename\n",
    "pattern = r'\\d{4}-\\d{2}-\\d{2}_\\d{2}-\\d{2}-\\d{2}'\n",
    "match = re.search(pattern, json_filename)\n",
    "\n",
    "# convert date string to datetime\n",
    "timestamp_dt = datetime.strptime(match.group(), \"%Y-%m-%d_%H-%M-%S\")\n",
    "\n",
    "# list of all dates with data that needs specific handling\n",
    "date_first_experiment = datetime.strptime(\"2024-09-13\", \"%Y-%m-%d\")\n",
    "\n",
    "# conditional statements based on date of data\n",
    "if timestamp_dt < date_first_experiment + timedelta(days=1):\n",
    "    print(f\"Data is from period before {timestamp_dt}\")\n",
    "    df = playerinfo_playerposition_conversion(df)\n",
    "    print(f\"Running dataframe through playerinfo_playerposition_conversion.\")"
   ]
  },
  {
   "cell_type": "code",
   "execution_count": 9,
   "id": "079e4bcc-0ade-4f39-aa04-9d3a30cf2c3d",
   "metadata": {},
   "outputs": [],
   "source": [
    "### Pre-process data"
   ]
  },
  {
   "cell_type": "code",
   "execution_count": 10,
   "id": "5b7f7919-b028-4b65-bec9-fa607ce05356",
   "metadata": {},
   "outputs": [],
   "source": [
    "# Take time in reference to start time\n",
    "def reference_application_time(df):\n",
    "    df2 = df.copy()\n",
    "    start_time = df['timeApplication'].iloc[0]\n",
    "    df2['timeReferenced'] = df['timeApplication'] - start_time\n",
    "\n",
    "    return df2\n"
   ]
  },
  {
   "cell_type": "code",
   "execution_count": 11,
   "id": "f8808924-84e1-4a5f-b6ca-bcbe4a7a4f34",
   "metadata": {},
   "outputs": [],
   "source": [
    "df = reference_application_time(df)"
   ]
  },
  {
   "cell_type": "code",
   "execution_count": 12,
   "id": "83a555c3-d312-430e-9431-6361b699256b",
   "metadata": {},
   "outputs": [],
   "source": [
    "# Fill nans in trialNum with the correct trial number (starting at 0 for pre-trial data)\n",
    "# This is needed because trialNum is only recorded at the single timepoint that trialNum changes\n",
    "def fill_trial_zero(df):\n",
    "    df2 = df.copy()\n",
    "    df2.loc[0, 'data.trialNum'] = 0 # Manually change first entry to 0 and fill forward\n",
    "                                     # This means nans after trial 1 will not be set to 0\n",
    "    df2['data.trialNum'] = df2['data.trialNum'].ffill()\n",
    "\n",
    "    return df2"
   ]
  },
  {
   "cell_type": "code",
   "execution_count": 13,
   "id": "dd96df6f-2edb-40a2-8fa8-a4fbef7817bb",
   "metadata": {},
   "outputs": [],
   "source": [
    "# Fill player scores \n",
    "def fill_player_scores_solo(df):\n",
    "    df2 = df.copy()\n",
    "    df2.loc[0, 'data.playerScores.0'] = 0 \n",
    "    df2['data.playerScores.0'] = df2['data.playerScores.0'].ffill()\n",
    "\n",
    "    return df2"
   ]
  },
  {
   "cell_type": "code",
   "execution_count": 14,
   "id": "23a9e928-f8c5-4931-a30f-b10c2fa6760b",
   "metadata": {},
   "outputs": [],
   "source": [
    "# Fill current trial type and account for data pre trial 1\n",
    "def fill_trial_type(df):\n",
    "    df2 = df.copy()\n",
    "    df2.loc[0, 'data.trialType'] = 'pre-trials'\n",
    "    df2['data.trialType'] = df2['data.trialType'].ffill()\n",
    "\n",
    "    return df2"
   ]
  },
  {
   "cell_type": "code",
   "execution_count": 15,
   "id": "bcd4ef94-d7ba-4dd5-8e71-440bbcadd48c",
   "metadata": {},
   "outputs": [],
   "source": [
    "# Fill data past the final trial end with post-trials label\n",
    "def fill_post_final_trial_type(df):\n",
    "    df2 = df.copy()\n",
    "\n",
    "    # Find the indices for the final trial end and final trial start log events\n",
    "    final_trial_end_idx = df2[df2['eventDescription'] == 'trial end'].index[-1] if not df[df['eventDescription'] == 'trial end'].empty else None\n",
    "    final_trial_start_idx = df2[df2['eventDescription'] == 'trial start'].index[-1] if not df[df['eventDescription'] == 'trial start'].empty else None\n",
    "\n",
    "    # Fill indices after final trial end with a post-trial label if there is a subsequent trial start\n",
    "    if final_trial_end_idx < final_trial_start_idx:\n",
    "        df2.loc[final_trial_end_idx + 1:, 'data.trialType'] = 'post-trials'\n",
    "    \n",
    "    return df2"
   ]
  },
  {
   "cell_type": "code",
   "execution_count": 16,
   "id": "fddcbdfe-0c65-4c1b-9135-e61b5c6d23e4",
   "metadata": {},
   "outputs": [],
   "source": [
    "# Fill current trial type for all rows\n",
    "def fill_trial_type_full(df):\n",
    "    df = fill_trial_type(df)\n",
    "    df = fill_post_final_trial_type(df)\n",
    "\n",
    "    return df"
   ]
  },
  {
   "cell_type": "code",
   "execution_count": 17,
   "id": "c8a53b04-62cf-4568-b95f-3793f599e44e",
   "metadata": {},
   "outputs": [],
   "source": [
    "# Fill currently active walls with values throughout the trial \n",
    "# But only between start of trial and end of trial indices\n",
    "def fill_trial_walls(df): \n",
    "    df2 = df.copy()\n",
    "    \n",
    "    trial_start_indices = df2[df2['eventDescription'] == 'trial start'].index\n",
    "    slice_onset_indices = df2[df2['eventDescription'] == 'slice onset'].index\n",
    "    trial_end_indices = df2[df2['eventDescription'] == 'trial end'].index    \n",
    "\n",
    "    for idx in range(len(trial_start_indices) -1):\n",
    "        # Forward fill the wall numbers from slice onset to end trial\n",
    "        df2.loc[slice_onset_indices[idx]:trial_end_indices[idx], 'data.wall1'] = df2.loc[slice_onset_indices[idx]:trial_end_indices[idx], 'data.wall1'].ffill()\n",
    "        df2.loc[slice_onset_indices[idx]:trial_end_indices[idx], 'data.wall2'] = df2.loc[slice_onset_indices[idx]:trial_end_indices[idx], 'data.wall2'].ffill()\n",
    "\n",
    "        # Backwards fill the wall numbers from slice onset to start trial\n",
    "        df2.loc[trial_start_indices[idx]:slice_onset_indices[idx], 'data.wall1'] = df2.loc[trial_start_indices[idx]:slice_onset_indices[idx], 'data.wall1'].bfill()\n",
    "        df2.loc[trial_start_indices[idx]:slice_onset_indices[idx], 'data.wall2'] = df2.loc[trial_start_indices[idx]:slice_onset_indices[idx], 'data.wall2'].bfill()\n",
    "    \n",
    "    return df2\n",
    "    "
   ]
  },
  {
   "cell_type": "code",
   "execution_count": 18,
   "id": "9ea2d199-4cd9-4525-a051-0e183181947d",
   "metadata": {},
   "outputs": [],
   "source": [
    "## Data cleaning functions"
   ]
  },
  {
   "cell_type": "code",
   "execution_count": null,
   "id": "29771e4f-1783-457d-87c5-5e364772d068",
   "metadata": {},
   "outputs": [],
   "source": [
    "df = fill_trial_zero(df)\n",
    "\n",
    "df = fill_trial_type_full(df)\n",
    "\n",
    "df = fill_player_scores_solo(df)\n",
    "\n",
    "df = fill_trial_walls(df)"
   ]
  },
  {
   "cell_type": "code",
   "execution_count": 23,
   "id": "cf803b15-c1e6-4522-b8b3-6d5254630f96",
   "metadata": {},
   "outputs": [
    {
     "data": {
      "text/html": [
       "<div>\n",
       "<style scoped>\n",
       "    .dataframe tbody tr th:only-of-type {\n",
       "        vertical-align: middle;\n",
       "    }\n",
       "\n",
       "    .dataframe tbody tr th {\n",
       "        vertical-align: top;\n",
       "    }\n",
       "\n",
       "    .dataframe thead th {\n",
       "        text-align: right;\n",
       "    }\n",
       "</style>\n",
       "<table border=\"1\" class=\"dataframe\">\n",
       "  <thead>\n",
       "    <tr style=\"text-align: right;\">\n",
       "      <th></th>\n",
       "      <th>timeLocal</th>\n",
       "      <th>timeApplication</th>\n",
       "      <th>eventDescription</th>\n",
       "      <th>data.playerPosition.0.clientId</th>\n",
       "      <th>data.playerPosition.0.location.x</th>\n",
       "      <th>data.playerPosition.0.location.y</th>\n",
       "      <th>data.playerPosition.0.location.z</th>\n",
       "      <th>data.playerPosition.0.rotation.x</th>\n",
       "      <th>data.playerPosition.0.rotation.y</th>\n",
       "      <th>data.playerPosition.0.rotation.z</th>\n",
       "      <th>data.trialNum</th>\n",
       "      <th>data.trialType</th>\n",
       "      <th>data.wall1</th>\n",
       "      <th>data.wall2</th>\n",
       "      <th>data.wallTriggered</th>\n",
       "      <th>data.triggerClient</th>\n",
       "      <th>data.playerScores.0</th>\n",
       "      <th>timeReferenced</th>\n",
       "    </tr>\n",
       "  </thead>\n",
       "  <tbody>\n",
       "    <tr>\n",
       "      <th>18332</th>\n",
       "      <td>1900-01-01 11:29:57.224</td>\n",
       "      <td>0 days 00:56:38.235000</td>\n",
       "      <td>time</td>\n",
       "      <td>0.0</td>\n",
       "      <td>-11.71938324</td>\n",
       "      <td>1.984999657</td>\n",
       "      <td>-10.102360725</td>\n",
       "      <td>300.368225098</td>\n",
       "      <td>199.382156372</td>\n",
       "      <td>0.0</td>\n",
       "      <td>31.0</td>\n",
       "      <td>post-trials</td>\n",
       "      <td>NaN</td>\n",
       "      <td>NaN</td>\n",
       "      <td>NaN</td>\n",
       "      <td>NaN</td>\n",
       "      <td>1380.0</td>\n",
       "      <td>0 days 00:06:19.918000</td>\n",
       "    </tr>\n",
       "    <tr>\n",
       "      <th>18333</th>\n",
       "      <td>1900-01-01 11:29:57.245</td>\n",
       "      <td>0 days 00:56:38.255000</td>\n",
       "      <td>time</td>\n",
       "      <td>0.0</td>\n",
       "      <td>-11.71938324</td>\n",
       "      <td>1.984999657</td>\n",
       "      <td>-10.102360725</td>\n",
       "      <td>300.368225098</td>\n",
       "      <td>199.382156372</td>\n",
       "      <td>0.0</td>\n",
       "      <td>31.0</td>\n",
       "      <td>post-trials</td>\n",
       "      <td>NaN</td>\n",
       "      <td>NaN</td>\n",
       "      <td>NaN</td>\n",
       "      <td>NaN</td>\n",
       "      <td>1380.0</td>\n",
       "      <td>0 days 00:06:19.938000</td>\n",
       "    </tr>\n",
       "    <tr>\n",
       "      <th>18334</th>\n",
       "      <td>1900-01-01 11:29:57.265</td>\n",
       "      <td>0 days 00:56:38.276000</td>\n",
       "      <td>time</td>\n",
       "      <td>0.0</td>\n",
       "      <td>-11.71938324</td>\n",
       "      <td>1.984999657</td>\n",
       "      <td>-10.102360725</td>\n",
       "      <td>300.368225098</td>\n",
       "      <td>199.382156372</td>\n",
       "      <td>0.0</td>\n",
       "      <td>31.0</td>\n",
       "      <td>post-trials</td>\n",
       "      <td>NaN</td>\n",
       "      <td>NaN</td>\n",
       "      <td>NaN</td>\n",
       "      <td>NaN</td>\n",
       "      <td>1380.0</td>\n",
       "      <td>0 days 00:06:19.959000</td>\n",
       "    </tr>\n",
       "    <tr>\n",
       "      <th>18335</th>\n",
       "      <td>1900-01-01 11:29:57.286</td>\n",
       "      <td>0 days 00:56:38.297000</td>\n",
       "      <td>time</td>\n",
       "      <td>0.0</td>\n",
       "      <td>-11.71938324</td>\n",
       "      <td>1.984999657</td>\n",
       "      <td>-10.102360725</td>\n",
       "      <td>300.368225098</td>\n",
       "      <td>199.382156372</td>\n",
       "      <td>0.0</td>\n",
       "      <td>31.0</td>\n",
       "      <td>post-trials</td>\n",
       "      <td>NaN</td>\n",
       "      <td>NaN</td>\n",
       "      <td>NaN</td>\n",
       "      <td>NaN</td>\n",
       "      <td>1380.0</td>\n",
       "      <td>0 days 00:06:19.980000</td>\n",
       "    </tr>\n",
       "    <tr>\n",
       "      <th>18336</th>\n",
       "      <td>1900-01-01 11:29:57.401</td>\n",
       "      <td>0 days 00:56:38.412000</td>\n",
       "      <td>logging end</td>\n",
       "      <td>NaN</td>\n",
       "      <td>NaN</td>\n",
       "      <td>NaN</td>\n",
       "      <td>NaN</td>\n",
       "      <td>NaN</td>\n",
       "      <td>NaN</td>\n",
       "      <td>NaN</td>\n",
       "      <td>31.0</td>\n",
       "      <td>post-trials</td>\n",
       "      <td>NaN</td>\n",
       "      <td>NaN</td>\n",
       "      <td>NaN</td>\n",
       "      <td>NaN</td>\n",
       "      <td>1380.0</td>\n",
       "      <td>0 days 00:06:20.095000</td>\n",
       "    </tr>\n",
       "  </tbody>\n",
       "</table>\n",
       "</div>"
      ],
      "text/plain": [
       "                    timeLocal        timeApplication eventDescription  data.playerPosition.0.clientId  data.playerPosition.0.location.x  data.playerPosition.0.location.y  data.playerPosition.0.location.z  data.playerPosition.0.rotation.x  data.playerPosition.0.rotation.y  data.playerPosition.0.rotation.z  data.trialNum data.trialType  data.wall1  data.wall2  data.wallTriggered  data.triggerClient  data.playerScores.0         timeReferenced\n",
       "18332 1900-01-01 11:29:57.224 0 days 00:56:38.235000             time                             0.0                      -11.71938324                       1.984999657                     -10.102360725                     300.368225098                     199.382156372                               0.0           31.0    post-trials         NaN         NaN                 NaN                 NaN               1380.0 0 days 00:06:19.918000\n",
       "18333 1900-01-01 11:29:57.245 0 days 00:56:38.255000             time                             0.0                      -11.71938324                       1.984999657                     -10.102360725                     300.368225098                     199.382156372                               0.0           31.0    post-trials         NaN         NaN                 NaN                 NaN               1380.0 0 days 00:06:19.938000\n",
       "18334 1900-01-01 11:29:57.265 0 days 00:56:38.276000             time                             0.0                      -11.71938324                       1.984999657                     -10.102360725                     300.368225098                     199.382156372                               0.0           31.0    post-trials         NaN         NaN                 NaN                 NaN               1380.0 0 days 00:06:19.959000\n",
       "18335 1900-01-01 11:29:57.286 0 days 00:56:38.297000             time                             0.0                      -11.71938324                       1.984999657                     -10.102360725                     300.368225098                     199.382156372                               0.0           31.0    post-trials         NaN         NaN                 NaN                 NaN               1380.0 0 days 00:06:19.980000\n",
       "18336 1900-01-01 11:29:57.401 0 days 00:56:38.412000      logging end                             NaN                               NaN                               NaN                               NaN                               NaN                               NaN                               NaN           31.0    post-trials         NaN         NaN                 NaN                 NaN               1380.0 0 days 00:06:20.095000"
      ]
     },
     "execution_count": 23,
     "metadata": {},
     "output_type": "execute_result"
    }
   ],
   "source": [
    "df.tail()"
   ]
  },
  {
   "cell_type": "code",
   "execution_count": null,
   "id": "8d7a994c-16a1-4368-b57c-35448bc20fe7",
   "metadata": {},
   "outputs": [],
   "source": []
  }
 ],
 "metadata": {
  "kernelspec": {
   "display_name": "Python 3 (ipykernel)",
   "language": "python",
   "name": "python3"
  },
  "language_info": {
   "codemirror_mode": {
    "name": "ipython",
    "version": 3
   },
   "file_extension": ".py",
   "mimetype": "text/x-python",
   "name": "python",
   "nbconvert_exporter": "python",
   "pygments_lexer": "ipython3",
   "version": "3.12.5"
  }
 },
 "nbformat": 4,
 "nbformat_minor": 5
}
