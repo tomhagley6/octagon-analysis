{
 "cells": [
  {
   "cell_type": "code",
   "execution_count": 11,
   "id": "8a7c3cc6-c33c-4067-b4c6-0d9052e71c5b",
   "metadata": {},
   "outputs": [],
   "source": [
    "import json\n",
    "import os\n",
    "from datetime import datetime, timedelta"
   ]
  },
  {
   "cell_type": "code",
   "execution_count": 12,
   "id": "a9fedd89-8e7f-4ea8-a2e6-f3cea3271b20",
   "metadata": {},
   "outputs": [],
   "source": [
    "## convert time data from string to datetime after loading the JSON file into a python object ##"
   ]
  },
  {
   "cell_type": "code",
   "execution_count": 13,
   "id": "fda0bfd2-9a88-4a39-860f-ad0f1b7ee3b5",
   "metadata": {},
   "outputs": [
    {
     "name": "stdout",
     "output_type": "stream",
     "text": [
      "{'timeLocal': '11:23:37:306', 'timeApplication': '3018.317', 'eventDescription': 'logging start'}\n",
      "11:23:37.306\n",
      "0:50:18.317\n",
      "dict_keys(['timeLocal', 'timeApplication', 'eventDescription'])\n"
     ]
    }
   ],
   "source": [
    "## specify data path\n",
    "# data_folder = '/home/tom/Documents/SWC/data' # desktop Duan Lab\n",
    "# json_filename = '240913_Yansu_Jerry/2024-09-13_11-23-37_YansuFirstSolo.json' \n",
    "data_folder = r'D:\\Users\\Tom\\OneDrive\\PhD\\SWC\\data' # desktop home\n",
    "json_filename = r'first_experiments_2409\\240913\\2024-09-13_11-23-37_YansuFirstSolo.json'\n",
    "\n",
    "filepath = data_folder + os.sep + json_filename\n",
    "\n",
    "with open(filepath) as f:\n",
    "\n",
    "    ## load file\n",
    "    file = json.load(f)\n",
    "    print(file[0])\n",
    "\n",
    "    ## Store timeLocal (UTC) as DateTime objects\n",
    "    # split time string\n",
    "    start_time_utc_str = file[0]['timeLocal']\n",
    "    start_time_utc_split = start_time_utc_str.split(':')\n",
    "    hours = int(start_time_utc_split[0])\n",
    "    minutes = int(start_time_utc_split[1])\n",
    "    seconds = int(start_time_utc_split[2])\n",
    "    microseconds = int(start_time_utc_split[3])*1000 # must use microseconds for DateTime\n",
    "\n",
    "    # convert to datetime object\n",
    "    base_time = datetime(1970,1,1) # always need a reference date\n",
    "    start_time_utc = base_time + timedelta(hours=hours, minutes=minutes, seconds=seconds, microseconds=microseconds)\n",
    "\n",
    "    # convert back to string of correct precision (10e-3)\n",
    "    print(start_time_utc.strftime('%H:%M:%S.%f')[:-3])\n",
    "\n",
    "    ## repeat conversion to DateTime applicationTime\n",
    "    ## but here use just a TimeDelta as there is no reference to any date\n",
    "    start_time_app_str = file[0]['timeApplication']\n",
    "    start_time_app_split = start_time_app_str.split('.')\n",
    "    seconds = int(start_time_app_split[0])\n",
    "    microseconds = int(start_time_app_split[1])*1000 # must use microseconds for datetime\n",
    "\n",
    "    start_time_app = timedelta(seconds=seconds + microseconds/1000000)\n",
    "    print(str(start_time_app)[:-3])\n",
    "\n",
    "    print(file[0].keys())\n"
   ]
  },
  {
   "cell_type": "code",
   "execution_count": 1,
   "id": "9604bbbc-a119-408a-8a2d-6d1324e97721",
   "metadata": {},
   "outputs": [],
   "source": [
    "## alcove octagon WIP ##"
   ]
  },
  {
   "cell_type": "code",
   "execution_count": 2,
   "id": "a16f02b7-39ac-4c92-8bc2-6b356b706017",
   "metadata": {},
   "outputs": [
    {
     "ename": "NameError",
     "evalue": "name 'plt' is not defined",
     "output_type": "error",
     "traceback": [
      "\u001b[1;31m---------------------------------------------------------------------------\u001b[0m",
      "\u001b[1;31mNameError\u001b[0m                                 Traceback (most recent call last)",
      "Cell \u001b[1;32mIn[2], line 2\u001b[0m\n\u001b[0;32m      1\u001b[0m \u001b[38;5;66;03m## plot WIP alcove octagon\u001b[39;00m\n\u001b[1;32m----> 2\u001b[0m \u001b[43mplt\u001b[49m\u001b[38;5;241m.\u001b[39mplot(vertex_x, vertex_y)\n\u001b[0;32m      3\u001b[0m plt\u001b[38;5;241m.\u001b[39mplot(vertex_x_thirds, vertex_y_thirds)\n\u001b[0;32m      4\u001b[0m plt\u001b[38;5;241m.\u001b[39mscatter(vertex_x_thirds[\u001b[38;5;241m0\u001b[39m]\u001b[38;5;241m+\u001b[39m\u001b[38;5;241m2.121\u001b[39m, vertex_y_thirds[\u001b[38;5;241m0\u001b[39m]\u001b[38;5;241m+\u001b[39m\u001b[38;5;241m2.121\u001b[39m) \u001b[38;5;66;03m# sin rule\u001b[39;00m\n",
      "\u001b[1;31mNameError\u001b[0m: name 'plt' is not defined"
     ]
    }
   ],
   "source": [
    "# plot WIP alcove octagon\n",
    "plt.plot(vertex_x, vertex_y)\n",
    "plt.plot(vertex_x_thirds, vertex_y_thirds)\n",
    "plt.scatter(vertex_x_thirds[0]+2.121, vertex_y_thirds[0]+2.121) # sin rule\n",
    "plt.scatter(vertex_x_thirds[1]+2.121, vertex_y_thirds[1]+2.121)\n",
    "plt.gca().set_aspect(1.)"
   ]
  },
  {
   "cell_type": "code",
   "execution_count": null,
   "id": "2675837f-c14f-43e0-aec8-a3a417e8ba0c",
   "metadata": {},
   "outputs": [],
   "source": [
    "vertex_x_thirds"
   ]
  },
  {
   "cell_type": "code",
   "execution_count": 3,
   "id": "ea8e986e-4ae1-4b72-aea2-0904f1078f41",
   "metadata": {},
   "outputs": [
    {
     "ename": "NameError",
     "evalue": "name 'vertex_x_thirds' is not defined",
     "output_type": "error",
     "traceback": [
      "\u001b[1;31m---------------------------------------------------------------------------\u001b[0m",
      "\u001b[1;31mNameError\u001b[0m                                 Traceback (most recent call last)",
      "Cell \u001b[1;32mIn[3], line 1\u001b[0m\n\u001b[1;32m----> 1\u001b[0m ( \u001b[43mvertex_x_thirds\u001b[49m[\u001b[38;5;241m1\u001b[39m] \u001b[38;5;241m-\u001b[39m vertex_x_thirds[\u001b[38;5;241m0\u001b[39m])\n",
      "\u001b[1;31mNameError\u001b[0m: name 'vertex_x_thirds' is not defined"
     ]
    }
   ],
   "source": [
    "( vertex_x_thirds[1] - vertex_x_thirds[0])"
   ]
  }
 ],
 "metadata": {
  "kernelspec": {
   "display_name": "Python 3 (ipykernel)",
   "language": "python",
   "name": "python3"
  },
  "language_info": {
   "codemirror_mode": {
    "name": "ipython",
    "version": 3
   },
   "file_extension": ".py",
   "mimetype": "text/x-python",
   "name": "python",
   "nbconvert_exporter": "python",
   "pygments_lexer": "ipython3",
   "version": "3.12.5"
  }
 },
 "nbformat": 4,
 "nbformat_minor": 5
}
