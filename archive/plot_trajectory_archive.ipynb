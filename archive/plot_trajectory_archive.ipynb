{
 "cells": [
  {
   "cell_type": "code",
   "execution_count": 8,
   "id": "5b1b1f98-44ab-4589-8461-c5fb8d201609",
   "metadata": {},
   "outputs": [],
   "source": [
    "trial_idx = 6"
   ]
  },
  {
   "cell_type": "code",
   "execution_count": 9,
   "id": "15317921-3889-4176-9b68-38be0dd8802a",
   "metadata": {},
   "outputs": [
    {
     "ename": "NameError",
     "evalue": "name 'trial_list' is not defined",
     "output_type": "error",
     "traceback": [
      "\u001b[1;31m---------------------------------------------------------------------------\u001b[0m",
      "\u001b[1;31mNameError\u001b[0m                                 Traceback (most recent call last)",
      "Cell \u001b[1;32mIn[9], line 1\u001b[0m\n\u001b[1;32m----> 1\u001b[0m this_trial \u001b[38;5;241m=\u001b[39m \u001b[43mtrial_list\u001b[49m[trial_idx]\n",
      "\u001b[1;31mNameError\u001b[0m: name 'trial_list' is not defined"
     ]
    }
   ],
   "source": [
    "this_trial = trial_list[trial_idx]"
   ]
  },
  {
   "cell_type": "code",
   "execution_count": null,
   "id": "a22f4208-1af7-485f-8cff-a5b89b9617a0",
   "metadata": {},
   "outputs": [],
   "source": [
    "# clean this up. Probably a better way to get a float out of this\n",
    "\n",
    "this_trial = trials_list[trial_idx]\n",
    "# find the row representing trigger activation\n",
    "trigger_event = this_trial[this_trial['eventDescription'] == globals.SELECTED_TRIGGER_ACTIVATION]\n",
    "trigger_idx = trigger_event.index[0]\n",
    "# normalise the trigger index to the starting index of this trial\n",
    "trigger_idx = int(trigger_idx - this_trial.index[0])\n"
   ]
  },
  {
   "cell_type": "code",
   "execution_count": null,
   "id": "5da6f748-84a2-4415-86f1-ec0681c58589",
   "metadata": {},
   "outputs": [],
   "source": [
    "x_coords_p1 = trials_list[trial_idx]['data.playerPosition.0.location.x'].values"
   ]
  },
  {
   "cell_type": "code",
   "execution_count": null,
   "id": "54303216-b93b-4a2b-a828-6eee37679acb",
   "metadata": {},
   "outputs": [],
   "source": [
    "# get a trajectory from a trial\n",
    "# only up to the index of the trigger\n",
    "x_coords_p1 = trials_list[trial_idx]['data.playerPosition.0.location.x'].values[:trigger_idx]\n",
    "y_coords_p1 = trials_list[trial_idx]['data.playerPosition.0.location.z'].values[:trigger_idx]\n",
    "\n",
    "x_coords_p2 = trials_list[trial_idx]['data.playerPosition.1.location.x'].values[:trigger_idx]\n",
    "y_coords_p2 = trials_list[trial_idx]['data.playerPosition.1.location.z'].values[:trigger_idx]"
   ]
  },
  {
   "cell_type": "code",
   "execution_count": null,
   "id": "d7441644-af23-427c-97c4-cb1d88890190",
   "metadata": {},
   "outputs": [],
   "source": [
    "coordinate_array_labels = ['0.location.x', '0.location.y', '1.location.x', '1.location.y']\n",
    "coordinate_arrays = [this_trial[f'data.playerPosition.{label}'].values[:trigger_idx] for label in coordinate_array_labels]"
   ]
  },
  {
   "cell_type": "code",
   "execution_count": null,
   "id": "ef08359e-aa83-4c06-b835-dd6e5d7ea5df",
   "metadata": {},
   "outputs": [],
   "source": [
    "len(x_coords_p2)"
   ]
  },
  {
   "cell_type": "code",
   "execution_count": null,
   "id": "1b30c3e5-f086-4673-97aa-fd495ab3da5e",
   "metadata": {},
   "outputs": [],
   "source": [
    "this_trial.shape[0]"
   ]
  },
  {
   "cell_type": "code",
   "execution_count": null,
   "id": "a57a205a-3bd9-48f8-ad52-74f67c406026",
   "metadata": {},
   "outputs": [],
   "source": [
    "# find trigger activating client for this trial\n",
    "trigger_event = this_trial[this_trial['eventDescription'] == globals.SELECTED_TRIGGER_ACTIVATION]\n",
    "trigger_activating_client = trigger_event['data.triggerClient'].values[0]"
   ]
  },
  {
   "cell_type": "code",
   "execution_count": null,
   "id": "3213278f-12a2-4df8-a4d5-04be974c6b0c",
   "metadata": {},
   "outputs": [],
   "source": [
    "cmap_winner = mpl.cm.spring \n",
    "cmap_loser = mpl.cm.summer\n",
    "timestamps = np.arange(len(x_coords_p1))\n",
    "min_val, max_val = min(timestamps), max(timestamps)\n",
    "norm = mpl.colors.Normalize(vmin=min_val, vmax=max_val)"
   ]
  },
  {
   "cell_type": "code",
   "execution_count": null,
   "id": "a5d1cffd-ed96-4712-a070-def734234272",
   "metadata": {},
   "outputs": [],
   "source": [
    "ax = plot_octagon.plot_octagon()\n",
    "if trigger_activating_client == 0:\n",
    "    cmaps = [cmap_winner, cmap_loser]\n",
    "else:\n",
    "    cmaps = [cmap_loser, cmap_winner]\n",
    "ax.scatter(x_coords_p1, y_coords_p1, s=0.5, c=timestamps, cmap=cmaps[0], norm=norm)\n",
    "ax.scatter(x_coords_p2, y_coords_p2, s=0.5, c=timestamps, cmap=cmaps[1], norm=norm)\n",
    "plt.show()"
   ]
  },
  {
   "cell_type": "code",
   "execution_count": null,
   "id": "992d7f15-0d1a-4409-9c0e-725019b15271",
   "metadata": {},
   "outputs": [],
   "source": [
    "def plot_trajectory(trials_list, trial_index=0, cmap_winner=mpl.cm.spring, cmap_loser=mpl.cm.summer,\n",
    "                   s=0.5, social=False):\n",
    "    # isolate trial\n",
    "    this_trial = trials_list[trial_idx]\n",
    "\n",
    "    # isolate trigger event\n",
    "    trigger_event = this_trial[this_trial['eventDescription'] == globals.SELECTED_TRIGGER_ACTIVATION]\n",
    "\n",
    "    # find index of trigger event normalised to this trial\n",
    "    trigger_idx = trigger_event.index[0]\n",
    "    trigger_idx = int(trigger_idx - this_trial.index[0])\n",
    "\n",
    "    # set index for number of players to extract data for \n",
    "    end_idx = 1\n",
    "    if social:\n",
    "        end_idx = 3\n",
    "        \n",
    "    # extract position data for 1 or 2 players\n",
    "    coordinate_array_labels = [globals.PLAYER_0_XLOC, globals.PLAYER_0_YLOC, globals.PLAYER_1_XLOC, globals.PLAYER_1_YLOC]\n",
    "    coordinate_arrays = {label : this_trial[label].values[:trigger_idx] for label in coordinate_array_labels[0:end_idx+1]}\n",
    "    \n",
    "    # create colormap data\n",
    "    cmap_winner = mpl.cm.spring \n",
    "    cmap_loser = mpl.cm.summer\n",
    "    timestamps = np.arange(len(coordinate_arrays[globals.PLAYER_0_XLOC]))\n",
    "    min_val, max_val = min(timestamps), max(timestamps)\n",
    "    norm = mpl.colors.Normalize(vmin=min_val, vmax=max_val)\n",
    "\n",
    "    # plot trajectory data\n",
    "    ax = plot_octagon.plot_octagon()\n",
    "\n",
    "    if social:\n",
    "        if trigger_activating_client == 0:\n",
    "            cmaps = [cmap_winner, cmap_loser]\n",
    "        else:\n",
    "            cmaps = [cmap_loser, cmap_winner]\n",
    "        ax.scatter(coordinate_arrays[globals.PLAYER_0_XLOC], coordinate_arrays[globals.PLAYER_0_YLOC], s=0.5, c=timestamps, cmap=cmaps[0], norm=norm)\n",
    "        ax.scatter(coordinate_arrays[globals.PLAYER_1_XLOC],coordinate_arrays[globals.PLAYER_1_YLOC], s=0.5, c=timestamps, cmap=cmaps[1], norm=norm)\n",
    "        plt.show()\n",
    "    else:\n",
    "        ax.scatter(coordinate_arrays[globals.PLAYER_0_XLOC], coordinate_arrays[globals.PLAYER_0_YLOC], s=0.5, c=timestamps, cmap=cmap_winner, norm=norm)\n",
    "        plt.show()\n",
    "\n",
    "    return coordinate_arrays\n",
    "    \n",
    "    "
   ]
  },
  {
   "cell_type": "code",
   "execution_count": null,
   "id": "c5c908cb-d03e-4690-8511-f2fe1cba4fda",
   "metadata": {},
   "outputs": [],
   "source": [
    "coord_arrays = plot_trajectory(trials_list, trial_index=trial_idx, social=preprocess.is_social(df))"
   ]
  }
 ],
 "metadata": {
  "kernelspec": {
   "display_name": "Python 3 (ipykernel)",
   "language": "python",
   "name": "python3"
  },
  "language_info": {
   "codemirror_mode": {
    "name": "ipython",
    "version": 3
   },
   "file_extension": ".py",
   "mimetype": "text/x-python",
   "name": "python",
   "nbconvert_exporter": "python",
   "pygments_lexer": "ipython3",
   "version": "3.12.5"
  }
 },
 "nbformat": 4,
 "nbformat_minor": 5
}
