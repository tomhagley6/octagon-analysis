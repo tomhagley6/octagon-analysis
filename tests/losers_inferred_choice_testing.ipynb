{
 "cells": [
  {
   "cell_type": "markdown",
   "metadata": {},
   "source": [
    "TODO: Code to produce plots showing the loser's inferred choice and confidence and the trajectory. So a session can be visually checked through"
   ]
  }
 ],
 "metadata": {
  "language_info": {
   "name": "python"
  }
 },
 "nbformat": 4,
 "nbformat_minor": 2
}
