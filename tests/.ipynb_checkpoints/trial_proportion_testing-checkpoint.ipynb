{
 "cells": [
  {
   "cell_type": "code",
   "execution_count": 1,
   "id": "d4992911-7b02-448c-8ee5-c89c228ad2ed",
   "metadata": {},
   "outputs": [],
   "source": [
    "import parse_data.prepare_data as prepare_data\n",
    "import data_extraction.get_indices as get_indices\n",
    "import numpy as np\n",
    "import pandas as pd\n",
    "import matplotlib.pyplot as plt\n",
    "import scipy\n",
    "import globals"
   ]
  },
  {
   "cell_type": "code",
   "execution_count": 2,
   "id": "011c819a-ab6d-4c42-8ab8-c35d0824fbfa",
   "metadata": {},
   "outputs": [],
   "source": [
    "# paths\n",
    "# data_folder = '/home/tom/Documents/SWC/data' # desktop Duan Lab\n",
    "# json_filename = '240913_Yansu_Jerry/2024-09-13_11-53-34_YansuSecondSolo.json' \n",
    "# json_filename = '240913_Yansu_Jerry/2024-09-13_11-31-00_YansuJerrySocial.json'\n",
    "data_folder = r'D:\\Users\\Tom\\OneDrive\\PhD\\SWC\\data' # desktop home\n",
    "json_filenames = [r'first_experiments_2409\\240913\\2024-09-13_11-23-37_YansuFirstSolo.json',\n",
    "                  r'first_experiments_2409\\240913\\2024-09-13_11-23-50_JerryFirstSolo.json',\n",
    "                  r'first_experiments_2409\\240913\\2024-09-13_11-53-34_YansuSecondSolo.json',\n",
    "                  r'first_experiments_2409\\240913\\2024-09-13_11-53-56_JerrySecondSolo.json']\n",
    "# json_filenames = [r'first_experiments_2409\\240913\\2024-09-13_11-31-00_YansuJerrySocial.json',\n",
    "                  # r'second_experiments_2409\\240927\\2024-09-27_14-25-20_SaraEmilySocial.json',\n",
    "                  # r'third_experiments_2410\\241017\\2024-10-17_14-28-40_ShamirAbigailSocial.json',\n",
    "                  # r'fourth_experiments_2410\\241017\\2024-10-17_16-41-38_ZimoElsaSocial.json']\n"
   ]
  },
  {
   "cell_type": "code",
   "execution_count": 3,
   "id": "e738dcb8-f5dd-45d5-99b2-9b97407d1fc0",
   "metadata": {},
   "outputs": [],
   "source": [
    "## LOAD DATA ##"
   ]
  },
  {
   "cell_type": "code",
   "execution_count": 4,
   "id": "167898aa-3073-479e-8eef-6c579c67c7f4",
   "metadata": {},
   "outputs": [
    {
     "name": "stdout",
     "output_type": "stream",
     "text": [
      "Data is from period before 2024-09-13 00:00:00\n",
      "Running dataframe through playerinfo_playerposition_conversion.\n",
      "Loading complete.\n",
      "Data is from period before 2024-09-13 00:00:00\n",
      "Running dataframe through playerinfo_playerposition_conversion.\n",
      "Loading complete.\n",
      "Data is from period before 2024-09-13 00:00:00\n",
      "Running dataframe through playerinfo_playerposition_conversion.\n",
      "Loading complete.\n",
      "Data is from period before 2024-09-13 00:00:00\n",
      "Running dataframe through playerinfo_playerposition_conversion.\n",
      "Loading complete.\n",
      "Preprocessing complete.\n",
      "Preprocessing complete.\n",
      "Preprocessing complete.\n",
      "Preprocessing complete.\n"
     ]
    }
   ],
   "source": [
    "df, trials_list = prepare_data.prepare_data(data_folder, json_filenames)"
   ]
  },
  {
   "cell_type": "code",
   "execution_count": 5,
   "id": "d4e0c744-2136-4fe5-b0b0-056182f8488c",
   "metadata": {},
   "outputs": [
    {
     "name": "stdout",
     "output_type": "stream",
     "text": [
      "<class 'pandas.core.frame.DataFrame'>\n",
      "Index: 64306 entries, 1435 to 15981\n",
      "Data columns (total 19 columns):\n",
      " #   Column                            Non-Null Count  Dtype          \n",
      "---  ------                            --------------  -----          \n",
      " 0   timeLocal                         64306 non-null  datetime64[ns] \n",
      " 1   timeApplication                   64306 non-null  timedelta64[ns]\n",
      " 2   eventDescription                  64306 non-null  object         \n",
      " 3   data.playerPosition.0.clientId    64171 non-null  float64        \n",
      " 4   data.playerPosition.0.location.x  64306 non-null  float64        \n",
      " 5   data.playerPosition.0.location.y  64306 non-null  float64        \n",
      " 6   data.playerPosition.0.location.z  64306 non-null  float64        \n",
      " 7   data.playerPosition.0.rotation.x  64306 non-null  float64        \n",
      " 8   data.playerPosition.0.rotation.y  64306 non-null  float64        \n",
      " 9   data.playerPosition.0.rotation.z  64306 non-null  float64        \n",
      " 10  data.trialNum                     64306 non-null  float64        \n",
      " 11  data.trialType                    64306 non-null  object         \n",
      " 12  data.wall1                        64306 non-null  float64        \n",
      " 13  data.wall2                        64306 non-null  float64        \n",
      " 14  data.wallTriggered                136 non-null    float64        \n",
      " 15  data.triggerClient                136 non-null    float64        \n",
      " 16  data.playerScores.0               64306 non-null  float64        \n",
      " 17  timeReferenced                    64306 non-null  timedelta64[ns]\n",
      " 18  trial_epoch                       64306 non-null  object         \n",
      "dtypes: datetime64[ns](1), float64(13), object(3), timedelta64[ns](2)\n",
      "memory usage: 9.8+ MB\n"
     ]
    }
   ],
   "source": [
    "df.info()"
   ]
  },
  {
   "cell_type": "code",
   "execution_count": 6,
   "id": "3cc00df1-130f-4927-b132-34222dcf78ca",
   "metadata": {},
   "outputs": [
    {
     "name": "stdout",
     "output_type": "stream",
     "text": [
      "135\n"
     ]
    }
   ],
   "source": [
    "print(len(trials_list))"
   ]
  },
  {
   "cell_type": "code",
   "execution_count": 7,
   "id": "bdaacd03-da39-4a2d-9aee-3c87852be19b",
   "metadata": {},
   "outputs": [],
   "source": [
    "## TEST WALL NUMBER SELECTIONS ## "
   ]
  },
  {
   "cell_type": "code",
   "execution_count": 8,
   "id": "801734e5-42a4-419a-bf41-c95e8bd74d54",
   "metadata": {},
   "outputs": [],
   "source": [
    "wall1_counts_dict = {}\n",
    "wall2_counts_dict = {}\n",
    "\n",
    "for trial in trials_list:\n",
    "    wall1_vals = trial['data.wall1'].unique()\n",
    "    # print(\"wall 1 vals: \" + wall1_vals)\n",
    "    wall2_vals = trial['data.wall2'].unique()\n",
    "    # print(\"wall 2 vals: \" + wall2_vals)\n",
    "    \n",
    "    wall1_val = wall1_vals[~np.isnan(wall1_vals)].item()\n",
    "    wall2_val = wall2_vals[~np.isnan(wall2_vals)].item()\n",
    "    \n",
    "    if wall1_val in wall1_counts_dict.keys():\n",
    "        wall1_counts_dict[wall1_val] = wall1_counts_dict[wall1_val] + 1\n",
    "    else:\n",
    "        wall1_counts_dict[wall1_val] = 1\n",
    "\n",
    "    if wall2_val in wall2_counts_dict.keys():\n",
    "        wall2_counts_dict[wall2_val] = wall2_counts_dict[wall2_val] + 1\n",
    "    else:\n",
    "        wall2_counts_dict[wall2_val] = 1"
   ]
  },
  {
   "cell_type": "code",
   "execution_count": 9,
   "id": "8ebfc04f-a270-406b-a40e-f27157d9fa6c",
   "metadata": {},
   "outputs": [
    {
     "data": {
      "text/plain": [
       "<BarContainer object of 8 artists>"
      ]
     },
     "execution_count": 9,
     "metadata": {},
     "output_type": "execute_result"
    },
    {
     "data": {
      "image/png": "[encoded data removed]",
      "text/plain": [
       "<Figure size 640x480 with 1 Axes>"
      ]
     },
     "metadata": {},
     "output_type": "display_data"
    }
   ],
   "source": [
    "wall_nums = np.arange(1,9)\n",
    "wall1_counts = np.asarray([wall1_counts_dict[i] for i in wall_nums])\n",
    "wall2_counts = np.asarray([wall2_counts_dict[i] for i in wall_nums])\n",
    "\n",
    "plt.bar(wall_nums, wall1_counts)"
   ]
  },
  {
   "cell_type": "code",
   "execution_count": 10,
   "id": "1d688e4c-2013-48d0-bf6b-b58ab097fc4c",
   "metadata": {},
   "outputs": [
    {
     "data": {
      "text/plain": [
       "np.int64(270)"
      ]
     },
     "execution_count": 10,
     "metadata": {},
     "output_type": "execute_result"
    }
   ],
   "source": [
    "np.sum(wall1_counts + wall2_counts)"
   ]
  },
  {
   "cell_type": "code",
   "execution_count": 11,
   "id": "7c806809-2950-4eed-a203-5df3b21489f7",
   "metadata": {},
   "outputs": [
    {
     "data": {
      "text/plain": [
       "<BarContainer object of 8 artists>"
      ]
     },
     "execution_count": 11,
     "metadata": {},
     "output_type": "execute_result"
    },
    {
     "data": {
      "image/png": "[encoded data removed]",
      "text/plain": [
       "<Figure size 640x480 with 1 Axes>"
      ]
     },
     "metadata": {},
     "output_type": "display_data"
    }
   ],
   "source": [
    "plt.bar(wall_nums, wall2_counts)"
   ]
  },
  {
   "cell_type": "code",
   "execution_count": 12,
   "id": "fcaaffa7-4b01-43b6-882d-64c458b07ccd",
   "metadata": {},
   "outputs": [
    {
     "data": {
      "text/plain": [
       "<BarContainer object of 8 artists>"
      ]
     },
     "execution_count": 12,
     "metadata": {},
     "output_type": "execute_result"
    },
    {
     "data": {
      "image/png": "[encoded data removed]",
      "text/plain": [
       "<Figure size 640x480 with 1 Axes>"
      ]
     },
     "metadata": {},
     "output_type": "display_data"
    }
   ],
   "source": [
    "plt.bar(wall_nums, wall1_counts + wall2_counts)"
   ]
  },
  {
   "cell_type": "code",
   "execution_count": 13,
   "id": "16f8ff30-ff10-4808-91ea-0ba80b6c6703",
   "metadata": {},
   "outputs": [],
   "source": [
    "test1 = scipy.stats.chisquare(wall1_counts + wall2_counts)\n",
    "test2 = scipy.stats.chisquare(wall1_counts)\n",
    "test3 = scipy.stats.chisquare(wall2_counts)\n"
   ]
  },
  {
   "cell_type": "code",
   "execution_count": 14,
   "id": "d7232c2b-6398-48dc-95b3-faea2aa298db",
   "metadata": {},
   "outputs": [
    {
     "name": "stdout",
     "output_type": "stream",
     "text": [
      "0.48231186518208413 0.8607677350391032 0.23207738834721095\n"
     ]
    }
   ],
   "source": [
    "print(test1.pvalue, test2.pvalue, test3.pvalue)"
   ]
  },
  {
   "cell_type": "code",
   "execution_count": 15,
   "id": "b9d2c0d6-ff15-4625-95fa-59548f493918",
   "metadata": {},
   "outputs": [
    {
     "data": {
      "text/plain": [
       "135"
      ]
     },
     "execution_count": 15,
     "metadata": {},
     "output_type": "execute_result"
    }
   ],
   "source": [
    "len(trials_list)"
   ]
  },
  {
   "cell_type": "code",
   "execution_count": 16,
   "id": "5130fc99-be67-4ba8-a002-d6b91207f95d",
   "metadata": {},
   "outputs": [],
   "source": [
    "## TEST TRIAL TYPE SELECTION ##"
   ]
  },
  {
   "cell_type": "code",
   "execution_count": 17,
   "id": "ddc6b2b0-0c7a-4788-8771-3ca3934ab11d",
   "metadata": {},
   "outputs": [
    {
     "data": {
      "text/plain": [
       "array(['HighLow', 'ForcedHigh', 'ForcedLow', 'post-trials'], dtype=object)"
      ]
     },
     "execution_count": 17,
     "metadata": {},
     "output_type": "execute_result"
    }
   ],
   "source": [
    "df[globals.TRIAL_TYPE].unique()"
   ]
  },
  {
   "cell_type": "code",
   "execution_count": 18,
   "id": "881e987c-43ed-4535-93af-c49fb5805395",
   "metadata": {},
   "outputs": [],
   "source": [
    "trial_type_counts_dict = {}\n",
    "\n",
    "for trial in trials_list:\n",
    "    trial_type = trial[globals.TRIAL_TYPE].unique()[0]\n",
    "        \n",
    "    if trial_type in trial_type_counts_dict.keys():\n",
    "        trial_type_counts_dict[trial_type] = trial_type_counts_dict[trial_type] + 1\n",
    "    else:\n",
    "        trial_type_counts_dict[trial_type] = 1\n",
    "\n",
    "trial_type_counts_list = [trial_type_counts_dict[key] for key in  trial_type_counts_dict.keys()]\n",
    "trial_type_labels_list = trial_type_counts_dict.keys()\n",
    "\n"
   ]
  },
  {
   "cell_type": "code",
   "execution_count": 19,
   "id": "66f592f7-4e6b-4769-828f-5d6312d3b375",
   "metadata": {},
   "outputs": [
    {
     "data": {
      "text/plain": [
       "[Text(0, 0, '113'), Text(0, 0, '14'), Text(0, 0, '8')]"
      ]
     },
     "execution_count": 19,
     "metadata": {},
     "output_type": "execute_result"
    },
    {
     "data": {
      "image/png": "[encoded data removed]",
      "text/plain": [
       "<Figure size 640x480 with 1 Axes>"
      ]
     },
     "metadata": {},
     "output_type": "display_data"
    }
   ],
   "source": [
    "bar = plt.bar([1,2,3], trial_type_counts_list, label=trial_type_labels_list)\n",
    "plt.xticks([1, 2, 3], trial_type_labels_list)\n",
    "plt.gca().bar_label(bar, label_type='center')"
   ]
  },
  {
   "cell_type": "code",
   "execution_count": 20,
   "id": "2803ac0e-e6a9-483f-b324-0954c9e769a2",
   "metadata": {},
   "outputs": [],
   "source": [
    "## TEST WALL SEPARATION VALUES ## "
   ]
  },
  {
   "cell_type": "code",
   "execution_count": 21,
   "id": "503dc017-2c94-478d-b35f-0d166b6f61ab",
   "metadata": {},
   "outputs": [],
   "source": [
    "wall_differences = []\n",
    "for trial in trials_list:\n",
    "    wall_difference = get_indices.get_wall_difference(trial)\n",
    "    if trial[globals.TRIAL_TYPE].unique()[0] == 'HighLow':\n",
    "        wall_differences.append(wall_difference)\n",
    "\n",
    "wall_differences = np.asarray(wall_differences)"
   ]
  },
  {
   "cell_type": "code",
   "execution_count": 22,
   "id": "645e7da2-634c-4b3f-9697-76c4b483764f",
   "metadata": {},
   "outputs": [],
   "source": [
    "unique, counts = np.unique(wall_differences, return_counts=True)"
   ]
  },
  {
   "cell_type": "code",
   "execution_count": 23,
   "id": "c46297a6-bddc-440d-ae50-cc254ab7c64d",
   "metadata": {},
   "outputs": [
    {
     "data": {
      "text/plain": [
       "(array([1., 2., 4.]), array([37, 35, 41]))"
      ]
     },
     "execution_count": 23,
     "metadata": {},
     "output_type": "execute_result"
    }
   ],
   "source": [
    "unique, counts"
   ]
  },
  {
   "cell_type": "code",
   "execution_count": 24,
   "id": "f8cbf3e7-f6f0-447d-9748-887bdad49849",
   "metadata": {},
   "outputs": [
    {
     "data": {
      "text/plain": [
       "[Text(0, 0, '37'), Text(0, 0, '35'), Text(0, 0, '41')]"
      ]
     },
     "execution_count": 24,
     "metadata": {},
     "output_type": "execute_result"
    },
    {
     "data": {
      "image/png": "[encoded data removed]",
      "text/plain": [
       "<Figure size 640x480 with 1 Axes>"
      ]
     },
     "metadata": {},
     "output_type": "display_data"
    }
   ],
   "source": [
    "bar = plt.bar(unique, counts, label=unique) \n",
    "plt.xticks([1, 2, 4], [1,2,4])\n",
    "plt.gca().bar_label(bar, label_type='center')"
   ]
  },
  {
   "cell_type": "code",
   "execution_count": 25,
   "id": "da4e9a52-0813-4e05-9353-3d82f4ed6ca1",
   "metadata": {},
   "outputs": [],
   "source": [
    "test4 = scipy.stats.chisquare([counts[0], counts[2]])"
   ]
  },
  {
   "cell_type": "code",
   "execution_count": 26,
   "id": "42b2b70c-0c14-485a-a802-350fab387fc7",
   "metadata": {},
   "outputs": [
    {
     "name": "stdout",
     "output_type": "stream",
     "text": [
      "0.6506129639327538\n"
     ]
    }
   ],
   "source": [
    "print(test4.pvalue)"
   ]
  },
  {
   "cell_type": "code",
   "execution_count": 27,
   "id": "5a1e7838-6ff1-4ecb-b234-693f2a6629f7",
   "metadata": {},
   "outputs": [
    {
     "ename": "TypeError",
     "evalue": "'Index' object is not callable",
     "output_type": "error",
     "traceback": [
      "\u001b[1;31m-----------------------------------------------------------------\u001b[0m",
      "\u001b[1;31mTypeError\u001b[0m                       Traceback (most recent call last)",
      "Cell \u001b[1;32mIn[27], line 1\u001b[0m\n\u001b[1;32m----> 1\u001b[0m \u001b[43mdf\u001b[49m\u001b[38;5;241;43m.\u001b[39;49m\u001b[43mcolumns\u001b[49m\u001b[43m(\u001b[49m\u001b[43m)\u001b[49m\n",
      "\u001b[1;31mTypeError\u001b[0m: 'Index' object is not callable"
     ]
    }
   ],
   "source": [
    "df.columns()"
   ]
  }
 ],
 "metadata": {
  "kernelspec": {
   "display_name": "Python 3 (ipykernel)",
   "language": "python",
   "name": "python3"
  },
  "language_info": {
   "codemirror_mode": {
    "name": "ipython",
    "version": 3
   },
   "file_extension": ".py",
   "mimetype": "text/x-python",
   "name": "python",
   "nbconvert_exporter": "python",
   "pygments_lexer": "ipython3",
   "version": "3.12.5"
  }
 },
 "nbformat": 4,
 "nbformat_minor": 5
}
