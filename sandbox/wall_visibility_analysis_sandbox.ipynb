{
 "cells": [
  {
   "cell_type": "code",
   "execution_count": 1,
   "id": "d4992911-7b02-448c-8ee5-c89c228ad2ed",
   "metadata": {},
   "outputs": [],
   "source": [
    "import parse_data.prepare_data as prepare_data\n",
    "import numpy as np\n",
    "import pandas as pd\n",
    "import matplotlib.pyplot as plt\n",
    "import globals\n",
    "import data_strings\n",
    "import analysis.wall_visibility_and_choice as wall_visibility_and_choice\n",
    "import trajectory_analysis.trajectory_headangle as trajectory_headangle"
   ]
  },
  {
   "cell_type": "markdown",
   "id": "7a24b223",
   "metadata": {},
   "source": [
    "### Rewriting of P(choice | visibility) analysis using the logic from opponent-visibility "
   ]
  },
  {
   "cell_type": "code",
   "execution_count": null,
   "id": "011c819a-ab6d-4c42-8ab8-c35d0824fbfa",
   "metadata": {},
   "outputs": [],
   "source": [
    "data_folder = data_strings.DATA_FOLDER\n",
    "json_filenames_all_social = data_strings.JSON_FILENAMES_SOCIAL\n",
    "json_filenames_all_solo = data_strings.JSON_FILENAMES_SOLO"
   ]
  },
  {
   "cell_type": "code",
   "execution_count": null,
   "id": "c07cb011",
   "metadata": {},
   "outputs": [],
   "source": [
    "json_filenames = json_filenames_all_social"
   ]
  },
  {
   "cell_type": "code",
   "execution_count": null,
   "id": "167898aa-3073-479e-8eef-6c579c67c7f4",
   "metadata": {
    "scrolled": true
   },
   "outputs": [
    {
     "name": "stdout",
     "output_type": "stream",
     "text": [
      "Data is from period before 2024-09-13 00:00:00\n",
      "Running dataframe through playerinfo_playerposition_conversion.\n",
      "Loading complete.\n",
      "Loading complete.\n",
      "Preprocessing complete.\n",
      "Preprocessing complete.\n"
     ]
    }
   ],
   "source": [
    "df, trials_list = prepare_data.prepare_data(data_folder, json_filenames, combine=False)"
   ]
  },
  {
   "cell_type": "markdown",
   "id": "12c245c6",
   "metadata": {},
   "source": [
    "Goal:\n",
    "- Parameterise choice wall (if any), first_visible wall (if any), inferred choice"
   ]
  },
  {
   "cell_type": "code",
   "execution_count": null,
   "id": "6655dc0d",
   "metadata": {},
   "outputs": [],
   "source": [
    "## Create filter funtions\n"
   ]
  },
  {
   "cell_type": "code",
   "execution_count": null,
   "id": "ea2998f3",
   "metadata": {},
   "outputs": [],
   "source": [
    "def filter_trials_retrievable_choice(trial_list, player_id, inferred_choice):\n",
    "    ''' Return the filtered trial list and list of indices from the original trial list that\n",
    "        conform with player player_id having a recorded choice.\n",
    "        This is required for accurate probabilities, because we do cannot include trials (as negative)\n",
    "        where we do not know what the player's choice would have been. '''\n",
    "    \n",
    "    # get player choice (wall number) for each trial\n",
    "    # inferred choice can be used here\n",
    "    player_choice = wall_visibility_and_choice.get_player_wall_choice(trial_list, player_id,\n",
    "                                                                        inferred_choice, debug=False)\n",
    "    \n",
    "    print(f\"player_choice, inferred status {inferred_choice} is:\\n{player_choice}\")\n",
    "    \n",
    "    # filter trials list to only include trials where this player had a recorded choice\n",
    "    player_recorded_choice_indices = np.where(~np.isnan(player_choice))\n",
    "\n",
    "    # index the tuple and allow list-compatible indexing\n",
    "    player_recorded_choice_indices = player_recorded_choice_indices[0].tolist()\n",
    "\n",
    "    # Use a list comprehension to index the trial list with the indices list\n",
    "    trial_list_filtered = [trial_list[i] for i in player_recorded_choice_indices]\n",
    "\n",
    "    return trial_list_filtered, player_recorded_choice_indices\n",
    "\n",
    "    "
   ]
  },
  {
   "cell_type": "code",
   "execution_count": null,
   "id": "6f3869cd",
   "metadata": {},
   "outputs": [],
   "source": [
    "def filter_trials_one_wall_initially_visible(trial_list, player_id, wall_index, current_fov):\n",
    "    ''' Return a filtered trial list and list of indices from the original trial list that\n",
    "        conform to a single trial wall being visible to player player_id at trial start,\n",
    "        conferred by wall_index (e.g. 0 or 1 for wall1 or wall2) '''\n",
    "    \n",
    "    # find wall visibility (at the trial start timepoint) for the full session\n",
    "    (wall1_visible_session,\n",
    "    wall2_visible_session) = wall_visibility_and_choice.get_walls_initial_visibility_session(trial_list,\n",
    "                                                                    player_id, current_fov, debug=False)\n",
    "    \n",
    "    # use np bitwise operators to find trials with only the relevant wall visible\n",
    "    if wall_index == 0:\n",
    "        single_wall_visible_indices = np.where((wall1_visible_session == True) & (wall2_visible_session == False))\n",
    "    elif wall_index == 1:\n",
    "        single_wall_visible_indices = np.where((wall2_visible_session == True) & (wall1_visible_session == False))\n",
    "\n",
    "    # index the tuple and allow list-compatible indexing\n",
    "    single_wall_visible_indices = single_wall_visible_indices[0].tolist() \n",
    "\n",
    "    trial_list_filtered = [trial_list[i] for i in single_wall_visible_indices]\n",
    "\n",
    "    return trial_list_filtered, single_wall_visible_indices\n"
   ]
  },
  {
   "cell_type": "code",
   "execution_count": null,
   "id": "676c5acc",
   "metadata": {},
   "outputs": [],
   "source": [
    "def filter_trials_both_walls_initially_visible(trial_list, player_id, current_fov):\n",
    "    ''' Return a filtered trial list and list of indices from the original trial list that\n",
    "        conform to both trial walls being visible to player player_id at trial start. '''\n",
    "    \n",
    "    # find wall visibility for the full session\n",
    "    (wall1_visible_session,\n",
    "    wall2_visible_session) = wall_visibility_and_choice.get_walls_initial_visibility_session(trial_list,\n",
    "                                                                    player_id, current_fov,\n",
    "                                                                    debug=False)\n",
    "    \n",
    "\n",
    "    both_walls_visible_indices = np.where((wall1_visible_session == True) & (wall2_visible_session == True))\n",
    "    \n",
    "    # index the tuple and allow list-compatible indexing\n",
    "    both_walls_visible_indices = both_walls_visible_indices[0].tolist() \n",
    "\n",
    "    # Use a list comprehension to index the trial list with the indices list\n",
    "    trial_list_filtered = [trial_list[i] for i in both_walls_visible_indices]\n",
    "\n",
    "    return trial_list_filtered, both_walls_visible_indices"
   ]
  },
  {
   "cell_type": "code",
   "execution_count": null,
   "id": "e623733c",
   "metadata": {},
   "outputs": [],
   "source": [
    "def filter_trials_one_wall_becomes_visible_first(trial_list, player_id, wall_index, current_fov):\n",
    "    ''' Return a filtered trial list and list of indices from the original trial list that\n",
    "        conform to one of the trial walls becoming visible to player player_id during the trial\n",
    "        before any other. '''\n",
    "    \n",
    "        (wall_becomes_visible_index,\n",
    "        wall_becomes_visible_time) = trajectory_headangle.get_wall_visibility_order(wall_visible, \n",
    "                                                                                    wall_initial_visibility,\n",
    "                                                                                    trial, \n",
    "                                                                                    return_times=False, debug=False)"
   ]
  },
  {
   "cell_type": "code",
   "execution_count": null,
   "id": "5131f2d6",
   "metadata": {},
   "outputs": [],
   "source": [
    "def filter_trials_player_chose_given_wall(trial_list, player_id, inferred_choice, given_wall_index):\n",
    "    ''' Return a filtered trial list and list of indices from the original trial list \n",
    "        where player choice (winner + loser, or just winner) aligned with\n",
    "        the given wall index (e.g., 0 for wall1) '''\n",
    "    \n",
    "    # get player choice (wall number) for each trial\n",
    "    # inferred choice can be used here\n",
    "    player_choice = wall_visibility_and_choice.get_player_wall_choice(trial_list, player_id,\n",
    "                                                                        inferred_choice, debug=False)\n",
    "    \n",
    "    print(f\"player choice array:\\n{player_choice}\")\n",
    "\n",
    "    # get the truth array for whether the player choice wall aligns with the given wall parameter\n",
    "    # to this function (NB. this is NOT the wall that was eventually chosen in the trial)\n",
    "    given_wall_chosen_session = get_indices.was_given_wall_chosen(trial_list, player_choice,\n",
    "                                                                  given_wall_index)\n",
    "    \n",
    "    print(f\"given wall chosen array:\\n{given_wall_chosen_session}\")\n",
    "    \n",
    "    # find the indices of the trials in trial_list where the given wall was chosen by player player_id.\n",
    "    # this will drop trials where the given wall was not chosen, and trials without retrievable choice information\n",
    "    given_wall_chosen_indices = np.where(given_wall_chosen_session == True)\n",
    "    print(f\"given wall chosen true indices:\\n{given_wall_chosen_indices}\")\n",
    "    \n",
    "    # index the tuple and allow list-compatible indexing\n",
    "    given_wall_chosen_indices = given_wall_chosen_indices[0].tolist()\n",
    "\n",
    "    # use a list comprehension to index the trial list with the indices list\n",
    "    trial_list_filtered = [trial_list[i] for i in given_wall_chosen_indices]\n",
    "\n",
    "    # return filtered trial_list, and list of indices with which to index the original list\n",
    "    return trial_list_filtered, given_wall_chosen_indices\n",
    "    \n"
   ]
  },
  {
   "cell_type": "code",
   "execution_count": null,
   "id": "2569dd2c",
   "metadata": {},
   "outputs": [],
   "source": [
    "def filter_trials_player_won(trial_list, player_id):\n",
    "    ''' Return a filtered trial list and list of indices from the original trial list \n",
    "        where player player_id won. '''\n",
    "    \n",
    "    # get trigger activators for this session\n",
    "    trigger_activators = get_indices.get_trigger_activators(trial_list)\n",
    "    \n",
    "    # find the indices of the trials in trial_list where player player_id won\n",
    "    this_player_wins_indices = np.where(trigger_activators == player_id)\n",
    "    \n",
    "    # index the tuple and allow list-compatible indexing\n",
    "    this_player_wins_indices = this_player_wins_indices[0].tolist()\n",
    "\n",
    "    # use a list comprehension to index the trial list with the indices list\n",
    "    trial_list_filtered = [trial_list[i] for i in this_player_wins_indices]\n",
    "\n",
    "    # return filtered trial_list, and list of indices with which to index the original list\n",
    "    return trial_list_filtered, this_player_wins_indices\n",
    "    \n"
   ]
  },
  {
   "cell_type": "code",
   "execution_count": null,
   "id": "42c0fdcc",
   "metadata": {},
   "outputs": [],
   "source": [
    "## calculate probability"
   ]
  },
  {
   "cell_type": "code",
   "execution_count": null,
   "id": "872b6673",
   "metadata": {},
   "outputs": [],
   "source": [
    "def calculate_probability_choose_wall(trial_list, trial_list_choice_filtered):\n",
    "    ''' Given a trial list (pre-filtered, but not for choice), calculate the probability that \n",
    "        a player will choose a given wall value as the proportion of trials from the trial\n",
    "        list in which the player chose the wall value.\n",
    "        More complex use of this function could involve e.g. filtering the trial list for \n",
    "        trials where Low was first seen and the Opponent is visible, and then further filtering\n",
    "        for player choice being 'Low', to find probability of (choose Low | first visible) under the\n",
    "        condition of Other visibility at trial start. '''\n",
    "        \n",
    "    \n",
    "    # use the length of the trial list pre-choice filtering, and the length of the trial list post-choice\n",
    "    # filtering (e.g. with filter_trials_player_chose_given_wall) to calculate the proportion of \n",
    "    # relevant trials that a player chose a specific wall\n",
    "    try:\n",
    "        probability_chose_wall = len(trial_list_choice_filtered)/len(trial_list)\n",
    "    except ZeroDivisionError:\n",
    "        probability_chose_wall = np.nan\n",
    "\n",
    "    return probability_chose_wall\n",
    "    \n",
    "    "
   ]
  },
  {
   "cell_type": "code",
   "execution_count": null,
   "id": "d9812661",
   "metadata": {},
   "outputs": [],
   "source": [
    "## Umbrella functions of filters followed by probability calculation"
   ]
  },
  {
   "cell_type": "code",
   "execution_count": null,
   "id": "4bc24bb0",
   "metadata": {},
   "outputs": [],
   "source": [
    "def probability_trial_outcome_given_conditions(trial_list, player_id,\n",
    "                                               visible_wall_index, chosen_wall_index,\n",
    "                                               inferred_choice, current_fov,\n",
    "                                               debug=False):\n",
    "    ''' Take a trial list and filter based on existence of player_id player choice,\n",
    "        and whether a specific wall is initially visible (if visible_wall_index is not None). \n",
    "        Then, filter this trial list by the player choice being for a specific trial wall \n",
    "        (if chosen_wall_index is not None) and take the proportion of trials remaining\n",
    "        as the probability of making this choice conditioned on our chosen filters.\n",
    "        Returns probability of choosing a trial wall. \n",
    "        inferred_choice decides whether to include inferred choice for identifying retrievable choice and chosen wall.\n",
    "        visible_wall_index and chosen_wall_index control wall initial visibility and player choice filters respectively. '''\n",
    "    \n",
    "    if debug:\n",
    "      print(f\"Next session, player_id {player_id}\")\n",
    "\n",
    "\n",
    "    # filter trials with a retrievable choice for this player (trials only valid for analysis if we \n",
    "    # have a recorded choice for the player)\n",
    "    (trial_list_filtered,\n",
    "    filtered_indices) = filter_trials_retrievable_choice(trial_list, player_id, inferred_choice)\n",
    "\n",
    "    if debug:\n",
    "      print(f\"Len 'player choice exists' indices: {len(filtered_indices)}\")\n",
    "\n",
    "\n",
    "    # filter based on single wall visibility if requested\n",
    "    if visible_wall_index is not None: \n",
    "        # filter with only visible_wall_index initially visible\n",
    "        (trial_list_filtered,\n",
    "        filtered_indices) = filter_trials_one_wall_initially_visible(trial_list_filtered, player_id,\n",
    "                                                                     current_fov, wall_index=visible_wall_index)\n",
    "    if debug:\n",
    "      print(f\"Len '{visible_wall_index} initially and singly visible': {len(filtered_indices)}\")\n",
    "\n",
    "\n",
    "    # filter based on chosen wall if requested\n",
    "    if chosen_wall_index is not None:\n",
    "        # filter with chosen_wall_index chosen\n",
    "        (trial_list_filtered_choice,\n",
    "        filtered_indices_choice) = filter_trials_player_chose_given_wall(trial_list_filtered, player_id,\n",
    "                                                                  inferred_choice,\n",
    "                                                                  given_wall_index=chosen_wall_index)\n",
    "    else: # otherwise, default to all wins for this player\n",
    "        (trial_list_filtered_choice,\n",
    "        filtered_indices_choice) = filter_trials_player_won(trial_list_filtered, player_id)\n",
    "       \n",
    "    if debug:\n",
    "      print(f\"Len '{chosen_wall_index} index wall chosen by player {player_id}': {len(filtered_indices_choice)}\")\n",
    "\n",
    "    \n",
    "    # find the probability of the player choosing the given wall index, considering only trials that are filtered\n",
    "    probability_chose_wall = calculate_probability_choose_wall(trial_list_filtered, trial_list_filtered_choice)\n",
    "\n",
    "    if debug:\n",
    "      print(f\"Probability player chose wall given these conditions: {probability_chose_wall}\")\n",
    "\n",
    "    \n",
    "    return probability_chose_wall"
   ]
  },
  {
   "cell_type": "code",
   "execution_count": null,
   "id": "162e7dcf",
   "metadata": {},
   "outputs": [],
   "source": [
    "## Session umbrella functions for collecting probabilities data for all players in all sessions"
   ]
  },
  {
   "cell_type": "code",
   "execution_count": null,
   "id": "df2b3f6f",
   "metadata": {},
   "outputs": [],
   "source": [
    "def probability_trial_outcome_given_conditions_all_sessions(session_trial_lists, inferred_choice,\n",
    "                                                            chosen_wall_index, visible_wall_index,\n",
    "                                                            current_fov, trial_type=globals.HIGH_LOW,\n",
    "                                                            debug=False):\n",
    "    ''' Return the probability array across all players and sessions \n",
    "        that a trial has a particular outcome given conditions.\n",
    "        Conditions here are only wall visible_wall_index visible first.\n",
    "        Outcome is that wall chosen_wall_index is chosen, or just that player player_id\n",
    "        won if this parameter is None'''\n",
    "\n",
    "    probabilities = np.full(len(session_trial_lists)*2, np.nan)\n",
    "    trial_list_index = 0\n",
    "\n",
    "    for i in range(0,len(session_trial_lists)*2, 2):\n",
    "\n",
    "        trial_list = session_trial_lists[trial_list_index]\n",
    "\n",
    "        # filter trial list for HighLow trialtype\n",
    "        trial_indices = get_indices.get_trials_trialtype(trial_list, trial_type=trial_type)\n",
    "        trial_list_filtered = [trial_list[i] for i in trial_indices]\n",
    "\n",
    "        for player_id in [0,1]:\n",
    "            probabilities[i + player_id] = probability_trial_outcome_given_conditions(trial_list_filtered, player_id,\n",
    "                                                                                      visible_wall_index,chosen_wall_index,\n",
    "                                                                                      inferred_choice, current_fov,\n",
    "                                                                                      debug=debug)\n",
    "\n",
    "        trial_list_index += 1\n",
    "        \n",
    "        \n",
    "\n",
    "    return probabilities\n"
   ]
  },
  {
   "cell_type": "code",
   "execution_count": 2,
   "id": "680792d4",
   "metadata": {},
   "outputs": [],
   "source": [
    "## Plotting functions for boxplot line graphs"
   ]
  }
 ],
 "metadata": {
  "kernelspec": {
   "display_name": "octagon_analysis",
   "language": "python",
   "name": "python3"
  },
  "language_info": {
   "codemirror_mode": {
    "name": "ipython",
    "version": 3
   },
   "file_extension": ".py",
   "mimetype": "text/x-python",
   "name": "python",
   "nbconvert_exporter": "python",
   "pygments_lexer": "ipython3",
   "version": "3.12.5"
  }
 },
 "nbformat": 4,
 "nbformat_minor": 5
}
