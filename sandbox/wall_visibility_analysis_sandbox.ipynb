{
 "cells": [
  {
   "cell_type": "code",
   "execution_count": 29,
   "id": "d4992911-7b02-448c-8ee5-c89c228ad2ed",
   "metadata": {},
   "outputs": [],
   "source": [
    "%load_ext autoreload\n",
    "%autoreload 2\n",
    "\n",
    "import parse_data.prepare_data as prepare_data\n",
    "import numpy as np\n",
    "import pandas as pd\n",
    "import matplotlib.pyplot as plt\n",
    "import globals\n",
    "import data_strings\n",
    "import analysis.wall_visibility_and_choice as wall_visibility_and_choice\n",
    "import trajectory_analysis.trajectory_headangle as trajectory_headangle\n",
    "import data_extraction.get_indices as get_indices\n",
    "import plotting.plot_probability_chose_wall as plot_probability_chose_wall"
   ]
  },
  {
   "cell_type": "markdown",
   "id": "7a24b223",
   "metadata": {},
   "source": [
    "### Rewriting of P(choice | visibility) analysis using the logic from opponent-visibility "
   ]
  },
  {
   "cell_type": "code",
   "execution_count": 2,
   "id": "011c819a-ab6d-4c42-8ab8-c35d0824fbfa",
   "metadata": {},
   "outputs": [],
   "source": [
    "data_folder = data_strings.DATA_FOLDER\n",
    "json_filenames_all_social = data_strings.JSON_FILENAMES_SOCIAL\n",
    "json_filenames_all_solo = data_strings.JSON_FILENAMES_SOLO"
   ]
  },
  {
   "cell_type": "code",
   "execution_count": 3,
   "id": "c07cb011",
   "metadata": {},
   "outputs": [],
   "source": [
    "json_filenames = json_filenames_all_social"
   ]
  },
  {
   "cell_type": "code",
   "execution_count": 4,
   "id": "167898aa-3073-479e-8eef-6c579c67c7f4",
   "metadata": {
    "scrolled": true
   },
   "outputs": [
    {
     "name": "stdout",
     "output_type": "stream",
     "text": [
      "filepath: C:\\Users\\tomha\\OneDrive\\PhD\\SWC\\data\\first_experiments_2409\\240913\\2024-09-13_11-31-00_YansuJerrySocial.json\n",
      "Data is from period before 2024-09-13 00:00:00\n",
      "Running dataframe through playerinfo_playerposition_conversion.\n",
      "Loading complete.\n",
      "Preprocessing complete.\n",
      "filepath: C:\\Users\\tomha\\OneDrive\\PhD\\SWC\\data\\second_experiments_2409\\240927\\2024-09-27_14-25-20_SaraEmilySocial.json\n",
      "Loading complete.\n",
      "Preprocessing complete.\n",
      "filepath: C:\\Users\\tomha\\OneDrive\\PhD\\SWC\\data\\third_experiments_2410\\241017\\2024-10-17_14-28-40_ShamirAbigailSocial.json\n",
      "Loading complete.\n",
      "Preprocessing complete.\n",
      "filepath: C:\\Users\\tomha\\OneDrive\\PhD\\SWC\\data\\fourth_experiments_2410\\241017\\2024-10-17_16-41-38_ZimoElsaSocial.json\n",
      "Loading complete.\n",
      "Preprocessing complete.\n",
      "filepath: C:\\Users\\tomha\\OneDrive\\PhD\\SWC\\data\\fifth_experiments_241112\\2024-11-12_13-31-14_KhadijaWendySocial.json\n",
      "Loading complete.\n",
      "Preprocessing complete.\n",
      "filepath: C:\\Users\\tomha\\OneDrive\\PhD\\SWC\\data\\sixth_experiments_241112\\2024-11-12_15-23-24_FrancescaSenSzeSocial.json\n",
      "Loading complete.\n",
      "Preprocessing complete.\n",
      "filepath: C:\\Users\\tomha\\OneDrive\\PhD\\SWC\\data\\seventh_experiments_241113\\2024-11-13_14-18-54_NasiaRyanSocial.json\n",
      "Loading complete.\n",
      "Preprocessing complete.\n",
      "filepath: C:\\Users\\tomha\\OneDrive\\PhD\\SWC\\data\\eighth_experiments_241113\\2024-11-13_15-28-07_YichuanHoiSocial.json\n",
      "Loading complete.\n",
      "Preprocessing complete.\n",
      "filepath: C:\\Users\\tomha\\OneDrive\\PhD\\SWC\\data\\ninth_experiments_241119\\2024-11-19_14-24-49_AmyXinyuanSocial.json\n",
      "Loading complete.\n",
      "Preprocessing complete.\n",
      "filepath: C:\\Users\\tomha\\OneDrive\\PhD\\SWC\\data\\tenth_experiments_241119\\2024-11-19_15-22-56_SophiaHocineSocial.json\n",
      "Loading complete.\n",
      "Preprocessing complete.\n",
      "filepath: C:\\Users\\tomha\\OneDrive\\PhD\\SWC\\data\\eleventh_experiments_241120\\2024-11-20_14-17-44_JasonRahulSocial.json\n",
      "Loading complete.\n",
      "Preprocessing complete.\n",
      "filepath: C:\\Users\\tomha\\OneDrive\\PhD\\SWC\\data\\twelfth_experiments_241120\\2024-11-20_15-16-21_SunnyVinceSocial.json\n",
      "Loading complete.\n",
      "Preprocessing complete.\n",
      "filepath: C:\\Users\\tomha\\OneDrive\\PhD\\SWC\\data\\241203_1\\2024-12-03_14-31-51_PaulNicoleSocial.json\n",
      "Loading complete.\n",
      "Preprocessing complete.\n",
      "filepath: C:\\Users\\tomha\\OneDrive\\PhD\\SWC\\data\\241203_2\\2024-12-03_15-27-28_EstherBowimSocial.json\n",
      "Loading complete.\n",
      "Preprocessing complete.\n",
      "filepath: C:\\Users\\tomha\\OneDrive\\PhD\\SWC\\data\\241210_1\\2024-12-10_14-21-17_TaqwaTasSocial.json\n",
      "Loading complete.\n",
      "Preprocessing complete.\n",
      "filepath: C:\\Users\\tomha\\OneDrive\\PhD\\SWC\\data\\241210_2\\2024-12-10_15-20-11_RyanRoseSocial.json\n",
      "Loading complete.\n",
      "Preprocessing complete.\n",
      "filepath: C:\\Users\\tomha\\OneDrive\\PhD\\SWC\\data\\241219_1\\2024-12-19_15-28-24_JingjingYeungSocial.json\n",
      "Loading complete.\n",
      "Preprocessing complete.\n",
      "filepath: C:\\Users\\tomha\\OneDrive\\PhD\\SWC\\data\\241220_1\\2024-12-20_17-44-50_KirtanChristopherSocial.json\n",
      "Loading complete.\n",
      "Preprocessing complete.\n"
     ]
    }
   ],
   "source": [
    "df, trial_lists = prepare_data.prepare_data(data_folder, json_filenames, combine=False)"
   ]
  },
  {
   "cell_type": "markdown",
   "id": "12c245c6",
   "metadata": {},
   "source": [
    "Goal:\n",
    "- Parameterise choice wall (if any), first_visible wall (if any), inferred choice"
   ]
  },
  {
   "cell_type": "code",
   "execution_count": 5,
   "id": "6655dc0d",
   "metadata": {},
   "outputs": [],
   "source": [
    "## Create filter funtions\n"
   ]
  },
  {
   "cell_type": "code",
   "execution_count": 6,
   "id": "ea2998f3",
   "metadata": {},
   "outputs": [],
   "source": [
    "def filter_trials_retrievable_choice(trial_list, player_id, inferred_choice):\n",
    "    ''' Return the filtered trial list and list of indices from the original trial list that\n",
    "        conform with player player_id having a recorded choice.\n",
    "        This is required for accurate probabilities, because we do cannot include trials (as negative)\n",
    "        where we do not know what the player's choice would have been. '''\n",
    "    \n",
    "    # get player choice (wall number) for each trial\n",
    "    # inferred choice can be used here\n",
    "    player_choice = wall_visibility_and_choice.get_player_wall_choice(trial_list, player_id,\n",
    "                                                                        inferred_choice, debug=False)\n",
    "    \n",
    "    print(f\"player_choice, inferred status {inferred_choice} is:\\n{player_choice}\")\n",
    "    \n",
    "    # filter trials list to only include trials where this player had a recorded choice\n",
    "    player_recorded_choice_indices = np.where(~np.isnan(player_choice))\n",
    "\n",
    "    # index the tuple and allow list-compatible indexing\n",
    "    player_recorded_choice_indices = player_recorded_choice_indices[0].tolist()\n",
    "\n",
    "    # Use a list comprehension to index the trial list with the indices list\n",
    "    trial_list_filtered = [trial_list[i] for i in player_recorded_choice_indices]\n",
    "\n",
    "    return trial_list_filtered, player_recorded_choice_indices\n",
    "\n",
    "    "
   ]
  },
  {
   "cell_type": "code",
   "execution_count": 7,
   "id": "6f3869cd",
   "metadata": {},
   "outputs": [],
   "source": [
    "def filter_trials_one_wall_initially_visible(trial_list, player_id, wall_index, current_fov):\n",
    "    ''' Return a filtered trial list and list of indices from the original trial list that\n",
    "        conform to a single trial wall being visible to player player_id at trial start,\n",
    "        conferred by wall_index (e.g. 0 or 1 for wall1 or wall2) '''\n",
    "    \n",
    "    # find wall visibility (at the trial start timepoint) for the full session\n",
    "    (wall1_visible_session,\n",
    "    wall2_visible_session) = wall_visibility_and_choice.get_walls_initial_visibility_session(trial_list,\n",
    "                                                                    player_id, current_fov, debug=False)\n",
    "    \n",
    "    # use np bitwise operators to find trials with only the relevant wall visible\n",
    "    if wall_index == 0:\n",
    "        single_wall_visible_indices = np.where((wall1_visible_session == True) & (wall2_visible_session == False))\n",
    "    elif wall_index == 1:\n",
    "        single_wall_visible_indices = np.where((wall2_visible_session == True) & (wall1_visible_session == False))\n",
    "\n",
    "    # index the tuple and allow list-compatible indexing\n",
    "    single_wall_visible_indices = single_wall_visible_indices[0].tolist() \n",
    "\n",
    "    trial_list_filtered = [trial_list[i] for i in single_wall_visible_indices]\n",
    "\n",
    "    return trial_list_filtered, single_wall_visible_indices\n"
   ]
  },
  {
   "cell_type": "code",
   "execution_count": 8,
   "id": "676c5acc",
   "metadata": {},
   "outputs": [],
   "source": [
    "def filter_trials_both_walls_initially_visible(trial_list, player_id, current_fov):\n",
    "    ''' Return a filtered trial list and list of indices from the original trial list that\n",
    "        conform to both trial walls being visible to player player_id at trial start. '''\n",
    "    \n",
    "    # find wall visibility for the full session\n",
    "    (wall1_visible_session,\n",
    "    wall2_visible_session) = wall_visibility_and_choice.get_walls_initial_visibility_session(trial_list,\n",
    "                                                                    player_id, current_fov,\n",
    "                                                                    debug=False)\n",
    "    \n",
    "    # identify indices where both walls are visible initially\n",
    "    both_walls_visible_indices = np.where((wall1_visible_session == True) & (wall2_visible_session == True))\n",
    "    \n",
    "    # index the tuple and allow list-compatible indexing\n",
    "    both_walls_visible_indices = both_walls_visible_indices[0].tolist() \n",
    "\n",
    "    # Use a list comprehension to index the trial list with the indices list\n",
    "    trial_list_filtered = [trial_list[i] for i in both_walls_visible_indices]\n",
    "\n",
    "    return trial_list_filtered, both_walls_visible_indices"
   ]
  },
  {
   "cell_type": "code",
   "execution_count": 25,
   "id": "e623733c",
   "metadata": {},
   "outputs": [],
   "source": [
    "def filter_trials_one_wall_becomes_visible_first(trial_list, player_id,\n",
    "                                                 current_fov, wall_index,\n",
    "                                                 debug=False):\n",
    "    ''' Return a filtered trial list and list of indices from the original trial list that\n",
    "        conform to one of the trial walls becoming visible to player player_id during the trial\n",
    "        before any other. '''\n",
    "    \n",
    "    # get whether given wall is visible first (and initially alone) for this player for a full session\n",
    "    # TODO This can be checked again after having written\n",
    "    given_wall_first_visible_session = wall_visibility_and_choice.get_given_wall_first_visible_session(trial_list,\n",
    "                                                                                                       player_id,\n",
    "                                                                                                       wall_index,\n",
    "                                                                                                       current_fov,\n",
    "                                                                                                       debug)\n",
    "    \n",
    "    # identify indices where wall wall_index becomes visible first\n",
    "    given_wall_first_visible_indices = np.where(given_wall_first_visible_session == True)\n",
    "\n",
    "    # index the tuple and allow list-compatible indexing\n",
    "    given_wall_first_visible_indices = given_wall_first_visible_indices[0].tolist() \n",
    "\n",
    "    # Use a list comprehension to index the trial list with the indices list\n",
    "    trial_list_filtered = [trial_list[i] for i in given_wall_first_visible_indices]\n",
    "\n",
    "\n",
    "    return trial_list_filtered, given_wall_first_visible_indices"
   ]
  },
  {
   "cell_type": "code",
   "execution_count": 10,
   "id": "5131f2d6",
   "metadata": {},
   "outputs": [],
   "source": [
    "def filter_trials_player_chose_given_wall(trial_list, player_id, inferred_choice, given_wall_index):\n",
    "    ''' Return a filtered trial list and list of indices from the original trial list \n",
    "        where player choice (winner + loser, or just winner) aligned with\n",
    "        the given wall index (e.g., 0 for wall1) '''\n",
    "    \n",
    "    # get player choice (wall number) for each trial\n",
    "    # inferred choice can be used here\n",
    "    player_choice = wall_visibility_and_choice.get_player_wall_choice(trial_list, player_id,\n",
    "                                                                        inferred_choice, debug=False)\n",
    "    \n",
    "    print(f\"player choice array:\\n{player_choice}\")\n",
    "\n",
    "    # get the truth array for whether the player choice wall aligns with the given wall parameter\n",
    "    # to this function (NB. this is NOT the wall that was eventually chosen in the trial)\n",
    "    given_wall_chosen_session = get_indices.was_given_wall_chosen(trial_list, player_choice,\n",
    "                                                                  given_wall_index)\n",
    "    \n",
    "    print(f\"given wall chosen array:\\n{given_wall_chosen_session}\")\n",
    "    \n",
    "    # find the indices of the trials in trial_list where the given wall was chosen by player player_id.\n",
    "    # this will drop trials where the given wall was not chosen, and trials without retrievable choice information\n",
    "    given_wall_chosen_indices = np.where(given_wall_chosen_session == True)\n",
    "    print(f\"given wall chosen true indices:\\n{given_wall_chosen_indices}\")\n",
    "    \n",
    "    # index the tuple and allow list-compatible indexing\n",
    "    given_wall_chosen_indices = given_wall_chosen_indices[0].tolist()\n",
    "\n",
    "    # use a list comprehension to index the trial list with the indices list\n",
    "    trial_list_filtered = [trial_list[i] for i in given_wall_chosen_indices]\n",
    "\n",
    "    # return filtered trial_list, and list of indices with which to index the original list\n",
    "    return trial_list_filtered, given_wall_chosen_indices\n",
    "    \n"
   ]
  },
  {
   "cell_type": "code",
   "execution_count": 11,
   "id": "2569dd2c",
   "metadata": {},
   "outputs": [],
   "source": [
    "def filter_trials_player_won(trial_list, player_id):\n",
    "    ''' Return a filtered trial list and list of indices from the original trial list \n",
    "        where player player_id won. '''\n",
    "    \n",
    "    # get trigger activators for this session\n",
    "    trigger_activators = get_indices.get_trigger_activators(trial_list)\n",
    "    \n",
    "    # find the indices of the trials in trial_list where player player_id won\n",
    "    this_player_wins_indices = np.where(trigger_activators == player_id)\n",
    "    \n",
    "    # index the tuple and allow list-compatible indexing\n",
    "    this_player_wins_indices = this_player_wins_indices[0].tolist()\n",
    "\n",
    "    # use a list comprehension to index the trial list with the indices list\n",
    "    trial_list_filtered = [trial_list[i] for i in this_player_wins_indices]\n",
    "\n",
    "    # return filtered trial_list, and list of indices with which to index the original list\n",
    "    return trial_list_filtered, this_player_wins_indices\n",
    "    \n"
   ]
  },
  {
   "cell_type": "code",
   "execution_count": 12,
   "id": "42c0fdcc",
   "metadata": {},
   "outputs": [],
   "source": [
    "## calculate probability"
   ]
  },
  {
   "cell_type": "code",
   "execution_count": 13,
   "id": "872b6673",
   "metadata": {},
   "outputs": [],
   "source": [
    "def calculate_probability_choose_wall(trial_list, trial_list_choice_filtered):\n",
    "    ''' Given a trial list (pre-filtered, but not for choice), calculate the probability that \n",
    "        a player will choose a given wall value as the proportion of trials from the trial\n",
    "        list in which the player chose the wall value.\n",
    "        More complex use of this function could involve e.g. filtering the trial list for \n",
    "        trials where Low was first seen and the Opponent is visible, and then further filtering\n",
    "        for player choice being 'Low', to find probability of (choose Low | first visible) under the\n",
    "        condition of Other visibility at trial start. '''\n",
    "        \n",
    "    \n",
    "    # use the length of the trial list pre-choice filtering, and the length of the trial list post-choice\n",
    "    # filtering (e.g. with filter_trials_player_chose_given_wall) to calculate the proportion of \n",
    "    # relevant trials that a player chose a specific wall\n",
    "    try:\n",
    "        probability_chose_wall = len(trial_list_choice_filtered)/len(trial_list)\n",
    "    except ZeroDivisionError:\n",
    "        probability_chose_wall = np.nan\n",
    "\n",
    "    return probability_chose_wall\n",
    "    \n",
    "    "
   ]
  },
  {
   "cell_type": "code",
   "execution_count": 14,
   "id": "d9812661",
   "metadata": {},
   "outputs": [],
   "source": [
    "## Umbrella functions of filters followed by probability calculation"
   ]
  },
  {
   "cell_type": "code",
   "execution_count": 15,
   "id": "4bc24bb0",
   "metadata": {},
   "outputs": [],
   "source": [
    "def probability_trial_outcome_given_conditions(trial_list, player_id,\n",
    "                                               visible_wall_index, chosen_wall_index,\n",
    "                                               inferred_choice, current_fov,\n",
    "                                               debug=False):\n",
    "    ''' Take a trial list and filter based on existence of player_id player choice,\n",
    "        and whether a specific wall becomes visible alone first (if visible_wall_index is not None). \n",
    "        Then, filter this trial list by the player choice being for a specific trial wall \n",
    "        (if chosen_wall_index is not None) and take the proportion of trials remaining\n",
    "        as the probability of making this choice conditioned on our chosen filters.\n",
    "        Returns probability of choosing a trial wall. \n",
    "        inferred_choice decides whether to include inferred choice for identifying retrievable choice and chosen wall.\n",
    "        visible_wall_index and chosen_wall_index control wall initial visibility and player choice filters respectively. '''\n",
    "    \n",
    "    if debug:\n",
    "      print(f\"Next session, player_id {player_id}\")\n",
    "\n",
    "    # filter trials with a retrievable choice for this player (trials only valid for analysis if we \n",
    "    # have a recorded choice for the player)\n",
    "    (trial_list_filtered,\n",
    "    filtered_indices) = filter_trials_retrievable_choice(trial_list, player_id, inferred_choice)\n",
    "\n",
    "    if debug:\n",
    "      print(f\"Len 'player choice exists' indices: {len(filtered_indices)}\")\n",
    "\n",
    "\n",
    "    # filter based on single wall visibility if requested\n",
    "    if visible_wall_index is not None: \n",
    "        # filter with visible_wall_index seen first, alone in a trial\n",
    "        (trial_list_filtered,\n",
    "        filtered_indices) = filter_trials_one_wall_becomes_visible_first(trial_list_filtered, player_id,\n",
    "                                                                     current_fov, wall_index=visible_wall_index)\n",
    "    if debug:\n",
    "      print(f\"Len '{visible_wall_index} seen first, alone': {len(filtered_indices)}\")\n",
    "\n",
    "\n",
    "    # filter based on chosen wall if requested\n",
    "    if chosen_wall_index is not None:\n",
    "        # filter with chosen_wall_index chosen\n",
    "        (trial_list_filtered_choice,\n",
    "        filtered_indices_choice) = filter_trials_player_chose_given_wall(trial_list_filtered, player_id,\n",
    "                                                                  inferred_choice,\n",
    "                                                                  given_wall_index=chosen_wall_index)\n",
    "    else: # otherwise, default to all wins for this player\n",
    "        (trial_list_filtered_choice,\n",
    "        filtered_indices_choice) = filter_trials_player_won(trial_list_filtered, player_id)\n",
    "       \n",
    "    if debug:\n",
    "      print(f\"Len '{chosen_wall_index} index wall chosen by player {player_id}': {len(filtered_indices_choice)}\")\n",
    "\n",
    "    \n",
    "    # find the probability of the player choosing the given wall index, considering only trials that are filtered\n",
    "    # prior to choice filtering\n",
    "    probability_chose_wall = calculate_probability_choose_wall(trial_list_filtered, trial_list_filtered_choice)\n",
    "\n",
    "    if debug:\n",
    "      print(f\"Probability player chose wall given these conditions: {probability_chose_wall}\")\n",
    "\n",
    "    \n",
    "    return probability_chose_wall"
   ]
  },
  {
   "cell_type": "code",
   "execution_count": 16,
   "id": "162e7dcf",
   "metadata": {},
   "outputs": [],
   "source": [
    "## Session umbrella functions for collecting probabilities data for all players in all sessions"
   ]
  },
  {
   "cell_type": "code",
   "execution_count": 23,
   "id": "df2b3f6f",
   "metadata": {},
   "outputs": [],
   "source": [
    "def probability_trial_outcome_given_conditions_all_sessions(session_trial_lists, inferred_choice,\n",
    "                                                            current_fov,\n",
    "                                                            chosen_wall_index, visible_wall_index,\n",
    "                                                            trial_type=globals.HIGH_LOW, debug=False):\n",
    "    ''' Return the probability array across all players and sessions \n",
    "        that a trial has a particular outcome given conditions.\n",
    "        Conditions here are only wall visible_wall_index visible alone, first.\n",
    "        Outcome is that wall chosen_wall_index is chosen, or just that player player_id\n",
    "        won if this parameter is None'''\n",
    "\n",
    "    probabilities = np.full(len(session_trial_lists)*2, np.nan)\n",
    "    trial_list_index = 0\n",
    "\n",
    "    # loop through the number of players, filling 2 slots per session analysed\n",
    "    for i in range(0,len(session_trial_lists)*2, 2):\n",
    "\n",
    "        trial_list = session_trial_lists[trial_list_index]\n",
    "\n",
    "        # filter trial list for HighLow trialtype\n",
    "        trial_indices = get_indices.get_trials_trialtype(trial_list, trial_type=trial_type)\n",
    "        trial_list_filtered = [trial_list[i] for i in trial_indices]\n",
    "\n",
    "        for player_id in [0,1]:\n",
    "            probabilities[i + player_id] = probability_trial_outcome_given_conditions(trial_list_filtered, player_id,\n",
    "                                                                                      visible_wall_index, chosen_wall_index,\n",
    "                                                                                      inferred_choice, current_fov,\n",
    "                                                                                      debug=debug)\n",
    "\n",
    "        trial_list_index += 1\n",
    "        \n",
    "        \n",
    "\n",
    "    return probabilities\n"
   ]
  },
  {
   "cell_type": "code",
   "execution_count": 18,
   "id": "680792d4",
   "metadata": {},
   "outputs": [],
   "source": [
    "## Plotting functions for boxplot line graphs"
   ]
  },
  {
   "cell_type": "code",
   "execution_count": 19,
   "id": "0857cb8f",
   "metadata": {},
   "outputs": [],
   "source": [
    "# plot_probability_chose_wall.boxplot_probability_choose_wall(wall_choice_probabilities, wall_choice_labels, ylabel=\"P(Choose first wall seen)\")"
   ]
  },
  {
   "cell_type": "markdown",
   "id": "65c8af67",
   "metadata": {},
   "source": [
    "### Sandbox"
   ]
  },
  {
   "cell_type": "code",
   "execution_count": 20,
   "id": "b366714d",
   "metadata": {},
   "outputs": [],
   "source": [
    "# variables\n",
    "inferred_choice = False\n",
    "current_fov = 110\n"
   ]
  },
  {
   "cell_type": "code",
   "execution_count": 28,
   "id": "3fe68708",
   "metadata": {},
   "outputs": [
    {
     "name": "stdout",
     "output_type": "stream",
     "text": [
      "player_choice, inferred status False is:\n",
      "[nan  2.  5.  6. nan nan  5. nan  8. nan nan  6. nan nan nan nan  1. nan\n",
      "  1. nan nan  2. nan  8. nan  5.  2.  5. nan  3. nan nan nan nan nan  2.\n",
      "  7. nan nan nan  6.  4.  2.  6. nan  6.  1.  7. nan nan  6. nan  3. nan\n",
      " nan nan nan nan  3. nan  1.  4.  7. nan  8.  2.  1.  1. nan nan nan nan\n",
      " nan  7. nan nan  1. nan  1.  8. nan nan  5. nan nan  2. nan nan nan nan\n",
      " nan nan nan  1.  8.  4. nan nan nan nan nan  7.]\n"
     ]
    },
    {
     "ename": "TypeError",
     "evalue": "vstack() takes 1 positional argument but 2 were given",
     "output_type": "error",
     "traceback": [
      "\u001b[1;31m---------------------------------------------------------------------------\u001b[0m",
      "\u001b[1;31mTypeError\u001b[0m                                 Traceback (most recent call last)",
      "Cell \u001b[1;32mIn[28], line 2\u001b[0m\n\u001b[0;32m      1\u001b[0m \u001b[38;5;66;03m# P(H | H first vis), for all players\u001b[39;00m\n\u001b[1;32m----> 2\u001b[0m probabilities1 \u001b[38;5;241m=\u001b[39m \u001b[43mprobability_trial_outcome_given_conditions_all_sessions\u001b[49m\u001b[43m(\u001b[49m\u001b[43mtrial_lists\u001b[49m\u001b[43m,\u001b[49m\u001b[43m \u001b[49m\u001b[43minferred_choice\u001b[49m\u001b[43m,\u001b[49m\n\u001b[0;32m      3\u001b[0m \u001b[43m                                                                        \u001b[49m\u001b[43mcurrent_fov\u001b[49m\u001b[43m,\u001b[49m\u001b[43m \u001b[49m\u001b[43mtrial_type\u001b[49m\u001b[38;5;241;43m=\u001b[39;49m\u001b[38;5;28;43mglobals\u001b[39;49m\u001b[38;5;241;43m.\u001b[39;49m\u001b[43mHIGH_LOW\u001b[49m\u001b[43m,\u001b[49m\n\u001b[0;32m      4\u001b[0m \u001b[43m                                                                        \u001b[49m\u001b[43mchosen_wall_index\u001b[49m\u001b[38;5;241;43m=\u001b[39;49m\u001b[38;5;241;43m0\u001b[39;49m\u001b[43m,\u001b[49m\u001b[43m \u001b[49m\u001b[43mvisible_wall_index\u001b[49m\u001b[38;5;241;43m=\u001b[39;49m\u001b[38;5;241;43m0\u001b[39;49m\u001b[43m,\u001b[49m\n\u001b[0;32m      5\u001b[0m \u001b[43m                                                                        \u001b[49m\u001b[43mdebug\u001b[49m\u001b[38;5;241;43m=\u001b[39;49m\u001b[38;5;28;43;01mFalse\u001b[39;49;00m\u001b[43m)\u001b[49m\n",
      "Cell \u001b[1;32mIn[23], line 24\u001b[0m, in \u001b[0;36mprobability_trial_outcome_given_conditions_all_sessions\u001b[1;34m(session_trial_lists, inferred_choice, current_fov, chosen_wall_index, visible_wall_index, trial_type, debug)\u001b[0m\n\u001b[0;32m     21\u001b[0m     trial_list_filtered \u001b[38;5;241m=\u001b[39m [trial_list[i] \u001b[38;5;28;01mfor\u001b[39;00m i \u001b[38;5;129;01min\u001b[39;00m trial_indices]\n\u001b[0;32m     23\u001b[0m     \u001b[38;5;28;01mfor\u001b[39;00m player_id \u001b[38;5;129;01min\u001b[39;00m [\u001b[38;5;241m0\u001b[39m,\u001b[38;5;241m1\u001b[39m]:\n\u001b[1;32m---> 24\u001b[0m         probabilities[i \u001b[38;5;241m+\u001b[39m player_id] \u001b[38;5;241m=\u001b[39m \u001b[43mprobability_trial_outcome_given_conditions\u001b[49m\u001b[43m(\u001b[49m\u001b[43mtrial_list_filtered\u001b[49m\u001b[43m,\u001b[49m\u001b[43m \u001b[49m\u001b[43mplayer_id\u001b[49m\u001b[43m,\u001b[49m\n\u001b[0;32m     25\u001b[0m \u001b[43m                                                                                  \u001b[49m\u001b[43mvisible_wall_index\u001b[49m\u001b[43m,\u001b[49m\u001b[43m \u001b[49m\u001b[43mchosen_wall_index\u001b[49m\u001b[43m,\u001b[49m\n\u001b[0;32m     26\u001b[0m \u001b[43m                                                                                  \u001b[49m\u001b[43minferred_choice\u001b[49m\u001b[43m,\u001b[49m\u001b[43m \u001b[49m\u001b[43mcurrent_fov\u001b[49m\u001b[43m,\u001b[49m\n\u001b[0;32m     27\u001b[0m \u001b[43m                                                                                  \u001b[49m\u001b[43mdebug\u001b[49m\u001b[38;5;241;43m=\u001b[39;49m\u001b[43mdebug\u001b[49m\u001b[43m)\u001b[49m\n\u001b[0;32m     29\u001b[0m     trial_list_index \u001b[38;5;241m+\u001b[39m\u001b[38;5;241m=\u001b[39m \u001b[38;5;241m1\u001b[39m\n\u001b[0;32m     33\u001b[0m \u001b[38;5;28;01mreturn\u001b[39;00m probabilities\n",
      "Cell \u001b[1;32mIn[15], line 30\u001b[0m, in \u001b[0;36mprobability_trial_outcome_given_conditions\u001b[1;34m(trial_list, player_id, visible_wall_index, chosen_wall_index, inferred_choice, current_fov, debug)\u001b[0m\n\u001b[0;32m     26\u001b[0m \u001b[38;5;66;03m# filter based on single wall visibility if requested\u001b[39;00m\n\u001b[0;32m     27\u001b[0m \u001b[38;5;28;01mif\u001b[39;00m visible_wall_index \u001b[38;5;129;01mis\u001b[39;00m \u001b[38;5;129;01mnot\u001b[39;00m \u001b[38;5;28;01mNone\u001b[39;00m: \n\u001b[0;32m     28\u001b[0m     \u001b[38;5;66;03m# filter with visible_wall_index seen first, alone in a trial\u001b[39;00m\n\u001b[0;32m     29\u001b[0m     (trial_list_filtered,\n\u001b[1;32m---> 30\u001b[0m     filtered_indices) \u001b[38;5;241m=\u001b[39m \u001b[43mfilter_trials_one_wall_becomes_visible_first\u001b[49m\u001b[43m(\u001b[49m\u001b[43mtrial_list_filtered\u001b[49m\u001b[43m,\u001b[49m\u001b[43m \u001b[49m\u001b[43mplayer_id\u001b[49m\u001b[43m,\u001b[49m\n\u001b[0;32m     31\u001b[0m \u001b[43m                                                                 \u001b[49m\u001b[43mcurrent_fov\u001b[49m\u001b[43m,\u001b[49m\u001b[43m \u001b[49m\u001b[43mwall_index\u001b[49m\u001b[38;5;241;43m=\u001b[39;49m\u001b[43mvisible_wall_index\u001b[49m\u001b[43m)\u001b[49m\n\u001b[0;32m     32\u001b[0m \u001b[38;5;28;01mif\u001b[39;00m debug:\n\u001b[0;32m     33\u001b[0m   \u001b[38;5;28mprint\u001b[39m(\u001b[38;5;124mf\u001b[39m\u001b[38;5;124m\"\u001b[39m\u001b[38;5;124mLen \u001b[39m\u001b[38;5;124m'\u001b[39m\u001b[38;5;132;01m{\u001b[39;00mvisible_wall_index\u001b[38;5;132;01m}\u001b[39;00m\u001b[38;5;124m seen first, alone\u001b[39m\u001b[38;5;124m'\u001b[39m\u001b[38;5;124m: \u001b[39m\u001b[38;5;132;01m{\u001b[39;00m\u001b[38;5;28mlen\u001b[39m(filtered_indices)\u001b[38;5;132;01m}\u001b[39;00m\u001b[38;5;124m\"\u001b[39m)\n",
      "Cell \u001b[1;32mIn[25], line 10\u001b[0m, in \u001b[0;36mfilter_trials_one_wall_becomes_visible_first\u001b[1;34m(trial_list, player_id, current_fov, wall_index, debug)\u001b[0m\n\u001b[0;32m      4\u001b[0m \u001b[38;5;250m\u001b[39m\u001b[38;5;124;03m''' Return a filtered trial list and list of indices from the original trial list that\u001b[39;00m\n\u001b[0;32m      5\u001b[0m \u001b[38;5;124;03m    conform to one of the trial walls becoming visible to player player_id during the trial\u001b[39;00m\n\u001b[0;32m      6\u001b[0m \u001b[38;5;124;03m    before any other. '''\u001b[39;00m\n\u001b[0;32m      8\u001b[0m \u001b[38;5;66;03m# get whether given wall is visible first (and initially alone) for this player for a full session\u001b[39;00m\n\u001b[0;32m      9\u001b[0m \u001b[38;5;66;03m# TODO This can be checked again after having written\u001b[39;00m\n\u001b[1;32m---> 10\u001b[0m given_wall_first_visible_session \u001b[38;5;241m=\u001b[39m \u001b[43mwall_visibility_and_choice\u001b[49m\u001b[38;5;241;43m.\u001b[39;49m\u001b[43mget_given_wall_first_visible_session\u001b[49m\u001b[43m(\u001b[49m\u001b[43mtrial_list\u001b[49m\u001b[43m,\u001b[49m\n\u001b[0;32m     11\u001b[0m \u001b[43m                                                                                                   \u001b[49m\u001b[43mplayer_id\u001b[49m\u001b[43m,\u001b[49m\n\u001b[0;32m     12\u001b[0m \u001b[43m                                                                                                   \u001b[49m\u001b[43mwall_index\u001b[49m\u001b[43m,\u001b[49m\n\u001b[0;32m     13\u001b[0m \u001b[43m                                                                                                   \u001b[49m\u001b[43mcurrent_fov\u001b[49m\u001b[43m,\u001b[49m\n\u001b[0;32m     14\u001b[0m \u001b[43m                                                                                                   \u001b[49m\u001b[43mdebug\u001b[49m\u001b[43m)\u001b[49m\n\u001b[0;32m     16\u001b[0m \u001b[38;5;66;03m# identify indices where wall wall_index becomes visible first\u001b[39;00m\n\u001b[0;32m     17\u001b[0m given_wall_first_visible_indices \u001b[38;5;241m=\u001b[39m np\u001b[38;5;241m.\u001b[39mwhere(given_wall_first_visible_session \u001b[38;5;241m==\u001b[39m \u001b[38;5;28;01mTrue\u001b[39;00m)\n",
      "File \u001b[1;32mc:\\users\\tomha\\repos\\octagon_analysis\\analysis\\wall_visibility_and_choice.py:34\u001b[0m, in \u001b[0;36mget_given_wall_first_visible_session\u001b[1;34m(trial_list, player_id, wall_index, current_fov, debug)\u001b[0m\n\u001b[0;32m     29\u001b[0m \u001b[38;5;66;03m# get wall initial visibility for a full session\u001b[39;00m\n\u001b[0;32m     30\u001b[0m (wall1_initially_visible_session,\n\u001b[0;32m     31\u001b[0m wall2_initially_visible_session) \u001b[38;5;241m=\u001b[39m get_walls_initial_visibility_session(trial_list,\n\u001b[0;32m     32\u001b[0m                                                                         player_id, current_fov,\n\u001b[0;32m     33\u001b[0m                                                                         debug\u001b[38;5;241m=\u001b[39m\u001b[38;5;28;01mFalse\u001b[39;00m)\n\u001b[1;32m---> 34\u001b[0m wall_initial_visibility \u001b[38;5;241m=\u001b[39m \u001b[43mnp\u001b[49m\u001b[38;5;241;43m.\u001b[39;49m\u001b[43mvstack\u001b[49m\u001b[43m(\u001b[49m\u001b[43mwall1_initially_visible_session\u001b[49m\u001b[43m,\u001b[49m\u001b[43m \u001b[49m\u001b[43mwall2_initially_visible_session\u001b[49m\u001b[43m)\u001b[49m\n\u001b[0;32m     35\u001b[0m \u001b[38;5;28;01mif\u001b[39;00m debug:\n\u001b[0;32m     36\u001b[0m     \u001b[38;5;28mprint\u001b[39m(\u001b[38;5;124mf\u001b[39m\u001b[38;5;124m\"\u001b[39m\u001b[38;5;124mwall initial visibility is: \u001b[39m\u001b[38;5;132;01m{\u001b[39;00mwall_initial_visibility\u001b[38;5;132;01m}\u001b[39;00m\u001b[38;5;124m\"\u001b[39m)\n",
      "\u001b[1;31mTypeError\u001b[0m: vstack() takes 1 positional argument but 2 were given"
     ]
    }
   ],
   "source": [
    "# P(H | H first vis), for all players\n",
    "probabilities1 = probability_trial_outcome_given_conditions_all_sessions(trial_lists, inferred_choice,\n",
    "                                                                        current_fov, trial_type=globals.HIGH_LOW,\n",
    "                                                                        chosen_wall_index=0, visible_wall_index=0,\n",
    "                                                                        debug=False)"
   ]
  },
  {
   "cell_type": "code",
   "execution_count": null,
   "id": "4febb95d",
   "metadata": {},
   "outputs": [],
   "source": [
    "# P(L | L first vis), for all players\n",
    "probabilities2 = probability_trial_outcome_given_conditions_all_sessions(trial_lists, inferred_choice,\n",
    "                                                                        current_fov, trial_type=globals.HIGH_LOW,\n",
    "                                                                        chosen_wall_index=1, visible_wall_index=1,\n",
    "                                                                        debug=False)"
   ]
  },
  {
   "cell_type": "code",
   "execution_count": null,
   "id": "1ed661b2",
   "metadata": {},
   "outputs": [],
   "source": [
    "wall_choice_probabilities = [probabilities1, probabilities2]\n",
    "wall_choice_labels = [\"High first vis\", \"Low first vis\"]"
   ]
  },
  {
   "cell_type": "code",
   "execution_count": null,
   "id": "be5cba89",
   "metadata": {},
   "outputs": [],
   "source": [
    "plot_probability_chose_wall.boxplot_probability_choose_wall(wall_choice_probabilities, wall_choice_labels, ylabel=\"P(Choose first wall seen)\")"
   ]
  }
 ],
 "metadata": {
  "kernelspec": {
   "display_name": "octagon_analysis",
   "language": "python",
   "name": "python3"
  },
  "language_info": {
   "codemirror_mode": {
    "name": "ipython",
    "version": 3
   },
   "file_extension": ".py",
   "mimetype": "text/x-python",
   "name": "python",
   "nbconvert_exporter": "python",
   "pygments_lexer": "ipython3",
   "version": "3.12.7"
  }
 },
 "nbformat": 4,
 "nbformat_minor": 5
}
