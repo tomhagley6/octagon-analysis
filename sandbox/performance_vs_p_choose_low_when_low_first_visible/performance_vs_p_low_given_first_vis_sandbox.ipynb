{
 "cells": [
  {
   "cell_type": "code",
   "execution_count": 32,
   "id": "d4992911-7b02-448c-8ee5-c89c228ad2ed",
   "metadata": {},
   "outputs": [],
   "source": [
    "import parse_data.prepare_data as prepare_data\n",
    "import numpy as np\n",
    "import pandas as pd\n",
    "import matplotlib.pyplot as plt\n",
    "import globals\n",
    "import os\n",
    "from scipy.stats import pearsonr\n"
   ]
  },
  {
   "cell_type": "code",
   "execution_count": 33,
   "id": "011c819a-ab6d-4c42-8ab8-c35d0824fbfa",
   "metadata": {},
   "outputs": [],
   "source": [
    "# paths\n",
    "# data_folder = '/home/tom/Documents/SWC/data' # desktop Duan Lab\n",
    "data_folder = r'D:\\Users\\Tom\\OneDrive\\PhD\\SWC\\data' # desktop home\n",
    "# data_folder = r'C:\\Users\\tomha\\OneDrive\\PhD\\SWC\\data' # octagon laptop\n",
    "# json_filename = '240913_Yansu_Jerry/2024-09-13_11-53-34_YansuSecondSolo.json' \n",
    "# json_filename = '240913_Yansu_Jerry/2024-09-13_11-31-00_YansuJerrySocial.json'\n",
    "json_filenames = [r'fourth_experiments_2410\\241017\\2024-10-17_16-41-38_ZimoElsaSocial.json']\n",
    "# all socials\n",
    "json_filenames_all = [r'first_experiments_2409\\240913\\2024-09-13_11-31-00_YansuJerrySocial.json',\n",
    "               r'second_experiments_2409\\240927\\2024-09-27_14-25-20_SaraEmilySocial.json',\n",
    "               r'third_experiments_2410\\241017\\2024-10-17_14-28-40_ShamirAbigailSocial.json',\n",
    "               r'fourth_experiments_2410\\241017\\2024-10-17_16-41-38_ZimoElsaSocial.json']"
   ]
  },
  {
   "cell_type": "code",
   "execution_count": 34,
   "id": "167898aa-3073-479e-8eef-6c579c67c7f4",
   "metadata": {
    "scrolled": true
   },
   "outputs": [
    {
     "name": "stdout",
     "output_type": "stream",
     "text": [
      "filepath: D:\\Users\\Tom\\OneDrive\\PhD\\SWC\\data\\fourth_experiments_2410\\241017\\2024-10-17_16-41-38_ZimoElsaSocial.json\n",
      "Loading complete.\n",
      "Preprocessing complete.\n"
     ]
    }
   ],
   "source": [
    "df, trials_list = prepare_data.prepare_data(data_folder, json_filenames)"
   ]
  },
  {
   "cell_type": "code",
   "execution_count": 35,
   "id": "4789c467-f881-4799-9048-226490622fda",
   "metadata": {},
   "outputs": [],
   "source": [
    "final_trial = trials_list[-1]\n",
    "final_trial_trial_end = final_trial[final_trial['eventDescription'] == 'trial end']\n",
    "\n",
    "player0_score = final_trial_trial_end[globals.PLAYER_SCORE_DICT[0]['score']]\n",
    "player1_score = final_trial_trial_end[globals.PLAYER_SCORE_DICT[1]['score']]\n",
    "total_score = player0_score + player1_score\n",
    "\n",
    "proportion_score_player0 = player0_score/total_score\n",
    "proportion_score_player1 = player1_score/total_score"
   ]
  },
  {
   "cell_type": "code",
   "execution_count": 36,
   "id": "b729270d-1ed2-4a76-ba9b-b4655da6073f",
   "metadata": {},
   "outputs": [
    {
     "data": {
      "text/plain": [
       "2390.0"
      ]
     },
     "execution_count": 36,
     "metadata": {},
     "output_type": "execute_result"
    }
   ],
   "source": [
    "player0_score.item()"
   ]
  },
  {
   "cell_type": "code",
   "execution_count": 37,
   "id": "a8b4e822-0830-4129-b86b-1f1f186a64cb",
   "metadata": {},
   "outputs": [
    {
     "data": {
      "text/plain": [
       "(84258    0.335674157\n",
       " dtype: float64,\n",
       " 84258    0.664325843\n",
       " dtype: float64)"
      ]
     },
     "execution_count": 37,
     "metadata": {},
     "output_type": "execute_result"
    }
   ],
   "source": [
    "proportion_score_player0, proportion_score_player1"
   ]
  },
  {
   "cell_type": "code",
   "execution_count": 38,
   "id": "bb2104d2-4ce9-412c-a8d8-6621a0222741",
   "metadata": {},
   "outputs": [
    {
     "name": "stdout",
     "output_type": "stream",
     "text": [
      "D:\\Users\\Tom\\OneDrive\\PhD\\SWC\\data\\first_experiments_2409\\240913\\2024-09-13_11-31-00_YansuJerrySocial.json\n",
      "filepath: D:\\Users\\Tom\\OneDrive\\PhD\\SWC\\data\\first_experiments_2409\\240913\\2024-09-13_11-31-00_YansuJerrySocial.json\n",
      "Data is from period before 2024-09-13 00:00:00\n",
      "Running dataframe through playerinfo_playerposition_conversion.\n",
      "Loading complete.\n",
      "Preprocessing complete.\n",
      "D:\\Users\\Tom\\OneDrive\\PhD\\SWC\\data\\second_experiments_2409\\240927\\2024-09-27_14-25-20_SaraEmilySocial.json\n",
      "filepath: D:\\Users\\Tom\\OneDrive\\PhD\\SWC\\data\\second_experiments_2409\\240927\\2024-09-27_14-25-20_SaraEmilySocial.json\n",
      "Loading complete.\n",
      "Preprocessing complete.\n",
      "D:\\Users\\Tom\\OneDrive\\PhD\\SWC\\data\\third_experiments_2410\\241017\\2024-10-17_14-28-40_ShamirAbigailSocial.json\n",
      "filepath: D:\\Users\\Tom\\OneDrive\\PhD\\SWC\\data\\third_experiments_2410\\241017\\2024-10-17_14-28-40_ShamirAbigailSocial.json\n",
      "Loading complete.\n",
      "Preprocessing complete.\n",
      "D:\\Users\\Tom\\OneDrive\\PhD\\SWC\\data\\fourth_experiments_2410\\241017\\2024-10-17_16-41-38_ZimoElsaSocial.json\n",
      "filepath: D:\\Users\\Tom\\OneDrive\\PhD\\SWC\\data\\fourth_experiments_2410\\241017\\2024-10-17_16-41-38_ZimoElsaSocial.json\n",
      "Loading complete.\n",
      "Preprocessing complete.\n"
     ]
    }
   ],
   "source": [
    "# go through every session and find the proportion of score in the session that players achieved\n",
    "\n",
    "proportion_scores_all_sessions = np.zeros((len(json_filenames_all), 2))\n",
    "for json_filenames_index in range(len(json_filenames_all)):\n",
    "    json_filenames = json_filenames_all[json_filenames_index]\n",
    "    print(data_folder + os.sep + json_filenames)\n",
    "    df, trials_list = prepare_data.prepare_data(data_folder, [json_filenames])\n",
    "\n",
    "    final_trial = trials_list[-1]\n",
    "    final_trial_trial_end = final_trial[final_trial['eventDescription'] == 'trial end']\n",
    "    \n",
    "    player0_score = final_trial_trial_end[globals.PLAYER_SCORE_DICT[0]['score']].item()\n",
    "    player1_score = final_trial_trial_end[globals.PLAYER_SCORE_DICT[1]['score']].item()\n",
    "    total_score = player0_score + player1_score\n",
    "    \n",
    "    proportion_score_player0 = player0_score/total_score\n",
    "    proportion_score_player1 = player1_score/total_score\n",
    "\n",
    "    proportion_scores_all_sessions[json_filenames_index, 0] = proportion_score_player0\n",
    "    proportion_scores_all_sessions[json_filenames_index, 1] = proportion_score_player1"
   ]
  },
  {
   "cell_type": "code",
   "execution_count": 39,
   "id": "a1ece16a-29ba-4da7-a7dc-142dca2825e1",
   "metadata": {},
   "outputs": [
    {
     "data": {
      "text/plain": [
       "array([[0.42406312, 0.57593688],\n",
       "       [0.37438424, 0.62561576],\n",
       "       [0.42009132, 0.57990868],\n",
       "       [0.33567416, 0.66432584]])"
      ]
     },
     "execution_count": 39,
     "metadata": {},
     "output_type": "execute_result"
    }
   ],
   "source": [
    "proportion_scores_all_sessions"
   ]
  },
  {
   "cell_type": "code",
   "execution_count": 40,
   "id": "8f2eff61-1ea0-4bd7-a8a0-ae8908ef07d5",
   "metadata": {},
   "outputs": [],
   "source": [
    "# # REALISED I WAS INCLUDING FORCED TRIALS HERE\n",
    "# probability_first_wall_chosen_when_low_array = np.array([[0.75      , 0.73913043],\n",
    "#        [0.86363636, 0.53846154],\n",
    "#        [0.46428571, 0.82051282],\n",
    "#        [0.70689655, 0.671875  ]])"
   ]
  },
  {
   "cell_type": "code",
   "execution_count": 41,
   "id": "28dd6c36-c226-468d-b5ac-9269bd2e7c00",
   "metadata": {},
   "outputs": [],
   "source": [
    "probability_first_wall_chosen_when_low_array = np.array([[0.6969697 , 0.7027027 ],\n",
    "       [0.83333333, 0.5       ],\n",
    "       [0.43478261, 0.79411765],\n",
    "       [0.67391304, 0.625     ]])"
   ]
  },
  {
   "cell_type": "code",
   "execution_count": 42,
   "id": "07f30949-6f37-4d7f-b4a5-0a3546d111bb",
   "metadata": {},
   "outputs": [
    {
     "data": {
      "text/plain": [
       "array([0.6969697 , 0.7027027 , 0.83333333, 0.5       , 0.43478261,\n",
       "       0.79411765, 0.67391304, 0.625     ])"
      ]
     },
     "execution_count": 42,
     "metadata": {},
     "output_type": "execute_result"
    }
   ],
   "source": [
    "probability_first_wall_chosen_when_low_array.ravel()"
   ]
  },
  {
   "cell_type": "code",
   "execution_count": 43,
   "id": "f52a79ac-cf56-4e78-bbce-c4d71eadd12c",
   "metadata": {},
   "outputs": [
    {
     "data": {
      "text/plain": [
       "array([0.42406312, 0.57593688, 0.37438424, 0.62561576, 0.42009132,\n",
       "       0.57990868, 0.33567416, 0.66432584])"
      ]
     },
     "execution_count": 43,
     "metadata": {},
     "output_type": "execute_result"
    }
   ],
   "source": [
    "proportion_scores_all_sessions.ravel()"
   ]
  },
  {
   "cell_type": "code",
   "execution_count": 44,
   "id": "137b7684-c76b-4bf5-9c61-12066aba5ccc",
   "metadata": {},
   "outputs": [
    {
     "data": {
      "text/plain": [
       "Text(0, 0.5, 'Performance')"
      ]
     },
     "execution_count": 44,
     "metadata": {},
     "output_type": "execute_result"
    },
    {
     "data": {
      "image/png": "[encoded data removed]",
      "text/plain": [
       "<Figure size 640x480 with 1 Axes>"
      ]
     },
     "metadata": {},
     "output_type": "display_data"
    }
   ],
   "source": [
    "# plot the graph and the correlation\n",
    "\n",
    "x = probability_first_wall_chosen_when_low_array.ravel()\n",
    "y = proportion_scores_all_sessions.ravel()\n",
    "\n",
    "plt.scatter(x, y)\n",
    "\n",
    "# Fit a line to the data\n",
    "slope, intercept = np.polyfit(x, y, 1)  # 1st-degree polynomial (linear fit)\n",
    "line = slope * x + intercept\n",
    "\n",
    "# Plot the correlation line\n",
    "plt.plot(x, line, color='red', label=f'Fit line: y = {slope:.2f}x + {intercept:.2f}')\n",
    "\n",
    "plt.title(\"Performance in session against the probability of choosing\\n the Low wall when the Low wall is the first visible\")\n",
    "plt.xlabel(\"Probability\")\n",
    "plt.ylabel(\"Performance\")"
   ]
  },
  {
   "cell_type": "code",
   "execution_count": null,
   "id": "fceb5da3-728c-4760-a677-1b416c50278d",
   "metadata": {},
   "outputs": [],
   "source": []
  },
  {
   "cell_type": "code",
   "execution_count": 45,
   "id": "da20a68d-deb0-43d7-bfc8-6002b82f76e0",
   "metadata": {},
   "outputs": [
    {
     "data": {
      "text/plain": [
       "np.float64(-0.1744377653809014)"
      ]
     },
     "execution_count": 45,
     "metadata": {},
     "output_type": "execute_result"
    }
   ],
   "source": [
    "correlation_matrix = np.corrcoef(x, y)\n",
    "correlation_value = correlation_matrix[0, 1]\n",
    "correlation_value"
   ]
  },
  {
   "cell_type": "code",
   "execution_count": 46,
   "id": "ffb449d5-80cd-4f2c-af30-2b60a5ee9710",
   "metadata": {},
   "outputs": [
    {
     "data": {
      "text/plain": [
       "(np.float64(-0.17443776538090144), np.float64(0.6795034800622577))"
      ]
     },
     "execution_count": 46,
     "metadata": {},
     "output_type": "execute_result"
    }
   ],
   "source": [
    "# Calculate correlation using scipy (returns correlation value and p-value)\n",
    "correlation, p_value = pearsonr(x, y)\n",
    "correlation, p_value"
   ]
  },
  {
   "cell_type": "code",
   "execution_count": 47,
   "id": "6f3240b0-fb5d-48d3-ab0b-87285a840a1a",
   "metadata": {},
   "outputs": [],
   "source": [
    "# take ratios of player1/player2 in each session\n",
    "\n",
    "ratio_probability_first_wall_chosen_when_low = probability_first_wall_chosen_when_low_array[:,0]/probability_first_wall_chosen_when_low_array[:,1]\n",
    "ratio_proportion_scores_all_sessions = proportion_scores_all_sessions[:,0]/proportion_scores_all_sessions[:,1]\n",
    "proportion_scores_all_sessions_player_1 = proportion_scores_all_sessions[:,0]"
   ]
  },
  {
   "cell_type": "code",
   "execution_count": 48,
   "id": "d39eb216-ca2b-40b6-8ea3-84b7e33d7f9b",
   "metadata": {},
   "outputs": [
    {
     "data": {
      "text/plain": [
       "(array([0.9918415 , 1.66666666, 0.54750403, 1.07826086]),\n",
       " array([0.73630137, 0.5984252 , 0.72440945, 0.50528541]),\n",
       " array([0.42406312, 0.37438424, 0.42009132, 0.33567416]))"
      ]
     },
     "execution_count": 48,
     "metadata": {},
     "output_type": "execute_result"
    }
   ],
   "source": [
    "ratio_probability_first_wall_chosen_when_low, ratio_proportion_scores_all_sessions, proportion_scores_all_sessions_player_1"
   ]
  },
  {
   "cell_type": "code",
   "execution_count": 54,
   "id": "56b81be0-e9bf-4da4-8bbe-f203d42b06b1",
   "metadata": {},
   "outputs": [
    {
     "data": {
      "image/png": "[encoded data removed]",
      "text/plain": [
       "<Figure size 640x480 with 1 Axes>"
      ]
     },
     "metadata": {},
     "output_type": "display_data"
    }
   ],
   "source": [
    "# plot the graph and the correlation\n",
    "\n",
    "x = ratio_probability_first_wall_chosen_when_low.ravel()\n",
    "y = proportion_scores_all_sessions_player_1.ravel()\n",
    "\n",
    "plt.scatter(x, y)\n",
    "\n",
    "# Fit a line to the data\n",
    "slope, intercept = np.polyfit(x, y, 1)  # 1st-degree polynomial (linear fit)\n",
    "line = slope * x + intercept\n",
    "\n",
    "# Plot the correlation line\n",
    "plt.plot(x, line, color='red', label=f'Fit line: y = {slope:.2f}x + {intercept:.2f}')\n",
    "\n",
    "plt.title(\"Performance in session against the probability of choosing\\n the Low wall when the Low wall is the first visible\")\n",
    "plt.xlabel(\"Probability\")\n",
    "plt.ylabel(\"Performance\")\n",
    "\n",
    "# Remove top and bottom spines\n",
    "plt.gca().spines['top'].set_visible(False)\n",
    "plt.gca().spines['right'].set_visible(False)"
   ]
  },
  {
   "cell_type": "code",
   "execution_count": 50,
   "id": "3099cdde-0235-4189-9d53-55eb55434240",
   "metadata": {},
   "outputs": [
    {
     "data": {
      "text/plain": [
       "np.float64(-0.48726383789859296)"
      ]
     },
     "execution_count": 50,
     "metadata": {},
     "output_type": "execute_result"
    }
   ],
   "source": [
    "correlation_matrix = np.corrcoef(x, y)\n",
    "correlation_value = correlation_matrix[0, 1]\n",
    "correlation_value"
   ]
  },
  {
   "cell_type": "code",
   "execution_count": 51,
   "id": "196deea2-5a34-4ee0-825e-edbd891c00e9",
   "metadata": {},
   "outputs": [
    {
     "data": {
      "text/plain": [
       "(np.float64(-0.4872638378985928), np.float64(0.5127361621014073))"
      ]
     },
     "execution_count": 51,
     "metadata": {},
     "output_type": "execute_result"
    }
   ],
   "source": [
    "# Calculate correlation using scipy (returns correlation value and p-value)\n",
    "correlation, p_value = pearsonr(x, y)\n",
    "correlation, p_value"
   ]
  },
  {
   "cell_type": "code",
   "execution_count": null,
   "id": "d40665d0-20c4-4887-9442-ca5581889c96",
   "metadata": {},
   "outputs": [],
   "source": []
  }
 ],
 "metadata": {
  "kernelspec": {
   "display_name": "Python 3 (ipykernel)",
   "language": "python",
   "name": "python3"
  },
  "language_info": {
   "codemirror_mode": {
    "name": "ipython",
    "version": 3
   },
   "file_extension": ".py",
   "mimetype": "text/x-python",
   "name": "python",
   "nbconvert_exporter": "python",
   "pygments_lexer": "ipython3",
   "version": "3.12.5"
  }
 },
 "nbformat": 4,
 "nbformat_minor": 5
}
