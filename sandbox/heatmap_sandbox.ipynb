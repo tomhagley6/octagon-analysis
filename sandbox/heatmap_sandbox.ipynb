{
 "cells": [
  {
   "cell_type": "code",
   "execution_count": 1,
   "id": "d186826f-a807-49a8-b6f4-80d11df2c17c",
   "metadata": {},
   "outputs": [],
   "source": [
    "import parse_data.preprocess as preprocess\n",
    "import parse_data.loading as loading\n",
    "from analysis.response_times import calculate_response_times, plot_response_times\n",
    "import data_extraction.get_indices as get_indices\n",
    "import globals\n",
    "from plotting import plot_octagon, plot_trajectory\n",
    "from datetime import datetime, timedelta\n",
    "import numpy as np\n",
    "import pandas as pd\n",
    "import scipy\n",
    "import matplotlib.pyplot as plt\n",
    "import matplotlib as mpl\n",
    "from matplotlib.path import Path\n",
    "from matplotlib.patches import PathPatch\n",
    "from matplotlib.patches import Polygon\n",
    "from matplotlib import colors\n",
    "import math"
   ]
  },
  {
   "cell_type": "code",
   "execution_count": 2,
   "id": "67df156d-0d98-4906-b498-2a0f26988d14",
   "metadata": {},
   "outputs": [],
   "source": [
    "# paths\n",
    "data_folder = '/home/tom/Documents/SWC/data' # desktop Duan Lab\n",
    "# json_filename = '240913_Yansu_Jerry/2024-09-13_11-53-34_YansuSecondSolo.json' \n",
    "json_filename = '240913_Yansu_Jerry/2024-09-13_11-31-00_YansuJerrySocial.json'\n",
    "# data_folder = r'D:\\Users\\Tom\\OneDrive\\PhD\\SWC\\data' # desktop home\n",
    "# json_filename = r'first_experiments_2409\\240913\\2024-09-13_11-23-37_YansuFirstSolo.json'\n",
    "# json_filename = r'first_experiments_2409\\240913\\2024-09-13_11-31-00_YansuJerrySocial.json'\n"
   ]
  },
  {
   "cell_type": "code",
   "execution_count": 3,
   "id": "ac73376d-5fb1-48f8-8798-9cde1e1de1b3",
   "metadata": {},
   "outputs": [
    {
     "name": "stdout",
     "output_type": "stream",
     "text": [
      "Data is from period before 2024-09-13 11:31:00\n",
      "Running dataframe through playerinfo_playerposition_conversion.\n",
      "Loading complete.\n"
     ]
    }
   ],
   "source": [
    "# Load JSON file into pandas df with collapsed data dictionary and adjustments based on date of recording \n",
    "df = loading.loading_pipeline(data_folder, json_filename)"
   ]
  },
  {
   "cell_type": "code",
   "execution_count": 4,
   "id": "ea1e9944-7cec-4521-b8d6-6d1a74e442a1",
   "metadata": {},
   "outputs": [
    {
     "name": "stdout",
     "output_type": "stream",
     "text": [
      "Preprocessing complete.\n"
     ]
    }
   ],
   "source": [
    "# Pre-process data \n",
    "df = preprocess.standard_preprocessing(df)"
   ]
  },
  {
   "cell_type": "code",
   "execution_count": 5,
   "id": "e87504f9-d315-4da5-b1e3-93530437b216",
   "metadata": {},
   "outputs": [],
   "source": [
    "## Extract single trials ##"
   ]
  },
  {
   "cell_type": "code",
   "execution_count": 6,
   "id": "092d3b10-bcdd-42f7-89fd-1b02dcc25e38",
   "metadata": {},
   "outputs": [],
   "source": [
    "def split_session_by_trial(df):\n",
    "    \n",
    "    # groupby produces an interable of tuples with the group key and the dataframe \n",
    "    trials_list = [data for _, data in df.groupby('data.trialNum')]\n",
    "    \n",
    "    # exclude trial 0 (could also exclude trial 1)\n",
    "    trials_list = trials_list[1:]\n",
    "\n",
    "    # if final  trial does not contain a server selected trigger activation, discard it\n",
    "    if not globals.SELECTED_TRIGGER_ACTIVATION in trials_list[-1]['eventDescription'].unique():\n",
    "        trials_list = trials_list[:-1]\n",
    "\n",
    "    return trials_list\n"
   ]
  },
  {
   "cell_type": "code",
   "execution_count": 7,
   "id": "f2f383b3-a5b7-4625-aa10-b4834aa6b066",
   "metadata": {},
   "outputs": [],
   "source": [
    "trial_list = split_session_by_trial(df)"
   ]
  },
  {
   "cell_type": "code",
   "execution_count": 8,
   "id": "54ba6ba9-3d83-4cb0-ae7a-4d0835c6b6e6",
   "metadata": {},
   "outputs": [],
   "source": [
    "## HEATMAPS ##"
   ]
  },
  {
   "cell_type": "code",
   "execution_count": 32,
   "id": "d91ff691-df1f-4ee0-962a-df76fc2225ca",
   "metadata": {},
   "outputs": [],
   "source": [
    "# generate the location data\n",
    "\n",
    "n_rows = 6\n",
    "n_cols = 6\n",
    "x_min, x_max = -20, 20\n",
    "y_min, y_max = -20, 20\n",
    "grid_width = (x_max - x_min)/n_cols\n",
    "grid_height = (y_max - y_min)/n_rows\n",
    "\n",
    "# define heatmap meshgrid\n",
    "x = np.linspace(x_min, x_max, n_cols)\n",
    "y = np.linspace(x_min, x_max, n_rows)\n",
    "grid = np.zeros([n_rows, n_cols])\n",
    "\n",
    "# extract starting location of winner for each trial\n",
    "trigger_activators_trial_start_loc = get_indices.get_trigger_activators_trial_start_loc(trial_list)\n",
    "trigger_activators_trial_start_loc = np.asarray(trigger_activators_trial_start_loc)\n",
    "\n",
    "# Create a matrix of heatmap counts based on which bin starting location fits into\n",
    "for i in range(len(trigger_activators_trial_start_loc[:,0])):\n",
    "    x_val = trigger_activators_trial_start_loc[i,0]\n",
    "    y_val = trigger_activators_trial_start_loc[i,1]\n",
    "    x_bin = int((x_val - x_min)/grid_width)\n",
    "    y_bin = int((y_val - y_min)/grid_height)\n",
    "\n",
    "    if 0 <= y_bin < n_rows and 0 <= x_bin < n_cols:\n",
    "            grid[y_bin, x_bin] += 1\n",
    "    \n",
    "\n"
   ]
  },
  {
   "cell_type": "code",
   "execution_count": 28,
   "id": "872a96bf-ba08-4ee5-9969-a1a33fe4b130",
   "metadata": {},
   "outputs": [
    {
     "data": {
      "text/plain": [
       "array([ -0.69918722,   5.65413809,  13.66923904,  -5.35624981,\n",
       "        -1.1439364 ,  -1.79552734,   2.53497744,  -0.72250128,\n",
       "        -3.58899617,  -1.10651016,  -4.84858131,   5.51324654,\n",
       "        -2.92702651,  -5.01747179,   0.83832163,  -1.59952343,\n",
       "       -13.35257912,   3.48184228,   0.05267506,   7.8498559 ,\n",
       "        -3.63484025,   7.97480249,   7.57786989,   9.20009804,\n",
       "        -1.3260175 ,  -8.79484081, -15.26456642,   1.5714227 ,\n",
       "        14.31084538,  12.26707268,  -4.11557102,  11.8354044 ,\n",
       "        -2.27736259,  -5.00645876,   7.84214258,  -2.68627262,\n",
       "        -1.95458996,  -1.43287349,  -1.2511884 ,   4.03837204,\n",
       "        -3.19962454, -13.96337605, -11.44855118,  -4.32443047,\n",
       "        -3.17955709,   0.75512105,  -2.25580907,   8.78391838,\n",
       "         0.55039465,   1.15510488,  -0.94872701,   1.53657222,\n",
       "         4.41180992,  -6.68701124,  -1.13031065,  -2.24562359,\n",
       "         1.59376383,   2.59180546,   0.45551625,  -8.37679291,\n",
       "         4.21912098,  -1.97720182,   7.79388237,  -4.70072889,\n",
       "        10.75735664,  -2.55737495,  13.43655014,  11.0575552 ,\n",
       "         2.44691372,   0.20156778, -13.25673199,  -1.77815378,\n",
       "        -3.13319683,   0.3667123 ,  -0.11303511,  -3.2069931 ,\n",
       "        -0.43883011,  -0.95314926,  -1.44622171,  -1.67293429,\n",
       "         0.69503969,   3.97593546,   7.99589872,  -2.84307814,\n",
       "         4.44829655,   9.33677483,   6.00830936,  -0.83608991,\n",
       "        -0.54007322,  -1.43688512,  -0.16539717,   4.28702831,\n",
       "         1.54310751,  -4.39967155,   0.58717555,   5.39824915,\n",
       "         2.06985164,   0.42786682,  -6.8484602 ,  -1.20334387,\n",
       "         1.53698587,   0.69887692,  -3.03982067,   0.90420747,\n",
       "        -1.97902763,  -6.55233335,  -0.60391259,  -1.1436336 ,\n",
       "        -6.008111  ,  -1.39776337,  -5.58291817,   0.16250126,\n",
       "        -6.49780893,   3.69553018,  -0.87369585,  -5.66731691,\n",
       "         3.11540222,  -6.13181162,  -0.34719291,   9.55350018,\n",
       "       -12.57200718,   7.47085905,   4.27607489,   1.69879055,\n",
       "         1.24388444,   4.37886429,   2.36734104,  -4.79474783,\n",
       "       -10.60529041])"
      ]
     },
     "execution_count": 28,
     "metadata": {},
     "output_type": "execute_result"
    }
   ],
   "source": [
    "trigger_activators_trial_start_loc[:,0]"
   ]
  },
  {
   "cell_type": "code",
   "execution_count": 38,
   "id": "5de6a099-cedc-4417-86e8-59ce211d16e2",
   "metadata": {},
   "outputs": [
    {
     "data": {
      "image/png": "[encoded data removed]",
      "text/plain": [
       "<Figure size 640x480 with 1 Axes>"
      ]
     },
     "metadata": {},
     "output_type": "display_data"
    }
   ],
   "source": [
    "# get the zipped coordinate list of octagon x and y vertex points\n",
    "octagon_vertex_coordinates = plot_octagon.return_octagon_path_points()\n",
    "\n",
    "# create a matplotlib Path object from them\n",
    "octagon_path = Path(octagon_vertex_coordinates)\n",
    "\n",
    "# # create example heatmap for now (gaussian)\n",
    "# Z = np.exp(-(X**2 + Y**2))\n",
    "# use heatmap data\n",
    "\n",
    "# flatten my meshgrid (?)\n",
    "points = np.vstack((X.ravel(), Y.ravel())).T\n",
    "\n",
    "polygon = Polygon(octagon_vertex_coordinates, edgecolor='black', facecolor='none', lw=2)\n",
    "\n",
    "\n",
    "# # Display the heatmap, with NaN values resulting in transparent (masked) regions\n",
    "# im = plt.gca().imshow(Z, extent=[x.min(), x.max(), y.min(), y.max()],\n",
    "#            origin='lower', cmap='viridis')\n",
    "\n",
    "\n",
    "# Display the heatmap, with NaN values resulting in transparent (masked) regions\n",
    "im = plt.gca().imshow(grid, extent=[x.min(), x.max(), y.min(), y.max()],\n",
    "           origin='lower', cmap='viridis')\n",
    "\n",
    "patch = Polygon(octagon_vertex_coordinates, edgecolor='black', facecolor='none', lw=2)\n",
    "ax = plt.gca()\n",
    "\n",
    "ax.add_patch(patch)\n",
    "im.set_clip_path(patch)\n",
    "\n",
    "# Set aspect ratio to ensure the shape looks correct\n",
    "ax.set_aspect(1.)\n",
    "\n",
    "# plt.colorbar()\n",
    "\n",
    "ax.set_xlim([-22,22])\n",
    "ax.set_ylim([-22,22])\n",
    "\n",
    "# Show the plot\n",
    "plt.show()"
   ]
  },
  {
   "cell_type": "code",
   "execution_count": null,
   "id": "04b6819a-0b63-4045-8777-1f6197669980",
   "metadata": {},
   "outputs": [],
   "source": [
    "octagon_vertex_coordinates"
   ]
  },
  {
   "cell_type": "code",
   "execution_count": null,
   "id": "19f0b97d-3bf9-40b7-8361-96ed96c7511c",
   "metadata": {},
   "outputs": [],
   "source": [
    "plt.plot(octagon_vertex_coordinates)"
   ]
  },
  {
   "cell_type": "code",
   "execution_count": null,
   "id": "0b4a84cf-0927-406c-9911-ad23c782bd88",
   "metadata": {},
   "outputs": [],
   "source": [
    "x_coords, y_coords = zip(*octagon_vertex_coordinates)"
   ]
  },
  {
   "cell_type": "code",
   "execution_count": null,
   "id": "8a7ad278-a8ed-4ac9-8113-8e5420ff63d0",
   "metadata": {},
   "outputs": [],
   "source": [
    "plt.plot(x_coords, y_coords)\n",
    "plt.gca().set_aspect(1.)"
   ]
  }
 ],
 "metadata": {
  "kernelspec": {
   "display_name": "Python 3 (ipykernel)",
   "language": "python",
   "name": "python3"
  },
  "language_info": {
   "codemirror_mode": {
    "name": "ipython",
    "version": 3
   },
   "file_extension": ".py",
   "mimetype": "text/x-python",
   "name": "python",
   "nbconvert_exporter": "python",
   "pygments_lexer": "ipython3",
   "version": "3.12.5"
  }
 },
 "nbformat": 4,
 "nbformat_minor": 5
}
