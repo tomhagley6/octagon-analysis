{
 "cells": [
  {
   "cell_type": "code",
   "execution_count": 26,
   "id": "d4992911-7b02-448c-8ee5-c89c228ad2ed",
   "metadata": {},
   "outputs": [
    {
     "name": "stdout",
     "output_type": "stream",
     "text": [
      "The autoreload extension is already loaded. To reload it, use:\n",
      "  %reload_ext autoreload\n"
     ]
    }
   ],
   "source": [
    "%load_ext autoreload\n",
    "%autoreload 2\n",
    "\n",
    "import parse_data.prepare_data as prepare_data\n",
    "import numpy as np\n",
    "import pandas as pd\n",
    "import matplotlib.pyplot as plt\n",
    "import globals\n",
    "import data_strings\n",
    "import data_extraction.extract_trial as extract_trial\n",
    "import utils.cosine_similarity as cosine_similarity\n",
    "import analysis.wall_visibility_and_choice as wall_visibility_and_choice\n",
    "import data_extraction.get_indices as get_indices\n",
    "import plotting.plot_probability_chose_wall as plot_probability_chose_wall\n",
    "import plotting.flipped_rotated_trajectory_testing_functions as fr_funcs"
   ]
  },
  {
   "cell_type": "markdown",
   "id": "7a24b223",
   "metadata": {},
   "source": [
    "### Notebook to identify opponent visibility at trial start "
   ]
  },
  {
   "cell_type": "code",
   "execution_count": 27,
   "id": "011c819a-ab6d-4c42-8ab8-c35d0824fbfa",
   "metadata": {},
   "outputs": [],
   "source": [
    "data_folder = data_strings.DATA_FOLDER\n",
    "json_filenames_all_social = data_strings.JSON_FILENAMES_SOCIAL\n",
    "json_filenames_all_solo = data_strings.JSON_FILENAMES_SOLO"
   ]
  },
  {
   "cell_type": "markdown",
   "id": "e87986ff",
   "metadata": {},
   "source": []
  },
  {
   "cell_type": "code",
   "execution_count": 28,
   "id": "c07cb011",
   "metadata": {},
   "outputs": [],
   "source": [
    "json_filenames = json_filenames_all_social"
   ]
  },
  {
   "cell_type": "code",
   "execution_count": 7,
   "id": "167898aa-3073-479e-8eef-6c579c67c7f4",
   "metadata": {
    "scrolled": true
   },
   "outputs": [
    {
     "name": "stdout",
     "output_type": "stream",
     "text": [
      "filepath: C:\\Users\\tomha\\OneDrive\\PhD\\SWC\\data\\first_experiments_2409\\240913\\2024-09-13_11-31-00_YansuJerrySocial.json\n",
      "Data is from period before 2024-09-13 00:00:00\n",
      "Running dataframe through playerinfo_playerposition_conversion.\n",
      "Loading complete.\n",
      "Preprocessing complete.\n",
      "filepath: C:\\Users\\tomha\\OneDrive\\PhD\\SWC\\data\\second_experiments_2409\\240927\\2024-09-27_14-25-20_SaraEmilySocial.json\n",
      "Loading complete.\n",
      "Preprocessing complete.\n",
      "filepath: C:\\Users\\tomha\\OneDrive\\PhD\\SWC\\data\\third_experiments_2410\\241017\\2024-10-17_14-28-40_ShamirAbigailSocial.json\n",
      "Loading complete.\n",
      "Preprocessing complete.\n",
      "filepath: C:\\Users\\tomha\\OneDrive\\PhD\\SWC\\data\\fourth_experiments_2410\\241017\\2024-10-17_16-41-38_ZimoElsaSocial.json\n",
      "Loading complete.\n",
      "Preprocessing complete.\n",
      "filepath: C:\\Users\\tomha\\OneDrive\\PhD\\SWC\\data\\fifth_experiments_241112\\2024-11-12_13-31-14_KhadijaWendySocial.json\n",
      "Loading complete.\n",
      "Preprocessing complete.\n",
      "filepath: C:\\Users\\tomha\\OneDrive\\PhD\\SWC\\data\\sixth_experiments_241112\\2024-11-12_15-23-24_FrancescaSenSzeSocial.json\n",
      "Loading complete.\n",
      "Preprocessing complete.\n",
      "filepath: C:\\Users\\tomha\\OneDrive\\PhD\\SWC\\data\\seventh_experiments_241113\\2024-11-13_14-18-54_NasiaRyanSocial.json\n",
      "Loading complete.\n",
      "Preprocessing complete.\n",
      "filepath: C:\\Users\\tomha\\OneDrive\\PhD\\SWC\\data\\eighth_experiments_241113\\2024-11-13_15-28-07_YichuanHoiSocial.json\n",
      "Loading complete.\n",
      "Preprocessing complete.\n",
      "filepath: C:\\Users\\tomha\\OneDrive\\PhD\\SWC\\data\\ninth_experiments_241119\\2024-11-19_14-24-49_AmyXinyuanSocial.json\n",
      "Loading complete.\n",
      "Preprocessing complete.\n",
      "filepath: C:\\Users\\tomha\\OneDrive\\PhD\\SWC\\data\\tenth_experiments_241119\\2024-11-19_15-22-56_SophiaHocineSocial.json\n",
      "Loading complete.\n",
      "Preprocessing complete.\n",
      "filepath: C:\\Users\\tomha\\OneDrive\\PhD\\SWC\\data\\eleventh_experiments_241120\\2024-11-20_14-17-44_JasonRahulSocial.json\n",
      "Loading complete.\n",
      "Preprocessing complete.\n",
      "filepath: C:\\Users\\tomha\\OneDrive\\PhD\\SWC\\data\\twelfth_experiments_241120\\2024-11-20_15-16-21_SunnyVinceSocial.json\n",
      "Loading complete.\n",
      "Preprocessing complete.\n",
      "filepath: C:\\Users\\tomha\\OneDrive\\PhD\\SWC\\data\\241203_1\\2024-12-03_14-31-51_PaulNicoleSocial.json\n",
      "Loading complete.\n",
      "Preprocessing complete.\n",
      "filepath: C:\\Users\\tomha\\OneDrive\\PhD\\SWC\\data\\241203_2\\2024-12-03_15-27-28_EstherBowimSocial.json\n",
      "Loading complete.\n",
      "Preprocessing complete.\n",
      "filepath: C:\\Users\\tomha\\OneDrive\\PhD\\SWC\\data\\241210_1\\2024-12-10_14-21-17_TaqwaTasSocial.json\n",
      "Loading complete.\n",
      "Preprocessing complete.\n",
      "filepath: C:\\Users\\tomha\\OneDrive\\PhD\\SWC\\data\\241210_2\\2024-12-10_15-20-11_RyanRoseSocial.json\n",
      "Loading complete.\n",
      "Preprocessing complete.\n",
      "filepath: C:\\Users\\tomha\\OneDrive\\PhD\\SWC\\data\\241219_1\\2024-12-19_15-28-24_JingjingYeungSocial.json\n",
      "Loading complete.\n",
      "Preprocessing complete.\n",
      "filepath: C:\\Users\\tomha\\OneDrive\\PhD\\SWC\\data\\241220_1\\2024-12-20_17-44-50_KirtanChristopherSocial.json\n",
      "Loading complete.\n",
      "Preprocessing complete.\n"
     ]
    }
   ],
   "source": [
    "df, trial_list = prepare_data.prepare_data(data_folder, json_filenames, combine=False)"
   ]
  },
  {
   "cell_type": "markdown",
   "id": "bfd07e5e",
   "metadata": {},
   "source": [
    "- Identify opponent position at trial start (so, this must be relative to a player)\n",
    "- Identify angle to opponent at trial start (as with wall alcoves and sections in trajectory_headangle)\n",
    "- Identify whether opponent is in field of view at trial start (as with wall visible)\n",
    "- Filter down the list of trials to only include those in which a wall visility condition was True (either, one wall is visible at slice onset, or both are)\n",
    "- Using the above as a condition to identify probability of choices (include in or take inspiration from wall_visibility_and_choice)\n",
    "- extension: also include whether the opponent is facing towards or away from the player (i.e, identify angle of opponent to player at trial start)\n",
    "\n",
    "Important points: make atomic functions for angle of one player to another, allow easy incorporation of whether opponent in facing player, avoid rewriting\n",
    "code for conditions and probability. Wall separation should be included in these functions, but may not be used"
   ]
  },
  {
   "cell_type": "markdown",
   "id": "4102fec8",
   "metadata": {},
   "source": [
    "##### First functions to write:\n",
    "- Function that takes player id and specified trial and returns the position of the player at trial start (copy from trajectory extraction)\n",
    "- Function that takes player and 'opponent' position at trial start, and the headangle of the player, and finds the angle from player to opponent (copy from trajectory headangle)\n",
    "- Umbrella functions to repeat this process throughout a session for a specific player\n",
    "- Function to filter down the array to only trials that fulfill a certain wall visibility condition (also record trial numbers for easier indexing of the list of \n",
    "  pandas dataframes)\n",
    "- Identification of opponent being within FoV can be done with a boolean operation, no need for a function\n",
    "- Apply function 2 and boolean operation to get whether player is in FoV of opponent (as a condition for the extension)\n",
    "- Function to identify whether the choice condition was fulfilled on each of these \n",
    "- Function to calculate probability of making a certain choice (parameter) given the trials that fulfill the player and wall visibility condition, using the function to identify the trials that a particular choice was made"
   ]
  },
  {
   "cell_type": "code",
   "execution_count": 4,
   "id": "7d28a6a4",
   "metadata": {},
   "outputs": [],
   "source": [
    "def get_player_position_slice_onset(player_id, trial=None, trial_list=None, trial_index=None):\n",
    "    ''' Return the position of the player at trial start.\n",
    "        Takes the player_id and a single trial.'''\n",
    "    \n",
    "    trial = extract_trial.extract_trial(trial=trial, trial_list=trial_list, trial_index=trial_index)\n",
    "    assert isinstance(trial, pd.DataFrame)\n",
    "\n",
    "\n",
    "    # get slice onset index, referenced to trial start\n",
    "    slice_onset = trial[trial['eventDescription'] == globals.SLICE_ONSET]\n",
    "    slice_onset_index = slice_onset.index - trial.index[0]\n",
    "    \n",
    "    # access the x and y locations stored in the player location dictionary indexed at the current player id\n",
    "    x_coordinate = trial[globals.PLAYER_LOC_DICT[player_id]['xloc']].iloc[slice_onset_index]\n",
    "    y_coordinate = trial[globals.PLAYER_LOC_DICT[player_id]['yloc']].iloc[slice_onset_index]\n",
    "\n",
    "    player_position_coordinates = np.vstack([x_coordinate, y_coordinate])\n",
    "\n",
    "    return player_position_coordinates\n"
   ]
  },
  {
   "cell_type": "code",
   "execution_count": 5,
   "id": "eed5ce3a",
   "metadata": {},
   "outputs": [],
   "source": [
    "def get_player_headangle_vector_slice_onset(player_id, trial=None, trial_list=None, trial_index=None):\n",
    "    ''' Return the head angle of the player at trial start.\n",
    "        Takes the player_id and a single trial. '''\n",
    "    \n",
    "    trial = extract_trial.extract_trial(trial, trial_list, trial_index)\n",
    "    assert isinstance(trial, pd.DataFrame)\n",
    "\n",
    "    # get slice onset index, referenced to trial start\n",
    "    slice_onset = trial[trial['eventDescription'] == globals.SLICE_ONSET]\n",
    "    slice_onset_index = slice_onset.index - trial.index[0]\n",
    "\n",
    "    # find the euler angle for the rotation around the y (Unity vertical) axis\n",
    "    y_rotation = trial[globals.PLAYER_ROT_DICT[player_id]['yrot']].iloc[slice_onset_index]\n",
    "    head_angle = np.deg2rad(y_rotation)\n",
    "    \n",
    "    # convert euler angle into euclidean vector\n",
    "    x_component = np.sin(head_angle)\n",
    "    z_component = np.cos(head_angle)\n",
    "    head_angle_vector = np.vstack([x_component, z_component])\n",
    "\n",
    "    return head_angle_vector\n",
    "\n"
   ]
  },
  {
   "cell_type": "code",
   "execution_count": 6,
   "id": "de62a429",
   "metadata": {},
   "outputs": [],
   "source": [
    "def calculate_vector_norms_for_timepoint(self_other_vector, self_head_angle_vector):\n",
    "    ''' Return the norm of the head angle vector and the self to other vector\n",
    "        Returns scalar head_angle_vector_norm and self_to_other_vector_norm '''\n",
    "\n",
    "    # find norm of headangle vector\n",
    "    head_angle_vector_norm = np.linalg.norm(self_head_angle_vector)\n",
    "    \n",
    "    # find norm of the self-to-other vector\n",
    "    self_to_other_vector_norm = np.linalg.norm(self_other_vector)\n",
    "\n",
    "    return head_angle_vector_norm, self_to_other_vector_norm"
   ]
  },
  {
   "cell_type": "code",
   "execution_count": 7,
   "id": "adeaec72",
   "metadata": {},
   "outputs": [],
   "source": [
    "def calculate_angle_to_opponent_from_positions_and_headangle(self_position, other_position,\n",
    "                                                                 self_head_angle_vector):\n",
    "    ''' Use cosine similarity (angle between vectors, length invariant) to return the angle\n",
    "        between the vector of self head angle and vector from self to other.\n",
    "        Takes the self position, other position, and self head angle vector. '''\n",
    "\n",
    "    # calculate euclidean vector from Self to Other\n",
    "    # self and other position are size 2 vectors (x,y)\n",
    "    self_other_vector = other_position - self_position\n",
    "\n",
    "    # dot product between head angle vector and self-other vector\n",
    "    dot_product_vectors = np.dot(self_other_vector.flatten(), self_head_angle_vector.flatten())\n",
    "\n",
    "    # vector norms for both self_other_vector and self_head_angle_vector \n",
    "    (self_other_vector_norm,\n",
    "      self_head_angle_vector_norm) = calculate_vector_norms_for_timepoint(self_other_vector, \n",
    "                                                                          self_head_angle_vector)\n",
    "    \n",
    "    # cosine similarity between the two vectors\n",
    "    vector_cosine_similarity = cosine_similarity.calculate_cosine_similarity_two_vectors(dot_product_vectors,\n",
    "                                                                                         self_other_vector_norm,\n",
    "                                                                                         self_head_angle_vector_norm)\n",
    "    \n",
    "    # get angle from cosine similarity\n",
    "    theta = cosine_similarity.calculate_angle_from_cosine_similarity(vector_cosine_similarity)\n",
    "\n",
    "    return theta\n",
    "    \n",
    "\n"
   ]
  },
  {
   "cell_type": "code",
   "execution_count": 8,
   "id": "95574a7b",
   "metadata": {},
   "outputs": [],
   "source": [
    "def get_two_player_positions_slice_onset(player_id, trial=None, trial_list=None, trial_index=None):\n",
    "    ''' Return the Self position and Other position for a trial, at slice onset'''\n",
    "\n",
    "    opponent_id = 1 if player_id == 0 else 0\n",
    "\n",
    "    self_position = get_player_position_slice_onset(player_id, trial, trial_list, trial_index)\n",
    "\n",
    "    other_position = get_player_position_slice_onset(opponent_id, trial, trial_list, trial_index)\n",
    "\n",
    "    return self_position, other_position"
   ]
  },
  {
   "cell_type": "code",
   "execution_count": 9,
   "id": "2a1ee2e4",
   "metadata": {},
   "outputs": [],
   "source": [
    "# Umbrella function to find trial start angle-to-opponent for a single player for one trial\n",
    "def get_angle_of_opponent_from_player_trial(player_id, trial=None, trial_list=None, trial_index=None):\n",
    "    ''' For a single trial, return the angle from player head direction to opponent player.\n",
    "        Takes the player_id of Self, and the trial. '''\n",
    "\n",
    "    # find self and other positions \n",
    "    self_position, other_position = get_two_player_positions_slice_onset(player_id, trial=trial,\n",
    "                                                                        trial_list=trial_list,\n",
    "                                                                        trial_index=trial_index)\n",
    "\n",
    "    # find general self head angle vector\n",
    "    self_head_angle_vector = get_player_headangle_vector_slice_onset(player_id, trial=trial,\n",
    "                                                                    trial_list=trial_list,\n",
    "                                                                    trial_index=trial_index)\n",
    "\n",
    "    # calculate angle from cosine similarity between self_head_angle_vector and self_to_other vector\n",
    "    # (self_to_other_vector is calculated in this function as the difference between Self and Other position)\n",
    "    theta = calculate_angle_to_opponent_from_positions_and_headangle(self_position,\n",
    "                                                                    other_position,\n",
    "                                                                    self_head_angle_vector)\n",
    "  \n",
    "    return theta\n",
    "    "
   ]
  },
  {
   "cell_type": "code",
   "execution_count": 10,
   "id": "83ecbe3c",
   "metadata": {},
   "outputs": [],
   "source": [
    "# MAIN Umbrella function to repeat trial start angle identification for a single player for one session\n",
    "def get_angle_of_opponent_from_player_session(player_id, trial_list):\n",
    "    ''' For all trials in a session, return the angle from player head direction to opponent player.\n",
    "        Takes the player_id of Self (persistent throughout session) and the trial list. '''\n",
    "    \n",
    "    # get the angle for each trial in session, for a persistent Self player_id\n",
    "    orientation_angle_to_other_session = np.full(len(trial_list), np.nan,  dtype=float)\n",
    "    for i, trial in enumerate(trial_list):\n",
    "    \n",
    "        theta = get_angle_of_opponent_from_player_trial(player_id, trial=trial)\n",
    "\n",
    "        orientation_angle_to_other_session[i] = theta\n",
    "\n",
    "    return orientation_angle_to_other_session\n",
    "    "
   ]
  },
  {
   "cell_type": "code",
   "execution_count": 11,
   "id": "6a802aa7",
   "metadata": {},
   "outputs": [],
   "source": [
    "def get_other_visible_session(orientation_angle_to_other_session, current_fov):\n",
    "    ''' Return a boolean array for whether Other is visible to Self at trial start.\n",
    "        Takes the angle of orientation from Self to Other as an array for the session (in radians)\n",
    "        and the visible fov for this dataset (in degrees) '''\n",
    "\n",
    "    # convert orientation_angle_to_other_session from radians to degrees to match current_fov\n",
    "    orientation_angle_to_other_session = np.rad2deg(orientation_angle_to_other_session)\n",
    "\n",
    "    # if Other is visible, the angle to orient Other into Self central view must be less than half the current\n",
    "    # field-of-view.\n",
    "    # At the threshold, Other enters visual periphery\n",
    "    other_visible_session = orientation_angle_to_other_session < current_fov/2\n",
    "\n",
    "    return other_visible_session\n"
   ]
  },
  {
   "cell_type": "code",
   "execution_count": 12,
   "id": "68e99e05",
   "metadata": {},
   "outputs": [],
   "source": [
    "def filter_trials_other_visible(trial_list, other_visible_session, inverse=False):\n",
    "    ''' Return a filtered trial list and list of indices from the original trial list that\n",
    "        conform to Other visible to player player_id at trial start.\n",
    "        If inverse=True, return only trials where Other is not visible '''\n",
    "    \n",
    "    if not inverse:\n",
    "        other_visible_trial_indices = np.where(other_visible_session == True)\n",
    "    else:\n",
    "        other_visible_trial_indices = np.where(other_visible_session == False)\n",
    "    \n",
    "    # index the tuple and allow list-compatible indexing\n",
    "    other_visible_trial_indices = other_visible_trial_indices[0].tolist() \n",
    "\n",
    "    # Use a list comprehension to index the trial list with the indices list\n",
    "    trial_list_filtered = [trial_list[i] for i in other_visible_trial_indices]\n",
    "\n",
    "    return trial_list_filtered, other_visible_trial_indices\n",
    "    \n",
    "    "
   ]
  },
  {
   "cell_type": "code",
   "execution_count": 13,
   "id": "2fa5840c",
   "metadata": {},
   "outputs": [],
   "source": [
    "def filter_trials_retrievable_choice(trial_list, player_id, inferred_choice):\n",
    "    ''' Return the filtered trial list and list of indices from the original trial list that\n",
    "        conform with player player_id having a recorded choice.\n",
    "        This is required for accurate probabilities, because we do cannot include trials (as negative)\n",
    "        where we do not know what the player's choice would have been. '''\n",
    "    \n",
    "    # get player choice (wall number) for each trial\n",
    "    # inferred choice can be used here\n",
    "    player_choice = wall_visibility_and_choice.get_player_wall_choice(trial_list, player_id,\n",
    "                                                                        inferred_choice, debug=False)\n",
    "    \n",
    "    print(f\"player_choice, inferred status {inferred_choice} is:\\n{player_choice}\")\n",
    "    \n",
    "    # filter trials list to only include trials where this player had a recorded choice\n",
    "    player_recorded_choice_indices = np.where(~np.isnan(player_choice))\n",
    "\n",
    "    # index the tuple and allow list-compatible indexing\n",
    "    player_recorded_choice_indices = player_recorded_choice_indices[0].tolist()\n",
    "\n",
    "    # Use a list comprehension to index the trial list with the indices list\n",
    "    trial_list_filtered = [trial_list[i] for i in player_recorded_choice_indices]\n",
    "\n",
    "    return trial_list_filtered, player_recorded_choice_indices\n",
    "\n",
    "    "
   ]
  },
  {
   "cell_type": "code",
   "execution_count": 14,
   "id": "0d60eeba",
   "metadata": {},
   "outputs": [],
   "source": [
    "def filter_trials_one_wall_initially_visible(trial_list, player_id, wall_index, current_fov):\n",
    "    ''' Return a filtered trial list and list of indices from the original trial list that\n",
    "        conform to a single trial wall being visible to player player_id at trial start,\n",
    "        conferred by wall_index (e.g. 0 or 1 for wall1 or wall2) '''\n",
    "    \n",
    "    # find wall visibility (at the trial start timepoint) for the full session\n",
    "    (wall1_visible_session,\n",
    "    wall2_visible_session) = wall_visibility_and_choice.get_walls_initial_visibility_session(trial_list,\n",
    "                                                                    player_id, current_fov, debug=False)\n",
    "    \n",
    "    # use np bitwise operators to find trials with only the relevant wall visible\n",
    "    if wall_index == 0:\n",
    "        single_wall_visible_indices = np.where((wall1_visible_session == True) & (wall2_visible_session == False))\n",
    "    elif wall_index == 1:\n",
    "        single_wall_visible_indices = np.where((wall2_visible_session == True) & (wall1_visible_session == False))\n",
    "\n",
    "    # index the tuple and allow list-compatible indexing\n",
    "    single_wall_visible_indices = single_wall_visible_indices[0].tolist() \n",
    "\n",
    "    trial_list_filtered = [trial_list[i] for i in single_wall_visible_indices]\n",
    "\n",
    "    return trial_list_filtered, single_wall_visible_indices\n"
   ]
  },
  {
   "cell_type": "code",
   "execution_count": 15,
   "id": "208b0e4c",
   "metadata": {},
   "outputs": [],
   "source": [
    "def filter_trials_both_walls_initially_visible(trial_list, player_id, current_fov):\n",
    "    ''' Return a filtered trial list and list of indices from the original trial list that\n",
    "        conform to both trial walls being visible to player player_id at trial start. '''\n",
    "    \n",
    "    # find wall visibility for the full session\n",
    "    (wall1_visible_session,\n",
    "    wall2_visible_session) = wall_visibility_and_choice.get_walls_initial_visibility_session(trial_list,\n",
    "                                                                    player_id, current_fov,\n",
    "                                                                    debug=False)\n",
    "    \n",
    "\n",
    "    both_walls_visible_indices = np.where((wall1_visible_session == True) & (wall2_visible_session == True))\n",
    "    \n",
    "    # index the tuple and allow list-compatible indexing\n",
    "    both_walls_visible_indices = both_walls_visible_indices[0].tolist() \n",
    "\n",
    "    # Use a list comprehension to index the trial list with the indices list\n",
    "    trial_list_filtered = [trial_list[i] for i in both_walls_visible_indices]\n",
    "\n",
    "    return trial_list_filtered, both_walls_visible_indices"
   ]
  },
  {
   "cell_type": "code",
   "execution_count": 16,
   "id": "33ca2b0c",
   "metadata": {},
   "outputs": [],
   "source": [
    "# filter trial list beyond the basic trialtype/wall-sep with visibility of Other\n",
    "\n",
    "# Apply any further filtering for e.g. wall visibility\n",
    "\n",
    "# then, work out on which trials the player made a certain choice (choose High)\n",
    "\n",
    "# calculate the basic probability (length of trial list after choice filtering against length of trial list before choice filtering)\n",
    "\n",
    "# (keep in mind being able to include Other visibility of Self)"
   ]
  },
  {
   "cell_type": "markdown",
   "id": "24f2c17a",
   "metadata": {},
   "source": [
    "For probability, we want:\n",
    "- denominator: number of trials that a player made a wall choice (under condition Other visible)\n",
    "- numerator: Number of trials of the denominator where the player chose equal to High\n",
    "\n",
    "currently we have instead: \n",
    "- denominator: number of ALL trials total (under condition Other visible)\n",
    "- numerator: Number of trials of the denominator where player chose equal to High (without accounting for whether player choice can be retrieved/was winner, etc.)\n",
    "\n",
    "Need to change denominator to only trials with retrievable choice for player_id\n",
    "\n",
    "Need to change numerator to then be from the same batch"
   ]
  },
  {
   "cell_type": "code",
   "execution_count": 17,
   "id": "cc223c37",
   "metadata": {},
   "outputs": [],
   "source": [
    "# But this function makes no distinction on which player_id was responsible for choosing the given wall? \n",
    "def filter_trials_player_chose_given_wall(trial_list, player_id, inferred_choice, given_wall_index):\n",
    "    ''' Return a filtered trial list and list of indices from the original trial list \n",
    "        where player choice (winner + loser, or just winner) aligned with\n",
    "        the given wall index (e.g., 0 for wall1) '''\n",
    "    \n",
    "    # get player choice (wall number) for each trial\n",
    "    # inferred choice can be used here\n",
    "    player_choice = wall_visibility_and_choice.get_player_wall_choice(trial_list, player_id,\n",
    "                                                                        inferred_choice, debug=False)\n",
    "    \n",
    "    print(f\"player choice array:\\n{player_choice}\")\n",
    "\n",
    "    # get the truth array for whether the player choice wall aligns with the given wall parameter\n",
    "    # to this function (NB. this is NOT the wall that was eventually chosen in the trial)\n",
    "    given_wall_chosen_session = get_indices.was_given_wall_chosen(trial_list, player_choice,\n",
    "                                                                  given_wall_index)\n",
    "    \n",
    "    print(f\"given wall chosen array:\\n{given_wall_chosen_session}\")\n",
    "    \n",
    "    # find the indices of the trials in trial_list where the given wall was chosen by player player_id.\n",
    "    # this will drop trials where the given wall was not chosen, and trials without retrievable choice information\n",
    "    given_wall_chosen_indices = np.where(given_wall_chosen_session == True)\n",
    "    print(f\"given wall chosen true indices:\\n{given_wall_chosen_indices}\")\n",
    "    \n",
    "    # index the tuple and allow list-compatible indexing\n",
    "    given_wall_chosen_indices = given_wall_chosen_indices[0].tolist()\n",
    "\n",
    "    # use a list comprehension to index the trial list with the indices list\n",
    "    trial_list_filtered = [trial_list[i] for i in given_wall_chosen_indices]\n",
    "\n",
    "    # return filtered trial_list, and list of indices with which to index the original list\n",
    "    return trial_list_filtered, given_wall_chosen_indices\n",
    "    \n"
   ]
  },
  {
   "cell_type": "code",
   "execution_count": 19,
   "id": "e8dd0382",
   "metadata": {},
   "outputs": [],
   "source": [
    "def calculate_probability_choose_wall(trial_list, trial_list_choice_filtered):\n",
    "    ''' Given a trial list (pre-filtered, but not for choice), calculate the probability that \n",
    "        a player will choose a given wall value as the proportion of trials from the trial\n",
    "        list in which the player chose the wall value.\n",
    "        More complex use of this function could involve e.g. filtering the trial list for \n",
    "        trials where Low was first seen and the Opponent is visible, and then further filtering\n",
    "        for player choice being 'Low', to find probability of (choose Low | first visible) under the\n",
    "        condition of Other visibility at trial start. '''\n",
    "        \n",
    "    \n",
    "    # use the length of the trial list pre-choice filtering, and the length of the trial list post-choice\n",
    "    # filtering (e.g. with filter_trials_player_chose_given_wall) to calculate the proportion of \n",
    "    # relevant trials that a player chose a specific wall\n",
    "    try:\n",
    "        probability_chose_wall = len(trial_list_choice_filtered)/len(trial_list)\n",
    "    except ZeroDivisionError:\n",
    "        probability_chose_wall = np.nan\n",
    "\n",
    "    return probability_chose_wall\n",
    "    \n",
    "    "
   ]
  },
  {
   "cell_type": "markdown",
   "id": "fdb7ed41",
   "metadata": {},
   "source": [
    "### Sandbox-y"
   ]
  },
  {
   "cell_type": "code",
   "execution_count": 18,
   "id": "7d9c8cc5",
   "metadata": {},
   "outputs": [],
   "source": [
    "wall_sep=None\n",
    "trial_type = globals.HIGH_LOW\n",
    "player_id = 0\n",
    "current_fov = 110\n"
   ]
  },
  {
   "cell_type": "code",
   "execution_count": 21,
   "id": "adaa1e67",
   "metadata": {},
   "outputs": [],
   "source": [
    "# filter the trial list for trialtype and wallsep\n",
    "\n",
    "# filter trial list for HighLow trialtype\n",
    "trial_indices = get_indices.get_trials_trialtype(trial_list, trial_type=trial_type)\n",
    "trial_list_filtered = [trial_list[i] for i in trial_indices]\n",
    "\n",
    "# filter trial list for wall separations if specified\n",
    "if wall_sep:\n",
    "    trial_indices = get_indices.get_trials_with_wall_sep(trial_list_filtered, wall_sep=wall_sep)\n",
    "    trial_list_filtered = [trial_list_filtered[i] for i in trial_indices]\n"
   ]
  },
  {
   "cell_type": "code",
   "execution_count": 22,
   "id": "3c667429",
   "metadata": {},
   "outputs": [],
   "source": [
    "trial_list_one = [trial_list_filtered[0]]\n",
    "sandbox_trial_list = trial_list_filtered"
   ]
  },
  {
   "cell_type": "code",
   "execution_count": 23,
   "id": "2b81c2db",
   "metadata": {},
   "outputs": [
    {
     "data": {
      "text/plain": [
       "array([[-0.38454914],\n",
       "       [ 0.92310452]])"
      ]
     },
     "execution_count": 23,
     "metadata": {},
     "output_type": "execute_result"
    }
   ],
   "source": [
    "head_angle_vector = get_player_headangle_vector_slice_onset(player_id, trial_list=sandbox_trial_list, trial_index=0)\n",
    "head_angle_vector"
   ]
  },
  {
   "cell_type": "code",
   "execution_count": 24,
   "id": "c7011020",
   "metadata": {},
   "outputs": [
    {
     "data": {
      "text/plain": [
       "(array([[1.18000007],\n",
       "        [0.        ]]),\n",
       " array([[1.50555205],\n",
       "        [1.2378962 ]]))"
      ]
     },
     "execution_count": 24,
     "metadata": {},
     "output_type": "execute_result"
    }
   ],
   "source": [
    "self_position, other_position = get_two_player_positions_slice_onset(player_id, trial_list=sandbox_trial_list, trial_index=0)\n",
    "self_position, other_position"
   ]
  },
  {
   "cell_type": "code",
   "execution_count": 25,
   "id": "7826b377",
   "metadata": {},
   "outputs": [
    {
     "data": {
      "text/plain": [
       "array([ 37.35021789,  54.72790746,   9.28596822, 158.04598611,\n",
       "       136.67858989,  22.8537495 ,  44.94825566,  42.53329517,\n",
       "       149.3236798 , 112.45462381, 148.31612798,  20.35347853,\n",
       "        33.86543548, 143.70145699,  89.16332914,   6.79913893,\n",
       "        85.64387268,  70.94987251,  31.54975424,  31.90981187,\n",
       "         6.90464665,  73.04375472,  84.5440001 , 124.35419168,\n",
       "       104.65727621,  51.07209183, 129.3780313 , 173.18688427,\n",
       "        44.83891536,  19.22186391,  13.53849471, 109.87667343,\n",
       "         6.33488318,  90.81981646, 143.77141384, 120.46447565,\n",
       "       127.17938918,  99.50725738,  93.20075712,  89.56806717,\n",
       "        76.0560785 , 175.6802073 ,  55.28440407,  65.78230616,\n",
       "        85.21736668,  15.16389511,  87.87495147,  34.04464451,\n",
       "         6.33769394,   3.26082411,  31.79057428, 131.12483473,\n",
       "        80.40413745,  44.52585687,  41.14287831,  50.13530453,\n",
       "        62.56376928,  40.34604198, 175.56220929, 133.75923865,\n",
       "       139.62841947, 133.01811831, 170.44685904,  22.99534877,\n",
       "        50.75696605, 121.26327579,  46.33692411, 176.47604759,\n",
       "        76.05144571,  68.8700379 ,  92.72269648,  69.78556974,\n",
       "         4.20880771, 152.603004  , 138.36266722,  50.4812527 ,\n",
       "        61.87927005, 136.21033737,  80.89675201, 173.73648336,\n",
       "        84.55970711, 156.36017859, 160.46044638,  61.75302509,\n",
       "        53.69852784,  86.37838808,  84.54602543,  24.98758671,\n",
       "       100.51387843,   1.76173715,  56.14630722, 165.78540851,\n",
       "       172.72169575,  73.34068542,  60.73329669,  86.53310196,\n",
       "       178.75939408,  95.14337768, 176.21888982,  50.40971823,\n",
       "        96.80373538,  86.99706439, 124.98503233, 153.72537166,\n",
       "        42.04417607,  77.55163897, 124.24863598, 169.8549734 ,\n",
       "        13.05419298, 179.55484514, 173.06226226, 122.02466144,\n",
       "         8.87035566, 168.14909867, 107.45206695,  90.59081423,\n",
       "        80.93660089,  94.97248433, 109.09285638, 117.91749973,\n",
       "         5.05273658,  29.00894929,  41.53808598,  65.61981373,\n",
       "       163.3367549 ,  26.03660754,  81.44345772, 120.95551207,\n",
       "        29.72555647,   7.1543341 , 170.07948735, 159.71445919,\n",
       "        76.51674563, 129.21445662, 162.46592723, 142.13254984])"
      ]
     },
     "execution_count": 25,
     "metadata": {},
     "output_type": "execute_result"
    }
   ],
   "source": [
    "orientation_angle_to_other_session = get_angle_of_opponent_from_player_session(player_id, sandbox_trial_list)\n",
    "np.rad2deg(orientation_angle_to_other_session)"
   ]
  },
  {
   "cell_type": "code",
   "execution_count": 26,
   "id": "a2f9db92",
   "metadata": {},
   "outputs": [
    {
     "data": {
      "text/plain": [
       "array([ True,  True,  True, False, False,  True,  True,  True, False,\n",
       "       False, False,  True,  True, False, False,  True, False, False,\n",
       "        True,  True,  True, False, False, False, False,  True, False,\n",
       "       False,  True,  True,  True, False,  True, False, False, False,\n",
       "       False, False, False, False, False, False, False, False, False,\n",
       "        True, False,  True,  True,  True,  True, False, False,  True,\n",
       "        True,  True, False,  True, False, False, False, False, False,\n",
       "        True,  True, False,  True, False, False, False, False, False,\n",
       "        True, False, False,  True, False, False, False, False, False,\n",
       "       False, False, False,  True, False, False,  True, False,  True,\n",
       "       False, False, False, False, False, False, False, False, False,\n",
       "        True, False, False, False, False,  True, False, False, False,\n",
       "        True, False, False, False,  True, False, False, False, False,\n",
       "       False, False, False,  True,  True,  True, False, False,  True,\n",
       "       False, False,  True,  True, False, False, False, False, False,\n",
       "       False])"
      ]
     },
     "execution_count": 26,
     "metadata": {},
     "output_type": "execute_result"
    }
   ],
   "source": [
    "other_visible_session = get_other_visible_session(orientation_angle_to_other_session, current_fov=110)\n",
    "other_visible_session"
   ]
  },
  {
   "cell_type": "markdown",
   "id": "67938eff",
   "metadata": {},
   "source": [
    "Walking through the process for getting P(Choose High) for trials where the opponent is visible and High is first seen"
   ]
  },
  {
   "cell_type": "code",
   "execution_count": 27,
   "id": "65c53303",
   "metadata": {},
   "outputs": [
    {
     "data": {
      "text/plain": [
       "44"
      ]
     },
     "execution_count": 27,
     "metadata": {},
     "output_type": "execute_result"
    }
   ],
   "source": [
    "# filter Other initially visible\n",
    "(trial_list_filtered_other_visible,\n",
    "  other_visible_trial_indices) = filter_trials_other_visible(sandbox_trial_list, other_visible_session)\n",
    "len(other_visible_trial_indices)"
   ]
  },
  {
   "cell_type": "code",
   "execution_count": 32,
   "id": "92152342",
   "metadata": {},
   "outputs": [
    {
     "data": {
      "text/plain": [
       "[10, 11, 16, 20, 23, 30, 37, 43]"
      ]
     },
     "execution_count": 32,
     "metadata": {},
     "output_type": "execute_result"
    }
   ],
   "source": [
    "# filter both walls initially visible\n",
    "(trial_list_filtered_both_walls_visible,\n",
    "  both_walls_visible_indices) = filter_trials_both_walls_initially_visible(trial_list_filtered_other_visible, player_id, current_fov)\n",
    "both_walls_visible_indices"
   ]
  },
  {
   "cell_type": "code",
   "execution_count": 40,
   "id": "07bbc981",
   "metadata": {},
   "outputs": [
    {
     "data": {
      "text/plain": [
       "13"
      ]
     },
     "execution_count": 40,
     "metadata": {},
     "output_type": "execute_result"
    }
   ],
   "source": [
    "# filter high wall initially visible\n",
    "(trial_list_filtered_high_wall_initially_visible,\n",
    "  high_wall_initially_visible_indices) = filter_trials_one_wall_initially_visible(trial_list_filtered_other_visible, player_id,\n",
    "                                                                                   wall_index=0, current_fov=current_fov)\n",
    "len(high_wall_initially_visible_indices)"
   ]
  },
  {
   "cell_type": "code",
   "execution_count": 41,
   "id": "c34f7242",
   "metadata": {},
   "outputs": [
    {
     "name": "stdout",
     "output_type": "stream",
     "text": [
      "player choice array:\n",
      "[nan  3. nan  8.  3.  4. nan  3. nan nan  8.  8.  2.]\n",
      "given wall chosen array:\n",
      "[0. 1. 0. 1. 0. 1. 0. 0. 0. 0. 1. 1. 1.]\n",
      "given wall chosen true indices:\n",
      "(array([ 1,  3,  5, 10, 11, 12]),)\n"
     ]
    },
    {
     "data": {
      "text/plain": [
       "6"
      ]
     },
     "execution_count": 41,
     "metadata": {},
     "output_type": "execute_result"
    }
   ],
   "source": [
    "(trial_list_filtered_player_choice,\n",
    "  player_chose_given_wall_indices) = filter_trials_player_chose_given_wall(trial_list_filtered_high_wall_initially_visible, player_id,\n",
    "                                                                            inferred_choice=True, given_wall_index=0)\n",
    "len(player_chose_given_wall_indices)"
   ]
  },
  {
   "cell_type": "code",
   "execution_count": 42,
   "id": "49eb5b86",
   "metadata": {},
   "outputs": [
    {
     "data": {
      "text/plain": [
       "(array([nan,  1., nan,  3.,  2., nan,  3.,  6., nan, nan,  6., nan, nan,\n",
       "        nan, nan, nan,  4., nan,  8., nan, nan, nan,  8.,  6., nan, nan,\n",
       "         8., nan,  3.,  5., nan, nan, nan,  8.,  8.,  6., nan, nan, nan,\n",
       "         6., nan,  4., nan, nan, nan, nan,  3.,  3., nan, nan, nan, nan,\n",
       "         1., nan,  3., nan, nan, nan, nan,  6.,  5.,  4., nan, nan, nan,\n",
       "        nan, nan, nan, nan, nan, nan, nan, nan, nan, nan, nan, nan, nan,\n",
       "        nan,  4., nan, nan,  4., nan, nan,  6.,  5., nan, nan,  5., nan,\n",
       "        nan, nan, nan, nan, nan, nan,  5., nan,  5., nan,  3.,  4.,  4.,\n",
       "        nan, nan,  7., nan, nan, nan, nan,  1.,  6.,  1., nan,  2.,  8.,\n",
       "        nan, nan, nan,  8., nan, nan, nan, nan, nan, nan,  8., nan, nan,\n",
       "        nan, nan,  1., nan, nan, nan]),\n",
       " array([5., 1., 3., 3., 2., 7., 3., 6., 8., 1., 7., 1., 1., 6., 2., 7., 8.,\n",
       "        2., 8., 4., 5., 8., 8., 2., 2., 2., 8., 4., 7., 5., 4., 4., 6., 8.,\n",
       "        8., 6., 6., 8., 3., 5., 7., 8., 4., 8., 5., 7., 3., 1., 4., 3., 1.,\n",
       "        8., 7., 7., 3., 8., 8., 6., 1., 6., 5., 2., 8., 5., 1., 3., 1., 6.,\n",
       "        7., 7., 3., 1., 6., 1., 8., 6., 4., 5., 8., 4., 3., 1., 8., 4., 1.,\n",
       "        6., 1., 5., 3., 5., 8., 7., 3., 6., 6., 7., 2., 1., 2., 5., 3., 7.,\n",
       "        4., 4., 8., 2., 7., 6., 5., 3., 5., 7., 6., 1., 1., 8., 8., 6., 4.,\n",
       "        4., 8., 3., 2., 4., 3., 6., 7., 8., 1., 7., 1., 3., 1., 4., 7., 4.]))"
      ]
     },
     "execution_count": 42,
     "metadata": {},
     "output_type": "execute_result"
    }
   ],
   "source": [
    "# test the player choice function is working correctly\n",
    "\n",
    "player_choice = wall_visibility_and_choice.get_player_wall_choice(sandbox_trial_list, player_id,\n",
    "                                                                    inferred_choice=False, debug=False)\n",
    "\n",
    "high_wall = np.full(len(sandbox_trial_list), np.nan)\n",
    "for i, trial in enumerate(sandbox_trial_list):\n",
    "    high_wall[i] = get_indices.get_walls(trial)[0]\n",
    "\n",
    "player_choice, high_wall"
   ]
  },
  {
   "cell_type": "code",
   "execution_count": 43,
   "id": "88dd710d",
   "metadata": {},
   "outputs": [
    {
     "data": {
      "text/plain": [
       "0.46153846153846156"
      ]
     },
     "execution_count": 43,
     "metadata": {},
     "output_type": "execute_result"
    }
   ],
   "source": [
    "probability_chose_wall = calculate_probability_choose_wall(trial_list_filtered_high_wall_initially_visible, trial_list_filtered_player_choice)\n",
    "probability_chose_wall"
   ]
  },
  {
   "cell_type": "code",
   "execution_count": 20,
   "id": "c0d06733",
   "metadata": {},
   "outputs": [],
   "source": [
    "# umbrella function to compare probabilities of P(High | first visible) between Other visible and Other not visible\n",
    "\n",
    "def probability_chose_wall_conditioned_on_wall_and_other_visibility(trial_list, other_visible_session, player_id,\n",
    "                                                                    visible_wall_index, chosen_wall_index,\n",
    "                                                                    inferred_choice, current_fov,\n",
    "                                                                    inverse_other_visible=False,\n",
    "                                                                    return_trial_indices=False, debug=False):\n",
    "    ''' Take a trial list and filter based on opponent visibility, existence of player_id player choice,\n",
    "        and whether a specific wall is initially visible. \n",
    "        Then, filter this trial list by the player choice being for a specific trial wall, and take the proportion\n",
    "        of trials remaining as the probability of making this choice conditioned on our chosen filters.\n",
    "        Returns probability of choosing a trial wall. \n",
    "        visible_wall_index and chosen_wall_index control wall initial visibility and player choice filters respectively.\n",
    "        inverse_other_visible flag sets the filter of opponent visibility to be 'opponent not visible' if True. '''\n",
    "    \n",
    "    if debug:\n",
    "      print(f\"Next session, player_id {player_id}\")\n",
    "\n",
    "    \n",
    "    # filter Other initially visible\n",
    "    (trial_list_filtered_other_visible,\n",
    "    other_visible_trial_indices) = filter_trials_other_visible(trial_list, other_visible_session,\n",
    "                                                               inverse=inverse_other_visible)\n",
    "\n",
    "    # filter trials with a retrievable choice for this player (trials only valid for analysis if we \n",
    "    # have a recorded choice for the player)\n",
    "    (trial_list_filtered_player_choice_exists,\n",
    "    player_choice_exists_indices) = filter_trials_retrievable_choice(trial_list_filtered_other_visible, player_id, inferred_choice)\n",
    "\n",
    "    # filter Other initially visible with high wall initially visible\n",
    "    (trial_list_filtered_high_wall_initially_visible,\n",
    "    high_wall_initially_visible_indices) = filter_trials_one_wall_initially_visible(trial_list_filtered_player_choice_exists, player_id,\n",
    "                                                                                     wall_index=visible_wall_index, current_fov=current_fov)\n",
    "\n",
    "    # filter Other-visible, High initially visible, with player_choice aligning with given wall (given_wall_index)\n",
    "    (trial_list_filtered_player_choice,\n",
    "    player_chose_given_wall_indices) = filter_trials_player_chose_given_wall(trial_list_filtered_high_wall_initially_visible, player_id,\n",
    "                                                                                inferred_choice,\n",
    "                                                                                  given_wall_index=chosen_wall_index)\n",
    "\n",
    "    # find the probability of the player choosing the given wall index, considering only trials that are filtered for \n",
    "    # Other visibility and initial wall visibility\n",
    "    probability_chose_wall = calculate_probability_choose_wall(trial_list_filtered_high_wall_initially_visible, trial_list_filtered_player_choice)\n",
    "\n",
    "    if debug:\n",
    "      print(f\"Len other_visible_trial_indices: {len(other_visible_trial_indices)}\")\n",
    "      print(f\"Len player_choice_exists_indices: {len(player_choice_exists_indices)}\")\n",
    "      print(f\"Len high_wall_initially_visible_indices: {len(high_wall_initially_visible_indices)}\")\n",
    "      print(f\"Len player_chose_given_wall_indices: {len(player_chose_given_wall_indices)}\")\n",
    "      print(f\"Probability player chose wall given these conditions: {probability_chose_wall}\")\n",
    "\n",
    "    if not return_trial_indices:\n",
    "      return probability_chose_wall\n",
    "    else:\n",
    "       return probability_chose_wall, trial_list_filtered_high_wall_initially_visible, trial_list_filtered_player_choice"
   ]
  },
  {
   "cell_type": "code",
   "execution_count": 21,
   "id": "e9d8da0c",
   "metadata": {},
   "outputs": [],
   "source": [
    "# umbrella function to compare probabilities of P(High) between Other visible and Other not visible\n",
    "\n",
    "def probability_chose_wall_conditioned_on_other_visibility(trial_list, other_visible_session, player_id,\n",
    "                                                           chosen_wall_index, inferred_choice,\n",
    "                                                           inverse_other_visible=False, debug=False):\n",
    "    ''' Take a trial list and filter based on opponent visibility and existence of player_id player choice.\n",
    "        Then, filter this trial list by the player choice being for a specific trial wall, and take the proportion\n",
    "        of trials remaining as the probability of making this choice conditioned on our chosen filters.\n",
    "        Returns probability of choosing a trial wall. \n",
    "        chosen_wall_index controls player choice filter.\n",
    "        inverse_other_visible flag sets the filter of opponent visibility to be 'opponent not visible' if True. '''\n",
    "    \n",
    "    if debug:\n",
    "      print(f\"Next session, player_id {player_id}\")\n",
    "    \n",
    "    # filter Other initially visible\n",
    "    (trial_list_filtered_other_visible,\n",
    "    other_visible_trial_indices) = filter_trials_other_visible(trial_list, other_visible_session,\n",
    "                                                               inverse=inverse_other_visible)\n",
    "    \n",
    "    # filter trials with a retrievable choice for this player (trials only valid for analysis if we \n",
    "    # have a recorded choice for the player)\n",
    "    (trial_list_filtered_player_choice_exists,\n",
    "    player_choice_exists_indices) = filter_trials_retrievable_choice(trial_list_filtered_other_visible, player_id, inferred_choice)\n",
    "    \n",
    "\n",
    "    # filter Other-visible with player_choice aligning with given wall (given_wall_index)\n",
    "    (trial_list_filtered_player_choice,\n",
    "    player_chose_given_wall_indices) = filter_trials_player_chose_given_wall(trial_list_filtered_player_choice_exists, player_id,\n",
    "                                                                                inferred_choice,\n",
    "                                                                                  given_wall_index=chosen_wall_index)\n",
    "\n",
    "    # find the probability of the player choosing the given wall index, considering only trials that are filtered for \n",
    "    # Other visibility and initial wall visibility\n",
    "    probability_chose_wall = calculate_probability_choose_wall(trial_list_filtered_player_choice_exists, trial_list_filtered_player_choice)\n",
    "\n",
    "    if debug:\n",
    "      print(f\"Len other_visible_trial_indices: {len(other_visible_trial_indices)}\")\n",
    "      print(f\"Len player_choice_exists_indices: {len(player_choice_exists_indices)}\")\n",
    "      print(f\"Len player_chose_given_wall_indices: {len(player_chose_given_wall_indices)}\")\n",
    "      print(f\"Probability player chose wall given these conditions: {probability_chose_wall}\")\n",
    "    \n",
    "    \n",
    "    return probability_chose_wall "
   ]
  },
  {
   "cell_type": "code",
   "execution_count": 22,
   "id": "013d133f",
   "metadata": {},
   "outputs": [],
   "source": [
    "# umbrella function to compare probabilities of winning between Other visible and Other not visible\n",
    "\n",
    "def probability_win_trial_conditioned_on_other_visibility(trial_list, other_visible_session, player_id,\n",
    "                                                          inverse_other_visible=False, debug=False):\n",
    "    ''' Take a trial list and filter based on opponent visibility.\n",
    "        Then, filter this trial list by whether player player_id wins the trial, and take the proportion\n",
    "        of trials remaining as the probability of winning conditioned on our chosen filters.\n",
    "        Returns probability of winning. \n",
    "        inverse_other_visible flag sets the filter of opponent visibility to be 'opponent not visible' if True. '''\n",
    "    \n",
    "    if debug:\n",
    "      print(f\"Next session, player_id {player_id}\")\n",
    "    \n",
    "    # filter Other initially visible\n",
    "    (trial_list_filtered_other_visible,\n",
    "    other_visible_trial_indices) = filter_trials_other_visible(trial_list, other_visible_session,\n",
    "                                                               inverse=inverse_other_visible)\n",
    "    print(f\"Len other_visible_trial_indices: {len(other_visible_trial_indices)}\")\n",
    "\n",
    "    # filter Other-visible with player being the winner\n",
    "    trigger_activators = get_indices.get_trigger_activators(trial_list_filtered_other_visible)\n",
    "    this_player_wins_indices = np.where(trigger_activators == player_id)\n",
    "\n",
    "    # index the tuple and allow list-compatible indexing\n",
    "    this_player_wins_indices = this_player_wins_indices[0].tolist() \n",
    "\n",
    "    # Use a list comprehension to index the trial list with the indices list\n",
    "    trial_list_filtered_this_player_wins = [trial_list_filtered_other_visible[i] for i in this_player_wins_indices]\n",
    "    print(f\"Len trial_list_filtered_this_player_wins: {len(trial_list_filtered_this_player_wins)}\")\n",
    "\n",
    "    # find the probability of the player choosing the given wall index, considering only trials that are filtered for \n",
    "    # Other visibility and initial wall visibility\n",
    "    probability_chose_wall = calculate_probability_choose_wall(trial_list_filtered_other_visible, trial_list_filtered_this_player_wins)\n",
    "\n",
    "    if debug:\n",
    "      print(f\"Len other_visible_trial_indices: {len(other_visible_trial_indices)}\")\n",
    "      print(f\"Probability player wins given these conditions: {probability_chose_wall}\")\n",
    "    \n",
    "\n",
    "    return probability_chose_wall "
   ]
  },
  {
   "cell_type": "code",
   "execution_count": null,
   "id": "f438d298",
   "metadata": {},
   "outputs": [],
   "source": [
    "# # Single trials\n",
    "# P(H | H first visible; Other visible)\n",
    "a = probability_chose_wall_conditioned_on_wall_and_other_visibility(sandbox_trial_list, other_visible_session,\n",
    "                                                                    player_id=0, visible_wall_index=0,\n",
    "                                                                    chosen_wall_index=0, inferred_choice=False,\n",
    "                                                                    current_fov=current_fov,\n",
    "                                                                    inverse_other_visible=False)\n",
    "# P(H | H first visible; Other not visible)\n",
    "b = probability_chose_wall_conditioned_on_wall_and_other_visibility(sandbox_trial_list, other_visible_session,\n",
    "                                                                    player_id=0, visible_wall_index=0,\n",
    "                                                                    chosen_wall_index=0, inferred_choice=False,\n",
    "                                                                    current_fov=current_fov,\n",
    "                                                                    inverse_other_visible=True)\n",
    "wall_choice_probabilities = np.array([a,b])"
   ]
  },
  {
   "cell_type": "code",
   "execution_count": 50,
   "id": "2061db02",
   "metadata": {},
   "outputs": [
    {
     "name": "stderr",
     "output_type": "stream",
     "text": [
      "d:\\tom\\documents\\swc\\repos\\octagon_analysis\\plotting\\plot_probability_chose_wall.py:56: FutureWarning: \n",
      "\n",
      "Passing `palette` without assigning `hue` is deprecated and will be removed in v0.14.0. Assign the `x` variable to `hue` and set `legend=False` for the same effect.\n",
      "\n",
      "  sns.boxplot(x=\"Condition\", y=\"Probability\", data=df, palette=\"Paired\", width=.8)\n"
     ]
    },
    {
     "data": {
      "image/png": "[encoded data removed]",
      "text/plain": [
       "<Figure size 800x500 with 1 Axes>"
      ]
     },
     "metadata": {},
     "output_type": "display_data"
    }
   ],
   "source": [
    "# Test plot for single trials\n",
    "plot_probability_chose_wall.boxplot_probability_choose_wall(wall_choice_probabilities, ['Other visible', 'Other not visible'], ylabel=\"P(Choose High | first visible)\")"
   ]
  },
  {
   "cell_type": "code",
   "execution_count": 29,
   "id": "95385fd8",
   "metadata": {},
   "outputs": [
    {
     "name": "stdout",
     "output_type": "stream",
     "text": [
      "filepath: D:\\Users\\Tom\\OneDrive\\PhD\\SWC\\data\\first_experiments_2409\\240913\\2024-09-13_11-31-00_YansuJerrySocial.json\n",
      "Data is from period before 2024-09-13 00:00:00\n",
      "Running dataframe through playerinfo_playerposition_conversion.\n",
      "Loading complete.\n",
      "Preprocessing complete.\n",
      "filepath: D:\\Users\\Tom\\OneDrive\\PhD\\SWC\\data\\second_experiments_2409\\240927\\2024-09-27_14-25-20_SaraEmilySocial.json\n",
      "Loading complete.\n",
      "Preprocessing complete.\n",
      "filepath: D:\\Users\\Tom\\OneDrive\\PhD\\SWC\\data\\third_experiments_2410\\241017\\2024-10-17_14-28-40_ShamirAbigailSocial.json\n",
      "Loading complete.\n",
      "Preprocessing complete.\n",
      "filepath: D:\\Users\\Tom\\OneDrive\\PhD\\SWC\\data\\fourth_experiments_2410\\241017\\2024-10-17_16-41-38_ZimoElsaSocial.json\n",
      "Loading complete.\n",
      "Preprocessing complete.\n",
      "filepath: D:\\Users\\Tom\\OneDrive\\PhD\\SWC\\data\\fifth_experiments_241112\\2024-11-12_13-31-14_KhadijaWendySocial.json\n",
      "Loading complete.\n",
      "Preprocessing complete.\n",
      "filepath: D:\\Users\\Tom\\OneDrive\\PhD\\SWC\\data\\sixth_experiments_241112\\2024-11-12_15-23-24_FrancescaSenSzeSocial.json\n",
      "Loading complete.\n",
      "Preprocessing complete.\n",
      "filepath: D:\\Users\\Tom\\OneDrive\\PhD\\SWC\\data\\seventh_experiments_241113\\2024-11-13_14-18-54_NasiaRyanSocial.json\n",
      "Loading complete.\n",
      "Preprocessing complete.\n",
      "filepath: D:\\Users\\Tom\\OneDrive\\PhD\\SWC\\data\\eighth_experiments_241113\\2024-11-13_15-28-07_YichuanHoiSocial.json\n",
      "Loading complete.\n",
      "Preprocessing complete.\n",
      "filepath: D:\\Users\\Tom\\OneDrive\\PhD\\SWC\\data\\ninth_experiments_241119\\2024-11-19_14-24-49_AmyXinyuanSocial.json\n",
      "Loading complete.\n",
      "Preprocessing complete.\n",
      "filepath: D:\\Users\\Tom\\OneDrive\\PhD\\SWC\\data\\tenth_experiments_241119\\2024-11-19_15-22-56_SophiaHocineSocial.json\n",
      "Loading complete.\n",
      "Preprocessing complete.\n",
      "filepath: D:\\Users\\Tom\\OneDrive\\PhD\\SWC\\data\\eleventh_experiments_241120\\2024-11-20_14-17-44_JasonRahulSocial.json\n",
      "Loading complete.\n",
      "Preprocessing complete.\n",
      "filepath: D:\\Users\\Tom\\OneDrive\\PhD\\SWC\\data\\twelfth_experiments_241120\\2024-11-20_15-16-21_SunnyVinceSocial.json\n",
      "Loading complete.\n",
      "Preprocessing complete.\n",
      "filepath: D:\\Users\\Tom\\OneDrive\\PhD\\SWC\\data\\241203_1\\2024-12-03_14-31-51_PaulNicoleSocial.json\n",
      "Loading complete.\n",
      "Preprocessing complete.\n",
      "filepath: D:\\Users\\Tom\\OneDrive\\PhD\\SWC\\data\\241203_2\\2024-12-03_15-27-28_EstherBowimSocial.json\n",
      "Loading complete.\n",
      "Preprocessing complete.\n",
      "filepath: D:\\Users\\Tom\\OneDrive\\PhD\\SWC\\data\\241210_1\\2024-12-10_14-21-17_TaqwaTasSocial.json\n",
      "Loading complete.\n",
      "Preprocessing complete.\n",
      "filepath: D:\\Users\\Tom\\OneDrive\\PhD\\SWC\\data\\241210_2\\2024-12-10_15-20-11_RyanRoseSocial.json\n",
      "Loading complete.\n",
      "Preprocessing complete.\n",
      "filepath: D:\\Users\\Tom\\OneDrive\\PhD\\SWC\\data\\241219_1\\2024-12-19_15-28-24_JingjingYeungSocial.json\n",
      "Loading complete.\n",
      "Preprocessing complete.\n",
      "filepath: D:\\Users\\Tom\\OneDrive\\PhD\\SWC\\data\\250115_1\\2025-01-15_15-21-27_YixuanMarcoSocial.json\n",
      "Loading complete.\n",
      "Preprocessing complete.\n",
      "filepath: D:\\Users\\Tom\\OneDrive\\PhD\\SWC\\data\\250115_2\\2025-01-15_16-27-23_YuChunRuiqingSocial.json\n",
      "Loading complete.\n",
      "Preprocessing complete.\n"
     ]
    }
   ],
   "source": [
    "# repeat for all datasets\n",
    "df_all, trial_list_all = prepare_data.prepare_data(data_folder, json_filenames_all_social, combine=False) "
   ]
  },
  {
   "cell_type": "code",
   "execution_count": null,
   "id": "135442d0",
   "metadata": {},
   "outputs": [],
   "source": [
    "%%capture\n",
    "# Test across all sessions for player_id = 0,  P(H | H first vis; Other vis)\n",
    "aaa = np.full(len(trial_list_all), np.nan)\n",
    "bbb = np.full(len(trial_list_all), np.nan)\n",
    "trial_list_index = 0\n",
    "inferred_choice=False\n",
    "debug=True\n",
    "visible_wall_index = 0\n",
    "chosen_wall_index = 0\n",
    "current_fov = 110\n",
    "\n",
    "for i, trial_list in enumerate(trial_list_all):\n",
    "\n",
    "    # filter trial list for HighLow trialtype\n",
    "    trial_indices = get_indices.get_trials_trialtype(trial_list, trial_type=trial_type)\n",
    "    trial_list_filtered = [trial_list[i] for i in trial_indices]\n",
    "\n",
    "    player_id = 1\n",
    "    # get Other visibility for this trial list\n",
    "    orientation_angle_to_other_session = get_angle_of_opponent_from_player_session(player_id, trial_list_filtered)\n",
    "    other_visible_session = get_other_visible_session(orientation_angle_to_other_session, current_fov)\n",
    "    \n",
    "    aaa[i] = probability_chose_wall_conditioned_on_wall_and_other_visibility(trial_list_filtered, other_visible_session,\n",
    "                                                                           player_id, visible_wall_index, chosen_wall_index,\n",
    "                                                                           inferred_choice, current_fov,\n",
    "                                                                           inverse_other_visible=False, debug=debug)\n",
    "    bbb[i] = probability_chose_wall_conditioned_on_wall_and_other_visibility(trial_list_filtered, other_visible_session,\n",
    "                                                                           player_id, visible_wall_index, chosen_wall_index,\n",
    "                                                                           inferred_choice, current_fov,\n",
    "                                                                           inverse_other_visible=True, debug=debug)\n",
    "    \n",
    "wall_choice_probabilities = [aaa,bbb]"
   ]
  },
  {
   "cell_type": "code",
   "execution_count": null,
   "id": "e6f4825c",
   "metadata": {},
   "outputs": [],
   "source": [
    "%%capture\n",
    "# Test across all sessions for player_id = 1, P(H | H first vis; Other vis)\n",
    "aa = np.full(len(trial_list_all), np.nan)\n",
    "bb = np.full(len(trial_list_all), np.nan)\n",
    "trial_list_index = 0\n",
    "inferred_choice=True\n",
    "debug=True\n",
    "visible_wall_index = 0\n",
    "chosen_wall_index = 0\n",
    "current_fov = 110\n",
    "\n",
    "for i, trial_list in enumerate(trial_list_all):\n",
    "\n",
    "    # filter trial list for HighLow trialtype\n",
    "    trial_indices = get_indices.get_trials_trialtype(trial_list, trial_type=trial_type)\n",
    "    trial_list_filtered = [trial_list[i] for i in trial_indices]\n",
    "\n",
    "    player_id = 0\n",
    "    # get Other visibility for this trial list\n",
    "    orientation_angle_to_other_session = get_angle_of_opponent_from_player_session(player_id, trial_list_filtered)\n",
    "    other_visible_session = get_other_visible_session(orientation_angle_to_other_session, current_fov)\n",
    "    \n",
    "    aa[i] = probability_chose_wall_conditioned_on_wall_and_other_visibility(trial_list_filtered, other_visible_session,\n",
    "                                                                           player_id, visible_wall_index, chosen_wall_index,\n",
    "                                                                           inferred_choice, current_fov,\n",
    "                                                                           inverse_other_visible=False, debug=debug)\n",
    "    bb[i] = probability_chose_wall_conditioned_on_wall_and_other_visibility(trial_list_filtered, other_visible_session,\n",
    "                                                                           player_id, visible_wall_index, chosen_wall_index,\n",
    "                                                                           inferred_choice, current_fov,\n",
    "                                                                           inverse_other_visible=True, debug=debug)\n",
    "    \n",
    "wall_choice_probabilities = [aa,bb]"
   ]
  },
  {
   "cell_type": "code",
   "execution_count": 37,
   "id": "e40a2142",
   "metadata": {},
   "outputs": [
    {
     "data": {
      "text/plain": [
       "11"
      ]
     },
     "execution_count": 37,
     "metadata": {},
     "output_type": "execute_result"
    }
   ],
   "source": [
    "len(filtered_trail_list_a_list[21])"
   ]
  },
  {
   "cell_type": "code",
   "execution_count": null,
   "id": "3da7fc2a",
   "metadata": {},
   "outputs": [],
   "source": [
    "# P(H | H first visible; Other visible) \n",
    "# combined player_ids 1 and 0, for all sessions\n",
    "\n",
    "a = np.full(len(trial_list_all)*2, np.nan)\n",
    "b = np.full(len(trial_list_all)*2, np.nan)\n",
    "filtered_trail_list_a_list = []\n",
    "filtered_trial_list_choice_a_list = []\n",
    "filtered_trail_list_b_list = []\n",
    "filtered_trial_list_choice_b_list = []\n",
    "trial_list_index = 0\n",
    "inferred_choice=True\n",
    "debug=True\n",
    "visible_wall_index = 0\n",
    "chosen_wall_index = 0\n",
    "current_fov = 110\n",
    "trial_type = globals.HIGH_LOW\n",
    "\n",
    "for i in range(0,len(trial_list_all)*2, 2):\n",
    "\n",
    "    trial_list = trial_list_all[trial_list_index]\n",
    "\n",
    "    # filter trial list for HighLow trialtype\n",
    "    trial_indices = get_indices.get_trials_trialtype(trial_list, trial_type=trial_type)\n",
    "    trial_list_filtered = [trial_list[i] for i in trial_indices]\n",
    "\n",
    "    player_id = 0\n",
    "    # get Other visibility for this trial list\n",
    "    orientation_angle_to_other_session = get_angle_of_opponent_from_player_session(player_id, trial_list_filtered)\n",
    "    other_visible_session = get_other_visible_session(orientation_angle_to_other_session, current_fov)\n",
    "    \n",
    "    (a[i],\n",
    "    filtered_trial_indices_a,\n",
    "    filtered_trial_choice_indices_a) = probability_chose_wall_conditioned_on_wall_and_other_visibility(trial_list_filtered, other_visible_session,\n",
    "                                                                           player_id, visible_wall_index, chosen_wall_index,\n",
    "                                                                           inferred_choice, current_fov,\n",
    "                                                                           inverse_other_visible=False,\n",
    "                                                                            return_trial_indices=True, debug=debug)\n",
    "    (b[i],\n",
    "    filtered_trial_indices_b,\n",
    "    filtered_trial_choice_indices_b)  = probability_chose_wall_conditioned_on_wall_and_other_visibility(trial_list_filtered, other_visible_session,\n",
    "                                                                           player_id, visible_wall_index, chosen_wall_index,\n",
    "                                                                           inferred_choice, current_fov,\n",
    "                                                                           inverse_other_visible=True,\n",
    "                                                                            return_trial_indices=True, debug=debug)\n",
    "    \n",
    "    filtered_trail_list_a_list.append(filtered_trial_indices_a)\n",
    "    filtered_trial_list_choice_a_list.append(filtered_trial_choice_indices_a)\n",
    "    filtered_trail_list_b_list.append(filtered_trial_indices_b)\n",
    "    filtered_trial_list_choice_b_list.append(filtered_trial_choice_indices_b)\n",
    "    \n",
    "    player_id = 1\n",
    "    # get Other visibility for this trial list\n",
    "    orientation_angle_to_other_session = get_angle_of_opponent_from_player_session(player_id, trial_list_filtered)\n",
    "    other_visible_session = get_other_visible_session(orientation_angle_to_other_session, current_fov)\n",
    "    \n",
    "    (a[i+1],\n",
    "    filtered_trial_indices_a,\n",
    "    filtered_trial_choice_indices_a) = probability_chose_wall_conditioned_on_wall_and_other_visibility(trial_list_filtered, other_visible_session,\n",
    "                                                                             player_id, visible_wall_index, chosen_wall_index,\n",
    "                                                                             inferred_choice, current_fov,\n",
    "                                                                             inverse_other_visible=False,\n",
    "                                                                              return_trial_indices=True, debug=debug)\n",
    "    (b[i+1],\n",
    "    filtered_trial_indices_b,\n",
    "    filtered_trial_choice_indices_b) = probability_chose_wall_conditioned_on_wall_and_other_visibility(trial_list_filtered, other_visible_session,\n",
    "                                                                             player_id, visible_wall_index, chosen_wall_index,\n",
    "                                                                             inferred_choice, current_fov,\n",
    "                                                                             inverse_other_visible=True,\n",
    "                                                                              return_trial_indices=True, debug=debug)\n",
    "    \n",
    "\n",
    "    filtered_trail_list_a_list.append(filtered_trial_indices_a)\n",
    "    filtered_trial_list_choice_a_list.append(filtered_trial_choice_indices_a)\n",
    "    filtered_trail_list_b_list.append(filtered_trial_indices_b)\n",
    "    filtered_trial_list_choice_b_list.append(filtered_trial_choice_indices_b)\n",
    "    \n",
    "    trial_list_index += 1\n",
    "    \n",
    "    \n",
    "wall_choice_probabilities = [a,b]"
   ]
  },
  {
   "cell_type": "code",
   "execution_count": null,
   "id": "2b763051",
   "metadata": {},
   "outputs": [],
   "source": [
    "%%capture\n",
    "# P(H | Other visible)\n",
    "# combined player_ids 1 and 0, for all sessions\n",
    "\n",
    "c = np.full(len(trial_list_all)*2, np.nan)\n",
    "d = np.full(len(trial_list_all)*2, np.nan)\n",
    "trial_list_index = 0\n",
    "inferred_choice=True\n",
    "debug=True\n",
    "chosen_wall_index = 0\n",
    "current_fov=110\n",
    "\n",
    "for i in range(0,len(trial_list_all)*2, 2):\n",
    "\n",
    "    trial_list = trial_list_all[trial_list_index]\n",
    "\n",
    "    # filter trial list for HighLow trialtype\n",
    "    trial_indices = get_indices.get_trials_trialtype(trial_list, trial_type=trial_type)\n",
    "    trial_list_filtered = [trial_list[i] for i in trial_indices]\n",
    "\n",
    "    player_id = 0\n",
    "    # get Other visibility for this trial list\n",
    "    orientation_angle_to_other_session = get_angle_of_opponent_from_player_session(player_id, trial_list_filtered)\n",
    "    other_visible_session = get_other_visible_session(orientation_angle_to_other_session, current_fov)\n",
    "    \n",
    "    c[i] = probability_chose_wall_conditioned_on_other_visibility(trial_list_filtered, other_visible_session,\n",
    "                                                                  player_id, chosen_wall_index,\n",
    "                                                                  inferred_choice,\n",
    "                                                                  inverse_other_visible=False, debug=debug)\n",
    "    d[i] = probability_chose_wall_conditioned_on_other_visibility(trial_list_filtered, other_visible_session,\n",
    "                                                                  player_id, chosen_wall_index,\n",
    "                                                                  inferred_choice,\n",
    "                                                                  inverse_other_visible=True, debug=debug)\n",
    "    \n",
    "    player_id = 1\n",
    "    # get Other visibility for this trial list\n",
    "    orientation_angle_to_other_session = get_angle_of_opponent_from_player_session(player_id, trial_list_filtered)\n",
    "    other_visible_session = get_other_visible_session(orientation_angle_to_other_session, current_fov)\n",
    "    \n",
    "    c[i+1] = probability_chose_wall_conditioned_on_other_visibility(trial_list_filtered, other_visible_session,\n",
    "                                                                    player_id, chosen_wall_index,\n",
    "                                                                    inferred_choice,\n",
    "                                                                    inverse_other_visible=False, debug=debug)\n",
    "    d[i+1] = probability_chose_wall_conditioned_on_other_visibility(trial_list_filtered, other_visible_session,\n",
    "                                                                    player_id, chosen_wall_index,\n",
    "                                                                    inferred_choice,\n",
    "                                                                    inverse_other_visible=True, debug=debug)\n",
    "    \n",
    "    trial_list_index += 1\n",
    "    \n",
    "    \n",
    "wall_choice_probabilities2 = [c,d]\n"
   ]
  },
  {
   "cell_type": "code",
   "execution_count": null,
   "id": "0b6189bd",
   "metadata": {},
   "outputs": [],
   "source": [
    "%%capture\n",
    "# P(Win | Other visible)\n",
    "# combined player_ids 1 and 0, for all sessions\n",
    "\n",
    "e = np.full(len(trial_list_all)*2, np.nan)\n",
    "f = np.full(len(trial_list_all)*2, np.nan)\n",
    "trial_list_index = 0\n",
    "inferred_choice=False\n",
    "debug=True\n",
    "current_fov = 110\n",
    "\n",
    "for i in range(0,len(trial_list_all)*2, 2):\n",
    "\n",
    "    trial_list = trial_list_all[trial_list_index]\n",
    "\n",
    "    # filter trial list for HighLow trialtype\n",
    "    trial_indices = get_indices.get_trials_trialtype(trial_list, trial_type=trial_type)\n",
    "    trial_list_filtered = [trial_list[i] for i in trial_indices]\n",
    "\n",
    "    player_id = 0\n",
    "    # get Other visibility for this trial list\n",
    "    orientation_angle_to_other_session = get_angle_of_opponent_from_player_session(player_id, trial_list_filtered)\n",
    "    other_visible_session = get_other_visible_session(orientation_angle_to_other_session, current_fov)\n",
    "    \n",
    "    e[i] = probability_win_trial_conditioned_on_other_visibility(trial_list_filtered, other_visible_session,\n",
    "                                                                 player_id,\n",
    "                                                                 inverse_other_visible=False, debug=debug)\n",
    "    f[i] = probability_win_trial_conditioned_on_other_visibility(trial_list_filtered, other_visible_session,\n",
    "                                                                 player_id,\n",
    "                                                                 inverse_other_visible=True, debug=debug)\n",
    "    \n",
    "    player_id = 1\n",
    "    # get Other visibility for this trial list\n",
    "    orientation_angle_to_other_session = get_angle_of_opponent_from_player_session(player_id, trial_list_filtered)\n",
    "    other_visible_session = get_other_visible_session(orientation_angle_to_other_session, current_fov)\n",
    "    \n",
    "    e[i+1] = probability_win_trial_conditioned_on_other_visibility(trial_list_filtered, other_visible_session,\n",
    "                                                                   player_id,\n",
    "                                                                   inverse_other_visible=False, debug=debug)\n",
    "    f[i+1] = probability_win_trial_conditioned_on_other_visibility(trial_list_filtered, other_visible_session,\n",
    "                                                                   player_id,\n",
    "                                                                   inverse_other_visible=True, debug=debug)\n",
    "    \n",
    "    trial_list_index += 1\n",
    "    \n",
    "    \n",
    "wall_choice_probabilities3 = [e,f]\n"
   ]
  },
  {
   "cell_type": "code",
   "execution_count": 33,
   "id": "a0d0341b",
   "metadata": {},
   "outputs": [
    {
     "name": "stderr",
     "output_type": "stream",
     "text": [
      "d:\\tom\\documents\\swc\\repos\\octagon_analysis\\plotting\\plot_probability_chose_wall.py:57: FutureWarning: \n",
      "\n",
      "Passing `palette` without assigning `hue` is deprecated and will be removed in v0.14.0. Assign the `x` variable to `hue` and set `legend=False` for the same effect.\n",
      "\n",
      "  sns.boxplot(x=\"Condition\", y=\"Probability\", data=df, palette=\"Paired\", width=.8)\n"
     ]
    },
    {
     "data": {
      "image/png": "[encoded data removed]",
      "text/plain": [
       "<Figure size 800x500 with 1 Axes>"
      ]
     },
     "metadata": {},
     "output_type": "display_data"
    }
   ],
   "source": [
    "# plot all players data for P(H | H first vis; Other vis)\n",
    "plot_probability_chose_wall.boxplot_probability_choose_wall(wall_choice_probabilities, ['Other visible', 'Other not visible'], ylabel=\"P(Choose High | first visible)\")"
   ]
  },
  {
   "cell_type": "code",
   "execution_count": 37,
   "id": "6c24d0a5",
   "metadata": {},
   "outputs": [
    {
     "name": "stderr",
     "output_type": "stream",
     "text": [
      "c:\\users\\tomha\\repos\\octagon_analysis\\plotting\\plot_probability_chose_wall.py:56: FutureWarning: \n",
      "\n",
      "Passing `palette` without assigning `hue` is deprecated and will be removed in v0.14.0. Assign the `x` variable to `hue` and set `legend=False` for the same effect.\n",
      "\n",
      "  sns.boxplot(x=\"Condition\", y=\"Probability\", data=df, palette=\"Paired\", width=.8)\n"
     ]
    },
    {
     "data": {
      "image/png": "[encoded data removed]",
      "text/plain": [
       "<Figure size 800x500 with 1 Axes>"
      ]
     },
     "metadata": {},
     "output_type": "display_data"
    }
   ],
   "source": [
    "# plot all players data for P(H | Other vis)\n",
    "plot_probability_chose_wall.boxplot_probability_choose_wall(wall_choice_probabilities2, ['Other visible', 'Other not visible'], ylabel=\"P(Choose High)\")"
   ]
  },
  {
   "cell_type": "code",
   "execution_count": 85,
   "id": "e6d0717e",
   "metadata": {},
   "outputs": [
    {
     "name": "stderr",
     "output_type": "stream",
     "text": [
      "d:\\tom\\documents\\swc\\repos\\octagon_analysis\\plotting\\plot_probability_chose_wall.py:56: FutureWarning: \n",
      "\n",
      "Passing `palette` without assigning `hue` is deprecated and will be removed in v0.14.0. Assign the `x` variable to `hue` and set `legend=False` for the same effect.\n",
      "\n",
      "  sns.boxplot(x=\"Condition\", y=\"Probability\", data=df, palette=\"Paired\", width=.8)\n"
     ]
    },
    {
     "data": {
      "image/png": "[encoded data removed]",
      "text/plain": [
       "<Figure size 800x500 with 1 Axes>"
      ]
     },
     "metadata": {},
     "output_type": "display_data"
    }
   ],
   "source": [
    "# plot all players data for P(Win | Other vis)\n",
    "plot_probability_chose_wall.boxplot_probability_choose_wall(wall_choice_probabilities3, ['Other visible', 'Other not visible'], ylabel=\"P(Win)\")"
   ]
  },
  {
   "cell_type": "code",
   "execution_count": 50,
   "id": "6133aaf3",
   "metadata": {},
   "outputs": [
    {
     "data": {
      "text/plain": [
       "36"
      ]
     },
     "execution_count": 50,
     "metadata": {},
     "output_type": "execute_result"
    }
   ],
   "source": [
    "len(filtered_trail_list_a_list)"
   ]
  },
  {
   "cell_type": "code",
   "execution_count": 88,
   "id": "93077ef4",
   "metadata": {},
   "outputs": [
    {
     "name": "stdout",
     "output_type": "stream",
     "text": [
      "6.0\n"
     ]
    }
   ],
   "source": [
    "print(plt.rcParams['lines.markersize'])"
   ]
  },
  {
   "cell_type": "code",
   "execution_count": 89,
   "id": "f4b4cb0a",
   "metadata": {},
   "outputs": [
    {
     "data": {
      "image/png": "[encoded data removed]",
      "text/plain": [
       "<Figure size 640x480 with 1 Axes>"
      ]
     },
     "metadata": {},
     "output_type": "display_data"
    }
   ],
   "source": [
    "# plot trial start positions for self and other, combining both players in a session, \n",
    "# only for trials with Other visible and H visible at trial start\n",
    "# TODO rewrite cleanly to avoid \n",
    "# TODO repeat for the list of trials where Other is NOT visible\n",
    "# TODO see 250123 octagon meeting notes for how to polish these plots and best use them\n",
    "\n",
    "chosen_walls_session = np.zeros(len(filtered_trail_list_a_list[0]))  # unused for this analysis\n",
    "\n",
    "# trial lists\n",
    "filtered_trail_list_a_list          # all trials with Other and High visible\n",
    "filtered_trial_list_choice_a_list   # all trials with Other not viisble and High visible\n",
    "\n",
    "# starting with player 0, the first index \n",
    "player_id = 0\n",
    "\n",
    "# Run the first trial out of the loop to generate the plotted octagon axes\n",
    "trial = filtered_trail_list_a_list[12][0]\n",
    "(_, _, \n",
    "rotated_flipped_trial, _,\n",
    "chosen_wall) = fr_funcs.get_trajectory_information_trial(chosen_walls_session, trial=trial, player_id=0)\n",
    "ax = fr_funcs.plot_player_start_positions(rotated_flipped_trial, chosen_player=player_id, label=False, axes=None)\n",
    "\n",
    "# now loop the rest of player_id 0 trials\n",
    "for i, trial in enumerate(filtered_trail_list_a_list[12][1:]):\n",
    "    (_, _, \n",
    "    rotated_flipped_trial, _,\n",
    "    chosen_wall) = fr_funcs.get_trajectory_information_trial(chosen_walls_session, trial=trial, player_id=player_id)\n",
    "    ax = fr_funcs.plot_player_start_positions(rotated_flipped_trial, chosen_player=player_id, label=False, axes=ax)\n",
    "# now loop all player_id 1 trials\n",
    "player_id = 1\n",
    "for i, trial in enumerate(filtered_trail_list_a_list[13]):\n",
    "    (_, _, \n",
    "    rotated_flipped_trial, _,\n",
    "    chosen_wall) = fr_funcs.get_trajectory_information_trial(chosen_walls_session, trial=trial, player_id=player_id)\n",
    "    ax = fr_funcs.plot_player_start_positions(rotated_flipped_trial, chosen_player=player_id, label=False, axes=ax)\n"
   ]
  },
  {
   "cell_type": "code",
   "execution_count": 55,
   "id": "076401db",
   "metadata": {},
   "outputs": [
    {
     "data": {
      "text/plain": [
       "13.0"
      ]
     },
     "execution_count": 55,
     "metadata": {},
     "output_type": "execute_result"
    }
   ],
   "source": [
    "filtered_trail_list_a_list[17][0]['data.trialNum'].unique().item()"
   ]
  }
 ],
 "metadata": {
  "kernelspec": {
   "display_name": "octagon_analysis",
   "language": "python",
   "name": "python3"
  },
  "language_info": {
   "codemirror_mode": {
    "name": "ipython",
    "version": 3
   },
   "file_extension": ".py",
   "mimetype": "text/x-python",
   "name": "python",
   "nbconvert_exporter": "python",
   "pygments_lexer": "ipython3",
   "version": "3.12.5"
  }
 },
 "nbformat": 4,
 "nbformat_minor": 5
}
