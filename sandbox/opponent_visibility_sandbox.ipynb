{
 "cells": [
  {
   "cell_type": "code",
   "execution_count": 319,
   "id": "d4992911-7b02-448c-8ee5-c89c228ad2ed",
   "metadata": {},
   "outputs": [
    {
     "name": "stdout",
     "output_type": "stream",
     "text": [
      "The autoreload extension is already loaded. To reload it, use:\n",
      "  %reload_ext autoreload\n"
     ]
    }
   ],
   "source": [
    "%load_ext autoreload\n",
    "%autoreload 2\n",
    "\n",
    "import parse_data.prepare_data as prepare_data\n",
    "import numpy as np\n",
    "import pandas as pd\n",
    "import matplotlib.pyplot as plt\n",
    "import globals\n",
    "import data_strings\n",
    "import data_extraction.extract_trial as extract_trial\n",
    "import utils.cosine_similarity as cosine_similarity\n",
    "import analysis.wall_visibility_and_choice as wall_visibility_and_choice\n",
    "import data_extraction.get_indices as get_indices\n",
    "import plotting.plot_probability_chose_wall as plot_probability_chose_wall"
   ]
  },
  {
   "cell_type": "markdown",
   "id": "7a24b223",
   "metadata": {},
   "source": [
    "### Notebook to identify opponent visibility at trial start "
   ]
  },
  {
   "cell_type": "code",
   "execution_count": 34,
   "id": "011c819a-ab6d-4c42-8ab8-c35d0824fbfa",
   "metadata": {},
   "outputs": [],
   "source": [
    "data_folder = data_strings.DATA_FOLDER\n",
    "json_filenames_all_social = data_strings.JSON_FILENAMES_SOCIAL\n",
    "json_filenames_all_solo = data_strings.JSON_FILENAMES_SOLO"
   ]
  },
  {
   "cell_type": "code",
   "execution_count": 35,
   "id": "c07cb011",
   "metadata": {},
   "outputs": [],
   "source": [
    "json_filenames = json_filenames_all_social[3]"
   ]
  },
  {
   "cell_type": "code",
   "execution_count": 52,
   "id": "167898aa-3073-479e-8eef-6c579c67c7f4",
   "metadata": {
    "scrolled": true
   },
   "outputs": [
    {
     "name": "stdout",
     "output_type": "stream",
     "text": [
      "filepath: D:\\Users\\Tom\\OneDrive\\PhD\\SWC\\data\\fourth_experiments_2410\\241017\\2024-10-17_16-41-38_ZimoElsaSocial.json\n",
      "Loading complete.\n",
      "Preprocessing complete.\n"
     ]
    }
   ],
   "source": [
    "df, trial_list = prepare_data.prepare_data(data_folder, json_filenames, combine=False)"
   ]
  },
  {
   "cell_type": "markdown",
   "id": "bfd07e5e",
   "metadata": {},
   "source": [
    "- Identify opponent position at trial start (so, this must be relative to a player)\n",
    "- Identify angle to opponent at trial start (as with wall alcoves and sections in trajectory_headangle)\n",
    "- Identify whether opponent is in field of view at trial start (as with wall visible)\n",
    "- Filter down the list of trials to only include those in which a wall visility condition was True (either, one wall is visible at slice onset, or both are)\n",
    "- Using the above as a condition to identify probability of choices (include in or take inspiration from wall_visibility_and_choice)\n",
    "- extension: also include whether the opponent is facing towards or away from the player (i.e, identify angle of opponent to player at trial start)\n",
    "\n",
    "Important points: make atomic functions for angle of one player to another, allow easy incorporation of whether opponent in facing player, avoid rewriting\n",
    "code for conditions and probability. Wall separation should be included in these functions, but may not be used"
   ]
  },
  {
   "cell_type": "markdown",
   "id": "4102fec8",
   "metadata": {},
   "source": [
    "##### First functions to write:\n",
    "- Function that takes player id and specified trial and returns the position of the player at trial start (copy from trajectory extraction)\n",
    "- Function that takes player and 'opponent' position at trial start, and the headangle of the player, and finds the angle from player to opponent (copy from trajectory headangle)\n",
    "- Umbrella functions to repeat this process throughout a session for a specific player\n",
    "- Function to filter down the array to only trials that fulfill a certain wall visibility condition (also record trial numbers for easier indexing of the list of \n",
    "  pandas dataframes)\n",
    "- Identification of opponent being within FoV can be done with a boolean operation, no need for a function\n",
    "- Apply function 2 and boolean operation to get whether player is in FoV of opponent (as a condition for the extension)\n",
    "- Function to identify whether the choice condition was fulfilled on each of these \n",
    "- Function to calculate probability of making a certain choice (parameter) given the trials that fulfill the player and wall visibility condition, using the function to identify the trials that a particular choice was made"
   ]
  },
  {
   "cell_type": "code",
   "execution_count": 171,
   "id": "7d28a6a4",
   "metadata": {},
   "outputs": [],
   "source": [
    "def get_player_position_slice_onset(player_id, trial=None, trial_list=None, trial_index=None):\n",
    "    ''' Return the position of the player at trial start.\n",
    "        Takes the player_id and a single trial.'''\n",
    "    \n",
    "    trial = extract_trial.extract_trial(trial=trial, trial_list=trial_list, trial_index=trial_index)\n",
    "\n",
    "    # get slice onset index, referenced to trial start\n",
    "    slice_onset = trial[trial['eventDescription'] == globals.SLICE_ONSET]\n",
    "    slice_onset_index = slice_onset.index - trial.index[0]\n",
    "    \n",
    "    # access the x and y locations stored in the player location dictionary indexed at the current player id\n",
    "    x_coordinate = trial[globals.PLAYER_LOC_DICT[player_id]['xloc']].iloc[slice_onset_index]\n",
    "    y_coordinate = trial[globals.PLAYER_LOC_DICT[player_id]['yloc']].iloc[slice_onset_index]\n",
    "\n",
    "    player_position_coordinates = np.vstack([x_coordinate, y_coordinate])\n",
    "\n",
    "    return player_position_coordinates\n"
   ]
  },
  {
   "cell_type": "code",
   "execution_count": 172,
   "id": "eed5ce3a",
   "metadata": {},
   "outputs": [],
   "source": [
    "def get_player_headangle_vector_slice_onset(player_id, trial=None, trial_list=None, trial_index=None):\n",
    "    ''' Return the head angle of the player at trial start.\n",
    "        Takes the player_id and a single trial. '''\n",
    "    \n",
    "    trial = extract_trial.extract_trial(trial, trial_list, trial_index)\n",
    "    assert isinstance(trial, pd.DataFrame)\n",
    "\n",
    "    # get slice onset index, referenced to trial start\n",
    "    slice_onset = trial[trial['eventDescription'] == globals.SLICE_ONSET]\n",
    "    slice_onset_index = slice_onset.index - trial.index[0]\n",
    "\n",
    "    # find the euler angle for the rotation around the y (Unity vertical) axis\n",
    "    y_rotation = trial[globals.PLAYER_ROT_DICT[player_id]['yrot']].iloc[slice_onset_index]\n",
    "    head_angle = np.deg2rad(y_rotation)\n",
    "    \n",
    "    # convert euler angle into euclidean vector\n",
    "    x_component = np.sin(head_angle)\n",
    "    z_component = np.cos(head_angle)\n",
    "    head_angle_vector = np.vstack([x_component, z_component])\n",
    "\n",
    "    return head_angle_vector\n",
    "\n"
   ]
  },
  {
   "cell_type": "code",
   "execution_count": 173,
   "id": "de62a429",
   "metadata": {},
   "outputs": [],
   "source": [
    "def calculate_vector_norms_for_timepoint(self_other_vector, self_head_angle_vector):\n",
    "    ''' Return the norm of the head angle vector and the self to other vector\n",
    "        Returns scalar head_angle_vector_norm and self_to_other_vector_norm '''\n",
    "\n",
    "    # find norm of headangle vector\n",
    "    head_angle_vector_norm = np.linalg.norm(self_head_angle_vector)\n",
    "    \n",
    "    # find norm of the self-to-other vector\n",
    "    self_to_other_vector_norm = np.linalg.norm(self_other_vector)\n",
    "\n",
    "    return head_angle_vector_norm, self_to_other_vector_norm"
   ]
  },
  {
   "cell_type": "code",
   "execution_count": 174,
   "id": "adeaec72",
   "metadata": {},
   "outputs": [],
   "source": [
    "def calculate_angle_to_opponent_from_positions_and_headangle(self_position, other_position,\n",
    "                                                                 self_head_angle_vector):\n",
    "    ''' Use cosine similarity (angle between vectors, length invariant) to return the angle\n",
    "        between the vector of self head angle and vector from self to other.\n",
    "        Takes the self position, other position, and self head angle vector. '''\n",
    "\n",
    "    # calculate euclidean vector from Self to Other\n",
    "    # self and other position are size 2 vectors (x,y)\n",
    "    self_other_vector = other_position - self_position\n",
    "\n",
    "    # dot product between head angle vector and self-other vector\n",
    "    dot_product_vectors = np.dot(self_other_vector.flatten(), self_head_angle_vector.flatten())\n",
    "\n",
    "    # vector norms for both self_other_vector and self_head_angle_vector \n",
    "    (self_other_vector_norm,\n",
    "      self_head_angle_vector_norm) = calculate_vector_norms_for_timepoint(self_other_vector, \n",
    "                                                                          self_head_angle_vector)\n",
    "    \n",
    "    # cosine similarity between the two vectors\n",
    "    vector_cosine_similarity = cosine_similarity.calculate_cosine_similarity_two_vectors(dot_product_vectors,\n",
    "                                                                                         self_other_vector_norm,\n",
    "                                                                                         self_head_angle_vector_norm)\n",
    "    \n",
    "    # get angle from cosine similarity\n",
    "    theta = cosine_similarity.calculate_angle_from_cosine_similarity(vector_cosine_similarity)\n",
    "\n",
    "    return theta\n",
    "    \n",
    "\n"
   ]
  },
  {
   "cell_type": "code",
   "execution_count": 367,
   "id": "95574a7b",
   "metadata": {},
   "outputs": [],
   "source": [
    "def get_two_player_positions_slice_onset(player_id, trial=None, trial_list=None, trial_index=None):\n",
    "    ''' Return the Self position and Other position for a trial, at slice onset'''\n",
    "\n",
    "    opponent_id = 1 if player_id == 0 else 0\n",
    "\n",
    "    self_position = get_player_position_slice_onset(player_id, trial, trial_list, trial_index)\n",
    "\n",
    "    other_position = get_player_position_slice_onset(opponent_id, trial, trial_list, trial_index)\n",
    "\n",
    "    return self_position, other_position"
   ]
  },
  {
   "cell_type": "code",
   "execution_count": 176,
   "id": "2a1ee2e4",
   "metadata": {},
   "outputs": [],
   "source": [
    "# Umbrella function to find trial start angle identification for a single player for one trial\n",
    "def get_angle_of_opponent_from_player_trial(player_id, trial=None, trial_list=None, trial_index=None):\n",
    "    ''' For a single trial, return the angle from player head direction to opponent player.\n",
    "        Takes the player_id of Self, and the trial. '''\n",
    "\n",
    "    # find self and other positions \n",
    "    self_position, other_position = get_two_player_positions_slice_onset(player_id, trial=trial,\n",
    "                                                                        trial_list=trial_list,\n",
    "                                                                        trial_index=trial_index)\n",
    "\n",
    "    # find general self head angle vector\n",
    "    self_head_angle_vector = get_player_headangle_vector_slice_onset(player_id, trial=trial,\n",
    "                                                                    trial_list=trial_list,\n",
    "                                                                    trial_index=trial_index)\n",
    "\n",
    "    # calculate angle from cosine similarity between self_head_angle_vector and self_to_other vector\n",
    "    # (self_to_other_vector is calculated in this function as the difference between Self and Other position)\n",
    "    theta = calculate_angle_to_opponent_from_positions_and_headangle(self_position,\n",
    "                                                                    other_position,\n",
    "                                                                    self_head_angle_vector)\n",
    "  \n",
    "    return theta\n",
    "    "
   ]
  },
  {
   "cell_type": "code",
   "execution_count": 177,
   "id": "83ecbe3c",
   "metadata": {},
   "outputs": [],
   "source": [
    "# Umbrella function to repeat trial start angle identification for a single player for one session\n",
    "# THIS IS THE MAIN UMBRELLA FUNCTION FOR SESSION USE\n",
    "\n",
    "def get_angle_of_opponent_from_player_session(player_id, trial_list):\n",
    "    ''' For all trials in a session, return the angle from player head direction to opponent player.\n",
    "        Takes the player_id of Self (persistent throughout session) and the trial list. '''\n",
    "    \n",
    "    # get the angle for each trial in session, for a persistent Self player_id\n",
    "    orientation_angle_to_other_session = np.full(len(trial_list), np.nan,  dtype=float)\n",
    "    for i, trial in enumerate(trial_list):\n",
    "    \n",
    "        theta = get_angle_of_opponent_from_player_trial(player_id, trial=trial)\n",
    "\n",
    "        orientation_angle_to_other_session[i] = theta\n",
    "\n",
    "    return orientation_angle_to_other_session\n",
    "    "
   ]
  },
  {
   "cell_type": "code",
   "execution_count": 178,
   "id": "6a802aa7",
   "metadata": {},
   "outputs": [],
   "source": [
    "def get_other_visible_session(orientation_angle_to_other_session, current_fov):\n",
    "    ''' Return a boolean array for whether Other is visible to Self at trials start.\n",
    "        Takes the angle of orientation from self to other as an array for the session (in radians)\n",
    "        and the visible fov for this dataset (in degrees) '''\n",
    "\n",
    "    # convert orientation_angle_to_other_session from radians to degrees to match current_fov\n",
    "    orientation_angle_to_other_session = np.rad2deg(orientation_angle_to_other_session)\n",
    "\n",
    "    # if Other is visible, the angle to orient Other into Self central view must be less than half the current\n",
    "    # field-of-view.\n",
    "    # At the threshold, Other enters visual periphery\n",
    "    other_visible_session = orientation_angle_to_other_session < current_fov/2\n",
    "\n",
    "    return other_visible_session\n"
   ]
  },
  {
   "cell_type": "code",
   "execution_count": 313,
   "id": "68e99e05",
   "metadata": {},
   "outputs": [],
   "source": [
    "def filter_trials_other_visible(trial_list, other_visible_session, inverse=False):\n",
    "    ''' Return a filtered trial list and list of indices from the original trial list that\n",
    "        conform to Other visible to player player_id at trial start.\n",
    "        If inverse=True, return only trials where Other is not visible '''\n",
    "    \n",
    "    if not inverse:\n",
    "        other_visible_trial_indices = np.where(other_visible_session == True)\n",
    "    else:\n",
    "        other_visible_trial_indices = np.where(other_visible_session == False)\n",
    "    \n",
    "    # index the tuple and allow list-compatible indexing\n",
    "    other_visible_trial_indices = other_visible_trial_indices[0].tolist() \n",
    "\n",
    "    # Use a list comprehension to index the trial list with the indices list\n",
    "    trial_list_filtered = [trial_list[i] for i in other_visible_trial_indices]\n",
    "\n",
    "    return trial_list_filtered, other_visible_trial_indices\n",
    "    \n",
    "    "
   ]
  },
  {
   "cell_type": "code",
   "execution_count": 292,
   "id": "0d60eeba",
   "metadata": {},
   "outputs": [],
   "source": [
    "def filter_trials_one_wall_initially_visible(trial_list, player_id, wall_index):\n",
    "    ''' Return a filtered trial list and list of indices from the original trial list that\n",
    "        conform to a single trial wall being visible to player player_id at trial start,\n",
    "        conferred by wall_index (e.g. 0 or 1 for wall1 or wall2) '''\n",
    "    \n",
    "    # find wall visibility for the full session\n",
    "    (wall1_visible_session,\n",
    "    wall2_visible_session) = wall_visibility_and_choice.get_walls_initial_visibility_session(trial_list=trial_list,\n",
    "                                                                    player_id=player_id,\n",
    "                                                                    debug=False, current_fov=110)\n",
    "    \n",
    "    if wall_index == 0:\n",
    "        single_wall_visible_indices = np.where((wall1_visible_session == True) & (wall2_visible_session == False))\n",
    "    elif wall_index == 1:\n",
    "        single_wall_visible_indices = np.where((wall2_visible_session == True) & (wall1_visible_session == False))\n",
    "\n",
    "    # index the tuple and allow list-compatible indexing\n",
    "    single_wall_visible_indices = single_wall_visible_indices[0].tolist() \n",
    "\n",
    "    trial_list_filtered = [trial_list[i] for i in single_wall_visible_indices]\n",
    "\n",
    "    return trial_list_filtered, single_wall_visible_indices\n"
   ]
  },
  {
   "cell_type": "code",
   "execution_count": 181,
   "id": "208b0e4c",
   "metadata": {},
   "outputs": [],
   "source": [
    "def filter_trials_both_walls_initially_visible(trial_list, player_id):\n",
    "    ''' Return a filtered trial list and list of indices from the original trial list that\n",
    "        conform to both trial walls being visible to player player_id at trial start. '''\n",
    "    \n",
    "    # find wall visibility for the full session\n",
    "    (wall1_visible_session,\n",
    "    wall2_visible_session) = wall_visibility_and_choice.get_walls_initial_visibility_session(trial_list=trial_list,\n",
    "                                                                    player_id=player_id,\n",
    "                                                                    debug=False, current_fov=110)\n",
    "    \n",
    "\n",
    "    both_walls_visible_indices = np.where((wall1_visible_session == True) & (wall2_visible_session == True))\n",
    "    \n",
    "    # index the tuple and allow list-compatible indexing\n",
    "    both_walls_visible_indices = both_walls_visible_indices[0].tolist() \n",
    "\n",
    "    # Use a list comprehension to index the trial list with the indices list\n",
    "    trial_list_filtered = [trial_list[i] for i in both_walls_visible_indices]\n",
    "\n",
    "    return trial_list_filtered, both_walls_visible_indices"
   ]
  },
  {
   "cell_type": "code",
   "execution_count": 49,
   "id": "33ca2b0c",
   "metadata": {},
   "outputs": [],
   "source": [
    "# filter trial list further with visibility of Other\n",
    "\n",
    "# then, work out which trials the player made a certain choice (choose High), use wall_visibility_and_choice\n",
    "\n",
    "# calculate the basic probability\n",
    "\n",
    "# (keep in mind being able to include Other visibility of Self)"
   ]
  },
  {
   "cell_type": "code",
   "execution_count": 182,
   "id": "cc223c37",
   "metadata": {},
   "outputs": [],
   "source": [
    "def filter_trials_player_chose_given_wall(trial_list, player_id, inferred_choice=False, given_wall_index=0):\n",
    "    ''' Return a filtered trial list and list of indices from the original trial list \n",
    "        where player choice (winner + loser, or just winner) aligned with\n",
    "        the given wall index (e.g., 0 for wall1) '''\n",
    "    \n",
    "    # get player choice (wall number) for each trial\n",
    "    # inferred choice can be used here\n",
    "    player_choice = wall_visibility_and_choice.get_player_wall_choice(trial_list, player_id,\n",
    "                                                                        inferred_choice, debug=False)\n",
    "\n",
    "    # get the truth array for whether the player choice wall aligns with the given wall parameter\n",
    "    given_wall_chosen_session = get_indices.was_given_wall_chosen(trial_list, player_choice,\n",
    "                                                                  given_wall_index)\n",
    "    \n",
    "    # find the indices of the trials in trial_list where the given wall was chosen by player player_id\n",
    "    given_wall_chosen_indices = np.where(given_wall_chosen_session == True)\n",
    "    \n",
    "    # index the tuple and allow list-compatible indexing\n",
    "    given_wall_chosen_indices = given_wall_chosen_indices[0].tolist()\n",
    "\n",
    "    # Use a list comprehension to index the trial list with the indices list\n",
    "    trial_list_filtered = [trial_list[i] for i in given_wall_chosen_indices]\n",
    "\n",
    "    # return filtered trial_list, and list of indices with which to index the original list\n",
    "    return trial_list_filtered, given_wall_chosen_indices\n",
    "    \n"
   ]
  },
  {
   "cell_type": "code",
   "execution_count": 338,
   "id": "e8dd0382",
   "metadata": {},
   "outputs": [],
   "source": [
    "def calculate_probability_choose_wall(trial_list, trial_list_choice_filtered):\n",
    "    ''' Given a trial list (pre-filtered, but not for choice), calculate the probability that \n",
    "        a player will choose a given wall value as the proportion of trials from the trial\n",
    "        list in which the player chose the wall value.\n",
    "        More complex use of this function could involve e.g. filtering the trial list for \n",
    "        trials where Low was first seen and the Opponent is visible, and then further filtering\n",
    "        for player choice being 'Low', to find probability of (choose Low | first visible) under the\n",
    "        condition of Other visibility at trial start. '''\n",
    "        \n",
    "    \n",
    "    # use the length of the trial list pre-choice filtering, and the length of the trial list post-choice\n",
    "    # filtering (e.g. with filter_trials_player_chose_given_wall) to calculate the proportion of \n",
    "    # relevant trials that a player chose a specific wall\n",
    "    try:\n",
    "        probability_chose_wall = len(trial_list_choice_filtered)/len(trial_list)\n",
    "    except ZeroDivisionError:\n",
    "        probability_chose_wall = np.nan\n",
    "\n",
    "    return probability_chose_wall\n",
    "    \n",
    "    "
   ]
  },
  {
   "cell_type": "markdown",
   "id": "fdb7ed41",
   "metadata": {},
   "source": [
    "### Sandbox-y"
   ]
  },
  {
   "cell_type": "code",
   "execution_count": 147,
   "id": "7d9c8cc5",
   "metadata": {},
   "outputs": [],
   "source": [
    "wall_sep=None\n",
    "trial_type = globals.HIGH_LOW\n",
    "player_id = 0\n"
   ]
  },
  {
   "cell_type": "code",
   "execution_count": 148,
   "id": "adaa1e67",
   "metadata": {},
   "outputs": [],
   "source": [
    "# filter the trial list for trialtype and wallsep\n",
    "\n",
    "# filter trial list for HighLow trialtype\n",
    "trial_indices = get_indices.get_trials_trialtype(trial_list, trial_type=trial_type)\n",
    "trial_list_filtered = [trial_list[i] for i in trial_indices]\n",
    "\n",
    "# filter trial list for wall separations if specified\n",
    "if wall_sep:\n",
    "    trial_indices = get_indices.get_trials_with_wall_sep(trial_list_filtered, wall_sep=wall_sep)\n",
    "    trial_list_filtered = [trial_list_filtered[i] for i in trial_indices]\n"
   ]
  },
  {
   "cell_type": "code",
   "execution_count": 259,
   "id": "3c667429",
   "metadata": {},
   "outputs": [],
   "source": [
    "trial_list_one = [trial_list_filtered[0]]\n",
    "sandbox_trial_list = trial_list_filtered"
   ]
  },
  {
   "cell_type": "code",
   "execution_count": 260,
   "id": "2b81c2db",
   "metadata": {},
   "outputs": [
    {
     "data": {
      "text/plain": [
       "array([[-0.38454914],\n",
       "       [ 0.92310452]])"
      ]
     },
     "execution_count": 260,
     "metadata": {},
     "output_type": "execute_result"
    }
   ],
   "source": [
    "head_angle_vector = get_player_headangle_vector_slice_onset(player_id, trial_list=sandbox_trial_list, trial_index=0)\n",
    "head_angle_vector"
   ]
  },
  {
   "cell_type": "code",
   "execution_count": 261,
   "id": "c7011020",
   "metadata": {},
   "outputs": [
    {
     "data": {
      "text/plain": [
       "(array([[1.18000007],\n",
       "        [0.        ]]),\n",
       " array([[1.50555205],\n",
       "        [1.2378962 ]]))"
      ]
     },
     "execution_count": 261,
     "metadata": {},
     "output_type": "execute_result"
    }
   ],
   "source": [
    "self_position, other_position = get_two_player_positions_slice_onset(player_id, trial_list=sandbox_trial_list, trial_index=0)\n",
    "self_position, other_position"
   ]
  },
  {
   "cell_type": "code",
   "execution_count": 262,
   "id": "7826b377",
   "metadata": {},
   "outputs": [
    {
     "data": {
      "text/plain": [
       "array([ 37.35021789,  54.72790746,   9.28596822, 158.04598611,\n",
       "       136.67858989,  22.8537495 ,  44.94825566,  42.53329517,\n",
       "       149.3236798 , 112.45462381, 148.31612798,  20.35347853,\n",
       "        33.86543548, 143.70145699,  89.16332914,   6.79913893,\n",
       "        85.64387268,  70.94987251,  31.54975424,  31.90981187,\n",
       "         6.90464665,  73.04375472,  84.5440001 , 124.35419168,\n",
       "       104.65727621,  51.07209183, 129.3780313 , 173.18688427,\n",
       "        44.83891536,  19.22186391,  13.53849471, 109.87667343,\n",
       "         6.33488318,  90.81981646, 143.77141384, 120.46447565,\n",
       "       127.17938918,  99.50725738,  93.20075712,  89.56806717,\n",
       "        76.0560785 , 175.6802073 ,  55.28440407,  65.78230616,\n",
       "        85.21736668,  15.16389511,  87.87495147,  34.04464451,\n",
       "         6.33769394,   3.26082411,  31.79057428, 131.12483473,\n",
       "        80.40413745,  44.52585687,  41.14287831,  50.13530453,\n",
       "        62.56376928,  40.34604198, 175.56220929, 133.75923865,\n",
       "       139.62841947, 133.01811831, 170.44685904,  22.99534877,\n",
       "        50.75696605, 121.26327579,  46.33692411, 176.47604759,\n",
       "        76.05144571,  68.8700379 ,  92.72269648,  69.78556974,\n",
       "         4.20880771, 152.603004  , 138.36266722,  50.4812527 ,\n",
       "        61.87927005, 136.21033737,  80.89675201, 173.73648336,\n",
       "        84.55970711, 156.36017859, 160.46044638,  61.75302509,\n",
       "        53.69852784,  86.37838808,  84.54602543,  24.98758671,\n",
       "       100.51387843,   1.76173715,  56.14630722, 165.78540851,\n",
       "       172.72169575,  73.34068542,  60.73329669,  86.53310196,\n",
       "       178.75939408,  95.14337768, 176.21888982,  50.40971823,\n",
       "        96.80373538,  86.99706439, 124.98503233, 153.72537166,\n",
       "        42.04417607,  77.55163897, 124.24863598, 169.8549734 ,\n",
       "        13.05419298, 179.55484514, 173.06226226, 122.02466144,\n",
       "         8.87035566, 168.14909867, 107.45206695,  90.59081423,\n",
       "        80.93660089,  94.97248433, 109.09285638, 117.91749973,\n",
       "         5.05273658,  29.00894929,  41.53808598,  65.61981373,\n",
       "       163.3367549 ,  26.03660754,  81.44345772, 120.95551207,\n",
       "        29.72555647,   7.1543341 , 170.07948735, 159.71445919,\n",
       "        76.51674563, 129.21445662, 162.46592723, 142.13254984])"
      ]
     },
     "execution_count": 262,
     "metadata": {},
     "output_type": "execute_result"
    }
   ],
   "source": [
    "orientation_angle_to_other_session = get_angle_of_opponent_from_player_session(player_id, sandbox_trial_list)\n",
    "np.rad2deg(orientation_angle_to_other_session)"
   ]
  },
  {
   "cell_type": "code",
   "execution_count": 264,
   "id": "a2f9db92",
   "metadata": {},
   "outputs": [
    {
     "data": {
      "text/plain": [
       "array([ True,  True,  True, False, False,  True,  True,  True, False,\n",
       "       False, False,  True,  True, False, False,  True, False, False,\n",
       "        True,  True,  True, False, False, False, False,  True, False,\n",
       "       False,  True,  True,  True, False,  True, False, False, False,\n",
       "       False, False, False, False, False, False, False, False, False,\n",
       "        True, False,  True,  True,  True,  True, False, False,  True,\n",
       "        True,  True, False,  True, False, False, False, False, False,\n",
       "        True,  True, False,  True, False, False, False, False, False,\n",
       "        True, False, False,  True, False, False, False, False, False,\n",
       "       False, False, False,  True, False, False,  True, False,  True,\n",
       "       False, False, False, False, False, False, False, False, False,\n",
       "        True, False, False, False, False,  True, False, False, False,\n",
       "        True, False, False, False,  True, False, False, False, False,\n",
       "       False, False, False,  True,  True,  True, False, False,  True,\n",
       "       False, False,  True,  True, False, False, False, False, False,\n",
       "       False])"
      ]
     },
     "execution_count": 264,
     "metadata": {},
     "output_type": "execute_result"
    }
   ],
   "source": [
    "other_visible_session = get_other_visible_session(orientation_angle_to_other_session, current_fov=110)\n",
    "other_visible_session"
   ]
  },
  {
   "cell_type": "markdown",
   "id": "67938eff",
   "metadata": {},
   "source": [
    "Walking through the process for getting P(Choose High) for trials where the opponent is visible and High is first seen"
   ]
  },
  {
   "cell_type": "code",
   "execution_count": 288,
   "id": "65c53303",
   "metadata": {},
   "outputs": [
    {
     "data": {
      "text/plain": [
       "44"
      ]
     },
     "execution_count": 288,
     "metadata": {},
     "output_type": "execute_result"
    }
   ],
   "source": [
    "# filter Other initially visible\n",
    "(trial_list_filtered_other_visible,\n",
    "  other_visible_trial_indices) = filter_trials_other_visible(sandbox_trial_list, other_visible_session)\n",
    "len(other_visible_trial_indices)"
   ]
  },
  {
   "cell_type": "code",
   "execution_count": 306,
   "id": "92152342",
   "metadata": {},
   "outputs": [
    {
     "data": {
      "text/plain": [
       "[10, 11, 16, 20, 23, 30, 37, 43]"
      ]
     },
     "execution_count": 306,
     "metadata": {},
     "output_type": "execute_result"
    }
   ],
   "source": [
    "# filter both walls initially visible\n",
    "(trial_list_filtered_both_walls_visible,\n",
    "  both_walls_visible_indices) = filter_trials_both_walls_initially_visible(trial_list_filtered_other_visible, player_id)\n",
    "both_walls_visible_indices"
   ]
  },
  {
   "cell_type": "code",
   "execution_count": 305,
   "id": "07bbc981",
   "metadata": {},
   "outputs": [
    {
     "data": {
      "text/plain": [
       "13"
      ]
     },
     "execution_count": 305,
     "metadata": {},
     "output_type": "execute_result"
    }
   ],
   "source": [
    "# filter high wall initially visible\n",
    "(trial_list_filtered_high_wall_initially_visible,\n",
    "  high_wall_initially_visible_indices) = filter_trials_one_wall_initially_visible(trial_list_filtered_other_visible, player_id, wall_index=0)\n",
    "len(high_wall_initially_visible_indices)"
   ]
  },
  {
   "cell_type": "code",
   "execution_count": 307,
   "id": "c34f7242",
   "metadata": {},
   "outputs": [
    {
     "data": {
      "text/plain": [
       "6"
      ]
     },
     "execution_count": 307,
     "metadata": {},
     "output_type": "execute_result"
    }
   ],
   "source": [
    "(trial_list_filtered_player_choice,\n",
    "  player_chose_given_wall_indices) = filter_trials_player_chose_given_wall(trial_list_filtered_high_wall_initially_visible, player_id,\n",
    "                                                                            inferred_choice=True, given_wall_index=0)\n",
    "len(player_chose_given_wall_indices)"
   ]
  },
  {
   "cell_type": "code",
   "execution_count": 279,
   "id": "49eb5b86",
   "metadata": {},
   "outputs": [
    {
     "data": {
      "text/plain": [
       "(array([nan,  1., nan,  3.,  2., nan,  3.,  6., nan, nan,  6., nan, nan,\n",
       "        nan, nan, nan,  4., nan,  8., nan, nan, nan,  8.,  6., nan, nan,\n",
       "         8., nan,  3.,  5., nan, nan, nan,  8.,  8.,  6., nan, nan, nan,\n",
       "         6., nan,  4., nan, nan, nan, nan,  3.,  3., nan, nan, nan, nan,\n",
       "         1., nan,  3., nan, nan, nan, nan,  6.,  5.,  4., nan, nan, nan,\n",
       "        nan, nan, nan, nan, nan, nan, nan, nan, nan, nan, nan, nan, nan,\n",
       "        nan,  4., nan, nan,  4., nan, nan,  6.,  5., nan, nan,  5., nan,\n",
       "        nan, nan, nan, nan, nan, nan,  5., nan,  5., nan,  3.,  4.,  4.,\n",
       "        nan, nan,  7., nan, nan, nan, nan,  1.,  6.,  1., nan,  2.,  8.,\n",
       "        nan, nan, nan,  8., nan, nan, nan, nan, nan, nan,  8., nan, nan,\n",
       "        nan, nan,  1., nan, nan, nan]),\n",
       " array([5., 1., 3., 3., 2., 7., 3., 6., 8., 1., 7., 1., 1., 6., 2., 7., 8.,\n",
       "        2., 8., 4., 5., 8., 8., 2., 2., 2., 8., 4., 7., 5., 4., 4., 6., 8.,\n",
       "        8., 6., 6., 8., 3., 5., 7., 8., 4., 8., 5., 7., 3., 1., 4., 3., 1.,\n",
       "        8., 7., 7., 3., 8., 8., 6., 1., 6., 5., 2., 8., 5., 1., 3., 1., 6.,\n",
       "        7., 7., 3., 1., 6., 1., 8., 6., 4., 5., 8., 4., 3., 1., 8., 4., 1.,\n",
       "        6., 1., 5., 3., 5., 8., 7., 3., 6., 6., 7., 2., 1., 2., 5., 3., 7.,\n",
       "        4., 4., 8., 2., 7., 6., 5., 3., 5., 7., 6., 1., 1., 8., 8., 6., 4.,\n",
       "        4., 8., 3., 2., 4., 3., 6., 7., 8., 1., 7., 1., 3., 1., 4., 7., 4.]))"
      ]
     },
     "execution_count": 279,
     "metadata": {},
     "output_type": "execute_result"
    }
   ],
   "source": [
    "# test the player choice function is working correctly\n",
    "\n",
    "player_choice = wall_visibility_and_choice.get_player_wall_choice(sandbox_trial_list, player_id,\n",
    "                                                                    inferred_choice=False, debug=False)\n",
    "\n",
    "high_wall = np.full(len(sandbox_trial_list), np.nan)\n",
    "for i, trial in enumerate(sandbox_trial_list):\n",
    "    high_wall[i] = get_indices.get_walls(trial)[0]\n",
    "\n",
    "player_choice, high_wall"
   ]
  },
  {
   "cell_type": "code",
   "execution_count": 308,
   "id": "88dd710d",
   "metadata": {},
   "outputs": [
    {
     "data": {
      "text/plain": [
       "0.46153846153846156"
      ]
     },
     "execution_count": 308,
     "metadata": {},
     "output_type": "execute_result"
    }
   ],
   "source": [
    "probability_chose_wall = calculate_probability_choose_wall(trial_list_filtered_high_wall_initially_visible, trial_list_filtered_player_choice)\n",
    "probability_chose_wall"
   ]
  },
  {
   "cell_type": "code",
   "execution_count": 331,
   "id": "c0d06733",
   "metadata": {},
   "outputs": [],
   "source": [
    "# umbrella function to compare probabilities of P(High | first visible) between Other visible and Other not visible\n",
    "\n",
    "def probability_chose_wall_conditioned_on_wall_and_other_visibility(trial_list, other_visible_session, player_id=0, visible_wall_index=0,\n",
    "                 chosen_wall_index=0, inferred_choice=True, inverse_other_visible=False):\n",
    "    \n",
    "    # filter Other initially visible\n",
    "    (trial_list_filtered_other_visible,\n",
    "    other_visible_trial_indices) = filter_trials_other_visible(trial_list, other_visible_session,\n",
    "                                                               inverse=inverse_other_visible)\n",
    "    print(f\"Len other_visible_trial_indices: {len(other_visible_trial_indices)}\")\n",
    "\n",
    "    # filter Other initially visible with high wall initially visible\n",
    "    (trial_list_filtered_high_wall_initially_visible,\n",
    "    high_wall_initially_visible_indices) = filter_trials_one_wall_initially_visible(trial_list_filtered_other_visible, player_id,\n",
    "                                                                                     wall_index=visible_wall_index)\n",
    "    print(f\"Len high_wall_initially_visible_indinces: {len(high_wall_initially_visible_indices)}\")\n",
    "\n",
    "    # filter Other-visible, High initially visible, with player_choice aligning with given wall (given_wall_index)\n",
    "    (trial_list_filtered_player_choice,\n",
    "    player_chose_given_wall_indices) = filter_trials_player_chose_given_wall(trial_list_filtered_high_wall_initially_visible, player_id,\n",
    "                                                                                inferred_choice,\n",
    "                                                                                  given_wall_index=chosen_wall_index)\n",
    "    print(f\"Len player_chose_given_wall_indices: {len(player_chose_given_wall_indices)}\")\n",
    "\n",
    "    # find the probability of the player choosing the given wall index, considering only trials that are filtered for \n",
    "    # Other visibility and initial wall visibility\n",
    "    probability_chose_wall = calculate_probability_choose_wall(trial_list_filtered_high_wall_initially_visible, trial_list_filtered_player_choice)\n",
    "\n",
    "    return probability_chose_wall\n",
    "\n",
    "    "
   ]
  },
  {
   "cell_type": "code",
   "execution_count": 376,
   "id": "e9d8da0c",
   "metadata": {},
   "outputs": [],
   "source": [
    "# umbrella function to compare probabilities of P(High | first visible) between Other visible and Other not visible\n",
    "\n",
    "def probability_chose_wall_conditioned_on_other_visibility(trial_list, other_visible_session, player_id=0,\n",
    "                 chosen_wall_index=0, inferred_choice=True, inverse_other_visible=False):\n",
    "    \n",
    "    # filter Other initially visible\n",
    "    (trial_list_filtered_other_visible,\n",
    "    other_visible_trial_indices) = filter_trials_other_visible(trial_list, other_visible_session,\n",
    "                                                               inverse=inverse_other_visible)\n",
    "    print(f\"Len other_visible_trial_indices: {len(other_visible_trial_indices)}\")\n",
    "\n",
    "    # filter Other-visible with player_choice aligning with given wall (given_wall_index)\n",
    "    (trial_list_filtered_player_choice,\n",
    "    player_chose_given_wall_indices) = filter_trials_player_chose_given_wall(trial_list_filtered_other_visible, player_id,\n",
    "                                                                                inferred_choice,\n",
    "                                                                                  given_wall_index=chosen_wall_index)\n",
    "    print(f\"Len player_chose_given_wall_indices: {len(player_chose_given_wall_indices)}\")\n",
    "\n",
    "    # find the probability of the player choosing the given wall index, considering only trials that are filtered for \n",
    "    # Other visibility and initial wall visibility\n",
    "    probability_chose_wall = calculate_probability_choose_wall(trial_list_filtered_other_visible, trial_list_filtered_player_choice)\n",
    "\n",
    "    return probability_chose_wall\n",
    "\n",
    "    "
   ]
  },
  {
   "cell_type": "code",
   "execution_count": null,
   "id": "f438d298",
   "metadata": {},
   "outputs": [
    {
     "name": "stdout",
     "output_type": "stream",
     "text": [
      "Len other_visible_trial_indices: 44\n",
      "Len high_wall_initially_visible_indinces: 13\n",
      "Len player_chose_given_wall_indices: 6\n",
      "Len other_visible_trial_indices: 92\n",
      "Len high_wall_initially_visible_indinces: 24\n",
      "Len player_chose_given_wall_indices: 22\n"
     ]
    }
   ],
   "source": [
    "a = probability_chose_wall_conditioned_on_wall_and_other_visibility(sandbox_trial_list, other_visible_session,\n",
    "                                                                     inverse_other_visible=False)\n",
    "b = probability_chose_wall_conditioned_on_wall_and_other_visibility(sandbox_trial_list, other_visible_session,\n",
    "                                                                     inverse_other_visible=True)\n",
    "wall_choice_probabilities = np.array([a,b])"
   ]
  },
  {
   "cell_type": "code",
   "execution_count": 328,
   "id": "2061db02",
   "metadata": {},
   "outputs": [
    {
     "name": "stderr",
     "output_type": "stream",
     "text": [
      "d:\\tom\\documents\\swc\\repos\\octagon_analysis\\plotting\\plot_probability_chose_wall.py:56: FutureWarning: \n",
      "\n",
      "Passing `palette` without assigning `hue` is deprecated and will be removed in v0.14.0. Assign the `x` variable to `hue` and set `legend=False` for the same effect.\n",
      "\n",
      "  sns.boxplot(x=\"Condition\", y=\"Probability\", data=df, palette=\"Paired\", width=.8)\n"
     ]
    },
    {
     "data": {
      "image/png": "[encoded data removed]",
      "text/plain": [
       "<Figure size 800x500 with 1 Axes>"
      ]
     },
     "metadata": {},
     "output_type": "display_data"
    }
   ],
   "source": [
    "plot_probability_chose_wall.boxplot_probability_choose_wall(wall_choice_probabilities, ['Other visible', 'Other not visible'], ylabel=\"P(Choose High | first visible)\")"
   ]
  },
  {
   "cell_type": "code",
   "execution_count": 329,
   "id": "95385fd8",
   "metadata": {},
   "outputs": [
    {
     "name": "stdout",
     "output_type": "stream",
     "text": [
      "filepath: D:\\Users\\Tom\\OneDrive\\PhD\\SWC\\data\\first_experiments_2409\\240913\\2024-09-13_11-31-00_YansuJerrySocial.json\n",
      "Data is from period before 2024-09-13 00:00:00\n",
      "Running dataframe through playerinfo_playerposition_conversion.\n",
      "Loading complete.\n",
      "Preprocessing complete.\n",
      "filepath: D:\\Users\\Tom\\OneDrive\\PhD\\SWC\\data\\second_experiments_2409\\240927\\2024-09-27_14-25-20_SaraEmilySocial.json\n",
      "Loading complete.\n",
      "Preprocessing complete.\n",
      "filepath: D:\\Users\\Tom\\OneDrive\\PhD\\SWC\\data\\third_experiments_2410\\241017\\2024-10-17_14-28-40_ShamirAbigailSocial.json\n",
      "Loading complete.\n",
      "Preprocessing complete.\n",
      "filepath: D:\\Users\\Tom\\OneDrive\\PhD\\SWC\\data\\fourth_experiments_2410\\241017\\2024-10-17_16-41-38_ZimoElsaSocial.json\n",
      "Loading complete.\n",
      "Preprocessing complete.\n",
      "filepath: D:\\Users\\Tom\\OneDrive\\PhD\\SWC\\data\\fifth_experiments_241112\\2024-11-12_13-31-14_KhadijaWendySocial.json\n",
      "Loading complete.\n",
      "Preprocessing complete.\n",
      "filepath: D:\\Users\\Tom\\OneDrive\\PhD\\SWC\\data\\sixth_experiments_241112\\2024-11-12_15-23-24_FrancescaSenSzeSocial.json\n",
      "Loading complete.\n",
      "Preprocessing complete.\n",
      "filepath: D:\\Users\\Tom\\OneDrive\\PhD\\SWC\\data\\seventh_experiments_241113\\2024-11-13_14-18-54_NasiaRyanSocial.json\n",
      "Loading complete.\n",
      "Preprocessing complete.\n",
      "filepath: D:\\Users\\Tom\\OneDrive\\PhD\\SWC\\data\\eighth_experiments_241113\\2024-11-13_15-28-07_YichuanHoiSocial.json\n",
      "Loading complete.\n",
      "Preprocessing complete.\n",
      "filepath: D:\\Users\\Tom\\OneDrive\\PhD\\SWC\\data\\ninth_experiments_241119\\2024-11-19_14-24-49_AmyXinyuanSocial.json\n",
      "Loading complete.\n",
      "Preprocessing complete.\n",
      "filepath: D:\\Users\\Tom\\OneDrive\\PhD\\SWC\\data\\tenth_experiments_241119\\2024-11-19_15-22-56_SophiaHocineSocial.json\n",
      "Loading complete.\n",
      "Preprocessing complete.\n",
      "filepath: D:\\Users\\Tom\\OneDrive\\PhD\\SWC\\data\\eleventh_experiments_241120\\2024-11-20_14-17-44_JasonRahulSocial.json\n",
      "Loading complete.\n",
      "Preprocessing complete.\n",
      "filepath: D:\\Users\\Tom\\OneDrive\\PhD\\SWC\\data\\twelfth_experiments_241120\\2024-11-20_15-16-21_SunnyVinceSocial.json\n",
      "Loading complete.\n",
      "Preprocessing complete.\n",
      "filepath: D:\\Users\\Tom\\OneDrive\\PhD\\SWC\\data\\241203_1\\2024-12-03_14-31-51_PaulNicoleSocial.json\n",
      "Loading complete.\n",
      "Preprocessing complete.\n",
      "filepath: D:\\Users\\Tom\\OneDrive\\PhD\\SWC\\data\\241203_2\\2024-12-03_15-27-28_EstherBowimSocial.json\n",
      "Loading complete.\n",
      "Preprocessing complete.\n",
      "filepath: D:\\Users\\Tom\\OneDrive\\PhD\\SWC\\data\\241210_1\\2024-12-10_14-21-17_TaqwaTasSocial.json\n",
      "Loading complete.\n",
      "Preprocessing complete.\n",
      "filepath: D:\\Users\\Tom\\OneDrive\\PhD\\SWC\\data\\241210_2\\2024-12-10_15-20-11_RyanRoseSocial.json\n",
      "Loading complete.\n",
      "Preprocessing complete.\n",
      "filepath: D:\\Users\\Tom\\OneDrive\\PhD\\SWC\\data\\241219_1\\2024-12-19_15-28-24_JingjingYeungSocial.json\n",
      "Loading complete.\n",
      "Preprocessing complete.\n",
      "filepath: D:\\Users\\Tom\\OneDrive\\PhD\\SWC\\data\\241220_1\\2024-12-20_17-44-50_KirtanChristopherSocial.json\n",
      "Loading complete.\n",
      "Preprocessing complete.\n"
     ]
    }
   ],
   "source": [
    "# repeat for all datasets\n",
    "df_all, trial_list_all = prepare_data.prepare_data(data_folder, json_filenames_all_social, combine=False) "
   ]
  },
  {
   "cell_type": "code",
   "execution_count": 355,
   "id": "e8fc2605",
   "metadata": {},
   "outputs": [
    {
     "data": {
      "text/plain": [
       "array([0.76923077, 0.66666667, 0.75      , 0.91666667, 0.66666667,\n",
       "       1.        , 1.        , 0.77777778, 0.52631579, 0.92857143,\n",
       "       1.        , 0.58333333, 1.        , 0.88235294, 0.76190476,\n",
       "       0.77272727, 0.71428571,        nan])"
      ]
     },
     "execution_count": 355,
     "metadata": {},
     "output_type": "execute_result"
    }
   ],
   "source": [
    "bb"
   ]
  },
  {
   "cell_type": "code",
   "execution_count": null,
   "id": "135442d0",
   "metadata": {},
   "outputs": [],
   "source": [
    "aaa = np.full(len(trial_list_all), np.nan)\n",
    "bbb = np.full(len(trial_list_all), np.nan)\n",
    "\n",
    "for i, trial_list in enumerate(trial_list_all):\n",
    "\n",
    "    # filter trial list for HighLow trialtype\n",
    "    trial_indices = get_indices.get_trials_trialtype(trial_list, trial_type=trial_type)\n",
    "    trial_list_filtered = [trial_list[i] for i in trial_indices]\n",
    "\n",
    "    player_id = 1\n",
    "    # get Other visibility for this trial list\n",
    "    orientation_angle_to_other_session = get_angle_of_opponent_from_player_session(player_id, trial_list_filtered)\n",
    "    other_visible_session = get_other_visible_session(orientation_angle_to_other_session, current_fov=110)\n",
    "    \n",
    "    aaa[i] = probability_chose_wall_conditioned_on_wall_and_other_visibility(trial_list_filtered, other_visible_session,\n",
    "                                                                        inverse_other_visible=False)\n",
    "    bbb[i] = probability_chose_wall_conditioned_on_wall_and_other_visibility(trial_list_filtered, other_visible_session,\n",
    "                                                                     inverse_other_visible=True)\n",
    "    \n",
    "wall_choice_probabilities = [aaa,bbb]"
   ]
  },
  {
   "cell_type": "code",
   "execution_count": 365,
   "id": "1721902f",
   "metadata": {},
   "outputs": [
    {
     "data": {
      "text/plain": [
       "array([0.76923077, 0.66666667, 0.75      , 0.91666667, 0.66666667,\n",
       "       1.        , 1.        , 0.77777778, 0.52631579, 0.92857143,\n",
       "       1.        , 0.58333333, 1.        , 0.88235294, 0.76190476,\n",
       "       0.77272727, 0.71428571,        nan])"
      ]
     },
     "execution_count": 365,
     "metadata": {},
     "output_type": "execute_result"
    }
   ],
   "source": [
    "bb"
   ]
  },
  {
   "cell_type": "code",
   "execution_count": null,
   "id": "e6f4825c",
   "metadata": {},
   "outputs": [],
   "source": [
    "aa = np.full(len(trial_list_all), np.nan)\n",
    "bb = np.full(len(trial_list_all), np.nan)\n",
    "\n",
    "for i, trial_list in enumerate(trial_list_all):\n",
    "\n",
    "    # filter trial list for HighLow trialtype\n",
    "    trial_indices = get_indices.get_trials_trialtype(trial_list, trial_type=trial_type)\n",
    "    trial_list_filtered = [trial_list[i] for i in trial_indices]\n",
    "\n",
    "    player_id = 0\n",
    "    # get Other visibility for this trial list\n",
    "    orientation_angle_to_other_session = get_angle_of_opponent_from_player_session(player_id, trial_list_filtered)\n",
    "    other_visible_session = get_other_visible_session(orientation_angle_to_other_session, current_fov=110)\n",
    "    \n",
    "    aa[i] = probability_chose_wall_conditioned_on_wall_and_other_visibility(trial_list_filtered, other_visible_session,\n",
    "                                                                        inverse_other_visible=False)\n",
    "    bb[i] = probability_chose_wall_conditioned_on_wall_and_other_visibility(trial_list_filtered, other_visible_session,\n",
    "                                                                     inverse_other_visible=True)\n",
    "    \n",
    "wall_choice_probabilities = [aa,bb]"
   ]
  },
  {
   "cell_type": "code",
   "execution_count": 371,
   "id": "3da7fc2a",
   "metadata": {},
   "outputs": [
    {
     "name": "stdout",
     "output_type": "stream",
     "text": [
      "Len other_visible_trial_indices: 44\n",
      "Len high_wall_initially_visible_indinces: 12\n",
      "Len player_chose_given_wall_indices: 8\n",
      "Len other_visible_trial_indices: 58\n",
      "Len high_wall_initially_visible_indinces: 13\n",
      "Len player_chose_given_wall_indices: 10\n",
      "Len other_visible_trial_indices: 63\n",
      "Len high_wall_initially_visible_indinces: 16\n",
      "Len player_chose_given_wall_indices: 11\n",
      "Len other_visible_trial_indices: 39\n",
      "Len high_wall_initially_visible_indinces: 9\n",
      "Len player_chose_given_wall_indices: 7\n",
      "Len other_visible_trial_indices: 7\n",
      "Len high_wall_initially_visible_indinces: 5\n",
      "Len player_chose_given_wall_indices: 1\n",
      "Len other_visible_trial_indices: 72\n"
     ]
    },
    {
     "name": "stderr",
     "output_type": "stream",
     "text": [
      "d:\\tom\\documents\\swc\\repos\\octagon_analysis\\trajectory_analysis\\trajectory_vectors.py:321: RuntimeWarning: invalid value encountered in scalar divide\n",
      "  cosine_similarity_this_wall = dot_product[wall_num]/(player_to_alcove_vector_norms[wall_num] * player_vector_norm)\n"
     ]
    },
    {
     "name": "stdout",
     "output_type": "stream",
     "text": [
      "Len high_wall_initially_visible_indinces: 12\n",
      "Len player_chose_given_wall_indices: 8\n",
      "Len other_visible_trial_indices: 30\n",
      "Len high_wall_initially_visible_indinces: 7\n",
      "Len player_chose_given_wall_indices: 5\n",
      "Len other_visible_trial_indices: 49\n",
      "Len high_wall_initially_visible_indinces: 10\n",
      "Len player_chose_given_wall_indices: 4\n"
     ]
    },
    {
     "name": "stderr",
     "output_type": "stream",
     "text": [
      "d:\\tom\\documents\\swc\\repos\\octagon_analysis\\trajectory_analysis\\trajectory_vectors.py:321: RuntimeWarning: invalid value encountered in scalar divide\n",
      "  cosine_similarity_this_wall = dot_product[wall_num]/(player_to_alcove_vector_norms[wall_num] * player_vector_norm)\n"
     ]
    },
    {
     "name": "stdout",
     "output_type": "stream",
     "text": [
      "Len other_visible_trial_indices: 37\n",
      "Len high_wall_initially_visible_indinces: 9\n",
      "Len player_chose_given_wall_indices: 5\n",
      "Len other_visible_trial_indices: 56\n"
     ]
    },
    {
     "name": "stderr",
     "output_type": "stream",
     "text": [
      "d:\\tom\\documents\\swc\\repos\\octagon_analysis\\trajectory_analysis\\trajectory_vectors.py:321: RuntimeWarning: invalid value encountered in scalar divide\n",
      "  cosine_similarity_this_wall = dot_product[wall_num]/(player_to_alcove_vector_norms[wall_num] * player_vector_norm)\n",
      "d:\\tom\\documents\\swc\\repos\\octagon_analysis\\analysis\\loser_inferred_choice.py:47: RuntimeWarning: Mean of empty slice\n",
      "  return np.argmax(np.nanmean(cosine_similarity_trajectory, axis=1))\n",
      "d:\\tom\\documents\\swc\\repos\\octagon_analysis\\analysis\\loser_inferred_choice.py:149: RuntimeWarning: Mean of empty slice\n",
      "  highest_alignment_val = np.max(np.nanmean(cosine_similarity_trajectory, axis=1))\n"
     ]
    },
    {
     "name": "stdout",
     "output_type": "stream",
     "text": [
      "Len high_wall_initially_visible_indinces: 12\n",
      "Len player_chose_given_wall_indices: 9\n",
      "Len other_visible_trial_indices: 36\n",
      "Len high_wall_initially_visible_indinces: 8\n",
      "Len player_chose_given_wall_indices: 2\n",
      "Len other_visible_trial_indices: 57\n"
     ]
    },
    {
     "name": "stderr",
     "output_type": "stream",
     "text": [
      "d:\\tom\\documents\\swc\\repos\\octagon_analysis\\trajectory_analysis\\trajectory_vectors.py:321: RuntimeWarning: invalid value encountered in scalar divide\n",
      "  cosine_similarity_this_wall = dot_product[wall_num]/(player_to_alcove_vector_norms[wall_num] * player_vector_norm)\n",
      "d:\\tom\\documents\\swc\\repos\\octagon_analysis\\analysis\\loser_inferred_choice.py:47: RuntimeWarning: Mean of empty slice\n",
      "  return np.argmax(np.nanmean(cosine_similarity_trajectory, axis=1))\n",
      "d:\\tom\\documents\\swc\\repos\\octagon_analysis\\analysis\\loser_inferred_choice.py:149: RuntimeWarning: Mean of empty slice\n",
      "  highest_alignment_val = np.max(np.nanmean(cosine_similarity_trajectory, axis=1))\n"
     ]
    },
    {
     "name": "stdout",
     "output_type": "stream",
     "text": [
      "Len high_wall_initially_visible_indinces: 13\n",
      "Len player_chose_given_wall_indices: 12\n",
      "Len other_visible_trial_indices: 44\n",
      "Len high_wall_initially_visible_indinces: 13\n",
      "Len player_chose_given_wall_indices: 6\n",
      "Len other_visible_trial_indices: 92\n",
      "Len high_wall_initially_visible_indinces: 24\n",
      "Len player_chose_given_wall_indices: 22\n"
     ]
    },
    {
     "name": "stderr",
     "output_type": "stream",
     "text": [
      "d:\\tom\\documents\\swc\\repos\\octagon_analysis\\trajectory_analysis\\trajectory_vectors.py:321: RuntimeWarning: invalid value encountered in scalar divide\n",
      "  cosine_similarity_this_wall = dot_product[wall_num]/(player_to_alcove_vector_norms[wall_num] * player_vector_norm)\n",
      "d:\\tom\\documents\\swc\\repos\\octagon_analysis\\analysis\\loser_inferred_choice.py:47: RuntimeWarning: Mean of empty slice\n",
      "  return np.argmax(np.nanmean(cosine_similarity_trajectory, axis=1))\n",
      "d:\\tom\\documents\\swc\\repos\\octagon_analysis\\analysis\\loser_inferred_choice.py:149: RuntimeWarning: Mean of empty slice\n",
      "  highest_alignment_val = np.max(np.nanmean(cosine_similarity_trajectory, axis=1))\n"
     ]
    },
    {
     "name": "stdout",
     "output_type": "stream",
     "text": [
      "Len other_visible_trial_indices: 47\n",
      "Len high_wall_initially_visible_indinces: 14\n",
      "Len player_chose_given_wall_indices: 11\n",
      "Len other_visible_trial_indices: 89\n"
     ]
    },
    {
     "name": "stderr",
     "output_type": "stream",
     "text": [
      "d:\\tom\\documents\\swc\\repos\\octagon_analysis\\trajectory_analysis\\trajectory_vectors.py:321: RuntimeWarning: invalid value encountered in scalar divide\n",
      "  cosine_similarity_this_wall = dot_product[wall_num]/(player_to_alcove_vector_norms[wall_num] * player_vector_norm)\n",
      "d:\\tom\\documents\\swc\\repos\\octagon_analysis\\analysis\\loser_inferred_choice.py:47: RuntimeWarning: Mean of empty slice\n",
      "  return np.argmax(np.nanmean(cosine_similarity_trajectory, axis=1))\n",
      "d:\\tom\\documents\\swc\\repos\\octagon_analysis\\analysis\\loser_inferred_choice.py:149: RuntimeWarning: Mean of empty slice\n",
      "  highest_alignment_val = np.max(np.nanmean(cosine_similarity_trajectory, axis=1))\n"
     ]
    },
    {
     "name": "stdout",
     "output_type": "stream",
     "text": [
      "Len high_wall_initially_visible_indinces: 23\n",
      "Len player_chose_given_wall_indices: 17\n",
      "Len other_visible_trial_indices: 54\n",
      "Len high_wall_initially_visible_indinces: 13\n",
      "Len player_chose_given_wall_indices: 7\n",
      "Len other_visible_trial_indices: 23\n",
      "Len high_wall_initially_visible_indinces: 3\n",
      "Len player_chose_given_wall_indices: 2\n"
     ]
    },
    {
     "name": "stderr",
     "output_type": "stream",
     "text": [
      "d:\\tom\\documents\\swc\\repos\\octagon_analysis\\trajectory_analysis\\trajectory_vectors.py:321: RuntimeWarning: invalid value encountered in scalar divide\n",
      "  cosine_similarity_this_wall = dot_product[wall_num]/(player_to_alcove_vector_norms[wall_num] * player_vector_norm)\n"
     ]
    },
    {
     "name": "stdout",
     "output_type": "stream",
     "text": [
      "Len other_visible_trial_indices: 22\n",
      "Len high_wall_initially_visible_indinces: 7\n",
      "Len player_chose_given_wall_indices: 5\n",
      "Len other_visible_trial_indices: 55\n"
     ]
    },
    {
     "name": "stderr",
     "output_type": "stream",
     "text": [
      "d:\\tom\\documents\\swc\\repos\\octagon_analysis\\trajectory_analysis\\trajectory_vectors.py:321: RuntimeWarning: invalid value encountered in scalar divide\n",
      "  cosine_similarity_this_wall = dot_product[wall_num]/(player_to_alcove_vector_norms[wall_num] * player_vector_norm)\n"
     ]
    },
    {
     "name": "stdout",
     "output_type": "stream",
     "text": [
      "Len high_wall_initially_visible_indinces: 9\n",
      "Len player_chose_given_wall_indices: 4\n",
      "Len other_visible_trial_indices: 37\n",
      "Len high_wall_initially_visible_indinces: 11\n",
      "Len player_chose_given_wall_indices: 10\n",
      "Len other_visible_trial_indices: 56\n"
     ]
    },
    {
     "name": "stderr",
     "output_type": "stream",
     "text": [
      "d:\\tom\\documents\\swc\\repos\\octagon_analysis\\trajectory_analysis\\trajectory_vectors.py:321: RuntimeWarning: invalid value encountered in scalar divide\n",
      "  cosine_similarity_this_wall = dot_product[wall_num]/(player_to_alcove_vector_norms[wall_num] * player_vector_norm)\n",
      "d:\\tom\\documents\\swc\\repos\\octagon_analysis\\analysis\\loser_inferred_choice.py:47: RuntimeWarning: Mean of empty slice\n",
      "  return np.argmax(np.nanmean(cosine_similarity_trajectory, axis=1))\n",
      "d:\\tom\\documents\\swc\\repos\\octagon_analysis\\analysis\\loser_inferred_choice.py:149: RuntimeWarning: Mean of empty slice\n",
      "  highest_alignment_val = np.max(np.nanmean(cosine_similarity_trajectory, axis=1))\n"
     ]
    },
    {
     "name": "stdout",
     "output_type": "stream",
     "text": [
      "Len high_wall_initially_visible_indinces: 14\n",
      "Len player_chose_given_wall_indices: 14\n",
      "Len other_visible_trial_indices: 43\n",
      "Len high_wall_initially_visible_indinces: 11\n",
      "Len player_chose_given_wall_indices: 11\n",
      "Len other_visible_trial_indices: 50\n",
      "Len high_wall_initially_visible_indinces: 14\n",
      "Len player_chose_given_wall_indices: 13\n"
     ]
    },
    {
     "name": "stderr",
     "output_type": "stream",
     "text": [
      "d:\\tom\\documents\\swc\\repos\\octagon_analysis\\trajectory_analysis\\trajectory_vectors.py:321: RuntimeWarning: invalid value encountered in scalar divide\n",
      "  cosine_similarity_this_wall = dot_product[wall_num]/(player_to_alcove_vector_norms[wall_num] * player_vector_norm)\n",
      "d:\\tom\\documents\\swc\\repos\\octagon_analysis\\analysis\\loser_inferred_choice.py:47: RuntimeWarning: Mean of empty slice\n",
      "  return np.argmax(np.nanmean(cosine_similarity_trajectory, axis=1))\n",
      "d:\\tom\\documents\\swc\\repos\\octagon_analysis\\analysis\\loser_inferred_choice.py:149: RuntimeWarning: Mean of empty slice\n",
      "  highest_alignment_val = np.max(np.nanmean(cosine_similarity_trajectory, axis=1))\n"
     ]
    },
    {
     "name": "stdout",
     "output_type": "stream",
     "text": [
      "Len other_visible_trial_indices: 24\n",
      "Len high_wall_initially_visible_indinces: 8\n",
      "Len player_chose_given_wall_indices: 8\n",
      "Len other_visible_trial_indices: 69\n",
      "Len high_wall_initially_visible_indinces: 10\n",
      "Len player_chose_given_wall_indices: 10\n",
      "Len other_visible_trial_indices: 27\n",
      "Len high_wall_initially_visible_indinces: 3\n",
      "Len player_chose_given_wall_indices: 3\n",
      "Len other_visible_trial_indices: 66\n",
      "Len high_wall_initially_visible_indinces: 15\n",
      "Len player_chose_given_wall_indices: 15\n",
      "Len other_visible_trial_indices: 37\n",
      "Len high_wall_initially_visible_indinces: 9\n",
      "Len player_chose_given_wall_indices: 7\n",
      "Len other_visible_trial_indices: 72\n"
     ]
    },
    {
     "name": "stderr",
     "output_type": "stream",
     "text": [
      "d:\\tom\\documents\\swc\\repos\\octagon_analysis\\trajectory_analysis\\trajectory_vectors.py:321: RuntimeWarning: invalid value encountered in scalar divide\n",
      "  cosine_similarity_this_wall = dot_product[wall_num]/(player_to_alcove_vector_norms[wall_num] * player_vector_norm)\n",
      "d:\\tom\\documents\\swc\\repos\\octagon_analysis\\analysis\\loser_inferred_choice.py:47: RuntimeWarning: Mean of empty slice\n",
      "  return np.argmax(np.nanmean(cosine_similarity_trajectory, axis=1))\n",
      "d:\\tom\\documents\\swc\\repos\\octagon_analysis\\analysis\\loser_inferred_choice.py:149: RuntimeWarning: Mean of empty slice\n",
      "  highest_alignment_val = np.max(np.nanmean(cosine_similarity_trajectory, axis=1))\n"
     ]
    },
    {
     "name": "stdout",
     "output_type": "stream",
     "text": [
      "Len high_wall_initially_visible_indinces: 18\n",
      "Len player_chose_given_wall_indices: 14\n",
      "Len other_visible_trial_indices: 21\n",
      "Len high_wall_initially_visible_indinces: 2\n",
      "Len player_chose_given_wall_indices: 2\n",
      "Len other_visible_trial_indices: 88\n",
      "Len high_wall_initially_visible_indinces: 25\n",
      "Len player_chose_given_wall_indices: 19\n"
     ]
    },
    {
     "name": "stderr",
     "output_type": "stream",
     "text": [
      "d:\\tom\\documents\\swc\\repos\\octagon_analysis\\trajectory_analysis\\trajectory_vectors.py:321: RuntimeWarning: invalid value encountered in scalar divide\n",
      "  cosine_similarity_this_wall = dot_product[wall_num]/(player_to_alcove_vector_norms[wall_num] * player_vector_norm)\n",
      "d:\\tom\\documents\\swc\\repos\\octagon_analysis\\analysis\\loser_inferred_choice.py:47: RuntimeWarning: Mean of empty slice\n",
      "  return np.argmax(np.nanmean(cosine_similarity_trajectory, axis=1))\n",
      "d:\\tom\\documents\\swc\\repos\\octagon_analysis\\analysis\\loser_inferred_choice.py:149: RuntimeWarning: Mean of empty slice\n",
      "  highest_alignment_val = np.max(np.nanmean(cosine_similarity_trajectory, axis=1))\n"
     ]
    },
    {
     "name": "stdout",
     "output_type": "stream",
     "text": [
      "Len other_visible_trial_indices: 24\n",
      "Len high_wall_initially_visible_indinces: 1\n",
      "Len player_chose_given_wall_indices: 1\n",
      "Len other_visible_trial_indices: 69\n",
      "Len high_wall_initially_visible_indinces: 19\n",
      "Len player_chose_given_wall_indices: 10\n"
     ]
    },
    {
     "name": "stderr",
     "output_type": "stream",
     "text": [
      "d:\\tom\\documents\\swc\\repos\\octagon_analysis\\trajectory_analysis\\trajectory_vectors.py:321: RuntimeWarning: invalid value encountered in scalar divide\n",
      "  cosine_similarity_this_wall = dot_product[wall_num]/(player_to_alcove_vector_norms[wall_num] * player_vector_norm)\n",
      "d:\\tom\\documents\\swc\\repos\\octagon_analysis\\analysis\\loser_inferred_choice.py:47: RuntimeWarning: Mean of empty slice\n",
      "  return np.argmax(np.nanmean(cosine_similarity_trajectory, axis=1))\n",
      "d:\\tom\\documents\\swc\\repos\\octagon_analysis\\analysis\\loser_inferred_choice.py:149: RuntimeWarning: Mean of empty slice\n",
      "  highest_alignment_val = np.max(np.nanmean(cosine_similarity_trajectory, axis=1))\n"
     ]
    },
    {
     "name": "stdout",
     "output_type": "stream",
     "text": [
      "Len other_visible_trial_indices: 28\n",
      "Len high_wall_initially_visible_indinces: 6\n",
      "Len player_chose_given_wall_indices: 5\n",
      "Len other_visible_trial_indices: 65\n",
      "Len high_wall_initially_visible_indinces: 14\n",
      "Len player_chose_given_wall_indices: 6\n"
     ]
    },
    {
     "name": "stderr",
     "output_type": "stream",
     "text": [
      "d:\\tom\\documents\\swc\\repos\\octagon_analysis\\trajectory_analysis\\trajectory_vectors.py:321: RuntimeWarning: invalid value encountered in scalar divide\n",
      "  cosine_similarity_this_wall = dot_product[wall_num]/(player_to_alcove_vector_norms[wall_num] * player_vector_norm)\n",
      "d:\\tom\\documents\\swc\\repos\\octagon_analysis\\analysis\\loser_inferred_choice.py:47: RuntimeWarning: Mean of empty slice\n",
      "  return np.argmax(np.nanmean(cosine_similarity_trajectory, axis=1))\n",
      "d:\\tom\\documents\\swc\\repos\\octagon_analysis\\analysis\\loser_inferred_choice.py:149: RuntimeWarning: Mean of empty slice\n",
      "  highest_alignment_val = np.max(np.nanmean(cosine_similarity_trajectory, axis=1))\n"
     ]
    },
    {
     "name": "stdout",
     "output_type": "stream",
     "text": [
      "Len other_visible_trial_indices: 33\n",
      "Len high_wall_initially_visible_indinces: 8\n",
      "Len player_chose_given_wall_indices: 5\n",
      "Len other_visible_trial_indices: 65\n"
     ]
    },
    {
     "name": "stderr",
     "output_type": "stream",
     "text": [
      "d:\\tom\\documents\\swc\\repos\\octagon_analysis\\trajectory_analysis\\trajectory_vectors.py:321: RuntimeWarning: invalid value encountered in scalar divide\n",
      "  cosine_similarity_this_wall = dot_product[wall_num]/(player_to_alcove_vector_norms[wall_num] * player_vector_norm)\n",
      "d:\\tom\\documents\\swc\\repos\\octagon_analysis\\analysis\\loser_inferred_choice.py:47: RuntimeWarning: Mean of empty slice\n",
      "  return np.argmax(np.nanmean(cosine_similarity_trajectory, axis=1))\n",
      "d:\\tom\\documents\\swc\\repos\\octagon_analysis\\analysis\\loser_inferred_choice.py:149: RuntimeWarning: Mean of empty slice\n",
      "  highest_alignment_val = np.max(np.nanmean(cosine_similarity_trajectory, axis=1))\n"
     ]
    },
    {
     "name": "stdout",
     "output_type": "stream",
     "text": [
      "Len high_wall_initially_visible_indinces: 14\n",
      "Len player_chose_given_wall_indices: 13\n",
      "Len other_visible_trial_indices: 45\n",
      "Len high_wall_initially_visible_indinces: 12\n",
      "Len player_chose_given_wall_indices: 9\n",
      "Len other_visible_trial_indices: 53\n"
     ]
    },
    {
     "name": "stderr",
     "output_type": "stream",
     "text": [
      "d:\\tom\\documents\\swc\\repos\\octagon_analysis\\trajectory_analysis\\trajectory_vectors.py:321: RuntimeWarning: invalid value encountered in scalar divide\n",
      "  cosine_similarity_this_wall = dot_product[wall_num]/(player_to_alcove_vector_norms[wall_num] * player_vector_norm)\n",
      "d:\\tom\\documents\\swc\\repos\\octagon_analysis\\analysis\\loser_inferred_choice.py:47: RuntimeWarning: Mean of empty slice\n",
      "  return np.argmax(np.nanmean(cosine_similarity_trajectory, axis=1))\n",
      "d:\\tom\\documents\\swc\\repos\\octagon_analysis\\analysis\\loser_inferred_choice.py:149: RuntimeWarning: Mean of empty slice\n",
      "  highest_alignment_val = np.max(np.nanmean(cosine_similarity_trajectory, axis=1))\n"
     ]
    },
    {
     "name": "stdout",
     "output_type": "stream",
     "text": [
      "Len high_wall_initially_visible_indinces: 10\n",
      "Len player_chose_given_wall_indices: 9\n",
      "Len other_visible_trial_indices: 56\n",
      "Len high_wall_initially_visible_indinces: 11\n",
      "Len player_chose_given_wall_indices: 7\n",
      "Len other_visible_trial_indices: 68\n"
     ]
    },
    {
     "name": "stderr",
     "output_type": "stream",
     "text": [
      "d:\\tom\\documents\\swc\\repos\\octagon_analysis\\trajectory_analysis\\trajectory_vectors.py:321: RuntimeWarning: invalid value encountered in scalar divide\n",
      "  cosine_similarity_this_wall = dot_product[wall_num]/(player_to_alcove_vector_norms[wall_num] * player_vector_norm)\n"
     ]
    },
    {
     "name": "stdout",
     "output_type": "stream",
     "text": [
      "Len high_wall_initially_visible_indinces: 7\n",
      "Len player_chose_given_wall_indices: 7\n",
      "Len other_visible_trial_indices: 52\n",
      "Len high_wall_initially_visible_indinces: 6\n",
      "Len player_chose_given_wall_indices: 5\n",
      "Len other_visible_trial_indices: 72\n",
      "Len high_wall_initially_visible_indinces: 12\n",
      "Len player_chose_given_wall_indices: 9\n"
     ]
    },
    {
     "name": "stderr",
     "output_type": "stream",
     "text": [
      "d:\\tom\\documents\\swc\\repos\\octagon_analysis\\trajectory_analysis\\trajectory_vectors.py:321: RuntimeWarning: invalid value encountered in scalar divide\n",
      "  cosine_similarity_this_wall = dot_product[wall_num]/(player_to_alcove_vector_norms[wall_num] * player_vector_norm)\n"
     ]
    },
    {
     "name": "stdout",
     "output_type": "stream",
     "text": [
      "Len other_visible_trial_indices: 40\n",
      "Len high_wall_initially_visible_indinces: 9\n",
      "Len player_chose_given_wall_indices: 4\n",
      "Len other_visible_trial_indices: 79\n"
     ]
    },
    {
     "name": "stderr",
     "output_type": "stream",
     "text": [
      "d:\\tom\\documents\\swc\\repos\\octagon_analysis\\trajectory_analysis\\trajectory_vectors.py:321: RuntimeWarning: invalid value encountered in scalar divide\n",
      "  cosine_similarity_this_wall = dot_product[wall_num]/(player_to_alcove_vector_norms[wall_num] * player_vector_norm)\n"
     ]
    },
    {
     "name": "stdout",
     "output_type": "stream",
     "text": [
      "Len high_wall_initially_visible_indinces: 24\n",
      "Len player_chose_given_wall_indices: 14\n"
     ]
    },
    {
     "name": "stderr",
     "output_type": "stream",
     "text": [
      "d:\\tom\\documents\\swc\\repos\\octagon_analysis\\analysis\\loser_inferred_choice.py:47: RuntimeWarning: Mean of empty slice\n",
      "  return np.argmax(np.nanmean(cosine_similarity_trajectory, axis=1))\n",
      "d:\\tom\\documents\\swc\\repos\\octagon_analysis\\analysis\\loser_inferred_choice.py:149: RuntimeWarning: Mean of empty slice\n",
      "  highest_alignment_val = np.max(np.nanmean(cosine_similarity_trajectory, axis=1))\n"
     ]
    },
    {
     "name": "stdout",
     "output_type": "stream",
     "text": [
      "Len other_visible_trial_indices: 40\n",
      "Len high_wall_initially_visible_indinces: 10\n",
      "Len player_chose_given_wall_indices: 6\n",
      "Len other_visible_trial_indices: 79\n"
     ]
    },
    {
     "name": "stderr",
     "output_type": "stream",
     "text": [
      "d:\\tom\\documents\\swc\\repos\\octagon_analysis\\trajectory_analysis\\trajectory_vectors.py:321: RuntimeWarning: invalid value encountered in scalar divide\n",
      "  cosine_similarity_this_wall = dot_product[wall_num]/(player_to_alcove_vector_norms[wall_num] * player_vector_norm)\n"
     ]
    },
    {
     "name": "stdout",
     "output_type": "stream",
     "text": [
      "Len high_wall_initially_visible_indinces: 23\n",
      "Len player_chose_given_wall_indices: 12\n"
     ]
    },
    {
     "name": "stderr",
     "output_type": "stream",
     "text": [
      "d:\\tom\\documents\\swc\\repos\\octagon_analysis\\analysis\\loser_inferred_choice.py:47: RuntimeWarning: Mean of empty slice\n",
      "  return np.argmax(np.nanmean(cosine_similarity_trajectory, axis=1))\n",
      "d:\\tom\\documents\\swc\\repos\\octagon_analysis\\analysis\\loser_inferred_choice.py:149: RuntimeWarning: Mean of empty slice\n",
      "  highest_alignment_val = np.max(np.nanmean(cosine_similarity_trajectory, axis=1))\n"
     ]
    },
    {
     "name": "stdout",
     "output_type": "stream",
     "text": [
      "Len other_visible_trial_indices: 37\n",
      "Len high_wall_initially_visible_indinces: 5\n",
      "Len player_chose_given_wall_indices: 4\n",
      "Len other_visible_trial_indices: 50\n"
     ]
    },
    {
     "name": "stderr",
     "output_type": "stream",
     "text": [
      "d:\\tom\\documents\\swc\\repos\\octagon_analysis\\trajectory_analysis\\trajectory_vectors.py:321: RuntimeWarning: invalid value encountered in scalar divide\n",
      "  cosine_similarity_this_wall = dot_product[wall_num]/(player_to_alcove_vector_norms[wall_num] * player_vector_norm)\n",
      "d:\\tom\\documents\\swc\\repos\\octagon_analysis\\analysis\\loser_inferred_choice.py:47: RuntimeWarning: Mean of empty slice\n",
      "  return np.argmax(np.nanmean(cosine_similarity_trajectory, axis=1))\n",
      "d:\\tom\\documents\\swc\\repos\\octagon_analysis\\analysis\\loser_inferred_choice.py:149: RuntimeWarning: Mean of empty slice\n",
      "  highest_alignment_val = np.max(np.nanmean(cosine_similarity_trajectory, axis=1))\n"
     ]
    },
    {
     "name": "stdout",
     "output_type": "stream",
     "text": [
      "Len high_wall_initially_visible_indinces: 10\n",
      "Len player_chose_given_wall_indices: 10\n",
      "Len other_visible_trial_indices: 25\n",
      "Len high_wall_initially_visible_indinces: 3\n",
      "Len player_chose_given_wall_indices: 3\n",
      "Len other_visible_trial_indices: 62\n"
     ]
    },
    {
     "name": "stderr",
     "output_type": "stream",
     "text": [
      "d:\\tom\\documents\\swc\\repos\\octagon_analysis\\trajectory_analysis\\trajectory_vectors.py:321: RuntimeWarning: invalid value encountered in scalar divide\n",
      "  cosine_similarity_this_wall = dot_product[wall_num]/(player_to_alcove_vector_norms[wall_num] * player_vector_norm)\n"
     ]
    },
    {
     "name": "stdout",
     "output_type": "stream",
     "text": [
      "Len high_wall_initially_visible_indinces: 12\n",
      "Len player_chose_given_wall_indices: 11\n"
     ]
    },
    {
     "name": "stderr",
     "output_type": "stream",
     "text": [
      "d:\\tom\\documents\\swc\\repos\\octagon_analysis\\analysis\\loser_inferred_choice.py:47: RuntimeWarning: Mean of empty slice\n",
      "  return np.argmax(np.nanmean(cosine_similarity_trajectory, axis=1))\n",
      "d:\\tom\\documents\\swc\\repos\\octagon_analysis\\analysis\\loser_inferred_choice.py:149: RuntimeWarning: Mean of empty slice\n",
      "  highest_alignment_val = np.max(np.nanmean(cosine_similarity_trajectory, axis=1))\n"
     ]
    },
    {
     "name": "stdout",
     "output_type": "stream",
     "text": [
      "Len other_visible_trial_indices: 30\n",
      "Len high_wall_initially_visible_indinces: 12\n",
      "Len player_chose_given_wall_indices: 8\n",
      "Len other_visible_trial_indices: 65\n"
     ]
    },
    {
     "name": "stderr",
     "output_type": "stream",
     "text": [
      "d:\\tom\\documents\\swc\\repos\\octagon_analysis\\trajectory_analysis\\trajectory_vectors.py:321: RuntimeWarning: invalid value encountered in scalar divide\n",
      "  cosine_similarity_this_wall = dot_product[wall_num]/(player_to_alcove_vector_norms[wall_num] * player_vector_norm)\n",
      "d:\\tom\\documents\\swc\\repos\\octagon_analysis\\analysis\\loser_inferred_choice.py:47: RuntimeWarning: Mean of empty slice\n",
      "  return np.argmax(np.nanmean(cosine_similarity_trajectory, axis=1))\n",
      "d:\\tom\\documents\\swc\\repos\\octagon_analysis\\analysis\\loser_inferred_choice.py:149: RuntimeWarning: Mean of empty slice\n",
      "  highest_alignment_val = np.max(np.nanmean(cosine_similarity_trajectory, axis=1))\n"
     ]
    },
    {
     "name": "stdout",
     "output_type": "stream",
     "text": [
      "Len high_wall_initially_visible_indinces: 17\n",
      "Len player_chose_given_wall_indices: 15\n",
      "Len other_visible_trial_indices: 14\n",
      "Len high_wall_initially_visible_indinces: 5\n",
      "Len player_chose_given_wall_indices: 5\n",
      "Len other_visible_trial_indices: 81\n",
      "Len high_wall_initially_visible_indinces: 24\n",
      "Len player_chose_given_wall_indices: 18\n"
     ]
    },
    {
     "name": "stderr",
     "output_type": "stream",
     "text": [
      "d:\\tom\\documents\\swc\\repos\\octagon_analysis\\trajectory_analysis\\trajectory_vectors.py:321: RuntimeWarning: invalid value encountered in scalar divide\n",
      "  cosine_similarity_this_wall = dot_product[wall_num]/(player_to_alcove_vector_norms[wall_num] * player_vector_norm)\n",
      "d:\\tom\\documents\\swc\\repos\\octagon_analysis\\analysis\\loser_inferred_choice.py:47: RuntimeWarning: Mean of empty slice\n",
      "  return np.argmax(np.nanmean(cosine_similarity_trajectory, axis=1))\n",
      "d:\\tom\\documents\\swc\\repos\\octagon_analysis\\analysis\\loser_inferred_choice.py:149: RuntimeWarning: Mean of empty slice\n",
      "  highest_alignment_val = np.max(np.nanmean(cosine_similarity_trajectory, axis=1))\n"
     ]
    },
    {
     "name": "stdout",
     "output_type": "stream",
     "text": [
      "Len other_visible_trial_indices: 30\n",
      "Len high_wall_initially_visible_indinces: 6\n",
      "Len player_chose_given_wall_indices: 4\n",
      "Len other_visible_trial_indices: 80\n",
      "Len high_wall_initially_visible_indinces: 21\n",
      "Len player_chose_given_wall_indices: 16\n"
     ]
    },
    {
     "name": "stderr",
     "output_type": "stream",
     "text": [
      "d:\\tom\\documents\\swc\\repos\\octagon_analysis\\trajectory_analysis\\trajectory_vectors.py:321: RuntimeWarning: invalid value encountered in scalar divide\n",
      "  cosine_similarity_this_wall = dot_product[wall_num]/(player_to_alcove_vector_norms[wall_num] * player_vector_norm)\n",
      "d:\\tom\\documents\\swc\\repos\\octagon_analysis\\analysis\\loser_inferred_choice.py:47: RuntimeWarning: Mean of empty slice\n",
      "  return np.argmax(np.nanmean(cosine_similarity_trajectory, axis=1))\n",
      "d:\\tom\\documents\\swc\\repos\\octagon_analysis\\analysis\\loser_inferred_choice.py:149: RuntimeWarning: Mean of empty slice\n",
      "  highest_alignment_val = np.max(np.nanmean(cosine_similarity_trajectory, axis=1))\n"
     ]
    },
    {
     "name": "stdout",
     "output_type": "stream",
     "text": [
      "Len other_visible_trial_indices: 41\n",
      "Len high_wall_initially_visible_indinces: 11\n",
      "Len player_chose_given_wall_indices: 7\n",
      "Len other_visible_trial_indices: 69\n"
     ]
    },
    {
     "name": "stderr",
     "output_type": "stream",
     "text": [
      "d:\\tom\\documents\\swc\\repos\\octagon_analysis\\trajectory_analysis\\trajectory_vectors.py:321: RuntimeWarning: invalid value encountered in scalar divide\n",
      "  cosine_similarity_this_wall = dot_product[wall_num]/(player_to_alcove_vector_norms[wall_num] * player_vector_norm)\n"
     ]
    },
    {
     "name": "stdout",
     "output_type": "stream",
     "text": [
      "Len high_wall_initially_visible_indinces: 16\n",
      "Len player_chose_given_wall_indices: 13\n"
     ]
    },
    {
     "name": "stderr",
     "output_type": "stream",
     "text": [
      "d:\\tom\\documents\\swc\\repos\\octagon_analysis\\analysis\\loser_inferred_choice.py:47: RuntimeWarning: Mean of empty slice\n",
      "  return np.argmax(np.nanmean(cosine_similarity_trajectory, axis=1))\n",
      "d:\\tom\\documents\\swc\\repos\\octagon_analysis\\analysis\\loser_inferred_choice.py:149: RuntimeWarning: Mean of empty slice\n",
      "  highest_alignment_val = np.max(np.nanmean(cosine_similarity_trajectory, axis=1))\n"
     ]
    },
    {
     "name": "stdout",
     "output_type": "stream",
     "text": [
      "Len other_visible_trial_indices: 32\n",
      "Len high_wall_initially_visible_indinces: 9\n",
      "Len player_chose_given_wall_indices: 7\n",
      "Len other_visible_trial_indices: 83\n",
      "Len high_wall_initially_visible_indinces: 22\n",
      "Len player_chose_given_wall_indices: 17\n",
      "Len other_visible_trial_indices: 38\n",
      "Len high_wall_initially_visible_indinces: 11\n",
      "Len player_chose_given_wall_indices: 9\n",
      "Len other_visible_trial_indices: 77\n",
      "Len high_wall_initially_visible_indinces: 20\n",
      "Len player_chose_given_wall_indices: 15\n",
      "Len other_visible_trial_indices: 32\n",
      "Len high_wall_initially_visible_indinces: 13\n",
      "Len player_chose_given_wall_indices: 6\n",
      "Len other_visible_trial_indices: 82\n"
     ]
    },
    {
     "name": "stderr",
     "output_type": "stream",
     "text": [
      "d:\\tom\\documents\\swc\\repos\\octagon_analysis\\trajectory_analysis\\trajectory_vectors.py:321: RuntimeWarning: invalid value encountered in scalar divide\n",
      "  cosine_similarity_this_wall = dot_product[wall_num]/(player_to_alcove_vector_norms[wall_num] * player_vector_norm)\n",
      "d:\\tom\\documents\\swc\\repos\\octagon_analysis\\analysis\\loser_inferred_choice.py:47: RuntimeWarning: Mean of empty slice\n",
      "  return np.argmax(np.nanmean(cosine_similarity_trajectory, axis=1))\n",
      "d:\\tom\\documents\\swc\\repos\\octagon_analysis\\analysis\\loser_inferred_choice.py:149: RuntimeWarning: Mean of empty slice\n",
      "  highest_alignment_val = np.max(np.nanmean(cosine_similarity_trajectory, axis=1))\n"
     ]
    },
    {
     "name": "stdout",
     "output_type": "stream",
     "text": [
      "Len high_wall_initially_visible_indinces: 21\n",
      "Len player_chose_given_wall_indices: 15\n",
      "Len other_visible_trial_indices: 70\n",
      "Len high_wall_initially_visible_indinces: 17\n",
      "Len player_chose_given_wall_indices: 11\n",
      "Len other_visible_trial_indices: 44\n"
     ]
    },
    {
     "name": "stderr",
     "output_type": "stream",
     "text": [
      "d:\\tom\\documents\\swc\\repos\\octagon_analysis\\trajectory_analysis\\trajectory_vectors.py:321: RuntimeWarning: invalid value encountered in scalar divide\n",
      "  cosine_similarity_this_wall = dot_product[wall_num]/(player_to_alcove_vector_norms[wall_num] * player_vector_norm)\n",
      "d:\\tom\\documents\\swc\\repos\\octagon_analysis\\analysis\\loser_inferred_choice.py:47: RuntimeWarning: Mean of empty slice\n",
      "  return np.argmax(np.nanmean(cosine_similarity_trajectory, axis=1))\n",
      "d:\\tom\\documents\\swc\\repos\\octagon_analysis\\analysis\\loser_inferred_choice.py:149: RuntimeWarning: Mean of empty slice\n",
      "  highest_alignment_val = np.max(np.nanmean(cosine_similarity_trajectory, axis=1))\n"
     ]
    },
    {
     "name": "stdout",
     "output_type": "stream",
     "text": [
      "Len high_wall_initially_visible_indinces: 17\n",
      "Len player_chose_given_wall_indices: 10\n",
      "Len other_visible_trial_indices: 96\n",
      "Len high_wall_initially_visible_indinces: 28\n",
      "Len player_chose_given_wall_indices: 8\n",
      "Len other_visible_trial_indices: 4\n"
     ]
    },
    {
     "name": "stderr",
     "output_type": "stream",
     "text": [
      "d:\\tom\\documents\\swc\\repos\\octagon_analysis\\trajectory_analysis\\trajectory_vectors.py:321: RuntimeWarning: invalid value encountered in scalar divide\n",
      "  cosine_similarity_this_wall = dot_product[wall_num]/(player_to_alcove_vector_norms[wall_num] * player_vector_norm)\n",
      "d:\\tom\\documents\\swc\\repos\\octagon_analysis\\analysis\\loser_inferred_choice.py:47: RuntimeWarning: Mean of empty slice\n",
      "  return np.argmax(np.nanmean(cosine_similarity_trajectory, axis=1))\n",
      "d:\\tom\\documents\\swc\\repos\\octagon_analysis\\analysis\\loser_inferred_choice.py:149: RuntimeWarning: Mean of empty slice\n",
      "  highest_alignment_val = np.max(np.nanmean(cosine_similarity_trajectory, axis=1))\n"
     ]
    },
    {
     "name": "stdout",
     "output_type": "stream",
     "text": [
      "Len high_wall_initially_visible_indinces: 0\n",
      "Len player_chose_given_wall_indices: 0\n",
      "Len other_visible_trial_indices: 60\n",
      "Len high_wall_initially_visible_indinces: 17\n",
      "Len player_chose_given_wall_indices: 4\n",
      "Len other_visible_trial_indices: 40\n"
     ]
    },
    {
     "name": "stderr",
     "output_type": "stream",
     "text": [
      "d:\\tom\\documents\\swc\\repos\\octagon_analysis\\trajectory_analysis\\trajectory_vectors.py:321: RuntimeWarning: invalid value encountered in scalar divide\n",
      "  cosine_similarity_this_wall = dot_product[wall_num]/(player_to_alcove_vector_norms[wall_num] * player_vector_norm)\n",
      "d:\\tom\\documents\\swc\\repos\\octagon_analysis\\analysis\\loser_inferred_choice.py:47: RuntimeWarning: Mean of empty slice\n",
      "  return np.argmax(np.nanmean(cosine_similarity_trajectory, axis=1))\n",
      "d:\\tom\\documents\\swc\\repos\\octagon_analysis\\analysis\\loser_inferred_choice.py:149: RuntimeWarning: Mean of empty slice\n",
      "  highest_alignment_val = np.max(np.nanmean(cosine_similarity_trajectory, axis=1))\n"
     ]
    },
    {
     "name": "stdout",
     "output_type": "stream",
     "text": [
      "Len high_wall_initially_visible_indinces: 11\n",
      "Len player_chose_given_wall_indices: 4\n"
     ]
    }
   ],
   "source": [
    "a = np.full(len(trial_list_all)*2, np.nan)\n",
    "b = np.full(len(trial_list_all)*2, np.nan)\n",
    "trial_list_index = 0\n",
    "\n",
    "for i in range(0,len(trial_list_all)*2, 2):\n",
    "\n",
    "    trial_list = trial_list_all[trial_list_index]\n",
    "\n",
    "    # filter trial list for HighLow trialtype\n",
    "    trial_indices = get_indices.get_trials_trialtype(trial_list, trial_type=trial_type)\n",
    "    trial_list_filtered = [trial_list[i] for i in trial_indices]\n",
    "\n",
    "    player_id = 0\n",
    "    # get Other visibility for this trial list\n",
    "    orientation_angle_to_other_session = get_angle_of_opponent_from_player_session(player_id, trial_list_filtered)\n",
    "    other_visible_session = get_other_visible_session(orientation_angle_to_other_session, current_fov=110)\n",
    "    \n",
    "    a[i] = probability_chose_wall_conditioned_on_wall_and_other_visibility(trial_list_filtered, other_visible_session,\n",
    "                                                                        inverse_other_visible=False)\n",
    "    b[i] = probability_chose_wall_conditioned_on_wall_and_other_visibility(trial_list_filtered, other_visible_session,\n",
    "                                                                     inverse_other_visible=True)\n",
    "    \n",
    "    player_id = 1\n",
    "    # get Other visibility for this trial list\n",
    "    orientation_angle_to_other_session = get_angle_of_opponent_from_player_session(player_id, trial_list_filtered)\n",
    "    other_visible_session = get_other_visible_session(orientation_angle_to_other_session, current_fov=110)\n",
    "    \n",
    "    a[i+1] = probability_chose_wall_conditioned_on_wall_and_other_visibility(trial_list_filtered, other_visible_session,\n",
    "                                                                        inverse_other_visible=False)\n",
    "    b[i+1] = probability_chose_wall_conditioned_on_wall_and_other_visibility(trial_list_filtered, other_visible_session,\n",
    "                                                                     inverse_other_visible=True)\n",
    "    \n",
    "    trial_list_index += 1\n",
    "    \n",
    "    \n",
    "wall_choice_probabilities = [a,b]"
   ]
  },
  {
   "cell_type": "code",
   "execution_count": 384,
   "id": "2b763051",
   "metadata": {},
   "outputs": [
    {
     "name": "stdout",
     "output_type": "stream",
     "text": [
      "Len other_visible_trial_indices: 44\n",
      "Len player_chose_given_wall_indices: 20\n",
      "Len other_visible_trial_indices: 58\n",
      "Len player_chose_given_wall_indices: 24\n",
      "Len other_visible_trial_indices: 63\n",
      "Len player_chose_given_wall_indices: 27\n",
      "Len other_visible_trial_indices: 39\n",
      "Len player_chose_given_wall_indices: 17\n",
      "Len other_visible_trial_indices: 7\n",
      "Len player_chose_given_wall_indices: 1\n",
      "Len other_visible_trial_indices: 72\n"
     ]
    },
    {
     "name": "stderr",
     "output_type": "stream",
     "text": [
      "d:\\tom\\documents\\swc\\repos\\octagon_analysis\\trajectory_analysis\\trajectory_vectors.py:321: RuntimeWarning: invalid value encountered in scalar divide\n",
      "  cosine_similarity_this_wall = dot_product[wall_num]/(player_to_alcove_vector_norms[wall_num] * player_vector_norm)\n",
      "d:\\tom\\documents\\swc\\repos\\octagon_analysis\\analysis\\loser_inferred_choice.py:47: RuntimeWarning: Mean of empty slice\n",
      "  return np.argmax(np.nanmean(cosine_similarity_trajectory, axis=1))\n",
      "d:\\tom\\documents\\swc\\repos\\octagon_analysis\\analysis\\loser_inferred_choice.py:149: RuntimeWarning: Mean of empty slice\n",
      "  highest_alignment_val = np.max(np.nanmean(cosine_similarity_trajectory, axis=1))\n"
     ]
    },
    {
     "name": "stdout",
     "output_type": "stream",
     "text": [
      "Len player_chose_given_wall_indices: 23\n",
      "Len other_visible_trial_indices: 30\n"
     ]
    },
    {
     "name": "stderr",
     "output_type": "stream",
     "text": [
      "d:\\tom\\documents\\swc\\repos\\octagon_analysis\\trajectory_analysis\\trajectory_vectors.py:321: RuntimeWarning: invalid value encountered in scalar divide\n",
      "  cosine_similarity_this_wall = dot_product[wall_num]/(player_to_alcove_vector_norms[wall_num] * player_vector_norm)\n",
      "d:\\tom\\documents\\swc\\repos\\octagon_analysis\\analysis\\loser_inferred_choice.py:47: RuntimeWarning: Mean of empty slice\n",
      "  return np.argmax(np.nanmean(cosine_similarity_trajectory, axis=1))\n",
      "d:\\tom\\documents\\swc\\repos\\octagon_analysis\\analysis\\loser_inferred_choice.py:149: RuntimeWarning: Mean of empty slice\n",
      "  highest_alignment_val = np.max(np.nanmean(cosine_similarity_trajectory, axis=1))\n"
     ]
    },
    {
     "name": "stdout",
     "output_type": "stream",
     "text": [
      "Len player_chose_given_wall_indices: 7\n",
      "Len other_visible_trial_indices: 49\n",
      "Len player_chose_given_wall_indices: 17\n",
      "Len other_visible_trial_indices: 37\n"
     ]
    },
    {
     "name": "stderr",
     "output_type": "stream",
     "text": [
      "d:\\tom\\documents\\swc\\repos\\octagon_analysis\\trajectory_analysis\\trajectory_vectors.py:321: RuntimeWarning: invalid value encountered in scalar divide\n",
      "  cosine_similarity_this_wall = dot_product[wall_num]/(player_to_alcove_vector_norms[wall_num] * player_vector_norm)\n",
      "d:\\tom\\documents\\swc\\repos\\octagon_analysis\\analysis\\loser_inferred_choice.py:47: RuntimeWarning: Mean of empty slice\n",
      "  return np.argmax(np.nanmean(cosine_similarity_trajectory, axis=1))\n",
      "d:\\tom\\documents\\swc\\repos\\octagon_analysis\\analysis\\loser_inferred_choice.py:149: RuntimeWarning: Mean of empty slice\n",
      "  highest_alignment_val = np.max(np.nanmean(cosine_similarity_trajectory, axis=1))\n"
     ]
    },
    {
     "name": "stdout",
     "output_type": "stream",
     "text": [
      "Len player_chose_given_wall_indices: 17\n",
      "Len other_visible_trial_indices: 56\n",
      "Len player_chose_given_wall_indices: 27\n",
      "Len other_visible_trial_indices: 36\n"
     ]
    },
    {
     "name": "stderr",
     "output_type": "stream",
     "text": [
      "d:\\tom\\documents\\swc\\repos\\octagon_analysis\\trajectory_analysis\\trajectory_vectors.py:321: RuntimeWarning: invalid value encountered in scalar divide\n",
      "  cosine_similarity_this_wall = dot_product[wall_num]/(player_to_alcove_vector_norms[wall_num] * player_vector_norm)\n",
      "d:\\tom\\documents\\swc\\repos\\octagon_analysis\\analysis\\loser_inferred_choice.py:47: RuntimeWarning: Mean of empty slice\n",
      "  return np.argmax(np.nanmean(cosine_similarity_trajectory, axis=1))\n",
      "d:\\tom\\documents\\swc\\repos\\octagon_analysis\\analysis\\loser_inferred_choice.py:149: RuntimeWarning: Mean of empty slice\n",
      "  highest_alignment_val = np.max(np.nanmean(cosine_similarity_trajectory, axis=1))\n"
     ]
    },
    {
     "name": "stdout",
     "output_type": "stream",
     "text": [
      "Len player_chose_given_wall_indices: 10\n",
      "Len other_visible_trial_indices: 57\n",
      "Len player_chose_given_wall_indices: 34\n",
      "Len other_visible_trial_indices: 44\n"
     ]
    },
    {
     "name": "stderr",
     "output_type": "stream",
     "text": [
      "d:\\tom\\documents\\swc\\repos\\octagon_analysis\\trajectory_analysis\\trajectory_vectors.py:321: RuntimeWarning: invalid value encountered in scalar divide\n",
      "  cosine_similarity_this_wall = dot_product[wall_num]/(player_to_alcove_vector_norms[wall_num] * player_vector_norm)\n"
     ]
    },
    {
     "name": "stdout",
     "output_type": "stream",
     "text": [
      "Len player_chose_given_wall_indices: 20\n",
      "Len other_visible_trial_indices: 92\n"
     ]
    },
    {
     "name": "stderr",
     "output_type": "stream",
     "text": [
      "d:\\tom\\documents\\swc\\repos\\octagon_analysis\\analysis\\loser_inferred_choice.py:47: RuntimeWarning: Mean of empty slice\n",
      "  return np.argmax(np.nanmean(cosine_similarity_trajectory, axis=1))\n",
      "d:\\tom\\documents\\swc\\repos\\octagon_analysis\\analysis\\loser_inferred_choice.py:149: RuntimeWarning: Mean of empty slice\n",
      "  highest_alignment_val = np.max(np.nanmean(cosine_similarity_trajectory, axis=1))\n"
     ]
    },
    {
     "name": "stdout",
     "output_type": "stream",
     "text": [
      "Len player_chose_given_wall_indices: 35\n",
      "Len other_visible_trial_indices: 47\n"
     ]
    },
    {
     "name": "stderr",
     "output_type": "stream",
     "text": [
      "d:\\tom\\documents\\swc\\repos\\octagon_analysis\\trajectory_analysis\\trajectory_vectors.py:321: RuntimeWarning: invalid value encountered in scalar divide\n",
      "  cosine_similarity_this_wall = dot_product[wall_num]/(player_to_alcove_vector_norms[wall_num] * player_vector_norm)\n",
      "d:\\tom\\documents\\swc\\repos\\octagon_analysis\\analysis\\loser_inferred_choice.py:47: RuntimeWarning: Mean of empty slice\n",
      "  return np.argmax(np.nanmean(cosine_similarity_trajectory, axis=1))\n",
      "d:\\tom\\documents\\swc\\repos\\octagon_analysis\\analysis\\loser_inferred_choice.py:149: RuntimeWarning: Mean of empty slice\n",
      "  highest_alignment_val = np.max(np.nanmean(cosine_similarity_trajectory, axis=1))\n"
     ]
    },
    {
     "name": "stdout",
     "output_type": "stream",
     "text": [
      "Len player_chose_given_wall_indices: 24\n",
      "Len other_visible_trial_indices: 89\n",
      "Len player_chose_given_wall_indices: 31\n",
      "Len other_visible_trial_indices: 54\n"
     ]
    },
    {
     "name": "stderr",
     "output_type": "stream",
     "text": [
      "d:\\tom\\documents\\swc\\repos\\octagon_analysis\\trajectory_analysis\\trajectory_vectors.py:321: RuntimeWarning: invalid value encountered in scalar divide\n",
      "  cosine_similarity_this_wall = dot_product[wall_num]/(player_to_alcove_vector_norms[wall_num] * player_vector_norm)\n",
      "d:\\tom\\documents\\swc\\repos\\octagon_analysis\\analysis\\loser_inferred_choice.py:47: RuntimeWarning: Mean of empty slice\n",
      "  return np.argmax(np.nanmean(cosine_similarity_trajectory, axis=1))\n",
      "d:\\tom\\documents\\swc\\repos\\octagon_analysis\\analysis\\loser_inferred_choice.py:149: RuntimeWarning: Mean of empty slice\n",
      "  highest_alignment_val = np.max(np.nanmean(cosine_similarity_trajectory, axis=1))\n"
     ]
    },
    {
     "name": "stdout",
     "output_type": "stream",
     "text": [
      "Len player_chose_given_wall_indices: 17\n",
      "Len other_visible_trial_indices: 23\n",
      "Len player_chose_given_wall_indices: 6\n",
      "Len other_visible_trial_indices: 22\n",
      "Len player_chose_given_wall_indices: 9\n",
      "Len other_visible_trial_indices: 55\n"
     ]
    },
    {
     "name": "stderr",
     "output_type": "stream",
     "text": [
      "d:\\tom\\documents\\swc\\repos\\octagon_analysis\\trajectory_analysis\\trajectory_vectors.py:321: RuntimeWarning: invalid value encountered in scalar divide\n",
      "  cosine_similarity_this_wall = dot_product[wall_num]/(player_to_alcove_vector_norms[wall_num] * player_vector_norm)\n",
      "d:\\tom\\documents\\swc\\repos\\octagon_analysis\\analysis\\loser_inferred_choice.py:47: RuntimeWarning: Mean of empty slice\n",
      "  return np.argmax(np.nanmean(cosine_similarity_trajectory, axis=1))\n",
      "d:\\tom\\documents\\swc\\repos\\octagon_analysis\\analysis\\loser_inferred_choice.py:149: RuntimeWarning: Mean of empty slice\n",
      "  highest_alignment_val = np.max(np.nanmean(cosine_similarity_trajectory, axis=1))\n"
     ]
    },
    {
     "name": "stdout",
     "output_type": "stream",
     "text": [
      "Len player_chose_given_wall_indices: 14\n",
      "Len other_visible_trial_indices: 37\n"
     ]
    },
    {
     "name": "stderr",
     "output_type": "stream",
     "text": [
      "d:\\tom\\documents\\swc\\repos\\octagon_analysis\\trajectory_analysis\\trajectory_vectors.py:321: RuntimeWarning: invalid value encountered in scalar divide\n",
      "  cosine_similarity_this_wall = dot_product[wall_num]/(player_to_alcove_vector_norms[wall_num] * player_vector_norm)\n",
      "d:\\tom\\documents\\swc\\repos\\octagon_analysis\\analysis\\loser_inferred_choice.py:47: RuntimeWarning: Mean of empty slice\n",
      "  return np.argmax(np.nanmean(cosine_similarity_trajectory, axis=1))\n",
      "d:\\tom\\documents\\swc\\repos\\octagon_analysis\\analysis\\loser_inferred_choice.py:149: RuntimeWarning: Mean of empty slice\n",
      "  highest_alignment_val = np.max(np.nanmean(cosine_similarity_trajectory, axis=1))\n"
     ]
    },
    {
     "name": "stdout",
     "output_type": "stream",
     "text": [
      "Len player_chose_given_wall_indices: 30\n",
      "Len other_visible_trial_indices: 56\n",
      "Len player_chose_given_wall_indices: 40\n",
      "Len other_visible_trial_indices: 43\n"
     ]
    },
    {
     "name": "stderr",
     "output_type": "stream",
     "text": [
      "d:\\tom\\documents\\swc\\repos\\octagon_analysis\\trajectory_analysis\\trajectory_vectors.py:321: RuntimeWarning: invalid value encountered in scalar divide\n",
      "  cosine_similarity_this_wall = dot_product[wall_num]/(player_to_alcove_vector_norms[wall_num] * player_vector_norm)\n",
      "d:\\tom\\documents\\swc\\repos\\octagon_analysis\\analysis\\loser_inferred_choice.py:47: RuntimeWarning: Mean of empty slice\n",
      "  return np.argmax(np.nanmean(cosine_similarity_trajectory, axis=1))\n",
      "d:\\tom\\documents\\swc\\repos\\octagon_analysis\\analysis\\loser_inferred_choice.py:149: RuntimeWarning: Mean of empty slice\n",
      "  highest_alignment_val = np.max(np.nanmean(cosine_similarity_trajectory, axis=1))\n"
     ]
    },
    {
     "name": "stdout",
     "output_type": "stream",
     "text": [
      "Len player_chose_given_wall_indices: 34\n",
      "Len other_visible_trial_indices: 50\n",
      "Len player_chose_given_wall_indices: 36\n",
      "Len other_visible_trial_indices: 24\n"
     ]
    },
    {
     "name": "stderr",
     "output_type": "stream",
     "text": [
      "d:\\tom\\documents\\swc\\repos\\octagon_analysis\\trajectory_analysis\\trajectory_vectors.py:321: RuntimeWarning: invalid value encountered in scalar divide\n",
      "  cosine_similarity_this_wall = dot_product[wall_num]/(player_to_alcove_vector_norms[wall_num] * player_vector_norm)\n",
      "d:\\tom\\documents\\swc\\repos\\octagon_analysis\\analysis\\loser_inferred_choice.py:47: RuntimeWarning: Mean of empty slice\n",
      "  return np.argmax(np.nanmean(cosine_similarity_trajectory, axis=1))\n",
      "d:\\tom\\documents\\swc\\repos\\octagon_analysis\\analysis\\loser_inferred_choice.py:149: RuntimeWarning: Mean of empty slice\n",
      "  highest_alignment_val = np.max(np.nanmean(cosine_similarity_trajectory, axis=1))\n"
     ]
    },
    {
     "name": "stdout",
     "output_type": "stream",
     "text": [
      "Len player_chose_given_wall_indices: 15\n",
      "Len other_visible_trial_indices: 69\n",
      "Len player_chose_given_wall_indices: 38\n",
      "Len other_visible_trial_indices: 27\n"
     ]
    },
    {
     "name": "stderr",
     "output_type": "stream",
     "text": [
      "d:\\tom\\documents\\swc\\repos\\octagon_analysis\\trajectory_analysis\\trajectory_vectors.py:321: RuntimeWarning: invalid value encountered in scalar divide\n",
      "  cosine_similarity_this_wall = dot_product[wall_num]/(player_to_alcove_vector_norms[wall_num] * player_vector_norm)\n"
     ]
    },
    {
     "name": "stdout",
     "output_type": "stream",
     "text": [
      "Len player_chose_given_wall_indices: 13\n",
      "Len other_visible_trial_indices: 66\n"
     ]
    },
    {
     "name": "stderr",
     "output_type": "stream",
     "text": [
      "d:\\tom\\documents\\swc\\repos\\octagon_analysis\\analysis\\loser_inferred_choice.py:47: RuntimeWarning: Mean of empty slice\n",
      "  return np.argmax(np.nanmean(cosine_similarity_trajectory, axis=1))\n",
      "d:\\tom\\documents\\swc\\repos\\octagon_analysis\\analysis\\loser_inferred_choice.py:149: RuntimeWarning: Mean of empty slice\n",
      "  highest_alignment_val = np.max(np.nanmean(cosine_similarity_trajectory, axis=1))\n"
     ]
    },
    {
     "name": "stdout",
     "output_type": "stream",
     "text": [
      "Len player_chose_given_wall_indices: 40\n",
      "Len other_visible_trial_indices: 37\n"
     ]
    },
    {
     "name": "stderr",
     "output_type": "stream",
     "text": [
      "d:\\tom\\documents\\swc\\repos\\octagon_analysis\\trajectory_analysis\\trajectory_vectors.py:321: RuntimeWarning: invalid value encountered in scalar divide\n",
      "  cosine_similarity_this_wall = dot_product[wall_num]/(player_to_alcove_vector_norms[wall_num] * player_vector_norm)\n",
      "d:\\tom\\documents\\swc\\repos\\octagon_analysis\\analysis\\loser_inferred_choice.py:47: RuntimeWarning: Mean of empty slice\n",
      "  return np.argmax(np.nanmean(cosine_similarity_trajectory, axis=1))\n",
      "d:\\tom\\documents\\swc\\repos\\octagon_analysis\\analysis\\loser_inferred_choice.py:149: RuntimeWarning: Mean of empty slice\n",
      "  highest_alignment_val = np.max(np.nanmean(cosine_similarity_trajectory, axis=1))\n"
     ]
    },
    {
     "name": "stdout",
     "output_type": "stream",
     "text": [
      "Len player_chose_given_wall_indices: 16\n",
      "Len other_visible_trial_indices: 72\n",
      "Len player_chose_given_wall_indices: 37\n",
      "Len other_visible_trial_indices: 21\n"
     ]
    },
    {
     "name": "stderr",
     "output_type": "stream",
     "text": [
      "d:\\tom\\documents\\swc\\repos\\octagon_analysis\\trajectory_analysis\\trajectory_vectors.py:321: RuntimeWarning: invalid value encountered in scalar divide\n",
      "  cosine_similarity_this_wall = dot_product[wall_num]/(player_to_alcove_vector_norms[wall_num] * player_vector_norm)\n",
      "d:\\tom\\documents\\swc\\repos\\octagon_analysis\\analysis\\loser_inferred_choice.py:47: RuntimeWarning: Mean of empty slice\n",
      "  return np.argmax(np.nanmean(cosine_similarity_trajectory, axis=1))\n",
      "d:\\tom\\documents\\swc\\repos\\octagon_analysis\\analysis\\loser_inferred_choice.py:149: RuntimeWarning: Mean of empty slice\n",
      "  highest_alignment_val = np.max(np.nanmean(cosine_similarity_trajectory, axis=1))\n"
     ]
    },
    {
     "name": "stdout",
     "output_type": "stream",
     "text": [
      "Len player_chose_given_wall_indices: 9\n",
      "Len other_visible_trial_indices: 88\n",
      "Len player_chose_given_wall_indices: 44\n",
      "Len other_visible_trial_indices: 24\n"
     ]
    },
    {
     "name": "stderr",
     "output_type": "stream",
     "text": [
      "d:\\tom\\documents\\swc\\repos\\octagon_analysis\\trajectory_analysis\\trajectory_vectors.py:321: RuntimeWarning: invalid value encountered in scalar divide\n",
      "  cosine_similarity_this_wall = dot_product[wall_num]/(player_to_alcove_vector_norms[wall_num] * player_vector_norm)\n",
      "d:\\tom\\documents\\swc\\repos\\octagon_analysis\\analysis\\loser_inferred_choice.py:47: RuntimeWarning: Mean of empty slice\n",
      "  return np.argmax(np.nanmean(cosine_similarity_trajectory, axis=1))\n",
      "d:\\tom\\documents\\swc\\repos\\octagon_analysis\\analysis\\loser_inferred_choice.py:149: RuntimeWarning: Mean of empty slice\n",
      "  highest_alignment_val = np.max(np.nanmean(cosine_similarity_trajectory, axis=1))\n"
     ]
    },
    {
     "name": "stdout",
     "output_type": "stream",
     "text": [
      "Len player_chose_given_wall_indices: 10\n",
      "Len other_visible_trial_indices: 69\n",
      "Len player_chose_given_wall_indices: 29\n",
      "Len other_visible_trial_indices: 28\n"
     ]
    },
    {
     "name": "stderr",
     "output_type": "stream",
     "text": [
      "d:\\tom\\documents\\swc\\repos\\octagon_analysis\\trajectory_analysis\\trajectory_vectors.py:321: RuntimeWarning: invalid value encountered in scalar divide\n",
      "  cosine_similarity_this_wall = dot_product[wall_num]/(player_to_alcove_vector_norms[wall_num] * player_vector_norm)\n",
      "d:\\tom\\documents\\swc\\repos\\octagon_analysis\\analysis\\loser_inferred_choice.py:47: RuntimeWarning: Mean of empty slice\n",
      "  return np.argmax(np.nanmean(cosine_similarity_trajectory, axis=1))\n",
      "d:\\tom\\documents\\swc\\repos\\octagon_analysis\\analysis\\loser_inferred_choice.py:149: RuntimeWarning: Mean of empty slice\n",
      "  highest_alignment_val = np.max(np.nanmean(cosine_similarity_trajectory, axis=1))\n"
     ]
    },
    {
     "name": "stdout",
     "output_type": "stream",
     "text": [
      "Len player_chose_given_wall_indices: 15\n",
      "Len other_visible_trial_indices: 65\n",
      "Len player_chose_given_wall_indices: 24\n",
      "Len other_visible_trial_indices: 33\n"
     ]
    },
    {
     "name": "stderr",
     "output_type": "stream",
     "text": [
      "d:\\tom\\documents\\swc\\repos\\octagon_analysis\\trajectory_analysis\\trajectory_vectors.py:321: RuntimeWarning: invalid value encountered in scalar divide\n",
      "  cosine_similarity_this_wall = dot_product[wall_num]/(player_to_alcove_vector_norms[wall_num] * player_vector_norm)\n",
      "d:\\tom\\documents\\swc\\repos\\octagon_analysis\\analysis\\loser_inferred_choice.py:47: RuntimeWarning: Mean of empty slice\n",
      "  return np.argmax(np.nanmean(cosine_similarity_trajectory, axis=1))\n",
      "d:\\tom\\documents\\swc\\repos\\octagon_analysis\\analysis\\loser_inferred_choice.py:149: RuntimeWarning: Mean of empty slice\n",
      "  highest_alignment_val = np.max(np.nanmean(cosine_similarity_trajectory, axis=1))\n"
     ]
    },
    {
     "name": "stdout",
     "output_type": "stream",
     "text": [
      "Len player_chose_given_wall_indices: 19\n",
      "Len other_visible_trial_indices: 65\n",
      "Len player_chose_given_wall_indices: 45\n",
      "Len other_visible_trial_indices: 45\n"
     ]
    },
    {
     "name": "stderr",
     "output_type": "stream",
     "text": [
      "d:\\tom\\documents\\swc\\repos\\octagon_analysis\\trajectory_analysis\\trajectory_vectors.py:321: RuntimeWarning: invalid value encountered in scalar divide\n",
      "  cosine_similarity_this_wall = dot_product[wall_num]/(player_to_alcove_vector_norms[wall_num] * player_vector_norm)\n",
      "d:\\tom\\documents\\swc\\repos\\octagon_analysis\\analysis\\loser_inferred_choice.py:47: RuntimeWarning: Mean of empty slice\n",
      "  return np.argmax(np.nanmean(cosine_similarity_trajectory, axis=1))\n",
      "d:\\tom\\documents\\swc\\repos\\octagon_analysis\\analysis\\loser_inferred_choice.py:149: RuntimeWarning: Mean of empty slice\n",
      "  highest_alignment_val = np.max(np.nanmean(cosine_similarity_trajectory, axis=1))\n"
     ]
    },
    {
     "name": "stdout",
     "output_type": "stream",
     "text": [
      "Len player_chose_given_wall_indices: 32\n",
      "Len other_visible_trial_indices: 53\n",
      "Len player_chose_given_wall_indices: 32\n",
      "Len other_visible_trial_indices: 56\n"
     ]
    },
    {
     "name": "stderr",
     "output_type": "stream",
     "text": [
      "d:\\tom\\documents\\swc\\repos\\octagon_analysis\\trajectory_analysis\\trajectory_vectors.py:321: RuntimeWarning: invalid value encountered in scalar divide\n",
      "  cosine_similarity_this_wall = dot_product[wall_num]/(player_to_alcove_vector_norms[wall_num] * player_vector_norm)\n",
      "d:\\tom\\documents\\swc\\repos\\octagon_analysis\\analysis\\loser_inferred_choice.py:47: RuntimeWarning: Mean of empty slice\n",
      "  return np.argmax(np.nanmean(cosine_similarity_trajectory, axis=1))\n",
      "d:\\tom\\documents\\swc\\repos\\octagon_analysis\\analysis\\loser_inferred_choice.py:149: RuntimeWarning: Mean of empty slice\n",
      "  highest_alignment_val = np.max(np.nanmean(cosine_similarity_trajectory, axis=1))\n"
     ]
    },
    {
     "name": "stdout",
     "output_type": "stream",
     "text": [
      "Len player_chose_given_wall_indices: 16\n",
      "Len other_visible_trial_indices: 68\n",
      "Len player_chose_given_wall_indices: 27\n",
      "Len other_visible_trial_indices: 52\n"
     ]
    },
    {
     "name": "stderr",
     "output_type": "stream",
     "text": [
      "d:\\tom\\documents\\swc\\repos\\octagon_analysis\\trajectory_analysis\\trajectory_vectors.py:321: RuntimeWarning: invalid value encountered in scalar divide\n",
      "  cosine_similarity_this_wall = dot_product[wall_num]/(player_to_alcove_vector_norms[wall_num] * player_vector_norm)\n",
      "d:\\tom\\documents\\swc\\repos\\octagon_analysis\\analysis\\loser_inferred_choice.py:47: RuntimeWarning: Mean of empty slice\n",
      "  return np.argmax(np.nanmean(cosine_similarity_trajectory, axis=1))\n",
      "d:\\tom\\documents\\swc\\repos\\octagon_analysis\\analysis\\loser_inferred_choice.py:149: RuntimeWarning: Mean of empty slice\n",
      "  highest_alignment_val = np.max(np.nanmean(cosine_similarity_trajectory, axis=1))\n"
     ]
    },
    {
     "name": "stdout",
     "output_type": "stream",
     "text": [
      "Len player_chose_given_wall_indices: 17\n",
      "Len other_visible_trial_indices: 72\n",
      "Len player_chose_given_wall_indices: 26\n",
      "Len other_visible_trial_indices: 40\n"
     ]
    },
    {
     "name": "stderr",
     "output_type": "stream",
     "text": [
      "d:\\tom\\documents\\swc\\repos\\octagon_analysis\\trajectory_analysis\\trajectory_vectors.py:321: RuntimeWarning: invalid value encountered in scalar divide\n",
      "  cosine_similarity_this_wall = dot_product[wall_num]/(player_to_alcove_vector_norms[wall_num] * player_vector_norm)\n",
      "d:\\tom\\documents\\swc\\repos\\octagon_analysis\\analysis\\loser_inferred_choice.py:47: RuntimeWarning: Mean of empty slice\n",
      "  return np.argmax(np.nanmean(cosine_similarity_trajectory, axis=1))\n",
      "d:\\tom\\documents\\swc\\repos\\octagon_analysis\\analysis\\loser_inferred_choice.py:149: RuntimeWarning: Mean of empty slice\n",
      "  highest_alignment_val = np.max(np.nanmean(cosine_similarity_trajectory, axis=1))\n"
     ]
    },
    {
     "name": "stdout",
     "output_type": "stream",
     "text": [
      "Len player_chose_given_wall_indices: 14\n",
      "Len other_visible_trial_indices: 79\n",
      "Len player_chose_given_wall_indices: 28\n",
      "Len other_visible_trial_indices: 40\n"
     ]
    },
    {
     "name": "stderr",
     "output_type": "stream",
     "text": [
      "d:\\tom\\documents\\swc\\repos\\octagon_analysis\\trajectory_analysis\\trajectory_vectors.py:321: RuntimeWarning: invalid value encountered in scalar divide\n",
      "  cosine_similarity_this_wall = dot_product[wall_num]/(player_to_alcove_vector_norms[wall_num] * player_vector_norm)\n",
      "d:\\tom\\documents\\swc\\repos\\octagon_analysis\\analysis\\loser_inferred_choice.py:47: RuntimeWarning: Mean of empty slice\n",
      "  return np.argmax(np.nanmean(cosine_similarity_trajectory, axis=1))\n",
      "d:\\tom\\documents\\swc\\repos\\octagon_analysis\\analysis\\loser_inferred_choice.py:149: RuntimeWarning: Mean of empty slice\n",
      "  highest_alignment_val = np.max(np.nanmean(cosine_similarity_trajectory, axis=1))\n"
     ]
    },
    {
     "name": "stdout",
     "output_type": "stream",
     "text": [
      "Len player_chose_given_wall_indices: 13\n",
      "Len other_visible_trial_indices: 79\n",
      "Len player_chose_given_wall_indices: 29\n",
      "Len other_visible_trial_indices: 37\n"
     ]
    },
    {
     "name": "stderr",
     "output_type": "stream",
     "text": [
      "d:\\tom\\documents\\swc\\repos\\octagon_analysis\\trajectory_analysis\\trajectory_vectors.py:321: RuntimeWarning: invalid value encountered in scalar divide\n",
      "  cosine_similarity_this_wall = dot_product[wall_num]/(player_to_alcove_vector_norms[wall_num] * player_vector_norm)\n",
      "d:\\tom\\documents\\swc\\repos\\octagon_analysis\\analysis\\loser_inferred_choice.py:47: RuntimeWarning: Mean of empty slice\n",
      "  return np.argmax(np.nanmean(cosine_similarity_trajectory, axis=1))\n",
      "d:\\tom\\documents\\swc\\repos\\octagon_analysis\\analysis\\loser_inferred_choice.py:149: RuntimeWarning: Mean of empty slice\n",
      "  highest_alignment_val = np.max(np.nanmean(cosine_similarity_trajectory, axis=1))\n"
     ]
    },
    {
     "name": "stdout",
     "output_type": "stream",
     "text": [
      "Len player_chose_given_wall_indices: 26\n",
      "Len other_visible_trial_indices: 50\n",
      "Len player_chose_given_wall_indices: 32\n",
      "Len other_visible_trial_indices: 25\n"
     ]
    },
    {
     "name": "stderr",
     "output_type": "stream",
     "text": [
      "d:\\tom\\documents\\swc\\repos\\octagon_analysis\\trajectory_analysis\\trajectory_vectors.py:321: RuntimeWarning: invalid value encountered in scalar divide\n",
      "  cosine_similarity_this_wall = dot_product[wall_num]/(player_to_alcove_vector_norms[wall_num] * player_vector_norm)\n",
      "d:\\tom\\documents\\swc\\repos\\octagon_analysis\\analysis\\loser_inferred_choice.py:47: RuntimeWarning: Mean of empty slice\n",
      "  return np.argmax(np.nanmean(cosine_similarity_trajectory, axis=1))\n",
      "d:\\tom\\documents\\swc\\repos\\octagon_analysis\\analysis\\loser_inferred_choice.py:149: RuntimeWarning: Mean of empty slice\n",
      "  highest_alignment_val = np.max(np.nanmean(cosine_similarity_trajectory, axis=1))\n"
     ]
    },
    {
     "name": "stdout",
     "output_type": "stream",
     "text": [
      "Len player_chose_given_wall_indices: 19\n",
      "Len other_visible_trial_indices: 62\n",
      "Len player_chose_given_wall_indices: 39\n",
      "Len other_visible_trial_indices: 30\n"
     ]
    },
    {
     "name": "stderr",
     "output_type": "stream",
     "text": [
      "d:\\tom\\documents\\swc\\repos\\octagon_analysis\\trajectory_analysis\\trajectory_vectors.py:321: RuntimeWarning: invalid value encountered in scalar divide\n",
      "  cosine_similarity_this_wall = dot_product[wall_num]/(player_to_alcove_vector_norms[wall_num] * player_vector_norm)\n",
      "d:\\tom\\documents\\swc\\repos\\octagon_analysis\\analysis\\loser_inferred_choice.py:47: RuntimeWarning: Mean of empty slice\n",
      "  return np.argmax(np.nanmean(cosine_similarity_trajectory, axis=1))\n",
      "d:\\tom\\documents\\swc\\repos\\octagon_analysis\\analysis\\loser_inferred_choice.py:149: RuntimeWarning: Mean of empty slice\n",
      "  highest_alignment_val = np.max(np.nanmean(cosine_similarity_trajectory, axis=1))\n"
     ]
    },
    {
     "name": "stdout",
     "output_type": "stream",
     "text": [
      "Len player_chose_given_wall_indices: 18\n",
      "Len other_visible_trial_indices: 65\n",
      "Len player_chose_given_wall_indices: 49\n",
      "Len other_visible_trial_indices: 14\n"
     ]
    },
    {
     "name": "stderr",
     "output_type": "stream",
     "text": [
      "d:\\tom\\documents\\swc\\repos\\octagon_analysis\\trajectory_analysis\\trajectory_vectors.py:321: RuntimeWarning: invalid value encountered in scalar divide\n",
      "  cosine_similarity_this_wall = dot_product[wall_num]/(player_to_alcove_vector_norms[wall_num] * player_vector_norm)\n",
      "d:\\tom\\documents\\swc\\repos\\octagon_analysis\\analysis\\loser_inferred_choice.py:47: RuntimeWarning: Mean of empty slice\n",
      "  return np.argmax(np.nanmean(cosine_similarity_trajectory, axis=1))\n",
      "d:\\tom\\documents\\swc\\repos\\octagon_analysis\\analysis\\loser_inferred_choice.py:149: RuntimeWarning: Mean of empty slice\n",
      "  highest_alignment_val = np.max(np.nanmean(cosine_similarity_trajectory, axis=1))\n"
     ]
    },
    {
     "name": "stdout",
     "output_type": "stream",
     "text": [
      "Len player_chose_given_wall_indices: 13\n",
      "Len other_visible_trial_indices: 81\n",
      "Len player_chose_given_wall_indices: 54\n",
      "Len other_visible_trial_indices: 30\n"
     ]
    },
    {
     "name": "stderr",
     "output_type": "stream",
     "text": [
      "d:\\tom\\documents\\swc\\repos\\octagon_analysis\\trajectory_analysis\\trajectory_vectors.py:321: RuntimeWarning: invalid value encountered in scalar divide\n",
      "  cosine_similarity_this_wall = dot_product[wall_num]/(player_to_alcove_vector_norms[wall_num] * player_vector_norm)\n",
      "d:\\tom\\documents\\swc\\repos\\octagon_analysis\\analysis\\loser_inferred_choice.py:47: RuntimeWarning: Mean of empty slice\n",
      "  return np.argmax(np.nanmean(cosine_similarity_trajectory, axis=1))\n",
      "d:\\tom\\documents\\swc\\repos\\octagon_analysis\\analysis\\loser_inferred_choice.py:149: RuntimeWarning: Mean of empty slice\n",
      "  highest_alignment_val = np.max(np.nanmean(cosine_similarity_trajectory, axis=1))\n"
     ]
    },
    {
     "name": "stdout",
     "output_type": "stream",
     "text": [
      "Len player_chose_given_wall_indices: 15\n",
      "Len other_visible_trial_indices: 80\n",
      "Len player_chose_given_wall_indices: 36\n",
      "Len other_visible_trial_indices: 41\n"
     ]
    },
    {
     "name": "stderr",
     "output_type": "stream",
     "text": [
      "d:\\tom\\documents\\swc\\repos\\octagon_analysis\\trajectory_analysis\\trajectory_vectors.py:321: RuntimeWarning: invalid value encountered in scalar divide\n",
      "  cosine_similarity_this_wall = dot_product[wall_num]/(player_to_alcove_vector_norms[wall_num] * player_vector_norm)\n"
     ]
    },
    {
     "name": "stdout",
     "output_type": "stream",
     "text": [
      "Len player_chose_given_wall_indices: 20\n",
      "Len other_visible_trial_indices: 69\n"
     ]
    },
    {
     "name": "stderr",
     "output_type": "stream",
     "text": [
      "d:\\tom\\documents\\swc\\repos\\octagon_analysis\\analysis\\loser_inferred_choice.py:47: RuntimeWarning: Mean of empty slice\n",
      "  return np.argmax(np.nanmean(cosine_similarity_trajectory, axis=1))\n",
      "d:\\tom\\documents\\swc\\repos\\octagon_analysis\\analysis\\loser_inferred_choice.py:149: RuntimeWarning: Mean of empty slice\n",
      "  highest_alignment_val = np.max(np.nanmean(cosine_similarity_trajectory, axis=1))\n"
     ]
    },
    {
     "name": "stdout",
     "output_type": "stream",
     "text": [
      "Len player_chose_given_wall_indices: 31\n",
      "Len other_visible_trial_indices: 32\n"
     ]
    },
    {
     "name": "stderr",
     "output_type": "stream",
     "text": [
      "d:\\tom\\documents\\swc\\repos\\octagon_analysis\\trajectory_analysis\\trajectory_vectors.py:321: RuntimeWarning: invalid value encountered in scalar divide\n",
      "  cosine_similarity_this_wall = dot_product[wall_num]/(player_to_alcove_vector_norms[wall_num] * player_vector_norm)\n"
     ]
    },
    {
     "name": "stdout",
     "output_type": "stream",
     "text": [
      "Len player_chose_given_wall_indices: 18\n",
      "Len other_visible_trial_indices: 83\n"
     ]
    },
    {
     "name": "stderr",
     "output_type": "stream",
     "text": [
      "d:\\tom\\documents\\swc\\repos\\octagon_analysis\\analysis\\loser_inferred_choice.py:47: RuntimeWarning: Mean of empty slice\n",
      "  return np.argmax(np.nanmean(cosine_similarity_trajectory, axis=1))\n",
      "d:\\tom\\documents\\swc\\repos\\octagon_analysis\\analysis\\loser_inferred_choice.py:149: RuntimeWarning: Mean of empty slice\n",
      "  highest_alignment_val = np.max(np.nanmean(cosine_similarity_trajectory, axis=1))\n"
     ]
    },
    {
     "name": "stdout",
     "output_type": "stream",
     "text": [
      "Len player_chose_given_wall_indices: 48\n",
      "Len other_visible_trial_indices: 38\n"
     ]
    },
    {
     "name": "stderr",
     "output_type": "stream",
     "text": [
      "d:\\tom\\documents\\swc\\repos\\octagon_analysis\\trajectory_analysis\\trajectory_vectors.py:321: RuntimeWarning: invalid value encountered in scalar divide\n",
      "  cosine_similarity_this_wall = dot_product[wall_num]/(player_to_alcove_vector_norms[wall_num] * player_vector_norm)\n"
     ]
    },
    {
     "name": "stdout",
     "output_type": "stream",
     "text": [
      "Len player_chose_given_wall_indices: 26\n",
      "Len other_visible_trial_indices: 77\n"
     ]
    },
    {
     "name": "stderr",
     "output_type": "stream",
     "text": [
      "d:\\tom\\documents\\swc\\repos\\octagon_analysis\\analysis\\loser_inferred_choice.py:47: RuntimeWarning: Mean of empty slice\n",
      "  return np.argmax(np.nanmean(cosine_similarity_trajectory, axis=1))\n",
      "d:\\tom\\documents\\swc\\repos\\octagon_analysis\\analysis\\loser_inferred_choice.py:149: RuntimeWarning: Mean of empty slice\n",
      "  highest_alignment_val = np.max(np.nanmean(cosine_similarity_trajectory, axis=1))\n"
     ]
    },
    {
     "name": "stdout",
     "output_type": "stream",
     "text": [
      "Len player_chose_given_wall_indices: 40\n",
      "Len other_visible_trial_indices: 32\n"
     ]
    },
    {
     "name": "stderr",
     "output_type": "stream",
     "text": [
      "d:\\tom\\documents\\swc\\repos\\octagon_analysis\\trajectory_analysis\\trajectory_vectors.py:321: RuntimeWarning: invalid value encountered in scalar divide\n",
      "  cosine_similarity_this_wall = dot_product[wall_num]/(player_to_alcove_vector_norms[wall_num] * player_vector_norm)\n",
      "d:\\tom\\documents\\swc\\repos\\octagon_analysis\\analysis\\loser_inferred_choice.py:47: RuntimeWarning: Mean of empty slice\n",
      "  return np.argmax(np.nanmean(cosine_similarity_trajectory, axis=1))\n",
      "d:\\tom\\documents\\swc\\repos\\octagon_analysis\\analysis\\loser_inferred_choice.py:149: RuntimeWarning: Mean of empty slice\n",
      "  highest_alignment_val = np.max(np.nanmean(cosine_similarity_trajectory, axis=1))\n"
     ]
    },
    {
     "name": "stdout",
     "output_type": "stream",
     "text": [
      "Len player_chose_given_wall_indices: 17\n",
      "Len other_visible_trial_indices: 82\n",
      "Len player_chose_given_wall_indices: 37\n",
      "Len other_visible_trial_indices: 70\n"
     ]
    },
    {
     "name": "stderr",
     "output_type": "stream",
     "text": [
      "d:\\tom\\documents\\swc\\repos\\octagon_analysis\\trajectory_analysis\\trajectory_vectors.py:321: RuntimeWarning: invalid value encountered in scalar divide\n",
      "  cosine_similarity_this_wall = dot_product[wall_num]/(player_to_alcove_vector_norms[wall_num] * player_vector_norm)\n",
      "d:\\tom\\documents\\swc\\repos\\octagon_analysis\\analysis\\loser_inferred_choice.py:47: RuntimeWarning: Mean of empty slice\n",
      "  return np.argmax(np.nanmean(cosine_similarity_trajectory, axis=1))\n",
      "d:\\tom\\documents\\swc\\repos\\octagon_analysis\\analysis\\loser_inferred_choice.py:149: RuntimeWarning: Mean of empty slice\n",
      "  highest_alignment_val = np.max(np.nanmean(cosine_similarity_trajectory, axis=1))\n"
     ]
    },
    {
     "name": "stdout",
     "output_type": "stream",
     "text": [
      "Len player_chose_given_wall_indices: 33\n",
      "Len other_visible_trial_indices: 44\n",
      "Len player_chose_given_wall_indices: 21\n",
      "Len other_visible_trial_indices: 96\n"
     ]
    },
    {
     "name": "stderr",
     "output_type": "stream",
     "text": [
      "d:\\tom\\documents\\swc\\repos\\octagon_analysis\\trajectory_analysis\\trajectory_vectors.py:321: RuntimeWarning: invalid value encountered in scalar divide\n",
      "  cosine_similarity_this_wall = dot_product[wall_num]/(player_to_alcove_vector_norms[wall_num] * player_vector_norm)\n",
      "d:\\tom\\documents\\swc\\repos\\octagon_analysis\\analysis\\loser_inferred_choice.py:47: RuntimeWarning: Mean of empty slice\n",
      "  return np.argmax(np.nanmean(cosine_similarity_trajectory, axis=1))\n",
      "d:\\tom\\documents\\swc\\repos\\octagon_analysis\\analysis\\loser_inferred_choice.py:149: RuntimeWarning: Mean of empty slice\n",
      "  highest_alignment_val = np.max(np.nanmean(cosine_similarity_trajectory, axis=1))\n"
     ]
    },
    {
     "name": "stdout",
     "output_type": "stream",
     "text": [
      "Len player_chose_given_wall_indices: 34\n",
      "Len other_visible_trial_indices: 4\n",
      "Len player_chose_given_wall_indices: 1\n",
      "Len other_visible_trial_indices: 60\n"
     ]
    },
    {
     "name": "stderr",
     "output_type": "stream",
     "text": [
      "d:\\tom\\documents\\swc\\repos\\octagon_analysis\\trajectory_analysis\\trajectory_vectors.py:321: RuntimeWarning: invalid value encountered in scalar divide\n",
      "  cosine_similarity_this_wall = dot_product[wall_num]/(player_to_alcove_vector_norms[wall_num] * player_vector_norm)\n",
      "d:\\tom\\documents\\swc\\repos\\octagon_analysis\\analysis\\loser_inferred_choice.py:47: RuntimeWarning: Mean of empty slice\n",
      "  return np.argmax(np.nanmean(cosine_similarity_trajectory, axis=1))\n",
      "d:\\tom\\documents\\swc\\repos\\octagon_analysis\\analysis\\loser_inferred_choice.py:149: RuntimeWarning: Mean of empty slice\n",
      "  highest_alignment_val = np.max(np.nanmean(cosine_similarity_trajectory, axis=1))\n"
     ]
    },
    {
     "name": "stdout",
     "output_type": "stream",
     "text": [
      "Len player_chose_given_wall_indices: 21\n",
      "Len other_visible_trial_indices: 40\n",
      "Len player_chose_given_wall_indices: 14\n"
     ]
    }
   ],
   "source": [
    "c = np.full(len(trial_list_all)*2, np.nan)\n",
    "d = np.full(len(trial_list_all)*2, np.nan)\n",
    "trial_list_index = 0\n",
    "inferred_choice=False\n",
    "\n",
    "for i in range(0,len(trial_list_all)*2, 2):\n",
    "\n",
    "    trial_list = trial_list_all[trial_list_index]\n",
    "\n",
    "    # filter trial list for HighLow trialtype\n",
    "    trial_indices = get_indices.get_trials_trialtype(trial_list, trial_type=trial_type)\n",
    "    trial_list_filtered = [trial_list[i] for i in trial_indices]\n",
    "\n",
    "    player_id = 0\n",
    "    # get Other visibility for this trial list\n",
    "    orientation_angle_to_other_session = get_angle_of_opponent_from_player_session(player_id, trial_list_filtered)\n",
    "    other_visible_session = get_other_visible_session(orientation_angle_to_other_session, current_fov=110)\n",
    "    \n",
    "    c[i] = probability_chose_wall_conditioned_on_other_visibility(trial_list_filtered, other_visible_session,\n",
    "                                                                  inferred_choice, inverse_other_visible=False)\n",
    "    d[i] = probability_chose_wall_conditioned_on_other_visibility(trial_list_filtered, other_visible_session,\n",
    "                                                                  inferred_choice, inverse_other_visible=True)\n",
    "    \n",
    "    player_id = 1\n",
    "    # get Other visibility for this trial list\n",
    "    orientation_angle_to_other_session = get_angle_of_opponent_from_player_session(player_id, trial_list_filtered)\n",
    "    other_visible_session = get_other_visible_session(orientation_angle_to_other_session, current_fov=110)\n",
    "    \n",
    "    c[i+1] = probability_chose_wall_conditioned_on_other_visibility(trial_list_filtered, other_visible_session,\n",
    "                                                                    inferred_choice, inverse_other_visible=False)\n",
    "    d[i+1] = probability_chose_wall_conditioned_on_other_visibility(trial_list_filtered, other_visible_session,\n",
    "                                                                    inferred_choice, inverse_other_visible=True)\n",
    "    \n",
    "    trial_list_index += 1\n",
    "    \n",
    "    \n",
    "wall_choice_probabilities2 = [c,d]\n"
   ]
  },
  {
   "cell_type": "code",
   "execution_count": 383,
   "id": "6e94852d",
   "metadata": {},
   "outputs": [
    {
     "data": {
      "text/plain": [
       "array([0.4137931 , 0.43589744, 0.31944444, 0.34693878, 0.48214286,\n",
       "       0.59649123, 0.38043478, 0.34831461, 0.26086957, 0.25454545,\n",
       "       0.71428571, 0.72      , 0.55072464, 0.60606061, 0.51388889,\n",
       "       0.5       , 0.42028986, 0.36923077, 0.69230769, 0.60377358,\n",
       "       0.39705882, 0.36111111, 0.35443038, 0.36708861, 0.64      ,\n",
       "       0.62903226, 0.75384615, 0.66666667, 0.45      , 0.44927536,\n",
       "       0.57831325, 0.51948052, 0.45121951, 0.47727273, 0.25      ,\n",
       "       0.35      ])"
      ]
     },
     "execution_count": 383,
     "metadata": {},
     "output_type": "execute_result"
    }
   ],
   "source": [
    "d"
   ]
  },
  {
   "cell_type": "code",
   "execution_count": 374,
   "id": "a0d0341b",
   "metadata": {},
   "outputs": [
    {
     "name": "stderr",
     "output_type": "stream",
     "text": [
      "d:\\tom\\documents\\swc\\repos\\octagon_analysis\\plotting\\plot_probability_chose_wall.py:56: FutureWarning: \n",
      "\n",
      "Passing `palette` without assigning `hue` is deprecated and will be removed in v0.14.0. Assign the `x` variable to `hue` and set `legend=False` for the same effect.\n",
      "\n",
      "  sns.boxplot(x=\"Condition\", y=\"Probability\", data=df, palette=\"Paired\", width=.8)\n"
     ]
    },
    {
     "data": {
      "image/png": "[encoded data removed]",
      "text/plain": [
       "<Figure size 800x500 with 1 Axes>"
      ]
     },
     "metadata": {},
     "output_type": "display_data"
    }
   ],
   "source": [
    "plot_probability_chose_wall.boxplot_probability_choose_wall(wall_choice_probabilities, ['Other visible', 'Other not visible'], ylabel=\"P(Choose High | first visible)\")"
   ]
  },
  {
   "cell_type": "code",
   "execution_count": 386,
   "id": "6c24d0a5",
   "metadata": {},
   "outputs": [
    {
     "name": "stderr",
     "output_type": "stream",
     "text": [
      "d:\\tom\\documents\\swc\\repos\\octagon_analysis\\plotting\\plot_probability_chose_wall.py:56: FutureWarning: \n",
      "\n",
      "Passing `palette` without assigning `hue` is deprecated and will be removed in v0.14.0. Assign the `x` variable to `hue` and set `legend=False` for the same effect.\n",
      "\n",
      "  sns.boxplot(x=\"Condition\", y=\"Probability\", data=df, palette=\"Paired\", width=.8)\n"
     ]
    },
    {
     "data": {
      "image/png": "[encoded data removed]",
      "text/plain": [
       "<Figure size 800x500 with 1 Axes>"
      ]
     },
     "metadata": {},
     "output_type": "display_data"
    }
   ],
   "source": [
    "plot_probability_chose_wall.boxplot_probability_choose_wall(wall_choice_probabilities2, ['Other visible', 'Other not visible'], ylabel=\"P(Choose High)\")"
   ]
  },
  {
   "cell_type": "code",
   "execution_count": null,
   "id": "e6d0717e",
   "metadata": {},
   "outputs": [],
   "source": [
    "# Check the above plot. It doesn't make much sense to me that P(choose High) is so low in social here"
   ]
  }
 ],
 "metadata": {
  "kernelspec": {
   "display_name": "octagon_analysis",
   "language": "python",
   "name": "python3"
  },
  "language_info": {
   "codemirror_mode": {
    "name": "ipython",
    "version": 3
   },
   "file_extension": ".py",
   "mimetype": "text/x-python",
   "name": "python",
   "nbconvert_exporter": "python",
   "pygments_lexer": "ipython3",
   "version": "3.12.5"
  }
 },
 "nbformat": 4,
 "nbformat_minor": 5
}
