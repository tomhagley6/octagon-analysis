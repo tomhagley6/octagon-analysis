{
 "cells": [
  {
   "cell_type": "code",
   "execution_count": 7,
   "id": "d4992911-7b02-448c-8ee5-c89c228ad2ed",
   "metadata": {},
   "outputs": [],
   "source": [
    "import parse_data.prepare_data as prepare_data\n",
    "import numpy as np\n",
    "import pandas as pd\n",
    "import matplotlib.pyplot as plt\n",
    "import globals\n",
    "import data_strings\n",
    "import data_extraction.extract_trial as extract_trial\n",
    "import utils.cosine_similarity as cosine_similarity\n",
    "import analysis.wall_visibility_and_choice as wall_visibility_and_choice\n",
    "import data_extraction.get_indices as get_indices"
   ]
  },
  {
   "cell_type": "markdown",
   "id": "7a24b223",
   "metadata": {},
   "source": [
    "### Notebook to identify opponent visibility at trial start "
   ]
  },
  {
   "cell_type": "code",
   "execution_count": null,
   "id": "011c819a-ab6d-4c42-8ab8-c35d0824fbfa",
   "metadata": {},
   "outputs": [],
   "source": [
    "data_folder = data_strings.DATA_FOLDER\n",
    "json_filenames_all_social = data_strings.JSON_FILENAMES_SOCIAL\n",
    "json_filenames_all_solo = data_strings.JSON_FILENAMES_SOLO"
   ]
  },
  {
   "cell_type": "code",
   "execution_count": null,
   "id": "c07cb011",
   "metadata": {},
   "outputs": [],
   "source": [
    "json_filenames = json_filenames_all_social"
   ]
  },
  {
   "cell_type": "code",
   "execution_count": null,
   "id": "167898aa-3073-479e-8eef-6c579c67c7f4",
   "metadata": {
    "scrolled": true
   },
   "outputs": [
    {
     "name": "stdout",
     "output_type": "stream",
     "text": [
      "Data is from period before 2024-09-13 00:00:00\n",
      "Running dataframe through playerinfo_playerposition_conversion.\n",
      "Loading complete.\n",
      "Loading complete.\n",
      "Preprocessing complete.\n",
      "Preprocessing complete.\n"
     ]
    }
   ],
   "source": [
    "df, trials_list = prepare_data.prepare_data(data_folder, json_filenames, combine=False)"
   ]
  },
  {
   "cell_type": "markdown",
   "id": "bfd07e5e",
   "metadata": {},
   "source": [
    "- Identify opponent position at trial start (so, this must be relative to a player)\n",
    "- Identify angle to opponent at trial start (as with wall alcoves and sections in trajectory_headangle)\n",
    "- Identify whether opponent is in field of view at trial start (as with wall visible)\n",
    "- Filter down the list of trials to only include those in which a wall visility condition was True (either, one wall is visible at slice onset, or both are)\n",
    "- Using the above as a condition to identify probability of choices (include in or take inspiration from wall_visibility_and_choice)\n",
    "- extension: also include whether the opponent is facing towards or away from the player (i.e, identify angle of opponent to player at trial start)\n",
    "\n",
    "Important points: make atomic functions for angle of one player to another, allow easy incorporation of whether opponent in facing player, avoid rewriting\n",
    "code for conditions and probability. Wall separation should be included in these functions, but may not be used"
   ]
  },
  {
   "cell_type": "markdown",
   "id": "4102fec8",
   "metadata": {},
   "source": [
    "##### First functions to write:\n",
    "- Function that takes player id and specified trial and returns the position of the player at trial start (copy from trajectory extraction)\n",
    "- Function that takes player and 'opponent' position at trial start, and the headangle of the player, and finds the angle from player to opponent (copy from trajectory headangle)\n",
    "- Umbrella functions to repeat this process throughout a session for a specific player\n",
    "- Function to filter down the array to only trials that fulfill a certain wall visibility condition (also record trial numbers for easier indexing of the list of \n",
    "  pandas dataframes)\n",
    "- Identification of opponent being within FoV can be done with a boolean operation, no need for a function\n",
    "- Apply function 2 and boolean operation to get whether player is in FoV of opponent (as a condition for the extension)\n",
    "- Function to identify whether the choice condition was fulfilled on each of these \n",
    "- Function to calculate probability of making a certain choice (parameter) given the trials that fulfill the player and wall visibility condition, using the function to identify the trials that a particular choice was made"
   ]
  },
  {
   "cell_type": "code",
   "execution_count": 1,
   "id": "7d28a6a4",
   "metadata": {},
   "outputs": [],
   "source": [
    "def get_player_position_trial_start(player_id, trial=None, trial_list=None, trial_index=None):\n",
    "    ''' Return the position of the player at trial start.\n",
    "        Takes the player_id and a single trial.'''\n",
    "    \n",
    "    trial = extract_trial.extract_trial(trial=trial, trial_list=trial_list, trial_index=trial_index)\n",
    "\n",
    "    # get slice onset index, referenced to trial start\n",
    "    slice_onset = trial[trial['eventDescription'] == globals.SLICE_ONSET]\n",
    "    slice_onset_index = slice_onset.index - trial.index[0]\n",
    "    \n",
    "    # access the x and y locations stored in the player location dictionary indexed at the current player id\n",
    "    x_coordinate = trial[globals.PLAYER_LOC_DICT[player_id]['xloc']].iloc[slice_onset_index]\n",
    "    y_coordinate = trial[globals.PLAYER_LOC_DICT[player_id]['yloc']].iloc[slice_onset_index]\n",
    "\n",
    "    player_position_coordinates = np.vstack([x_coordinate, y_coordinate])\n",
    "\n",
    "    return player_position_coordinates\n"
   ]
  },
  {
   "cell_type": "code",
   "execution_count": 3,
   "id": "eed5ce3a",
   "metadata": {},
   "outputs": [],
   "source": [
    "def get_player_headangle_vector_trial_start(player_id, trial=None, trial_list=None, trial_index=None):\n",
    "    ''' Return the head angle of the player at trial start.\n",
    "        Takes the player_id and a single trial. '''\n",
    "    \n",
    "    trial = extract_trial.extract_trial(trial, trial_list, trial_index)\n",
    "    assert isinstance(trial, pd.DataFrame)\n",
    "\n",
    "    # get slice onset index, referenced to trial start\n",
    "    slice_onset = trial[trial['eventDescription'] == globals.SLICE_ONSET]\n",
    "    slice_onset_index = slice_onset.index - trial.index[0]\n",
    "\n",
    "    # find the euler angle for the rotation around the y (Unity vertical) axis\n",
    "    y_rotation = trial[globals.PLAYER_ROT_DICT[player_id]['yrot']].iloc[slice_onset_index]\n",
    "\n",
    "    # convert euler angle into euclidean vector\n",
    "    x_component = np.sin(y_rotation)\n",
    "    z_component = np.cos(y_rotation)\n",
    "    head_angle_vector = np.vstack([x_component, z_component])\n",
    "\n",
    "    return head_angle_vector\n",
    "\n"
   ]
  },
  {
   "cell_type": "code",
   "execution_count": null,
   "id": "de62a429",
   "metadata": {},
   "outputs": [],
   "source": [
    "def calculate_vector_norms_for_timepoint(self_other_vector, self_head_angle_vector):\n",
    "    ''' Return the norm of the head angle vector and the self to other vector\n",
    "        Returns scalar head_angle_vector_norm and self_to_other_vector_norm '''\n",
    "\n",
    "    # find norm of headangle vector\n",
    "    head_angle_vector_norm = np.linalg.norm(self_head_angle_vector)\n",
    "    \n",
    "    # find norm of the self-to-other vector\n",
    "    self_to_other_vector_norm = np.linalg.norm(self_other_vector)\n",
    "\n",
    "    return head_angle_vector_norm, self_to_other_vector_norm"
   ]
  },
  {
   "cell_type": "code",
   "execution_count": null,
   "id": "adeaec72",
   "metadata": {},
   "outputs": [],
   "source": [
    "def calculate_angle_of_to_opponent_from_positions_and_headangle(self_position, other_position,\n",
    "                                                                 self_head_angle_vector):\n",
    "    ''' Return the cosine similarity (angle between vectors, length invariant) between the vector\n",
    "        of self head angle and vector from self to other.\n",
    "        Takes the self position, other position, and self head angle vector.'''\n",
    "\n",
    "    # calculate euclidean vector from Self to Other\n",
    "    # self and other position are size 2 vectors (x,y)\n",
    "    self_other_vector = other_position - self_position\n",
    "\n",
    "    # dot product between head angle vector and self-other vector\n",
    "    dot_product_vectors = np.dot(self_other_vector, self_head_angle_vector)\n",
    "\n",
    "    # vector norms for both self_other_vector and self_head_angle_vector \n",
    "    (self_other_vector_norm,\n",
    "      self_head_angle_vector_norm) = calculate_vector_norms_for_timepoint(self_other_vector, \n",
    "                                                                          self_head_angle_vector)\n",
    "    \n",
    "    # cosine similarity between the two vectors\n",
    "    vector_cosine_similarity = cosine_similarity.calculate_cosine_similarity_two_vectors(dot_product_vectors,\n",
    "                                                                                         self_other_vector_norm,\n",
    "                                                                                         self_head_angle_vector_norm)\n",
    "\n",
    "    return vector_cosine_similarity\n",
    "    \n",
    "\n"
   ]
  },
  {
   "cell_type": "code",
   "execution_count": 2,
   "id": "95574a7b",
   "metadata": {},
   "outputs": [],
   "source": [
    "def get_two_player_positions_trial_start(player_id, trial=None, trial_list=None, trial_index=None):\n",
    "\n",
    "    opponent_id = 1 if player_id == 0 else 1\n",
    "\n",
    "    self_position = get_player_position_trial_start(player_id, trial=None, trial_list=None, trial_index=None)\n",
    "\n",
    "    other_position = get_player_position_trial_start(opponent_id, trial=None, trial_list=None, trial_index=None)\n",
    "\n",
    "    return self_position, other_position"
   ]
  },
  {
   "cell_type": "code",
   "execution_count": null,
   "id": "2a1ee2e4",
   "metadata": {},
   "outputs": [],
   "source": [
    "# Umbrella function to find trial start angle identification for a single player for one trial\n",
    "def get_angle_of_opponent_from_player_trial(player_id, trial=None, trial_list=None, trial_index=None):\n",
    "    ''' For a single trial, return the angle from player head direction to opponent player.\n",
    "        Takes the player_id of Self, and the trial. '''\n",
    "\n",
    "    # find self and other positions \n",
    "    self_position, other_position = get_two_player_positions_trial_start(player_id, trial=trial,\n",
    "                                                                        trial_list=trial_list,\n",
    "                                                                        trial_index=trial_index)\n",
    "\n",
    "    # find general self head angle vector\n",
    "    self_head_angle_vector = get_player_headangle_vector_trial_start(player_id, trial=trial,\n",
    "                                                                    trial_list=trial_list,\n",
    "                                                                    trial_index=trial_index)\n",
    "\n",
    "    # calculate cosine similarity between self_head_angle_vector and self_to_other vector (which is calculated\n",
    "    # in this function as the difference between Self and Other position)\n",
    "    vector_cosine_similarity = calculate_angle_of_to_opponent_from_positions_and_headangle(self_position,\n",
    "                                                                                          other_position,\n",
    "                                                                                          self_head_angle_vector)\n",
    "  \n",
    "    return vector_cosine_similarity\n",
    "    "
   ]
  },
  {
   "cell_type": "code",
   "execution_count": null,
   "id": "83ecbe3c",
   "metadata": {},
   "outputs": [],
   "source": [
    "# Umbrella function to repeat trial start angle identification for a single player for one session\n",
    "\n",
    "def get_angle_of_opponent_from_player_session(player_id, trial_list):\n",
    "    ''' For all trials in a session, return the angle from player head direction to opponent player.\n",
    "        Takes the player_id of Self (persistent throughout session) and the trial list. '''\n",
    "    \n",
    "    # get the angle for each trial in session, for a persistent Self player_id\n",
    "    orientation_angle_to_other_session = np.full(len(trial_list), np.nan,  dtype=float)\n",
    "    for i, trial in enumerate(trial_list):\n",
    "    \n",
    "        vector_cosine_similarity = get_angle_of_opponent_from_player_trial(player_id, trial=trial)\n",
    "\n",
    "        orientation_angle_to_other_session[i] = vector_cosine_similarity\n",
    "\n",
    "    return orientation_angle_to_other_session\n",
    "    "
   ]
  },
  {
   "cell_type": "code",
   "execution_count": null,
   "id": "0d60eeba",
   "metadata": {},
   "outputs": [],
   "source": [
    "def filter_trials_one_wall_initially_visible(trial_list, player_id, wall_index):\n",
    "    ''' Return a filtered trial list and list of indices from the original trial list that\n",
    "        conform to a single trial wall being visible to player player_id at trial start,\n",
    "        conferred by wall_index (e.g. 0 or 1 for wall1 or wall2) '''\n",
    "    \n",
    "    # find wall visibility for the full session\n",
    "    (wall1_visible_session,\n",
    "    wall2_visible_session) = wall_visibility_and_choice.get_walls_initial_visibility_session(trial_list=trial_list,\n",
    "                                                                    player_id=player_id,\n",
    "                                                                    debug=False, current_fov=110)\n",
    "    \n",
    "    if wall_index == 0:\n",
    "        single_wall_visible_indices = np.where(wall1_visible_session == True)\n",
    "    elif wall_index == 1:\n",
    "        single_wall_visible_indices = np.where(wall2_visible_session == True)\n",
    "\n",
    "    filtered_trial_list = trial_list[single_wall_visible_indices]\n",
    "\n",
    "    return filtered_trial_list, single_wall_visible_indices\n"
   ]
  },
  {
   "cell_type": "code",
   "execution_count": null,
   "id": "6a802aa7",
   "metadata": {},
   "outputs": [],
   "source": [
    "def get_other_visible_session(orientation_angle_to_other_session, current_fov):\n",
    "    ''' Return a boolean array for whether Other is visible to Self at trials start. '''\n",
    "\n",
    "    # if Other is visible, the angle to orient Other into Self central view must be less than half the current\n",
    "    # field-of-view.\n",
    "    # At the threshold, Other enters visual periphery\n",
    "    other_visible_session = orientation_angle_to_other_session < current_fov/2\n",
    "\n",
    "    return other_visible_session\n"
   ]
  },
  {
   "cell_type": "code",
   "execution_count": null,
   "id": "208b0e4c",
   "metadata": {},
   "outputs": [],
   "source": [
    "def filter_trials_both_walls_initially_visible(trial_list, player_id):\n",
    "    ''' Return a filtered trial list and list of indices from the original trial list that\n",
    "        conform to both trials walls being visible to player player_id at trial start. '''\n",
    "    \n",
    "    # find wall visibility for the full session\n",
    "    (wall1_visible_session,\n",
    "    wall2_visible_session) = wall_visibility_and_choice.get_walls_initial_visibility_session(trial_list=trial_list,\n",
    "                                                                    player_id=player_id,\n",
    "                                                                    debug=False, current_fov=110)\n",
    "    \n",
    "\n",
    "    both_walls_visible_indices = np.where(wall1_visible_session == True and wall2_visible_session == True)\n",
    "\n",
    "    filtered_trial_list = trial_list[both_walls_visible_indices]\n",
    "\n",
    "    return filtered_trial_list, both_walls_visible_indices"
   ]
  },
  {
   "cell_type": "code",
   "execution_count": 6,
   "id": "33ca2b0c",
   "metadata": {},
   "outputs": [],
   "source": [
    "# filter trial list further with visibility of Other\n",
    "\n",
    "# then, work out which trials the player made a certain choice (choose High), use wall_visibility_and_choice\n",
    "\n",
    "# calculate the basic probability\n",
    "\n",
    "# (keep in mind being able to include Other visibility of Self)"
   ]
  },
  {
   "cell_type": "code",
   "execution_count": null,
   "id": "68e99e05",
   "metadata": {},
   "outputs": [],
   "source": [
    "def filter_trials_other_visible(trial_list, other_visible_session):\n",
    "    ''' Return a filtered trial list and list of indices from the original trial list that\n",
    "        conform to Other visible to player player_id at trial start. '''\n",
    "    \n",
    "    other_visible_trial_indices = np.where(other_visible_session == True)\n",
    "\n",
    "    filtered_trial_list = trial_list[other_visible_trial_indices]\n",
    "\n",
    "    return filtered_trial_list, other_visible_trial_indices\n",
    "    \n",
    "    "
   ]
  },
  {
   "cell_type": "code",
   "execution_count": null,
   "id": "cc223c37",
   "metadata": {},
   "outputs": [],
   "source": [
    "def placeholder(trial_list, player_id, given_wall_index=0):\n",
    "    ''' Find trials where player choice (winner + loser, or just winner) aligned with\n",
    "        the given wall index (e.g., 0 for wall1)'''\n",
    "    \n",
    "    # get player choice (wall number) for each trial\n",
    "    # inferred choice can be used here\n",
    "    player_choice = wall_visibility_and_choice.get_player_wall_choice(trial_list, player_id,\n",
    "                                                                        inferred_choice=True, debug=False)\n",
    "\n",
    "    given_wall_chosen_session = get_indices.was_given_wall_chosen(trial_list, player_choice,\n",
    "                                                                  given_wall_index)\n",
    "    \n",
    "    # find the indices of the trials in trial_list where the given wall was chosen by player player_id\n",
    "    given_wall_chosen_indices = np.where(given_wall_chosen_session == True)\n",
    "\n",
    "    # filter and return trial_list\n",
    "    return trial_list[given_wall_chosen_indices]\n",
    "\n",
    "\n",
    "## DOUBLE CHECK THIS TOMORROW, WAS TIRED\n",
    "\n",
    "    \n"
   ]
  },
  {
   "cell_type": "markdown",
   "id": "fdb7ed41",
   "metadata": {},
   "source": [
    "### Sandbox-y"
   ]
  },
  {
   "cell_type": "code",
   "execution_count": null,
   "id": "56d1a4d2",
   "metadata": {},
   "outputs": [],
   "source": [
    "def get_opponent_position_trial_start(player_id, trial=None, trial_list=None, trial_index=None):\n",
    "    ''' Return the position of the opponent at trial start.\n",
    "        Takes the player_id and a single trial.'''\n",
    "    \n",
    "    opponent_id = 0 if player_id == 1 else 0\n",
    "\n",
    "    trial = extract_trial.extract_trial(trial=trial, trial_list=trial_list, trial_index=trial_index)\n",
    "\n",
    "    # get slice onset index, referenced to trial start\n",
    "    slice_onset = trial[trial['eventDescription'] == globals.SLICE_ONSET]\n",
    "    slice_onset_index = slice_onset.index - trial.index[0]\n",
    "    \n",
    "    # access the x and y locations stored in the player location dictionary indexed at the current player id\n",
    "    x_coordinate = trial[globals.PLAYER_LOC_DICT[opponent_id]['xloc']].iloc[slice_onset_index]\n",
    "    y_coordinate = trial[globals.PLAYER_LOC_DICT[opponent_id]['yloc']].iloc[slice_onset_index]\n",
    "\n",
    "    opponent_position_vector = np.vstack([x_coordinate, y_coordinate])\n",
    "\n",
    "    return opponent_position_vector\n"
   ]
  }
 ],
 "metadata": {
  "kernelspec": {
   "display_name": "octagon_analysis",
   "language": "python",
   "name": "python3"
  },
  "language_info": {
   "codemirror_mode": {
    "name": "ipython",
    "version": 3
   },
   "file_extension": ".py",
   "mimetype": "text/x-python",
   "name": "python",
   "nbconvert_exporter": "python",
   "pygments_lexer": "ipython3",
   "version": "3.12.5"
  }
 },
 "nbformat": 4,
 "nbformat_minor": 5
}
