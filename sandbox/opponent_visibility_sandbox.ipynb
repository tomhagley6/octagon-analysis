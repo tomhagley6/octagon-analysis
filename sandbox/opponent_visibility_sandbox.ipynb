{
 "cells": [
  {
   "cell_type": "code",
   "execution_count": 1,
   "id": "d4992911-7b02-448c-8ee5-c89c228ad2ed",
   "metadata": {},
   "outputs": [],
   "source": [
    "import parse_data.prepare_data as prepare_data\n",
    "import numpy as np\n",
    "import pandas as pd\n",
    "import matplotlib.pyplot as plt\n",
    "import globals\n",
    "import data_strings\n",
    "import data_extraction.extract_trial as extract_trial"
   ]
  },
  {
   "cell_type": "markdown",
   "id": "7a24b223",
   "metadata": {},
   "source": [
    "### Notebook to identify opponent visibility at trial start "
   ]
  },
  {
   "cell_type": "code",
   "execution_count": null,
   "id": "011c819a-ab6d-4c42-8ab8-c35d0824fbfa",
   "metadata": {},
   "outputs": [],
   "source": [
    "data_folder = data_strings.DATA_FOLDER\n",
    "json_filenames_all_social = data_strings.JSON_FILENAMES_SOCIAL\n",
    "json_filenames_all_solo = data_strings.JSON_FILENAMES_SOLO"
   ]
  },
  {
   "cell_type": "code",
   "execution_count": null,
   "id": "c07cb011",
   "metadata": {},
   "outputs": [],
   "source": [
    "json_filenames = json_filenames_all_social"
   ]
  },
  {
   "cell_type": "code",
   "execution_count": null,
   "id": "167898aa-3073-479e-8eef-6c579c67c7f4",
   "metadata": {
    "scrolled": true
   },
   "outputs": [
    {
     "name": "stdout",
     "output_type": "stream",
     "text": [
      "Data is from period before 2024-09-13 00:00:00\n",
      "Running dataframe through playerinfo_playerposition_conversion.\n",
      "Loading complete.\n",
      "Loading complete.\n",
      "Preprocessing complete.\n",
      "Preprocessing complete.\n"
     ]
    }
   ],
   "source": [
    "df, trials_list = prepare_data.prepare_data(data_folder, json_filenames, combine=False)"
   ]
  },
  {
   "cell_type": "markdown",
   "id": "bfd07e5e",
   "metadata": {},
   "source": [
    "- Identify opponent position at trial start (so, this must be relative to a player)\n",
    "- Identify angle to opponent at trial start (as with wall alcoves and sections in trajectory_headangle)\n",
    "- Identify whether opponent is in field of view at trial start (as with wall visible)\n",
    "- Filter down the list of trials to only include those in which a wall visility condition was True\n",
    "- Using the above as a condition to identify probability of choices (include in or take inspiration from wall_visibility_and_choice)\n",
    "- extension: also include whether the opponent is facing towards or away from the player (i.e, identify angle of opponent to player at trial start)\n",
    "\n",
    "Important points: make atomic functions for angle of one player to another, allow easy incorporation of whether opponent in facing player, avoid rewriting\n",
    "code for conditions and probability. Wall separation should be included in these functions, but may not be used"
   ]
  },
  {
   "cell_type": "markdown",
   "id": "4102fec8",
   "metadata": {},
   "source": [
    "##### First functions to write:\n",
    "- Function that takes player id and specified trial and returns the position of the player at trial start (copy from trajectory extraction)\n",
    "- Function that takes player and 'opponent' position at trial start, and the headangle of the player, and finds the angle from player to opponent (copy from trajectory headangle)\n",
    "- Umbrella functions to repeat this process throughout a session for a specific player\n",
    "- Function to filter down the array to only trials that fulfill a certain wall visibility condition (also record trial numbers for easier indexing of the list of \n",
    "  pandas dataframes)\n",
    "- Identification of opponent being within FoV can be done with a boolean operation, no need for a function\n",
    "- Apply function 2 and boolean operation to get whether player is in FoV of opponent (as a condition for the extension)\n",
    "- Function to identify whether the choice condition was fulfilled on each of these \n",
    "- Function to calculate probability of making a certain choice (parameter) given the trials that fulfill the player and wall visibility condition, using the function to identify the trials that a particular choice was made"
   ]
  },
  {
   "cell_type": "code",
   "execution_count": null,
   "id": "7d28a6a4",
   "metadata": {},
   "outputs": [],
   "source": [
    "def get_opponent_position_trial_start(player_id, trial=None, trial_list=None, trial_index=None):\n",
    "    ''' Return the position of the opponent at trial start.\n",
    "        Takes the player_id and a single trial.'''\n",
    "    \n",
    "    opponent_id = 0 if player_id == 1 else 0\n",
    "\n",
    "    trial = extract_trial.extract_trial(trial=trial, trial_list=trial_list, trial_index=trial_index)\n",
    "\n",
    "    # get slice onset index, referenced to trial start\n",
    "    slice_onset = trial[trial['eventDescription'] == globals.SLICE_ONSET]\n",
    "    slice_onset_index = slice_onset.index - trial.index[0]\n",
    "    \n",
    "    # access the x and y locations stored in the player location dictionary indexed at the current player id\n",
    "    x_coordinate = trial[globals.PLAYER_LOC_DICT[opponent_id]['xloc']].iloc[slice_onset_index]\n",
    "    y_coordinate = trial[globals.PLAYER_LOC_DICT[opponent_id]['yloc']].iloc[slice_onset_index]\n",
    "\n",
    "    opponent_position_vector = np.vstack([x_coordinate, y_coordinate])\n",
    "\n",
    "    return opponent_position_vector\n"
   ]
  },
  {
   "cell_type": "code",
   "execution_count": null,
   "id": "eed5ce3a",
   "metadata": {},
   "outputs": [],
   "source": [
    "def get_player_headangle_trial_start(player_id, trial=None, trial_list=None, trial_index=None):\n",
    "    ''' Return the head angle of the player at trial start.\n",
    "        Takes the player_id and a single trial. '''\n",
    "    \n",
    "    trial = extract_trial.extract_trial(trial, trial_list, trial_index)\n",
    "    assert isinstance(trial, pd.DataFrame)\n",
    "\n",
    "    # get slice onset index, referenced to trial start\n",
    "    slice_onset = trial[trial['eventDescription'] == globals.SLICE_ONSET]\n",
    "    slice_onset_index = slice_onset.index - trial.index[0]\n",
    "\n",
    "    # find the euler angles for the rotation around the y (Unity vertical) axis\n",
    "    y_rotation = trial[globals.PLAYER_ROT_DICT[player_id]['yrot']].iloc[slice_onset_index:selected_trigger_activation_index]"
   ]
  },
  {
   "cell_type": "code",
   "execution_count": null,
   "id": "adeaec72",
   "metadata": {},
   "outputs": [],
   "source": [
    "def get_angle_of_opponent_from_player(player_id, opponent_position, self_position)"
   ]
  }
 ],
 "metadata": {
  "kernelspec": {
   "display_name": "octagon_analysis",
   "language": "python",
   "name": "python3"
  },
  "language_info": {
   "codemirror_mode": {
    "name": "ipython",
    "version": 3
   },
   "file_extension": ".py",
   "mimetype": "text/x-python",
   "name": "python",
   "nbconvert_exporter": "python",
   "pygments_lexer": "ipython3",
   "version": "3.12.7"
  }
 },
 "nbformat": 4,
 "nbformat_minor": 5
}
