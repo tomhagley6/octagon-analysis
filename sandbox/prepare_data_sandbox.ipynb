{
 "cells": [
  {
   "cell_type": "code",
   "execution_count": 1,
   "id": "d4992911-7b02-448c-8ee5-c89c228ad2ed",
   "metadata": {},
   "outputs": [],
   "source": [
    "import parse_data.prepare_data as prepare_data\n",
    "import numpy as np\n",
    "import pandas as pd\n",
    "import matplotlib.pyplot as plt\n",
    "import globals"
   ]
  },
  {
   "cell_type": "code",
   "execution_count": 2,
   "id": "011c819a-ab6d-4c42-8ab8-c35d0824fbfa",
   "metadata": {},
   "outputs": [],
   "source": [
    "# paths\n",
    "# data_folder = '/home/tom/Documents/SWC/data' # desktop Duan Lab\n",
    "# json_filename = '240913_Yansu_Jerry/2024-09-13_11-53-34_YansuSecondSolo.json' \n",
    "# json_filename = '240913_Yansu_Jerry/2024-09-13_11-31-00_YansuJerrySocial.json'\n",
    "# data_folder = r'D:\\Users\\Tom\\OneDrive\\PhD\\SWC\\data' # desktop home\n",
    "data_folder = r'C:\\Users\\tomha\\OneDrive\\PhD\\SWC\\data' # octagon laptop\n",
    "# json_filenames = [r'first_experiments_2409\\240913\\2024-09-13_11-23-37_YansuFirstSolo.json']\n",
    "json_filenames = [r'first_experiments_2409\\240913\\2024-09-13_11-31-00_YansuJerrySocial.json',\n",
    "                  r'second_experiments_2409\\240927\\2024-09-27_14-25-20_SaraEmilySocial.json']"
   ]
  },
  {
   "cell_type": "code",
   "execution_count": 3,
   "id": "167898aa-3073-479e-8eef-6c579c67c7f4",
   "metadata": {},
   "outputs": [
    {
     "name": "stdout",
     "output_type": "stream",
     "text": [
      "Data is from period before 2024-09-13 00:00:00\n",
      "Running dataframe through playerinfo_playerposition_conversion.\n",
      "Loading complete.\n",
      "Loading complete.\n",
      "Preprocessing complete.\n",
      "Preprocessing complete.\n"
     ]
    }
   ],
   "source": [
    "df, trials_list = prepare_data.prepare_data(data_folder, json_filenames)"
   ]
  },
  {
   "cell_type": "code",
   "execution_count": 10,
   "id": "d4e0c744-2136-4fe5-b0b0-056182f8488c",
   "metadata": {},
   "outputs": [
    {
     "data": {
      "text/plain": [
       "4937     -1.679279685\n",
       "5416      5.654138088\n",
       "5868     13.669239044\n",
       "6331     -5.356249809\n",
       "6745    -14.024356842\n",
       "             ...     \n",
       "49304    -6.941709042\n",
       "49710    -3.402164459\n",
       "50209    -4.032801151\n",
       "50719    -5.984726906\n",
       "51175     0.620603144\n",
       "Name: data.playerPosition.0.location.x, Length: 233, dtype: float64"
      ]
     },
     "execution_count": 10,
     "metadata": {},
     "output_type": "execute_result"
    }
   ],
   "source": [
    "df[df['eventDescription'] == 'slice onset'][globals.PLAYER_0_XLOC]"
   ]
  },
  {
   "cell_type": "code",
   "execution_count": null,
   "id": "750fa029-25b2-47c4-b967-f15c5ee428bc",
   "metadata": {},
   "outputs": [],
   "source": []
  }
 ],
 "metadata": {
  "kernelspec": {
   "display_name": "Python 3 (ipykernel)",
   "language": "python",
   "name": "python3"
  },
  "language_info": {
   "codemirror_mode": {
    "name": "ipython",
    "version": 3
   },
   "file_extension": ".py",
   "mimetype": "text/x-python",
   "name": "python",
   "nbconvert_exporter": "python",
   "pygments_lexer": "ipython3",
   "version": "3.11.10"
  }
 },
 "nbformat": 4,
 "nbformat_minor": 5
}
