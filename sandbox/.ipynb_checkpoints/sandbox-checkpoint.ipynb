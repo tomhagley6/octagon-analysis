{
 "cells": [
  {
   "cell_type": "code",
   "execution_count": null,
   "id": "da912173-377b-4ef0-bcb8-ac4186b89a3f",
   "metadata": {},
   "outputs": [],
   "source": []
  },
  {
   "cell_type": "code",
   "execution_count": 33,
   "id": "d8e7cf3d-7738-430b-973d-e1de3669bf2a",
   "metadata": {},
   "outputs": [],
   "source": [
    "test = df[df['eventDescription'] == 'trial start'].filter(like='location.x').ffill(axis=1).iloc[:,-1]"
   ]
  },
  {
   "cell_type": "code",
   "execution_count": 34,
   "id": "744a6e3f-2a84-41d1-86f0-b286f42a1060",
   "metadata": {},
   "outputs": [
    {
     "data": {
      "text/plain": [
       "0"
      ]
     },
     "execution_count": 34,
     "metadata": {},
     "output_type": "execute_result"
    }
   ],
   "source": [
    "len(test[test.isna()])\n"
   ]
  },
  {
   "cell_type": "code",
   "execution_count": 45,
   "id": "8385621e-424f-4846-9ee2-59791ea36ab1",
   "metadata": {},
   "outputs": [],
   "source": [
    "idx = 4"
   ]
  },
  {
   "cell_type": "code",
   "execution_count": 46,
   "id": "bd0cb066-8770-47f4-a338-2c0685a2642c",
   "metadata": {},
   "outputs": [
    {
     "data": {
      "text/plain": [
       "2"
      ]
     },
     "execution_count": 46,
     "metadata": {},
     "output_type": "execute_result"
    }
   ],
   "source": [
    "len(df[df[f'data.playerPosition.{columns_to_merge[idx]}'].isna()][f'data.playerPosition.{columns_to_merge[idx]}'])"
   ]
  },
  {
   "cell_type": "code",
   "execution_count": 52,
   "id": "fb103220-4e85-4e34-ac52-0cce7b470e64",
   "metadata": {},
   "outputs": [
    {
     "data": {
      "text/plain": [
       "18306"
      ]
     },
     "execution_count": 52,
     "metadata": {},
     "output_type": "execute_result"
    }
   ],
   "source": [
    "len(df[df['data.playerInfo.0.location.x'].isna()]['data.playerInfo.0.location.x'])"
   ]
  },
  {
   "cell_type": "code",
   "execution_count": 53,
   "id": "9ee93113-5521-4294-a20e-cc4696f4b48e",
   "metadata": {
    "scrolled": true
   },
   "outputs": [
    {
     "data": {
      "text/plain": [
       "0       NaN\n",
       "18336   NaN\n",
       "Name: data.playerPosition.0.location.y, dtype: float64"
      ]
     },
     "execution_count": 53,
     "metadata": {},
     "output_type": "execute_result"
    }
   ],
   "source": [
    "df[df['data.playerPosition.0.location.y'].isna()]['data.playerPosition.0.location.y']"
   ]
  }
 ],
 "metadata": {
  "kernelspec": {
   "display_name": "Python 3 (ipykernel)",
   "language": "python",
   "name": "python3"
  },
  "language_info": {
   "codemirror_mode": {
    "name": "ipython",
    "version": 3
   },
   "file_extension": ".py",
   "mimetype": "text/x-python",
   "name": "python",
   "nbconvert_exporter": "python",
   "pygments_lexer": "ipython3",
   "version": "3.12.5"
  }
 },
 "nbformat": 4,
 "nbformat_minor": 5
}
