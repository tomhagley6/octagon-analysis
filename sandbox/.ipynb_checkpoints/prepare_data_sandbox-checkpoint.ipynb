{
 "cells": [
  {
   "cell_type": "code",
   "execution_count": 6,
   "id": "d4992911-7b02-448c-8ee5-c89c228ad2ed",
   "metadata": {},
   "outputs": [],
   "source": [
    "import parse_data.prepare_data as prepare_data\n",
    "import numpy as np\n",
    "import pandas as pd\n",
    "import matplotlib.pyplot as plt\n",
    "import globals"
   ]
  },
  {
   "cell_type": "code",
   "execution_count": 7,
   "id": "011c819a-ab6d-4c42-8ab8-c35d0824fbfa",
   "metadata": {},
   "outputs": [],
   "source": [
    "# paths\n",
    "# data_folder = '/home/tom/Documents/SWC/data' # desktop Duan Lab\n",
    "# json_filename = '240913_Yansu_Jerry/2024-09-13_11-53-34_YansuSecondSolo.json' \n",
    "# json_filename = '240913_Yansu_Jerry/2024-09-13_11-31-00_YansuJerrySocial.json'\n",
    "data_folder = r'D:\\Users\\Tom\\OneDrive\\PhD\\SWC\\data' # desktop home\n",
    "# json_filenames = [r'first_experiments_2409\\240913\\2024-09-13_11-23-37_YansuFirstSolo.json']\n",
    "json_filenames = [r'first_experiments_2409\\240913\\2024-09-13_11-31-00_YansuJerrySocial.json',\n",
    "                  r'second_experiments_2409\\240927\\2024-09-27_14-25-20_SaraEmilySocial.json']"
   ]
  },
  {
   "cell_type": "code",
   "execution_count": 8,
   "id": "167898aa-3073-479e-8eef-6c579c67c7f4",
   "metadata": {},
   "outputs": [
    {
     "name": "stdout",
     "output_type": "stream",
     "text": [
      "Data is from period before 2024-09-13 11:31:00\n",
      "Running dataframe through playerinfo_playerposition_conversion.\n",
      "Loading complete.\n",
      "Loading complete.\n",
      "Preprocessing complete.\n",
      "Preprocessing complete.\n"
     ]
    }
   ],
   "source": [
    "df, trials_list = prepare_data.prepare_data(data_folder, json_filenames)"
   ]
  },
  {
   "cell_type": "code",
   "execution_count": 9,
   "id": "d4e0c744-2136-4fe5-b0b0-056182f8488c",
   "metadata": {},
   "outputs": [
    {
     "name": "stdout",
     "output_type": "stream",
     "text": [
      "<class 'pandas.core.frame.DataFrame'>\n",
      "Index: 104390 entries, 4906 to 51621\n",
      "Data columns (total 27 columns):\n",
      " #   Column                            Non-Null Count   Dtype          \n",
      "---  ------                            --------------   -----          \n",
      " 0   timeLocal                         104390 non-null  datetime64[ns] \n",
      " 1   timeApplication                   104390 non-null  timedelta64[ns]\n",
      " 2   eventDescription                  104390 non-null  object         \n",
      " 3   data.playerPosition.0.clientId    104261 non-null  float64        \n",
      " 4   data.playerPosition.0.location.x  104390 non-null  float64        \n",
      " 5   data.playerPosition.0.location.y  104390 non-null  float64        \n",
      " 6   data.playerPosition.0.location.z  104390 non-null  float64        \n",
      " 7   data.playerPosition.0.rotation.x  104390 non-null  float64        \n",
      " 8   data.playerPosition.0.rotation.y  104390 non-null  float64        \n",
      " 9   data.playerPosition.0.rotation.z  104390 non-null  float64        \n",
      " 10  data.playerPosition.1.clientId    104261 non-null  float64        \n",
      " 11  data.playerPosition.1.location.x  104261 non-null  float64        \n",
      " 12  data.playerPosition.1.location.y  104261 non-null  float64        \n",
      " 13  data.playerPosition.1.location.z  104261 non-null  float64        \n",
      " 14  data.playerPosition.1.rotation.x  104261 non-null  float64        \n",
      " 15  data.playerPosition.1.rotation.y  104261 non-null  float64        \n",
      " 16  data.playerPosition.1.rotation.z  104261 non-null  float64        \n",
      " 17  data.trialNum                     104390 non-null  float64        \n",
      " 18  data.trialType                    104390 non-null  object         \n",
      " 19  data.wall1                        65105 non-null   float64        \n",
      " 20  data.wall2                        65105 non-null   float64        \n",
      " 21  data.wallTriggered                354 non-null     float64        \n",
      " 22  data.triggerClient                354 non-null     float64        \n",
      " 23  data.playerScores.0               104390 non-null  float64        \n",
      " 24  data.playerScores.1               233 non-null     float64        \n",
      " 25  timeReferenced                    104390 non-null  timedelta64[ns]\n",
      " 26  trial_epoch                       104390 non-null  object         \n",
      "dtypes: datetime64[ns](1), float64(21), object(3), timedelta64[ns](2)\n",
      "memory usage: 22.3+ MB\n"
     ]
    }
   ],
   "source": [
    "df.info()"
   ]
  },
  {
   "cell_type": "code",
   "execution_count": 10,
   "id": "3cc00df1-130f-4927-b132-34222dcf78ca",
   "metadata": {},
   "outputs": [
    {
     "name": "stdout",
     "output_type": "stream",
     "text": [
      "233\n"
     ]
    }
   ],
   "source": [
    "print(len(trials_list))"
   ]
  }
 ],
 "metadata": {
  "kernelspec": {
   "display_name": "Python 3 (ipykernel)",
   "language": "python",
   "name": "python3"
  },
  "language_info": {
   "codemirror_mode": {
    "name": "ipython",
    "version": 3
   },
   "file_extension": ".py",
   "mimetype": "text/x-python",
   "name": "python",
   "nbconvert_exporter": "python",
   "pygments_lexer": "ipython3",
   "version": "3.12.5"
  }
 },
 "nbformat": 4,
 "nbformat_minor": 5
}
