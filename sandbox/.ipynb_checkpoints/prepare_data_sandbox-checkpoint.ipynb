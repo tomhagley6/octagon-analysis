{
 "cells": [
  {
   "cell_type": "code",
   "execution_count": 1,
   "id": "d4992911-7b02-448c-8ee5-c89c228ad2ed",
   "metadata": {},
   "outputs": [],
   "source": [
    "import parse_data.prepare_data as prepare_data\n",
    "import numpy as np\n",
    "import pandas as pd\n",
    "import matplotlib.pyplot as plt\n",
    "import globals"
   ]
  },
  {
   "cell_type": "code",
   "execution_count": 2,
   "id": "011c819a-ab6d-4c42-8ab8-c35d0824fbfa",
   "metadata": {},
   "outputs": [],
   "source": [
    "# paths\n",
    "# data_folder = '/home/tom/Documents/SWC/data' # desktop Duan Lab\n",
    "# json_filename = '240913_Yansu_Jerry/2024-09-13_11-53-34_YansuSecondSolo.json' \n",
    "# json_filename = '240913_Yansu_Jerry/2024-09-13_11-31-00_YansuJerrySocial.json'\n",
    "data_folder = r'D:\\Users\\Tom\\OneDrive\\PhD\\SWC\\data' # desktop home\n",
    "# json_filenames = [r'first_experiments_2409\\240913\\2024-09-13_11-23-37_YansuFirstSolo.json']\n",
    "json_filenames = [r'first_experiments_2409\\240913\\2024-09-13_11-31-00_YansuJerrySocial.json',\n",
    "                  r'second_experiments_2409\\240927\\2024-09-27_14-25-20_SaraEmilySocial.json']"
   ]
  },
  {
   "cell_type": "code",
   "execution_count": 3,
   "id": "167898aa-3073-479e-8eef-6c579c67c7f4",
   "metadata": {},
   "outputs": [
    {
     "name": "stdout",
     "output_type": "stream",
     "text": [
      "Data is from period before 2024-09-13 11:31:00\n",
      "Running dataframe through playerinfo_playerposition_conversion.\n",
      "Loading complete.\n",
      "Loading complete.\n",
      "Preprocessing complete.\n",
      "Preprocessing complete.\n"
     ]
    }
   ],
   "source": [
    "df, trials_list = prepare_data.prepare_data(data_folder, json_filenames)"
   ]
  },
  {
   "cell_type": "code",
   "execution_count": 4,
   "id": "d4e0c744-2136-4fe5-b0b0-056182f8488c",
   "metadata": {},
   "outputs": [
    {
     "name": "stdout",
     "output_type": "stream",
     "text": [
      "<class 'pandas.core.frame.DataFrame'>\n",
      "Index: 104390 entries, 4906 to 51621\n",
      "Data columns (total 27 columns):\n",
      " #   Column                            Non-Null Count   Dtype          \n",
      "---  ------                            --------------   -----          \n",
      " 0   timeLocal                         104390 non-null  datetime64[ns] \n",
      " 1   timeApplication                   104390 non-null  timedelta64[ns]\n",
      " 2   eventDescription                  104390 non-null  object         \n",
      " 3   data.playerPosition.0.clientId    104261 non-null  float64        \n",
      " 4   data.playerPosition.0.location.x  104390 non-null  float64        \n",
      " 5   data.playerPosition.0.location.y  104390 non-null  float64        \n",
      " 6   data.playerPosition.0.location.z  104390 non-null  float64        \n",
      " 7   data.playerPosition.0.rotation.x  104390 non-null  float64        \n",
      " 8   data.playerPosition.0.rotation.y  104390 non-null  float64        \n",
      " 9   data.playerPosition.0.rotation.z  104390 non-null  float64        \n",
      " 10  data.playerPosition.1.clientId    104261 non-null  float64        \n",
      " 11  data.playerPosition.1.location.x  104261 non-null  float64        \n",
      " 12  data.playerPosition.1.location.y  104261 non-null  float64        \n",
      " 13  data.playerPosition.1.location.z  104261 non-null  float64        \n",
      " 14  data.playerPosition.1.rotation.x  104261 non-null  float64        \n",
      " 15  data.playerPosition.1.rotation.y  104261 non-null  float64        \n",
      " 16  data.playerPosition.1.rotation.z  104261 non-null  float64        \n",
      " 17  data.trialNum                     104390 non-null  float64        \n",
      " 18  data.trialType                    104390 non-null  object         \n",
      " 19  data.wall1                        65105 non-null   float64        \n",
      " 20  data.wall2                        65105 non-null   float64        \n",
      " 21  data.wallTriggered                354 non-null     float64        \n",
      " 22  data.triggerClient                354 non-null     float64        \n",
      " 23  data.playerScores.0               104390 non-null  float64        \n",
      " 24  data.playerScores.1               233 non-null     float64        \n",
      " 25  timeReferenced                    104390 non-null  timedelta64[ns]\n",
      " 26  trial_epoch                       104390 non-null  object         \n",
      "dtypes: datetime64[ns](1), float64(21), object(3), timedelta64[ns](2)\n",
      "memory usage: 22.3+ MB\n"
     ]
    }
   ],
   "source": [
    "df.info()"
   ]
  },
  {
   "cell_type": "code",
   "execution_count": 5,
   "id": "3cc00df1-130f-4927-b132-34222dcf78ca",
   "metadata": {},
   "outputs": [
    {
     "name": "stdout",
     "output_type": "stream",
     "text": [
      "233\n"
     ]
    }
   ],
   "source": [
    "print(len(trials_list))"
   ]
  },
  {
   "cell_type": "code",
   "execution_count": 22,
   "id": "32aff41e-a1ed-47ea-8233-79d64f229528",
   "metadata": {},
   "outputs": [],
   "source": [
    "wall1_counts_dict = {}"
   ]
  },
  {
   "cell_type": "code",
   "execution_count": 23,
   "id": "392f9679-972c-42c2-ae08-90b916cb3fe3",
   "metadata": {},
   "outputs": [],
   "source": [
    "trial = trials_list[0]\n",
    "wall1_vals = trial['data.wall1'].unique()\n",
    "wall1_val = wall1_vals[~np.isnan(wall1_vals)].item()\n",
    "if wall1_val in wall1_counts_dict.keys():\n",
    "    wall1_counts_dict[wall1_val] = wall1_counts_dict[wall1_val] + 1\n",
    "else:\n",
    "    wall1_counts_dict[wall1_val] = 1"
   ]
  },
  {
   "cell_type": "code",
   "execution_count": 24,
   "id": "dcd9c0b8-ab79-43d8-884a-0285b99704bc",
   "metadata": {},
   "outputs": [
    {
     "data": {
      "text/plain": [
       "{2.0: 1}"
      ]
     },
     "execution_count": 24,
     "metadata": {},
     "output_type": "execute_result"
    }
   ],
   "source": [
    "wall1_counts_dict"
   ]
  },
  {
   "cell_type": "code",
   "execution_count": 26,
   "id": "801734e5-42a4-419a-bf41-c95e8bd74d54",
   "metadata": {},
   "outputs": [
    {
     "ename": "ValueError",
     "evalue": "can only convert an array of size 1 to a Python scalar",
     "output_type": "error",
     "traceback": [
      "\u001b[1;31m-----------------------------------------------------------------\u001b[0m",
      "\u001b[1;31mValueError\u001b[0m                      Traceback (most recent call last)",
      "Cell \u001b[1;32mIn[26], line 8\u001b[0m\n\u001b[0;32m      5\u001b[0m wall1_vals \u001b[38;5;241m=\u001b[39m trial[\u001b[38;5;124m'\u001b[39m\u001b[38;5;124mdata.wall1\u001b[39m\u001b[38;5;124m'\u001b[39m]\u001b[38;5;241m.\u001b[39munique()\n\u001b[0;32m      6\u001b[0m wall2_vals \u001b[38;5;241m=\u001b[39m trial[\u001b[38;5;124m'\u001b[39m\u001b[38;5;124mdata.wall2\u001b[39m\u001b[38;5;124m'\u001b[39m]\u001b[38;5;241m.\u001b[39munique()\n\u001b[1;32m----> 8\u001b[0m wall1_val \u001b[38;5;241m=\u001b[39m \u001b[43mwall1_vals\u001b[49m\u001b[43m[\u001b[49m\u001b[38;5;241;43m~\u001b[39;49m\u001b[43mnp\u001b[49m\u001b[38;5;241;43m.\u001b[39;49m\u001b[43misnan\u001b[49m\u001b[43m(\u001b[49m\u001b[43mwall1_vals\u001b[49m\u001b[43m)\u001b[49m\u001b[43m]\u001b[49m\u001b[38;5;241;43m.\u001b[39;49m\u001b[43mitem\u001b[49m\u001b[43m(\u001b[49m\u001b[43m)\u001b[49m\n\u001b[0;32m      9\u001b[0m wall2_val \u001b[38;5;241m=\u001b[39m wall2_vals[\u001b[38;5;241m~\u001b[39mnp\u001b[38;5;241m.\u001b[39misnan(wall2_vals)]\u001b[38;5;241m.\u001b[39mitem()\n\u001b[0;32m     11\u001b[0m \u001b[38;5;28;01mif\u001b[39;00m wall1_val \u001b[38;5;129;01min\u001b[39;00m wall1_counts_dict\u001b[38;5;241m.\u001b[39mkeys():\n",
      "\u001b[1;31mValueError\u001b[0m: can only convert an array of size 1 to a Python scalar"
     ]
    }
   ],
   "source": [
    "wall1_counts_dict = {}\n",
    "wall2_counts_dict = {}\n",
    "\n",
    "for trial in trials_list:\n",
    "    wall1_vals = trial['data.wall1'].unique()\n",
    "    print(\"wall 1 vals: \" + wall1_vals)\n",
    "    wall2_vals = trial['data.wall2'].unique()\n",
    "    print(\"wall 2 vals: \" + wall2_vals)\n",
    "    \n",
    "    wall1_val = wall1_vals[~np.isnan(wall1_vals)].item()\n",
    "    wall2_val = wall2_vals[~np.isnan(wall2_vals)].item()\n",
    "    \n",
    "    if wall1_val in wall1_counts_dict.keys():\n",
    "        wall1_counts_dict[wall1_val] = wall1_counts_dict[wall1_val] + 1\n",
    "    else:\n",
    "        wall1_counts_dict[wall1_val] = 1\n",
    "\n",
    "    if wall2_val in wall2_counts_dict.keys():\n",
    "        wall2_counts_dict[wall2_val] = wall2_counts_dict[wall2_val] + 1\n",
    "    else:\n",
    "        wall2_counts_dict[wall2_val] = 1"
   ]
  }
 ],
 "metadata": {
  "kernelspec": {
   "display_name": "Python 3 (ipykernel)",
   "language": "python",
   "name": "python3"
  },
  "language_info": {
   "codemirror_mode": {
    "name": "ipython",
    "version": 3
   },
   "file_extension": ".py",
   "mimetype": "text/x-python",
   "name": "python",
   "nbconvert_exporter": "python",
   "pygments_lexer": "ipython3",
   "version": "3.12.5"
  }
 },
 "nbformat": 4,
 "nbformat_minor": 5
}
