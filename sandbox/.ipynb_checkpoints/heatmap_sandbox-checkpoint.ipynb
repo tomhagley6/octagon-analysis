{
 "cells": [
  {
   "cell_type": "code",
   "execution_count": 1,
   "id": "d186826f-a807-49a8-b6f4-80d11df2c17c",
   "metadata": {},
   "outputs": [],
   "source": [
    "import parse_data.preprocess as preprocess\n",
    "import parse_data.loading as loading\n",
    "from analysis.response_times import calculate_response_times, plot_response_times\n",
    "import globals\n",
    "from plotting import plot_octagon, plot_trajectory\n",
    "from datetime import datetime, timedelta\n",
    "import numpy as np\n",
    "import pandas as pd\n",
    "import scipy\n",
    "import matplotlib.pyplot as plt\n",
    "import matplotlib as mpl\n",
    "from matplotlib.path import Path\n",
    "from matplotlib.patches import PathPatch\n",
    "import math"
   ]
  },
  {
   "cell_type": "code",
   "execution_count": 2,
   "id": "67df156d-0d98-4906-b498-2a0f26988d14",
   "metadata": {},
   "outputs": [],
   "source": [
    "# paths\n",
    "# data_folder = '/home/tom/Documents/SWC/data' # desktop Duan Lab\n",
    "# json_filename = '240913_Yansu_Jerry/2024-09-13_11-53-34_YansuSecondSolo.json' \n",
    "# json_filename = '240913_Yansu_Jerry/2024-09-13_11-31-00_YansuJerrySocial.json'\n",
    "data_folder = r'D:\\Users\\Tom\\OneDrive\\PhD\\SWC\\data' # desktop home\n",
    "# json_filename = r'first_experiments_2409\\240913\\2024-09-13_11-23-37_YansuFirstSolo.json'\n",
    "json_filename = r'first_experiments_2409\\240913\\2024-09-13_11-31-00_YansuJerrySocial.json'\n"
   ]
  },
  {
   "cell_type": "code",
   "execution_count": 3,
   "id": "ac73376d-5fb1-48f8-8798-9cde1e1de1b3",
   "metadata": {},
   "outputs": [
    {
     "name": "stdout",
     "output_type": "stream",
     "text": [
      "Data is from period before 2024-09-13 11:31:00\n",
      "Running dataframe through playerinfo_playerposition_conversion.\n",
      "Loading complete.\n"
     ]
    }
   ],
   "source": [
    "# Load JSON file into pandas df with collapsed data dictionary and adjustments based on date of recording \n",
    "df = loading.loading_pipeline(data_folder, json_filename)"
   ]
  },
  {
   "cell_type": "code",
   "execution_count": 4,
   "id": "ea1e9944-7cec-4521-b8d6-6d1a74e442a1",
   "metadata": {},
   "outputs": [
    {
     "name": "stdout",
     "output_type": "stream",
     "text": [
      "Preprocessing complete.\n"
     ]
    }
   ],
   "source": [
    "# Pre-process data \n",
    "df = preprocess.standard_preprocessing(df)"
   ]
  },
  {
   "cell_type": "code",
   "execution_count": 5,
   "id": "e87504f9-d315-4da5-b1e3-93530437b216",
   "metadata": {},
   "outputs": [],
   "source": [
    "## Extract single trials ##"
   ]
  },
  {
   "cell_type": "code",
   "execution_count": 6,
   "id": "092d3b10-bcdd-42f7-89fd-1b02dcc25e38",
   "metadata": {},
   "outputs": [],
   "source": [
    "def split_session_by_trial(df):\n",
    "    \n",
    "    # groupby produces an interable of tuples with the group key and the dataframe \n",
    "    trials_list = [data for _, data in df.groupby('data.trialNum')]\n",
    "    \n",
    "    # exclude trial 0 (could also exclude trial 1)\n",
    "    trials_list = trials_list[1:]\n",
    "\n",
    "    # if final  trial does not contain a server selected trigger activation, discard it\n",
    "    if not globals.SELECTED_TRIGGER_ACTIVATION in trials_list[-1]['eventDescription'].unique():\n",
    "        trials_list = trials_list[:-1]\n",
    "\n",
    "    return trials_list\n"
   ]
  },
  {
   "cell_type": "code",
   "execution_count": 7,
   "id": "f2f383b3-a5b7-4625-aa10-b4834aa6b066",
   "metadata": {},
   "outputs": [],
   "source": [
    "trial_list = split_session_by_trial(df)"
   ]
  },
  {
   "cell_type": "code",
   "execution_count": 8,
   "id": "54ba6ba9-3d83-4cb0-ae7a-4d0835c6b6e6",
   "metadata": {},
   "outputs": [],
   "source": [
    "## HEATMAPS ##"
   ]
  },
  {
   "cell_type": "code",
   "execution_count": 16,
   "id": "5de6a099-cedc-4417-86e8-59ce211d16e2",
   "metadata": {},
   "outputs": [
    {
     "data": {
      "image/png": "[encoded data removed]",
      "text/plain": [
       "<Figure size 600x600 with 2 Axes>"
      ]
     },
     "metadata": {},
     "output_type": "display_data"
    }
   ],
   "source": [
    "# get the zipped coordinate list of octagon x and y vertex points\n",
    "octagon_vertex_coordinates = plot_octagon.return_octagon_path_points()\n",
    "\n",
    "# create a matplotlib Path object from them\n",
    "octagon_path = Path(octagon_vertex_coordinates)\n",
    "\n",
    "# define a grid for my data\n",
    "x = np.linspace(-20,20, 8)\n",
    "y = np.linspace(-20, 20, 8)\n",
    "X,Y = np.meshgrid(x,y)\n",
    "\n",
    "# create example heatmap for now (gaussian)\n",
    "Z = np.exp(-(X**2 + Y**2))\n",
    "\n",
    "# flatten my meshgrid (?)\n",
    "points = np.vstack((X.ravel(), Y.ravel())).T\n",
    "\n",
    "# create a mask where points are outside the shape\n",
    "mask = ~octagon_path.contains_points(points).reshape(X.shape)\n",
    "\n",
    "# mask the heatmap data outside the shape\n",
    "Z_masked = np.ma.masked_where(mask,Z)\n",
    "\n",
    "# plot the heatmap\n",
    "plt.figure(figsize=(6,6))\n",
    "\n",
    "# Display the heatmap, with NaN values resulting in transparent (masked) regions\n",
    "plt.imshow(Z_masked, extent=[x.min(), x.max(), y.min(), y.max()],\n",
    "           origin='lower', cmap='viridis')\n",
    "\n",
    "# Overlay the shape border for visual reference\n",
    "path_patch = PathPatch(octagon_path, edgecolor='black', facecolor='none', lw=2)\n",
    "plt.gca().add_patch(path_patch)\n",
    "\n",
    "# Set aspect ratio to ensure the shape looks correct\n",
    "plt.gca().set_aspect('equal')\n",
    "\n",
    "# Set the background color for the masked areas\n",
    "plt.gca().patch.set_color('white')\n",
    "\n",
    "# Display the colorbar\n",
    "plt.colorbar()\n",
    "\n",
    "# Display the plot\n",
    "plt.show()"
   ]
  },
  {
   "cell_type": "code",
   "execution_count": null,
   "id": "04b6819a-0b63-4045-8777-1f6197669980",
   "metadata": {},
   "outputs": [],
   "source": [
    "octagon_vertex_coordinates"
   ]
  },
  {
   "cell_type": "code",
   "execution_count": null,
   "id": "19f0b97d-3bf9-40b7-8361-96ed96c7511c",
   "metadata": {},
   "outputs": [],
   "source": [
    "plt.plot(octagon_vertex_coordinates)"
   ]
  },
  {
   "cell_type": "code",
   "execution_count": null,
   "id": "0b4a84cf-0927-406c-9911-ad23c782bd88",
   "metadata": {},
   "outputs": [],
   "source": [
    "x_coords, y_coords = zip(*octagon_vertex_coordinates)"
   ]
  },
  {
   "cell_type": "code",
   "execution_count": null,
   "id": "8a7ad278-a8ed-4ac9-8113-8e5420ff63d0",
   "metadata": {},
   "outputs": [],
   "source": [
    "plt.plot(x_coords, y_coords)\n",
    "plt.gca().set_aspect(1.)"
   ]
  }
 ],
 "metadata": {
  "kernelspec": {
   "display_name": "Python 3 (ipykernel)",
   "language": "python",
   "name": "python3"
  },
  "language_info": {
   "codemirror_mode": {
    "name": "ipython",
    "version": 3
   },
   "file_extension": ".py",
   "mimetype": "text/x-python",
   "name": "python",
   "nbconvert_exporter": "python",
   "pygments_lexer": "ipython3",
   "version": "3.12.5"
  }
 },
 "nbformat": 4,
 "nbformat_minor": 5
}
