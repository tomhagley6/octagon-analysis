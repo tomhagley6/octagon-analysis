{
 "cells": [
  {
   "cell_type": "code",
   "execution_count": 332,
   "id": "d186826f-a807-49a8-b6f4-80d11df2c17c",
   "metadata": {},
   "outputs": [],
   "source": [
    "import parse_data.preprocess as preprocess\n",
    "import parse_data.loading as loading\n",
    "from analysis.response_times import calculate_response_times, plot_response_times\n",
    "import globals\n",
    "from plotting import plot_octagon, plot_trajectory\n",
    "from datetime import datetime, timedelta\n",
    "import numpy as np\n",
    "import pandas as pd\n",
    "import scipy\n",
    "import matplotlib.pyplot as plt\n",
    "import matplotlib as mpl\n",
    "import math"
   ]
  },
  {
   "cell_type": "code",
   "execution_count": 333,
   "id": "67df156d-0d98-4906-b498-2a0f26988d14",
   "metadata": {},
   "outputs": [],
   "source": [
    "# paths\n",
    "# data_folder = '/home/tom/Documents/SWC/data' # desktop Duan Lab\n",
    "# json_filename = '240913_Yansu_Jerry/2024-09-13_11-53-34_YansuSecondSolo.json' \n",
    "# json_filename = '240913_Yansu_Jerry/2024-09-13_11-31-00_YansuJerrySocial.json'\n",
    "data_folder = r'D:\\Users\\Tom\\OneDrive\\PhD\\SWC\\data' # desktop home\n",
    "# json_filename = r'first_experiments_2409\\240913\\2024-09-13_11-23-37_YansuFirstSolo.json'\n",
    "json_filename = r'first_experiments_2409\\240913\\2024-09-13_11-31-00_YansuJerrySocial.json'\n"
   ]
  },
  {
   "cell_type": "code",
   "execution_count": 334,
   "id": "ac73376d-5fb1-48f8-8798-9cde1e1de1b3",
   "metadata": {},
   "outputs": [
    {
     "name": "stdout",
     "output_type": "stream",
     "text": [
      "Data is from period before 2024-09-13 11:31:00\n",
      "Running dataframe through playerinfo_playerposition_conversion.\n",
      "Loading complete.\n"
     ]
    }
   ],
   "source": [
    "# Load JSON file into pandas df with collapsed data dictionary and adjustments based on date of recording \n",
    "df = loading.loading_pipeline(data_folder, json_filename)"
   ]
  },
  {
   "cell_type": "code",
   "execution_count": 335,
   "id": "ea1e9944-7cec-4521-b8d6-6d1a74e442a1",
   "metadata": {},
   "outputs": [
    {
     "name": "stdout",
     "output_type": "stream",
     "text": [
      "Preprocessing complete.\n"
     ]
    }
   ],
   "source": [
    "# Pre-process data \n",
    "df = preprocess.standard_preprocessing(df)"
   ]
  },
  {
   "cell_type": "code",
   "execution_count": 336,
   "id": "e87504f9-d315-4da5-b1e3-93530437b216",
   "metadata": {},
   "outputs": [],
   "source": [
    "## Extract single trials ##"
   ]
  },
  {
   "cell_type": "code",
   "execution_count": 337,
   "id": "092d3b10-bcdd-42f7-89fd-1b02dcc25e38",
   "metadata": {},
   "outputs": [],
   "source": [
    "def split_session_by_trial(df):\n",
    "    \n",
    "    # groupby produces an interable of tuples with the group key and the dataframe \n",
    "    trials_list = [data for _, data in df.groupby('data.trialNum')]\n",
    "    \n",
    "    # exclude trial 0 (could also exclude trial 1)\n",
    "    trials_list = trials_list[1:]\n",
    "\n",
    "    # if final  trial does not contain a server selected trigger activation, discard it\n",
    "    if not globals.SELECTED_TRIGGER_ACTIVATION in trials_list[-1]['eventDescription'].unique():\n",
    "        trials_list = trials_list[:-1]\n",
    "\n",
    "    return trials_list\n"
   ]
  },
  {
   "cell_type": "code",
   "execution_count": 338,
   "id": "f2f383b3-a5b7-4625-aa10-b4834aa6b066",
   "metadata": {},
   "outputs": [],
   "source": [
    "trial_list = split_session_by_trial(df)"
   ]
  },
  {
   "cell_type": "code",
   "execution_count": 339,
   "id": "05b14808-99c0-4d88-bf2f-10e813783ce5",
   "metadata": {},
   "outputs": [],
   "source": [
    "## rotate trials ##"
   ]
  },
  {
   "cell_type": "code",
   "execution_count": 340,
   "id": "4bba6914-d88b-485f-81b1-a58cab2315fd",
   "metadata": {},
   "outputs": [],
   "source": [
    "def find_rotation_angle_trial(trial_list, trial_index):\n",
    "    \"\"\" Find CCW angle of rotation for vector to \n",
    "    rotate arena s.t. high wall is at wall 1\"\"\"\n",
    "\n",
    "    trial = trial_list[trial_idx]\n",
    "    \n",
    "    # identify trial walls\n",
    "    wall1 = trial.iloc[0]['data.wall1']\n",
    "    wall2 = trial.iloc[0]['data.wall2']\n",
    "    \n",
    "    # find difference of high wall to wall 1\n",
    "    difference = wall1 - 1\n",
    "        \n",
    "    # find CCW rotation angle \n",
    "    unitary_rotation_ang = 2*math.pi/globals.NUM_WALLS\n",
    "    theta = unitary_rotation_ang * difference\n",
    "\n",
    "    return theta"
   ]
  },
  {
   "cell_type": "code",
   "execution_count": 341,
   "id": "18490efd-c0fd-41d4-9191-4f7ed0956226",
   "metadata": {},
   "outputs": [],
   "source": [
    "# for i in range(len(trial_list)):\n",
    "#     wall1 = trials_list[i].iloc[0]['wall1']\n",
    "#     wall2 = trials_list[i].iloc[0]['wall2']\n",
    "#     if wall1 > wall2:\n",
    "#         for i in range(len(this_rotated_coordinates):\n",
    "#             rotated_coordinates[i][0] = -rotated_coordinates[i][0]"
   ]
  },
  {
   "cell_type": "code",
   "execution_count": 342,
   "id": "79e86bd3-604f-438d-b2e9-0c8e3fd2c362",
   "metadata": {},
   "outputs": [],
   "source": [
    "def flip_trajectories(altered_coordinates):\n",
    "    ''' If wall1 is CW of wall2, flip the x coordinate\n",
    "        of the trajectory data around. This keeps wall1\n",
    "        CCW of wall2 '''\n",
    "    \n",
    "\n",
    "    altered_coordinates[0] = -altered_coordinates[0]\n",
    "\n",
    "    return altered_coordinates\n",
    "    "
   ]
  },
  {
   "cell_type": "code",
   "execution_count": 343,
   "id": "03f9d2b4-5eee-4927-ac64-7d769a195a33",
   "metadata": {},
   "outputs": [],
   "source": [
    "def flip_rotate(trial_list, trial_index, theta, flip=True):\n",
    "    \"\"\" Take counterclockwise rotation angle and starting vector\n",
    "        Flip x coordinates of vector if wall2 CCW of wall1\n",
    "        Return altered vector \"\"\"\n",
    "\n",
    "    altered_coordinates = []\n",
    "    trial = trial_list[trial_idx]\n",
    "    num_players = preprocess.num_players(df)\n",
    "    \n",
    "    trial_copy = trial.copy()\n",
    "\n",
    "    # create rotation matrix\n",
    "    rotM = np.array([\n",
    "                    [math.cos(theta), -math.sin(theta)],\n",
    "                     [math.sin(theta), math.cos(theta)]\n",
    "                    ])\n",
    "\n",
    "    for i in range(num_players):\n",
    "        x,y = trial_copy[globals.PLAYER_LOC_DICT[i]['xloc']], trial_copy[globals.PLAYER_LOC_DICT[i]['yloc']]\n",
    "\n",
    "        this_coordinates = np.vstack([x,y])\n",
    "        this_altered_coordinates = np.matmul(rotM, this_coordinates) \n",
    "\n",
    "        # flip flag is a function parameter\n",
    "        if flip:\n",
    "            # flip coordinates around the x-axis if wall2 is CCW of wall1\n",
    "            wall1 = trial.iloc[0]['data.wall1']\n",
    "            wall2 = trial.iloc[0]['data.wall2']\n",
    "            if wall1 > wall2:\n",
    "                print(f\"Trial index {trial_index} flipped. Wall 1 is {wall1}; wall2 is {wall2}\")\n",
    "                this_altered_coordinates = flip_trajectories(this_altered_coordinates)\n",
    "\n",
    "        altered_coordinates.append(this_altered_coordinates)\n",
    "\n",
    "    return altered_coordinates\n",
    "    \n"
   ]
  },
  {
   "cell_type": "code",
   "execution_count": 344,
   "id": "c5d3c0ff-0492-43bb-b989-c708072f4d5e",
   "metadata": {},
   "outputs": [],
   "source": [
    "def replace_with_altered_coordinates(trial_list, trial_index, altered_coordinates):\n",
    "    trial = trial_list[trial_idx]\n",
    "    trial_copy = trial.copy()\n",
    "\n",
    "    # overwrite the x location and y location columns in a copy of the dataframe for this trial\n",
    "    for i in range(len(altered_coordinates)):\n",
    "        trial_copy[globals.PLAYER_LOC_DICT[i]['xloc']] = altered_coordinates[i][0] # x coordinates\n",
    "        trial_copy[globals.PLAYER_LOC_DICT[i]['yloc']] = altered_coordinates[i][1] # y coordinates\n",
    "\n",
    "    return trial_copy\n",
    "        \n"
   ]
  },
  {
   "cell_type": "code",
   "execution_count": 345,
   "id": "c7b929ca-65fd-4751-a8e6-c183bbf4944e",
   "metadata": {},
   "outputs": [],
   "source": [
    "trial_index = 1"
   ]
  },
  {
   "cell_type": "code",
   "execution_count": 346,
   "id": "0fe9f323-c395-4668-ad9f-736f1744bcda",
   "metadata": {},
   "outputs": [],
   "source": [
    "trial = trial_list[trial_idx]"
   ]
  },
  {
   "cell_type": "code",
   "execution_count": 347,
   "id": "06a0fd98-b125-410d-befe-5e16566a3a77",
   "metadata": {},
   "outputs": [
    {
     "data": {
      "text/plain": [
       "timeLocal                           1900-01-01 11:32:51.592000\n",
       "timeApplication                         0 days 00:02:47.523000\n",
       "eventDescription                                   trial start\n",
       "data.playerPosition.0.clientId                             NaN\n",
       "data.playerPosition.0.location.x                   5.654138088\n",
       "data.playerPosition.0.location.y                   1.984999657\n",
       "data.playerPosition.0.location.z                  15.102668762\n",
       "data.playerPosition.0.rotation.x                   3.163929939\n",
       "data.playerPosition.0.rotation.y                 150.668518066\n",
       "data.playerPosition.0.rotation.z                  -0.000000107\n",
       "data.playerPosition.1.clientId                             NaN\n",
       "data.playerPosition.1.location.x                           NaN\n",
       "data.playerPosition.1.location.y                           NaN\n",
       "data.playerPosition.1.location.z                           NaN\n",
       "data.playerPosition.1.rotation.x                           NaN\n",
       "data.playerPosition.1.rotation.y                           NaN\n",
       "data.playerPosition.1.rotation.z                           NaN\n",
       "data.trialNum                                              2.0\n",
       "data.trialType                                         HighLow\n",
       "data.wall1                                                 2.0\n",
       "data.wall2                                                 1.0\n",
       "data.wallTriggered                                         NaN\n",
       "data.triggerClient                                         NaN\n",
       "data.playerScores.0                                        0.0\n",
       "data.playerScores.1                                       50.0\n",
       "timeReferenced                          0 days 00:01:51.424000\n",
       "trial_epoch                                      trial started\n",
       "Name: 5347, dtype: object"
      ]
     },
     "execution_count": 347,
     "metadata": {},
     "output_type": "execute_result"
    }
   ],
   "source": [
    "trial.iloc[0]"
   ]
  },
  {
   "cell_type": "code",
   "execution_count": 348,
   "id": "c5cb74c2-700e-469d-a6de-9f162acd3461",
   "metadata": {},
   "outputs": [],
   "source": [
    "theta = find_rotation_angle_trial(trial_list, trial_index)"
   ]
  },
  {
   "cell_type": "code",
   "execution_count": 349,
   "id": "9ac6a77e-a572-47fe-9a32-ef6c8163415d",
   "metadata": {},
   "outputs": [
    {
     "name": "stdout",
     "output_type": "stream",
     "text": [
      "Trial index 1 flipped. Wall 1 is 2.0; wall2 is 1.0\n",
      "Trial index 1 flipped. Wall 1 is 2.0; wall2 is 1.0\n"
     ]
    }
   ],
   "source": [
    "altered_coords = flip_rotate(trial_list, trial_index, theta)"
   ]
  },
  {
   "cell_type": "code",
   "execution_count": 350,
   "id": "dc51eb88-534e-48fc-976c-c1bd8aacd203",
   "metadata": {},
   "outputs": [],
   "source": [
    "    altered_coords = np.array(altered_coords)"
   ]
  },
  {
   "cell_type": "code",
   "execution_count": 351,
   "id": "0d78850a-0ee2-4c79-a0c1-13b0f92e5c3a",
   "metadata": {},
   "outputs": [
    {
     "data": {
      "text/plain": [
       "(2, 2, 489)"
      ]
     },
     "execution_count": 351,
     "metadata": {},
     "output_type": "execute_result"
    }
   ],
   "source": [
    "altered_coords.shape"
   ]
  },
  {
   "cell_type": "code",
   "execution_count": 352,
   "id": "a32e6194-4db8-4071-8035-410f15060b4a",
   "metadata": {},
   "outputs": [
    {
     "data": {
      "text/plain": [
       "5347     5.654138088\n",
       "5348     5.654138088\n",
       "5349     5.654138088\n",
       "5350     5.654138088\n",
       "5351     5.654138088\n",
       "            ...     \n",
       "5831    13.669239044\n",
       "5832    13.669239044\n",
       "5833    13.669239044\n",
       "5834    13.669239044\n",
       "5835    13.669239044\n",
       "Name: data.playerPosition.0.location.x, Length: 489, dtype: float64"
      ]
     },
     "execution_count": 352,
     "metadata": {},
     "output_type": "execute_result"
    }
   ],
   "source": [
    "trial[globals.PLAYER_LOC_DICT[0]['xloc']]"
   ]
  },
  {
   "cell_type": "code",
   "execution_count": 353,
   "id": "dd885723-52f1-47a9-965a-6a35cfab5fb9",
   "metadata": {},
   "outputs": [],
   "source": [
    "trial_copy = replace_with_altered_coordinates(trial_list, trial_index, altered_coords)"
   ]
  },
  {
   "cell_type": "code",
   "execution_count": 354,
   "id": "3157bc12-2f57-4e6b-ac91-0a62548f77eb",
   "metadata": {},
   "outputs": [
    {
     "data": {
      "text/plain": [
       "5347    6.681120112\n",
       "5348    6.681120112\n",
       "5349    6.681120112\n",
       "5350    6.681120112\n",
       "5351    6.681120112\n",
       "           ...     \n",
       "5831   -6.632216955\n",
       "5832   -6.632216955\n",
       "5833   -6.632216955\n",
       "5834   -6.632216955\n",
       "5835   -6.632216955\n",
       "Name: data.playerPosition.0.location.x, Length: 489, dtype: float64"
      ]
     },
     "execution_count": 354,
     "metadata": {},
     "output_type": "execute_result"
    }
   ],
   "source": [
    "trial_copy[globals.PLAYER_LOC_DICT[0]['xloc']]"
   ]
  },
  {
   "cell_type": "code",
   "execution_count": 355,
   "id": "9735a258-8fb0-4264-ace1-002c20790925",
   "metadata": {},
   "outputs": [
    {
     "data": {
      "image/png": "[encoded data removed]",
      "text/plain": [
       "<Figure size 640x480 with 1 Axes>"
      ]
     },
     "metadata": {},
     "output_type": "display_data"
    }
   ],
   "source": [
    "plot_trajectory.plot_trajectory(trials_list, trial_index=0, social=True, trial=trial_copy)"
   ]
  },
  {
   "cell_type": "code",
   "execution_count": 356,
   "id": "1bdf5607-bc51-4941-998a-3972f895e3eb",
   "metadata": {},
   "outputs": [
    {
     "data": {
      "image/png": "[encoded data removed]",
      "text/plain": [
       "<Figure size 640x480 with 1 Axes>"
      ]
     },
     "metadata": {},
     "output_type": "display_data"
    }
   ],
   "source": [
    "plot_trajectory.plot_trajectory(trials_list, trial_index=trial_idx, social=True)"
   ]
  },
  {
   "cell_type": "code",
   "execution_count": 357,
   "id": "088eb020-a5a2-4062-ad0a-463749a6a112",
   "metadata": {},
   "outputs": [
    {
     "data": {
      "text/plain": [
       "np.float64(1.0)"
      ]
     },
     "execution_count": 357,
     "metadata": {},
     "output_type": "execute_result"
    }
   ],
   "source": [
    "trial_list[1]['data.wall2'].iloc[0]"
   ]
  },
  {
   "cell_type": "code",
   "execution_count": 358,
   "id": "c51c2ae9-10de-478d-b7eb-a731d3a73f09",
   "metadata": {},
   "outputs": [],
   "source": [
    "flipped = []\n",
    "for i in range(len(trials_list)):\n",
    "    if trials_list[i]['data.wall1'].iloc[0] > trials_list[i]['data.wall2'].iloc[0]:\n",
    "        flipped.append(i)"
   ]
  },
  {
   "cell_type": "code",
   "execution_count": 359,
   "id": "7cc0b52b-96d6-4f16-b9f0-d670323d46bf",
   "metadata": {},
   "outputs": [
    {
     "data": {
      "text/plain": [
       "array([  1,   2,   8,  10,  11,  13,  15,  17,  18,  19,  24,  25,  27,\n",
       "        29,  33,  38,  39,  42,  44,  49,  51,  54,  56,  58,  61,  63,\n",
       "        64,  65,  71,  73,  74,  76,  78,  81,  86,  91,  93,  94,  98,\n",
       "        99, 101, 102, 107, 109, 110, 112, 114, 115, 118, 119, 120, 122,\n",
       "       124, 128])"
      ]
     },
     "execution_count": 359,
     "metadata": {},
     "output_type": "execute_result"
    }
   ],
   "source": [
    "np.array(flipped)"
   ]
  }
 ],
 "metadata": {
  "kernelspec": {
   "display_name": "Python 3 (ipykernel)",
   "language": "python",
   "name": "python3"
  },
  "language_info": {
   "codemirror_mode": {
    "name": "ipython",
    "version": 3
   },
   "file_extension": ".py",
   "mimetype": "text/x-python",
   "name": "python",
   "nbconvert_exporter": "python",
   "pygments_lexer": "ipython3",
   "version": "3.12.5"
  }
 },
 "nbformat": 4,
 "nbformat_minor": 5
}
