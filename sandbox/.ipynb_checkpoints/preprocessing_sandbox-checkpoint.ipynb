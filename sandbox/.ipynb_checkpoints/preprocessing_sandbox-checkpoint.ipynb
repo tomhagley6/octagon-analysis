{
 "cells": [
  {
   "cell_type": "code",
   "execution_count": 1,
   "id": "9f1a43db-a0a7-4c53-bd5e-7bd9d75f9560",
   "metadata": {},
   "outputs": [],
   "source": [
    "import parse_data.preprocess as preprocess\n",
    "import parse_data.loading as loading\n",
    "from analysis.response_times import calculate_response_times, plot_response_times\n",
    "from datetime import datetime, timedelta\n",
    "import numpy as np\n",
    "import pandas as pd\n",
    "import scipy\n",
    "import matplotlib.pyplot as plt\n",
    "import globals"
   ]
  },
  {
   "cell_type": "code",
   "execution_count": 2,
   "id": "5a25ec65-0029-45b9-9add-a1b9342821df",
   "metadata": {},
   "outputs": [],
   "source": [
    "# paths\n",
    "data_folder = '/home/tom/Documents/SWC/data' # desktop Duan Lab\n",
    "# json_filename = '240913_Yansu_Jerry/2024-09-13_11-53-34_YansuSecondSolo.json' \n",
    "json_filename = '240913_Yansu_Jerry/2024-09-13_11-31-00_YansuJerrySocial.json'\n",
    "# data_folder = r'D:\\Users\\Tom\\OneDrive\\PhD\\SWC\\data' # desktop home\n",
    "# json_filename = r'first_experiments_2409\\240913\\2024-09-13_11-23-37_YansuFirstSolo.json'\n"
   ]
  },
  {
   "cell_type": "code",
   "execution_count": 3,
   "id": "daf25a71-cecb-4159-b73c-0932c72fb74d",
   "metadata": {},
   "outputs": [
    {
     "name": "stdout",
     "output_type": "stream",
     "text": [
      "Data is from period before 2024-09-13 11:31:00\n",
      "Running dataframe through playerinfo_playerposition_conversion.\n",
      "Loading complete.\n"
     ]
    }
   ],
   "source": [
    "# Load JSON file into pandas df with collapsed data dictionary and adjustments based on date of recording \n",
    "df = loading.loading_pipeline(data_folder, json_filename)"
   ]
  },
  {
   "cell_type": "code",
   "execution_count": 4,
   "id": "216cda91-882e-4b7d-9f86-7131da70bc20",
   "metadata": {},
   "outputs": [
    {
     "name": "stdout",
     "output_type": "stream",
     "text": [
      "Preprocessing complete.\n"
     ]
    }
   ],
   "source": [
    "# Pre-process data \n",
    "df = preprocess.standard_preprocessing(df)"
   ]
  },
  {
   "cell_type": "code",
   "execution_count": 63,
   "id": "e0343c87-a8b9-470a-aa89-621fc16cc29f",
   "metadata": {},
   "outputs": [],
   "source": [
    "\n",
    "df['trial_epoch'] = np.nan\n",
    "df['trial_epoch'] = df['trial_epoch'].astype('object')\n",
    "\n",
    "\n",
    "epoch_transition_triggers = ['trial start', 'slice onset', globals.SELECTED_TRIGGER_ACTIVATION, 'trial end']\n",
    "epoch_transition_labels = [globals.TRIAL_STARTED, globals.SLICES_ACTIVE, globals.POST_CHOICE, globals.ITI]\n",
    "epoch_transition_idxs = [df.index[df['eventDescription'] == trigger] for trigger in epoch_transition_triggers]\n",
    "\n",
    "for i in range(len(epoch_transition_idxs)):\n",
    "    df.loc[epoch_transition_idxs[i], 'trial_epoch'] = epoch_transition_labels[i]\n",
    "\n",
    "# df['trial_epoch]\n",
    "\n",
    "# df.loc[trial_start_idx, 'trial_epoch'] = 'trial start'\n",
    "\n",
    "df['trial_epoch'] = df['trial_epoch'].ffill()\n"
   ]
  },
  {
   "cell_type": "code",
   "execution_count": 5,
   "id": "169ff8b4-a692-4dd7-abcd-2953019faf21",
   "metadata": {},
   "outputs": [],
   "source": [
    "def create_trial_epoch_column(df, col_name='trial_epoch'):\n",
    "\n",
    "    df2 = df.copy()\n",
    "    \n",
    "    # create column\n",
    "    df2[col_name] = np.nan\n",
    "    # cast from float64 to object dtype to allow including strings without complaining\n",
    "    df2[col_name] = df2[col_name].astype('object')\n",
    "\n",
    "    # define the eventDescription triggers that lead to epoch transitions, the indices where these occur,\n",
    "    # and the labels of the epoch periods\n",
    "    epoch_transition_triggers = ['trial start', 'slice onset', globals.SELECTED_TRIGGER_ACTIVATION, 'trial end']\n",
    "    epoch_transition_idxs = [df2.index[df2['eventDescription'] == trigger] for trigger in epoch_transition_triggers]\n",
    "    epoch_transition_labels = [globals.TRIAL_STARTED, globals.SLICES_ACTIVE, globals.POST_CHOICE, globals.ITI]\n",
    "\n",
    "    # insert the epoch period label at all indexes where this transition occurs\n",
    "    # and do this for all epoch periods\n",
    "    for i in range(len(epoch_transition_idxs)):\n",
    "        df2.loc[epoch_transition_idxs[i], col_name] = epoch_transition_labels[i]\n",
    "    # add a pre-trials label to the very beginning of recording\n",
    "    df2.loc[0, col_name] = globals.PRE_TRIALS\n",
    "\n",
    "    # forward fill trial epoch to replace all nans and make the labels continuous\n",
    "    df2[col_name] = df2[col_name].ffill()\n",
    "\n",
    "    return df2"
   ]
  },
  {
   "cell_type": "code",
   "execution_count": 6,
   "id": "565081e6-e217-4856-a4db-3c9adceecc03",
   "metadata": {},
   "outputs": [],
   "source": [
    "df = create_trial_epoch_column(df)"
   ]
  },
  {
   "cell_type": "code",
   "execution_count": 7,
   "id": "0d44ed0d-fbf3-40b8-9ebd-0024aad949ae",
   "metadata": {},
   "outputs": [
    {
     "data": {
      "text/plain": [
       "0           pre trials\n",
       "1           pre trials\n",
       "2           pre trials\n",
       "3           pre trials\n",
       "4           pre trials\n",
       "             ...      \n",
       "62175    slices active\n",
       "62176    slices active\n",
       "62177    slices active\n",
       "62178    slices active\n",
       "62179    slices active\n",
       "Name: trial_epoch, Length: 62180, dtype: object"
      ]
     },
     "execution_count": 7,
     "metadata": {},
     "output_type": "execute_result"
    }
   ],
   "source": [
    "df['trial_epoch']"
   ]
  }
 ],
 "metadata": {
  "kernelspec": {
   "display_name": "Python 3 (ipykernel)",
   "language": "python",
   "name": "python3"
  },
  "language_info": {
   "codemirror_mode": {
    "name": "ipython",
    "version": 3
   },
   "file_extension": ".py",
   "mimetype": "text/x-python",
   "name": "python",
   "nbconvert_exporter": "python",
   "pygments_lexer": "ipython3",
   "version": "3.12.5"
  }
 },
 "nbformat": 4,
 "nbformat_minor": 5
}
