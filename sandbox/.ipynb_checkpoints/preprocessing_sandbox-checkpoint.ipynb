{
 "cells": [
  {
   "cell_type": "code",
   "execution_count": 4,
   "id": "9f1a43db-a0a7-4c53-bd5e-7bd9d75f9560",
   "metadata": {},
   "outputs": [],
   "source": [
    "import parse_data.preprocess as preprocess\n",
    "import parse_data.loading as loading\n",
    "from analysis.response_times import calculate_response_times, plot_response_times\n",
    "from datetime import datetime, timedelta\n",
    "import numpy as np\n",
    "import pandas as pd\n",
    "import scipy\n",
    "import matplotlib.pyplot as plt\n",
    "import globals"
   ]
  },
  {
   "cell_type": "code",
   "execution_count": 5,
   "id": "5a25ec65-0029-45b9-9add-a1b9342821df",
   "metadata": {},
   "outputs": [],
   "source": [
    "# paths\n",
    "# data_folder = '/home/tom/Documents/SWC/data' # desktop Duan Lab\n",
    "# json_filename = '240913_Yansu_Jerry/2024-09-13_11-53-34_YansuSecondSolo.json' \n",
    "# json_filename = '240913_Yansu_Jerry/2024-09-13_11-31-00_YansuJerrySocial.json'\n",
    "data_folder = r'D:\\Users\\Tom\\OneDrive\\PhD\\SWC\\data' # desktop home\n",
    "json_filename = r'first_experiments_2409\\240913\\2024-09-13_11-23-37_YansuFirstSolo.json'\n"
   ]
  },
  {
   "cell_type": "code",
   "execution_count": 6,
   "id": "daf25a71-cecb-4159-b73c-0932c72fb74d",
   "metadata": {},
   "outputs": [
    {
     "ename": "TypeError",
     "evalue": "can only concatenate str (not \"list\") to str",
     "output_type": "error",
     "traceback": [
      "\u001b[1;31m--------------------------------------------------------------------------\u001b[0m",
      "\u001b[1;31mTypeError\u001b[0m                                Traceback (most recent call last)",
      "Cell \u001b[1;32mIn[6], line 2\u001b[0m\n\u001b[0;32m      1\u001b[0m \u001b[38;5;66;03m# Load JSON file into pandas df with collapsed data dictionary and adjustments based on date of recording \u001b[39;00m\n\u001b[1;32m----> 2\u001b[0m df \u001b[38;5;241m=\u001b[39m \u001b[43mloading\u001b[49m\u001b[38;5;241;43m.\u001b[39;49m\u001b[43mloading_pipeline\u001b[49m\u001b[43m(\u001b[49m\u001b[43mdata_folder\u001b[49m\u001b[43m,\u001b[49m\u001b[43m \u001b[49m\u001b[43mjson_filenames\u001b[49m\u001b[43m)\u001b[49m\n",
      "File \u001b[1;32md:\\tom\\documents\\swc\\repos\\octagon_analysis\\parse_data\\loading.py:80\u001b[0m, in \u001b[0;36mloading_pipeline\u001b[1;34m(data_folder, json_filename, json_normalise)\u001b[0m\n\u001b[0;32m     79\u001b[0m \u001b[38;5;28;01mdef\u001b[39;00m \u001b[38;5;21mloading_pipeline\u001b[39m(data_folder, json_filename, json_normalise\u001b[38;5;241m=\u001b[39m\u001b[38;5;28;01mTrue\u001b[39;00m):\n\u001b[1;32m---> 80\u001b[0m     df \u001b[38;5;241m=\u001b[39m \u001b[43mload_df_from_file\u001b[49m\u001b[43m(\u001b[49m\u001b[43mdata_folder\u001b[49m\u001b[43m,\u001b[49m\u001b[43m \u001b[49m\u001b[43mjson_filename\u001b[49m\u001b[43m,\u001b[49m\u001b[43m \u001b[49m\u001b[43mjson_normalise\u001b[49m\u001b[38;5;241;43m=\u001b[39;49m\u001b[38;5;28;43;01mTrue\u001b[39;49;00m\u001b[43m)\u001b[49m\n\u001b[0;32m     81\u001b[0m     df \u001b[38;5;241m=\u001b[39m convert_time_strings(df)\n\u001b[0;32m     82\u001b[0m     df \u001b[38;5;241m=\u001b[39m handle_date_sensitive_processing(df, json_filename)\n",
      "File \u001b[1;32md:\\tom\\documents\\swc\\repos\\octagon_analysis\\parse_data\\loading.py:20\u001b[0m, in \u001b[0;36mload_df_from_file\u001b[1;34m(data_folder, json_filename, json_normalise)\u001b[0m\n\u001b[0;32m     19\u001b[0m \u001b[38;5;28;01mdef\u001b[39;00m \u001b[38;5;21mload_df_from_file\u001b[39m(data_folder, json_filename, json_normalise\u001b[38;5;241m=\u001b[39m\u001b[38;5;28;01mTrue\u001b[39;00m):\n\u001b[1;32m---> 20\u001b[0m     filepath \u001b[38;5;241m=\u001b[39m \u001b[43mdata_folder\u001b[49m\u001b[43m \u001b[49m\u001b[38;5;241;43m+\u001b[39;49m\u001b[43m \u001b[49m\u001b[43mos\u001b[49m\u001b[38;5;241;43m.\u001b[39;49m\u001b[43msep\u001b[49m\u001b[43m \u001b[49m\u001b[38;5;241;43m+\u001b[39;49m\u001b[43m \u001b[49m\u001b[43mjson_filename\u001b[49m\n\u001b[0;32m     21\u001b[0m     \u001b[38;5;28;01mif\u001b[39;00m json_normalise \u001b[38;5;241m==\u001b[39m \u001b[38;5;28;01mTrue\u001b[39;00m:\n\u001b[0;32m     22\u001b[0m         \u001b[38;5;28;01mwith\u001b[39;00m \u001b[38;5;28mopen\u001b[39m(filepath) \u001b[38;5;28;01mas\u001b[39;00m f:\n",
      "\u001b[1;31mTypeError\u001b[0m: can only concatenate str (not \"list\") to str"
     ]
    }
   ],
   "source": [
    "# Load JSON file into pandas df with collapsed data dictionary and adjustments based on date of recording \n",
    "df = loading.loading_pipeline(data_folder, json_filename)"
   ]
  },
  {
   "cell_type": "code",
   "execution_count": null,
   "id": "216cda91-882e-4b7d-9f86-7131da70bc20",
   "metadata": {},
   "outputs": [],
   "source": [
    "# Pre-process data \n",
    "df = preprocess.standard_preprocessing(df)"
   ]
  }
 ],
 "metadata": {
  "kernelspec": {
   "display_name": "Python 3 (ipykernel)",
   "language": "python",
   "name": "python3"
  },
  "language_info": {
   "codemirror_mode": {
    "name": "ipython",
    "version": 3
   },
   "file_extension": ".py",
   "mimetype": "text/x-python",
   "name": "python",
   "nbconvert_exporter": "python",
   "pygments_lexer": "ipython3",
   "version": "3.12.5"
  }
 },
 "nbformat": 4,
 "nbformat_minor": 5
}
