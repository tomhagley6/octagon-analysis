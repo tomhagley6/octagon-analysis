{
 "cells": [
  {
   "cell_type": "code",
   "execution_count": 1,
   "id": "d186826f-a807-49a8-b6f4-80d11df2c17c",
   "metadata": {},
   "outputs": [
    {
     "data": {
      "image/png": "[encoded data removed]",
      "text/plain": [
       "<Figure size 640x480 with 1 Axes>"
      ]
     },
     "metadata": {},
     "output_type": "display_data"
    }
   ],
   "source": [
    "import parse_data.preprocess as preprocess\n",
    "import parse_data.loading as loading\n",
    "from analysis.response_times import calculate_response_times, plot_response_times\n",
    "import globals\n",
    "from plotting import plot_octagon, plot_trajectory\n",
    "from datetime import datetime, timedelta\n",
    "import numpy as np\n",
    "import pandas as pd\n",
    "import scipy\n",
    "import matplotlib.pyplot as plt\n",
    "import matplotlib as mpl\n",
    "import math"
   ]
  },
  {
   "cell_type": "code",
   "execution_count": 2,
   "id": "67df156d-0d98-4906-b498-2a0f26988d14",
   "metadata": {},
   "outputs": [],
   "source": [
    "# paths\n",
    "data_folder = '/home/tom/Documents/SWC/data' # desktop Duan Lab\n",
    "# json_filename = '240913_Yansu_Jerry/2024-09-13_11-53-34_YansuSecondSolo.json' \n",
    "json_filename = '240913_Yansu_Jerry/2024-09-13_11-31-00_YansuJerrySocial.json'\n",
    "# data_folder = r'D:\\Users\\Tom\\OneDrive\\PhD\\SWC\\data' # desktop home\n",
    "# json_filename = r'first_experiments_2409\\240913\\2024-09-13_11-23-37_YansuFirstSolo.json'\n"
   ]
  },
  {
   "cell_type": "code",
   "execution_count": 3,
   "id": "ac73376d-5fb1-48f8-8798-9cde1e1de1b3",
   "metadata": {},
   "outputs": [
    {
     "name": "stdout",
     "output_type": "stream",
     "text": [
      "Data is from period before 2024-09-13 11:31:00\n",
      "Running dataframe through playerinfo_playerposition_conversion.\n",
      "Loading complete.\n"
     ]
    }
   ],
   "source": [
    "# Load JSON file into pandas df with collapsed data dictionary and adjustments based on date of recording \n",
    "df = loading.loading_pipeline(data_folder, json_filename)"
   ]
  },
  {
   "cell_type": "code",
   "execution_count": 4,
   "id": "ea1e9944-7cec-4521-b8d6-6d1a74e442a1",
   "metadata": {},
   "outputs": [
    {
     "name": "stdout",
     "output_type": "stream",
     "text": [
      "Preprocessing complete.\n"
     ]
    }
   ],
   "source": [
    "# Pre-process data \n",
    "df = preprocess.standard_preprocessing(df)"
   ]
  },
  {
   "cell_type": "code",
   "execution_count": 5,
   "id": "e87504f9-d315-4da5-b1e3-93530437b216",
   "metadata": {},
   "outputs": [],
   "source": [
    "## Extract single trials ##"
   ]
  },
  {
   "cell_type": "code",
   "execution_count": 6,
   "id": "092d3b10-bcdd-42f7-89fd-1b02dcc25e38",
   "metadata": {},
   "outputs": [],
   "source": [
    "def split_session_by_trial(df):\n",
    "    \n",
    "    # groupby produces an interable of tuples with the group key and the dataframe \n",
    "    trials_list = [data for _, data in df.groupby('data.trialNum')]\n",
    "    \n",
    "    # exclude trial 0 (could also exclude trial 1)\n",
    "    trials_list = trials_list[1:]\n",
    "\n",
    "    # if final  trial does not contain a server selected trigger activation, discard it\n",
    "    if not globals.SELECTED_TRIGGER_ACTIVATION in trials_list[-1]['eventDescription'].unique():\n",
    "        trials_list = trials_list[:-1]\n",
    "\n",
    "    return trials_list\n"
   ]
  },
  {
   "cell_type": "code",
   "execution_count": 7,
   "id": "f2f383b3-a5b7-4625-aa10-b4834aa6b066",
   "metadata": {},
   "outputs": [],
   "source": [
    "trials_list = split_session_by_trial(df)"
   ]
  },
  {
   "cell_type": "code",
   "execution_count": 8,
   "id": "05b14808-99c0-4d88-bf2f-10e813783ce5",
   "metadata": {},
   "outputs": [],
   "source": [
    "## rotate trials ##"
   ]
  },
  {
   "cell_type": "code",
   "execution_count": 9,
   "id": "4bba6914-d88b-485f-81b1-a58cab2315fd",
   "metadata": {},
   "outputs": [],
   "source": [
    "def find_rotation_angle_trial(trial):\n",
    "    \"\"\" Find CCW angle of rotation for vector to \n",
    "    rotate arena s.t. high wall is at wall 1\"\"\"\n",
    "\n",
    "    \n",
    "    \n",
    "    # identify trial walls\n",
    "    wall1 = trial.iloc[0]['data.wall1']\n",
    "    wall2 = trial.iloc[0]['data.wall2']\n",
    "    \n",
    "    # find difference of high wall to wall 1\n",
    "    difference = wall1 - 1\n",
    "        \n",
    "    # find CCW rotation angle \n",
    "    unitary_rotation_ang = 2*math.pi/globals.NUM_WALLS\n",
    "    theta = unitary_rotation_ang * difference\n",
    "\n",
    "    return theta"
   ]
  },
  {
   "cell_type": "code",
   "execution_count": 10,
   "id": "03f9d2b4-5eee-4927-ac64-7d769a195a33",
   "metadata": {},
   "outputs": [],
   "source": [
    "def rotation(trial, theta):\n",
    "    \"\"\" Take counterclockwise rotation angle and starting vector\n",
    "        Return rotated vector \"\"\"\n",
    "\n",
    "    rotated_coordinates = []\n",
    "\n",
    "    num_players = preprocess.num_players(df)\n",
    "    \n",
    "    trial_copy = trial.copy()\n",
    "\n",
    "    # create rotation matrix\n",
    "    rotM = np.array([\n",
    "                    [math.cos(theta), -math.sin(theta)],\n",
    "                     [math.sin(theta), math.cos(theta)]\n",
    "                    ])\n",
    "\n",
    "    for i in range(num_players):\n",
    "        x,y = trial_copy[globals.PLAYER_LOC_DICT[i]['xloc']], trial_copy[globals.PLAYER_LOC_DICT[i]['yloc']]\n",
    "\n",
    "        this_coordinates = np.vstack([x,y])\n",
    "        this_rotated_coordinates = np.matmul(rotM, this_coordinates) \n",
    "\n",
    "        rotated_coordinates.append(this_rotated_coordinates)\n",
    "\n",
    "    return rotated_coordinates\n",
    "    \n",
    "        \n",
    "    \n",
    "\n",
    "    \n",
    "        \n",
    "    "
   ]
  },
  {
   "cell_type": "code",
   "execution_count": 11,
   "id": "0fe9f323-c395-4668-ad9f-736f1744bcda",
   "metadata": {},
   "outputs": [],
   "source": [
    "trial = trials_list[0]"
   ]
  },
  {
   "cell_type": "code",
   "execution_count": 12,
   "id": "c5cb74c2-700e-469d-a6de-9f162acd3461",
   "metadata": {},
   "outputs": [],
   "source": [
    "theta = find_rotation_angle_trial(trial)"
   ]
  },
  {
   "cell_type": "code",
   "execution_count": 13,
   "id": "9ac6a77e-a572-47fe-9a32-ef6c8163415d",
   "metadata": {},
   "outputs": [],
   "source": [
    "rotated_coords = rotation(trial, theta)"
   ]
  },
  {
   "cell_type": "code",
   "execution_count": 14,
   "id": "1bdf5607-bc51-4941-998a-3972f895e3eb",
   "metadata": {},
   "outputs": [
    {
     "data": {
      "image/png": "[encoded data removed]",
      "text/plain": [
       "<Figure size 640x480 with 1 Axes>"
      ]
     },
     "metadata": {},
     "output_type": "display_data"
    },
    {
     "data": {
      "text/plain": [
       "{'data.playerPosition.0.location.x': array([-1.35949934, -1.35949934, -1.35949934, -1.35949934, -1.35949934,\n",
       "        -1.35949934, -1.35949934, -1.35949934, -1.35949934, -1.35949934,\n",
       "        -1.35949934, -1.35949934, -1.35949934, -1.35949934, -1.35949934,\n",
       "        -1.35949934, -1.35949934, -1.35949934, -1.35949934, -1.35949934,\n",
       "        -1.35949934, -1.35949934, -1.35949934, -1.35949934, -1.36356366,\n",
       "        -1.37994409, -1.40878487, -1.45020664, -1.5041436 , -1.57072306,\n",
       "        -1.65002513, -1.67927969, -1.75836301, -1.86539364, -1.98538351,\n",
       "        -2.11960196, -2.26572561, -2.42490387, -2.59704399, -2.78207493,\n",
       "        -2.97989249, -3.18427563, -3.38820314, -3.59234619, -3.79657364,\n",
       "        -4.00079012, -4.20492077, -4.40906477, -4.61324596, -4.81742954,\n",
       "        -5.02163744, -5.22585344, -5.43015909, -5.63506126, -5.8398695 ,\n",
       "        -6.04061413, -6.22873545, -6.3999815 , -6.55652428, -6.69748449,\n",
       "        -6.82396984, -6.93523645, -7.03106403, -7.11201048, -7.17771196,\n",
       "        -7.22835541, -7.26392555, -7.28442526, -7.28985453, -7.28018379,\n",
       "        -7.25563908, -7.22058535, -7.18493938, -7.14929533, -7.11364746,\n",
       "        -7.07800007, -7.04235029, -7.00669909, -6.97105312, -6.93540859,\n",
       "        -6.89979887, -6.86433697, -6.82908821, -6.79381323, -6.75853634,\n",
       "        -6.7232604 , -6.68807077, -6.65358448, -6.619802  , -6.58635712,\n",
       "        -6.55295038, -6.51958561, -6.48663521, -6.45439625, -6.42285872,\n",
       "        -6.3918643 , -6.36095953, -6.33021402, -6.29972029, -6.26873493,\n",
       "        -6.23944902, -6.21136999, -6.18446112, -6.15876245, -6.1341548 ,\n",
       "        -6.11138391, -6.09037209, -6.0717063 , -6.05606222, -6.04285288,\n",
       "        -6.03233194, -6.01928663, -5.99548435, -5.96251822, -5.91947126,\n",
       "        -5.86741352, -5.80493402, -5.73062801, -5.643888  , -5.54391336,\n",
       "        -5.43071938, -5.30380487, -5.16286898, -5.00781107, -4.83862972,\n",
       "        -4.65534782, -4.4579587 , -4.25086355, -4.0433383 , -3.83582473,\n",
       "        -3.62829638, -3.42077971, -3.21325755, -3.00570941, -2.79814982,\n",
       "        -2.59051156, -2.38260674, -2.17459631, -1.96651924, -1.75864553,\n",
       "        -1.55068922, -1.34267509, -1.13454998, -0.93507421, -0.74861509,\n",
       "        -0.57535255, -0.41486245, -0.26692027, -0.13130116, -0.00822235,\n",
       "         0.10217933,  0.20001727,  0.28520063,  0.35772097,  0.41755965,\n",
       "         0.46472573,  0.4992201 ,  0.52104127,  0.53019345,  0.5353567 ,\n",
       "         0.54082602,  0.54650122,  0.55230319,  0.55426484,  0.55881518,\n",
       "         0.5648275 ,  0.57083905,  0.57693565,  0.58307397,  0.5892958 ,\n",
       "         0.59564513,  0.60203624,  0.6084289 ,  0.61486298,  0.62125432,\n",
       "         0.62764496,  0.63403648,  0.64018214,  0.64590538,  0.65122986,\n",
       "         0.65615737,  0.66068536,  0.66481429,  0.66854036,  0.67186654,\n",
       "         0.67288655,  0.67288655]),\n",
       " 'data.playerPosition.0.location.z': array([ 3.20346355,  3.20346355,  3.20346355,  3.20346355,  3.20346355,\n",
       "         3.20346355,  3.20346355,  3.20346355,  3.20346355,  3.20346355,\n",
       "         3.20346355,  3.20346355,  3.20346355,  3.20346355,  3.20346355,\n",
       "         3.20346355,  3.20346355,  3.20346355,  3.20346355,  3.20346355,\n",
       "         3.20346355,  3.20346355,  3.20346355,  3.20346355,  3.204988  ,\n",
       "         3.21073651,  3.2203033 ,  3.23337555,  3.24999523,  3.26977873,\n",
       "         3.29256725,  3.30080962,  3.32237077,  3.3502717 ,  3.37997913,\n",
       "         3.41202641,  3.44500852,  3.47925854,  3.5150969 ,  3.55284667,\n",
       "         3.59316444,  3.63482046,  3.6763835 ,  3.7179904 ,  3.75961447,\n",
       "         3.80123663,  3.84284091,  3.88444805,  3.92593408,  3.96737742,\n",
       "         4.00873995,  4.05001783,  4.09079885,  4.13083792,  4.16905403,\n",
       "         4.20542479,  4.24814081,  4.30102873,  4.36464739,  4.43839931,\n",
       "         4.5229373 ,  4.61799288,  4.72332001,  4.83937025,  4.96572018,\n",
       "         5.10267925,  5.2502141 ,  5.40832567,  5.57705498,  5.75660706,\n",
       "         5.94653082,  6.14838314,  6.35364437,  6.55889702,  6.76416779,\n",
       "         6.96944046,  7.1747241 ,  7.38001633,  7.58527708,  7.7905302 ,\n",
       "         7.99583006,  8.20126247,  8.40645313,  8.61179161,  8.8171463 ,\n",
       "         9.02249241,  9.2278347 ,  9.43330669,  9.63891125,  9.84453678,\n",
       "        10.05018806, 10.25584316, 10.46157455, 10.66738605, 10.87334538,\n",
       "        11.07936859, 11.28565025, 11.49172306, 11.69781685, 11.91028881,\n",
       "        12.11656094, 12.32301426, 12.52961159, 12.73636913, 12.94357967,\n",
       "        13.1506834 , 13.35796452, 13.56547356, 13.77321148, 13.9811306 ,\n",
       "        14.18920612, 14.39712238, 14.59675026, 14.78293896, 14.95664501,\n",
       "        15.11871624, 15.26936436, 15.40859032, 15.53651047, 15.65295696,\n",
       "        15.75824261, 15.85209465, 15.93420982, 16.00450325, 16.06297493,\n",
       "        16.10965729, 16.1445961 , 16.16734123, 16.18580246, 16.20426178,\n",
       "        16.22272301, 16.24118423, 16.2596035 , 16.27789688, 16.29585457,\n",
       "        16.3128891 , 16.32909966, 16.34455681, 16.35925865, 16.37335396,\n",
       "        16.38623238, 16.39780617, 16.40807915, 16.41659927, 16.42487907,\n",
       "        16.44219589, 16.46897697, 16.5067215 , 16.55594826, 16.61810112,\n",
       "        16.69354057, 16.78219032, 16.88414574, 16.99947739, 17.12815857,\n",
       "        17.27019882, 17.42560387, 17.59436607, 17.77650642, 17.97177505,\n",
       "        18.17861748, 18.38687897, 18.59515381, 18.66456604, 18.82219315,\n",
       "        19.03046417, 19.2387085 , 19.44698143, 19.65524101, 19.67321014,\n",
       "        19.67321205, 19.67321205, 19.67321205, 19.67321205, 19.67321205,\n",
       "        19.67321205, 19.67321205, 19.67321205, 19.67321205, 19.67321205,\n",
       "        19.67321205, 19.67321205, 19.67321205, 19.67321205, 19.67321205,\n",
       "        19.67321205, 19.67321205]),\n",
       " 'data.playerPosition.1.location.x': array([        nan, -0.69918716, -0.69918722, -0.69918722, -0.69918722,\n",
       "        -0.69918722, -0.69918722, -0.69918722, -0.69918722, -0.69918722,\n",
       "        -0.69918722, -0.69918722, -0.69918722, -0.69918722, -0.69918722,\n",
       "        -0.69918722, -0.69918722, -0.69918722, -0.69918722, -0.69918722,\n",
       "        -0.69918722, -0.69918722, -0.69918722, -0.69918722, -0.69918722,\n",
       "        -0.69918722, -0.69918722, -0.69918722, -0.69918722, -0.69918722,\n",
       "        -0.69918722, -0.69918722, -0.69918722, -0.69918722, -0.69918722,\n",
       "        -0.69918722, -0.69918722, -0.69918722, -0.69918722, -0.69918722,\n",
       "        -0.69918722, -0.69918722, -0.69918722, -0.69918722, -0.69918722,\n",
       "        -0.69918722, -0.69918722, -0.69918722, -0.69918722, -0.69918722,\n",
       "        -0.69918722, -0.69918722, -0.69918722, -0.69918722, -0.69918722,\n",
       "        -0.69918722, -0.69918722, -0.69918722, -0.69918722, -0.69918722,\n",
       "        -0.69918722, -0.70086783, -0.7051878 , -0.71400982, -0.73158228,\n",
       "        -0.75044358, -0.78779614, -0.83363396, -0.87763947, -0.94788289,\n",
       "        -1.01925647, -1.10371101, -1.20466757, -1.31610358, -1.43323648,\n",
       "        -1.56604815, -1.69031286, -1.84008181, -1.97257936, -2.10060263,\n",
       "        -2.21900225, -2.31650209, -2.39863372, -2.4588623 , -2.50470185,\n",
       "        -2.51802754, -2.51439881, -2.48566937, -2.42434144, -2.33933449,\n",
       "        -2.23763728, -2.10933852, -1.98516262, -1.81773531, -1.65870392,\n",
       "        -1.48729086, -1.30241406, -1.13278496, -0.92895448, -0.73427403,\n",
       "        -0.5418399 , -0.33510944, -0.1458779 ,  0.04731657,  0.24570864,\n",
       "         0.42428085,  0.60889506,  0.80935526,  0.9858582 ,  1.18259752,\n",
       "         1.35963953,  1.53555417,  1.71043789,  1.86558867,  2.03366256,\n",
       "         2.19248819,  2.33095646,  2.48463774,  2.62334847,  2.76186204,\n",
       "         2.9015646 ,  3.02672815,  3.17017031,  3.30201793,  3.43746853,\n",
       "         3.58474422,  3.72041392,  3.86028862,  4.00636148,  4.13902807,\n",
       "         4.29812908,  4.44616032,  4.60108519,  4.77260876,  4.93266439,\n",
       "         5.10090733,  5.28025484,  5.44441605,  5.64222765,  5.83819485,\n",
       "         6.0126133 ,  6.19947815,  6.39187431,  6.58461332,  6.78646374,\n",
       "         6.97000313,  7.18568945,  7.38350677,  7.58600903,  7.80258989,\n",
       "         8.00054073,  8.20216846,  8.40893173,  8.5954361 ,  8.80792141,\n",
       "         9.01212311,  9.19146442,  9.39153862,  9.56814194,  9.73806095,\n",
       "         9.89949036, 10.0490799 , 10.18496037, 10.22410679, 10.32269287,\n",
       "        10.43652344, 10.54017258, 10.63278103, 10.71146965, 10.78173542,\n",
       "        10.84132004, 10.89066219, 10.93043232, 10.96115589, 10.9830246 ,\n",
       "        10.99598312, 11.0023756 , 11.00400543, 11.00058746, 10.99571323,\n",
       "        11.00951481, 11.0206356 , 11.06050873, 11.11532116, 11.17969322,\n",
       "        11.24959087, 11.34041595]),\n",
       " 'data.playerPosition.1.location.z': array([        nan,  1.00747943,  1.00747931,  1.00747931,  1.00747931,\n",
       "         1.00747931,  1.00747931,  1.00747931,  1.00747931,  1.00747931,\n",
       "         1.00747931,  1.00747931,  1.00747931,  1.00747931,  1.00747931,\n",
       "         1.00747931,  1.00747931,  1.00747931,  1.00747931,  1.00747931,\n",
       "         1.00747931,  1.00747931,  1.00747931,  1.00747931,  1.00747931,\n",
       "         1.00747931,  1.00747931,  1.00747931,  1.00747931,  1.00747931,\n",
       "         1.00747931,  1.00747931,  1.00747931,  1.00747931,  1.00747931,\n",
       "         1.00747931,  1.00747931,  1.00747931,  1.00747931,  1.00747931,\n",
       "         1.00747931,  1.00747931,  1.00747931,  1.00747931,  1.00747931,\n",
       "         1.00747931,  1.00747931,  1.00747931,  1.00747931,  1.00747931,\n",
       "         1.00747931,  1.00747931,  1.00747931,  1.00747931,  1.00747931,\n",
       "         1.00747931,  1.00747931,  1.00747931,  1.00747931,  1.00747931,\n",
       "         1.00747931,  1.00747931,  1.00809848,  1.00971043,  1.0130074 ,\n",
       "         1.01656187,  1.02334666,  1.03147006,  1.03920913,  1.05128849,\n",
       "         1.06365073,  1.07840502,  1.09760118,  1.12093103,  1.1479311 ,\n",
       "         1.18862033,  1.22990358,  1.30827987,  1.39236987,  1.49775267,\n",
       "         1.63404989,  1.76681185,  1.91462994,  2.07616162,  2.22531605,\n",
       "         2.401299  ,  2.55964947,  2.7169981 ,  2.86520171,  2.9987855 ,\n",
       "         3.11467099,  3.21221399,  3.29268479,  3.35619593,  3.4064281 ,\n",
       "         3.44518566,  3.47767377,  3.50436616,  3.53243661,  3.56105161,\n",
       "         3.59182525,  3.63217235,  3.67301583,  3.72090125,  3.7787919 ,\n",
       "         3.83395958,  3.9009366 ,  3.9869349 ,  4.06605577,  4.16951895,\n",
       "         4.26840305,  4.3759551 ,  4.49606895,  4.60746288,  4.74933195,\n",
       "         4.89263153,  5.02109671,  5.17758417,  5.32319546,  5.47560501,\n",
       "         5.63555813,  5.78109837,  5.95135403,  6.1063571 ,  6.26324892,\n",
       "         6.42815065,  6.57813835,  6.72975731,  6.88467264,  7.02418613,\n",
       "         7.17948008,  7.31830549,  7.45478153,  7.59184647,  7.71263409,\n",
       "         7.82856417,  7.93817902,  8.03375721,  8.12706089,  8.20797348,\n",
       "         8.27579021,  8.33489323,  8.3855381 ,  8.42814827,  8.4632082 ,\n",
       "         8.491786  ,  8.51758957,  8.54104137,  8.56470966,  8.59311485,\n",
       "         8.62165165,  8.65479755,  8.69580841,  8.73527527,  8.79302216,\n",
       "         8.85682964,  8.9159956 ,  9.00179005,  9.08942032,  9.19325542,\n",
       "         9.3169241 ,  9.45179844,  9.5915575 ,  9.63182068,  9.76262951,\n",
       "         9.92802429, 10.10291767, 10.28957176, 10.46046066, 10.65164852,\n",
       "        10.85214615, 11.03463745, 11.2491684 , 11.44731045, 11.64895439,\n",
       "        11.85773849, 12.0659914 , 12.26896572, 12.47817898, 12.66756058,\n",
       "        12.86329746, 13.0210104 , 13.17959976, 13.33067513, 13.47328472,\n",
       "        13.60690117, 13.74238873])}"
      ]
     },
     "execution_count": 14,
     "metadata": {},
     "output_type": "execute_result"
    }
   ],
   "source": [
    "plot_trajectory.plot_trajectory(trials_list, trial_index=0, social=True)"
   ]
  }
 ],
 "metadata": {
  "kernelspec": {
   "display_name": "Python 3 (ipykernel)",
   "language": "python",
   "name": "python3"
  },
  "language_info": {
   "codemirror_mode": {
    "name": "ipython",
    "version": 3
   },
   "file_extension": ".py",
   "mimetype": "text/x-python",
   "name": "python",
   "nbconvert_exporter": "python",
   "pygments_lexer": "ipython3",
   "version": "3.12.5"
  }
 },
 "nbformat": 4,
 "nbformat_minor": 5
}
