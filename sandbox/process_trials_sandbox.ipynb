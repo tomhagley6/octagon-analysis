{
 "cells": [
  {
   "cell_type": "code",
   "execution_count": 142,
   "id": "d186826f-a807-49a8-b6f4-80d11df2c17c",
   "metadata": {},
   "outputs": [],
   "source": [
    "import parse_data.preprocess as preprocess\n",
    "import parse_data.loading as loading\n",
    "from analysis.response_times import calculate_response_times, plot_response_times\n",
    "import globals\n",
    "from plotting import plot_octagon, plot_trajectory\n",
    "from datetime import datetime, timedelta\n",
    "import numpy as np\n",
    "import pandas as pd\n",
    "import scipy\n",
    "import matplotlib.pyplot as plt\n",
    "import matplotlib as mpl\n",
    "import math"
   ]
  },
  {
   "cell_type": "code",
   "execution_count": 143,
   "id": "67df156d-0d98-4906-b498-2a0f26988d14",
   "metadata": {},
   "outputs": [],
   "source": [
    "# paths\n",
    "# data_folder = '/home/tom/Documents/SWC/data' # desktop Duan Lab\n",
    "# json_filename = '240913_Yansu_Jerry/2024-09-13_11-53-34_YansuSecondSolo.json' \n",
    "# json_filename = '240913_Yansu_Jerry/2024-09-13_11-31-00_YansuJerrySocial.json'\n",
    "data_folder = r'D:\\Users\\Tom\\OneDrive\\PhD\\SWC\\data' # desktop home\n",
    "# json_filename = r'first_experiments_2409\\240913\\2024-09-13_11-23-37_YansuFirstSolo.json'\n",
    "json_filename = r'first_experiments_2409\\240913\\2024-09-13_11-31-00_YansuJerrySocial.json'\n"
   ]
  },
  {
   "cell_type": "code",
   "execution_count": 144,
   "id": "ac73376d-5fb1-48f8-8798-9cde1e1de1b3",
   "metadata": {},
   "outputs": [
    {
     "name": "stdout",
     "output_type": "stream",
     "text": [
      "Data is from period before 2024-09-13 11:31:00\n",
      "Running dataframe through playerinfo_playerposition_conversion.\n",
      "Loading complete.\n"
     ]
    }
   ],
   "source": [
    "# Load JSON file into pandas df with collapsed data dictionary and adjustments based on date of recording \n",
    "df = loading.loading_pipeline(data_folder, json_filename)"
   ]
  },
  {
   "cell_type": "code",
   "execution_count": 145,
   "id": "ea1e9944-7cec-4521-b8d6-6d1a74e442a1",
   "metadata": {},
   "outputs": [
    {
     "name": "stdout",
     "output_type": "stream",
     "text": [
      "Preprocessing complete.\n"
     ]
    }
   ],
   "source": [
    "# Pre-process data \n",
    "df = preprocess.standard_preprocessing(df)"
   ]
  },
  {
   "cell_type": "code",
   "execution_count": 146,
   "id": "e87504f9-d315-4da5-b1e3-93530437b216",
   "metadata": {},
   "outputs": [],
   "source": [
    "## Extract single trials ##"
   ]
  },
  {
   "cell_type": "code",
   "execution_count": 147,
   "id": "092d3b10-bcdd-42f7-89fd-1b02dcc25e38",
   "metadata": {},
   "outputs": [],
   "source": [
    "def split_session_by_trial(df):\n",
    "    \n",
    "    # groupby produces an interable of tuples with the group key and the dataframe \n",
    "    trials_list = [data for _, data in df.groupby('data.trialNum')]\n",
    "    \n",
    "    # exclude trial 0 (could also exclude trial 1)\n",
    "    trials_list = trials_list[1:]\n",
    "\n",
    "    # if final  trial does not contain a server selected trigger activation, discard it\n",
    "    if not globals.SELECTED_TRIGGER_ACTIVATION in trials_list[-1]['eventDescription'].unique():\n",
    "        trials_list = trials_list[:-1]\n",
    "\n",
    "    return trials_list\n"
   ]
  },
  {
   "cell_type": "code",
   "execution_count": 148,
   "id": "f2f383b3-a5b7-4625-aa10-b4834aa6b066",
   "metadata": {},
   "outputs": [],
   "source": [
    "trials_list = split_session_by_trial(df)"
   ]
  },
  {
   "cell_type": "code",
   "execution_count": 149,
   "id": "05b14808-99c0-4d88-bf2f-10e813783ce5",
   "metadata": {},
   "outputs": [],
   "source": [
    "## rotate trials ##"
   ]
  },
  {
   "cell_type": "code",
   "execution_count": 150,
   "id": "4bba6914-d88b-485f-81b1-a58cab2315fd",
   "metadata": {},
   "outputs": [],
   "source": [
    "def find_rotation_angle_trial(trial):\n",
    "    \"\"\" Find CCW angle of rotation for vector to \n",
    "    rotate arena s.t. high wall is at wall 1\"\"\"\n",
    "\n",
    "    \n",
    "    \n",
    "    # identify trial walls\n",
    "    wall1 = trial.iloc[0]['data.wall1']\n",
    "    wall2 = trial.iloc[0]['data.wall2']\n",
    "    \n",
    "    # find difference of high wall to wall 1\n",
    "    difference = wall1 - 1\n",
    "        \n",
    "    # find CCW rotation angle \n",
    "    unitary_rotation_ang = 2*math.pi/globals.NUM_WALLS\n",
    "    theta = unitary_rotation_ang * difference\n",
    "\n",
    "    return theta"
   ]
  },
  {
   "cell_type": "code",
   "execution_count": 151,
   "id": "03f9d2b4-5eee-4927-ac64-7d769a195a33",
   "metadata": {},
   "outputs": [],
   "source": [
    "def rotation(trial, theta):\n",
    "    \"\"\" Take counterclockwise rotation angle and starting vector\n",
    "        Return rotated vector \"\"\"\n",
    "\n",
    "    rotated_coordinates = []\n",
    "\n",
    "    num_players = preprocess.num_players(df)\n",
    "    \n",
    "    trial_copy = trial.copy()\n",
    "\n",
    "    # create rotation matrix\n",
    "    rotM = np.array([\n",
    "                    [math.cos(theta), -math.sin(theta)],\n",
    "                     [math.sin(theta), math.cos(theta)]\n",
    "                    ])\n",
    "\n",
    "    for i in range(num_players):\n",
    "        x,y = trial_copy[globals.PLAYER_LOC_DICT[i]['xloc']], trial_copy[globals.PLAYER_LOC_DICT[i]['yloc']]\n",
    "\n",
    "        this_coordinates = np.vstack([x,y])\n",
    "        this_rotated_coordinates = np.matmul(rotM, this_coordinates) \n",
    "\n",
    "        rotated_coordinates.append(this_rotated_coordinates)\n",
    "\n",
    "    return rotated_coordinates\n",
    "    \n",
    "        \n",
    "    \n",
    "\n",
    "    \n",
    "        \n",
    "    "
   ]
  },
  {
   "cell_type": "code",
   "execution_count": 152,
   "id": "c5d3c0ff-0492-43bb-b989-c708072f4d5e",
   "metadata": {},
   "outputs": [],
   "source": [
    "def placeholder(trial, rotated_coordinates):\n",
    "    trial_copy = trial.copy()\n",
    "\n",
    "    for i in range(len(rotated_coordinates)):\n",
    "        trial_copy[globals.PLAYER_LOC_DICT[i]['xloc']] = rotated_coordinates[i][0]\n",
    "        trial_copy[globals.PLAYER_LOC_DICT[i]['yloc']] = rotated_coordinates[i][1]\n",
    "\n",
    "    return trial_copy\n",
    "        \n"
   ]
  },
  {
   "cell_type": "code",
   "execution_count": 153,
   "id": "c7b929ca-65fd-4751-a8e6-c183bbf4944e",
   "metadata": {},
   "outputs": [],
   "source": [
    "trial_idx = 84"
   ]
  },
  {
   "cell_type": "code",
   "execution_count": 154,
   "id": "0fe9f323-c395-4668-ad9f-736f1744bcda",
   "metadata": {},
   "outputs": [],
   "source": [
    "trial = trials_list[trial_idx]"
   ]
  },
  {
   "cell_type": "code",
   "execution_count": 155,
   "id": "06a0fd98-b125-410d-befe-5e16566a3a77",
   "metadata": {},
   "outputs": [
    {
     "data": {
      "text/plain": [
       "timeLocal                           1900-01-01 11:45:36.425000\n",
       "timeApplication                         0 days 00:15:32.356000\n",
       "eventDescription                                   trial start\n",
       "data.playerPosition.0.clientId                             NaN\n",
       "data.playerPosition.0.location.x                   3.909650087\n",
       "data.playerPosition.0.location.y                   1.984999657\n",
       "data.playerPosition.0.location.z                  -0.144384339\n",
       "data.playerPosition.0.rotation.x                   9.736743927\n",
       "data.playerPosition.0.rotation.y                  46.491825104\n",
       "data.playerPosition.0.rotation.z                  -0.000000217\n",
       "data.playerPosition.1.clientId                             NaN\n",
       "data.playerPosition.1.location.x                           NaN\n",
       "data.playerPosition.1.location.y                           NaN\n",
       "data.playerPosition.1.location.z                           NaN\n",
       "data.playerPosition.1.rotation.x                           NaN\n",
       "data.playerPosition.1.rotation.y                           NaN\n",
       "data.playerPosition.1.rotation.z                           NaN\n",
       "data.trialNum                                             85.0\n",
       "data.trialType                                      ForcedHigh\n",
       "data.wall1                                                 5.0\n",
       "data.wall2                                                 7.0\n",
       "data.wallTriggered                                         NaN\n",
       "data.triggerClient                                         NaN\n",
       "data.playerScores.0                                     1470.0\n",
       "data.playerScores.1                                     1830.0\n",
       "timeReferenced                          0 days 00:14:36.257000\n",
       "trial_epoch                                      trial started\n",
       "Name: 42404, dtype: object"
      ]
     },
     "execution_count": 155,
     "metadata": {},
     "output_type": "execute_result"
    }
   ],
   "source": [
    "trial.iloc[0]"
   ]
  },
  {
   "cell_type": "code",
   "execution_count": 156,
   "id": "c5cb74c2-700e-469d-a6de-9f162acd3461",
   "metadata": {},
   "outputs": [],
   "source": [
    "theta = find_rotation_angle_trial(trial)"
   ]
  },
  {
   "cell_type": "code",
   "execution_count": 157,
   "id": "9ac6a77e-a572-47fe-9a32-ef6c8163415d",
   "metadata": {},
   "outputs": [],
   "source": [
    "rotated_coords = rotation(trial, theta)"
   ]
  },
  {
   "cell_type": "code",
   "execution_count": 158,
   "id": "dc51eb88-534e-48fc-976c-c1bd8aacd203",
   "metadata": {},
   "outputs": [],
   "source": [
    "    rotated_coords = np.array(rotated_coords)"
   ]
  }
 ],
 "metadata": {
  "kernelspec": {
   "display_name": "Python 3 (ipykernel)",
   "language": "python",
   "name": "python3"
  },
  "language_info": {
   "codemirror_mode": {
    "name": "ipython",
    "version": 3
   },
   "file_extension": ".py",
   "mimetype": "text/x-python",
   "name": "python",
   "nbconvert_exporter": "python",
   "pygments_lexer": "ipython3",
   "version": "3.12.5"
  }
 },
 "nbformat": 4,
 "nbformat_minor": 5
}
