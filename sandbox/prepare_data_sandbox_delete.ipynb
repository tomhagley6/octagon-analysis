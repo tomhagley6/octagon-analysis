{
 "cells": [
  {
   "cell_type": "code",
   "execution_count": 1,
   "id": "d4992911-7b02-448c-8ee5-c89c228ad2ed",
   "metadata": {},
   "outputs": [],
   "source": [
    "import parse_data.prepare_data as prepare_data\n",
    "import numpy as np\n",
    "import pandas as pd\n",
    "import matplotlib.pyplot as plt\n",
    "import globals\n",
    "import data_strings\n",
    "import data_extraction.get_indices as get_indices"
   ]
  },
  {
   "cell_type": "markdown",
   "id": "7a24b223",
   "metadata": {},
   "source": [
    "### Generic starting point for work on session data"
   ]
  },
  {
   "cell_type": "code",
   "execution_count": 2,
   "id": "011c819a-ab6d-4c42-8ab8-c35d0824fbfa",
   "metadata": {},
   "outputs": [],
   "source": [
    "data_folder = data_strings.DATA_FOLDER\n",
    "json_filenames_all_social = data_strings.JSON_FILENAMES_SOCIAL[:1]\n",
    "json_filenames_all_solo = data_strings.JSON_FILENAMES_SOLO[:1]"
   ]
  },
  {
   "cell_type": "code",
   "execution_count": 3,
   "id": "c07cb011",
   "metadata": {},
   "outputs": [],
   "source": [
    "json_filenames = json_filenames_all_social"
   ]
  },
  {
   "cell_type": "code",
   "execution_count": 24,
   "id": "167898aa-3073-479e-8eef-6c579c67c7f4",
   "metadata": {
    "scrolled": true
   },
   "outputs": [
    {
     "name": "stdout",
     "output_type": "stream",
     "text": [
      "filepath: D:\\Users\\Tom\\OneDrive\\PhD\\SWC\\data\\first_experiments_2409\\240913\\2024-09-13_11-31-00_YansuJerrySocial.json\n",
      "Data is from period before 2024-09-13 00:00:00\n",
      "Running dataframe through playerinfo_playerposition_conversion.\n",
      "Loading complete.\n",
      "Preprocessing complete.\n"
     ]
    }
   ],
   "source": [
    "df, trial_list = prepare_data.prepare_data(data_folder, json_filenames, combine=False)"
   ]
  },
  {
   "cell_type": "code",
   "execution_count": 30,
   "id": "0a9f8f4b",
   "metadata": {},
   "outputs": [],
   "source": [
    "high_low_indices = get_indices.get_trials_trialtype(trial_list[0])\n",
    "trial_list_2 = [trial_list[0][i] for i in high_low_indices]"
   ]
  },
  {
   "cell_type": "code",
   "execution_count": 32,
   "id": "c7358bf8",
   "metadata": {},
   "outputs": [
    {
     "data": {
      "text/plain": [
       "102"
      ]
     },
     "execution_count": 32,
     "metadata": {},
     "output_type": "execute_result"
    }
   ],
   "source": [
    "len(trial_list_2)"
   ]
  },
  {
   "cell_type": "code",
   "execution_count": 33,
   "id": "fa11fe01",
   "metadata": {},
   "outputs": [],
   "source": [
    "a = get_indices.get_chosen_walls(trial_list_2)"
   ]
  },
  {
   "cell_type": "code",
   "execution_count": 34,
   "id": "87f091c2",
   "metadata": {},
   "outputs": [
    {
     "data": {
      "text/plain": [
       "array([2., 2., 5., 6., 4., 3., 5., 8., 8., 8., 3., 6., 4., 5., 4., 3., 1.,\n",
       "       3., 1., 4., 3., 2., 8., 8., 5., 5., 2., 5., 1., 3., 2., 8., 2., 7.,\n",
       "       3., 2., 7., 4., 5., 8., 6., 4., 2., 6., 2., 6., 1., 7., 6., 6., 6.,\n",
       "       7., 3., 4., 2., 5., 4., 3., 3., 1., 1., 4., 7., 1., 8., 2., 1., 1.,\n",
       "       6., 2., 3., 3., 4., 7., 1., 5., 1., 6., 1., 8., 4., 7., 5., 5., 2.,\n",
       "       2., 8., 7., 1., 1., 2., 1., 7., 1., 8., 4., 4., 1., 4., 2., 2., 7.])"
      ]
     },
     "execution_count": 34,
     "metadata": {},
     "output_type": "execute_result"
    }
   ],
   "source": [
    "a"
   ]
  },
  {
   "cell_type": "code",
   "execution_count": 35,
   "id": "10b35278",
   "metadata": {},
   "outputs": [],
   "source": [
    "b = get_indices.get_trigger_activators(trial_list_2)"
   ]
  },
  {
   "cell_type": "code",
   "execution_count": 39,
   "id": "9bbf7a03",
   "metadata": {},
   "outputs": [
    {
     "data": {
      "text/plain": [
       "array([1., 0., 0., 0., 1., 1., 0., 1., 0., 1., 1., 0., 1., 1., 1., 1., 0.,\n",
       "       1., 0., 1., 1., 0., 1., 0., 1., 0., 0., 0., 1., 0., 1., 1., 1., 1.,\n",
       "       1., 0., 0., 1., 1., 1., 0., 0., 0., 0., 1., 0., 0., 0., 1., 1., 0.,\n",
       "       1., 0., 1., 1., 1., 1., 1., 0., 1., 0., 0., 0., 1., 0., 0., 0., 0.,\n",
       "       1., 1., 1., 1., 1., 0., 1., 1., 0., 1., 0., 0., 1., 1., 0., 1., 1.,\n",
       "       0., 1., 1., 1., 1., 1., 1., 1., 0., 0., 0., 1., 1., 1., 1., 1., 0.])"
      ]
     },
     "execution_count": 39,
     "metadata": {},
     "output_type": "execute_result"
    }
   ],
   "source": [
    "b"
   ]
  },
  {
   "cell_type": "code",
   "execution_count": 40,
   "id": "68b4ff6d",
   "metadata": {},
   "outputs": [],
   "source": [
    "c = np.asarray([1  if b[i] == 0 else np.nan for i in range(a.size)])"
   ]
  },
  {
   "cell_type": "code",
   "execution_count": 44,
   "id": "55f12321",
   "metadata": {},
   "outputs": [
    {
     "data": {
      "text/plain": [
       "np.float64(43.0)"
      ]
     },
     "execution_count": 44,
     "metadata": {},
     "output_type": "execute_result"
    }
   ],
   "source": [
    "np.nansum(c)"
   ]
  },
  {
   "cell_type": "code",
   "execution_count": null,
   "id": "b5c705f3",
   "metadata": {},
   "outputs": [],
   "source": [
    "[nan  2.  5.  6. nan nan  5. nan  8. nan nan  6. nan nan nan nan  1. nan\n",
    "  1. nan nan  2. nan  8. nan  5.  2.  5. nan  3. nan nan nan nan nan  2.\n",
    "  7. nan nan nan  6.  4.  2.  6. nan  6.  1.  7. nan nan  6. nan  3. nan\n",
    " nan nan nan nan  3. nan  1.  4.  7. nan  8.  2.  1.  1. nan nan nan nan\n",
    " nan  7. nan nan  1. nan  1.  8. nan nan  5. nan nan  2. nan nan nan nan\n",
    " nan nan nan  1.  8.  4. nan nan nan nan nan  7.]"
   ]
  }
 ],
 "metadata": {
  "kernelspec": {
   "display_name": "octagon_analysis",
   "language": "python",
   "name": "python3"
  },
  "language_info": {
   "codemirror_mode": {
    "name": "ipython",
    "version": 3
   },
   "file_extension": ".py",
   "mimetype": "text/x-python",
   "name": "python",
   "nbconvert_exporter": "python",
   "pygments_lexer": "ipython3",
   "version": "3.12.5"
  }
 },
 "nbformat": 4,
 "nbformat_minor": 5
}
