{
 "cells": [
  {
   "cell_type": "code",
   "execution_count": 4,
   "id": "45c85f5d-3353-4edf-99c6-63f47b7e0b88",
   "metadata": {},
   "outputs": [],
   "source": [
    "import numpy as np\n",
    "import math"
   ]
  },
  {
   "cell_type": "markdown",
   "id": "2543ddfb-05c9-4b93-a505-9c13c53d79bf",
   "metadata": {},
   "source": [
    "## FoV calculations to be implemented in Unity"
   ]
  },
  {
   "cell_type": "code",
   "execution_count": 6,
   "id": "5b159b8f-5dc2-47da-bd1b-3e9c71fa5ac1",
   "metadata": {},
   "outputs": [],
   "source": [
    "# calculate horizontal fov that occurs for a given vertical fov, for an aspect ratio of 16:9\n",
    "# https://gamedev.stackexchange.com/questions/136957/what-fov-does-unity-show-in-a-169-aspect-ratio-when-set-to-fov-60\n",
    "aspect_ratio = 1.78\n",
    "fov_y = 75\n",
    "f = math.tan(np.deg2rad(fov_y / 2));\n",
    "\n",
    "fov_x = np.rad2deg(math.atan(f * aspect_ratio)) * 2;\n"
   ]
  },
  {
   "cell_type": "code",
   "execution_count": 7,
   "id": "e006fd0e-dc3e-490e-b10f-12abe27fccd4",
   "metadata": {},
   "outputs": [
    {
     "data": {
      "text/plain": [
       "np.float64(107.58062169014039)"
      ]
     },
     "execution_count": 7,
     "metadata": {},
     "output_type": "execute_result"
    }
   ],
   "source": [
    "fov_x"
   ]
  },
  {
   "cell_type": "code",
   "execution_count": 8,
   "id": "776584eb-8130-4ff5-a19a-136e8e179830",
   "metadata": {},
   "outputs": [],
   "source": [
    "# the exact aspect ratio needed for a horizontal fov of 90 and vertical fov of 60\n",
    "ratio = math.tan(np.deg2rad(90/2)) / math.tan(np.deg2rad(60/2));"
   ]
  },
  {
   "cell_type": "code",
   "execution_count": 17,
   "id": "225c73cf-9822-4538-ab00-94bcb5593048",
   "metadata": {},
   "outputs": [],
   "source": [
    "# calculate vertical fov that occurs for a given horizontal fov, for an aspect ratio of 16:10\n",
    "fov_x = 110\n",
    "aspect_ratio = 1.713521 # not 1.6 because program does not fill the whole screen\n",
    "fov_y = np.rad2deg(\n",
    "                    2*math.atan(\n",
    "                                (math.tan(np.deg2rad(fov_x)/2))\n",
    "                                /aspect_ratio)\n",
    "                  )\n"
   ]
  },
  {
   "cell_type": "code",
   "execution_count": 18,
   "id": "6aba2a49-db97-4834-ab2a-94491856ce75",
   "metadata": {},
   "outputs": [
    {
     "name": "stdout",
     "output_type": "stream",
     "text": [
      "vertical fov required for horizontal fov 110 at aspect ratio 1.71 is 79.61958132676789\n"
     ]
    }
   ],
   "source": [
    "print(f\"vertical fov required for horizontal fov {fov_x} at aspect ratio {aspect_ratio:.2f} is {fov_y.item()}\")"
   ]
  },
  {
   "cell_type": "code",
   "execution_count": 11,
   "id": "d5c0e47d-79fc-4201-8c69-58cf2aac1c95",
   "metadata": {},
   "outputs": [
    {
     "data": {
      "text/plain": [
       "1.5089603676688113"
      ]
     },
     "execution_count": 11,
     "metadata": {},
     "output_type": "execute_result"
    }
   ],
   "source": [
    "math.atan(0.94)*2"
   ]
  },
  {
   "cell_type": "code",
   "execution_count": 12,
   "id": "8af36f45-f1ba-45d5-b245-95f6ce1c8c60",
   "metadata": {},
   "outputs": [
    {
     "data": {
      "text/plain": [
       "1.7320508075688772"
      ]
     },
     "execution_count": 12,
     "metadata": {},
     "output_type": "execute_result"
    }
   ],
   "source": [
    "ratio"
   ]
  }
 ],
 "metadata": {
  "kernelspec": {
   "display_name": "Python 3 (ipykernel)",
   "language": "python",
   "name": "python3"
  },
  "language_info": {
   "codemirror_mode": {
    "name": "ipython",
    "version": 3
   },
   "file_extension": ".py",
   "mimetype": "text/x-python",
   "name": "python",
   "nbconvert_exporter": "python",
   "pygments_lexer": "ipython3",
   "version": "3.12.5"
  }
 },
 "nbformat": 4,
 "nbformat_minor": 5
}
