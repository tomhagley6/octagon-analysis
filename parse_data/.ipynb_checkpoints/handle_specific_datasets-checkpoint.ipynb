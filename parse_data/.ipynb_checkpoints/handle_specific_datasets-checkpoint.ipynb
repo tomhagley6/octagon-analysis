{
 "cells": [
  {
   "cell_type": "code",
   "execution_count": 1,
   "id": "8b050690-8cc3-4354-86a9-bfb2a3683775",
   "metadata": {},
   "outputs": [],
   "source": [
    "import json\n",
    "import os\n",
    "from datetime import datetime, timedelta\n",
    "import numpy as np\n",
    "import pandas as pd\n",
    "from matplotlib import pyplot as plt\n",
    "\n",
    "pd.set_option('display.precision', 9)\n",
    "pd.set_option('display.width', 1000)  # Adjust to ensure there's enough room for all data\n",
    "pd.set_option('display.max_columns', None)  # Show all columns\n",
    "\n",
    "json_normalise = True"
   ]
  },
  {
   "cell_type": "code",
   "execution_count": 2,
   "id": "b3052c22-683a-4cc6-94e2-21ebef33dcf6",
   "metadata": {},
   "outputs": [],
   "source": [
    "## Load JSON file into pandas df with collapsed data dictionary ##"
   ]
  },
  {
   "cell_type": "code",
   "execution_count": 3,
   "id": "f68a4d8f-e635-45b3-9016-f8edc6a7c522",
   "metadata": {},
   "outputs": [],
   "source": [
    "# ## paths\n",
    "# # data_folder = '/home/tom/Documents/SWC/data' # desktop Duan Lab\n",
    "# # json_filename = '240913_Yansu_Jerry/2024-09-13_11-23-37_YansuFirstSolo.json' \n",
    "# data_folder = r'D:\\Users\\Tom\\OneDrive\\PhD\\SWC\\data' # desktop home\n",
    "# json_filename = r'first_experiments_2409\\240913\\2024-09-13_11-23-37_YansuFirstSolo.json'\n",
    "\n",
    "# filepath = data_folder + os.sep + json_filename\n"
   ]
  },
  {
   "cell_type": "code",
   "execution_count": 52,
   "id": "c73bf9e8-600f-467f-82f9-6e1bbf2acda4",
   "metadata": {},
   "outputs": [],
   "source": [
    "## Handle trial start events using a different key for player location information - pre-240927 data ##"
   ]
  },
  {
   "cell_type": "code",
   "execution_count": 1,
   "id": "ba63eef3-1125-4e9b-b3e2-4b9c386edba1",
   "metadata": {},
   "outputs": [],
   "source": [
    "def playerinfo_playerposition_conversion(df, solo=True):\n",
    "    ''' Initially, playerinfo was included alongside playerposition, although the data was indentical\n",
    "        Transfer the data from playerinfo into the playerposition dict for these datasets '''\n",
    "\n",
    "    \n",
    "    # List of data affected by issue (relative paths)\n",
    "    if solo:\n",
    "        columns_to_merge = ['0.location.x', '0.location.y', '0.location.z', '0.rotation.x', '0.rotation.y', '0.rotation.z']\n",
    "    else:\n",
    "        columns_to_merge = ['0.location.x', '0.location.y', '0.location.z', '0.rotation.x', '0.rotation.y', '0.rotation.z', +\n",
    "                            '1.location.x', '1.location.y', '1.location.z', '1.rotation.x', '1.rotation.y', '1.rotation.z']\n",
    "    # Replace the current playerPosition column with one in which the trial start events are filled (instead of NaN)\n",
    "    # Do this by filtering the relevant 2 columns, ffilling across columns (so the playerPosition column has its NaNs\n",
    "    # replaced by the values in playerInfo, and taking only this column with iloc\n",
    "    df2 = df.copy()\n",
    "    for name in columns_to_merge:\n",
    "        df2[f'data.playerPosition.{name}'] = df.filter(like=name).ffill(axis=1).iloc[:,-1]\n",
    "\n",
    "    # Remove the redundant columns from the dataframe\n",
    "    cols_to_drop = [col for col in df.columns.to_list() if 'playerInfo' in col]\n",
    "    df2 = df2.drop(cols_to_drop, axis=1)\n",
    "\n",
    "\n",
    "    return df2"
   ]
  },
  {
   "cell_type": "code",
   "execution_count": 18,
   "id": "02a6ed55-b9eb-44a0-9836-6545981c5759",
   "metadata": {},
   "outputs": [],
   "source": [
    "def remove_zero_wall_numbers(df):\n",
    "    ''' When a trigger activation occurred that was not selected by the server, it would record trial walls as 0,0\n",
    "        Remove these values and replace with nans to allow forward and backward filling of wall numbers '''\n",
    "\n",
    "    df2 = df.copy()\n",
    "    df2[df2['data.wall1'] == 0] = np.nan\n",
    "    df2[df2['data.wall2'] == 0] = np.nan\n",
    "\n",
    "    return df2"
   ]
  }
 ],
 "metadata": {
  "kernelspec": {
   "display_name": "Python 3 (ipykernel)",
   "language": "python",
   "name": "python3"
  },
  "language_info": {
   "codemirror_mode": {
    "name": "ipython",
    "version": 3
   },
   "file_extension": ".py",
   "mimetype": "text/x-python",
   "name": "python",
   "nbconvert_exporter": "python",
   "pygments_lexer": "ipython3",
   "version": "3.11.10"
  }
 },
 "nbformat": 4,
 "nbformat_minor": 5
}
