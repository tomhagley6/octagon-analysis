{
 "cells": [
  {
   "cell_type": "code",
   "execution_count": 3,
   "metadata": {},
   "outputs": [],
   "source": [
    "import json\n",
    "import re\n",
    "import os\n",
    "import pandas as pd\n",
    "from datetime import datetime, timedelta\n",
    "from parse_data.handle_specific_datasets import playerinfo_playerposition_conversion, remove_zero_wall_numbers\n"
   ]
  },
  {
   "cell_type": "code",
   "execution_count": 4,
   "metadata": {},
   "outputs": [],
   "source": [
    "# given a filepath, load dataframe from .json, with nesting flattened or not\n",
    "def load_df_from_file(data_folder, json_filename, json_normalise=True):\n",
    "    filepath = data_folder + os.sep + json_filename\n",
    "    if json_normalise == True:\n",
    "        with open(filepath) as f:\n",
    "            file = json.load(f)\n",
    "            df = pd.json_normalize(file)\n",
    "    else:\n",
    "        with open(filepath) as f:\n",
    "            df = pd.read_json(f)\n",
    "    \n",
    "    return df"
   ]
  },
  {
   "cell_type": "code",
   "execution_count": 5,
   "metadata": {},
   "outputs": [],
   "source": [
    "# Convert time columns into datetime format\n",
    "def convert_time_strings(df):\n",
    "    df2 = df.copy()\n",
    "    df2['timeLocal'] = pd.to_datetime(df2['timeLocal'], format='%H:%M:%S:%f')\n",
    "\n",
    "    # Use to_timedelta instead as a vectorised function (lambdas are python loops)\n",
    "    # df['timeApplication'] = df['timeApplication'].apply(lambda x: timedelta(seconds=int(x) + (x - int(x))))\n",
    "    df2['timeApplication'] = pd.to_numeric(df2['timeApplication']) \n",
    "    df2['timeApplication'] = pd.to_timedelta(df2['timeApplication'], unit='s')\n",
    "\n",
    "    return df2"
   ]
  },
  {
   "cell_type": "code",
   "execution_count": 1,
   "metadata": {},
   "outputs": [],
   "source": [
    "# check the date of the file against any date conditionals, and then run the relevant functions\n",
    "def handle_date_sensitive_processing(df, json_filename):\n",
    "    # find date string in filename\n",
    "    pattern = r'\\d{4}-\\d{2}-\\d{2}_\\d{2}-\\d{2}-\\d{2}'\n",
    "    match = re.search(pattern, json_filename)\n",
    "\n",
    "    # convert date string to datetime\n",
    "    timestamp_dt = datetime.strptime(match.group(), \"%Y-%m-%d_%H-%M-%S\")\n",
    "\n",
    "    # list of all dates with data that needs specific handling\n",
    "    date_first_experiment = datetime.strptime(\"2024-09-13\", \"%Y-%m-%d\") # merging playerinfo\n",
    "    date_fourth_experiment = datetime.strptime(\"2024-10-18\", \"%Y-%m-%d\") # removing zeros from wallnums\n",
    "\n",
    "    # conditional statements based on date of data\n",
    "    df2 = df.copy()\n",
    "\n",
    "    # merging playerinfo dictionary into playerposition\n",
    "    if timestamp_dt < date_first_experiment + timedelta(days=1):\n",
    "        print(f\"Data is from period before {date_first_experiment}\")\n",
    "        df2 = playerinfo_playerposition_conversion(df2)\n",
    "        print(f\"Running dataframe through playerinfo_playerposition_conversion.\")\n",
    "\n",
    "    # # currently treating this a standard preprocessing step\n",
    "    # # removing any zeros from recorded wall numbers and replacing them with nans\n",
    "    # if timestamp_dt < date_fourth_experiment + timedelta(days=1):\n",
    "    #     print(f\"Data is from period before {date_fourth_experiment}\")\n",
    "    #     df2 = remove_zero_wall_numbers(df2)\n",
    "    #     print(\"Running dataframe through remove_zero_wall_numbers\")\n",
    "    \n",
    "\n",
    "    print(\"Loading complete.\")\n",
    "\n",
    "    return df2"
   ]
  },
  {
   "cell_type": "code",
   "execution_count": null,
   "metadata": {},
   "outputs": [],
   "source": [
    "def loading_pipeline(data_folder, json_filename, json_normalise=True):\n",
    "    df = load_df_from_file(data_folder, json_filename, json_normalise=True)\n",
    "    df = convert_time_strings(df)\n",
    "    df = handle_date_sensitive_processing(df, json_filename)\n",
    "\n",
    "    return df"
   ]
  }
 ],
 "metadata": {
  "kernelspec": {
   "display_name": "Python 3 (ipykernel)",
   "language": "python",
   "name": "python3"
  },
  "language_info": {
   "codemirror_mode": {
    "name": "ipython",
    "version": 3
   },
   "file_extension": ".py",
   "mimetype": "text/x-python",
   "name": "python",
   "nbconvert_exporter": "python",
   "pygments_lexer": "ipython3",
   "version": "3.12.5"
  }
 },
 "nbformat": 4,
 "nbformat_minor": 4
}
