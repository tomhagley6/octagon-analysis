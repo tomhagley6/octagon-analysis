{
 "cells": [
  {
   "cell_type": "code",
   "execution_count": 21,
   "id": "53db7428-6b0d-4707-967d-fc5bb3d6ceb1",
   "metadata": {},
   "outputs": [],
   "source": [
    "import json\n",
    "import os\n",
    "import re\n",
    "from datetime import datetime, timedelta\n",
    "import numpy as np\n",
    "import pandas as pd\n",
    "from matplotlib import pyplot as plt\n",
    "from handle_specific_datasets import playerinfo_playerposition_conversion\n",
    "\n",
    "json_normalise = True"
   ]
  },
  {
   "cell_type": "code",
   "execution_count": 30,
   "id": "079e4bcc-0ade-4f39-aa04-9d3a30cf2c3d",
   "metadata": {},
   "outputs": [],
   "source": [
    "### Pre-process data"
   ]
  },
  {
   "cell_type": "code",
   "execution_count": 31,
   "id": "5b7f7919-b028-4b65-bec9-fa607ce05356",
   "metadata": {},
   "outputs": [],
   "source": [
    "# Take time in reference to start time\n",
    "def reference_application_time(df):\n",
    "    df2 = df.copy()\n",
    "    start_time = df['timeApplication'].iloc[0]\n",
    "    df2['timeReferenced'] = df['timeApplication'] - start_time\n",
    "\n",
    "    return df2\n"
   ]
  },
  {
   "cell_type": "code",
   "execution_count": 33,
   "id": "83a555c3-d312-430e-9431-6361b699256b",
   "metadata": {},
   "outputs": [],
   "source": [
    "# Fill nans in trialNum with the correct trial number (starting at 0 for pre-trial data)\n",
    "# This is needed because trialNum is only recorded at the single timepoint that trialNum changes\n",
    "def fill_trial_zero(df):\n",
    "    df2 = df.copy()\n",
    "    df2.loc[0, 'data.trialNum'] = 0 # Manually change first entry to 0 and fill forward\n",
    "                                     # This means nans after trial 1 will not be set to 0\n",
    "    df2['data.trialNum'] = df2['data.trialNum'].ffill()\n",
    "\n",
    "    return df2"
   ]
  },
  {
   "cell_type": "code",
   "execution_count": 34,
   "id": "dd96df6f-2edb-40a2-8fa8-a4fbef7817bb",
   "metadata": {},
   "outputs": [],
   "source": [
    "# Fill player scores \n",
    "def fill_player_scores_solo(df):\n",
    "    df2 = df.copy()\n",
    "    df2.loc[0, 'data.playerScores.0'] = 0 \n",
    "    df2['data.playerScores.0'] = df2['data.playerScores.0'].ffill()\n",
    "\n",
    "    return df2"
   ]
  },
  {
   "cell_type": "code",
   "execution_count": 35,
   "id": "23a9e928-f8c5-4931-a30f-b10c2fa6760b",
   "metadata": {},
   "outputs": [],
   "source": [
    "# Fill current trial type and account for data pre trial 1\n",
    "def fill_trial_type(df):\n",
    "    df2 = df.copy()\n",
    "    df2.loc[0, 'data.trialType'] = 'pre-trials'\n",
    "    df2['data.trialType'] = df2['data.trialType'].ffill()\n",
    "\n",
    "    return df2"
   ]
  },
  {
   "cell_type": "code",
   "execution_count": 36,
   "id": "bcd4ef94-d7ba-4dd5-8e71-440bbcadd48c",
   "metadata": {},
   "outputs": [],
   "source": [
    "# Fill data past the final trial end with post-trials label\n",
    "def fill_post_final_trial_type(df):\n",
    "    df2 = df.copy()\n",
    "\n",
    "    # Find the indices for the final trial end and final trial start log events\n",
    "    final_trial_end_idx = df2[df2['eventDescription'] == 'trial end'].index[-1] if not df[df['eventDescription'] == 'trial end'].empty else None\n",
    "    final_trial_start_idx = df2[df2['eventDescription'] == 'trial start'].index[-1] if not df[df['eventDescription'] == 'trial start'].empty else None\n",
    "\n",
    "    # Fill indices after final trial end with a post-trial label if there is a subsequent trial start\n",
    "    if final_trial_end_idx < final_trial_start_idx:\n",
    "        df2.loc[final_trial_end_idx + 1:, 'data.trialType'] = 'post-trials'\n",
    "    \n",
    "    return df2"
   ]
  },
  {
   "cell_type": "code",
   "execution_count": 37,
   "id": "fddcbdfe-0c65-4c1b-9135-e61b5c6d23e4",
   "metadata": {},
   "outputs": [],
   "source": [
    "# Fill current trial type for all rows\n",
    "def fill_trial_type_full(df):\n",
    "    df = fill_trial_type(df)\n",
    "    df = fill_post_final_trial_type(df)\n",
    "\n",
    "    return df"
   ]
  },
  {
   "cell_type": "code",
   "execution_count": 38,
   "id": "c8a53b04-62cf-4568-b95f-3793f599e44e",
   "metadata": {},
   "outputs": [],
   "source": [
    "# Fill currently active walls with values throughout the trial \n",
    "# But only between start of trial and end of trial indices\n",
    "def fill_trial_walls(df): \n",
    "    df2 = df.copy()\n",
    "    \n",
    "    trial_start_indices = df2[df2['eventDescription'] == 'trial start'].index\n",
    "    slice_onset_indices = df2[df2['eventDescription'] == 'slice onset'].index\n",
    "    trial_end_indices = df2[df2['eventDescription'] == 'trial end'].index    \n",
    "\n",
    "    for idx in range(len(trial_start_indices) -1):\n",
    "        # Forward fill the wall numbers from slice onset to end trial\n",
    "        df2.loc[slice_onset_indices[idx]:trial_end_indices[idx], 'data.wall1'] = df2.loc[slice_onset_indices[idx]:trial_end_indices[idx], 'data.wall1'].ffill()\n",
    "        df2.loc[slice_onset_indices[idx]:trial_end_indices[idx], 'data.wall2'] = df2.loc[slice_onset_indices[idx]:trial_end_indices[idx], 'data.wall2'].ffill()\n",
    "\n",
    "        # Backwards fill the wall numbers from slice onset to start trial\n",
    "        df2.loc[trial_start_indices[idx]:slice_onset_indices[idx], 'data.wall1'] = df2.loc[trial_start_indices[idx]:slice_onset_indices[idx], 'data.wall1'].bfill()\n",
    "        df2.loc[trial_start_indices[idx]:slice_onset_indices[idx], 'data.wall2'] = df2.loc[trial_start_indices[idx]:slice_onset_indices[idx], 'data.wall2'].bfill()\n",
    "    \n",
    "    return df2\n",
    "    "
   ]
  },
  {
   "cell_type": "code",
   "execution_count": 1,
   "id": "7e8ec31f-ab94-4479-8aaf-4b1435f99390",
   "metadata": {},
   "outputs": [],
   "source": [
    "# umbrella function for the above preprocessing\n",
    "def standard_preprocessing(df):\n",
    "    df = reference_application_time(df)\n",
    "    df = fill_trial_zero(df)\n",
    "    df = fill_trial_type_full(df)\n",
    "    df = fill_player_scores_solo(df)\n",
    "    df = fill_trial_walls(df)\n",
    "\n",
    "    return df"
   ]
  }
 ],
 "metadata": {
  "kernelspec": {
   "display_name": "Python 3 (ipykernel)",
   "language": "python",
   "name": "python3"
  },
  "language_info": {
   "codemirror_mode": {
    "name": "ipython",
    "version": 3
   },
   "file_extension": ".py",
   "mimetype": "text/x-python",
   "name": "python",
   "nbconvert_exporter": "python",
   "pygments_lexer": "ipython3",
   "version": "3.12.5"
  }
 },
 "nbformat": 4,
 "nbformat_minor": 5
}
