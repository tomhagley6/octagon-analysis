{
 "cells": [
  {
   "cell_type": "code",
   "execution_count": 27,
   "id": "764f5a4b-766c-4c91-98a8-b7e50fc82409",
   "metadata": {},
   "outputs": [],
   "source": [
    "import parse_data.preprocess as preprocess\n",
    "import parse_data.loading as loading\n",
    "from analysis.response_times import calculate_response_times, plot_response_times\n",
    "import globals\n",
    "from plotting import plot_octagon\n",
    "from datetime import datetime, timedelta\n",
    "import numpy as np\n",
    "import pandas as pd\n",
    "import scipy\n",
    "import matplotlib.pyplot as plt\n",
    "import matplotlib as mpl"
   ]
  },
  {
   "cell_type": "code",
   "execution_count": 31,
   "id": "2a9d2be0-bc2c-4654-a856-a229b52a3039",
   "metadata": {},
   "outputs": [],
   "source": [
    "## Extract single trials ##"
   ]
  },
  {
   "cell_type": "code",
   "execution_count": 3,
   "id": "21950bd1-cbd0-46f9-bfac-2b9a43c18e2b",
   "metadata": {},
   "outputs": [],
   "source": [
    "def split_session_by_trial(df, drop_trial_zero=True):\n",
    "    \n",
    "    # groupby produces an iterable of tuples with the group key and the dataframe \n",
    "    trials_list = [data for _, data in df.groupby('data.trialNum')]\n",
    "\n",
    "    if drop_trial_zero:\n",
    "        # exclude trial 0 (could also exclude trial 1)\n",
    "        trials_list = trials_list[1:]\n",
    "\n",
    "    # if final  trial does not contain a trial end, discard it\n",
    "    if not globals.TRIAL_END in trials_list[-1]['eventDescription'].unique():\n",
    "        trials_list = trials_list[:-1]\n",
    "\n",
    "    return trials_list\n"
   ]
  }
 ],
 "metadata": {
  "kernelspec": {
   "display_name": "Python 3 (ipykernel)",
   "language": "python",
   "name": "python3"
  },
  "language_info": {
   "codemirror_mode": {
    "name": "ipython",
    "version": 3
   },
   "file_extension": ".py",
   "mimetype": "text/x-python",
   "name": "python",
   "nbconvert_exporter": "python",
   "pygments_lexer": "ipython3",
   "version": "3.12.5"
  }
 },
 "nbformat": 4,
 "nbformat_minor": 5
}
