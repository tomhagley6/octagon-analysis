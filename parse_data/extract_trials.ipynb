{
 "cells": [
  {
   "cell_type": "code",
   "execution_count": 1,
   "id": "764f5a4b-766c-4c91-98a8-b7e50fc82409",
   "metadata": {},
   "outputs": [
    {
     "data": {
      "image/png": "[encoded data removed]",
      "text/plain": [
       "<Figure size 640x480 with 1 Axes>"
      ]
     },
     "metadata": {},
     "output_type": "display_data"
    }
   ],
   "source": [
    "import parse_data.preprocess as preprocess\n",
    "import parse_data.loading as loading\n",
    "from analysis.response_times import calculate_response_times, plot_response_times\n",
    "import globals\n",
    "from plotting import plot_octagon\n",
    "from datetime import datetime, timedelta\n",
    "import numpy as np\n",
    "import pandas as pd\n",
    "import scipy\n",
    "import matplotlib.pyplot as plt\n",
    "import matplotlib as mpl"
   ]
  },
  {
   "cell_type": "code",
   "execution_count": 2,
   "id": "26a83a06-66bc-4d49-934d-953864e8545e",
   "metadata": {},
   "outputs": [],
   "source": [
    "# paths\n",
    "data_folder = '/home/tom/Documents/SWC/data' # desktop Duan Lab\n",
    "# json_filename = '240913_Yansu_Jerry/2024-09-13_11-53-34_YansuSecondSolo.json' \n",
    "json_filename = '240913_Yansu_Jerry/2024-09-13_11-31-00_YansuJerrySocial.json'\n",
    "# data_folder = r'D:\\Users\\Tom\\OneDrive\\PhD\\SWC\\data' # desktop home\n",
    "# json_filename = r'first_experiments_2409\\240913\\2024-09-13_11-23-37_YansuFirstSolo.json'\n"
   ]
  },
  {
   "cell_type": "code",
   "execution_count": 3,
   "id": "08301d99-03ec-450f-9047-8d2b52e62826",
   "metadata": {},
   "outputs": [
    {
     "name": "stdout",
     "output_type": "stream",
     "text": [
      "Data is from period before 2024-09-13 11:31:00\n",
      "Running dataframe through playerinfo_playerposition_conversion.\n",
      "Loading complete.\n"
     ]
    }
   ],
   "source": [
    "# Load JSON file into pandas df with collapsed data dictionary and adjustments based on date of recording \n",
    "df = loading.loading_pipeline(data_folder, json_filename)"
   ]
  },
  {
   "cell_type": "code",
   "execution_count": 4,
   "id": "2d6f9d4a-aa4a-4f6a-aba0-91aa21adf2c6",
   "metadata": {},
   "outputs": [
    {
     "name": "stdout",
     "output_type": "stream",
     "text": [
      "Preprocessing complete.\n"
     ]
    }
   ],
   "source": [
    "# Pre-process data \n",
    "df = preprocess.standard_preprocessing(df)"
   ]
  },
  {
   "cell_type": "code",
   "execution_count": 5,
   "id": "2a9d2be0-bc2c-4654-a856-a229b52a3039",
   "metadata": {},
   "outputs": [],
   "source": [
    "## Extract single trials ##"
   ]
  },
  {
   "cell_type": "code",
   "execution_count": null,
   "id": "5d7f86fa-0291-49c1-99b3-fc0dc9be7c17",
   "metadata": {},
   "outputs": [],
   "source": [
    "## get individual dataframes for each trial and remove the first (and last trial if it was unfinished)\n",
    "\n",
    "# create a list of dataframes separated from the original by the values in data.trialNum\n",
    "# groupby produces an interable of tuples with the group key and the dataframe \n",
    "trials_list = [data for _, data in df.groupby('data.trialNum')]\n",
    "# exclude trial 0 (could also exclude trial 1)\n",
    "trials_list = trials_list[1:]\n",
    "# if final trial does not contain a server selected trigger activation, discard it\n",
    "if not globals.SELECTED_TRIGGER_ACTIVATION in trials_list[-1]['eventDescription'].unique():\n",
    "    trials_list = trials_list[:-1]"
   ]
  },
  {
   "cell_type": "code",
   "execution_count": 6,
   "id": "21950bd1-cbd0-46f9-bfac-2b9a43c18e2b",
   "metadata": {},
   "outputs": [],
   "source": [
    "def split_session_by_trial(df):\n",
    "    \n",
    "    # groupby produces an interable of tuples with the group key and the dataframe \n",
    "    trials_list = [data for _, data in df.groupby('data.trialNum')]\n",
    "    \n",
    "    # exclude trial 0 (could also exclude trial 1)\n",
    "    trials_list = trials_list[1:]\n",
    "\n",
    "    # if final  trial does not contain a server selected trigger activation, discard it\n",
    "    if not globals.SELECTED_TRIGGER_ACTIVATION in trials_list[-1]['eventDescription'].unique():\n",
    "        trials_list = trials_list[:-1]\n",
    "\n",
    "    return trials_list\n"
   ]
  },
  {
   "cell_type": "code",
   "execution_count": 8,
   "id": "43864e75-6902-48c9-ae53-f5e0b54d7b39",
   "metadata": {},
   "outputs": [],
   "source": [
    "trials_list = split_session_by_trial(df)"
   ]
  },
  {
   "cell_type": "code",
   "execution_count": 10,
   "id": "fa4a2e68-5a3a-410d-9b5e-a6e78e7e708f",
   "metadata": {},
   "outputs": [],
   "source": [
    "this_trial = trials_list[trial_idx]"
   ]
  },
  {
   "cell_type": "code",
   "execution_count": 46,
   "id": "a80d554a-39bf-43c1-a688-9275d51b53cf",
   "metadata": {},
   "outputs": [],
   "source": [
    "# clean this up. Probably a better way to get a float out of this\n",
    "\n",
    "this_trial = trials_list[trial_idx]\n",
    "# find the row representing trigger activation\n",
    "trigger_event = this_trial[this_trial['eventDescription'] == globals.SELECTED_TRIGGER_ACTIVATION]\n",
    "trigger_idx = trigger_event.index[0]\n",
    "# normalise the trigger index to the starting index of this trial\n",
    "trigger_idx = int(trigger_idx - this_trial.index[0])\n"
   ]
  },
  {
   "cell_type": "code",
   "execution_count": 12,
   "id": "adbb802f-3230-4c6f-879d-510792411a25",
   "metadata": {},
   "outputs": [],
   "source": [
    "x_coords_p1 = trials_list[trial_idx]['data.playerPosition.0.location.x'].values"
   ]
  },
  {
   "cell_type": "code",
   "execution_count": 13,
   "id": "f45c4d31-0059-4f76-9297-d2f8e6aa6064",
   "metadata": {},
   "outputs": [],
   "source": [
    "# get a trajectory from a trial\n",
    "# only up to the index of the trigger\n",
    "x_coords_p1 = trials_list[trial_idx]['data.playerPosition.0.location.x'].values[:trigger_idx]\n",
    "y_coords_p1 = trials_list[trial_idx]['data.playerPosition.0.location.z'].values[:trigger_idx]\n",
    "\n",
    "x_coords_p2 = trials_list[trial_idx]['data.playerPosition.1.location.x'].values[:trigger_idx]\n",
    "y_coords_p2 = trials_list[trial_idx]['data.playerPosition.1.location.z'].values[:trigger_idx]"
   ]
  },
  {
   "cell_type": "code",
   "execution_count": 48,
   "id": "174681b7-d54b-4a98-9e98-b4404de06714",
   "metadata": {},
   "outputs": [],
   "source": [
    "coordinate_array_labels = ['0.location.x', '0.location.y', '1.location.x', '1.location.y']\n",
    "coordinate_arrays = [this_trial[f'data.playerPosition.{label}'].values[:trigger_idx] for label in coordinate_array_labels]"
   ]
  },
  {
   "cell_type": "code",
   "execution_count": 14,
   "id": "c63c5afb-c596-4d8a-a8df-e27d7bb58458",
   "metadata": {},
   "outputs": [
    {
     "data": {
      "text/plain": [
       "249"
      ]
     },
     "execution_count": 14,
     "metadata": {},
     "output_type": "execute_result"
    }
   ],
   "source": [
    "len(x_coords_p2)"
   ]
  },
  {
   "cell_type": "code",
   "execution_count": 15,
   "id": "89fc6cb2-3188-4185-8910-852c044f35c0",
   "metadata": {},
   "outputs": [
    {
     "data": {
      "text/plain": [
       "448"
      ]
     },
     "execution_count": 15,
     "metadata": {},
     "output_type": "execute_result"
    }
   ],
   "source": [
    "this_trial.shape[0]"
   ]
  },
  {
   "cell_type": "code",
   "execution_count": 33,
   "id": "78e04892-8eaf-44f1-bed5-7bc7668fb495",
   "metadata": {},
   "outputs": [],
   "source": [
    "# find trigger activating client for this trial\n",
    "trigger_event = this_trial[this_trial['eventDescription'] == globals.SELECTED_TRIGGER_ACTIVATION]\n",
    "trigger_activating_client = trigger_event['data.triggerClient'].values[0]"
   ]
  },
  {
   "cell_type": "code",
   "execution_count": 26,
   "id": "837e62ed-b658-48d9-ab93-b6f46bd8b580",
   "metadata": {},
   "outputs": [],
   "source": [
    "cmap_winner = mpl.cm.spring \n",
    "cmap_loser = mpl.cm.summer\n",
    "timestamps = np.arange(len(x_coords_p1))\n",
    "min_val, max_val = min(timestamps), max(timestamps)\n",
    "norm = mpl.colors.Normalize(vmin=min_val, vmax=max_val)"
   ]
  },
  {
   "cell_type": "code",
   "execution_count": 34,
   "id": "eccd1915-3ada-49e1-8c93-8c275049b4e2",
   "metadata": {},
   "outputs": [
    {
     "data": {
      "image/png": "[encoded data removed]",
      "text/plain": [
       "<Figure size 640x480 with 1 Axes>"
      ]
     },
     "metadata": {},
     "output_type": "display_data"
    }
   ],
   "source": [
    "ax = plot_octagon.plot_octagon()\n",
    "if trigger_activating_client == 0:\n",
    "    cmaps = [cmap_winner, cmap_loser]\n",
    "else:\n",
    "    cmaps = [cmap_loser, cmap_winner]\n",
    "ax.scatter(x_coords_p1, y_coords_p1, s=0.5, c=timestamps, cmap=cmaps[0], norm=norm)\n",
    "ax.scatter(x_coords_p2, y_coords_p2, s=0.5, c=timestamps, cmap=cmaps[1], norm=norm)\n",
    "plt.show()"
   ]
  },
  {
   "cell_type": "code",
   "execution_count": 51,
   "id": "096be56d-8cee-4e6a-896f-9dab2b3a5004",
   "metadata": {},
   "outputs": [],
   "source": [
    "def plot_trajectory(trials_list, trial_index=0, cmap_winner=mpl.cm.spring, cmap_loser=mpl.cm.summer,\n",
    "                   s=0.5, social=False):\n",
    "    # isolate trial\n",
    "    this_trial = trials_list[trial_idx]\n",
    "\n",
    "    # isolate trigger event\n",
    "    trigger_event = this_trial[this_trial['eventDescription'] == globals.SELECTED_TRIGGER_ACTIVATION]\n",
    "\n",
    "    # find index of trigger event normalised to this trial\n",
    "    trigger_idx = trigger_event.index[0]\n",
    "    trigger_idx = int(trigger_idx - this_trial.index[0])\n",
    "\n",
    "    end = 2\n",
    "    if social:\n",
    "        end = -1\n",
    "    # extract position data for both players\n",
    "    coordinate_array_labels = ['0.location.x', '0.location.y', '1.location.x', '1.location.y']\n",
    "    coordinate_arrays = [this_trial[f'data.playerPosition.{label}'].values[:trigger_idx] for label in coordinate_array_labels[0:end]]\n",
    "        \n",
    "    \n",
    "    # create colormap data\n",
    "    \n",
    "    "
   ]
  }
 ],
 "metadata": {
  "kernelspec": {
   "display_name": "Python 3 (ipykernel)",
   "language": "python",
   "name": "python3"
  },
  "language_info": {
   "codemirror_mode": {
    "name": "ipython",
    "version": 3
   },
   "file_extension": ".py",
   "mimetype": "text/x-python",
   "name": "python",
   "nbconvert_exporter": "python",
   "pygments_lexer": "ipython3",
   "version": "3.12.5"
  }
 },
 "nbformat": 4,
 "nbformat_minor": 5
}
