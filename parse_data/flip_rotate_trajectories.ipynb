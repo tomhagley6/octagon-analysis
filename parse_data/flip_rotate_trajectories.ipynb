{
 "cells": [
  {
   "cell_type": "code",
   "execution_count": 332,
   "id": "d186826f-a807-49a8-b6f4-80d11df2c17c",
   "metadata": {},
   "outputs": [],
   "source": [
    "import parse_data.preprocess as preprocess\n",
    "import parse_data.loading as loading\n",
    "from analysis.response_times import calculate_response_times, plot_response_times\n",
    "import globals\n",
    "from plotting import plot_octagon, plot_trajectory\n",
    "from datetime import datetime, timedelta\n",
    "import numpy as np\n",
    "import pandas as pd\n",
    "import scipy\n",
    "import matplotlib.pyplot as plt\n",
    "import matplotlib as mpl\n",
    "import math\n",
    "import data_extraction.get_indices as get_indices\n",
    "import data_extraction.extract_trial as extract_trial"
   ]
  },
  {
   "cell_type": "code",
   "execution_count": 339,
   "id": "05b14808-99c0-4d88-bf2f-10e813783ce5",
   "metadata": {},
   "outputs": [],
   "source": [
    "## flip and rotate trials ##"
   ]
  },
  {
   "cell_type": "code",
   "execution_count": 1,
   "id": "4bba6914-d88b-485f-81b1-a58cab2315fd",
   "metadata": {},
   "outputs": [],
   "source": [
    "def find_rotation_angle_trial(trial):\n",
    "    \"\"\" Find CCW angle of rotation for vector to \n",
    "    rotate arena s.t. high wall is at wall 1\"\"\"\n",
    "\n",
    "    # print(f\"Trial in find_rotation_angle_trial is: {type(trial)}\")\n",
    "    \n",
    "    # identify trial walls\n",
    "    wall1, wall2 = get_indices.get_walls(trial=trial, trial_list=None, trial_index=None, num_walls=2)\n",
    "    \n",
    "    # find CCW difference of high wall to wall 1\n",
    "    difference = wall1 - 1\n",
    "        \n",
    "    # find CCW rotation angle \n",
    "    unitary_rotation_ang = 2*math.pi/globals.NUM_WALLS\n",
    "    theta = unitary_rotation_ang * difference\n",
    "\n",
    "    return theta\n",
    "    "
   ]
  },
  {
   "cell_type": "code",
   "execution_count": 2,
   "id": "03f9d2b4-5eee-4927-ac64-7d769a195a33",
   "metadata": {},
   "outputs": [],
   "source": [
    "def flip_rotate_trial(trial, theta, flip=True):\n",
    "    \"\"\" Rotate x-y coordinates by theta \n",
    "        Flip x coordinates of vector if wall 1 CCW of wall 0\n",
    "        Return altered vector \"\"\"\n",
    "\n",
    "    num_walls = globals.NUM_WALLS\n",
    "    \n",
    "    altered_coordinates = []\n",
    "    num_players = preprocess.num_players(trial)\n",
    "    \n",
    "    trial_copy = trial.copy()\n",
    "\n",
    "    # create rotation matrix\n",
    "    rotM = np.array([\n",
    "                    [math.cos(theta), -math.sin(theta)],\n",
    "                     [math.sin(theta), math.cos(theta)]\n",
    "                    ])\n",
    "\n",
    "    # rotate and flip coordinates for all players\n",
    "    for i in range(num_players):\n",
    "        x,y = trial_copy[globals.PLAYER_LOC_DICT[i]['xloc']], trial_copy[globals.PLAYER_LOC_DICT[i]['yloc']]\n",
    "\n",
    "        this_coordinates = np.vstack([x,y])\n",
    "        this_altered_coordinates = np.matmul(rotM, this_coordinates) \n",
    "\n",
    "        # flip flag is a function parameter\n",
    "        if flip:\n",
    "            # flip coordinates around the x-axis if wall 0 is CCW of wall 1\n",
    "            walls = get_indices.get_walls(trial=trial, trial_list=None, trial_index=None, num_walls=2)\n",
    "\n",
    "            # calculate whether wall 0 is CCW of wall 1\n",
    "            # calculate counterclockwise distance (moving from wall 0 to wall 1)\n",
    "            if walls[1] < walls[0]:\n",
    "                counterclockwise_distance = walls[0] - walls[1]\n",
    "            else:\n",
    "                counterclockwise_distance = (num_walls - walls[1]) + walls[0]\n",
    "            \n",
    "            # calculate clockwise distance\n",
    "            clockwise_distance = num_walls - counterclockwise_distance\n",
    "\n",
    "            # if wall 1 is closer counterclockwise from wall 0 than clockwise, we say it is CCW\n",
    "            # of wall 1 and flip the x coordinates to correct\n",
    "            # NB a wall separation of 4 is neither CW or CCW, but still does not fulfill the below condition\n",
    "            if counterclockwise_distance < clockwise_distance:\n",
    "                this_altered_coordinates = flip_trajectories(this_altered_coordinates)\n",
    "   \n",
    "        altered_coordinates.append(this_altered_coordinates)\n",
    "\n",
    "    return altered_coordinates\n",
    "    "
   ]
  },
  {
   "cell_type": "code",
   "execution_count": 342,
   "id": "79e86bd3-604f-438d-b2e9-0c8e3fd2c362",
   "metadata": {},
   "outputs": [],
   "source": [
    "def flip_trajectories(altered_coordinates):\n",
    "    ''' If wall 0 is CW of wall 1, flip the x coordinate\n",
    "        of the trajectory data around. This keeps wall 0\n",
    "        CCW of wall 1 '''\n",
    "    \n",
    "    altered_coordinates[0] = -altered_coordinates[0]\n",
    "\n",
    "    return altered_coordinates\n",
    "    "
   ]
  },
  {
   "cell_type": "code",
   "execution_count": 344,
   "id": "c5d3c0ff-0492-43bb-b989-c708072f4d5e",
   "metadata": {},
   "outputs": [],
   "source": [
    "def replace_with_altered_coordinates(trial, altered_coordinates):\n",
    "    ''' Replace (in copy) the location coordinates for each player with the altered\n",
    "        coordinates (rotated and/or flipped)\n",
    "        Altered coordinates expects a list of np arrays which have a row for x coordinates\n",
    "        and a row for y coordinates '''\n",
    "    \n",
    "    trial_copy = trial.copy()\n",
    "\n",
    "    # overwrite the x location and y location columns in a copy of the dataframe for this trial\n",
    "    for i in range(len(altered_coordinates)):\n",
    "        trial_copy[globals.PLAYER_LOC_DICT[i]['xloc']] = altered_coordinates[i][0] # x coordinates\n",
    "        trial_copy[globals.PLAYER_LOC_DICT[i]['yloc']] = altered_coordinates[i][1] # y coordinates\n",
    "\n",
    "    return trial_copy\n",
    "        "
   ]
  },
  {
   "cell_type": "code",
   "execution_count": null,
   "id": "c5cb74c2-700e-469d-a6de-9f162acd3461",
   "metadata": {},
   "outputs": [],
   "source": [
    "# umbrella function\n",
    "def flip_rotate_trajectories(trial=None, trial_list=None, trial_index=None, flip=True):\n",
    "    ''' Pipeline for flipping and rotating trajectories for a single trial\n",
    "        Return a copy of that trial '''\n",
    "    \n",
    "    trial = extract_trial.extract_trial(trial=trial, trial_list=trial_list, trial_index=trial_index)\n",
    "    \n",
    "    theta = find_rotation_angle_trial(trial)\n",
    "    altered_coords = flip_rotate_trial(trial, theta, flip=flip)\n",
    "    trial_copy = replace_with_altered_coordinates(trial, altered_coords)\n",
    "    \n",
    "    return trial_copy"
   ]
  }
 ],
 "metadata": {
  "kernelspec": {
   "display_name": "Python 3 (ipykernel)",
   "language": "python",
   "name": "python3"
  },
  "language_info": {
   "codemirror_mode": {
    "name": "ipython",
    "version": 3
   },
   "file_extension": ".py",
   "mimetype": "text/x-python",
   "name": "python",
   "nbconvert_exporter": "python",
   "pygments_lexer": "ipython3",
   "version": "3.11.10"
  }
 },
 "nbformat": 4,
 "nbformat_minor": 5
}
