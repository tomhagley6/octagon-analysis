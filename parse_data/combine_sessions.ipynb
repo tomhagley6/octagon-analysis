{
 "cells": [
  {
   "cell_type": "code",
   "execution_count": 5,
   "id": "9f1a43db-a0a7-4c53-bd5e-7bd9d75f9560",
   "metadata": {},
   "outputs": [],
   "source": [
    "import parse_data.preprocess as preprocess\n",
    "import parse_data.loading as loading\n",
    "import parse_data.split_session_by_trial as split_session_by_trial\n",
    "from analysis.response_times import calculate_response_times, plot_response_times\n",
    "from datetime import datetime, timedelta\n",
    "import numpy as np\n",
    "import pandas as pd\n",
    "import scipy\n",
    "import matplotlib.pyplot as plt\n",
    "import globals"
   ]
  },
  {
   "cell_type": "code",
   "execution_count": 7,
   "id": "daf25a71-cecb-4159-b73c-0932c72fb74d",
   "metadata": {},
   "outputs": [],
   "source": [
    "def load_multiple_sessions(data_folder, json_filenames):\n",
    "    ''' load more than one session into a pandas df \n",
    "        with collapsed data dictionary and adjustments \n",
    "        based on date of recording '''\n",
    "    \n",
    "    loaded_sessions = []\n",
    "    for json_filename in json_filenames:\n",
    "        df = loading.loading_pipeline(data_folder, json_filename)\n",
    "        loaded_sessions.append(df)\n",
    "\n",
    "    return loaded_sessions"
   ]
  },
  {
   "cell_type": "code",
   "execution_count": 8,
   "id": "216cda91-882e-4b7d-9f86-7131da70bc20",
   "metadata": {},
   "outputs": [],
   "source": [
    "def preprocess_multiple_sessions(loaded_sessions):\n",
    "    ''' pre-process more than 1 session '''\n",
    "    \n",
    "    preprocessed_sessions = []\n",
    "    for session in loaded_sessions:\n",
    "        df = preprocess.standard_preprocessing(session)\n",
    "        preprocessed_sessions.append(df)\n",
    "\n",
    "    return preprocessed_sessions"
   ]
  },
  {
   "cell_type": "code",
   "execution_count": 9,
   "id": "62ec8495-c1fa-4618-94be-7feaf282b8cf",
   "metadata": {},
   "outputs": [],
   "source": [
    "def split_and_reconcatenate_sessions(preprocessed_sessions):\n",
    "    ''' split trials and remove the first (and last, if incomplete)\n",
    "        of each session before re-concatenating '''\n",
    "\n",
    "    split_trial_sessions = []\n",
    "    for session in preprocessed_sessions:\n",
    "        trial_list = split_session_by_trial.split_session_by_trial(session) # This will remove the first trial and any unfinished final trial\n",
    "        split_trial_sessions.append(trial_list)\n",
    "    \n",
    "    reconcatenated_sessions = []\n",
    "    for trial_list in split_trial_sessions:\n",
    "        reconcatenated_session = pd.concat(trial_list)\n",
    "        reconcatenated_sessions.append(reconcatenated_session)\n",
    "\n",
    "    return reconcatenated_sessions"
   ]
  },
  {
   "cell_type": "code",
   "execution_count": 10,
   "id": "63a73a6f-fd72-4eb0-8399-7a2b5fa52cea",
   "metadata": {},
   "outputs": [],
   "source": [
    "def create_continuity_between_sessions(reconcatenated_sessions):\n",
    "    ''' Create continuity between sessions for time\n",
    "        time fields and trial numbers '''\n",
    "    \n",
    "    sessions_with_continuity = []\n",
    "    for i in range(len(reconcatenated_sessions)):\n",
    "    \n",
    "        # copy dataframe to edit\n",
    "        df = reconcatenated_sessions[i].copy()\n",
    "    \n",
    "        # increment current dataframe's data values by previous dataframe's final values\n",
    "        if i > 0:\n",
    "            df['timeApplication'] = df['timeApplication'] + final_application_time\n",
    "            df['timeReferenced'] = df['timeReferenced'] + final_relative_time\n",
    "            df[globals.TRIAL_NUM] = df[globals.TRIAL_NUM] + final_trial_num\n",
    "    \n",
    "        # record final data values for the current dataframe\n",
    "        final_application_time = df['timeApplication'].iloc[-1]\n",
    "        final_relative_time = df['timeReferenced'].iloc[-1]\n",
    "        final_trial_num = df[globals.TRIAL_NUM].iloc[-1]\n",
    "    \n",
    "        sessions_with_continuity.append(df)\n",
    "\n",
    "    return sessions_with_continuity"
   ]
  },
  {
   "cell_type": "code",
   "execution_count": 11,
   "id": "0e81aae7-a5c2-4140-87f9-0e75e11849a3",
   "metadata": {},
   "outputs": [],
   "source": [
    "# umbrella function\n",
    "def combine_sessions(data_folder, json_filenames):\n",
    "    ''' Provide a list of filenames, and a data folder\n",
    "        Sessions will be loaded, preprocessed (including removal of first\n",
    "        and last trials), and concatenated with continuity '''\n",
    "    \n",
    "    loaded_sessions = load_multiple_sessions(data_folder, json_filenames)\n",
    "\n",
    "    preprocessed_sessions = preprocess_multiple_sessions(loaded_sessions)\n",
    "    \n",
    "    reconcatenated_sessions = split_and_reconcatenate_sessions(preprocessed_sessions)\n",
    "\n",
    "    sessions_with_continuity = create_continuity_between_sessions(reconcatenated_sessions)\n",
    "\n",
    "    combined_sessions = pd.concat(sessions_with_continuity)\n",
    "\n",
    "    return combined_sessions"
   ]
  }
 ],
 "metadata": {
  "kernelspec": {
   "display_name": "Python 3 (ipykernel)",
   "language": "python",
   "name": "python3"
  },
  "language_info": {
   "codemirror_mode": {
    "name": "ipython",
    "version": 3
   },
   "file_extension": ".py",
   "mimetype": "text/x-python",
   "name": "python",
   "nbconvert_exporter": "python",
   "pygments_lexer": "ipython3",
   "version": "3.12.5"
  }
 },
 "nbformat": 4,
 "nbformat_minor": 5
}
