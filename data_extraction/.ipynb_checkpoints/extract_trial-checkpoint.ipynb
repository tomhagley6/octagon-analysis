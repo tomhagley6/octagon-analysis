{
 "cells": [
  {
   "cell_type": "code",
   "execution_count": 1,
   "id": "b0e6d8fb-dd23-4a88-83da-80103b529710",
   "metadata": {},
   "outputs": [],
   "source": [
    "def extract_trial(trial, trial_list, trial_index):\n",
    "    ''' isolate trial '''\n",
    "    \n",
    "    if not trial is None:\n",
    "        this_trial = trial\n",
    "    elif not trial_list is None:\n",
    "        this_trial = trial_list[trial_index]\n",
    "    else:\n",
    "        raise ValueError(\"a list of trials and the chosen index must be given, or the trial itself must be given, but not neither.\")\n",
    "\n",
    "    return this_trial"
   ]
  }
 ],
 "metadata": {
  "kernelspec": {
   "display_name": "Python 3 (ipykernel)",
   "language": "python",
   "name": "python3"
  },
  "language_info": {
   "codemirror_mode": {
    "name": "ipython",
    "version": 3
   },
   "file_extension": ".py",
   "mimetype": "text/x-python",
   "name": "python",
   "nbconvert_exporter": "python",
   "pygments_lexer": "ipython3",
   "version": "3.12.5"
  }
 },
 "nbformat": 4,
 "nbformat_minor": 5
}
