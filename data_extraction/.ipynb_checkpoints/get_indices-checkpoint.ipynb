{
 "cells": [
  {
   "cell_type": "code",
   "execution_count": 1,
   "id": "d186826f-a807-49a8-b6f4-80d11df2c17c",
   "metadata": {},
   "outputs": [],
   "source": [
    "import parse_data.preprocess as preprocess\n",
    "import parse_data.loading as loading\n",
    "import globals\n",
    "from datetime import datetime, timedelta\n",
    "import numpy as np\n",
    "import pandas as pd\n",
    "import scipy\n",
    "import matplotlib.pyplot as plt\n",
    "import matplotlib as mpl\n",
    "import math\n",
    "from plotting import plot_trajectory"
   ]
  },
  {
   "cell_type": "code",
   "execution_count": null,
   "id": "0df2c81b-40ce-46a9-9143-86cb7b3dc362",
   "metadata": {},
   "outputs": [],
   "source": [
    "def get_walls(trial=None, trial_list=None, trial_index=None, num_walls=2):\n",
    "    ''' Return a list with the numbers of all walls for this trial,\n",
    "        in ascending order '''\n",
    "    \n",
    "    this_trial = plot_trajectory.extract_trial(trial, trial_list, trial_index)\n",
    "\n",
    "    wall_column_names = [globals.WALL_1, globals.WALL_2, globals.WALL_3, globals.WALL_4]\n",
    "    \n",
    "    walls = []\n",
    "    for i in range(num_walls):\n",
    "        walls.append(this_trial.iloc[0][wall_column_names[i]])\n",
    "\n",
    "    return walls"
   ]
  },
  {
   "cell_type": "code",
   "execution_count": null,
   "id": "466a8ca4-d69f-4b8d-8a0d-959f7da68942",
   "metadata": {},
   "outputs": [],
   "source": [
    "def get_wall_difference(trial=None, trial_list=None, trial_index=None, num_walls=2):\n",
    "    ''' Get the difference between walls\n",
    "        Assuming 2 walls in the trial '''\n",
    "    \n",
    "    max_val = globals.NUM_WALLS\n",
    "\n",
    "    this_trial = plot_trajectory.extract_trial(trial, trial_list, trial_index)\n",
    "    walls = get_walls(trial=trial, trial_list=trial_list, trial_index=trial_index)\n",
    "\n",
    "    direct_difference = abs(walls[0] - walls[1])\n",
    "\n",
    "    # account for circular variables\n",
    "    wrap_around_difference = max_val - direct_difference\n",
    "\n",
    "    # the smaller of the 2 is the real difference\n",
    "    difference = min(direct_difference, wrap_around_difference)\n",
    "\n",
    "    return difference\n",
    "    "
   ]
  },
  {
   "cell_type": "code",
   "execution_count": null,
   "id": "9e6016ec-9709-47f0-8be8-7fefba21c180",
   "metadata": {},
   "outputs": [],
   "source": [
    "def get_trials_with_wall_sep(trial_list, wall_sep=1):\n",
    "    ''' Get the indices of trials with a specified wall separation (default 1)\n",
    "        Assuming 2 walls in the trial '''\n",
    "    max_val = globals.NUM_WALLS\n",
    "    \n",
    "    trial_indices = []\n",
    "    for i in range(len(trial_list)):\n",
    "        this_trial = trial_list[i]\n",
    "        \n",
    "        walls = get_walls(trial_list=trial_list, trial_index=i)\n",
    "        difference = get_wall_difference(trial=this_trial)\n",
    "\n",
    "        if difference == wall_sep:\n",
    "            trial_indices.append(this_trial)\n",
    "\n",
    "    return trial_indices\n"
   ]
  },
  {
   "cell_type": "code",
   "execution_count": 3,
   "id": "478c2682-93e7-408a-ba18-d646596a3edb",
   "metadata": {},
   "outputs": [],
   "source": [
    "def get_trigger_activators(trial_list):\n",
    "\n",
    "    trigger_activators = []\n",
    "    for i in range(len(trial_list)):\n",
    "        this_trial = trial_list[i]\n",
    "\n",
    "        trigger_event = this_trial[this_trial['eventDescription'] == globals.SELECTED_TRIGGER_ACTIVATION]\n",
    "        trigger_activator = int(\n",
    "            trigger_event[globals.TRIGGER_CLIENT].item()\n",
    "        )\n",
    "\n",
    "        trigger_activators.append(trigger_activator)\n",
    "\n",
    "\n",
    "    return trigger_activators\n",
    "        "
   ]
  },
  {
   "cell_type": "code",
   "execution_count": 5,
   "id": "76b74418-0214-4af5-94bc-0a517bf22279",
   "metadata": {},
   "outputs": [],
   "source": [
    "def get_trigger_activators_trial_start_loc(trial_list):\n",
    "    trigger_activators = get_trigger_activators(trial_list)\n",
    "    winner_x_location_slice_onset = []\n",
    "    winner_y_location_slice_onset = []\n",
    "\n",
    "\n",
    "    for i in range(len(trial_list)): \n",
    "        this_trial = trial_list[i]\n",
    "        trigger_activator = trigger_activators[i]\n",
    "\n",
    "        xloc_key = globals.PLAYER_LOC_DICT[trigger_activator]['xloc']\n",
    "        yloc_key = globals.PLAYER_LOC_DICT[trigger_activator]['yloc']\n",
    "        \n",
    "        this_trial_slice_onset = this_trial[this_trial['eventDescription'] == globals.SLICE_ONSET]\n",
    "\n",
    "        if not this_trial_slice_onset.empty:\n",
    "            \n",
    "            this_trial_slice_onset_index = this_trial_slice_onset.index[0] - this_trial.index[0]\n",
    "            # print(f\"slice onset index is: {this_trial_slice_onset.index[0]}\")\n",
    "            # print(f\"trial onset index is: {this_trial.index[0]}\")\n",
    "            # print(f\"this_trial_slice_onset_index is: {this_trial_slice_onset_index}\")\n",
    "            \n",
    "            this_trial_winner_x_location_slice_onset = this_trial[xloc_key].iloc[this_trial_slice_onset_index]\n",
    "            this_trial_winner_y_location_slice_onset = this_trial[yloc_key].iloc[this_trial_slice_onset_index]\n",
    "    \n",
    "            winner_x_location_slice_onset.append(this_trial_winner_x_location_slice_onset)\n",
    "            winner_y_location_slice_onset.append(this_trial_winner_y_location_slice_onset)\n",
    "\n",
    "        \n",
    "\n",
    "    return list(zip(winner_x_location_slice_onset, winner_y_location_slice_onset))"
   ]
  }
 ],
 "metadata": {
  "kernelspec": {
   "display_name": "Python 3 (ipykernel)",
   "language": "python",
   "name": "python3"
  },
  "language_info": {
   "codemirror_mode": {
    "name": "ipython",
    "version": 3
   },
   "file_extension": ".py",
   "mimetype": "text/x-python",
   "name": "python",
   "nbconvert_exporter": "python",
   "pygments_lexer": "ipython3",
   "version": "3.12.5"
  }
 },
 "nbformat": 4,
 "nbformat_minor": 5
}
