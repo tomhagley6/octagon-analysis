{
 "cells": [
  {
   "cell_type": "code",
   "execution_count": 1,
   "id": "d186826f-a807-49a8-b6f4-80d11df2c17c",
   "metadata": {},
   "outputs": [],
   "source": [
    "import parse_data.preprocess as preprocess\n",
    "import parse_data.loading as loading\n",
    "import globals\n",
    "from datetime import datetime, timedelta\n",
    "import numpy as np\n",
    "import pandas as pd\n",
    "import scipy\n",
    "import matplotlib.pyplot as plt\n",
    "import matplotlib as mpl\n",
    "import math\n",
    "from plotting import plot_trajectory"
   ]
  },
  {
   "cell_type": "code",
   "execution_count": null,
   "id": "0df2c81b-40ce-46a9-9143-86cb7b3dc362",
   "metadata": {},
   "outputs": [],
   "source": [
    "def get_walls(trial=None, trial_list=None, trial_index=None, num_walls=2):\n",
    "    ''' Return a list with the numbers of all walls for this trial,\n",
    "        in ascending order '''\n",
    "    \n",
    "    this_trial = plot_trajectory.extract_trial(trial, trial_list, trial_index)\n",
    "\n",
    "    wall_column_names = [globals.WALL_1, globals.WALL_2, globals.WALL_3, globals.WALL_4]\n",
    "    \n",
    "    walls = []\n",
    "    for i in range(num_walls):\n",
    "        walls.append(this_trial.iloc[0][wall_column_names[i]])\n",
    "\n",
    "    return walls"
   ]
  },
  {
   "cell_type": "code",
   "execution_count": null,
   "id": "466a8ca4-d69f-4b8d-8a0d-959f7da68942",
   "metadata": {},
   "outputs": [],
   "source": [
    "def get_wall_difference(trial=None, trial_list=None, trial_index=None, num_walls=2):\n",
    "    ''' Get the difference between walls\n",
    "        Assuming 2 walls in the trial '''\n",
    "    \n",
    "    max_val = globals.NUM_WALLS\n",
    "\n",
    "    this_trial = plot_trajectory.extract_trial(trial, trial_list, trial_index)\n",
    "    walls = get_walls(trial=trial, trial_list=trial_list, trial_index=trial_index)\n",
    "\n",
    "    direct_difference = abs(walls[0] - walls[1])\n",
    "\n",
    "    # account for circular variables\n",
    "    wrap_around_difference = max_val - direct_difference\n",
    "\n",
    "    # the smaller of the 2 is the real difference\n",
    "    difference = min(direct_difference, wrap_around_difference)\n",
    "\n",
    "    return difference\n",
    "    "
   ]
  },
  {
   "cell_type": "code",
   "execution_count": null,
   "id": "9e6016ec-9709-47f0-8be8-7fefba21c180",
   "metadata": {},
   "outputs": [],
   "source": [
    "def get_trials_with_wall_sep(trial_list, wall_sep=1):\n",
    "    ''' Get the indices of trials with a specified wall separation (default 1)\n",
    "        Assuming 2 walls in the trial '''\n",
    "    max_val = globals.NUM_WALLS\n",
    "    \n",
    "    trial_indices = []\n",
    "    for i in range(len(trial_list)):\n",
    "        this_trial = trial_list[i]\n",
    "        \n",
    "        walls = get_walls(trial_list=trial_list, trial_index=i)\n",
    "        difference = get_wall_difference(trial=this_trial)\n",
    "\n",
    "        if difference == wall_sep:\n",
    "            trial_indices.append(this_trial)\n",
    "\n",
    "    return trial_indices\n"
   ]
  }
 ],
 "metadata": {
  "kernelspec": {
   "display_name": "Python 3 (ipykernel)",
   "language": "python",
   "name": "python3"
  },
  "language_info": {
   "codemirror_mode": {
    "name": "ipython",
    "version": 3
   },
   "file_extension": ".py",
   "mimetype": "text/x-python",
   "name": "python",
   "nbconvert_exporter": "python",
   "pygments_lexer": "ipython3",
   "version": "3.12.5"
  }
 },
 "nbformat": 4,
 "nbformat_minor": 5
}
