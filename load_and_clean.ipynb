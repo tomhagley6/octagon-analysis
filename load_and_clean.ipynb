{
 "cells": [
  {
   "cell_type": "code",
   "execution_count": 187,
   "id": "53db7428-6b0d-4707-967d-fc5bb3d6ceb1",
   "metadata": {},
   "outputs": [],
   "source": [
    "import json\n",
    "import os\n",
    "import ast\n",
    "from datetime import datetime, timedelta\n",
    "import numpy as np\n",
    "import pandas as pd\n",
    "from matplotlib import pyplot as plt\n",
    "\n",
    "pd.set_option('display.precision', 9)\n",
    "pd.set_option('display.width', 1000)  # Adjust to ensure there's enough room for all data\n",
    "pd.set_option('display.max_columns', None)  # Show all columns\n",
    "\n",
    "json_normalise = True"
   ]
  },
  {
   "cell_type": "code",
   "execution_count": 186,
   "id": "7639dcce-66cf-49db-9d93-d1132339f013",
   "metadata": {},
   "outputs": [],
   "source": [
    "#### Load JSON data and prepare it for analysis ####"
   ]
  },
  {
   "cell_type": "code",
   "execution_count": 188,
   "id": "814b72e3-c240-4a5e-ace1-0b481dfacf9e",
   "metadata": {},
   "outputs": [],
   "source": [
    "## paths\n",
    "# data_folder = '/home/tom/Documents/SWC/data' # desktop Duan Lab\n",
    "# json_filename = '240913_Yansu_Jerry/2024-09-13_11-23-37_YansuFirstSolo.json' \n",
    "data_folder = r'D:\\Users\\Tom\\OneDrive\\PhD\\SWC\\data' # desktop home\n",
    "json_filename = r'first_experiments_2409\\240913\\2024-09-13_11-23-37_YansuFirstSolo.json'"
   ]
  },
  {
   "cell_type": "code",
   "execution_count": 208,
   "id": "4d8aecb5-988e-4fb6-b6ca-ee1c1c727642",
   "metadata": {},
   "outputs": [],
   "source": [
    "## Load JSON file into pandas df with collapsed data dictionary"
   ]
  },
  {
   "cell_type": "code",
   "execution_count": 207,
   "id": "63a68126-aa42-47ba-96f6-457bb7e35b05",
   "metadata": {},
   "outputs": [],
   "source": [
    "# Note json_normalize requires the json file, whereas read_json requires the filepath\n",
    "if json_normalise == True:\n",
    "    df = pd.json_normalize(file)\n",
    "else:\n",
    "    with open(filepath) as f:\n",
    "        df = pd.read_json(f)\n",
    "        print(type(df))"
   ]
  },
  {
   "cell_type": "code",
   "execution_count": 192,
   "id": "aae275fc-b493-45de-812e-05cf40246f9b",
   "metadata": {},
   "outputs": [],
   "source": [
    "##  Convert time columns into datetime format\n",
    "df['timeLocal'] = pd.to_datetime(df['timeLocal'], format='%H:%M:%S:%f')\n",
    "\n",
    "# Use to_timedelta instead as a vectorised function (lambdas are python loops)\n",
    "# df['timeApplication'] = df['timeApplication'].apply(lambda x: timedelta(seconds=int(x) + (x - int(x))))\n",
    "df['timeApplication'] = pd.to_numeric(df['timeApplication']) \n",
    "df['timeApplication'] = pd.to_timedelta(df['timeApplication'], unit='s')"
   ]
  },
  {
   "cell_type": "code",
   "execution_count": 194,
   "id": "079e4bcc-0ade-4f39-aa04-9d3a30cf2c3d",
   "metadata": {},
   "outputs": [],
   "source": [
    "### Pre-process data"
   ]
  },
  {
   "cell_type": "code",
   "execution_count": 195,
   "id": "5b7f7919-b028-4b65-bec9-fa607ce05356",
   "metadata": {},
   "outputs": [],
   "source": [
    "## Take time in reference to start time\n",
    "def reference_application_time(df):\n",
    "    df2 = df.copy()\n",
    "    start_time = df['timeApplication'].iloc[0]\n",
    "    df2['timeReferenced'] = df['timeApplication'] - start_time\n",
    "\n",
    "    return df2\n"
   ]
  },
  {
   "cell_type": "code",
   "execution_count": 196,
   "id": "f8808924-84e1-4a5f-b6ca-bcbe4a7a4f34",
   "metadata": {},
   "outputs": [],
   "source": [
    "df = reference_application_time(df)"
   ]
  },
  {
   "cell_type": "code",
   "execution_count": 197,
   "id": "83a555c3-d312-430e-9431-6361b699256b",
   "metadata": {},
   "outputs": [],
   "source": [
    "# Fill nans in trialNum with the correct trial number (starting at 0 for pre-trial data)\n",
    "# This is needed because trialNum is only recorded at the single timepoint that trialNum changes\n",
    "def fill_trial_zero(df):\n",
    "    df2 = df.copy()\n",
    "    df2.loc[0, 'data.trialNum'] = 0 # Manually change first entry to 0 and fill forward\n",
    "                                     # This means nans after trial 1 will not be set to 0\n",
    "    df2['data.trialNum'] = df2['data.trialNum'].ffill()\n",
    "\n",
    "    return df2"
   ]
  },
  {
   "cell_type": "code",
   "execution_count": 198,
   "id": "dd96df6f-2edb-40a2-8fa8-a4fbef7817bb",
   "metadata": {},
   "outputs": [],
   "source": [
    "# fill player scores \n",
    "def fill_player_scores_solo(df):\n",
    "    df2 = df.copy()\n",
    "    df2.loc[0, 'data.playerScores.0'] = 0 \n",
    "    df2['data.playerScores.0'] = df2['data.playerScores.0'].ffill()\n",
    "\n",
    "    return df2"
   ]
  },
  {
   "cell_type": "code",
   "execution_count": 199,
   "id": "23a9e928-f8c5-4931-a30f-b10c2fa6760b",
   "metadata": {},
   "outputs": [],
   "source": [
    "def fill_trial_type(df):\n",
    "    df2 = df.copy()\n",
    "    df2.loc[0, 'data.trialType'] = 'pre-trials'\n",
    "    df2['data.trialType'] = df2['data.trialType'].ffill()\n",
    "\n",
    "    return df2"
   ]
  },
  {
   "cell_type": "code",
   "execution_count": 200,
   "id": "bcd4ef94-d7ba-4dd5-8e71-440bbcadd48c",
   "metadata": {},
   "outputs": [],
   "source": [
    "def fill_post_final_trial_type(df):\n",
    "    df2 = df.copy()\n",
    "    final_trial_end_idx = df2[df2['eventDescription'] == 'trial end'].index[-1] if not df[df['eventDescription'] == 'trial end'].empty else None\n",
    "    final_trial_start_idx = df2[df2['eventDescription'] == 'trial start'].index[-1] if not df[df['eventDescription'] == 'trial start'].empty else None\n",
    "\n",
    "    if final_trial_end_idx < final_trial_start_idx:\n",
    "        df2.loc[final_trial_end_idx + 1:, 'data.trialType'] = 'post-trials'\n",
    "    \n",
    "    return df2"
   ]
  },
  {
   "cell_type": "code",
   "execution_count": 201,
   "id": "fddcbdfe-0c65-4c1b-9135-e61b5c6d23e4",
   "metadata": {},
   "outputs": [],
   "source": [
    "def fill_trial_type_full(df):\n",
    "    df = fill_trial_type(df)\n",
    "    df = fill_post_final_trial_type(df)\n",
    "\n",
    "    return df"
   ]
  },
  {
   "cell_type": "code",
   "execution_count": 202,
   "id": "c8a53b04-62cf-4568-b95f-3793f599e44e",
   "metadata": {},
   "outputs": [],
   "source": [
    "def fill_trial_walls(df): \n",
    "    df2 = df.copy()\n",
    "    \n",
    "    trial_start_indices = df2[df2['eventDescription'] == 'trial start'].index\n",
    "    slice_onset_indices = df2[df2['eventDescription'] == 'slice onset'].index\n",
    "    trial_end_indices = df2[df2['eventDescription'] == 'trial end'].index    \n",
    "\n",
    "    for idx in range(len(trial_start_indices) -1):\n",
    "        # Forward fill the wall numbers from slice onset to end trial\n",
    "        df2.loc[slice_onset_indices[idx]:trial_end_indices[idx], 'data.wall1'] = df2.loc[slice_onset_indices[idx]:trial_end_indices[idx], 'data.wall1'].ffill()\n",
    "        df2.loc[slice_onset_indices[idx]:trial_end_indices[idx], 'data.wall2'] = df2.loc[slice_onset_indices[idx]:trial_end_indices[idx], 'data.wall2'].ffill()\n",
    "\n",
    "        # Backwards fill the wall numbers from slice onset to start trial\n",
    "        df2.loc[trial_start_indices[idx]:slice_onset_indices[idx], 'data.wall1'] = df2.loc[trial_start_indices[idx]:slice_onset_indices[idx], 'data.wall1'].bfill()\n",
    "        df2.loc[trial_start_indices[idx]:slice_onset_indices[idx], 'data.wall2'] = df2.loc[trial_start_indices[idx]:slice_onset_indices[idx], 'data.wall2'].bfill()\n",
    "    \n",
    "    return df2\n",
    "    "
   ]
  },
  {
   "cell_type": "code",
   "execution_count": null,
   "id": "9ea2d199-4cd9-4525-a051-0e183181947d",
   "metadata": {},
   "outputs": [],
   "source": [
    "## Data cleaning functions"
   ]
  },
  {
   "cell_type": "code",
   "execution_count": 203,
   "id": "694fc91c-1cb6-4814-a9ca-ed8f359e7f31",
   "metadata": {},
   "outputs": [],
   "source": [
    "df = fill_trial_zero(df)"
   ]
  },
  {
   "cell_type": "code",
   "execution_count": 204,
   "id": "cdd4100f-090b-4715-9d43-c3c98746b5ed",
   "metadata": {},
   "outputs": [],
   "source": [
    "df = fill_trial_type_full(df)"
   ]
  },
  {
   "cell_type": "code",
   "execution_count": 205,
   "id": "96fb8499-bd08-497f-bf38-cc54f4e8eb3e",
   "metadata": {},
   "outputs": [],
   "source": [
    "df = fill_player_scores_solo(df)"
   ]
  },
  {
   "cell_type": "code",
   "execution_count": 206,
   "id": "b25622d3-9b6e-495f-ad2c-b1cb65cd85a4",
   "metadata": {},
   "outputs": [],
   "source": [
    "df = fill_trial_walls(df)"
   ]
  }
 ],
 "metadata": {
  "kernelspec": {
   "display_name": "Python 3 (ipykernel)",
   "language": "python",
   "name": "python3"
  },
  "language_info": {
   "codemirror_mode": {
    "name": "ipython",
    "version": 3
   },
   "file_extension": ".py",
   "mimetype": "text/x-python",
   "name": "python",
   "nbconvert_exporter": "python",
   "pygments_lexer": "ipython3",
   "version": "3.12.5"
  }
 },
 "nbformat": 4,
 "nbformat_minor": 5
}
