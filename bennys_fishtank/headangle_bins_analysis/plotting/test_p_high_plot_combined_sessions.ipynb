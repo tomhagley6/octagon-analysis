{
 "cells": [
  {
   "cell_type": "code",
   "execution_count": 1,
   "id": "1a9612a5-d4cd-4fbc-b201-a88745dbc01e",
   "metadata": {},
   "outputs": [],
   "source": [
    "#imports\n",
    "%load_ext autoreload\n",
    "%autoreload 2\n",
    "import json\n",
    "import numpy as np\n",
    "import pandas as pd\n",
    "import parse_data.prepare_data as prepare_data\n",
    "import parse_data.flip_rotate_trajectories as flip_rotate_trajectories\n",
    "import data_extraction.get_indices as get_indices\n",
    "import plotting.plot_trajectory as plot_trajectory\n",
    "import trajectory_analysis.trajectory_vectors as trajectory_vectors\n",
    "import trajectory_analysis.trajectory_headangle as trajectory_headangle\n",
    "import plotting.plot_octagon as plot_octagon\n",
    "import data_extraction.extract_trial as extract_trial\n",
    "import globals\n",
    "import scipy\n",
    "import math\n",
    "import parse_data.preprocess as preprocess\n",
    "import flip_rotate_headangle_functions\n",
    "import headangle_bin_assignment\n",
    "import headangle_analysis_plotting_functions"
   ]
  },
  {
   "cell_type": "code",
   "execution_count": 2,
   "id": "5cfc111d-f0d2-4852-bff0-4e274089646b",
   "metadata": {},
   "outputs": [],
   "source": [
    "data_folder = '/Users/benny/Desktop/MSc/Project/Git/repos/octagon_analysis'\n",
    "\n",
    "json_filenames_all_social = [r'Json_data/2024-09-13_11-31-00_YansuJerrySocial.json',\n",
    "                             r'Json_data/2024-09-27_14-25-20_SaraEmilySocial.json',\n",
    "                             r'Json_data/2024-10-17_14-28-40_ShamirAbigailSocial.json',\n",
    "                             r'Json_data/2024-10-17_16-41-38_ZimoElsaSocial.json',\n",
    "                             r'Json_data/2024-11-12_13-31-14_KhadijaWendySocial.json']"
   ]
  },
  {
   "cell_type": "code",
   "execution_count": 3,
   "id": "153cd3fc-56a1-4df5-a8ed-ba8086821bc7",
   "metadata": {
    "scrolled": true
   },
   "outputs": [
    {
     "name": "stdout",
     "output_type": "stream",
     "text": [
      "filepath: /Users/benny/Desktop/MSc/Project/Git/repos/octagon_analysis/Json_data/2024-09-13_11-31-00_YansuJerrySocial.json\n",
      "Data is from period before 2024-09-13 00:00:00\n",
      "Running dataframe through playerinfo_playerposition_conversion.\n",
      "Loading complete.\n",
      "filepath: /Users/benny/Desktop/MSc/Project/Git/repos/octagon_analysis/Json_data/2024-09-27_14-25-20_SaraEmilySocial.json\n",
      "Loading complete.\n",
      "filepath: /Users/benny/Desktop/MSc/Project/Git/repos/octagon_analysis/Json_data/2024-10-17_14-28-40_ShamirAbigailSocial.json\n",
      "Loading complete.\n",
      "filepath: /Users/benny/Desktop/MSc/Project/Git/repos/octagon_analysis/Json_data/2024-10-17_16-41-38_ZimoElsaSocial.json\n",
      "Loading complete.\n",
      "filepath: /Users/benny/Desktop/MSc/Project/Git/repos/octagon_analysis/Json_data/2024-11-12_13-31-14_KhadijaWendySocial.json\n",
      "Loading complete.\n",
      "Preprocessing complete.\n",
      "Preprocessing complete.\n",
      "Preprocessing complete.\n",
      "Preprocessing complete.\n",
      "Preprocessing complete.\n"
     ]
    }
   ],
   "source": [
    "df, trial_list = prepare_data.prepare_combined_session_data(data_folder, json_filenames_all_social)"
   ]
  },
  {
   "cell_type": "code",
   "execution_count": 4,
   "id": "b6fc77db-5397-4613-ab0a-8af1fe2b42f0",
   "metadata": {},
   "outputs": [
    {
     "name": "stdout",
     "output_type": "stream",
     "text": [
      "621\n"
     ]
    }
   ],
   "source": [
    "print(len(trial_list))"
   ]
  },
  {
   "cell_type": "code",
   "execution_count": 5,
   "id": "ca624f0e-2df1-4dbe-a7d7-d36c5ced460f",
   "metadata": {},
   "outputs": [
    {
     "name": "stdout",
     "output_type": "stream",
     "text": [
      "85\n",
      "117\n"
     ]
    }
   ],
   "source": [
    "#filter for trials \n",
    "\n",
    "#High-Low\n",
    "trial_list_indices = get_indices.get_trials_trialtype(trial_list, trial_type=globals.HIGH_LOW)\n",
    "trial_list_HL = [trial_list[i] for i in trial_list_indices]\n",
    "\n",
    "#45° wall separation\n",
    "single_wall_sep_trial_indices = get_indices.get_trials_with_wall_sep(trial_list_HL, wall_sep=1)\n",
    "trial_list_45_HL = [trial_list_HL[i] for i in single_wall_sep_trial_indices]\n",
    "\n",
    "#player 0 wins\n",
    "player0_win_indices = get_indices.get_player_win_indices(trial_list_45_HL, player_id=0)\n",
    "trial_list_0_45_HL = [trial_list_45_HL[i] for i in player0_win_indices]\n",
    "print(len(trial_list_0_45_HL))\n",
    "\n",
    "#player 1 wins\n",
    "player1_win_indices = get_indices.get_player_win_indices(trial_list_45_HL, player_id=1)\n",
    "trial_list_1_45_HL = [trial_list_45_HL[i] for i in player1_win_indices]\n",
    "print(len(trial_list_1_45_HL))"
   ]
  },
  {
   "cell_type": "code",
   "execution_count": 6,
   "id": "41ef87af-777d-4531-b87f-c85b7252bbaf",
   "metadata": {},
   "outputs": [],
   "source": [
    "#example trial\n",
    "\n",
    "#find theta\n",
    "theta = flip_rotate_trajectories.find_rotation_angle_trial(trial_list=trial_list_1_45_HL, trial_index=3)"
   ]
  },
  {
   "cell_type": "code",
   "execution_count": null,
   "id": "629c4450-be19-4025-a49f-5c767cf9c57e",
   "metadata": {},
   "outputs": [],
   "source": [
    "#find altered yaws\n",
    "altered_yaw_values = flip_rotate_headangle_functions.flip_rotate_trial_headangles(trial_list=trial_list_1_45_HL, trial_index=3, player_id=1, theta=theta)\n",
    "\n",
    "print(np.array(altered_yaw_values[1]))"
   ]
  },
  {
   "cell_type": "code",
   "execution_count": 11,
   "id": "c298ab03-f43f-46c4-988b-a4074aa7f6ca",
   "metadata": {},
   "outputs": [],
   "source": [
    "#define trial\n",
    "trial=trial_list_1_45_HL[3]"
   ]
  },
  {
   "cell_type": "code",
   "execution_count": null,
   "id": "a37fe8cc-3c14-454e-8e98-a9796a1275d9",
   "metadata": {
    "scrolled": true
   },
   "outputs": [],
   "source": [
    "#take the new yaw values for example player in example trial\n",
    "player_altered_yaw = np.array(altered_yaw_values[1])\n",
    "print(player_altered_yaw)"
   ]
  },
  {
   "cell_type": "code",
   "execution_count": 9,
   "id": "32b46939-8ce7-470a-a4e6-8abf9b924d7c",
   "metadata": {},
   "outputs": [],
   "source": [
    "#create a copy of the trial with the new yaw values\n",
    "trial_copy = flip_rotate_headangle_functions.replace_with_altered_yaws(trial_list=trial_list_1_45_HL, trial_index=3, altered_yaw_values=player_altered_yaw, player_id=1)"
   ]
  },
  {
   "cell_type": "code",
   "execution_count": 10,
   "id": "01e256b0-16e0-4d56-ba29-0205ca91abd6",
   "metadata": {},
   "outputs": [],
   "source": [
    "#define time stamps for trial copy\n",
    "slice_onset = trial_copy[trial_copy['eventDescription'] == globals.SLICE_ONSET]\n",
    "slice_onset_index = slice_onset.index[0] - trial_copy.index[0]\n",
    "selected_trigger_activation = trial_copy[trial_copy['eventDescription'] == globals.SELECTED_TRIGGER_ACTIVATION]\n",
    "selected_trigger_activation_index = selected_trigger_activation.index[0] - trial_copy.index[0]"
   ]
  },
  {
   "cell_type": "code",
   "execution_count": 12,
   "id": "588079df-a39b-4d0b-a0a5-00c9310cad57",
   "metadata": {
    "collapsed": true,
    "jupyter": {
     "outputs_hidden": true
    },
    "scrolled": true
   },
   "outputs": [
    {
     "name": "stdout",
     "output_type": "stream",
     "text": [
      "24264     42.553680420\n",
      "24265     42.553680420\n",
      "24266     42.673961639\n",
      "24267     43.108913422\n",
      "24268     43.558643341\n",
      "             ...      \n",
      "24479    118.945289612\n",
      "24480    118.985870361\n",
      "24481    119.038803101\n",
      "24482    119.081451416\n",
      "24483    119.115821838\n",
      "Name: data.playerPosition.1.rotation.y, Length: 220, dtype: float64\n",
      "24264    0.742701832\n",
      "24265    0.742701832\n",
      "24266    0.744801135\n",
      "24267    0.752392476\n",
      "24268    0.760241744\n",
      "            ...     \n",
      "24479    2.075986933\n",
      "24480    2.076695201\n",
      "24481    2.077619052\n",
      "24482    2.078363405\n",
      "24483    2.078963282\n",
      "Name: data.playerPosition.1.rotation.y, Length: 220, dtype: float64\n"
     ]
    }
   ],
   "source": [
    "#checking head angles have changes\n",
    "\n",
    "#head angles in original trial\n",
    "original_headangles_dg = trial[globals.PLAYER_ROT_DICT[1]['yrot']].iloc[slice_onset_index:selected_trigger_activation_index]\n",
    "print(original_headangles_dg)\n",
    "#in radians\n",
    "original_headangles = trajectory_vectors.extract_trial_player_headangles(trial=trial, player_id=1)\n",
    "print(original_headangles)"
   ]
  },
  {
   "cell_type": "code",
   "execution_count": 15,
   "id": "699a921f-466d-4e50-af8b-2523628d6515",
   "metadata": {
    "collapsed": true,
    "jupyter": {
     "outputs_hidden": true
    },
    "scrolled": true
   },
   "outputs": [
    {
     "name": "stdout",
     "output_type": "stream",
     "text": [
      "24264    4.669692649\n",
      "24265    4.669692649\n",
      "24266    4.671791952\n",
      "24267    4.679383293\n",
      "24268    4.687232561\n",
      "            ...     \n",
      "24479    6.002977750\n",
      "24480    6.003686018\n",
      "24481    6.004609869\n",
      "24482    6.005354222\n",
      "24483    6.005954099\n",
      "Name: data.playerPosition.1.rotation.y, Length: 220, dtype: float64\n",
      "24264    267.553680420\n",
      "24265    267.553680420\n",
      "24266    267.673961639\n",
      "24267    268.108913422\n",
      "24268    268.558643341\n",
      "             ...      \n",
      "24479    343.945289612\n",
      "24480    343.985870361\n",
      "24481    344.038803101\n",
      "24482    344.081451416\n",
      "24483    344.115821838\n",
      "Name: data.playerPosition.1.rotation.y, Length: 220, dtype: float64\n",
      "24264    0.081501512\n",
      "24265    0.081501512\n",
      "24266    0.081538152\n",
      "24267    0.081670645\n",
      "24268    0.081807641\n",
      "            ...     \n",
      "24479    0.104771727\n",
      "24480    0.104784088\n",
      "24481    0.104800213\n",
      "24482    0.104813204\n",
      "24483    0.104823674\n",
      "Name: data.playerPosition.1.rotation.y, Length: 220, dtype: float64\n"
     ]
    }
   ],
   "source": [
    "#head angles in trial copy\n",
    "headangles = trial_copy[globals.PLAYER_ROT_DICT[1]['yrot']].iloc[slice_onset_index:selected_trigger_activation_index]\n",
    "print(headangles)\n",
    "print(np.rad2deg(headangles))"
   ]
  },
  {
   "cell_type": "code",
   "execution_count": 14,
   "id": "cad86de8-26d5-4093-9c7d-0c3b114bf9b6",
   "metadata": {
    "collapsed": true,
    "jupyter": {
     "outputs_hidden": true
    },
    "scrolled": true
   },
   "outputs": [
    {
     "name": "stdout",
     "output_type": "stream",
     "text": [
      "24264    0.081501512\n",
      "24265    0.081501512\n",
      "24266    0.081538152\n",
      "24267    0.081670645\n",
      "24268    0.081807641\n",
      "            ...     \n",
      "24479    0.104771727\n",
      "24480    0.104784088\n",
      "24481    0.104800213\n",
      "24482    0.104813204\n",
      "24483    0.104823674\n",
      "Name: data.playerPosition.1.rotation.y, Length: 220, dtype: float64\n"
     ]
    }
   ],
   "source": [
    "#takes the angles, which in this case are already radians, and extracts them in radians\n",
    "#these results cannot be used for later functions\n",
    "print(trajectory_vectors.extract_trial_player_headangles(trial=trial_copy, player_id=1))"
   ]
  },
  {
   "cell_type": "code",
   "execution_count": 16,
   "id": "55530989-aa01-4c46-ab40-316c3d80c376",
   "metadata": {},
   "outputs": [],
   "source": [
    "#flip and rotate trajectory for example trial\n",
    "\n",
    "#obtain altered coordinates\n",
    "altered_coords = flip_rotate_trajectories.flip_rotate_trial(trial_list=trial_list_1_45_HL, trial_index=3, theta=theta, flip=True)\n",
    "altered_coords_array = np.array(altered_coords)\n",
    "\n",
    "#replace old coordinates with new ones in new trial copy\n",
    "trial_copy_coords = flip_rotate_trajectories.replace_with_altered_coordinates(trial_list=trial_list_1_45_HL, trial_index=3, altered_coordinates=altered_coords_array)"
   ]
  },
  {
   "cell_type": "code",
   "execution_count": null,
   "id": "e9c0c2b1-38cd-40ec-9d78-48dabf0d2a46",
   "metadata": {},
   "outputs": [],
   "source": [
    "#checking trajectory has changed\n",
    "\n",
    "#trajectory in original trial copy\n",
    "original_trajectory = trajectory_vectors.extract_trial_player_trajectory(trial=trial_copy, player_id=1)\n",
    "print(original_trajectory)\n",
    "\n",
    "#trajectory in new trial \n",
    "updated_trajectory= trajectory_vectors.extract_trial_player_trajectory(trial=trial_copy_coords, player_id=1)\n",
    "print(updated_trajectory)"
   ]
  },
  {
   "cell_type": "code",
   "execution_count": null,
   "id": "35ea9bc6-445c-4122-8833-916b5120ee24",
   "metadata": {
    "scrolled": true
   },
   "outputs": [],
   "source": [
    "#combine new coordinates and new head angles in a single trial copy\n",
    "trial_example = trial_copy\n",
    "for i in range(len(altered_coords)):\n",
    "        trial_example[globals.PLAYER_LOC_DICT[i]['xloc']] = altered_coords[i][0] # x coordinates\n",
    "        trial_example[globals.PLAYER_LOC_DICT[i]['yloc']] = altered_coords[i][1] # y coordinates\n",
    "\n",
    "#check that both coordinates and head angles are updated in trial example\n",
    "example_trajectory = trajectory_vectors.extract_trial_player_trajectory(trial=trial_example, player_id=1)\n",
    "print(example_trajectory)\n",
    "\n",
    "example_headangles = trajectory_vectors.extract_trial_player_headangles(trial=trial_example, player_id=1)\n",
    "print(example_headangles) #these are radians of radians!!!\n",
    "example_headangles_rad = np.rad2deg(trajectory_vectors.extract_trial_player_headangles(trial=trial_example, player_id=1))\n",
    "print(example_headangles_rad) #these are regular radian angles\n"
   ]
  },
  {
   "cell_type": "code",
   "execution_count": 22,
   "id": "b79afcf2-cb68-4337-b788-423a5dc334d8",
   "metadata": {},
   "outputs": [
    {
     "name": "stdout",
     "output_type": "stream",
     "text": [
      "[7]\n",
      "Head angle at slice onset falls into Bin 7\n"
     ]
    }
   ],
   "source": [
    "#sort new head angles into bin for example trial\n",
    "#use corrected headangles in radians\n",
    "bin_index = headangle_bin_assignment.sort_head_angle_into_bin(example_trajectory, example_headangles_rad, debug=False)\n",
    "bin_index_array = np.array(bin_index)\n",
    "print(bin_index_array)\n",
    "print(f\"Head angle at slice onset falls into Bin {int(bin_index_array[0])}\")"
   ]
  },
  {
   "cell_type": "code",
   "execution_count": 24,
   "id": "a8d070f9-e0d1-4008-80ed-c847fcc590a5",
   "metadata": {},
   "outputs": [
    {
     "name": "stdout",
     "output_type": "stream",
     "text": [
      "[2]\n",
      "Head angle at slice onset falls into Bin 2\n"
     ]
    }
   ],
   "source": [
    "#sort head angles into bin for original trial\n",
    "bin_index_og = headangle_bin_assignment.sort_head_angle_into_bin(original_trajectory, original_headangles, debug=False)\n",
    "bin_index_og_array = np.array(bin_index_og)\n",
    "print(bin_index_og_array)\n",
    "print(f\"Head angle at slice onset falls into Bin {int(bin_index_og_array[0])}\")"
   ]
  },
  {
   "cell_type": "code",
   "execution_count": null,
   "id": "4a0140b3-331a-4b19-9522-26cabff677fe",
   "metadata": {},
   "outputs": [],
   "source": [
    "#sort head angles into bins for all original trials\n",
    "bin_assignments_original = headangle_bin_assignment.assign_bins_to_all_trials(trial_list=trial_list_1_45_HL, player_id=1, debug=False)\n",
    "\n",
    "#print output\n",
    "for idx, bin_index in enumerate(bin_assignments_original):\n",
    "    print(f\"Trial {idx}: Bin {bin_index}\")"
   ]
  },
  {
   "cell_type": "code",
   "execution_count": 33,
   "id": "82f5f763-1cd8-4f15-b85f-52f7f6d42566",
   "metadata": {},
   "outputs": [],
   "source": [
    "#create new trial list containing trials with updated yaws and coordinates\n",
    "updated_trial_list1 = flip_rotate_headangle_functions.process_and_update_trials(trial_list_1_45_HL, 1)"
   ]
  },
  {
   "cell_type": "code",
   "execution_count": 34,
   "id": "8bbead97-4b96-4551-83a1-bd6f002331fa",
   "metadata": {
    "collapsed": true,
    "jupyter": {
     "outputs_hidden": true
    },
    "scrolled": true
   },
   "outputs": [
    {
     "name": "stdout",
     "output_type": "stream",
     "text": [
      "117\n",
      "24264    267.553680420\n",
      "24265    267.553680420\n",
      "24266    267.673961639\n",
      "24267    268.108913422\n",
      "24268    268.558643341\n",
      "             ...      \n",
      "24479    343.945289612\n",
      "24480    343.985870361\n",
      "24481    344.038803101\n",
      "24482    344.081451416\n",
      "24483    344.115821838\n",
      "Name: data.playerPosition.1.rotation.y, Length: 220, dtype: float64\n"
     ]
    }
   ],
   "source": [
    "#checks\n",
    "print(len(updated_trial_list1))\n",
    "print(np.rad2deg(trajectory_vectors.extract_trial_player_headangles(trial=updated_trial_list1[3], player_id=1)))"
   ]
  },
  {
   "cell_type": "code",
   "execution_count": 35,
   "id": "9a9ad58a-39cc-492e-af3a-e5590d355a93",
   "metadata": {},
   "outputs": [],
   "source": [
    "#create new trial list containing trials with updated yaws and coordinates for other player\n",
    "updated_trial_list0 = flip_rotate_headangle_functions.process_and_update_trials(trial_list_0_45_HL, 0)"
   ]
  },
  {
   "cell_type": "code",
   "execution_count": 36,
   "id": "ba96ecfb-55b1-4d5a-a5b1-82d4d8a52e0e",
   "metadata": {
    "collapsed": true,
    "jupyter": {
     "outputs_hidden": true
    },
    "scrolled": true
   },
   "outputs": [
    {
     "name": "stdout",
     "output_type": "stream",
     "text": [
      "85\n",
      "13595     39.000518799\n",
      "13596     39.000518799\n",
      "13597     38.201812744\n",
      "13598     34.868316650\n",
      "13599     29.173706055\n",
      "             ...      \n",
      "13706    333.118530273\n",
      "13707    333.014373779\n",
      "13708    332.806030273\n",
      "13709    332.667114258\n",
      "13710    332.562927246\n",
      "Name: data.playerPosition.0.rotation.y, Length: 116, dtype: float64\n"
     ]
    }
   ],
   "source": [
    "#checks\n",
    "print(len(updated_trial_list0))\n",
    "print(np.rad2deg(trajectory_vectors.extract_trial_player_headangles(trial=updated_trial_list0[3], player_id=0)))"
   ]
  },
  {
   "cell_type": "code",
   "execution_count": null,
   "id": "ce2313c7-fc36-49ae-bf55-f338b33e27fd",
   "metadata": {},
   "outputs": [],
   "source": [
    "#sort head angle into bin for all updated trials\n",
    "bin_assignments1 = headangle_bin_assignment.assign_bins_to_all_trials(trial_list=updated_trial_list1, player_id=1)\n",
    "for idx, bin_index in enumerate(bin_assignments1):\n",
    "    print(f\"Trial {idx}: Bin {bin_index}\")"
   ]
  },
  {
   "cell_type": "code",
   "execution_count": null,
   "id": "c1a146f7-4924-4897-8272-c682f29fc1ea",
   "metadata": {},
   "outputs": [],
   "source": [
    "#sort head angle into bin for all updated trials\n",
    "bin_assignments0 = headangle_bin_assignment.assign_bins_to_all_trials(trial_list=updated_trial_list0, player_id=0)\n",
    "for idx, bin_index in enumerate(bin_assignments0):\n",
    "    print(f\"Trial {idx}: Bin {bin_index}\")"
   ]
  },
  {
   "cell_type": "code",
   "execution_count": 40,
   "id": "c134b2fa-8ad9-4006-a661-785bec1be690",
   "metadata": {},
   "outputs": [
    {
     "name": "stdout",
     "output_type": "stream",
     "text": [
      "Bin 1: 29 trials\n",
      "Bin 2: 14 trials\n",
      "Bin 3: 10 trials\n",
      "Bin 4: 8 trials\n",
      "Bin 5: 15 trials\n",
      "Bin 6: 11 trials\n",
      "Bin 7: 16 trials\n",
      "Bin 8: 14 trials\n"
     ]
    }
   ],
   "source": [
    "#count number of trials for each bin\n",
    "from collections import Counter\n",
    "\n",
    "#count the occurrences of each bin\n",
    "bin_counts = Counter(bin_assignments1)\n",
    "\n",
    "#print the results\n",
    "for bin_index, count in sorted(bin_counts.items()):\n",
    "    print(f\"Bin {bin_index}: {count} trials\")"
   ]
  },
  {
   "cell_type": "code",
   "execution_count": 42,
   "id": "77bfb8e4-db48-43aa-b7c7-05286e1760ae",
   "metadata": {
    "collapsed": true,
    "jupyter": {
     "outputs_hidden": true
    }
   },
   "outputs": [
    {
     "name": "stdout",
     "output_type": "stream",
     "text": [
      "[False  True  True  True  True False  True  True  True  True  True  True\n",
      "  True False  True  True False  True  True  True  True  True  True  True\n",
      "  True  True  True  True  True  True  True  True False  True  True  True\n",
      "  True  True  True  True  True  True  True  True False  True  True  True\n",
      " False False False  True  True  True  True  True  True  True False  True\n",
      "  True  True  True  True False  True  True  True False  True  True  True\n",
      "  True  True  True  True  True  True  True  True  True  True  True  True\n",
      "  True  True  True  True  True  True  True  True  True  True  True  True\n",
      " False  True  True  True  True  True  True  True  True  True  True  True\n",
      "  True  True  True  True  True  True  True  True  True]\n"
     ]
    }
   ],
   "source": [
    "#determine which trials the winning player chose high\n",
    "high_wall_chosen0 = get_indices.was_high_wall_chosen(updated_trial_list0)\n",
    "high_wall_chosen1 = get_indices.was_high_wall_chosen(updated_trial_list1)\n",
    "print(high_wall_chosen1)"
   ]
  },
  {
   "cell_type": "code",
   "execution_count": 43,
   "id": "521c5aae-f487-44c0-9d1d-5afce75ee68a",
   "metadata": {},
   "outputs": [
    {
     "name": "stdout",
     "output_type": "stream",
     "text": [
      "Bin 1: 28 True values\n",
      "Bin 2: 14 True values\n",
      "Bin 3: 8 True values\n",
      "Bin 4: 6 True values\n",
      "Bin 5: 11 True values\n",
      "Bin 6: 10 True values\n",
      "Bin 7: 14 True values\n",
      "Bin 8: 13 True values\n"
     ]
    }
   ],
   "source": [
    "#count number of times winning player chose high for each head angle bin\n",
    "from collections import defaultdict\n",
    "\n",
    "#create a dictionary to store counts of True values per bin\n",
    "bin_true_counts = defaultdict(int)\n",
    "\n",
    "#iterate over both lists simultaneously\n",
    "for bin_index, is_high_wall_chosen in zip(bin_assignments1, high_wall_chosen1):\n",
    "    if is_high_wall_chosen: \n",
    "        bin_true_counts[bin_index] += 1\n",
    "\n",
    "#print the results\n",
    "for bin_index, count in sorted(bin_true_counts.items()):\n",
    "    print(f\"Bin {bin_index}: {count} True values\")"
   ]
  },
  {
   "cell_type": "code",
   "execution_count": 45,
   "id": "5310dc2f-c542-49d5-b67f-a55e3537ef1f",
   "metadata": {},
   "outputs": [
    {
     "name": "stdout",
     "output_type": "stream",
     "text": [
      "[0.9285714285714286, 0.9333333333333333, 0.52, 0.7692307692307693, 0.7272727272727273, 0.8461538461538461, 0.9285714285714286, 0.9310344827586207]\n",
      "Bin 1: 0.93 (True/Total = 39/42)\n",
      "Bin 2: 0.93 (True/Total = 28/30)\n",
      "Bin 3: 0.52 (True/Total = 13/25)\n",
      "Bin 4: 0.77 (True/Total = 10/13)\n",
      "Bin 5: 0.73 (True/Total = 16/22)\n",
      "Bin 6: 0.85 (True/Total = 11/13)\n",
      "Bin 7: 0.93 (True/Total = 26/28)\n",
      "Bin 8: 0.93 (True/Total = 27/29)\n"
     ]
    }
   ],
   "source": [
    "#obtain ratios for how many times the winning player chose high given a head angle bin\n",
    "#over the number of trials overall with that head angle bin\n",
    "\n",
    "from collections import defaultdict\n",
    "\n",
    "#create dictionaries to store counts of True values and total trials per bin\n",
    "bin_true_counts = defaultdict(int) #number of times high wall was chosen given specific initial bin\n",
    "bin_total_counts = defaultdict(int) #number of trials in specific bin overall\n",
    "\n",
    "#bin assignments and high wall chosen for all trial lists\n",
    "trial_data_lists = [(bin_assignments0, high_wall_chosen0), \n",
    "                    (bin_assignments1, high_wall_chosen1)]\n",
    "\n",
    "#iterate through all provided trial lists\n",
    "for bin_assignments, high_wall_chosen in trial_data_lists:\n",
    "\n",
    "    #iterate over both lists simultaneously for the current trial list\n",
    "    for bin_index, is_high_wall_chosen in zip(bin_assignments, high_wall_chosen):\n",
    "        bin_total_counts[bin_index] += 1  #increment total trial count for the bin\n",
    "        \n",
    "        if is_high_wall_chosen:          #increment True count if high wall is chosen\n",
    "            bin_true_counts[bin_index] += 1\n",
    "\n",
    "#calculate the ratio for each bin\n",
    "bin_probabilities = {bin_index: bin_true_counts[bin_index] / bin_total_counts[bin_index]\n",
    "              for bin_index in sorted(bin_total_counts)}\n",
    " \n",
    "#convert the dictionary to a list of values\n",
    "bin_probabilities_list = list(bin_probabilities.values())\n",
    "\n",
    "#order by bin index\n",
    "probabilities_list = [bin_probabilities[bin_index] for bin_index in sorted(bin_total_counts)]\n",
    "\n",
    "print(probabilities_list)\n",
    "\n",
    "#print the results\n",
    "for bin_index, probability in sorted(bin_probabilities.items()):\n",
    "    print(f\"Bin {bin_index}: {probability:.2f} (True/Total = {bin_true_counts[bin_index]}/{bin_total_counts[bin_index]})\")\n",
    "\n"
   ]
  },
  {
   "cell_type": "code",
   "execution_count": 46,
   "id": "1a7b97ef-8f21-4046-bd18-82a477bf4ba7",
   "metadata": {},
   "outputs": [
    {
     "name": "stdout",
     "output_type": "stream",
     "text": [
      "[(np.float64(5.8904862254808625), np.float64(0.3926990816987242)), (np.float64(0.39269908169872414), np.float64(1.1780972450961724)), (np.float64(1.1780972450961726), np.float64(1.963495408493621)), (np.float64(1.9634954084936211), np.float64(2.7488935718910694)), (np.float64(2.748893571891069), np.float64(3.5342917352885173)), (np.float64(3.5342917352885173), np.float64(4.319689898685965)), (np.float64(4.319689898685965), np.float64(5.105088062083414)), (np.float64(5.105088062083414), np.float64(5.890486225480862))]\n"
     ]
    }
   ],
   "source": [
    "bin_ranges = headangle_bin_assignment.define_45_degree_bins()\n",
    "print(bin_ranges)"
   ]
  },
  {
   "cell_type": "code",
   "execution_count": 47,
   "id": "1c3e2c84-bc39-4080-b45a-065c359434d2",
   "metadata": {},
   "outputs": [
    {
     "name": "stdout",
     "output_type": "stream",
     "text": [
      "(2, 8)\n"
     ]
    },
    {
     "data": {
      "image/png": "[encoded data removed]",
      "text/plain": [
       "<Figure size 640x480 with 1 Axes>"
      ]
     },
     "metadata": {},
     "output_type": "display_data"
    }
   ],
   "source": [
    "import matplotlib.pyplot as plt\n",
    "\n",
    "# Plot the octagon (you can use your existing function for this)\n",
    "ax = plot_octagon.plot_octagon()\n",
    "\n",
    "# Define ratios list\n",
    "probabilities_list = probabilities_list\n",
    "\n",
    "# Plot the ratios under the alcoves\n",
    "ax = headangle_analysis_plotting_functions.plot_ratios_under_alcoves(ax, probabilities_list)\n",
    "\n",
    "plt.show()"
   ]
  },
  {
   "cell_type": "code",
   "execution_count": 48,
   "id": "072a7523-f247-40d2-8337-a9e6b499cffd",
   "metadata": {},
   "outputs": [
    {
     "name": "stdout",
     "output_type": "stream",
     "text": [
      "(2, 8)\n"
     ]
    },
    {
     "data": {
      "image/png": "[encoded data removed]",
      "text/plain": [
       "<Figure size 600x600 with 2 Axes>"
      ]
     },
     "metadata": {},
     "output_type": "display_data"
    },
    {
     "name": "stdout",
     "output_type": "stream",
     "text": [
      "[0.9285714285714286, 0.9333333333333333, 0.52, 0.7692307692307693, 0.7272727272727273, 0.8461538461538461, 0.9285714285714286, 0.9310344827586207]\n"
     ]
    }
   ],
   "source": [
    "#plot color gradient octagon with ratios list (without subtracting average p(H))\n",
    "import matplotlib.cm as cm\n",
    "\n",
    "fig, ax = plt.subplots(figsize=(6, 6))\n",
    "\n",
    "#plot octagon\n",
    "ax = plot_octagon.plot_octagon(ax=ax)\n",
    "\n",
    "#define bin ranges\n",
    "bin_ranges = bin_ranges\n",
    "\n",
    "\n",
    "#define ratios list\n",
    "probabilities_list = probabilities_list\n",
    "probabilities_list_reversed = probabilities_list[::-1]\n",
    "\n",
    "#color the segments of the octagon\n",
    "ax = headangle_analysis_plotting_functions.plot_colored_octagon(ax, bin_ranges, probabilities_list)\n",
    "\n",
    "#plot the ratios under the alcoves\n",
    "ax = headangle_analysis_plotting_functions.plot_ratios_under_alcoves(ax, probabilities_list)\n",
    "\n",
    "#add a colorbar for reference\n",
    "sm = plt.cm.ScalarMappable(cmap=cm.RdBu, norm=plt.Normalize(vmin=min(probabilities_list), vmax=max(probabilities_list)))\n",
    "sm.set_array([])  # Only necessary for ScalarMappable\n",
    "cbar = plt.colorbar(sm, ax=ax, shrink=0.8)\n",
    "cbar.set_label(\"Ratio Values\", rotation=270, labelpad=15)\n",
    "\n",
    "plt.axis('equal')\n",
    "plt.show()\n",
    "print(probabilities_list)"
   ]
  },
  {
   "cell_type": "code",
   "execution_count": 49,
   "id": "ac30fb17-1f3d-4c5d-86c0-c5225863e27d",
   "metadata": {},
   "outputs": [
    {
     "name": "stdout",
     "output_type": "stream",
     "text": [
      "170\n",
      "202\n",
      "0.8415841584158416\n"
     ]
    }
   ],
   "source": [
    "#calculate average p(H) regardless of bin\n",
    "\n",
    "from collections import defaultdict\n",
    "\n",
    "#initialize counters for the total high wall choices and total trials overall\n",
    "true_counts = 0\n",
    "total_counts = 0\n",
    "\n",
    "#bin assignments and high wall chosen for all trial lists\n",
    "trial_data_lists = trial_data_lists #previously defined\n",
    "\n",
    "\n",
    "#iterate through all provided trial lists\n",
    "for bin_assignments, high_wall_chosen in trial_data_lists:\n",
    "\n",
    "    #iterate over both lists simultaneously for the current trial list\n",
    "    for is_high_wall_chosen in high_wall_chosen:\n",
    "        total_counts += 1  #increment total trial count for the bin\n",
    "        \n",
    "        if is_high_wall_chosen:          #increment True count if high wall is chosen\n",
    "            true_counts += 1\n",
    "\n",
    "#calculate the average ratio \n",
    "print(true_counts)\n",
    "print(total_counts)\n",
    "overall_probability = true_counts / total_counts\n",
    "\n",
    "print(overall_probability)\n"
   ]
  },
  {
   "cell_type": "code",
   "execution_count": 50,
   "id": "09742d69-e4c4-42db-a884-365028a7b0ba",
   "metadata": {},
   "outputs": [
    {
     "name": "stdout",
     "output_type": "stream",
     "text": [
      "[0.08698727015558705, 0.0917491749174918, -0.32158415841584154, -0.07235338918507228, -0.11431143114311426, 0.004569687738004591, 0.08698727015558705, 0.08945032434277911]\n"
     ]
    }
   ],
   "source": [
    "#obtain difference between p(H) given bin and average p(H)\n",
    "\n",
    "new_probabilities_list = [probability - overall_probability for probability in probabilities_list]\n",
    "print(new_probabilities_list)"
   ]
  },
  {
   "cell_type": "code",
   "execution_count": 52,
   "id": "ccfee58a-cc36-4b5e-ac0e-9fecd76753ec",
   "metadata": {},
   "outputs": [
    {
     "name": "stdout",
     "output_type": "stream",
     "text": [
      "(2, 8)\n"
     ]
    },
    {
     "data": {
      "image/png": "[encoded data removed]",
      "text/plain": [
       "<Figure size 640x480 with 1 Axes>"
      ]
     },
     "metadata": {},
     "output_type": "display_data"
    }
   ],
   "source": [
    "#plot octagon with new ratios list \n",
    "ax = plot_octagon.plot_octagon()\n",
    "\n",
    "#define ratios list\n",
    "new_probabilities_list = new_probabilities_list\n",
    "\n",
    "#plot the ratios under the alcoves\n",
    "ax = headangle_analysis_plotting_functions.plot_ratios_under_alcoves(ax, new_probabilities_list)\n",
    "\n",
    "plt.show()\n"
   ]
  },
  {
   "cell_type": "code",
   "execution_count": 77,
   "id": "07243ef7-ca2e-4796-812a-a536515610a3",
   "metadata": {},
   "outputs": [
    {
     "name": "stdout",
     "output_type": "stream",
     "text": [
      "(2, 8)\n"
     ]
    },
    {
     "data": {
      "image/png": "[encoded data removed]",
      "text/plain": [
       "<Figure size 600x600 with 2 Axes>"
      ]
     },
     "metadata": {},
     "output_type": "display_data"
    },
    {
     "name": "stdout",
     "output_type": "stream",
     "text": [
      "[0.08698727015558705, 0.0917491749174918, -0.32158415841584154, -0.07235338918507228, -0.11431143114311426, 0.004569687738004591, 0.08698727015558705, 0.08945032434277911]\n"
     ]
    }
   ],
   "source": [
    "#plot color gradient octagon for new ratios list\n",
    "\n",
    "fig, ax = plt.subplots(figsize=(6, 6))\n",
    "\n",
    "#plot octagon\n",
    "ax = plot_octagon.plot_octagon(ax=ax)\n",
    "\n",
    "#define bin_ranges\n",
    "bin_ranges = bin_ranges\n",
    "\n",
    "\n",
    "#define ratios list\n",
    "new_probabilities_list = new_probabilities_list\n",
    "new_probabilities_list_reversed = new_probabilities_list[::-1]\n",
    "\n",
    "#color the segments of the octagon\n",
    "ax = headangle_analysis_plotting_functions.plot_colored_octagon(ax, bin_ranges, new_probabilities_list)\n",
    "\n",
    "#plot the ratios under the alcoves\n",
    "ax = headangle_analysis_plotting_functions.plot_ratios_under_alcoves(ax, new_probabilities_list)\n",
    "\n",
    "#add wall labels\n",
    "alcove_centers = plot_octagon.return_alcove_centre_points()\n",
    "\n",
    "alcove_center1_x, alcove_center1_y = alcove_centers[:,0]\n",
    "alcove_center2_x, alcove_center2_y = alcove_centers[:,1]\n",
    "\n",
    "ax.text(alcove_center1_x, alcove_center1_y + 5, f'{\"High\"}', \n",
    "                ha='center', va='center', fontsize=14, color='Blue')\n",
    "ax.text(alcove_center2_x + 3, alcove_center2_y + 5, f'{\"Low\"}', \n",
    "                ha='center', va='center', fontsize=14, color='Red')\n",
    "\n",
    "#add a colorbar for reference\n",
    "sm = plt.cm.ScalarMappable(cmap=cm.RdBu, norm=plt.Normalize(vmin=min(new_probabilities_list), vmax=max(new_probabilities_list)))\n",
    "sm.set_array([])  # Only necessary for ScalarMappable\n",
    "cbar = plt.colorbar(sm, ax=ax, shrink=0.8)\n",
    "cbar.set_label(\"p(H) - P(H)\", rotation=270, labelpad=15)\n",
    "\n",
    "plt.title(\"P(H) = 0.842\")\n",
    "plt.axis('equal')\n",
    "plt.axis('off')\n",
    "plt.show()\n",
    "print(new_probabilities_list)"
   ]
  },
  {
   "cell_type": "code",
   "execution_count": 62,
   "id": "5130ba9e-1177-4922-8e7a-61b5bab05bb2",
   "metadata": {},
   "outputs": [],
   "source": []
  }
 ],
 "metadata": {
  "kernelspec": {
   "display_name": "Python 3 (ipykernel)",
   "language": "python",
   "name": "python3"
  },
  "language_info": {
   "codemirror_mode": {
    "name": "ipython",
    "version": 3
   },
   "file_extension": ".py",
   "mimetype": "text/x-python",
   "name": "python",
   "nbconvert_exporter": "python",
   "pygments_lexer": "ipython3",
   "version": "3.13.0"
  }
 },
 "nbformat": 4,
 "nbformat_minor": 5
}
