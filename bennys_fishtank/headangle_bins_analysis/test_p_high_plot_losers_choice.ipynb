{
 "cells": [
  {
   "cell_type": "code",
   "execution_count": 51,
   "id": "41deede7-812d-4dd6-852f-3335829ee8fb",
   "metadata": {},
   "outputs": [
    {
     "name": "stdout",
     "output_type": "stream",
     "text": [
      "The autoreload extension is already loaded. To reload it, use:\n",
      "  %reload_ext autoreload\n"
     ]
    }
   ],
   "source": [
    "#imports\n",
    "%load_ext autoreload\n",
    "%autoreload 2\n",
    "import json\n",
    "import numpy as np\n",
    "import pandas as pd\n",
    "import parse_data.prepare_data as prepare_data\n",
    "import parse_data.flip_rotate_trajectories as flip_rotate_trajectories\n",
    "import data_extraction.get_indices as get_indices\n",
    "import plotting.plot_trajectory as plot_trajectory\n",
    "import trajectory_analysis.trajectory_vectors as trajectory_vectors\n",
    "import trajectory_analysis.trajectory_headangle as trajectory_headangle\n",
    "import plotting.plot_octagon as plot_octagon\n",
    "import data_extraction.extract_trial as extract_trial\n",
    "import globals\n",
    "import scipy\n",
    "import math\n",
    "import parse_data.preprocess as preprocess\n",
    "import flip_rotate_headangle_functions\n",
    "import headangle_bin_assignment\n",
    "import headangle_analysis_plotting_functions\n",
    "import analysis.loser_inferred_choice as loser_inferred_choice\n",
    "import analysis.wall_choice as wall_choice\n",
    "import analysis.wall_visibility_and_choice as wall_visibility_and_choice\n",
    "import matplotlib.cm as cm"
   ]
  },
  {
   "cell_type": "code",
   "execution_count": 5,
   "id": "cee9c91c-72b1-49b7-9367-24e916b79073",
   "metadata": {},
   "outputs": [],
   "source": [
    "data_folder = '/Users/benny/Desktop/MSc/Project/Git/repos/octagon_analysis'\n",
    "\n",
    "json_filenames_all_social = [r'Json_data/2024-09-13_11-31-00_YansuJerrySocial.json',\n",
    "                             r'Json_data/2024-09-27_14-25-20_SaraEmilySocial.json',\n",
    "                             r'Json_data/2024-10-17_14-28-40_ShamirAbigailSocial.json',\n",
    "                             r'Json_data/2024-10-17_16-41-38_ZimoElsaSocial.json',\n",
    "                             r'Json_data/2024-11-12_13-31-14_KhadijaWendySocial.json']"
   ]
  },
  {
   "cell_type": "code",
   "execution_count": 52,
   "id": "c6f89658-09aa-46df-a2f1-d64a39b17606",
   "metadata": {},
   "outputs": [
    {
     "name": "stdout",
     "output_type": "stream",
     "text": [
      "filepath: /Users/benny/Desktop/MSc/Project/Git/repos/octagon_analysis/Json_data/2024-09-13_11-31-00_YansuJerrySocial.json\n",
      "Data is from period before 2024-09-13 00:00:00\n",
      "Running dataframe through playerinfo_playerposition_conversion.\n",
      "Loading complete.\n",
      "filepath: /Users/benny/Desktop/MSc/Project/Git/repos/octagon_analysis/Json_data/2024-09-27_14-25-20_SaraEmilySocial.json\n",
      "Loading complete.\n",
      "filepath: /Users/benny/Desktop/MSc/Project/Git/repos/octagon_analysis/Json_data/2024-10-17_14-28-40_ShamirAbigailSocial.json\n",
      "Loading complete.\n",
      "filepath: /Users/benny/Desktop/MSc/Project/Git/repos/octagon_analysis/Json_data/2024-10-17_16-41-38_ZimoElsaSocial.json\n",
      "Loading complete.\n",
      "filepath: /Users/benny/Desktop/MSc/Project/Git/repos/octagon_analysis/Json_data/2024-11-12_13-31-14_KhadijaWendySocial.json\n",
      "Loading complete.\n",
      "Preprocessing complete.\n",
      "Preprocessing complete.\n",
      "Preprocessing complete.\n",
      "Preprocessing complete.\n",
      "Preprocessing complete.\n"
     ]
    }
   ],
   "source": [
    "df, trial_list = prepare_data.prepare_combined_session_data(data_folder, json_filenames_all_social)"
   ]
  },
  {
   "cell_type": "code",
   "execution_count": 53,
   "id": "62d2972d-6a4a-4e3e-b539-5466bb4cd402",
   "metadata": {},
   "outputs": [
    {
     "name": "stdout",
     "output_type": "stream",
     "text": [
      "85\n",
      "117\n"
     ]
    }
   ],
   "source": [
    "#filter for trials \n",
    "\n",
    "#High-Low\n",
    "trial_list_indices = get_indices.get_trials_trialtype(trial_list, trial_type=globals.HIGH_LOW)\n",
    "trial_list_HL = [trial_list[i] for i in trial_list_indices]\n",
    "\n",
    "#45° wall separation\n",
    "single_wall_sep_trial_indices = get_indices.get_trials_with_wall_sep(trial_list_HL, wall_sep=1)\n",
    "trial_list_45_HL = [trial_list_HL[i] for i in single_wall_sep_trial_indices]\n",
    "\n",
    "#player 1 losses\n",
    "player1_loss_indices = get_indices.get_player_win_indices(trial_list_45_HL, player_id=0)\n",
    "trial_list_1L_45_HL = [trial_list_45_HL[i] for i in player1_loss_indices]\n",
    "print(len(trial_list_1L_45_HL))\n",
    "\n",
    "#player 0 losses\n",
    "player0_loss_indices = get_indices.get_player_win_indices(trial_list_45_HL, player_id=1)\n",
    "trial_list_0L_45_HL = [trial_list_45_HL[i] for i in player0_loss_indices]\n",
    "print(len(trial_list_0L_45_HL))"
   ]
  },
  {
   "cell_type": "code",
   "execution_count": 80,
   "id": "666f10cc-728f-4964-920b-444924f2760c",
   "metadata": {},
   "outputs": [],
   "source": [
    "#create new trial list containing trials with updated yaws and coordinates for p0\n",
    "p0L_updated_trial_list = flip_rotate_headangle_functions.process_and_update_trials(trial_list_0L_45_HL, 0)"
   ]
  },
  {
   "cell_type": "code",
   "execution_count": 81,
   "id": "c7967d77-9d1d-4897-8038-7dbb60e1a9b3",
   "metadata": {},
   "outputs": [],
   "source": [
    "#create new trial list containing trials with updated yaws and coordinates for p1\n",
    "p1L_updated_trial_list = flip_rotate_headangle_functions.process_and_update_trials(trial_list_1L_45_HL, 1)"
   ]
  },
  {
   "cell_type": "code",
   "execution_count": 82,
   "id": "9dd7c069-b5aa-47c0-831f-465e2d0c6da6",
   "metadata": {},
   "outputs": [],
   "source": [
    "#create new trial list containing trials with updated yaws and coordinates for p1\n",
    "p1W_updated_trial_list = flip_rotate_headangle_functions.process_and_update_trials(trial_list_0L_45_HL, 1)"
   ]
  },
  {
   "cell_type": "code",
   "execution_count": 83,
   "id": "f083b426-4d23-452b-90f8-f588cf7b71e9",
   "metadata": {},
   "outputs": [],
   "source": [
    "#create new trial list containing trials with updated yaws and coordinates for p1\n",
    "p0W_updated_trial_list = flip_rotate_headangle_functions.process_and_update_trials(trial_list_1L_45_HL, 0)"
   ]
  },
  {
   "cell_type": "code",
   "execution_count": null,
   "id": "e47bdcea-dfd0-497e-8742-768309f9b3bb",
   "metadata": {},
   "outputs": [],
   "source": [
    "#sort head angle into bin for all updated trials\n",
    "bin_assignments1 = headangle_bin_assignment.assign_bins_to_all_trials(trial_list=p1W_updated_trial_list, player_id=1)\n",
    "for idx, bin_index in enumerate(bin_assignments1):\n",
    "    print(f\"Trial {idx}: Bin {bin_index}\")"
   ]
  },
  {
   "cell_type": "code",
   "execution_count": null,
   "id": "d95c65d8-4469-4e62-b01e-980d74033a5f",
   "metadata": {},
   "outputs": [],
   "source": [
    "#sort head angle into bin for all updated trials\n",
    "bin_assignments0 = headangle_bin_assignment.assign_bins_to_all_trials(trial_list=p0W_updated_trial_list, player_id=0)\n",
    "for idx, bin_index in enumerate(bin_assignments0):\n",
    "    print(f\"Trial {idx}: Bin {bin_index}\")"
   ]
  },
  {
   "cell_type": "code",
   "execution_count": null,
   "id": "df362827-2d39-49e7-b8d6-6502deb84efa",
   "metadata": {},
   "outputs": [],
   "source": [
    "#sort head angle into bin for all updated trials\n",
    "bins_p0 = headangle_bin_assignment.assign_bins_to_all_trials(trial_list=p0L_updated_trial_list, player_id=0)\n",
    "for idx, bin_index in enumerate(bins_p0):\n",
    "    print(f\"Trial {idx}: Bin {bin_index}\")"
   ]
  },
  {
   "cell_type": "code",
   "execution_count": null,
   "id": "ffb7cdba-d671-4524-b3f1-223f1727a1e6",
   "metadata": {},
   "outputs": [],
   "source": [
    "#sort head angle into bin for all updated trials\n",
    "bins_p1 = headangle_bin_assignment.assign_bins_to_all_trials(trial_list=p1L_updated_trial_list, player_id=0)\n",
    "for idx, bin_index in enumerate(bins_p1):\n",
    "    print(f\"Trial {idx}: Bin {bin_index}\")"
   ]
  },
  {
   "cell_type": "code",
   "execution_count": 93,
   "id": "c14f65fb-705e-43ad-9774-16962c14099a",
   "metadata": {},
   "outputs": [],
   "source": [
    "player_choice0 = wall_visibility_and_choice.get_player_wall_choice(p0L_updated_trial_list, 0, inferred_choice=True, debug=False)\n",
    "player_choice1 = wall_visibility_and_choice.get_player_wall_choice(p1L_updated_trial_list, 1, inferred_choice=True, debug=False)"
   ]
  },
  {
   "cell_type": "code",
   "execution_count": 94,
   "id": "78c409f2-108f-4894-b267-b474b8875910",
   "metadata": {},
   "outputs": [],
   "source": [
    "given_wall_chosen_session0 = get_indices.was_given_wall_chosen(p0L_updated_trial_list, player_choice0, 0)"
   ]
  },
  {
   "cell_type": "code",
   "execution_count": 95,
   "id": "3b852051-4912-427e-b6b1-53f29095a563",
   "metadata": {},
   "outputs": [],
   "source": [
    "given_wall_chosen_session1 = get_indices.was_given_wall_chosen(p1L_updated_trial_list, player_choice1, 0)"
   ]
  },
  {
   "cell_type": "code",
   "execution_count": 108,
   "id": "fcac5cfc-e3ae-42c3-a696-33efcd28fb41",
   "metadata": {},
   "outputs": [
    {
     "name": "stdout",
     "output_type": "stream",
     "text": [
      "[0 0 1 0 0 0 0 0 0 0 0 1 1 0 1 0 0 0 0 0 0 1 0 0 1 0 0 0 0 0 0 0 0 0 0 0 0\n",
      " 0 0 1 0 0 0 0 1 0 0 0 0 1 0 0 0 0 0 0 0 0 0 0 0 0 0 0 0 0 0 0 1 0 0 1 0 0\n",
      " 0 0 0 0 1 0 0 0 0 1 0]\n"
     ]
    }
   ],
   "source": [
    "high_wall_chosen_l0 = given_wall_chosen_session0.astype(int)\n",
    "high_wall_chosen_l1 = given_wall_chosen_session1.astype(int)\n",
    "print(high_wall_chosen_l1)\n"
   ]
  },
  {
   "cell_type": "code",
   "execution_count": 109,
   "id": "f46373a9-5ce4-4b2f-844f-b48ff3ea9487",
   "metadata": {},
   "outputs": [
    {
     "name": "stdout",
     "output_type": "stream",
     "text": [
      "[1 1 1 0 1 1 1 1 1 1 1 0 1 1 1 1 1 1 0 1 1 1 1 1 0 1 1 1 1 1 1 1 0 1 0 1 0\n",
      " 1 1 1 1 1 1 0 1 1 1 1 1 1 1 1 1 0 1 1 1 0 1 1 1 1 1 1 1 1 1 0 0 1 1 1 0 0\n",
      " 1 0 0 1 1 0 1 0 1 0 1]\n",
      "<class 'numpy.int64'>\n"
     ]
    }
   ],
   "source": [
    "#determine which trials the winning player chose high\n",
    "HW_w0 = get_indices.was_high_wall_chosen(p0W_updated_trial_list) \n",
    "high_wall_chosen_w0 = np.array(HW_w0, dtype=int)\n",
    "HW_w1 = get_indices.was_high_wall_chosen(p1W_updated_trial_list)\n",
    "high_wall_chosen_w1 = np.array(HW_w1, dtype=int)\n",
    "print(high_wall_chosen_w0)"
   ]
  },
  {
   "cell_type": "code",
   "execution_count": 111,
   "id": "bf5257d7-f14a-483b-91fd-86e5620d2d14",
   "metadata": {},
   "outputs": [
    {
     "name": "stdout",
     "output_type": "stream",
     "text": [
      "[0.6056338028169014, 0.5833333333333334, 0.3617021276595745, 0.325, 0.32727272727272727, 0.32608695652173914, 0.5961538461538461, 0.6666666666666666]\n",
      "Bin 1: 0.61 (True/Total = 43/71)\n",
      "Bin 2: 0.58 (True/Total = 28/48)\n",
      "Bin 3: 0.36 (True/Total = 17/47)\n",
      "Bin 4: 0.33 (True/Total = 13/40)\n",
      "Bin 5: 0.33 (True/Total = 18/55)\n",
      "Bin 6: 0.33 (True/Total = 15/46)\n",
      "Bin 7: 0.60 (True/Total = 31/52)\n",
      "Bin 8: 0.67 (True/Total = 30/45)\n"
     ]
    }
   ],
   "source": [
    " #obtain ratios for how many times the winning player chose high given a head angle bin\n",
    "#over the number of trials overall with that head angle bin\n",
    "\n",
    "from collections import defaultdict\n",
    "\n",
    "#create dictionaries to store counts of True values and total trials per bin\n",
    "bin_true_counts = defaultdict(int) #number of times high wall was chosen given specific initial bin\n",
    "bin_total_counts = defaultdict(int) #number of trials in specific bin overall\n",
    "\n",
    "#bin assignments and high wall chosen for all trial lists\n",
    "trial_data_lists = [(bins_p0, high_wall_chosen_l0), \n",
    "                    (bins_p1, high_wall_chosen_l1),\n",
    "                    (bin_assignments0, high_wall_chosen_w0), \n",
    "                    (bin_assignments1, high_wall_chosen_w1)]\n",
    "\n",
    "#iterate through all provided trial lists\n",
    "for bin_assignments, high_wall_chosen in trial_data_lists:\n",
    "\n",
    "    #iterate over both lists simultaneously for the current trial list\n",
    "    for bin_index, is_high_wall_chosen in zip(bin_assignments, high_wall_chosen):\n",
    "        bin_total_counts[bin_index] += 1  #increment total trial count for the bin\n",
    "        \n",
    "        if is_high_wall_chosen:          #increment True count if high wall is chosen\n",
    "            bin_true_counts[bin_index] += 1\n",
    "\n",
    "#calculate the ratio for each bin\n",
    "bin_probabilities = {bin_index: bin_true_counts[bin_index] / bin_total_counts[bin_index]\n",
    "              for bin_index in sorted(bin_total_counts)}\n",
    " \n",
    "#convert the dictionary to a list of values\n",
    "bin_probabilities_list = list(bin_probabilities.values())\n",
    "\n",
    "#order by bin index\n",
    "probabilities_list = [bin_probabilities[bin_index] for bin_index in sorted(bin_total_counts)]\n",
    "\n",
    "print(probabilities_list)\n",
    "\n",
    "#print the results\n",
    "for bin_index, probability in sorted(bin_probabilities.items()):\n",
    "    print(f\"Bin {bin_index}: {probability:.2f} (True/Total = {bin_true_counts[bin_index]}/{bin_total_counts[bin_index]})\")\n",
    "\n"
   ]
  },
  {
   "cell_type": "code",
   "execution_count": 112,
   "id": "2f28c797-a6b0-46fa-84c5-0422b45b079a",
   "metadata": {},
   "outputs": [
    {
     "name": "stdout",
     "output_type": "stream",
     "text": [
      "[(np.float64(5.8904862254808625), np.float64(0.3926990816987242)), (np.float64(0.39269908169872414), np.float64(1.1780972450961724)), (np.float64(1.1780972450961726), np.float64(1.963495408493621)), (np.float64(1.9634954084936211), np.float64(2.7488935718910694)), (np.float64(2.748893571891069), np.float64(3.5342917352885173)), (np.float64(3.5342917352885173), np.float64(4.319689898685965)), (np.float64(4.319689898685965), np.float64(5.105088062083414)), (np.float64(5.105088062083414), np.float64(5.890486225480862))]\n"
     ]
    }
   ],
   "source": [
    "bin_ranges = headangle_bin_assignment.define_45_degree_bins()\n",
    "print(bin_ranges)"
   ]
  },
  {
   "cell_type": "code",
   "execution_count": 114,
   "id": "65abfff2-5798-4850-94ac-a1f9c696075c",
   "metadata": {},
   "outputs": [
    {
     "name": "stdout",
     "output_type": "stream",
     "text": [
      "195\n",
      "404\n",
      "0.48267326732673266\n"
     ]
    }
   ],
   "source": [
    "#calculate average p(H) regardless of bin\n",
    "\n",
    "from collections import defaultdict\n",
    "\n",
    "#initialize counters for the total high wall choices and total trials overall\n",
    "true_counts = 0\n",
    "total_counts = 0\n",
    "\n",
    "#bin assignments and high wall chosen for all trial lists\n",
    "trial_data_lists = [(bins_p0, high_wall_chosen_l0), \n",
    "                    (bins_p1, high_wall_chosen_l1),\n",
    "                    (bin_assignments0, high_wall_chosen_w0), \n",
    "                    (bin_assignments1, high_wall_chosen_w1)]\n",
    "\n",
    "\n",
    "#iterate through all provided trial lists\n",
    "for bin_assignments, high_wall_chosen in trial_data_lists:\n",
    "\n",
    "    #iterate over both lists simultaneously for the current trial list\n",
    "    for is_high_wall_chosen in high_wall_chosen:\n",
    "        total_counts += 1  #increment total trial count for the bin\n",
    "        \n",
    "        if is_high_wall_chosen:          #increment True count if high wall is chosen\n",
    "            true_counts += 1\n",
    "\n",
    "#calculate the average ratio \n",
    "print(true_counts)\n",
    "print(total_counts)\n",
    "overall_probability = true_counts / total_counts\n",
    "\n",
    "print(overall_probability)\n"
   ]
  },
  {
   "cell_type": "code",
   "execution_count": 115,
   "id": "bd932330-0432-4f5a-a2e1-6a3d17fb846b",
   "metadata": {},
   "outputs": [
    {
     "name": "stdout",
     "output_type": "stream",
     "text": [
      "[0.12296053549016872, 0.10066006600660071, -0.12097113966715817, -0.15767326732673265, -0.1554005400540054, -0.15658631080499352, 0.11348057882711349, 0.18399339933993397]\n"
     ]
    }
   ],
   "source": [
    "#obtain difference between p(H) given bin and average p(H)\n",
    "\n",
    "new_probabilities_list = [probability - overall_probability for probability in probabilities_list]\n",
    "print(new_probabilities_list)"
   ]
  },
  {
   "cell_type": "code",
   "execution_count": 116,
   "id": "f3b2804d-bcdd-4081-bffe-626f8f845caa",
   "metadata": {},
   "outputs": [
    {
     "name": "stdout",
     "output_type": "stream",
     "text": [
      "(2, 8)\n"
     ]
    },
    {
     "data": {
      "image/png": "[encoded data removed]",
      "text/plain": [
       "<Figure size 640x480 with 1 Axes>"
      ]
     },
     "metadata": {},
     "output_type": "display_data"
    }
   ],
   "source": [
    "#plot octagon with new ratios list \n",
    "ax = plot_octagon.plot_octagon()\n",
    "\n",
    "#define ratios list\n",
    "new_probabilities_list = new_probabilities_list\n",
    "\n",
    "#plot the ratios under the alcoves\n",
    "ax = headangle_analysis_plotting_functions.plot_ratios_under_alcoves(ax, new_probabilities_list)\n",
    "\n",
    "plt.show()\n"
   ]
  },
  {
   "cell_type": "code",
   "execution_count": 117,
   "id": "cb882eba-6472-4a95-b39c-64b46d2bbd41",
   "metadata": {},
   "outputs": [
    {
     "name": "stdout",
     "output_type": "stream",
     "text": [
      "(2, 8)\n"
     ]
    },
    {
     "data": {
      "image/png": "[encoded data removed]",
      "text/plain": [
       "<Figure size 600x600 with 2 Axes>"
      ]
     },
     "metadata": {},
     "output_type": "display_data"
    },
    {
     "name": "stdout",
     "output_type": "stream",
     "text": [
      "[0.12296053549016872, 0.10066006600660071, -0.12097113966715817, -0.15767326732673265, -0.1554005400540054, -0.15658631080499352, 0.11348057882711349, 0.18399339933993397]\n"
     ]
    }
   ],
   "source": [
    "#plot color gradient octagon for new ratios list\n",
    "\n",
    "fig, ax = plt.subplots(figsize=(6, 6))\n",
    "\n",
    "#plot octagon\n",
    "ax = plot_octagon.plot_octagon(ax=ax)\n",
    "\n",
    "#define bin_ranges\n",
    "bin_ranges = bin_ranges\n",
    "\n",
    "\n",
    "#define ratios list\n",
    "new_probabilities_list = new_probabilities_list\n",
    "new_probabilities_list_reversed = new_probabilities_list[::-1]\n",
    "\n",
    "#color the segments of the octagon\n",
    "ax = headangle_analysis_plotting_functions.plot_colored_octagon(ax, bin_ranges, new_probabilities_list)\n",
    "\n",
    "#plot the ratios under the alcoves\n",
    "ax = headangle_analysis_plotting_functions.plot_ratios_under_alcoves(ax, new_probabilities_list)\n",
    "\n",
    "#add wall labels\n",
    "alcove_centers = plot_octagon.return_alcove_centre_points()\n",
    "\n",
    "alcove_center1_x, alcove_center1_y = alcove_centers[:,0]\n",
    "alcove_center2_x, alcove_center2_y = alcove_centers[:,1]\n",
    "\n",
    "ax.text(alcove_center1_x, alcove_center1_y + 5, f'{\"High\"}', \n",
    "                ha='center', va='center', fontsize=14, color='Blue')\n",
    "ax.text(alcove_center2_x + 3, alcove_center2_y + 5, f'{\"Low\"}', \n",
    "                ha='center', va='center', fontsize=14, color='Red')\n",
    "\n",
    "#add a colorbar for reference\n",
    "sm = plt.cm.ScalarMappable(cmap=cm.RdBu, norm=plt.Normalize(vmin=min(new_probabilities_list), vmax=max(new_probabilities_list)))\n",
    "sm.set_array([])  # Only necessary for ScalarMappable\n",
    "cbar = plt.colorbar(sm, ax=ax, shrink=0.8)\n",
    "cbar.set_label(\"p(H) - P(H)\", rotation=270, labelpad=15)\n",
    "\n",
    "plt.title(f\"P(H) = ({overall_probability})\")\n",
    "plt.axis('equal')\n",
    "plt.axis('off')\n",
    "plt.show()\n",
    "print(new_probabilities_list)"
   ]
  },
  {
   "cell_type": "code",
   "execution_count": null,
   "id": "822b8b73-9ed2-4c63-bf57-cf43c8edd995",
   "metadata": {},
   "outputs": [],
   "source": []
  }
 ],
 "metadata": {
  "kernelspec": {
   "display_name": "Python 3 (ipykernel)",
   "language": "python",
   "name": "python3"
  },
  "language_info": {
   "codemirror_mode": {
    "name": "ipython",
    "version": 3
   },
   "file_extension": ".py",
   "mimetype": "text/x-python",
   "name": "python",
   "nbconvert_exporter": "python",
   "pygments_lexer": "ipython3",
   "version": "3.13.0"
  }
 },
 "nbformat": 4,
 "nbformat_minor": 5
}
