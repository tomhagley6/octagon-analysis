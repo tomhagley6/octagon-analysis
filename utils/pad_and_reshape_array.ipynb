{
 "cells": [
  {
   "cell_type": "code",
   "execution_count": 1,
   "metadata": {},
   "outputs": [],
   "source": [
    "import numpy as np"
   ]
  },
  {
   "cell_type": "code",
   "execution_count": 3,
   "metadata": {},
   "outputs": [],
   "source": [
    "def pad_and_reshape_array(array, n_cols, pad_val=np.nan):\n",
    "    ''' Take an array of any size, and a specified number of columns for the output\n",
    "        array.\n",
    "        Return the same array, padded with np.nan (default) so that the array is full\n",
    "        to the specified number of columns '''\n",
    "    \n",
    "    if array.size % n_cols != 0:\n",
    "        padding = n_cols - (array.size % n_cols)\n",
    "        array_padded = np.pad(array, (0,padding), mode='constant', constant_values=np.nan)\n",
    "\n",
    "    array_reshaped = array_padded.reshape((-1,n_cols))\n",
    "\n",
    "    return array_reshaped"
   ]
  }
 ],
 "metadata": {
  "kernelspec": {
   "display_name": "octagon_analysis",
   "language": "python",
   "name": "python3"
  },
  "language_info": {
   "codemirror_mode": {
    "name": "ipython",
    "version": 3
   },
   "file_extension": ".py",
   "mimetype": "text/x-python",
   "name": "python",
   "nbconvert_exporter": "python",
   "pygments_lexer": "ipython3",
   "version": "3.12.5"
  }
 },
 "nbformat": 4,
 "nbformat_minor": 2
}
