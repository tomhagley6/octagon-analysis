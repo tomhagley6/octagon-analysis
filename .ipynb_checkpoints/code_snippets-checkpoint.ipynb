{
 "cells": [
  {
   "cell_type": "code",
   "execution_count": null,
   "id": "8a7c3cc6-c33c-4067-b4c6-0d9052e71c5b",
   "metadata": {},
   "outputs": [],
   "source": [
    "import json\n",
    "import datetime.datetime as datetime"
   ]
  },
  {
   "cell_type": "code",
   "execution_count": null,
   "id": "a9fedd89-8e7f-4ea8-a2e6-f3cea3271b20",
   "metadata": {},
   "outputs": [],
   "source": [
    "### convert time data from string to datetime after loading the JSON file into a python object ###"
   ]
  },
  {
   "cell_type": "code",
   "execution_count": null,
   "id": "fda0bfd2-9a88-4a39-860f-ad0f1b7ee3b5",
   "metadata": {},
   "outputs": [],
   "source": [
    "## specify data path\n",
    "# data_folder = '/home/tom/Documents/SWC/data' # desktop Duan Lab\n",
    "# json_filename = '240913_Yansu_Jerry/2024-09-13_11-23-37_YansuFirstSolo.json' \n",
    "data_folder = r'D:\\Users\\Tom\\OneDrive\\PhD\\SWC\\data' # desktop home\n",
    "json_filename = r'first_experiments_2409\\240913\\2024-09-13_11-23-37_YansuFirstSolo.json'\n",
    "\n",
    "filepath = data_folder + os.sep + json_filename\n",
    "\n",
    "with open(filepath) as f:\n",
    "\n",
    "    ## load file\n",
    "    file = json.load(f)\n",
    "    print(file[0])\n",
    "\n",
    "    ## Store timeLocal (UTC) as DateTime objects\n",
    "    # split time string\n",
    "    start_time_utc_str = file[0]['timeLocal']\n",
    "    start_time_utc_split = start_time_utc_str.split(':')\n",
    "    hours = int(start_time_utc_split[0])\n",
    "    minutes = int(start_time_utc_split[1])\n",
    "    seconds = int(start_time_utc_split[2])\n",
    "    microseconds = int(start_time_utc_split[3])*1000 # must use microseconds for DateTime\n",
    "\n",
    "    # convert to datetime object\n",
    "    base_time = datetime(1970,1,1) # always need a reference date\n",
    "    start_time_utc = base_time + timedelta(hours=hours, minutes=minutes, seconds=seconds, microseconds=microseconds)\n",
    "\n",
    "    # convert back to string of correct precision (10e-3)\n",
    "    print(start_time_utc.strftime('%H:%M:%S.%f')[:-3])\n",
    "\n",
    "    ## repeat conversion to DateTime applicationTime\n",
    "    ## but here use just a TimeDelta as there is no reference to any date\n",
    "    start_time_app_str = file[0]['timeApplication']\n",
    "    start_time_app_split = start_time_app_str.split('.')\n",
    "    seconds = int(start_time_app_split[0])\n",
    "    microseconds = int(start_time_app_split[1])*1000 # must use microseconds for datetime\n",
    "\n",
    "    start_time_app = timedelta(seconds=seconds + microseconds/1000000)\n",
    "    print(str(start_time_app)[:-3])\n",
    "\n",
    "    print(file[0].keys())\n"
   ]
  }
 ],
 "metadata": {
  "kernelspec": {
   "display_name": "Python 3 (ipykernel)",
   "language": "python",
   "name": "python3"
  },
  "language_info": {
   "codemirror_mode": {
    "name": "ipython",
    "version": 3
   },
   "file_extension": ".py",
   "mimetype": "text/x-python",
   "name": "python",
   "nbconvert_exporter": "python",
   "pygments_lexer": "ipython3",
   "version": "3.12.5"
  }
 },
 "nbformat": 4,
 "nbformat_minor": 5
}
