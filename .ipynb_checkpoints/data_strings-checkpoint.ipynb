{
 "cells": [
  {
   "cell_type": "code",
   "execution_count": null,
   "id": "f6bfbfd1-99e9-4150-80ea-e2ee57304912",
   "metadata": {},
   "outputs": [],
   "source": [
    "# all solos\n",
    "json_filenames = [r'first_experiments_2409\\240913\\2024-09-13_11-23-37_YansuFirstSolo.json',\n",
    "                  r'first_experiments_2409\\240913\\2024-09-13_11-53-34_YansuSecondSolo.json',\n",
    "                  r'first_experiments_2409\\240913\\2024-09-13_11-23-50_JerryFirstSolo.json',\n",
    "                  r'first_experiments_2409\\240913\\2024-09-13_11-53-56_JerrySecondSolo.json',\n",
    "                  \n",
    "                  r'second_experiments_2409\\240927\\2024-09-27_14-14-31_SaraFirstSolo.json',\n",
    "                  r'second_experiments_2409\\240927\\2024-09-27_14-45-55_SaraSecondSolo.json',\n",
    "                  r'second_experiments_2409\\240927\\2024-09-27_14-14-42_EmilyFirstSolo.json',\n",
    "                  r'second_experiments_2409\\240927\\2024-09-27_14-45-46_EmilySecondSolo.json',\n",
    "                                    \n",
    "                  r'third_experiments_2410\\241017\\2024-10-17_14-20-28_ShamirFirstSolo.json',\n",
    "                  r'third_experiments_2410\\241017\\2024-10-17_14-50-03_ShamirSecondSolo.json',\n",
    "                  r'third_experiments_2410\\241017\\2024-10-17_14-20-50_AbigailFirstSolo.json',\n",
    "                  r'third_experiments_2410\\241017\\2024-10-17_14-51-22_AbigailSecondSolo.json',\n",
    "\n",
    "                  r'fourth_experiments_2410\\241017\\2024-10-17_16-35-45_ElsaFirstSolo.json',\n",
    "                  r'fourth_experiments_2410\\241017\\2024-10-17_17-12-29_ElsaSecondSolo.json',\n",
    "                  r'fourth_experiments_2410\\241017\\2024-10-17_16-36-0_ZimoFirstSolo.json',\n",
    "                  r'fourth_experiments_2410\\241017\\2024-10-17_17-11-46_ZimoSecondSolo.json']\n",
    "\n",
    "# all socials\n",
    " json_filenames = [r'first_experiments_2409\\240913\\2024-09-13_11-31-00_YansuJerrySocial.json',\n",
    "                   r'second_experiments_2409\\240927\\2024-09-27_14-25-20_SaraEmilySocial.json',\n",
    "                   r'third_experiments_2410\\241017\\2024-10-17_14-28-40_ShamirAbigailSocial.json',\n",
    "                   r'fourth_experiments_2410\\241017\\2024-10-17_16-41-38_ZimoElsaSocial.json']"
   ]
  }
 ],
 "metadata": {
  "kernelspec": {
   "display_name": "Python 3 (ipykernel)",
   "language": "python",
   "name": "python3"
  },
  "language_info": {
   "codemirror_mode": {
    "name": "ipython",
    "version": 3
   },
   "file_extension": ".py",
   "mimetype": "text/x-python",
   "name": "python",
   "nbconvert_exporter": "python",
   "pygments_lexer": "ipython3",
   "version": "3.12.5"
  }
 },
 "nbformat": 4,
 "nbformat_minor": 5
}
