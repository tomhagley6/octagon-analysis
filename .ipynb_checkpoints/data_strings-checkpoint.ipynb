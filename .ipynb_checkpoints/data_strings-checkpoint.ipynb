{
 "cells": [
  {
   "cell_type": "code",
   "execution_count": null,
   "id": "f6bfbfd1-99e9-4150-80ea-e2ee57304912",
   "metadata": {},
   "outputs": [],
   "source": [
    "# first experiment solos\n",
    "json_filenames = [r'first_experiments_2409\\240913\\2024-09-13_11-23-37_YansuFirstSolo.json',\n",
    "                  r'first_experiments_2409\\240913\\2024-09-13_11-23-50_JerryFirstSolo.json',\n",
    "                  r'first_experiments_2409\\240913\\2024-09-13_11-53-34_YansuSecondSolo.json',\n",
    "                  r'first_experiments_2409\\240913\\2024-09-13_11-53-56_JerrySecondSolo.json']\n",
    "\n",
    "# all socials\n",
    " json_filenames = [r'first_experiments_2409\\240913\\2024-09-13_11-31-00_YansuJerrySocial.json',\n",
    "                   r'second_experiments_2409\\240927\\2024-09-27_14-25-20_SaraEmilySocial.json',\n",
    "                   r'third_experiments_2410\\241017\\2024-10-17_14-28-40_ShamirAbigailSocial.json',\n",
    "                   r'fourth_experiments_2410\\241017\\2024-10-17_16-41-38_ZimoElsaSocial.json']"
   ]
  }
 ],
 "metadata": {
  "kernelspec": {
   "display_name": "Python 3 (ipykernel)",
   "language": "python",
   "name": "python3"
  },
  "language_info": {
   "codemirror_mode": {
    "name": "ipython",
    "version": 3
   },
   "file_extension": ".py",
   "mimetype": "text/x-python",
   "name": "python",
   "nbconvert_exporter": "python",
   "pygments_lexer": "ipython3",
   "version": "3.12.5"
  }
 },
 "nbformat": 4,
 "nbformat_minor": 5
}
