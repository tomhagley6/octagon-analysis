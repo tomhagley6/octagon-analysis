{
 "cells": [
  {
   "cell_type": "code",
   "execution_count": 43,
   "id": "5a3de924-c01b-4ba9-9cdd-a7b51b7c7e30",
   "metadata": {},
   "outputs": [],
   "source": [
    "import math\n",
    "import numpy as np\n",
    "from matplotlib import pyplot as plt"
   ]
  },
  {
   "cell_type": "code",
   "execution_count": null,
   "id": "cdb8ece3-0a14-411a-b6e5-6898589c4212",
   "metadata": {},
   "outputs": [],
   "source": [
    "#### Plot octagon arena ####"
   ]
  },
  {
   "cell_type": "code",
   "execution_count": 20,
   "id": "ddace2ed-a1ce-44c6-bcf9-3e523048ea1f",
   "metadata": {},
   "outputs": [],
   "source": [
    "### define octagon coordinates"
   ]
  },
  {
   "cell_type": "code",
   "execution_count": 21,
   "id": "bccda105-e974-4a09-98ca-92ee74a63104",
   "metadata": {},
   "outputs": [],
   "source": [
    "## variables\n",
    "num_walls = 8\n",
    "diameter = 36.21\n",
    "radius = diameter/2\n",
    "angle_sep = 2*math.pi/8       # angle between walls\n",
    "vertex_offset = angle_sep/2\n"
   ]
  },
  {
   "cell_type": "code",
   "execution_count": 22,
   "id": "2761494f-03d8-49da-a128-620044550930",
   "metadata": {},
   "outputs": [],
   "source": [
    "## calculate vertex coordinates\n",
    "\n",
    "# for vertex coordinates: x\n",
    "vertex_x = []\n",
    "\n",
    "for i in range(num_walls):\n",
    "    ang = i*angle_sep\n",
    "    coord = math.sin(ang + vertex_offset)*radius\n",
    "    vertex_x.append(coord)\n",
    "vertex_x.append(vertex_x[0]) # repeat starting point for plotting\n",
    "\n",
    "# for vertex coordinates: y\n",
    "vertex_y = []\n",
    "for i in range(num_walls):\n",
    "    ang = i*angle_sep\n",
    "    coord = math.cos(ang + vertex_offset)*radius\n",
    "    vertex_y.append(coord)\n",
    "vertex_y.append(vertex_y[0]) # repeat starting point for plotting"
   ]
  },
  {
   "cell_type": "code",
   "execution_count": 25,
   "id": "268128c4-b68f-44a4-b5df-ce90f0d215f2",
   "metadata": {},
   "outputs": [
    {
     "name": "stdout",
     "output_type": "stream",
     "text": [
      "[0.0, 12.802168273382444, 18.105, 12.802168273382444, 2.217223029856283e-15, -12.802168273382442, -18.105, -12.802168273382446, 0.0]\n"
     ]
    }
   ],
   "source": [
    "## calculate centre-wall coordinates\n",
    "# Note that this is just a rotation of vertex coordinates by vertex_offset\n",
    "\n",
    "# for centre-wall coordinates: x\n",
    "centre_wall_x = []\n",
    "\n",
    "for i in range(num_walls):\n",
    "    ang = i*angle_sep\n",
    "    coord = math.sin(ang)*radius\n",
    "    centre_wall_x.append(coord)\n",
    "centre_wall_x.append(centre_wall_x[0]) # repeat starting point for plotting\n",
    "print(centre_wall_x)\n",
    "\n",
    "# for centre-wall coordinates: y\n",
    "centre_wall_y = []\n",
    "for i in range(num_walls):\n",
    "    ang = i*angle_sep\n",
    "    coord = math.cos(ang)*radius\n",
    "    centre_wall_y.append(coord)\n",
    "centre_wall_y.append(centre_wall_y[0]) # repeat starting point for plotting"
   ]
  },
  {
   "cell_type": "code",
   "execution_count": null,
   "id": "f749a54f-46de-411c-a969-b682e551dc89",
   "metadata": {},
   "outputs": [],
   "source": [
    "### plot standard octagon"
   ]
  },
  {
   "cell_type": "code",
   "execution_count": 35,
   "id": "ff11ee1b-0164-4520-b4ae-1af7ceb293b5",
   "metadata": {},
   "outputs": [
    {
     "data": {
      "image/png": "[encoded data removed]",
      "text/plain": [
       "<Figure size 640x480 with 1 Axes>"
      ]
     },
     "metadata": {},
     "output_type": "display_data"
    }
   ],
   "source": [
    "plt.plot(vertex_x, vertex_y)\n",
    "plt.plot(vertex_x_thirds, vertex_y_thirds)\n",
    "plt.gca().set_aspect(1.)"
   ]
  },
  {
   "cell_type": "code",
   "execution_count": null,
   "id": "ea3b1983-e0b7-46b9-81a0-245b99e83ef3",
   "metadata": {},
   "outputs": [],
   "source": [
    "### define octagon coordinates with alcoves"
   ]
  },
  {
   "cell_type": "code",
   "execution_count": 34,
   "id": "6f04793f-2107-4fe4-a0f7-7599eef0a11e",
   "metadata": {},
   "outputs": [],
   "source": [
    "## use linear interpolation to find 1/3 and 2/3 coordinates for each wall\n",
    "vertex_x_one_third = []\n",
    "vertex_y_one_third = []\n",
    "for i in range(num_walls):\n",
    "    vertex_x_one_third.append((2/3)*vertex_x[i] + (1/3)*vertex_x[i+1])\n",
    "    vertex_y_one_third.append((2/3)*vertex_y[i] + (1/3)*vertex_y[i+1])\n",
    "\n",
    "vertex_x_two_thirds = []\n",
    "vertex_y_two_thirds = []\n",
    "for i in range(num_walls):\n",
    "    vertex_x_two_thirds.append((1/3)*vertex_x[i] + (2/3)*vertex_x[i+1])\n",
    "    vertex_y_two_thirds.append((1/3)*vertex_y[i] + (2/3)*vertex_y[i+1])\n",
    "\n",
    "vertex_x_thirds = vertex_x_one_third + vertex_x_two_thirds\n",
    "vertex_y_thirds = vertex_y_one_third + vertex_y_two_thirds\n",
    "\n",
    "# interleave the one-thirds and two-thirds lists\n",
    "lists_x = [vertex_x_one_third, vertex_x_two_thirds]\n",
    "vertex_x_thirds = [val for tup in zip(*lists_x) for val in tup] \n",
    "\n",
    "# repeat for y\n",
    "lists_y = [vertex_y_one_third, vertex_y_two_thirds]\n",
    "vertex_y_thirds = [val for tup in zip(*lists_y) for val in tup] \n"
   ]
  },
  {
   "cell_type": "code",
   "execution_count": 46,
   "id": "1e5cfbe9-61f8-45a2-b601-785b8ebfcd09",
   "metadata": {},
   "outputs": [
    {
     "name": "stdout",
     "output_type": "stream",
     "text": [
      "0\n",
      "2\n",
      "4\n",
      "6\n",
      "8\n",
      "10\n",
      "12\n",
      "14\n",
      "[ 2.41421356  0.41421356 -0.41421356 -2.41421356  2.41421356  0.41421356\n",
      " -0.41421356 -2.41421356]\n",
      "[-0.41421356 -2.41421356  2.41421356  0.41421356 -0.41421356 -2.41421356\n",
      "  2.41421356  0.41421356]\n"
     ]
    }
   ],
   "source": [
    "## calculate gradient of tangent\n",
    "# first calculate gradient of each wall \n",
    "gradients = []\n",
    "inverse_gradients = []\n",
    "x_diffs = []\n",
    "y_diffs =[]\n",
    "\n",
    "for i in range(0,len(vertex_x_thirds), 2):\n",
    "    print(i)\n",
    "    diff_x = (vertex_x_thirds[i] + vertex_x_thirds[i+1])/2\n",
    "    diff_y = (vertex_y_thirds[i] + vertex_y_thirds[i+1])/2\n",
    "    x_diffs.append(diff_x)\n",
    "    y_diffs.append(diff_y)\n",
    "\n",
    "x_diffs = np.array(x_diffs)\n",
    "y_diffs = np.array(y_diffs)\n",
    "gradients = np.zeros(len(x_diffs))\n",
    "inverse_gradients = np.zeros(len(x_diffs))\n",
    "\n",
    "\n",
    "# for i in range(len(x_diffs)):\n",
    "#     gradients.append(y_diffs[i]/x_diffs[i])\n",
    "\n",
    "gradients = y_diffs/x_diffs\n",
    "inverse_gradients = -(1/gradients)\n",
    "\n",
    "print(gradients)\n",
    "print(inverse_gradients)\n",
    "\n",
    "## find coordinates that follow the inverse gradients from 1/3 and 2/3 along each line\n",
    "## for a length equal to 1/3 line\n",
    "        ## TODO\n",
    "    "
   ]
  },
  {
   "cell_type": "code",
   "execution_count": null,
   "id": "b4232639-4cc3-435a-9732-62cc3839da0e",
   "metadata": {},
   "outputs": [],
   "source": []
  }
 ],
 "metadata": {
  "kernelspec": {
   "display_name": "Python 3 (ipykernel)",
   "language": "python",
   "name": "python3"
  },
  "language_info": {
   "codemirror_mode": {
    "name": "ipython",
    "version": 3
   },
   "file_extension": ".py",
   "mimetype": "text/x-python",
   "name": "python",
   "nbconvert_exporter": "python",
   "pygments_lexer": "ipython3",
   "version": "3.12.5"
  }
 },
 "nbformat": 4,
 "nbformat_minor": 5
}
